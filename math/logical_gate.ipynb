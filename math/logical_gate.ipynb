{
  "cells": [
    {
      "cell_type": "markdown",
      "metadata": {
        "id": "view-in-github",
        "colab_type": "text"
      },
      "source": [
        "<a href=\"https://colab.research.google.com/github/y001003/yeardream/blob/main/math/logical_gate.ipynb\" target=\"_parent\"><img src=\"https://colab.research.google.com/assets/colab-badge.svg\" alt=\"Open In Colab\"/></a>"
      ]
    },
    {
      "cell_type": "code",
      "execution_count": null,
      "metadata": {
        "id": "I-ORO27SkmnL"
      },
      "outputs": [],
      "source": [
        "import numpy as np"
      ]
    },
    {
      "cell_type": "code",
      "execution_count": null,
      "metadata": {
        "id": "eBlGOmuv4c9W"
      },
      "outputs": [],
      "source": [
        "def activation(z):\n",
        "    return 1 / (1+np.exp(-z))"
      ]
    },
    {
      "cell_type": "code",
      "execution_count": null,
      "metadata": {
        "id": "volv9Df04T-L"
      },
      "outputs": [],
      "source": [
        "def AND(x,y):\n",
        "    wx = 20\n",
        "    wy = 20\n",
        "    bias = -30\n",
        "\n",
        "    if activation((wx*x + wy*y + bias)) < 0.5: \n",
        "        return 0\n",
        "    else: \n",
        "        return 1"
      ]
    },
    {
      "cell_type": "code",
      "execution_count": null,
      "metadata": {
        "id": "ccQvTbAA4vHI",
        "outputId": "deca9eaa-a06e-4f6f-a034-9791432b5de7"
      },
      "outputs": [
        {
          "name": "stdout",
          "output_type": "stream",
          "text": [
            "x=0, y=0: 0\n",
            "x=0, y=1: 0\n",
            "x=1, y=0: 0\n",
            "x=1, y=1: 1\n"
          ]
        }
      ],
      "source": [
        "print(f\"x=0, y=0: {AND(0,0)}\")\n",
        "print(f\"x=0, y=1: {AND(0,1)}\")\n",
        "print(f\"x=1, y=0: {AND(1,0)}\")\n",
        "print(f\"x=1, y=1: {AND(1,1)}\")"
      ]
    },
    {
      "cell_type": "code",
      "execution_count": null,
      "metadata": {
        "id": "Iim-eBjK45GZ"
      },
      "outputs": [],
      "source": [
        "def OR(x,y):\n",
        "    # or 게이트로 작동하기위한 웨이트값 코딩 [+]\n",
        "    wx = 20\n",
        "    wy = 20\n",
        "    bias = -10\n",
        "\n",
        "    if activation((wx*x + wy*y + bias)) < 0.5: \n",
        "        return 0\n",
        "    else: \n",
        "        return 1"
      ]
    },
    {
      "cell_type": "code",
      "execution_count": null,
      "metadata": {
        "id": "-o565V8i49g8",
        "outputId": "6e075dd6-6044-4498-a9f3-7bf43a4d47a0"
      },
      "outputs": [
        {
          "name": "stdout",
          "output_type": "stream",
          "text": [
            "x=0, y=0: 0\n",
            "x=0, y=1: 1\n",
            "x=1, y=0: 1\n",
            "x=1, y=1: 1\n"
          ]
        }
      ],
      "source": [
        "print(f\"x=0, y=0: {OR(0,0)}\")\n",
        "print(f\"x=0, y=1: {OR(0,1)}\")\n",
        "print(f\"x=1, y=0: {OR(1,0)}\")\n",
        "print(f\"x=1, y=1: {OR(1,1)}\")"
      ]
    },
    {
      "cell_type": "code",
      "execution_count": null,
      "metadata": {
        "id": "Pir_UHxF5E8y"
      },
      "outputs": [],
      "source": [
        "def NAND(x,y):\n",
        "    wx = -20\n",
        "    wy = -20\n",
        "    bias = 30\n",
        "\n",
        "    if activation((wx*x + wy*y + bias)) < 0.5: \n",
        "        return 0\n",
        "    else: \n",
        "        return 1"
      ]
    },
    {
      "cell_type": "code",
      "execution_count": null,
      "metadata": {
        "id": "BtVaVGzU5KTK",
        "outputId": "735a5a58-7a0c-4350-b14c-41cbedabb6fc"
      },
      "outputs": [
        {
          "name": "stdout",
          "output_type": "stream",
          "text": [
            "x=0, y=0: 1\n",
            "x=0, y=1: 1\n",
            "x=1, y=0: 1\n",
            "x=1, y=1: 0\n"
          ]
        }
      ],
      "source": [
        "print(f\"x=0, y=0: {NAND(0,0)}\")\n",
        "print(f\"x=0, y=1: {NAND(0,1)}\")\n",
        "print(f\"x=1, y=0: {NAND(1,0)}\")\n",
        "print(f\"x=1, y=1: {NAND(1,1)}\")"
      ]
    },
    {
      "cell_type": "code",
      "execution_count": null,
      "metadata": {
        "id": "xB_rkU0P5QPG"
      },
      "outputs": [],
      "source": [
        "def NOR(x,y):\n",
        "    wx = -20\n",
        "    wy = -20\n",
        "    bias = 10\n",
        "\n",
        "    if activation((wx*x + wy*y + bias)) < 0.5: \n",
        "        return 0\n",
        "    else: \n",
        "        return 1"
      ]
    },
    {
      "cell_type": "code",
      "execution_count": null,
      "metadata": {
        "id": "wPnmTdE75SwG",
        "outputId": "6f460f58-a701-454b-daae-e89bf089553b"
      },
      "outputs": [
        {
          "name": "stdout",
          "output_type": "stream",
          "text": [
            "x=0, y=0: 1\n",
            "x=0, y=1: 0\n",
            "x=1, y=0: 0\n",
            "x=1, y=1: 0\n"
          ]
        }
      ],
      "source": [
        "print(f\"x=0, y=0: {NOR(0,0)}\")\n",
        "print(f\"x=0, y=1: {NOR(0,1)}\")\n",
        "print(f\"x=1, y=0: {NOR(1,0)}\")\n",
        "print(f\"x=1, y=1: {NOR(1,1)}\")"
      ]
    },
    {
      "cell_type": "code",
      "execution_count": null,
      "metadata": {
        "id": "KhbpuS5i5bMA"
      },
      "outputs": [],
      "source": [
        "def XOR1(x, y):\n",
        "    a = NOR(x,x)\n",
        "    b = NOR(y,y)\n",
        "    c = NOR(a,b)\n",
        "    d = NOR(x,y)\n",
        "    e = NOR(c,d)\n",
        "\n",
        "    return e"
      ]
    },
    {
      "cell_type": "code",
      "execution_count": null,
      "metadata": {
        "id": "P715htMa5oWV",
        "outputId": "1b8e78a7-ace0-471f-a3bb-eb8d006bdcf8"
      },
      "outputs": [
        {
          "name": "stdout",
          "output_type": "stream",
          "text": [
            "x=0, y=0: 0\n",
            "x=0, y=1: 1\n",
            "x=1, y=0: 1\n",
            "x=1, y=1: 0\n"
          ]
        }
      ],
      "source": [
        "print(f\"x=0, y=0: {XOR1(0,0)}\")\n",
        "print(f\"x=0, y=1: {XOR1(0,1)}\")\n",
        "print(f\"x=1, y=0: {XOR1(1,0)}\")\n",
        "print(f\"x=1, y=1: {XOR1(1,1)}\")"
      ]
    },
    {
      "cell_type": "code",
      "execution_count": null,
      "metadata": {
        "id": "EIPK0CEn5s_T"
      },
      "outputs": [],
      "source": [
        "def XOR(x, y):\n",
        "    ############################\n",
        "    # WRITE CODE HERE \n",
        "    a = NAND(x,y)\n",
        "    b = OR(x,y)\n",
        "    c = AND(a,b)\n",
        "\n",
        "    \n",
        "    return c"
      ]
    },
    {
      "cell_type": "code",
      "execution_count": null,
      "metadata": {
        "id": "KeIoAM2Y52Y9",
        "outputId": "38681661-332a-44e9-962b-6ce1fd9f4aa6"
      },
      "outputs": [
        {
          "name": "stdout",
          "output_type": "stream",
          "text": [
            "x=0, y=0: 0\n",
            "x=0, y=1: 1\n",
            "x=1, y=0: 1\n",
            "x=1, y=1: 0\n"
          ]
        }
      ],
      "source": [
        "print(f\"x=0, y=0: {XOR(0,0)}\")\n",
        "print(f\"x=0, y=1: {XOR(0,1)}\")\n",
        "print(f\"x=1, y=0: {XOR(1,0)}\")\n",
        "print(f\"x=1, y=1: {XOR(1,1)}\")"
      ]
    },
    {
      "cell_type": "code",
      "execution_count": null,
      "metadata": {
        "id": "6EwNysgzqQMG"
      },
      "outputs": [],
      "source": [
        ""
      ]
    }
  ],
  "metadata": {
    "colab": {
      "collapsed_sections": [],
      "name": "logical_gate.ipynb",
      "provenance": [],
      "include_colab_link": true
    },
    "kernelspec": {
      "display_name": "Python 3 (ipykernel)",
      "language": "python",
      "name": "python3"
    },
    "language_info": {
      "codemirror_mode": {
        "name": "ipython",
        "version": 3
      },
      "file_extension": ".py",
      "mimetype": "text/x-python",
      "name": "python",
      "nbconvert_exporter": "python",
      "pygments_lexer": "ipython3",
      "version": "3.8.13"
    }
  },
  "nbformat": 4,
  "nbformat_minor": 0
}