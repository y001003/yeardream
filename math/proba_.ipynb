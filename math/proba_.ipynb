{
  "nbformat": 4,
  "nbformat_minor": 0,
  "metadata": {
    "colab": {
      "name": "proba_.ipynb",
      "provenance": [],
      "collapsed_sections": []
    },
    "kernelspec": {
      "name": "python3",
      "display_name": "Python 3"
    },
    "language_info": {
      "name": "python"
    }
  },
  "cells": [
    {
      "cell_type": "code",
      "execution_count": 1,
      "metadata": {
        "id": "l58qXpTzmmZa"
      },
      "outputs": [],
      "source": [
        "import numpy as np\n",
        "import matplotlib.pyplot as plt\n",
        "import pandas as pd"
      ]
    },
    {
      "cell_type": "markdown",
      "source": [
        "## 평균"
      ],
      "metadata": {
        "id": "QPkJQhQgnenS"
      }
    },
    {
      "cell_type": "code",
      "source": [
        "X = np.array([45, 26, 57, 67, 40, 30, 55, 60, 95, 500])\n",
        "\n",
        "# 공식대로 구하기\n",
        "print(X.sum()/len(X))\n",
        "\n",
        "# numpy 기능으로 바로 구하기\n",
        "print(X.mean())"
      ],
      "metadata": {
        "colab": {
          "base_uri": "https://localhost:8080/"
        },
        "id": "iVrHtfy0mr0D",
        "outputId": "a0256d16-3262-4b16-e878-01b5deba7dfa"
      },
      "execution_count": 2,
      "outputs": [
        {
          "output_type": "stream",
          "name": "stdout",
          "text": [
            "97.5\n",
            "97.5\n"
          ]
        }
      ]
    },
    {
      "cell_type": "code",
      "source": [
        "# 이상치에 영향을 많이 받음\n",
        "print(X[:-1].mean())"
      ],
      "metadata": {
        "colab": {
          "base_uri": "https://localhost:8080/"
        },
        "id": "lHqDrqN9nnsx",
        "outputId": "d368f129-8b31-47bd-c055-b736ce0f2521"
      },
      "execution_count": 3,
      "outputs": [
        {
          "output_type": "stream",
          "name": "stdout",
          "text": [
            "52.77777777777778\n"
          ]
        }
      ]
    },
    {
      "cell_type": "markdown",
      "source": [
        "## 중앙값"
      ],
      "metadata": {
        "id": "zAWTA7o6ngrt"
      }
    },
    {
      "cell_type": "code",
      "source": [
        "# 이상치에 영향 별로 없음\n",
        "np.median(X)"
      ],
      "metadata": {
        "colab": {
          "base_uri": "https://localhost:8080/"
        },
        "id": "tJkXuJ62m_yX",
        "outputId": "6df53cc0-173b-4331-a563-45e1a03cc571"
      },
      "execution_count": 4,
      "outputs": [
        {
          "output_type": "execute_result",
          "data": {
            "text/plain": [
              "56.0"
            ]
          },
          "metadata": {},
          "execution_count": 4
        }
      ]
    },
    {
      "cell_type": "code",
      "source": [
        "# 크기 순을 정렬해서 가운데 있는 값\n",
        "# 데이터 개수가 짝수면 가운데 두값의 평균\n",
        "X.sort()\n",
        "X"
      ],
      "metadata": {
        "colab": {
          "base_uri": "https://localhost:8080/"
        },
        "id": "QCiy1XbinSH4",
        "outputId": "f4621c27-17d7-419a-a9ff-919e3854e8bf"
      },
      "execution_count": 5,
      "outputs": [
        {
          "output_type": "execute_result",
          "data": {
            "text/plain": [
              "array([ 26,  30,  40,  45,  55,  57,  60,  67,  95, 500])"
            ]
          },
          "metadata": {},
          "execution_count": 5
        }
      ]
    },
    {
      "cell_type": "markdown",
      "source": [
        "## 분산과 표준편차\n",
        "\n",
        "- score1과 score2는 평균이 똑같음"
      ],
      "metadata": {
        "id": "hunBYRwnTbDH"
      }
    },
    {
      "cell_type": "code",
      "source": [
        "np.random.seed(0)\n",
        "scores1 = np.random.randint(30, 100, 10)\n",
        "print(scores1)\n",
        "print(scores1.mean())"
      ],
      "metadata": {
        "id": "URhjtekcprEj",
        "colab": {
          "base_uri": "https://localhost:8080/"
        },
        "outputId": "38d37bc4-a306-436f-e796-0556cd489985"
      },
      "execution_count": 21,
      "outputs": [
        {
          "output_type": "stream",
          "name": "stdout",
          "text": [
            "[74 77 94 97 97 39 51 66 42 88]\n",
            "72.5\n"
          ]
        }
      ]
    },
    {
      "cell_type": "code",
      "source": [
        "scores2 = np.random.randint(50, 90, 10)\n",
        "print(scores2)\n",
        "print(scores2.mean())"
      ],
      "metadata": {
        "colab": {
          "base_uri": "https://localhost:8080/"
        },
        "id": "5VuQDzOeUfY8",
        "outputId": "cbb9f7cd-15f0-4239-da19-5b1ef115a583"
      },
      "execution_count": 22,
      "outputs": [
        {
          "output_type": "stream",
          "name": "stdout",
          "text": [
            "[51 88 89 73 74 67 87 75 63 58]\n",
            "72.5\n"
          ]
        }
      ]
    },
    {
      "cell_type": "markdown",
      "source": [
        "- 각 데이터에서 평균과의 차이를 구하고 이를 막대그래프로 표현"
      ],
      "metadata": {
        "id": "_Abrh3GGYN-P"
      }
    },
    {
      "cell_type": "code",
      "source": [
        "deviations1 = scores1 - scores1.mean()\n",
        "deviations1"
      ],
      "metadata": {
        "colab": {
          "base_uri": "https://localhost:8080/"
        },
        "id": "N_MQtf5KTmlx",
        "outputId": "d03de6e9-f611-41d7-858a-891d033e30d0"
      },
      "execution_count": 8,
      "outputs": [
        {
          "output_type": "execute_result",
          "data": {
            "text/plain": [
              "array([  1.5,   4.5,  21.5,  24.5,  24.5, -33.5, -21.5,  -6.5, -30.5,\n",
              "        15.5])"
            ]
          },
          "metadata": {},
          "execution_count": 8
        }
      ]
    },
    {
      "cell_type": "code",
      "source": [
        "deviations2 = scores2 - scores2.mean()\n",
        "deviations2"
      ],
      "metadata": {
        "colab": {
          "base_uri": "https://localhost:8080/"
        },
        "id": "ZRPQM71lUjC3",
        "outputId": "9f47eced-e3a2-4c08-ef0b-7a085766f876"
      },
      "execution_count": 9,
      "outputs": [
        {
          "output_type": "execute_result",
          "data": {
            "text/plain": [
              "array([-21.5,  15.5,  16.5,   0.5,   1.5,  -5.5,  14.5,   2.5,  -9.5,\n",
              "       -14.5])"
            ]
          },
          "metadata": {},
          "execution_count": 9
        }
      ]
    },
    {
      "cell_type": "code",
      "source": [
        "fig, ax = plt.subplots(figsize=(10,5), nrows=1, ncols=2, sharey=True)\n",
        "\n",
        "ax[0].bar(np.arange(10), deviations1, color='C1', edgecolor='k')\n",
        "ax[0].set_title('scores 1 deviations')\n",
        "ax[1].bar(np.arange(10), deviations2, color='C2', edgecolor='k')\n",
        "ax[1].set_title('scores 2 deviations')\n",
        "plt.show()"
      ],
      "metadata": {
        "colab": {
          "base_uri": "https://localhost:8080/",
          "height": 336
        },
        "id": "jHtIY9AdTmi2",
        "outputId": "e2a892a0-7c43-4540-bfef-2245592e7a7a"
      },
      "execution_count": 10,
      "outputs": [
        {
          "output_type": "display_data",
          "data": {
            "text/plain": [
              "<Figure size 720x360 with 2 Axes>"
            ],
            "image/png": "[encoded data removed]"
          },
          "metadata": {
            "needs_background": "light"
          }
        }
      ]
    },
    {
      "cell_type": "markdown",
      "source": [
        "- 이 평균과의 차이값들을 평균해보면 0이 됨"
      ],
      "metadata": {
        "id": "070GxTCtYTds"
      }
    },
    {
      "cell_type": "code",
      "source": [
        "print(deviations1.sum() / len(deviations1))\n",
        "print(deviations2.sum() / len(deviations2))"
      ],
      "metadata": {
        "colab": {
          "base_uri": "https://localhost:8080/"
        },
        "id": "RRSs-sDfTmc9",
        "outputId": "90da75dd-5c5e-4306-dfde-21785d54bb57"
      },
      "execution_count": 11,
      "outputs": [
        {
          "output_type": "stream",
          "name": "stdout",
          "text": [
            "0.0\n",
            "0.0\n"
          ]
        }
      ]
    },
    {
      "cell_type": "markdown",
      "source": [
        "- 그래서 제곱하여 평균을 냄"
      ],
      "metadata": {
        "id": "5pYI3GXDYYM9"
      }
    },
    {
      "cell_type": "code",
      "source": [
        "# 편차 제곱의 평균[+]\n",
        "print((deviations1**2).mean())\n",
        "print((deviations2**2).mean())\n",
        "\n",
        "# numpy 기능으로 분산 바로 구하기 [+]\n",
        "print(scores1.var())\n",
        "print(scores2.var())"
      ],
      "metadata": {
        "colab": {
          "base_uri": "https://localhost:8080/"
        },
        "id": "xjsiY7uPVMng",
        "outputId": "664b7491-9de4-4150-db10-4059701bd340"
      },
      "execution_count": 12,
      "outputs": [
        {
          "output_type": "stream",
          "name": "stdout",
          "text": [
            "448.25\n",
            "152.45\n",
            "448.25\n",
            "152.45\n"
          ]
        }
      ]
    },
    {
      "cell_type": "markdown",
      "source": [
        "- 분산은 평균과의 편차값을 한변으로 하는 정사각형들의 평균 넓이"
      ],
      "metadata": {
        "id": "ZnfXrDisYjY3"
      }
    },
    {
      "cell_type": "code",
      "source": [
        "from matplotlib.patches import Rectangle\n",
        "\n",
        "fig = plt.figure(dpi=100)\n",
        "ax = plt.axes()\n",
        "\n",
        "#          0:-   1:+\n",
        "colors = ['C1', 'C2']\n",
        "\n",
        "covs = [ Rectangle( (0,0), x, x, edgecolor='k', \n",
        "                   facecolor=colors[1], alpha=0.3) \n",
        "            for x in deviations2 ]\n",
        "\n",
        "for cov in covs:\n",
        "    ax.add_patch(cov)\n",
        "    \n",
        "ax.plot(deviations2, np.zeros_like(deviations2), 'o', color='k')\n",
        "ax.axhline(y=0, color='k')\n",
        "ax.axvline(x=0, color='k')\n",
        "ax.axis('equal')\n",
        "plt.show()"
      ],
      "metadata": {
        "colab": {
          "base_uri": "https://localhost:8080/",
          "height": 362
        },
        "id": "cnUH07kcUjAq",
        "outputId": "38330048-b78c-406e-dbad-4b9880d3624c"
      },
      "execution_count": 24,
      "outputs": [
        {
          "output_type": "display_data",
          "data": {
            "text/plain": [
              "<Figure size 600x400 with 1 Axes>"
            ],
            "image/png": "[encoded data removed]"
          },
          "metadata": {
            "needs_background": "light"
          }
        }
      ]
    },
    {
      "cell_type": "markdown",
      "source": [
        "### 표준편차\n",
        "\n",
        "- 분산이 제곱되어 구해진 값이므로 제곱근을 구해서 원래 데이터와 비슷한 지표로 만든 값"
      ],
      "metadata": {
        "id": "lrCRP3nRRQBH"
      }
    },
    {
      "cell_type": "code",
      "source": [
        "# # 편차 제곱 평균의 양의 제곱근\n",
        "print(np.sqrt((deviations1**2).mean()))\n",
        "print(np.sqrt((deviations2**2).mean()))\n",
        "\n",
        "# numpy 기능으로 표준편차 바로 구하기 [+]\n",
        "print(scores1.std())\n",
        "print(scores2.std())"
      ],
      "metadata": {
        "colab": {
          "base_uri": "https://localhost:8080/"
        },
        "id": "z31QfuCtB4Bh",
        "outputId": "d2e394a6-8ff4-4587-a099-65b5f3a4cca6"
      },
      "execution_count": 25,
      "outputs": [
        {
          "output_type": "stream",
          "name": "stdout",
          "text": [
            "21.17191535974013\n",
            "12.34706442843804\n",
            "21.17191535974013\n",
            "12.34706442843804\n"
          ]
        }
      ]
    },
    {
      "cell_type": "markdown",
      "source": [
        "## 히스토그램"
      ],
      "metadata": {
        "id": "8G3rh3itZ3OM"
      }
    },
    {
      "cell_type": "code",
      "source": [
        "np.random.seed(0)\n",
        "scores = np.abs((np.random.randn(500)*13)-65).astype(int)\n",
        "print(scores)\n",
        "scores[scores>=100] = 100\n",
        "# scores"
      ],
      "metadata": {
        "id": "H6okbyhtZ5Lr",
        "colab": {
          "base_uri": "https://localhost:8080/"
        },
        "outputId": "d8358c0f-bb0a-4c44-8b27-afb0f7940655"
      },
      "execution_count": 34,
      "outputs": [
        {
          "output_type": "stream",
          "name": "stdout",
          "text": [
            "[ 42  59  52  35  40  77  52  66  66  59  63  46  55  63  59  60  45  67\n",
            "  60  76  98  56  53  74  35  83  64  67  45  45  62  60  76  90  69  62\n",
            "  49  49  70  68  78  83  87  39  71  70  81  54  85  67  76  59  71  80\n",
            "  65  59  64  61  73  69  73  69  75  87  62  70  86  58  76  64  55  63\n",
            "  50  81  59  73  76  72  69  64  80  53  58  84  45  40  49  67  78  51\n",
            "  70  49  62  52  60  55  64  41  63  59  40  82  81  52  80  39  70  74\n",
            "  40  45  40  53  76  40  68  54  52  67  57  53  60  79  61  47  74  66\n",
            "  70  40  56  59  75  57  73  64  73  56  57  67  59  79  84  59  62  56\n",
            "  34  52  76  50  82  71  65  42  74  75  66  73  50  79  79  70  71  39\n",
            "  52  63  80  54  78  85  49  60  53  60  53  73  78  56  75  73  70  64\n",
            "  69  82  73  93  56  85  79  64  74  44  81  61  65  80  58  67  54  54\n",
            "  36  47  69  68  50  56  56  86  65  74  61  66  53  60  54  71  77  70\n",
            "  65  60  35  65  77  69  71  58  85  64  62  61  72  68  83  71  72  59\n",
            "  80  54  45  91  59  56  73  70  66  68  69  86  50  50  75  84  58  72\n",
            "  63  69  56  55  74  82  85  57  80  71  72  65  90  62  58  63  69  63\n",
            "  59 101  39  59  73  70  58  66  91  38  66  51  73  45  61  57  78  49\n",
            "  56  48  73  71  35  78  66  50  63  57  70  60  81  43  66  73  56  70\n",
            "  82  82  55  67  66  50  79  74  70  63  65  68  65  66  74  75  61  76\n",
            "  80  69  67  35  74  52  55  80  54  80  99  57  87  59  73  43  51  70\n",
            "  73  80  70  68  69  62  57  60  74  83  47  73  73  71  88  71  71  56\n",
            "  55  64  52  60  65  62  67  70  68  79  61  77  54  68  64  58  56  85\n",
            "  67  53  87  59  94  78  64  86  77  84  43  62  57  67  69  86  68  74\n",
            "  53  50  45  53  72  79  55  60  87  60  54  64  67  75  83  54  69  68\n",
            "  42  56  60  63  45  42  52  57  92  63  66  63  52 100  72  61  71  83\n",
            "  53  61  77  60  54  64  54  63  70  80  66  62  53  66  59  77  75  66\n",
            "  78  54  58  61  60  38  71  93  62  65  71  77  70  62  71  33  77  75\n",
            "  94  61  91  72  68  74  42  52  47  76  50  58  54  51  76  70  53  99\n",
            "  45  57  65  62  78  69  50  48  29  65  73  71  78  66]\n"
          ]
        }
      ]
    },
    {
      "cell_type": "code",
      "source": [
        "# 히스토그램[+]\n",
        "hist, bins = np.histogram(scores, bins=10, range=(0,100))\n",
        "hist"
      ],
      "metadata": {
        "colab": {
          "base_uri": "https://localhost:8080/"
        },
        "id": "3WGxtyOFZ5JA",
        "outputId": "ecec596d-7d8f-4bb3-9a66-c5060085cc51"
      },
      "execution_count": 29,
      "outputs": [
        {
          "output_type": "execute_result",
          "data": {
            "text/plain": [
              "array([  0,   0,   1,  14,  40, 116, 141, 123,  50,  15])"
            ]
          },
          "metadata": {},
          "execution_count": 29
        }
      ]
    },
    {
      "cell_type": "code",
      "source": [
        "fig = plt.figure()\n",
        "ax = plt.axes()\n",
        "\n",
        "ax.hist(scores, bins=10, range=(0,100), color='C1', edgecolor='k')\n",
        "ax.set_xlabel('scores')\n",
        "ax.set_ylabel('# of students per 10 point interval')\n",
        "ax.set_title('bins=10')\n",
        "plt.show()"
      ],
      "metadata": {
        "colab": {
          "base_uri": "https://localhost:8080/",
          "height": 295
        },
        "id": "PRB7uFbLZ5GU",
        "outputId": "370df4de-bb5b-4cd3-ff14-c31019cc8fb4"
      },
      "execution_count": 31,
      "outputs": [
        {
          "output_type": "display_data",
          "data": {
            "text/plain": [
              "<Figure size 432x288 with 1 Axes>"
            ],
            "image/png": "[encoded data removed]"
          },
          "metadata": {
            "needs_background": "light"
          }
        }
      ]
    },
    {
      "cell_type": "markdown",
      "source": [
        "- 구간을 더 촘촘히 해서 그리면"
      ],
      "metadata": {
        "id": "0XN1zM5JY97o"
      }
    },
    {
      "cell_type": "code",
      "source": [
        "fig = plt.figure()\n",
        "ax = plt.axes()\n",
        "\n",
        "ax.hist(scores, bins=20, range=(0,100), color='C1', edgecolor='k')\n",
        "ax.set_title('bins=20')\n",
        "ax.set_xlabel('scores')\n",
        "ax.set_ylabel('# of students per 10 point interval')\n",
        "plt.show()"
      ],
      "metadata": {
        "colab": {
          "base_uri": "https://localhost:8080/",
          "height": 295
        },
        "id": "3JV88sVWm8g4",
        "outputId": "31dbb52f-d2f1-4c3c-9805-b5e4411f45ec"
      },
      "execution_count": 32,
      "outputs": [
        {
          "output_type": "display_data",
          "data": {
            "text/plain": [
              "<Figure size 432x288 with 1 Axes>"
            ],
            "image/png": "[encoded data removed]"
          },
          "metadata": {
            "needs_background": "light"
          }
        }
      ]
    },
    {
      "cell_type": "markdown",
      "source": [
        "## 상자그림"
      ],
      "metadata": {
        "id": "_x_XSn_Kyttw"
      }
    },
    {
      "cell_type": "code",
      "source": [
        "D = np.array([1,2,3,4,5,6,7,8,9,10])\n",
        "\n",
        "# 이 데이터는 이상치 존재\n",
        "# D = np.array([2,3,4,5,6,7,8,9,10,18,20])"
      ],
      "metadata": {
        "id": "WiSk7yGeyvjT"
      },
      "execution_count": 35,
      "outputs": []
    },
    {
      "cell_type": "markdown",
      "source": [
        "- 전체 데이터에서 25%, 50%, 75%에 위치하는 값을 Q1, Q2, Q3으로 구함\n",
        "\n",
        "- 이산 데이터를 줄세우고 25% 위치에 해당하는 값을 구할 때 깔끔하게 정수로 떨어지지 않게 되므로 `interpolation`이란 옵션으로 적당한 값을 선정"
      ],
      "metadata": {
        "id": "ImBe1wDmZL6n"
      }
    },
    {
      "cell_type": "code",
      "source": [
        "Q1 = np.percentile(D, 25, interpolation='nearest')\n",
        "Q2 = np.percentile(D, 50)\n",
        "Q3 = np.percentile(D, 75, interpolation='nearest')\n",
        "\n",
        "print(f\"Q1={Q1}, Q2={Q2}, Q3={Q3}\")"
      ],
      "metadata": {
        "colab": {
          "base_uri": "https://localhost:8080/"
        },
        "id": "ooG7p9Ipyy8r",
        "outputId": "df23e7b5-e7e9-4330-8d3f-e29ca10d2782"
      },
      "execution_count": 36,
      "outputs": [
        {
          "output_type": "stream",
          "name": "stdout",
          "text": [
            "Q1=3, Q2=5.5, Q3=8\n"
          ]
        }
      ]
    },
    {
      "cell_type": "code",
      "source": [
        "# Q3과 Q1의 차이\n",
        "IQR = Q3 - Q1\n",
        "IQR"
      ],
      "metadata": {
        "colab": {
          "base_uri": "https://localhost:8080/"
        },
        "id": "x1fbCqxXyy56",
        "outputId": "3ef4943b-d802-4350-e0e4-7004e526f12b"
      },
      "execution_count": 37,
      "outputs": [
        {
          "output_type": "execute_result",
          "data": {
            "text/plain": [
              "5"
            ]
          },
          "metadata": {},
          "execution_count": 37
        }
      ]
    },
    {
      "cell_type": "markdown",
      "source": [
        "- 식 Q3 + 1.5*IQR 로 가상의 상위 울타리upper fence를 계산하고 그 펜스를 넘어가지 않는 데이터의 최대값을 찾음"
      ],
      "metadata": {
        "id": "t8l6nVxTZ0T5"
      }
    },
    {
      "cell_type": "code",
      "source": [
        "upper_fence = Q3 + 1.5*IQR\n",
        "print(upper_fence)\n",
        "\n",
        "upper_whisker = np.max(D[D<upper_fence])\n",
        "print(upper_whisker)"
      ],
      "metadata": {
        "colab": {
          "base_uri": "https://localhost:8080/"
        },
        "id": "LUDTl2zyyy3S",
        "outputId": "9e5ad17d-88b9-47ee-edd0-f484b59a3ab0"
      },
      "execution_count": 38,
      "outputs": [
        {
          "output_type": "stream",
          "name": "stdout",
          "text": [
            "15.5\n",
            "10\n"
          ]
        }
      ]
    },
    {
      "cell_type": "markdown",
      "source": [
        "- Q1 - 1.5*IQR로 가상의 하위 울타리lower fence를 계산하고 그 펜스를 넘어가지 않는 데이터의 최소값을 찾음"
      ],
      "metadata": {
        "id": "uMEdQa4TaAVQ"
      }
    },
    {
      "cell_type": "code",
      "source": [
        "lower_fence = Q1 - 1.5*IQR\n",
        "print(lower_fence) \n",
        "\n",
        "upper_whisker = np.min(D[D>lower_fence])\n",
        "print(upper_whisker)"
      ],
      "metadata": {
        "colab": {
          "base_uri": "https://localhost:8080/"
        },
        "id": "sDkakNLyy_ef",
        "outputId": "89b6fccb-1168-4ff4-ddad-9e14e0bc9d24"
      },
      "execution_count": 39,
      "outputs": [
        {
          "output_type": "stream",
          "name": "stdout",
          "text": [
            "-4.5\n",
            "1\n"
          ]
        }
      ]
    },
    {
      "cell_type": "markdown",
      "source": [
        "- matplotlib에서 상자그림을 그림"
      ],
      "metadata": {
        "id": "ak-CcnHNaIGI"
      }
    },
    {
      "cell_type": "code",
      "source": [
        "fig = plt.figure(dpi=100)\n",
        "ax = plt.axes()\n",
        "\n",
        "ret = ax.boxplot(D)\n",
        "\n",
        "plt.show()"
      ],
      "metadata": {
        "colab": {
          "base_uri": "https://localhost:8080/",
          "height": 362
        },
        "id": "G6ZrdYVKzC6G",
        "outputId": "f537355d-6870-4de9-9f11-69e226dfde2a"
      },
      "execution_count": 40,
      "outputs": [
        {
          "output_type": "display_data",
          "data": {
            "text/plain": [
              "<Figure size 600x400 with 1 Axes>"
            ],
            "image/png": "[encoded data removed]"
          },
          "metadata": {
            "needs_background": "light"
          }
        }
      ]
    },
    {
      "cell_type": "markdown",
      "source": [
        "- 그려진 상자그림에서 계산된 값들이 미리 계산한 값들과 일치하는가?"
      ],
      "metadata": {
        "id": "mDrMgfe-aMTN"
      }
    },
    {
      "cell_type": "code",
      "source": [
        "print(\"upper whisker\", ret['caps'][1].get_xydata()[0,1])\n",
        "print(\"Q3\", ret['boxes'][0].get_xydata()[2,1])\n",
        "print(\"Q2\", ret['medians'][0].get_xydata()[0,1])\n",
        "print(\"Q1\", ret['boxes'][0].get_xydata()[0,1])\n",
        "print(\"lower whisker\", ret['caps'][0].get_xydata()[0,1])"
      ],
      "metadata": {
        "colab": {
          "base_uri": "https://localhost:8080/"
        },
        "id": "Q6fffeUkTQKd",
        "outputId": "c01344f2-5099-4999-d019-9c94f0d223a8"
      },
      "execution_count": 41,
      "outputs": [
        {
          "output_type": "stream",
          "name": "stdout",
          "text": [
            "upper whisker 10.0\n",
            "Q3 7.75\n",
            "Q2 5.5\n",
            "Q1 3.25\n",
            "lower whisker 1.0\n"
          ]
        }
      ]
    },
    {
      "cell_type": "markdown",
      "source": [
        "## 2차원 데이터"
      ],
      "metadata": {
        "id": "ZLOHDPR1BWU7"
      }
    },
    {
      "cell_type": "code",
      "source": [
        "# 키\n",
        "H = np.array([170, 155, 175, 182, 171, 188, 165, 167, 175, 183])\n",
        "# 몸무게\n",
        "W = np.array([ 65,  59,  68,  78,  62,  85,  63,  58,  70,  98])\n",
        "\n",
        "# 신체 정보\n",
        "X = np.array([H, W])\n",
        "X"
      ],
      "metadata": {
        "colab": {
          "base_uri": "https://localhost:8080/"
        },
        "id": "FhfYkiZbCFmD",
        "outputId": "071140c5-3e77-4d87-82f1-bd2bc49a930e"
      },
      "execution_count": 42,
      "outputs": [
        {
          "output_type": "execute_result",
          "data": {
            "text/plain": [
              "array([[170, 155, 175, 182, 171, 188, 165, 167, 175, 183],\n",
              "       [ 65,  59,  68,  78,  62,  85,  63,  58,  70,  98]])"
            ]
          },
          "metadata": {},
          "execution_count": 42
        }
      ]
    },
    {
      "cell_type": "markdown",
      "source": [
        "- 다차원 데이터의 행렬은 항상 (N, D)"
      ],
      "metadata": {
        "id": "XoChlPaBaZ0p"
      }
    },
    {
      "cell_type": "code",
      "source": [
        "X = X.T\n",
        "X"
      ],
      "metadata": {
        "colab": {
          "base_uri": "https://localhost:8080/"
        },
        "id": "yKreGMI0IgQG",
        "outputId": "a5e8bebb-81c0-4ce5-ef3b-6ca5ff6a4f51"
      },
      "execution_count": 43,
      "outputs": [
        {
          "output_type": "execute_result",
          "data": {
            "text/plain": [
              "array([[170,  65],\n",
              "       [155,  59],\n",
              "       [175,  68],\n",
              "       [182,  78],\n",
              "       [171,  62],\n",
              "       [188,  85],\n",
              "       [165,  63],\n",
              "       [167,  58],\n",
              "       [175,  70],\n",
              "       [183,  98]])"
            ]
          },
          "metadata": {},
          "execution_count": 43
        }
      ]
    },
    {
      "cell_type": "markdown",
      "source": [
        "### 평균 두 개, 분산 두 개"
      ],
      "metadata": {
        "id": "onrlFcQ9WGkz"
      }
    },
    {
      "cell_type": "code",
      "source": [
        "fig = plt.figure(dpi=100)\n",
        "ax = plt.axes()\n",
        "\n",
        "ax.plot(X[:,0], X[:,1], 'o', color='k')\n",
        "\n",
        "# 두 데이터의 평균선 그림\n",
        "ax.axhline(y=X[:,1].mean(), color='k')\n",
        "ax.axvline(x=X[:,0].mean(), color='k')\n",
        "\n",
        "ax.set_xlabel('Height')\n",
        "ax.set_ylabel('Weight')\n",
        "\n",
        "plt.show()"
      ],
      "metadata": {
        "colab": {
          "base_uri": "https://localhost:8080/",
          "height": 387
        },
        "id": "vOjorbEIIY2a",
        "outputId": "61f8b71d-e457-4efd-fc3a-b30741ccd7e1"
      },
      "execution_count": 44,
      "outputs": [
        {
          "output_type": "display_data",
          "data": {
            "text/plain": [
              "<Figure size 600x400 with 1 Axes>"
            ],
            "image/png": "[encoded data removed]"
          },
          "metadata": {
            "needs_background": "light"
          }
        }
      ]
    },
    {
      "cell_type": "markdown",
      "source": [
        "- 앞서 알아본 통계값인 평균, 분산은 각 데이터 마다 계산 가능"
      ],
      "metadata": {
        "id": "XyP_UMYgapj_"
      }
    },
    {
      "cell_type": "code",
      "source": [
        "print(\"키 평균: \", X[:,0].mean())\n",
        "print(\"몸무게 평균: \", X[:,1].mean())\n",
        "\n",
        "print(\"키 분산: \", X[:,0].var())\n",
        "print(\"몸무게 분산: \", X[:,1].var())"
      ],
      "metadata": {
        "colab": {
          "base_uri": "https://localhost:8080/"
        },
        "id": "4I1G9nUoWKTw",
        "outputId": "6956d719-6470-4177-9acb-ade551ea615b"
      },
      "execution_count": 45,
      "outputs": [
        {
          "output_type": "stream",
          "name": "stdout",
          "text": [
            "키 평균:  173.1\n",
            "몸무게 평균:  70.6\n",
            "키 분산:  85.09\n",
            "몸무게 분산:  147.64000000000001\n"
          ]
        }
      ]
    },
    {
      "cell_type": "markdown",
      "source": [
        "### 공분산\n",
        "\n",
        "- 두 데이터 사이의 관계를 나타내는 분산값을 계산\n",
        "\n",
        "- 공분산의 의미는 두 데이터의 평균값 두개로 계산되는 각각의 편차를 가로변, 세로변으로 하는 직사각형의 평균 넓이\n",
        "\n",
        "- 여기서는 음의 평균도 존재 \n",
        "\n",
        "- 아래 그림에서 2사분면, 4사분면에 있는 데이터들이 음의 면적에 해당"
      ],
      "metadata": {
        "id": "VUuF3q6UuO67"
      }
    },
    {
      "cell_type": "code",
      "source": [
        "# 공분산의 그림 표현\n",
        "# :                +------------------+\n",
        "# :                |                  |\n",
        "# :              height               |\n",
        "# :                |                  |\n",
        "# :               (xy)---- width -----+\n",
        "# (xy, w, h)\n",
        "from matplotlib.patches import Rectangle\n",
        "\n",
        "fig = plt.figure(dpi=100)\n",
        "ax = plt.axes()\n",
        "\n",
        "X_bar = X.mean(axis=0)\n",
        "X_tilde = X - X_bar\n",
        "\n",
        "#          0:-   1:+\n",
        "colors = ['C1', 'C2']\n",
        "\n",
        "covs = [ Rectangle( (0,0), x[0], x[1], edgecolor='k', \n",
        "                   facecolor=colors[((x[0]*x[1])>0).astype(int)], alpha=0.3) \n",
        "            for x in X_tilde ]\n",
        "\n",
        "for cov in covs:\n",
        "    ax.add_patch(cov)\n",
        "ax.plot(X_tilde[:,0], X_tilde[:,1], 'o', color='k')\n",
        "ax.axhline(y=0, color='k')\n",
        "ax.axvline(x=0, color='k')\n",
        "ax.set_xlabel('Height')\n",
        "ax.set_ylabel('Weight')\n",
        "\n",
        "plt.show()"
      ],
      "metadata": {
        "colab": {
          "base_uri": "https://localhost:8080/",
          "height": 382
        },
        "id": "b-xpm6O5O-Y3",
        "outputId": "f70b298e-c74f-4b93-910f-bd9472ba8a12"
      },
      "execution_count": 46,
      "outputs": [
        {
          "output_type": "display_data",
          "data": {
            "text/plain": [
              "<Figure size 600x400 with 1 Axes>"
            ],
            "image/png": "[encoded data removed]"
          },
          "metadata": {
            "needs_background": "light"
          }
        }
      ]
    },
    {
      "cell_type": "code",
      "source": [
        "# 공분산 직접 계산\n",
        "np.sum(X_tilde[:,0] * X_tilde[:,1]) / (X_tilde.shape[0]-1)"
      ],
      "metadata": {
        "id": "f0fWlheuO-Wf",
        "colab": {
          "base_uri": "https://localhost:8080/"
        },
        "outputId": "7085f2b4-3e64-4e10-f18a-12cafc95304b"
      },
      "execution_count": 47,
      "outputs": [
        {
          "output_type": "execute_result",
          "data": {
            "text/plain": [
              "103.26666666666668"
            ]
          },
          "metadata": {},
          "execution_count": 47
        }
      ]
    },
    {
      "cell_type": "code",
      "source": [
        "# 공분산\n",
        "np.cov(X[:,0], X[:,1])"
      ],
      "metadata": {
        "id": "Nd9aTj-MO-RX",
        "colab": {
          "base_uri": "https://localhost:8080/"
        },
        "outputId": "df1da6d7-81d4-41ac-b84f-3a02a9c84c87"
      },
      "execution_count": 48,
      "outputs": [
        {
          "output_type": "execute_result",
          "data": {
            "text/plain": [
              "array([[ 94.54444444, 103.26666667],\n",
              "       [103.26666667, 164.04444444]])"
            ]
          },
          "metadata": {},
          "execution_count": 48
        }
      ]
    },
    {
      "cell_type": "markdown",
      "source": [
        "### 상관계수"
      ],
      "metadata": {
        "id": "xxUYmUX7MVJD"
      }
    },
    {
      "cell_type": "code",
      "source": [
        "# 위 데이터의 상관계수\n",
        "np.corrcoef(X.T)"
      ],
      "metadata": {
        "colab": {
          "base_uri": "https://localhost:8080/"
        },
        "id": "8bhKTGgIMU4p",
        "outputId": "4e715acf-0f9c-414b-e1a2-a6fcae95939b"
      },
      "execution_count": 49,
      "outputs": [
        {
          "output_type": "execute_result",
          "data": {
            "text/plain": [
              "array([[1.      , 0.829204],\n",
              "       [0.829204, 1.      ]])"
            ]
          },
          "metadata": {},
          "execution_count": 49
        }
      ]
    },
    {
      "cell_type": "code",
      "source": [
        "# 직선의 상관성이 없는 데이터\n",
        "\n",
        "x = np.random.uniform(-1, 1, 200)\n",
        "X_uncorr = np.array( [x, x**2 + np.random.uniform(-0.2, 0.2, 200)]).T\n",
        "\n",
        "fig = plt.figure()\n",
        "ax = plt.axes()\n",
        "\n",
        "ax.plot(X_uncorr[:,0], X_uncorr[:,1], '.')\n",
        "ax.set_xlabel('x')\n",
        "ax.set_ylabel('y')\n",
        "\n",
        "plt.show()"
      ],
      "metadata": {
        "colab": {
          "base_uri": "https://localhost:8080/",
          "height": 279
        },
        "id": "2ippd3pKNLJv",
        "outputId": "17beddb0-24d8-407b-df0e-5bd70b12ed9b"
      },
      "execution_count": 50,
      "outputs": [
        {
          "output_type": "display_data",
          "data": {
            "text/plain": [
              "<Figure size 432x288 with 1 Axes>"
            ],
            "image/png": "[encoded data removed]"
          },
          "metadata": {
            "needs_background": "light"
          }
        }
      ]
    },
    {
      "cell_type": "code",
      "source": [
        "print(np.corrcoef(X_uncorr.T))\n"
      ],
      "metadata": {
        "colab": {
          "base_uri": "https://localhost:8080/"
        },
        "id": "wGHcJhg_OQEQ",
        "outputId": "57940734-5fb3-4f4a-ebe4-82e52eaed188"
      },
      "execution_count": null,
      "outputs": [
        {
          "output_type": "stream",
          "name": "stdout",
          "text": [
            "[[ 1.         -0.05173942]\n",
            " [-0.05173942  1.        ]]\n"
          ]
        }
      ]
    },
    {
      "cell_type": "markdown",
      "source": [
        "## 순열과 조합"
      ],
      "metadata": {
        "id": "hqP6oao3Rr_q"
      }
    },
    {
      "cell_type": "code",
      "source": [
        "import itertools"
      ],
      "metadata": {
        "id": "2tULdvVORtDb"
      },
      "execution_count": 51,
      "outputs": []
    },
    {
      "cell_type": "markdown",
      "source": [
        "### 순열"
      ],
      "metadata": {
        "id": "t9vaCofvYvmQ"
      }
    },
    {
      "cell_type": "code",
      "source": [
        "list(itertools.permutations('ABCD', 2))"
      ],
      "metadata": {
        "colab": {
          "base_uri": "https://localhost:8080/"
        },
        "id": "SB1k1GOCSPBb",
        "outputId": "aa717594-8796-424a-8d1b-a3a47c9d3963"
      },
      "execution_count": 52,
      "outputs": [
        {
          "output_type": "execute_result",
          "data": {
            "text/plain": [
              "[('A', 'B'),\n",
              " ('A', 'C'),\n",
              " ('A', 'D'),\n",
              " ('B', 'A'),\n",
              " ('B', 'C'),\n",
              " ('B', 'D'),\n",
              " ('C', 'A'),\n",
              " ('C', 'B'),\n",
              " ('C', 'D'),\n",
              " ('D', 'A'),\n",
              " ('D', 'B'),\n",
              " ('D', 'C')]"
            ]
          },
          "metadata": {},
          "execution_count": 52
        }
      ]
    },
    {
      "cell_type": "code",
      "source": [
        "# ABCDEFG -> XCDEFG\n",
        "len(list(itertools.permutations('XCDEFG', 6)))"
      ],
      "metadata": {
        "colab": {
          "base_uri": "https://localhost:8080/"
        },
        "id": "DgVzHgIJRvCV",
        "outputId": "2f4c5080-0b31-4ee2-87c2-0d61e85e983c"
      },
      "execution_count": 53,
      "outputs": [
        {
          "output_type": "execute_result",
          "data": {
            "text/plain": [
              "720"
            ]
          },
          "metadata": {},
          "execution_count": 53
        }
      ]
    },
    {
      "cell_type": "markdown",
      "source": [
        "### 조합"
      ],
      "metadata": {
        "id": "HNGgRcSBYtGi"
      }
    },
    {
      "cell_type": "code",
      "source": [
        "list(itertools.combinations('ABCD', 2))"
      ],
      "metadata": {
        "colab": {
          "base_uri": "https://localhost:8080/"
        },
        "id": "BN1lICAUSGEz",
        "outputId": "9ed30acd-869a-405b-9c07-981d00bd4296"
      },
      "execution_count": 54,
      "outputs": [
        {
          "output_type": "execute_result",
          "data": {
            "text/plain": [
              "[('A', 'B'), ('A', 'C'), ('A', 'D'), ('B', 'C'), ('B', 'D'), ('C', 'D')]"
            ]
          },
          "metadata": {},
          "execution_count": 54
        }
      ]
    },
    {
      "cell_type": "code",
      "source": [
        "list(\n",
        "    itertools.product(\n",
        "        itertools.combinations('12345', 3),\n",
        "        itertools.combinations('1234567', 3)\n",
        "    )\n",
        ")"
      ],
      "metadata": {
        "id": "oChKMXTVSU4n",
        "colab": {
          "base_uri": "https://localhost:8080/"
        },
        "outputId": "c73243e5-f839-47a0-e59c-d1318f2c90ee"
      },
      "execution_count": 55,
      "outputs": [
        {
          "output_type": "execute_result",
          "data": {
            "text/plain": [
              "[(('1', '2', '3'), ('1', '2', '3')),\n",
              " (('1', '2', '3'), ('1', '2', '4')),\n",
              " (('1', '2', '3'), ('1', '2', '5')),\n",
              " (('1', '2', '3'), ('1', '2', '6')),\n",
              " (('1', '2', '3'), ('1', '2', '7')),\n",
              " (('1', '2', '3'), ('1', '3', '4')),\n",
              " (('1', '2', '3'), ('1', '3', '5')),\n",
              " (('1', '2', '3'), ('1', '3', '6')),\n",
              " (('1', '2', '3'), ('1', '3', '7')),\n",
              " (('1', '2', '3'), ('1', '4', '5')),\n",
              " (('1', '2', '3'), ('1', '4', '6')),\n",
              " (('1', '2', '3'), ('1', '4', '7')),\n",
              " (('1', '2', '3'), ('1', '5', '6')),\n",
              " (('1', '2', '3'), ('1', '5', '7')),\n",
              " (('1', '2', '3'), ('1', '6', '7')),\n",
              " (('1', '2', '3'), ('2', '3', '4')),\n",
              " (('1', '2', '3'), ('2', '3', '5')),\n",
              " (('1', '2', '3'), ('2', '3', '6')),\n",
              " (('1', '2', '3'), ('2', '3', '7')),\n",
              " (('1', '2', '3'), ('2', '4', '5')),\n",
              " (('1', '2', '3'), ('2', '4', '6')),\n",
              " (('1', '2', '3'), ('2', '4', '7')),\n",
              " (('1', '2', '3'), ('2', '5', '6')),\n",
              " (('1', '2', '3'), ('2', '5', '7')),\n",
              " (('1', '2', '3'), ('2', '6', '7')),\n",
              " (('1', '2', '3'), ('3', '4', '5')),\n",
              " (('1', '2', '3'), ('3', '4', '6')),\n",
              " (('1', '2', '3'), ('3', '4', '7')),\n",
              " (('1', '2', '3'), ('3', '5', '6')),\n",
              " (('1', '2', '3'), ('3', '5', '7')),\n",
              " (('1', '2', '3'), ('3', '6', '7')),\n",
              " (('1', '2', '3'), ('4', '5', '6')),\n",
              " (('1', '2', '3'), ('4', '5', '7')),\n",
              " (('1', '2', '3'), ('4', '6', '7')),\n",
              " (('1', '2', '3'), ('5', '6', '7')),\n",
              " (('1', '2', '4'), ('1', '2', '3')),\n",
              " (('1', '2', '4'), ('1', '2', '4')),\n",
              " (('1', '2', '4'), ('1', '2', '5')),\n",
              " (('1', '2', '4'), ('1', '2', '6')),\n",
              " (('1', '2', '4'), ('1', '2', '7')),\n",
              " (('1', '2', '4'), ('1', '3', '4')),\n",
              " (('1', '2', '4'), ('1', '3', '5')),\n",
              " (('1', '2', '4'), ('1', '3', '6')),\n",
              " (('1', '2', '4'), ('1', '3', '7')),\n",
              " (('1', '2', '4'), ('1', '4', '5')),\n",
              " (('1', '2', '4'), ('1', '4', '6')),\n",
              " (('1', '2', '4'), ('1', '4', '7')),\n",
              " (('1', '2', '4'), ('1', '5', '6')),\n",
              " (('1', '2', '4'), ('1', '5', '7')),\n",
              " (('1', '2', '4'), ('1', '6', '7')),\n",
              " (('1', '2', '4'), ('2', '3', '4')),\n",
              " (('1', '2', '4'), ('2', '3', '5')),\n",
              " (('1', '2', '4'), ('2', '3', '6')),\n",
              " (('1', '2', '4'), ('2', '3', '7')),\n",
              " (('1', '2', '4'), ('2', '4', '5')),\n",
              " (('1', '2', '4'), ('2', '4', '6')),\n",
              " (('1', '2', '4'), ('2', '4', '7')),\n",
              " (('1', '2', '4'), ('2', '5', '6')),\n",
              " (('1', '2', '4'), ('2', '5', '7')),\n",
              " (('1', '2', '4'), ('2', '6', '7')),\n",
              " (('1', '2', '4'), ('3', '4', '5')),\n",
              " (('1', '2', '4'), ('3', '4', '6')),\n",
              " (('1', '2', '4'), ('3', '4', '7')),\n",
              " (('1', '2', '4'), ('3', '5', '6')),\n",
              " (('1', '2', '4'), ('3', '5', '7')),\n",
              " (('1', '2', '4'), ('3', '6', '7')),\n",
              " (('1', '2', '4'), ('4', '5', '6')),\n",
              " (('1', '2', '4'), ('4', '5', '7')),\n",
              " (('1', '2', '4'), ('4', '6', '7')),\n",
              " (('1', '2', '4'), ('5', '6', '7')),\n",
              " (('1', '2', '5'), ('1', '2', '3')),\n",
              " (('1', '2', '5'), ('1', '2', '4')),\n",
              " (('1', '2', '5'), ('1', '2', '5')),\n",
              " (('1', '2', '5'), ('1', '2', '6')),\n",
              " (('1', '2', '5'), ('1', '2', '7')),\n",
              " (('1', '2', '5'), ('1', '3', '4')),\n",
              " (('1', '2', '5'), ('1', '3', '5')),\n",
              " (('1', '2', '5'), ('1', '3', '6')),\n",
              " (('1', '2', '5'), ('1', '3', '7')),\n",
              " (('1', '2', '5'), ('1', '4', '5')),\n",
              " (('1', '2', '5'), ('1', '4', '6')),\n",
              " (('1', '2', '5'), ('1', '4', '7')),\n",
              " (('1', '2', '5'), ('1', '5', '6')),\n",
              " (('1', '2', '5'), ('1', '5', '7')),\n",
              " (('1', '2', '5'), ('1', '6', '7')),\n",
              " (('1', '2', '5'), ('2', '3', '4')),\n",
              " (('1', '2', '5'), ('2', '3', '5')),\n",
              " (('1', '2', '5'), ('2', '3', '6')),\n",
              " (('1', '2', '5'), ('2', '3', '7')),\n",
              " (('1', '2', '5'), ('2', '4', '5')),\n",
              " (('1', '2', '5'), ('2', '4', '6')),\n",
              " (('1', '2', '5'), ('2', '4', '7')),\n",
              " (('1', '2', '5'), ('2', '5', '6')),\n",
              " (('1', '2', '5'), ('2', '5', '7')),\n",
              " (('1', '2', '5'), ('2', '6', '7')),\n",
              " (('1', '2', '5'), ('3', '4', '5')),\n",
              " (('1', '2', '5'), ('3', '4', '6')),\n",
              " (('1', '2', '5'), ('3', '4', '7')),\n",
              " (('1', '2', '5'), ('3', '5', '6')),\n",
              " (('1', '2', '5'), ('3', '5', '7')),\n",
              " (('1', '2', '5'), ('3', '6', '7')),\n",
              " (('1', '2', '5'), ('4', '5', '6')),\n",
              " (('1', '2', '5'), ('4', '5', '7')),\n",
              " (('1', '2', '5'), ('4', '6', '7')),\n",
              " (('1', '2', '5'), ('5', '6', '7')),\n",
              " (('1', '3', '4'), ('1', '2', '3')),\n",
              " (('1', '3', '4'), ('1', '2', '4')),\n",
              " (('1', '3', '4'), ('1', '2', '5')),\n",
              " (('1', '3', '4'), ('1', '2', '6')),\n",
              " (('1', '3', '4'), ('1', '2', '7')),\n",
              " (('1', '3', '4'), ('1', '3', '4')),\n",
              " (('1', '3', '4'), ('1', '3', '5')),\n",
              " (('1', '3', '4'), ('1', '3', '6')),\n",
              " (('1', '3', '4'), ('1', '3', '7')),\n",
              " (('1', '3', '4'), ('1', '4', '5')),\n",
              " (('1', '3', '4'), ('1', '4', '6')),\n",
              " (('1', '3', '4'), ('1', '4', '7')),\n",
              " (('1', '3', '4'), ('1', '5', '6')),\n",
              " (('1', '3', '4'), ('1', '5', '7')),\n",
              " (('1', '3', '4'), ('1', '6', '7')),\n",
              " (('1', '3', '4'), ('2', '3', '4')),\n",
              " (('1', '3', '4'), ('2', '3', '5')),\n",
              " (('1', '3', '4'), ('2', '3', '6')),\n",
              " (('1', '3', '4'), ('2', '3', '7')),\n",
              " (('1', '3', '4'), ('2', '4', '5')),\n",
              " (('1', '3', '4'), ('2', '4', '6')),\n",
              " (('1', '3', '4'), ('2', '4', '7')),\n",
              " (('1', '3', '4'), ('2', '5', '6')),\n",
              " (('1', '3', '4'), ('2', '5', '7')),\n",
              " (('1', '3', '4'), ('2', '6', '7')),\n",
              " (('1', '3', '4'), ('3', '4', '5')),\n",
              " (('1', '3', '4'), ('3', '4', '6')),\n",
              " (('1', '3', '4'), ('3', '4', '7')),\n",
              " (('1', '3', '4'), ('3', '5', '6')),\n",
              " (('1', '3', '4'), ('3', '5', '7')),\n",
              " (('1', '3', '4'), ('3', '6', '7')),\n",
              " (('1', '3', '4'), ('4', '5', '6')),\n",
              " (('1', '3', '4'), ('4', '5', '7')),\n",
              " (('1', '3', '4'), ('4', '6', '7')),\n",
              " (('1', '3', '4'), ('5', '6', '7')),\n",
              " (('1', '3', '5'), ('1', '2', '3')),\n",
              " (('1', '3', '5'), ('1', '2', '4')),\n",
              " (('1', '3', '5'), ('1', '2', '5')),\n",
              " (('1', '3', '5'), ('1', '2', '6')),\n",
              " (('1', '3', '5'), ('1', '2', '7')),\n",
              " (('1', '3', '5'), ('1', '3', '4')),\n",
              " (('1', '3', '5'), ('1', '3', '5')),\n",
              " (('1', '3', '5'), ('1', '3', '6')),\n",
              " (('1', '3', '5'), ('1', '3', '7')),\n",
              " (('1', '3', '5'), ('1', '4', '5')),\n",
              " (('1', '3', '5'), ('1', '4', '6')),\n",
              " (('1', '3', '5'), ('1', '4', '7')),\n",
              " (('1', '3', '5'), ('1', '5', '6')),\n",
              " (('1', '3', '5'), ('1', '5', '7')),\n",
              " (('1', '3', '5'), ('1', '6', '7')),\n",
              " (('1', '3', '5'), ('2', '3', '4')),\n",
              " (('1', '3', '5'), ('2', '3', '5')),\n",
              " (('1', '3', '5'), ('2', '3', '6')),\n",
              " (('1', '3', '5'), ('2', '3', '7')),\n",
              " (('1', '3', '5'), ('2', '4', '5')),\n",
              " (('1', '3', '5'), ('2', '4', '6')),\n",
              " (('1', '3', '5'), ('2', '4', '7')),\n",
              " (('1', '3', '5'), ('2', '5', '6')),\n",
              " (('1', '3', '5'), ('2', '5', '7')),\n",
              " (('1', '3', '5'), ('2', '6', '7')),\n",
              " (('1', '3', '5'), ('3', '4', '5')),\n",
              " (('1', '3', '5'), ('3', '4', '6')),\n",
              " (('1', '3', '5'), ('3', '4', '7')),\n",
              " (('1', '3', '5'), ('3', '5', '6')),\n",
              " (('1', '3', '5'), ('3', '5', '7')),\n",
              " (('1', '3', '5'), ('3', '6', '7')),\n",
              " (('1', '3', '5'), ('4', '5', '6')),\n",
              " (('1', '3', '5'), ('4', '5', '7')),\n",
              " (('1', '3', '5'), ('4', '6', '7')),\n",
              " (('1', '3', '5'), ('5', '6', '7')),\n",
              " (('1', '4', '5'), ('1', '2', '3')),\n",
              " (('1', '4', '5'), ('1', '2', '4')),\n",
              " (('1', '4', '5'), ('1', '2', '5')),\n",
              " (('1', '4', '5'), ('1', '2', '6')),\n",
              " (('1', '4', '5'), ('1', '2', '7')),\n",
              " (('1', '4', '5'), ('1', '3', '4')),\n",
              " (('1', '4', '5'), ('1', '3', '5')),\n",
              " (('1', '4', '5'), ('1', '3', '6')),\n",
              " (('1', '4', '5'), ('1', '3', '7')),\n",
              " (('1', '4', '5'), ('1', '4', '5')),\n",
              " (('1', '4', '5'), ('1', '4', '6')),\n",
              " (('1', '4', '5'), ('1', '4', '7')),\n",
              " (('1', '4', '5'), ('1', '5', '6')),\n",
              " (('1', '4', '5'), ('1', '5', '7')),\n",
              " (('1', '4', '5'), ('1', '6', '7')),\n",
              " (('1', '4', '5'), ('2', '3', '4')),\n",
              " (('1', '4', '5'), ('2', '3', '5')),\n",
              " (('1', '4', '5'), ('2', '3', '6')),\n",
              " (('1', '4', '5'), ('2', '3', '7')),\n",
              " (('1', '4', '5'), ('2', '4', '5')),\n",
              " (('1', '4', '5'), ('2', '4', '6')),\n",
              " (('1', '4', '5'), ('2', '4', '7')),\n",
              " (('1', '4', '5'), ('2', '5', '6')),\n",
              " (('1', '4', '5'), ('2', '5', '7')),\n",
              " (('1', '4', '5'), ('2', '6', '7')),\n",
              " (('1', '4', '5'), ('3', '4', '5')),\n",
              " (('1', '4', '5'), ('3', '4', '6')),\n",
              " (('1', '4', '5'), ('3', '4', '7')),\n",
              " (('1', '4', '5'), ('3', '5', '6')),\n",
              " (('1', '4', '5'), ('3', '5', '7')),\n",
              " (('1', '4', '5'), ('3', '6', '7')),\n",
              " (('1', '4', '5'), ('4', '5', '6')),\n",
              " (('1', '4', '5'), ('4', '5', '7')),\n",
              " (('1', '4', '5'), ('4', '6', '7')),\n",
              " (('1', '4', '5'), ('5', '6', '7')),\n",
              " (('2', '3', '4'), ('1', '2', '3')),\n",
              " (('2', '3', '4'), ('1', '2', '4')),\n",
              " (('2', '3', '4'), ('1', '2', '5')),\n",
              " (('2', '3', '4'), ('1', '2', '6')),\n",
              " (('2', '3', '4'), ('1', '2', '7')),\n",
              " (('2', '3', '4'), ('1', '3', '4')),\n",
              " (('2', '3', '4'), ('1', '3', '5')),\n",
              " (('2', '3', '4'), ('1', '3', '6')),\n",
              " (('2', '3', '4'), ('1', '3', '7')),\n",
              " (('2', '3', '4'), ('1', '4', '5')),\n",
              " (('2', '3', '4'), ('1', '4', '6')),\n",
              " (('2', '3', '4'), ('1', '4', '7')),\n",
              " (('2', '3', '4'), ('1', '5', '6')),\n",
              " (('2', '3', '4'), ('1', '5', '7')),\n",
              " (('2', '3', '4'), ('1', '6', '7')),\n",
              " (('2', '3', '4'), ('2', '3', '4')),\n",
              " (('2', '3', '4'), ('2', '3', '5')),\n",
              " (('2', '3', '4'), ('2', '3', '6')),\n",
              " (('2', '3', '4'), ('2', '3', '7')),\n",
              " (('2', '3', '4'), ('2', '4', '5')),\n",
              " (('2', '3', '4'), ('2', '4', '6')),\n",
              " (('2', '3', '4'), ('2', '4', '7')),\n",
              " (('2', '3', '4'), ('2', '5', '6')),\n",
              " (('2', '3', '4'), ('2', '5', '7')),\n",
              " (('2', '3', '4'), ('2', '6', '7')),\n",
              " (('2', '3', '4'), ('3', '4', '5')),\n",
              " (('2', '3', '4'), ('3', '4', '6')),\n",
              " (('2', '3', '4'), ('3', '4', '7')),\n",
              " (('2', '3', '4'), ('3', '5', '6')),\n",
              " (('2', '3', '4'), ('3', '5', '7')),\n",
              " (('2', '3', '4'), ('3', '6', '7')),\n",
              " (('2', '3', '4'), ('4', '5', '6')),\n",
              " (('2', '3', '4'), ('4', '5', '7')),\n",
              " (('2', '3', '4'), ('4', '6', '7')),\n",
              " (('2', '3', '4'), ('5', '6', '7')),\n",
              " (('2', '3', '5'), ('1', '2', '3')),\n",
              " (('2', '3', '5'), ('1', '2', '4')),\n",
              " (('2', '3', '5'), ('1', '2', '5')),\n",
              " (('2', '3', '5'), ('1', '2', '6')),\n",
              " (('2', '3', '5'), ('1', '2', '7')),\n",
              " (('2', '3', '5'), ('1', '3', '4')),\n",
              " (('2', '3', '5'), ('1', '3', '5')),\n",
              " (('2', '3', '5'), ('1', '3', '6')),\n",
              " (('2', '3', '5'), ('1', '3', '7')),\n",
              " (('2', '3', '5'), ('1', '4', '5')),\n",
              " (('2', '3', '5'), ('1', '4', '6')),\n",
              " (('2', '3', '5'), ('1', '4', '7')),\n",
              " (('2', '3', '5'), ('1', '5', '6')),\n",
              " (('2', '3', '5'), ('1', '5', '7')),\n",
              " (('2', '3', '5'), ('1', '6', '7')),\n",
              " (('2', '3', '5'), ('2', '3', '4')),\n",
              " (('2', '3', '5'), ('2', '3', '5')),\n",
              " (('2', '3', '5'), ('2', '3', '6')),\n",
              " (('2', '3', '5'), ('2', '3', '7')),\n",
              " (('2', '3', '5'), ('2', '4', '5')),\n",
              " (('2', '3', '5'), ('2', '4', '6')),\n",
              " (('2', '3', '5'), ('2', '4', '7')),\n",
              " (('2', '3', '5'), ('2', '5', '6')),\n",
              " (('2', '3', '5'), ('2', '5', '7')),\n",
              " (('2', '3', '5'), ('2', '6', '7')),\n",
              " (('2', '3', '5'), ('3', '4', '5')),\n",
              " (('2', '3', '5'), ('3', '4', '6')),\n",
              " (('2', '3', '5'), ('3', '4', '7')),\n",
              " (('2', '3', '5'), ('3', '5', '6')),\n",
              " (('2', '3', '5'), ('3', '5', '7')),\n",
              " (('2', '3', '5'), ('3', '6', '7')),\n",
              " (('2', '3', '5'), ('4', '5', '6')),\n",
              " (('2', '3', '5'), ('4', '5', '7')),\n",
              " (('2', '3', '5'), ('4', '6', '7')),\n",
              " (('2', '3', '5'), ('5', '6', '7')),\n",
              " (('2', '4', '5'), ('1', '2', '3')),\n",
              " (('2', '4', '5'), ('1', '2', '4')),\n",
              " (('2', '4', '5'), ('1', '2', '5')),\n",
              " (('2', '4', '5'), ('1', '2', '6')),\n",
              " (('2', '4', '5'), ('1', '2', '7')),\n",
              " (('2', '4', '5'), ('1', '3', '4')),\n",
              " (('2', '4', '5'), ('1', '3', '5')),\n",
              " (('2', '4', '5'), ('1', '3', '6')),\n",
              " (('2', '4', '5'), ('1', '3', '7')),\n",
              " (('2', '4', '5'), ('1', '4', '5')),\n",
              " (('2', '4', '5'), ('1', '4', '6')),\n",
              " (('2', '4', '5'), ('1', '4', '7')),\n",
              " (('2', '4', '5'), ('1', '5', '6')),\n",
              " (('2', '4', '5'), ('1', '5', '7')),\n",
              " (('2', '4', '5'), ('1', '6', '7')),\n",
              " (('2', '4', '5'), ('2', '3', '4')),\n",
              " (('2', '4', '5'), ('2', '3', '5')),\n",
              " (('2', '4', '5'), ('2', '3', '6')),\n",
              " (('2', '4', '5'), ('2', '3', '7')),\n",
              " (('2', '4', '5'), ('2', '4', '5')),\n",
              " (('2', '4', '5'), ('2', '4', '6')),\n",
              " (('2', '4', '5'), ('2', '4', '7')),\n",
              " (('2', '4', '5'), ('2', '5', '6')),\n",
              " (('2', '4', '5'), ('2', '5', '7')),\n",
              " (('2', '4', '5'), ('2', '6', '7')),\n",
              " (('2', '4', '5'), ('3', '4', '5')),\n",
              " (('2', '4', '5'), ('3', '4', '6')),\n",
              " (('2', '4', '5'), ('3', '4', '7')),\n",
              " (('2', '4', '5'), ('3', '5', '6')),\n",
              " (('2', '4', '5'), ('3', '5', '7')),\n",
              " (('2', '4', '5'), ('3', '6', '7')),\n",
              " (('2', '4', '5'), ('4', '5', '6')),\n",
              " (('2', '4', '5'), ('4', '5', '7')),\n",
              " (('2', '4', '5'), ('4', '6', '7')),\n",
              " (('2', '4', '5'), ('5', '6', '7')),\n",
              " (('3', '4', '5'), ('1', '2', '3')),\n",
              " (('3', '4', '5'), ('1', '2', '4')),\n",
              " (('3', '4', '5'), ('1', '2', '5')),\n",
              " (('3', '4', '5'), ('1', '2', '6')),\n",
              " (('3', '4', '5'), ('1', '2', '7')),\n",
              " (('3', '4', '5'), ('1', '3', '4')),\n",
              " (('3', '4', '5'), ('1', '3', '5')),\n",
              " (('3', '4', '5'), ('1', '3', '6')),\n",
              " (('3', '4', '5'), ('1', '3', '7')),\n",
              " (('3', '4', '5'), ('1', '4', '5')),\n",
              " (('3', '4', '5'), ('1', '4', '6')),\n",
              " (('3', '4', '5'), ('1', '4', '7')),\n",
              " (('3', '4', '5'), ('1', '5', '6')),\n",
              " (('3', '4', '5'), ('1', '5', '7')),\n",
              " (('3', '4', '5'), ('1', '6', '7')),\n",
              " (('3', '4', '5'), ('2', '3', '4')),\n",
              " (('3', '4', '5'), ('2', '3', '5')),\n",
              " (('3', '4', '5'), ('2', '3', '6')),\n",
              " (('3', '4', '5'), ('2', '3', '7')),\n",
              " (('3', '4', '5'), ('2', '4', '5')),\n",
              " (('3', '4', '5'), ('2', '4', '6')),\n",
              " (('3', '4', '5'), ('2', '4', '7')),\n",
              " (('3', '4', '5'), ('2', '5', '6')),\n",
              " (('3', '4', '5'), ('2', '5', '7')),\n",
              " (('3', '4', '5'), ('2', '6', '7')),\n",
              " (('3', '4', '5'), ('3', '4', '5')),\n",
              " (('3', '4', '5'), ('3', '4', '6')),\n",
              " (('3', '4', '5'), ('3', '4', '7')),\n",
              " (('3', '4', '5'), ('3', '5', '6')),\n",
              " (('3', '4', '5'), ('3', '5', '7')),\n",
              " (('3', '4', '5'), ('3', '6', '7')),\n",
              " (('3', '4', '5'), ('4', '5', '6')),\n",
              " (('3', '4', '5'), ('4', '5', '7')),\n",
              " (('3', '4', '5'), ('4', '6', '7')),\n",
              " (('3', '4', '5'), ('5', '6', '7'))]"
            ]
          },
          "metadata": {},
          "execution_count": 55
        }
      ]
    },
    {
      "cell_type": "markdown",
      "source": [
        "## 이산 확률 분포"
      ],
      "metadata": {
        "id": "anKRA3ujVnVP"
      }
    },
    {
      "cell_type": "code",
      "source": [
        "from scipy.stats import bernoulli, multinomial"
      ],
      "metadata": {
        "id": "1X92_qVEVqaA"
      },
      "execution_count": 56,
      "outputs": []
    },
    {
      "cell_type": "markdown",
      "source": [
        "### 베르누이 분포\n",
        "\n",
        "- scipy의 기능을 이용해 모수 `mu`를 지정하여 확률변수 정의"
      ],
      "metadata": {
        "id": "-i_rfhJsVbQB"
      }
    },
    {
      "cell_type": "code",
      "source": [
        "mu = 0.25\n",
        "\n",
        "# 확률변수 정의\n",
        "bern_rv = bernoulli(mu)\n",
        "\n",
        "# 확률질량함수\n",
        "print(f\"P(X=1)={bern_rv.pmf(1)}, \\\n",
        "        P(X=0)={bern_rv.pmf(0)}\")\n",
        "\n",
        "fig = plt.figure(figsize=(6,5))\n",
        "ax = plt.axes()\n",
        "\n",
        "xticks = [0, 1]\n",
        "\n",
        "ax.bar([0, 1], [bern_rv.pmf(0), bern_rv.pmf(1)], color='0.7', edgecolor='k')\n",
        "ax.set_xticks(xticks)\n",
        "ax.set_xlabel(r\"$X$\")\n",
        "ax.set_ylabel(\"Probability\")\n",
        "ax.set_title(r\"Bernoulli Distribution for $\\mu$=0.25\")\n",
        "\n",
        "ax.tick_params(axis='x', labelsize=\"small\")\n",
        "ax.tick_params(axis='y', labelsize=\"small\")\n",
        "\n",
        "# axes의 right, top 축 감추기\n",
        "ax.spines[\"right\"].set_visible(False)\n",
        "ax.spines[\"top\"].set_visible(False)\n",
        "\n",
        "plt.show()\n",
        "\n"
      ],
      "metadata": {
        "colab": {
          "base_uri": "https://localhost:8080/",
          "height": 371
        },
        "id": "4iNxWUqIVhz6",
        "outputId": "795cc404-e21e-4ff0-fce6-b7f30f11644f"
      },
      "execution_count": 57,
      "outputs": [
        {
          "output_type": "stream",
          "name": "stdout",
          "text": [
            "P(X=1)=0.25,         P(X=0)=0.75\n"
          ]
        },
        {
          "output_type": "display_data",
          "data": {
            "text/plain": [
              "<Figure size 432x360 with 1 Axes>"
            ],
            "image/png": "[encoded data removed]"
          },
          "metadata": {
            "needs_background": "light"
          }
        }
      ]
    },
    {
      "cell_type": "markdown",
      "source": [
        "#### 베르누이 분포 시뮬레이션\n",
        "\n",
        "- 정의된 확률변수로 부터 데이터를 샘플링하여 이론적인 분포와 비슷하게 샘플들이 분포하는지 확인"
      ],
      "metadata": {
        "id": "Fb7Ff8FHV7WV"
      }
    },
    {
      "cell_type": "code",
      "source": [
        "# 랜덤 샘플링\n",
        "samples = bern_rv.rvs(size=100)\n",
        "\n",
        "fig = plt.figure(figsize=(6,5))\n",
        "ax = plt.axes()\n",
        "\n",
        "ax.hist(samples, bins=range(3), density=False, color='0.7', edgecolor='k')\n",
        "\n",
        "xticks = np.arange(2)+0.5\n",
        "ax.set_xticks(xticks)\n",
        "ax.set_xticklabels(['0', '1'])\n",
        "\n",
        "plt.show()"
      ],
      "metadata": {
        "colab": {
          "base_uri": "https://localhost:8080/",
          "height": 320
        },
        "id": "MPp3MCHHV951",
        "outputId": "ca795066-28c9-4567-dd02-8c11377835e1"
      },
      "execution_count": 58,
      "outputs": [
        {
          "output_type": "display_data",
          "data": {
            "text/plain": [
              "<Figure size 432x360 with 1 Axes>"
            ],
            "image/png": "[encoded data removed]"
          },
          "metadata": {
            "needs_background": "light"
          }
        }
      ]
    },
    {
      "cell_type": "markdown",
      "source": [
        "## 멀티누이 분포"
      ],
      "metadata": {
        "id": "opAD2y-RVa3y"
      }
    },
    {
      "cell_type": "code",
      "source": [
        "K = 6\n",
        "mu = [1/21, 2/21, 3/21, 4/21, 5/21, 6/21]\n",
        "\n",
        "# 확률변수 정의\n",
        "cat_rv = multinomial(n=1, p=mu)\n",
        "\n",
        "# 원핫인코딩된 변수\n",
        "X = np.zeros((6,6))\n",
        "X[np.arange(K), np.arange(K)] = 1\n",
        "\n",
        "# 확률질량함수\n",
        "for x in X:\n",
        "    print(f\"P(X={x})={cat_rv.pmf(x):.6f}\")\n",
        "\n",
        "fig = plt.figure(figsize=(6,5))\n",
        "ax = plt.axes()\n",
        "\n",
        "xticks = np.arange(6)\n",
        "\n",
        "ax.bar(xticks+1, cat_rv.pmf(X), color='0.7', edgecolor='k')\n",
        "ax.set_xticks(xticks+1)\n",
        "ax.set_xlabel(r\"$X$\")\n",
        "ax.set_ylabel(\"Probability\")\n",
        "ax.set_title(r\"Multinoulli Distribution for $\\mu$=[1/21, 2/21, 3/21, 4/21, 5/21, 6/21]\")\n",
        "\n",
        "ax.tick_params(axis='x', labelsize=\"small\")\n",
        "ax.tick_params(axis='y', labelsize=\"small\")\n",
        "\n",
        "# axes의 right, top 축 감추기\n",
        "ax.spines[\"right\"].set_visible(False)\n",
        "ax.spines[\"top\"].set_visible(False)\n",
        "\n",
        "plt.show()\n",
        "\n"
      ],
      "metadata": {
        "colab": {
          "base_uri": "https://localhost:8080/",
          "height": 460
        },
        "id": "Y63sbbdyViM3",
        "outputId": "3dcfc688-fac0-4cff-b1d3-cb7304fea8b3"
      },
      "execution_count": 61,
      "outputs": [
        {
          "output_type": "stream",
          "name": "stdout",
          "text": [
            "P(X=[1. 0. 0. 0. 0. 0.])=0.047619\n",
            "P(X=[0. 1. 0. 0. 0. 0.])=0.095238\n",
            "P(X=[0. 0. 1. 0. 0. 0.])=0.142857\n",
            "P(X=[0. 0. 0. 1. 0. 0.])=0.190476\n",
            "P(X=[0. 0. 0. 0. 1. 0.])=0.238095\n",
            "P(X=[0. 0. 0. 0. 0. 1.])=0.285714\n"
          ]
        },
        {
          "output_type": "display_data",
          "data": {
            "text/plain": [
              "<Figure size 432x360 with 1 Axes>"
            ],
            "image/png": "[encoded data removed]"
          },
          "metadata": {
            "needs_background": "light"
          }
        }
      ]
    },
    {
      "cell_type": "markdown",
      "source": [
        "#### 멀티누이 분포 시뮬레이션"
      ],
      "metadata": {
        "id": "X8r-rwnOWjXG"
      }
    },
    {
      "cell_type": "code",
      "source": [
        "# 시뮬레이션\n",
        "\n",
        "# 랜덤 샘플링 (1000, 6)\n",
        "samples = cat_rv.rvs(size=1000).argmax(axis=1)\n",
        "\n",
        "fig = plt.figure(figsize=(6,5))\n",
        "ax = plt.axes()\n",
        "\n",
        "ax.hist(samples, bins=range(K+1), density=False, color='0.7', edgecolor='k')\n",
        "\n",
        "xticks = np.arange(K+1)+0.5\n",
        "ax.set_xticks(xticks)\n",
        "ax.set_xticklabels(np.arange(K+1)+1)\n",
        "\n",
        "plt.show()"
      ],
      "metadata": {
        "colab": {
          "base_uri": "https://localhost:8080/",
          "height": 320
        },
        "id": "BDfo--8IWnuw",
        "outputId": "39966cc5-3f66-4be0-be1a-29c135d3f560"
      },
      "execution_count": 60,
      "outputs": [
        {
          "output_type": "display_data",
          "data": {
            "text/plain": [
              "<Figure size 432x360 with 1 Axes>"
            ],
            "image/png": "[encoded data removed]"
          },
          "metadata": {
            "needs_background": "light"
          }
        }
      ]
    },
    {
      "cell_type": "markdown",
      "source": [
        "## 결합확률분포\n",
        "\n",
        "![image.png](data:image/png;base64,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)"
      ],
      "metadata": {
        "id": "L0pAccTvloWv"
      }
    },
    {
      "cell_type": "markdown",
      "source": [
        "- 확률변수 X, Y가 결합된 확률 변수를 XY라고 하면\n",
        "\n",
        "- 위 그림처럼 분포하는 결합 확률분포에 대해서 결합확률질량함수를 아래처럼 코딩"
      ],
      "metadata": {
        "id": "eF3xgkrNbgsq"
      }
    },
    {
      "cell_type": "code",
      "source": [
        "def f_XY(x, y):\n",
        "    if x in [5,6,7] and y in [8,9]:\n",
        "        p = 0.0\n",
        "\n",
        "        if (x,y) == (5,8):\n",
        "            p = 0\n",
        "        if (x,y) == (5,9):\n",
        "            p = 0.3\n",
        "        if (x,y) == (6,8):\n",
        "            p = 0.4\n",
        "        if (x,y) == (6,9):\n",
        "            p = 0\n",
        "        if (x,y) == (7,8):\n",
        "            p = 0.1\n",
        "        if (x,y) == (7,9):\n",
        "            p = 0.2\n",
        "\n",
        "        return p\n",
        "    else:\n",
        "        return 0"
      ],
      "metadata": {
        "id": "768V9VODYZts"
      },
      "execution_count": 62,
      "outputs": []
    },
    {
      "cell_type": "markdown",
      "source": [
        "- 확률변수 X와 Y가 가질 수 있는 값들을 정의"
      ],
      "metadata": {
        "id": "afAhH3qwcdZe"
      }
    },
    {
      "cell_type": "code",
      "source": [
        "x_supp = np.array([5,6,7])\n",
        "y_supp = np.array([8,9])"
      ],
      "metadata": {
        "id": "Ac9HoTlOh55W"
      },
      "execution_count": 63,
      "outputs": []
    },
    {
      "cell_type": "markdown",
      "source": [
        "### 분포로부터 기댓값, 분산, 공분산\n",
        "\n",
        "- X, Y의 가능한 값과 그 값에 대한 확률을 모두 알고 있으므로 이론적으로 기댓값, 분산, 공분산을 구할 수 있음"
      ],
      "metadata": {
        "id": "UjCHu9GOiixY"
      }
    },
    {
      "cell_type": "code",
      "source": [
        "# X, Y에 대한 기댓값을 각각 구함\n",
        "mean_X = 0.0\n",
        "for x in x_supp:\n",
        "    for y in y_supp:\n",
        "        mean_X += np.array([x])*f_XY(x, y)\n",
        "print(\"E[X]=\",mean_X)\n",
        "\n",
        "mean_Y = 0.0\n",
        "for x in x_supp:\n",
        "    for y in y_supp:\n",
        "        mean_Y += np.array([y])*f_XY(x, y)\n",
        "print(\"E[Y]=\",mean_Y)"
      ],
      "metadata": {
        "colab": {
          "base_uri": "https://localhost:8080/"
        },
        "id": "VHi-CjH9iEdY",
        "outputId": "1ff5b51e-b42f-430d-de7c-a05c1496e50f"
      },
      "execution_count": 64,
      "outputs": [
        {
          "output_type": "stream",
          "name": "stdout",
          "text": [
            "E[X]= [6.]\n",
            "E[Y]= [8.5]\n"
          ]
        }
      ]
    },
    {
      "cell_type": "code",
      "source": [
        "# 변수 XY에 대한 기댓값을 바로 구함\n",
        "\n",
        "mean_XY = np.array([0., 0.])\n",
        "for x in x_supp:\n",
        "    for y in y_supp:\n",
        "        mean_XY += np.array([x, y])*f_XY(x, y)\n",
        "print(\"E[XY]=\",mean_XY)"
      ],
      "metadata": {
        "colab": {
          "base_uri": "https://localhost:8080/"
        },
        "id": "IM6R0xp2h78e",
        "outputId": "64f59d1a-9191-428f-9108-3e02c843204a"
      },
      "execution_count": 65,
      "outputs": [
        {
          "output_type": "stream",
          "name": "stdout",
          "text": [
            "E[XY]= [6.  8.5]\n"
          ]
        }
      ]
    },
    {
      "cell_type": "markdown",
      "source": [
        "- 비슷하게 각 변수의 분산과 공분산을 이론적으로 구함"
      ],
      "metadata": {
        "id": "ZOfdQ6Abc_7E"
      }
    },
    {
      "cell_type": "code",
      "source": [
        "var_X = 0.0\n",
        "for x in x_supp:\n",
        "    for y in y_supp:\n",
        "        var_X += (np.array([x]) - mean_X)**2 * f_XY(x, y)\n",
        "print(\"Var[X]=\",var_X)\n",
        "\n",
        "var_Y = 0.0\n",
        "for x in x_supp:\n",
        "    for y in y_supp:\n",
        "        var_Y += (np.array([y]) - mean_Y)**2 * f_XY(x, y)\n",
        "print(\"Var[Y]=\",var_Y)"
      ],
      "metadata": {
        "colab": {
          "base_uri": "https://localhost:8080/"
        },
        "id": "j8m7HQCRjLQA",
        "outputId": "f6c7e8e6-0a11-45a5-fb37-087aecf24613"
      },
      "execution_count": null,
      "outputs": [
        {
          "output_type": "stream",
          "name": "stdout",
          "text": [
            "Var[X]= [0.6]\n",
            "Var[Y]= [0.25]\n"
          ]
        }
      ]
    },
    {
      "cell_type": "code",
      "source": [
        "cov_XY = 0.0\n",
        "for x in x_supp:\n",
        "    for y in y_supp:\n",
        "        cov_XY += np.prod(np.array([x, y]) - mean_XY) * f_XY(x, y)\n",
        "print(\"Cov[X,Y]=\",cov_XY)"
      ],
      "metadata": {
        "colab": {
          "base_uri": "https://localhost:8080/"
        },
        "id": "yqxvnUeMjgm2",
        "outputId": "9d8920cc-11f6-42f1-afbc-43307cc17a71"
      },
      "execution_count": null,
      "outputs": [
        {
          "output_type": "stream",
          "name": "stdout",
          "text": [
            "Cov[X,Y]= -0.1\n"
          ]
        }
      ]
    },
    {
      "cell_type": "markdown",
      "source": [
        "### 샘플로 부터 기댓값, 분산, 공분산\n",
        "\n",
        "- 위 이론적으로 구한값과 분포로부터 샘플링한 샘플을 이용해서 구한 값들이 일치하는지 확인\n",
        "\n",
        "- 아래 함수 `draw()`는 샘플링 함수"
      ],
      "metadata": {
        "id": "JQcR59_dimjf"
      }
    },
    {
      "cell_type": "code",
      "source": [
        "def draw(XY, n):\n",
        "    x_supp, y_supp, f_XY = XY\n",
        "    dist = [(sample, f_XY(*sample)) \n",
        "                for sample in itertools.product(x_supp, y_supp)]\n",
        "    print(\"dist : \",dist)\n",
        "\n",
        "    samples_i = np.random.choice(len(dist), size=n, p=[x[1] for x in dist])\n",
        "    # print(samples_i)\n",
        "    samples = np.array([dist[x][0] for x in samples_i])\n",
        "    # print(samples)\n",
        "    \n",
        "    return samples"
      ],
      "metadata": {
        "id": "Ga1C45uripoG"
      },
      "execution_count": 79,
      "outputs": []
    },
    {
      "cell_type": "code",
      "source": [
        "# 10000개 샘플링\n",
        "samples = draw((x_supp, y_supp, f_XY), 100)"
      ],
      "metadata": {
        "id": "_SpHaT0JkRmK",
        "colab": {
          "base_uri": "https://localhost:8080/"
        },
        "outputId": "7c011f9d-f2ac-4fb7-ce86-162704181f0f"
      },
      "execution_count": 80,
      "outputs": [
        {
          "output_type": "stream",
          "name": "stdout",
          "text": [
            "dist :  [((5, 8), 0), ((5, 9), 0.3), ((6, 8), 0.4), ((6, 9), 0), ((7, 8), 0.1), ((7, 9), 0.2)]\n"
          ]
        }
      ]
    },
    {
      "cell_type": "code",
      "source": [
        "# 샘플된 각 샘플들의 개수가 분포와 비슷한지 확인\n",
        "np.unique(samples, axis=0, return_counts=True)"
      ],
      "metadata": {
        "colab": {
          "base_uri": "https://localhost:8080/"
        },
        "id": "RIQs2CA1kVmd",
        "outputId": "d3c8414d-e6f1-46e9-f792-d43df61b44eb"
      },
      "execution_count": 81,
      "outputs": [
        {
          "output_type": "execute_result",
          "data": {
            "text/plain": [
              "(array([[5, 9],\n",
              "        [6, 8],\n",
              "        [7, 8],\n",
              "        [7, 9]]), array([35, 40,  5, 20]))"
            ]
          },
          "metadata": {},
          "execution_count": 81
        }
      ]
    },
    {
      "cell_type": "code",
      "source": [
        "# 샘플들의 평균\n",
        "print(\"m=\")\n",
        "np.mean(samples, axis=0)"
      ],
      "metadata": {
        "colab": {
          "base_uri": "https://localhost:8080/"
        },
        "id": "hgcfNu1Mkehb",
        "outputId": "131c3557-bf92-4a9f-f080-94429e21e898"
      },
      "execution_count": 82,
      "outputs": [
        {
          "output_type": "stream",
          "name": "stdout",
          "text": [
            "m=\n"
          ]
        },
        {
          "output_type": "execute_result",
          "data": {
            "text/plain": [
              "array([5.9 , 8.55])"
            ]
          },
          "metadata": {},
          "execution_count": 82
        }
      ]
    },
    {
      "cell_type": "code",
      "source": [
        "# 샘플들의 분산, 공분산\n",
        "print(\"s=\")\n",
        "np.cov(samples.T)"
      ],
      "metadata": {
        "colab": {
          "base_uri": "https://localhost:8080/"
        },
        "id": "5TY_4yQ-ly0i",
        "outputId": "ea53f38f-79d6-4acc-b5e7-c20cc2da2b9e"
      },
      "execution_count": 83,
      "outputs": [
        {
          "output_type": "stream",
          "name": "stdout",
          "text": [
            "s=\n"
          ]
        },
        {
          "output_type": "execute_result",
          "data": {
            "text/plain": [
              "array([[ 0.5959596, -0.0959596],\n",
              "       [-0.0959596,  0.25     ]])"
            ]
          },
          "metadata": {},
          "execution_count": 83
        }
      ]
    },
    {
      "cell_type": "markdown",
      "source": [
        "- 10000개 샘플중에 유일한 값은 네개밖에 없기 때문에 아래 그림에서 검은점으로 나타내었음\n",
        "\n",
        "- 검은점과 평균값의 차이를 각 변으로 하는 사각형의 넓이를 그림으로 나타냄\n",
        "\n",
        "- 공분산은 그림에 나타는 면적에 $f_{XY}(x, y)$값을 곱해서 다 더한 것이므로 그림의 면적에 높이값으로 $f_{XY}(x, y)$값을 곱한 부피의 합"
      ],
      "metadata": {
        "id": "A9D32v1jdf4t"
      }
    },
    {
      "cell_type": "code",
      "source": [
        "samples_uniq = np.unique(samples, axis=0)\n",
        "deviations_uniq = np.unique(samples, axis=0) - mean_XY\n",
        "\n",
        "fig = plt.figure(dpi=150)\n",
        "ax = plt.axes()\n",
        "\n",
        "covs = [ Rectangle( (mean_X, mean_Y), x[0], x[1], edgecolor='k', \n",
        "                   facecolor=colors[((x[0]*x[1]) > 0).astype(int)], alpha=0.3) \n",
        "            for x in deviations_uniq ]\n",
        "\n",
        "for cov in covs:\n",
        "    ax.add_patch(cov)\n",
        "\n",
        "ax.plot(samples_uniq[:,0], samples_uniq[:,1], 'o', color='k')\n",
        "ax.axhline(y=mean_Y, color='k')\n",
        "ax.axvline(x=mean_X, color='k')\n",
        "ax.plot(mean_X, mean_Y, 'o', color='r')\n",
        "ax.text(mean_X+0.03, mean_Y+0.03, 'mean')\n",
        "ax.text(5+0.03, 9-0.06, '(5-6)*(9-8.5)*f_XY(5,9)<0')\n",
        "ax.text(7-0.85, 9-0.06, '(7-6)*(9-8.5)*f_XY(7,9)>0')\n",
        "ax.text(6-0.85, 8+0.03, '(6-6)*(8-8.5)*f_XY(6,8)=0')\n",
        "ax.text(7-0.85, 8+0.03, '(7-6)*(8-8.5)*f_XY(7,8)<0')\n",
        "\n",
        "plt.show()"
      ],
      "metadata": {
        "colab": {
          "base_uri": "https://localhost:8080/",
          "height": 534
        },
        "id": "ZjKY8LnMl08m",
        "outputId": "71959765-d0b3-4207-9861-baab4dae9635"
      },
      "execution_count": 84,
      "outputs": [
        {
          "output_type": "display_data",
          "data": {
            "text/plain": [
              "<Figure size 900x600 with 1 Axes>"
            ],
            "image/png": "[encoded data removed]"
          },
          "metadata": {
            "needs_background": "light"
          }
        }
      ]
    }
  ]
}