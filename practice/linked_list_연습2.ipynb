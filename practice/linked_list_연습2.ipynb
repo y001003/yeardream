{
  "nbformat": 4,
  "nbformat_minor": 0,
  "metadata": {
    "colab": {
      "name": "linked_list 연습2.ipynb",
      "provenance": [],
      "authorship_tag": "ABX9TyNYT0Jil15pRfn3ZO1tLbeh",
      "include_colab_link": true
    },
    "kernelspec": {
      "name": "python3",
      "display_name": "Python 3"
    },
    "language_info": {
      "name": "python"
    }
  },
  "cells": [
    {
      "cell_type": "markdown",
      "metadata": {
        "id": "view-in-github",
        "colab_type": "text"
      },
      "source": [
        "<a href=\"https://colab.research.google.com/github/y001003/yeardream/blob/main/practice/linked_list_%EC%97%B0%EC%8A%B52.ipynb\" target=\"_parent\"><img src=\"https://colab.research.google.com/assets/colab-badge.svg\" alt=\"Open In Colab\"/></a>"
      ]
    },
    {
      "cell_type": "code",
      "execution_count": 77,
      "metadata": {
        "id": "XrTsPpOf59AT"
      },
      "outputs": [],
      "source": [
        "class Node:\n",
        "    def __init__(self,data=None,next=None):\n",
        "        self.data = data\n",
        "        self.next = next\n",
        "    \n",
        "class Linkedlist:\n",
        "    def __init__(self):\n",
        "        self.head = Node()\n",
        "\n",
        "    def add(self,data):\n",
        "        node = self.head\n",
        "        if self.head.data == None:\n",
        "            node.data = data\n",
        "        else :\n",
        "            while node.next:\n",
        "                node = node.next\n",
        "            node.next = Node(data)\n",
        "        \n",
        "    \n",
        "    def show(self):\n",
        "        node = self.head\n",
        "        while node:\n",
        "            print(node.data)\n",
        "            node = node.next\n",
        "    \n",
        "    def delete(self, data):\n",
        "        node = self.head\n",
        "\n",
        "        if node.data == data:\n",
        "            temp = node\n",
        "            self.head = node.next\n",
        "            print(f\"{temp.data}데이터를 삭제합니다.\")\n",
        "            del temp\n",
        "            return\n",
        "        else:\n",
        "\n",
        "            while node:\n",
        "                if node.next.data == data:\n",
        "                    temp = node.next\n",
        "                    node.next = node.next.next\n",
        "                    print(f\"{temp.data}데이터를 삭제합니다.\")\n",
        "                    del temp\n",
        "                    return\n",
        "                \n",
        "                else :\n",
        "                    node = node.next\n",
        "\n",
        "\n",
        "    def searchindex(self, data):\n",
        "        node = self.head\n",
        "        i = 0\n",
        "        while node:\n",
        "            if node.data == data:\n",
        "               return print(f\"{i}번째 인덱스 입니다.\",node.data)\n",
        "            else: \n",
        "                node = node.next\n",
        "                i += 1\n",
        "\n"
      ]
    },
    {
      "cell_type": "code",
      "source": [
        "link = Linkedlist()\n",
        "\n",
        "link.add(0)\n",
        "link.add(1)\n",
        "link.add(2)\n",
        "link.add(3)\n",
        "\n",
        "link.show()"
      ],
      "metadata": {
        "colab": {
          "base_uri": "https://localhost:8080/"
        },
        "id": "ek6wYqlQ_PW2",
        "outputId": "21ee1803-30cc-4dfc-c384-d7063c315c65"
      },
      "execution_count": 78,
      "outputs": [
        {
          "output_type": "stream",
          "name": "stdout",
          "text": [
            "0\n",
            "1\n",
            "2\n",
            "3\n"
          ]
        }
      ]
    },
    {
      "cell_type": "code",
      "source": [
        "# link.delete(2)\n",
        "link.searchindex(0)"
      ],
      "metadata": {
        "colab": {
          "base_uri": "https://localhost:8080/"
        },
        "id": "ocbsMbJfEV0Q",
        "outputId": "da7cdec3-101c-408c-9ec7-17b8ad3d9fe4"
      },
      "execution_count": 80,
      "outputs": [
        {
          "output_type": "stream",
          "name": "stdout",
          "text": [
            "0번째 인덱스 입니다. 0\n"
          ]
        }
      ]
    }
  ]
}