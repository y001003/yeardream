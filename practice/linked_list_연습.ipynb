{
  "nbformat": 4,
  "nbformat_minor": 0,
  "metadata": {
    "colab": {
      "name": "linked_list 연습.ipynb",
      "provenance": [],
      "authorship_tag": "ABX9TyPiS392NjtM9Baku04UfUVt",
      "include_colab_link": true
    },
    "kernelspec": {
      "name": "python3",
      "display_name": "Python 3"
    },
    "language_info": {
      "name": "python"
    }
  },
  "cells": [
    {
      "cell_type": "markdown",
      "metadata": {
        "id": "view-in-github",
        "colab_type": "text"
      },
      "source": [
        "<a href=\"https://colab.research.google.com/github/y001003/yeardream/blob/main/practice/linked_list_%EC%97%B0%EC%8A%B5.ipynb\" target=\"_parent\"><img src=\"https://colab.research.google.com/assets/colab-badge.svg\" alt=\"Open In Colab\"/></a>"
      ]
    },
    {
      "cell_type": "code",
      "execution_count": 135,
      "metadata": {
        "id": "V3G7kruD1i7I"
      },
      "outputs": [],
      "source": [
        "class Node:\n",
        "    def __init__(self,data = None,next = None):\n",
        "        self.data = data\n",
        "        self.next = next\n",
        "    \n",
        "class Nodemgt:\n",
        "\n",
        "    def __init__(self):\n",
        "        self.head = Node()\n",
        "\n",
        "    def add(self, data):\n",
        "        node = self.head\n",
        "        # 첫번째 노드\n",
        "        if node.data == None:\n",
        "            node.data = data\n",
        "        else :\n",
        "            while node.next:\n",
        "                node = node.next\n",
        "            # node.next에 새로운 노드 지정\n",
        "            node.next = Node(data)\n",
        "        \n",
        "    \n",
        "    def call(self):\n",
        "        node = self.head\n",
        "\n",
        "        # 첫노드만 존재\n",
        "        if node.next==None:\n",
        "            print(node.data)\n",
        "        else:\n",
        "            print(node.data)\n",
        "            while node.next:\n",
        "                node = node.next\n",
        "                print(node.data)\n",
        "\n",
        "    def delete(self, data):\n",
        "        node = self.head\n",
        "        \n",
        "        # 첫노드만 존재\n",
        "        if node.next == None:\n",
        "            node.data = None\n",
        "\n",
        "        # 첫노드 삭제\n",
        "        if self.head.data == data:\n",
        "            temp = node.data\n",
        "            self.head = node.next\n",
        "            del temp\n",
        "            return\n",
        "\n",
        "        while node.next:\n",
        "            if node.next.data == data:\n",
        "                temp = node.next\n",
        "                node.next = node.next.next\n",
        "                del temp\n",
        "                return\n",
        "                \n",
        "            else :\n",
        "                node = node.next\n",
        "\n",
        "            \n",
        "\n",
        "\n",
        "\n",
        "    def search(self,data):\n",
        "        node = self.head\n",
        "        i = 0\n",
        "        while node:\n",
        "            if node.data == data:\n",
        "                \n",
        "                print(\"인덱스 :\",i,\"\", node.data)\n",
        "                return node\n",
        "            else :\n",
        "                i += 1\n",
        "                node = node.next\n",
        "\n",
        "\n"
      ]
    },
    {
      "cell_type": "code",
      "source": [
        "link = Nodemgt()\n",
        "link.add(0)\n",
        "link.add(1)\n",
        "link.add(2)\n",
        "link.add(3)\n",
        "link.call()"
      ],
      "metadata": {
        "colab": {
          "base_uri": "https://localhost:8080/"
        },
        "id": "3w59vAaz2YFH",
        "outputId": "61994cca-a8cc-45af-fa44-f2c1fbe55395"
      },
      "execution_count": 136,
      "outputs": [
        {
          "output_type": "stream",
          "name": "stdout",
          "text": [
            "0\n",
            "1\n",
            "2\n",
            "3\n"
          ]
        }
      ]
    },
    {
      "cell_type": "code",
      "source": [
        "link.delete(0)\n",
        "link.call()"
      ],
      "metadata": {
        "colab": {
          "base_uri": "https://localhost:8080/"
        },
        "id": "LL9Hmaq4_jrQ",
        "outputId": "7146f938-43f4-44e6-8cb4-81558124bf32"
      },
      "execution_count": 122,
      "outputs": [
        {
          "output_type": "stream",
          "name": "stdout",
          "text": [
            "1\n",
            "2\n",
            "3\n"
          ]
        }
      ]
    },
    {
      "cell_type": "code",
      "source": [
        "link.search(3)"
      ],
      "metadata": {
        "colab": {
          "base_uri": "https://localhost:8080/"
        },
        "id": "bvzlEJ-HLLHm",
        "outputId": "96d01125-cf64-45e5-903a-d598070f602e"
      },
      "execution_count": 137,
      "outputs": [
        {
          "output_type": "stream",
          "name": "stdout",
          "text": [
            "인덱스 : 3  3\n"
          ]
        }
      ]
    }
  ]
}