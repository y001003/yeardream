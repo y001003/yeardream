{
  "cells": [
    {
      "cell_type": "markdown",
      "metadata": {
        "id": "asH4-Ll7yF0P"
      },
      "source": [
        "## Function이란?\n",
        "\n",
        "**수학적인 의미의 함수와 개념은 비슷하지만 역할이 다르다.**\n",
        "\n",
        "\n",
        "- input이 들어와서 output이 정해진 규칙에 따라 나온다는 개념은 같지만, 프로그램에서의 하나의 함수는 **하나의 기능**을 나타낸다.\n",
        "\n",
        "\n",
        "- 정확하게 함수는 특정 기능을 구현한 **코드 묶음**이다.\n",
        "\n",
        "\n",
        "- def 함수이름(param1, param2, ... ):\n",
        "        <statement1>\n",
        "        <statement2>\n",
        "      return\n",
        "\n",
        "\n",
        "- 함수를 쓰는 이유는 **재사용성** 때문이다."
      ]
    },
    {
      "cell_type": "markdown",
      "metadata": {
        "id": "sh1ZNG2GyF0P"
      },
      "source": [
        "> 함수를 사용하는 가장 중요한 이유는 재사용성 때문이다. Reusability라고 하며, ***똑같은 구조의 코드가 반복되는 것을 피하기 위해 사용***된다. 똑같은 구조의 코드는 보통 한 가지의 기능 단위로 묶이게 되며, 이 기능 단위를 코드로 묶어서 함수로 만든다."
      ]
    },
    {
      "cell_type": "markdown",
      "metadata": {
        "id": "8fPSbSXzyF0Q"
      },
      "source": [
        "## Python Function Definition"
      ]
    },
    {
      "cell_type": "code",
      "execution_count": 1,
      "metadata": {
        "id": "tB-3gkTGyF0Q",
        "outputId": "83328a0d-3185-4a86-aa24-62ae0c83e849",
        "colab": {
          "base_uri": "https://localhost:8080/"
        }
      },
      "outputs": [
        {
          "output_type": "execute_result",
          "data": {
            "text/plain": [
              "8"
            ]
          },
          "metadata": {},
          "execution_count": 1
        }
      ],
      "source": [
        "# Function Definition\n",
        "def add(a, b):\n",
        "    # 입력받은 a, b를 더한 값을 돌려주는 함수.\n",
        "    result = a + b\n",
        "    return result\n",
        "\n",
        "# Function Call\n",
        "add(3,5)"
      ]
    },
    {
      "cell_type": "markdown",
      "metadata": {
        "id": "gY3l8oWLyF0R"
      },
      "source": [
        "- 정확한 용어 구분은 중요하지만, 보통은 parameter라고 총칭한다. 크게 중요하진 않다."
      ]
    },
    {
      "cell_type": "markdown",
      "metadata": {
        "id": "8yTnxs3ByF0R"
      },
      "source": [
        "#### 기억해야 할 것은, input --- (Function) ----> output 의 구조이며, 이 때 어떤 input parameter가 들어가서, 어떤 output parameter가 나오는지 주목해야한다."
      ]
    },
    {
      "cell_type": "markdown",
      "metadata": {
        "id": "cMW-5h7OyF0R"
      },
      "source": [
        "#### 연습삼아, 사칙연산을 모두 함수로 만들어보자."
      ]
    },
    {
      "cell_type": "code",
      "execution_count": 7,
      "metadata": {
        "id": "BGO2MfZbyF0S",
        "outputId": "812d832c-e464-413a-8f03-176cc8e7bb26",
        "colab": {
          "base_uri": "https://localhost:8080/"
        }
      },
      "outputs": [
        {
          "output_type": "stream",
          "name": "stdout",
          "text": [
            "2\n",
            "0\n",
            "Do not divid by zero\n",
            "None\n"
          ]
        }
      ],
      "source": [
        "def sub(a,b):\n",
        "\n",
        "    return a-b\n",
        "\n",
        "def mul(a,b):\n",
        "    return a*b\n",
        "\n",
        "def div(a,b):\n",
        "    if b == 0:\n",
        "        print(\"Do not divid by zero\")\n",
        "        return \n",
        "    return a/b\n",
        "\n",
        "n1, n2 = 2, 0\n",
        "print(sub(n1,n2))\n",
        "print(mul(n1,n2))\n",
        "print(div(n1,n2))"
      ]
    },
    {
      "cell_type": "markdown",
      "metadata": {
        "id": "e1-9IBVW4k65"
      },
      "source": [
        "### 함수 정의의 다양한 형태를 연습해보자!"
      ]
    },
    {
      "cell_type": "markdown",
      "metadata": {
        "id": "Qz8sWqk94su9"
      },
      "source": [
        "#### 1. 가장 흔하게 사용되는 경우 -> 함수 parameter와 return이 모두 존재하는 경우."
      ]
    },
    {
      "cell_type": "code",
      "execution_count": 9,
      "metadata": {
        "id": "lD9J7z5H4g9C",
        "outputId": "ed960c35-fe47-47c9-af0b-2443e1e18355",
        "colab": {
          "base_uri": "https://localhost:8080/",
          "height": 53
        }
      },
      "outputs": [
        {
          "output_type": "stream",
          "name": "stdout",
          "text": [
            "Set name as KIM\n"
          ]
        },
        {
          "output_type": "execute_result",
          "data": {
            "text/plain": [
              "'KIM'"
            ],
            "application/vnd.google.colaboratory.intrinsic+json": {
              "type": "string"
            }
          },
          "metadata": {},
          "execution_count": 9
        }
      ],
      "source": [
        "def set_name(name):\n",
        "    name = name.upper()\n",
        "    print(f\"Set name as {name}\")\n",
        "    return name\n",
        "\n",
        "set_name(\"Kim\")"
      ]
    },
    {
      "cell_type": "markdown",
      "metadata": {
        "id": "m9OcUVVw41z_"
      },
      "source": [
        "#### 2. 함수 parameter는 없고 return이 존재하는 경우."
      ]
    },
    {
      "cell_type": "code",
      "execution_count": null,
      "metadata": {
        "id": "iXFA9fXX465J"
      },
      "outputs": [],
      "source": [
        "def save_file():\n",
        "    save_flag = False\n",
        "    with open(\"a.txt\") as f:\n",
        "        f.write(data)\n",
        "        save_flag = True\n",
        "    return save_flag"
      ]
    },
    {
      "cell_type": "markdown",
      "metadata": {
        "id": "6qJLyvYx46gF"
      },
      "source": [
        "#### 3. 함수 parameter는 있는데 return이 없는 경우."
      ]
    },
    {
      "cell_type": "code",
      "execution_count": null,
      "metadata": {
        "id": "64MV2yDF4-jA"
      },
      "outputs": [],
      "source": [
        "def save_file(file_path):\n",
        "    \n",
        "    with open(file_path) as f:\n",
        "        f.write(data)"
      ]
    },
    {
      "cell_type": "markdown",
      "metadata": {
        "id": "aaePVAX_4_Ku"
      },
      "source": [
        "#### 4. 함수 parameter도 없고 return도 없는 경우."
      ]
    },
    {
      "cell_type": "code",
      "execution_count": 10,
      "metadata": {
        "id": "vyihU5Zw5CJL",
        "outputId": "08394009-9a0a-49b3-a9ed-1fc8e535e82d",
        "colab": {
          "base_uri": "https://localhost:8080/"
        }
      },
      "outputs": [
        {
          "output_type": "stream",
          "name": "stdout",
          "text": [
            "Hi\n"
          ]
        }
      ],
      "source": [
        "def say_hi():\n",
        "    print(\"Hi\")\n",
        "\n",
        "say_hi()"
      ]
    },
    {
      "cell_type": "markdown",
      "metadata": {
        "id": "lqCawSAlyF0S"
      },
      "source": [
        "#### Q. 만약에 함수의 입력 parameter의 개수를 모를땐 어떻게 해야할까?"
      ]
    },
    {
      "cell_type": "code",
      "execution_count": 17,
      "metadata": {
        "id": "yFsI7D5fyF0S",
        "outputId": "c53014af-1a26-4d4d-dbc5-e607ddeeaad1",
        "colab": {
          "base_uri": "https://localhost:8080/"
        }
      },
      "outputs": [
        {
          "output_type": "stream",
          "name": "stdout",
          "text": [
            "(1, 2, 3) <class 'tuple'>\n",
            "6\n",
            "(3, 4, 5, 6) <class 'tuple'>\n",
            "18\n"
          ]
        }
      ],
      "source": [
        "def add_many(*args): # *(asterisk)를 앞에 붙이는 것으로 여러개의 parameter를 받아서 tuple로 변환하여 준다.   \n",
        "    print(args, type(args))\n",
        "    total = 0\n",
        "    for arg in args:\n",
        "\n",
        "        total += arg\n",
        "    return total\n",
        "    \n",
        "\n",
        "print(add_many(1, 2, 3))\n",
        "print(add_many(3, 4, 5, 6))\n",
        "\n",
        "def fee_forward(**kwargs): # kwargs -> dict 특정키워드가 어떤 값을 가지는지 파라미터 지정\n",
        "    pass"
      ]
    },
    {
      "cell_type": "markdown",
      "metadata": {
        "id": "S9rEciM-yF0T"
      },
      "source": [
        "#### Q. 만약에 parameter가 너무 많아서 몇 개만 입력 parameter로 넣고 싶을 땐 어떻게 해야할까?\n",
        "\n",
        "> 아래는 scikit-learn 라이브러리에 있는 logistic regression 모델의 __init__ 함수 코드이다.\n",
        "\n",
        "> parameter가 너무 많아서, 다 외울수도 없다. 이럴 땐 default parameter를 지정해놓고, 필요한 parameter만 입력받는다.\n",
        "\n",
        "\n",
        "-- 이렇게 정의되는 함수의 parameter를 **keyword parameter** 라고 한다."
      ]
    },
    {
      "cell_type": "markdown",
      "metadata": {
        "id": "ovM9tNK_yF0T"
      },
      "source": [
        "![linear_regression](https://drive.google.com/uc?id=1zSGj9LN7ArY19vgtsiiDawfxSQY8uUxD)"
      ]
    },
    {
      "cell_type": "markdown",
      "metadata": {
        "id": "h7Z72wjwyF0T"
      },
      "source": [
        "#### Q. 코드를 작성할 때, 언제 이 부분은 함수로 구현해야겠다 라고 판단할 수 있을까?\n",
        "\n",
        "***A. 똑같은 코드가 2번 이상 반복될 때.***"
      ]
    },
    {
      "cell_type": "markdown",
      "metadata": {
        "id": "_IreDkFq8Qmm"
      },
      "source": [
        "### 파라미터에 대해 조금 더 알아봅시다!\n",
        "\n",
        "- 함수에서 사용되는 변수들에게는 효력 범위와 수명이 있습니다."
      ]
    },
    {
      "cell_type": "markdown",
      "metadata": {
        "id": "w9x7d_Ka8T13"
      },
      "source": [
        "Q. 만약에 함수의 파라미터 변수 이름과, 함수를 호출하는 argument의 이름이 같은 경우에 어떻게 될까?"
      ]
    },
    {
      "cell_type": "code",
      "execution_count": 26,
      "metadata": {
        "id": "UwgEw1Bd8ljQ",
        "outputId": "b6416b38-3210-48ee-8a75-f317e177ce03",
        "colab": {
          "base_uri": "https://localhost:8080/"
        }
      },
      "outputs": [
        {
          "output_type": "stream",
          "name": "stdout",
          "text": [
            "1, Kim\n",
            "2, Kim\n",
            "3, Kim\n",
            "4, Lee\n",
            "10\n",
            "20\n"
          ]
        }
      ],
      "source": [
        "# 효력 범위 : scope\n",
        "# 수명 : lifetime\n",
        "\n",
        "# global variable 전역변수\n",
        "a = 10\n",
        "\n",
        "def change_name(name): # code block : def ~ return 까지\n",
        "    # local variable 지역변수\n",
        "    print(\"2,\", name)\n",
        "    name = \"Lee\"\n",
        "\n",
        "    return name\n",
        "\n",
        "def change_num():\n",
        "    global a # make local variable to global\n",
        "    a = 20\n",
        "\n",
        "name = \"Kim\"\n",
        "print(\"1,\", name)\n",
        "name2 = change_name(name)\n",
        "print(\"3,\", name) #\"Lee\"가 아니고 \"Kim\"\n",
        "print(\"4,\", name2)\n",
        "print(a)\n",
        "change_num()\n",
        "print(a)"
      ]
    },
    {
      "cell_type": "markdown",
      "metadata": {
        "id": "3Zv4U8eX6TcF"
      },
      "source": [
        "### Lambda 함수를 사용해보자!\n",
        "> Lambda Expression\n",
        "\n",
        "\n",
        "- 굉장히 간단한 함수가 있는 경우, 한 줄짜리 함수로 간편하게 사용할 수 있다.\n",
        "\n",
        "- 이런 함수를 Lambda 함수라고 하며, lambda 함수와 반복문을 통해 함수의 정의없이 다양한 프로그래밍이 가능하다."
      ]
    },
    {
      "cell_type": "code",
      "execution_count": 28,
      "metadata": {
        "id": "FmRItf0AyF0T",
        "outputId": "1f9af1c9-a1db-4d88-bc4f-335a6fdc77f1",
        "colab": {
          "base_uri": "https://localhost:8080/"
        }
      },
      "outputs": [
        {
          "output_type": "execute_result",
          "data": {
            "text/plain": [
              "True"
            ]
          },
          "metadata": {},
          "execution_count": 28
        }
      ],
      "source": [
        "def add(a, b):\n",
        "    return a+b\n",
        "\n",
        "# lambda 함수로 바꾸면?\n",
        "f = lambda a, b : a + b\n",
        "f(3,5) == add(3,5)"
      ]
    },
    {
      "cell_type": "markdown",
      "metadata": {
        "id": "T0HEotn27r2q"
      },
      "source": [
        "Q. 아래 리스트의 원소들을 원소들의 길이에 따라 정렬하고 싶은 경우엔 어떻게 해야할까?"
      ]
    },
    {
      "cell_type": "code",
      "execution_count": 31,
      "metadata": {
        "id": "6sjA5fGS7Mnt",
        "outputId": "2f498209-21d0-4812-d32d-633f088455c8",
        "colab": {
          "base_uri": "https://localhost:8080/"
        }
      },
      "outputs": [
        {
          "output_type": "execute_result",
          "data": {
            "text/plain": [
              "['kim', 'yoon', 'jeong', 'jessica']"
            ]
          },
          "metadata": {},
          "execution_count": 31
        }
      ],
      "source": [
        "def get_length(s):\n",
        "    return len(s)\n",
        "\n",
        "strings = ['yoon', 'kim', 'jessica', 'jeong']\n",
        "\n",
        "strings.sort()# alphabetical order\n",
        "strings.sort(key=lambda x : len(x)) # 글자 길이에 따른 정렬\n",
        "strings"
      ]
    },
    {
      "cell_type": "markdown",
      "metadata": {
        "id": "GvCZhie08EHf"
      },
      "source": [
        "### 파이썬에 이미 정의되어 있는 함수들을 사용해보자!"
      ]
    },
    {
      "cell_type": "code",
      "execution_count": 32,
      "metadata": {
        "id": "ET9pXhE98ILc",
        "outputId": "9189f88a-05b5-4a6a-f8b4-c916204f265c",
        "colab": {
          "base_uri": "https://localhost:8080/"
        }
      },
      "outputs": [
        {
          "output_type": "stream",
          "name": "stdout",
          "text": [
            "3.14\n",
            "4\n",
            "3\n",
            "0.0015926529164868282\n",
            "-0.9999987317275395\n"
          ]
        }
      ],
      "source": [
        "import math\n",
        "# 수학 계산을 해봅시다.\n",
        "number = 3.14\n",
        "# 절대값, 올림, 내림\n",
        "print(abs(number))\n",
        "print(math.ceil(number))\n",
        "print(math.floor(number))\n",
        "\n",
        "\n",
        "# sin, cos\n",
        "print(math.sin(number))\n",
        "print(math.cos(number))"
      ]
    },
    {
      "cell_type": "code",
      "execution_count": 34,
      "metadata": {
        "id": "81O3IP-v9OK-",
        "outputId": "56558956-e70f-49be-830a-267fe0fdb6a6",
        "colab": {
          "base_uri": "https://localhost:8080/"
        }
      },
      "outputs": [
        {
          "output_type": "execute_result",
          "data": {
            "text/plain": [
              "[42, 5, 36, 38, 39, 11]"
            ]
          },
          "metadata": {},
          "execution_count": 34
        }
      ],
      "source": [
        "# 복권 숫자를 만들어봅시다.\n",
        "import random\n",
        "\n",
        "random.randint(1,45)\n",
        "random.choices(list(range(1,46)),k=6)"
      ]
    },
    {
      "cell_type": "code",
      "execution_count": 40,
      "metadata": {
        "id": "OEN5T0gj9T4l"
      },
      "outputs": [],
      "source": [
        "\n",
        "# 다양한 사전들을 써봅시다.\n",
        "import collections\n",
        "from collections import defaultdict\n",
        "\n",
        "D = collections.defaultdict(int)\n",
        "\n",
        "d = defaultdict(int)\n",
        "\n",
        "#collections.OrderedDict() -> python 3.9 이상부터 default가 되었다.\n"
      ]
    },
    {
      "cell_type": "code",
      "execution_count": null,
      "metadata": {
        "id": "yFS587GEgqpV"
      },
      "outputs": [],
      "source": [
        ""
      ]
    }
  ],
  "metadata": {
    "colab": {
      "collapsed_sections": [],
      "name": "Chapter.01 파이썬 프로그래밍-10. 함수 (실습).ipynb",
      "provenance": []
    },
    "kernelspec": {
      "display_name": "Python 3",
      "language": "python",
      "name": "python3"
    },
    "language_info": {
      "codemirror_mode": {
        "name": "ipython",
        "version": 3
      },
      "file_extension": ".py",
      "mimetype": "text/x-python",
      "name": "python",
      "nbconvert_exporter": "python",
      "pygments_lexer": "ipython3",
      "version": "3.8.2"
    }
  },
  "nbformat": 4,
  "nbformat_minor": 0
}