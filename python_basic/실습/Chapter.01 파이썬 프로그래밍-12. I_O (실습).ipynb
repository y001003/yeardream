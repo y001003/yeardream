{
  "cells": [
    {
      "cell_type": "markdown",
      "metadata": {
        "id": "7KaEFFwmaz9f"
      },
      "source": [
        "## I/O (Input / Output) "
      ]
    },
    {
      "cell_type": "markdown",
      "metadata": {
        "id": "Ob-m8XQbaz9o"
      },
      "source": [
        "### 1. STDIN / STDOUT (Standard IN, Standard OUT)"
      ]
    },
    {
      "cell_type": "markdown",
      "metadata": {
        "id": "I9B1Br_0az9o"
      },
      "source": [
        "- 파이썬은 input()을 통해서 stdin을 사용자로부터 입력받을 수 있다.\n",
        "\n",
        "\n",
        "- 파이썬은 print()를 통해서 stdout을 사용자에게 출력할 수 있다."
      ]
    },
    {
      "cell_type": "code",
      "execution_count": 2,
      "metadata": {
        "id": "NcHNtr58az9p",
        "outputId": "2dde13e8-fc9a-4d9a-8e35-111ad8e1ea08",
        "colab": {
          "base_uri": "https://localhost:8080/"
        }
      },
      "outputs": [
        {
          "name": "stdout",
          "output_type": "stream",
          "text": [
            "10\n"
          ]
        },
        {
          "output_type": "execute_result",
          "data": {
            "text/plain": [
              "('10', str)"
            ]
          },
          "metadata": {},
          "execution_count": 2
        }
      ],
      "source": [
        "# a에 키보드로 입력받은 값을 할당하고 출력해본다.\n",
        "a = input()\n",
        "a, type(a)"
      ]
    },
    {
      "cell_type": "markdown",
      "metadata": {
        "id": "-9bkJP0haz9q"
      },
      "source": [
        "- 파이썬에서는 stdin은 무조건 문자열 타입으로 들어온다. 이를 type casting을 통해서 다른 데이터 타입으로 바꾸어 사용해야 한다."
      ]
    },
    {
      "cell_type": "code",
      "execution_count": 6,
      "metadata": {
        "id": "Kre90bwsaz9r",
        "outputId": "a372eb3c-752f-435e-a1c9-15a0db85f572",
        "colab": {
          "base_uri": "https://localhost:8080/"
        }
      },
      "outputs": [
        {
          "name": "stdout",
          "output_type": "stream",
          "text": [
            "10\n"
          ]
        },
        {
          "output_type": "execute_result",
          "data": {
            "text/plain": [
              "(10, int)"
            ]
          },
          "metadata": {},
          "execution_count": 6
        }
      ],
      "source": [
        "# 입력받는 값을 숫자라고 가정한 경우.\n",
        "n = int(input())\n",
        "n, type(n)"
      ]
    },
    {
      "cell_type": "code",
      "execution_count": 7,
      "metadata": {
        "id": "8iinAvVAaz9r",
        "outputId": "8ca9d012-910f-4eed-c4e2-8ef7409bbdba",
        "colab": {
          "base_uri": "https://localhost:8080/",
          "height": 277
        }
      },
      "outputs": [
        {
          "name": "stdout",
          "output_type": "stream",
          "text": [
            "a\n"
          ]
        },
        {
          "output_type": "error",
          "ename": "ValueError",
          "evalue": "ignored",
          "traceback": [
            "\u001b[0;31m---------------------------------------------------------------------------\u001b[0m",
            "\u001b[0;31mValueError\u001b[0m                                Traceback (most recent call last)",
            "\u001b[0;32m<ipython-input-7-a20610b4d383>\u001b[0m in \u001b[0;36m<module>\u001b[0;34m()\u001b[0m\n\u001b[1;32m      1\u001b[0m \u001b[0;31m# 입력받는 값을 숫자라고 가정했는데 문자열이 들어오면 에러가 난다. 이 경우는 type casting이 실패한 경우이다.\u001b[0m\u001b[0;34m\u001b[0m\u001b[0;34m\u001b[0m\u001b[0;34m\u001b[0m\u001b[0m\n\u001b[0;32m----> 2\u001b[0;31m \u001b[0mn\u001b[0m \u001b[0;34m=\u001b[0m \u001b[0mint\u001b[0m\u001b[0;34m(\u001b[0m\u001b[0minput\u001b[0m\u001b[0;34m(\u001b[0m\u001b[0;34m)\u001b[0m\u001b[0;34m)\u001b[0m\u001b[0;34m\u001b[0m\u001b[0;34m\u001b[0m\u001b[0m\n\u001b[0m\u001b[1;32m      3\u001b[0m \u001b[0mn\u001b[0m\u001b[0;34m,\u001b[0m \u001b[0mtype\u001b[0m\u001b[0;34m(\u001b[0m\u001b[0mn\u001b[0m\u001b[0;34m)\u001b[0m\u001b[0;34m\u001b[0m\u001b[0;34m\u001b[0m\u001b[0m\n",
            "\u001b[0;31mValueError\u001b[0m: invalid literal for int() with base 10: 'a'"
          ]
        }
      ],
      "source": [
        "# 입력받는 값을 숫자라고 가정했는데 문자열이 들어오면 에러가 난다. 이 경우는 type casting이 실패한 경우이다.\n",
        "n = int(input())\n",
        "n, type(n)"
      ]
    },
    {
      "cell_type": "markdown",
      "metadata": {
        "id": "6eZWUq_Daz9r"
      },
      "source": [
        "- 입력이 문자열이기 때문에 fancy하게 input을 처리할 수 있는 방법이 있다."
      ]
    },
    {
      "cell_type": "markdown",
      "metadata": {
        "id": "XDI8URO8az9s"
      },
      "source": [
        "#### Q. 만약에 stdin으로 여러 개의 숫자가 들어오는 경우, 입력의 format을 알고 있다고 가정했을 때, 이를 효과적으로 처리할 수 있을까?"
      ]
    },
    {
      "cell_type": "code",
      "execution_count": 14,
      "metadata": {
        "id": "sg0e_5H5az9s",
        "outputId": "4cd4fd63-cbd3-43b1-8723-a9007fd8293e",
        "colab": {
          "base_uri": "https://localhost:8080/"
        }
      },
      "outputs": [
        {
          "name": "stdout",
          "output_type": "stream",
          "text": [
            "1 3\n"
          ]
        },
        {
          "output_type": "execute_result",
          "data": {
            "text/plain": [
              "4"
            ]
          },
          "metadata": {},
          "execution_count": 14
        }
      ],
      "source": [
        "# 이는 숫자를 2개로 가정한 경우\n",
        "a, b = map(int, input().split())\n",
        "a, b\n",
        "a+b"
      ]
    },
    {
      "cell_type": "code",
      "execution_count": 15,
      "metadata": {
        "id": "SPAtlM66az9s",
        "outputId": "d7151795-35c4-4b08-ebf3-5270ab87983b",
        "colab": {
          "base_uri": "https://localhost:8080/"
        }
      },
      "outputs": [
        {
          "output_type": "execute_result",
          "data": {
            "text/plain": [
              "[3, 4, 5]"
            ]
          },
          "metadata": {},
          "execution_count": 15
        }
      ],
      "source": [
        "# 이와 같은 표현을 list comprehension이라고 한다.\n",
        "[x+2 for x in range(1,4)]"
      ]
    },
    {
      "cell_type": "code",
      "source": [
        "# for문을 사용한 코드\n",
        "numbers = []\n",
        "for num in input().split(','):\n",
        "    numbers.append(int(num))\n",
        "numbers"
      ],
      "metadata": {
        "id": "fCGVWA4Z4O6W",
        "outputId": "130565d6-f418-4c3d-9285-5b00d77eda64",
        "colab": {
          "base_uri": "https://localhost:8080/"
        }
      },
      "execution_count": 19,
      "outputs": [
        {
          "name": "stdout",
          "output_type": "stream",
          "text": [
            "4,5,6\n"
          ]
        },
        {
          "output_type": "execute_result",
          "data": {
            "text/plain": [
              "[4, 5, 6]"
            ]
          },
          "metadata": {},
          "execution_count": 19
        }
      ]
    },
    {
      "cell_type": "code",
      "execution_count": 22,
      "metadata": {
        "id": "SfAWJB7taz9t",
        "outputId": "79bded57-578c-4c5a-ef0b-cf57d4f8b2ad",
        "colab": {
          "base_uri": "https://localhost:8080/"
        }
      },
      "outputs": [
        {
          "name": "stdout",
          "output_type": "stream",
          "text": [
            "숫자 여러개를 입력하세요 ','로 숫자를 구분합니다1,2,3\n"
          ]
        },
        {
          "output_type": "execute_result",
          "data": {
            "text/plain": [
              "[1, 2, 3]"
            ]
          },
          "metadata": {},
          "execution_count": 22
        }
      ],
      "source": [
        "# 위의 코드는 아래와 같다. 위의 코드가 훨씬 간단한 것을 확인할 수 있다. 익숙해져서 list comprehension을 사용하도록 하자.\n",
        "[int(x) for x in input(\"숫자 여러개를 입력하세요 ','로 숫자를 구분합니다\").split(',')]"
      ]
    },
    {
      "cell_type": "markdown",
      "metadata": {
        "id": "DPYlwZhEaz9t"
      },
      "source": [
        "### 2. File I/O"
      ]
    },
    {
      "cell_type": "markdown",
      "source": [
        "- file I/O란 프로그램에서 파일을 저장하고 불러오는 모든 것들을 의미합니다.\n",
        "\n",
        "- file에는 txt, png, json, xlsx 등 여러가지 종류가 있습니다.\n",
        "\n",
        "- 그 중에서 가장 간단하게 사용할 수 있는 데이터는 txt 파일입니다."
      ],
      "metadata": {
        "id": "HqaNOvZG1sgw"
      }
    },
    {
      "cell_type": "markdown",
      "metadata": {
        "id": "BGNX1KElaz9t"
      },
      "source": [
        "> 텍스트 파일을 여는 방법에는 read(), readline(), readlines(), for문을 이용한 방법이 있다. 코드를 통해 각 방법의 차이를 알아보자."
      ]
    },
    {
      "cell_type": "code",
      "source": [
        "from google.colab import drive\n",
        "drive.mount('/content/drive')"
      ],
      "metadata": {
        "id": "HPyr15Q9JE0U",
        "outputId": "81c22f19-1c11-4f3c-c734-7080d804ec11",
        "colab": {
          "base_uri": "https://localhost:8080/"
        }
      },
      "execution_count": 23,
      "outputs": [
        {
          "output_type": "stream",
          "name": "stdout",
          "text": [
            "Mounted at /content/drive\n"
          ]
        }
      ]
    },
    {
      "cell_type": "code",
      "execution_count": 25,
      "metadata": {
        "id": "VKYHye1baz9u",
        "outputId": "a8cd0d05-da6f-4dd4-aa6b-aa241ad09db0",
        "colab": {
          "base_uri": "https://localhost:8080/",
          "height": 53
        }
      },
      "outputs": [
        {
          "output_type": "execute_result",
          "data": {
            "text/plain": [
              "'아\\n휴\\n아이구\\n아이쿠\\n아이고\\n어\\n나\\n우리\\n저희\\n따라\\n의해\\n을\\n를\\n에\\n의\\n가\\n으로\\n로\\n에게\\n뿐이다\\n의거하여\\n근거하여\\n입각하여\\n기준으로\\n예하면\\n예를 들면\\n예를 들자면'"
            ],
            "application/vnd.google.colaboratory.intrinsic+json": {
              "type": "string"
            }
          },
          "metadata": {},
          "execution_count": 25
        }
      ],
      "source": [
        "# f.read()를 통해 data 폴더안에 있는 test.txt를 read mode로 열어봅니다.\n",
        "file_path = \"/content/drive/MyDrive/Colab Notebooks/data/test.txt\"\n",
        "\n",
        "with open(file_path, 'r') as f:\n",
        "    data = f.read()\n",
        "\n",
        "data"
      ]
    },
    {
      "cell_type": "code",
      "execution_count": 26,
      "metadata": {
        "id": "4DSliMQlaz9u",
        "outputId": "681f64c3-f931-4212-eb0b-d2f4968a9adf",
        "colab": {
          "base_uri": "https://localhost:8080/",
          "height": 36
        }
      },
      "outputs": [
        {
          "output_type": "execute_result",
          "data": {
            "text/plain": [
              "'아\\n'"
            ],
            "application/vnd.google.colaboratory.intrinsic+json": {
              "type": "string"
            }
          },
          "metadata": {},
          "execution_count": 26
        }
      ],
      "source": [
        "# f.readline()를 통해 data 폴더안에 있는 test.txt를 read mode로 열어봅니다.\n",
        "with open(file_path, 'r') as f:\n",
        "    data = f.readline()\n",
        "\n",
        "data"
      ]
    },
    {
      "cell_type": "code",
      "execution_count": 27,
      "metadata": {
        "id": "SLD_zgm4az9u",
        "outputId": "49a5ab57-66e7-4602-de06-eda27883ed05",
        "colab": {
          "base_uri": "https://localhost:8080/"
        }
      },
      "outputs": [
        {
          "output_type": "execute_result",
          "data": {
            "text/plain": [
              "['아\\n',\n",
              " '휴\\n',\n",
              " '아이구\\n',\n",
              " '아이쿠\\n',\n",
              " '아이고\\n',\n",
              " '어\\n',\n",
              " '나\\n',\n",
              " '우리\\n',\n",
              " '저희\\n',\n",
              " '따라\\n',\n",
              " '의해\\n',\n",
              " '을\\n',\n",
              " '를\\n',\n",
              " '에\\n',\n",
              " '의\\n',\n",
              " '가\\n',\n",
              " '으로\\n',\n",
              " '로\\n',\n",
              " '에게\\n',\n",
              " '뿐이다\\n',\n",
              " '의거하여\\n',\n",
              " '근거하여\\n',\n",
              " '입각하여\\n',\n",
              " '기준으로\\n',\n",
              " '예하면\\n',\n",
              " '예를 들면\\n',\n",
              " '예를 들자면']"
            ]
          },
          "metadata": {},
          "execution_count": 27
        }
      ],
      "source": [
        "# f.readlines()를 통해 data 폴더안에 있는 test.txt를 read mode로 열어봅니다.\n",
        "with open(file_path, 'r') as f:\n",
        "    data = f.readlines()\n",
        "data"
      ]
    },
    {
      "cell_type": "code",
      "execution_count": 28,
      "metadata": {
        "id": "WEP8wGLoaz9u",
        "outputId": "8bf74f5f-0fde-4205-973b-e453dce11f75",
        "colab": {
          "base_uri": "https://localhost:8080/"
        }
      },
      "outputs": [
        {
          "output_type": "execute_result",
          "data": {
            "text/plain": [
              "['아\\n',\n",
              " '휴\\n',\n",
              " '아이구\\n',\n",
              " '아이쿠\\n',\n",
              " '아이고\\n',\n",
              " '어\\n',\n",
              " '나\\n',\n",
              " '우리\\n',\n",
              " '저희\\n',\n",
              " '따라\\n',\n",
              " '의해\\n',\n",
              " '을\\n',\n",
              " '를\\n',\n",
              " '에\\n',\n",
              " '의\\n',\n",
              " '가\\n',\n",
              " '으로\\n',\n",
              " '로\\n',\n",
              " '에게\\n',\n",
              " '뿐이다\\n',\n",
              " '의거하여\\n',\n",
              " '근거하여\\n',\n",
              " '입각하여\\n',\n",
              " '기준으로\\n',\n",
              " '예하면\\n',\n",
              " '예를 들면\\n',\n",
              " '예를 들자면']"
            ]
          },
          "metadata": {},
          "execution_count": 28
        }
      ],
      "source": [
        "# for문을 통해 data 폴더안에 있는 test.txt를 read mode로 열어서 출력해봅니다.\n",
        "L = []\n",
        "with open(file_path, 'r') as f:\n",
        "    for line in f:\n",
        "        L.append(line)\n",
        "L"
      ]
    },
    {
      "cell_type": "markdown",
      "metadata": {
        "id": "RJ7dLzyeaz9v"
      },
      "source": [
        "#### Q. test.txt를 열어서 한글자짜리를 다 지우고 다시 저장하고 싶다. 어떻게 해야할까?"
      ]
    },
    {
      "cell_type": "code",
      "execution_count": 32,
      "metadata": {
        "id": "fP0xhI0Caz9v",
        "outputId": "f73fcf59-61c3-471f-84ee-682b2e0819c3",
        "colab": {
          "base_uri": "https://localhost:8080/"
        }
      },
      "outputs": [
        {
          "output_type": "stream",
          "name": "stdout",
          "text": [
            "['아\\n', '휴\\n', '아이구\\n', '아이쿠\\n', '아이고\\n', '어\\n', '나\\n', '우리\\n', '저희\\n', '따라\\n', '의해\\n', '을\\n', '를\\n', '에\\n', '의\\n', '가\\n', '으로\\n', '로\\n', '에게\\n', '뿐이다\\n', '의거하여\\n', '근거하여\\n', '입각하여\\n', '기준으로\\n', '예하면\\n', '예를 들면\\n', '예를 들자면']\n",
            "['아이구', '아이쿠', '아이고', '우리', '저희', '따라', '의해', '으로', '에게', '뿐이다', '의거하여', '근거하여', '입각하여', '기준으로', '예하면', '예를 들면', '예를 들자면']\n"
          ]
        }
      ],
      "source": [
        "output = []\n",
        "# test.txt를 read mode로 열고 할 일이 끝나면 자동으로 닫는다.\n",
        "with open(file_path, 'r') as f:\n",
        "    data = f.readlines()\n",
        "\n",
        "print(data)\n",
        "\n",
        "# 한글자 이상인 텍스트만 output list에 저장한다.\n",
        "for word in data:\n",
        "    word = word.strip() # 공백 제거\n",
        "    if len(word) > 1:\n",
        "        output.append(word)\n",
        "print(output)\n",
        "# result.txt로 output list에 있는 내용을 저장하기 위해 write mode로 열었다.\n",
        "with open(\"/content/drive/MyDrive/Colab Notebooks/data/result.txt\", 'w') as f:\n",
        "    # f.write()\n",
        "    for word in output:\n",
        "        print(word, file=f)\n",
        "\n"
      ]
    },
    {
      "cell_type": "code",
      "execution_count": 33,
      "metadata": {
        "id": "WT40gJ8Naz9v",
        "outputId": "668e9958-3768-4d8b-e636-c0f9087c8f34",
        "colab": {
          "base_uri": "https://localhost:8080/"
        }
      },
      "outputs": [
        {
          "output_type": "stream",
          "name": "stdout",
          "text": [
            "['아이구\\n', '아이쿠\\n', '아이고\\n', '우리\\n', '저희\\n', '따라\\n', '의해\\n', '으로\\n', '에게\\n', '뿐이다\\n', '의거하여\\n', '근거하여\\n', '입각하여\\n', '기준으로\\n', '예하면\\n', '예를 들면\\n', '예를 들자면\\n']\n"
          ]
        }
      ],
      "source": [
        "# 제대로 데이터가 저장되어 있는지, 불러와서 확인한다.\n",
        "L = []\n",
        "with open(\"/content/drive/MyDrive/Colab Notebooks/data/result.txt\", 'r') as f:\n",
        "    for word in f:\n",
        "        L.append(word)\n",
        "print(L)"
      ]
    },
    {
      "cell_type": "markdown",
      "metadata": {
        "id": "Z1O6wq4Baz9v"
      },
      "source": [
        "### (OPTIONAL) pickle 라이브러리를 통해서 파이썬 object 자체를 저장하기"
      ]
    },
    {
      "cell_type": "code",
      "execution_count": 34,
      "metadata": {
        "id": "Y8SXE8dDaz9v",
        "outputId": "e84c226f-b87f-43d4-d968-da7dc754542a",
        "colab": {
          "base_uri": "https://localhost:8080/"
        }
      },
      "outputs": [
        {
          "output_type": "execute_result",
          "data": {
            "text/plain": [
              "['아이구',\n",
              " '아이쿠',\n",
              " '아이고',\n",
              " '우리',\n",
              " '저희',\n",
              " '따라',\n",
              " '의해',\n",
              " '으로',\n",
              " '에게',\n",
              " '뿐이다',\n",
              " '의거하여',\n",
              " '근거하여',\n",
              " '입각하여',\n",
              " '기준으로',\n",
              " '예하면',\n",
              " '예를 들면',\n",
              " '예를 들자면']"
            ]
          },
          "metadata": {},
          "execution_count": 34
        }
      ],
      "source": [
        "output"
      ]
    },
    {
      "cell_type": "code",
      "execution_count": 35,
      "metadata": {
        "id": "aRRPi3VZaz9w"
      },
      "outputs": [],
      "source": [
        "# 리스트 자체를 저장할 순 없나\n",
        "import pickle\n",
        "\n",
        "with open(\"result.pk\", 'wb') as f:\n",
        "    pickle.dump(output, f)"
      ]
    },
    {
      "cell_type": "code",
      "source": [
        "with open(\"result.pk\", 'rb') as f:\n",
        "    output2 = pickle.load(f)\n",
        "output2"
      ],
      "metadata": {
        "id": "__iuOU8SOCan",
        "outputId": "8c0af1a8-46a7-40ba-fa9d-d4947c3976e3",
        "colab": {
          "base_uri": "https://localhost:8080/"
        }
      },
      "execution_count": 37,
      "outputs": [
        {
          "output_type": "execute_result",
          "data": {
            "text/plain": [
              "['아이구',\n",
              " '아이쿠',\n",
              " '아이고',\n",
              " '우리',\n",
              " '저희',\n",
              " '따라',\n",
              " '의해',\n",
              " '으로',\n",
              " '에게',\n",
              " '뿐이다',\n",
              " '의거하여',\n",
              " '근거하여',\n",
              " '입각하여',\n",
              " '기준으로',\n",
              " '예하면',\n",
              " '예를 들면',\n",
              " '예를 들자면']"
            ]
          },
          "metadata": {},
          "execution_count": 37
        }
      ]
    }
  ],
  "metadata": {
    "colab": {
      "collapsed_sections": [],
      "name": "Chapter.01 파이썬 프로그래밍-12. I/O (실습).ipynb",
      "provenance": []
    },
    "kernelspec": {
      "display_name": "Python 3",
      "language": "python",
      "name": "python3"
    },
    "language_info": {
      "codemirror_mode": {
        "name": "ipython",
        "version": 3
      },
      "file_extension": ".py",
      "mimetype": "text/x-python",
      "name": "python",
      "nbconvert_exporter": "python",
      "pygments_lexer": "ipython3",
      "version": "3.8.8"
    }
  },
  "nbformat": 4,
  "nbformat_minor": 0
}