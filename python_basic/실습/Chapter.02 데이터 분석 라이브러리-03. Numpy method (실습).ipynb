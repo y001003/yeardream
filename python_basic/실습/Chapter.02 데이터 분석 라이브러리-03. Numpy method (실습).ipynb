{
  "cells": [
    {
      "cell_type": "markdown",
      "metadata": {
        "id": "kv6gH7G01Pal"
      },
      "source": [
        "## Numpy"
      ]
    },
    {
      "cell_type": "markdown",
      "metadata": {
        "id": "RQWkeQgD1Pam"
      },
      "source": [
        "### 1. Numpy Array and Operation"
      ]
    },
    {
      "cell_type": "markdown",
      "metadata": {
        "id": "igGUA1oE1Pam"
      },
      "source": [
        "- numpy의 기본적인 사용법에 대해서 배워봅니다.\n",
        "\n",
        "\n",
        "- numpy에서 numpy.array를 만드는 여러가지 방법과 지원하는 연산자에 대해서 공부합니다."
      ]
    },
    {
      "cell_type": "markdown",
      "source": [
        "### 1.1. Numpy Array creation"
      ],
      "metadata": {
        "id": "ZzPzxgQ53PcS"
      }
    },
    {
      "cell_type": "code",
      "execution_count": 4,
      "metadata": {
        "id": "MoD6QOXY1Pan"
      },
      "outputs": [],
      "source": [
        "# numpy 라이브러리를 불러옵니다.\n",
        "import numpy as np"
      ]
    },
    {
      "cell_type": "code",
      "execution_count": 1,
      "metadata": {
        "id": "bqVEQaBP1Pan",
        "outputId": "9a521401-aefd-44bc-ddea-93631fd18889",
        "colab": {
          "base_uri": "https://localhost:8080/"
        }
      },
      "outputs": [
        {
          "output_type": "execute_result",
          "data": {
            "text/plain": [
              "[1, 2, 3, 4, 5]"
            ]
          },
          "metadata": {},
          "execution_count": 1
        }
      ],
      "source": [
        "# 파이썬 리스트 선언\n",
        "data = [1,2,3,4,5]\n",
        "data"
      ]
    },
    {
      "cell_type": "code",
      "execution_count": 15,
      "metadata": {
        "id": "jADukVLG1Pan",
        "outputId": "adb1719a-789b-4cb4-a21f-83eca1f1c627",
        "colab": {
          "base_uri": "https://localhost:8080/"
        }
      },
      "outputs": [
        {
          "output_type": "execute_result",
          "data": {
            "text/plain": [
              "[[1, 2], [3, 4], [5, 6]]"
            ]
          },
          "metadata": {},
          "execution_count": 15
        }
      ],
      "source": [
        "# 파이썬 2차원 리스트(행렬) 선언\n",
        "data2 = [[1,2],[3,4],[5,6]]\n",
        "data2"
      ]
    },
    {
      "cell_type": "code",
      "execution_count": 5,
      "metadata": {
        "id": "jQq60ZfX1Pan",
        "outputId": "1472f9fd-7ad4-41b2-c583-14b4675a0e8d",
        "colab": {
          "base_uri": "https://localhost:8080/"
        }
      },
      "outputs": [
        {
          "output_type": "execute_result",
          "data": {
            "text/plain": [
              "array([1, 2, 3, 4, 5])"
            ]
          },
          "metadata": {},
          "execution_count": 5
        }
      ],
      "source": [
        "# 파이썬 list를 numpy array로 변환합니다.\n",
        "arr = np.array(data)\n",
        "# numpy array를 만드는 방식의 대부분은 파이썬 리스트를 np.array로 변환하는 방식입니다.\n",
        "arr"
      ]
    },
    {
      "cell_type": "code",
      "execution_count": 16,
      "metadata": {
        "id": "eqbxPjfu1Pao",
        "outputId": "28c19d4d-8d8f-4599-cbf2-720bcfa8f665",
        "colab": {
          "base_uri": "https://localhost:8080/"
        }
      },
      "outputs": [
        {
          "output_type": "execute_result",
          "data": {
            "text/plain": [
              "array([[1, 2],\n",
              "       [3, 4],\n",
              "       [5, 6]])"
            ]
          },
          "metadata": {},
          "execution_count": 16
        }
      ],
      "source": [
        "# 2차원 리스트를 np.array로 만듭니다.\n",
        "arr2 = np.array(data2) # data2라는 리스트를 numpy array로 만들어라.\n",
        "arr2 # 2차원 numpy -> 행렬"
      ]
    },
    {
      "cell_type": "code",
      "execution_count": 10,
      "metadata": {
        "id": "oMdYjtc21Pao",
        "outputId": "309800c2-db56-4c13-a8fa-2024b31cdff8",
        "colab": {
          "base_uri": "https://localhost:8080/"
        }
      },
      "outputs": [
        {
          "output_type": "execute_result",
          "data": {
            "text/plain": [
              "array([0, 1, 2, 3, 4, 5, 6, 7, 8, 9])"
            ]
          },
          "metadata": {},
          "execution_count": 10
        }
      ],
      "source": [
        "# 0부터 9까지 숫자를 자동으로 생성한 array\n",
        "np.array(list(range(10)))\n",
        "np.arange(10)"
      ]
    },
    {
      "cell_type": "code",
      "execution_count": 12,
      "metadata": {
        "id": "NwMSPz0Z1Pao",
        "outputId": "dfff1057-a6e7-4b14-8e9d-0bb101ec91f0",
        "colab": {
          "base_uri": "https://localhost:8080/"
        }
      },
      "outputs": [
        {
          "output_type": "execute_result",
          "data": {
            "text/plain": [
              "array([10, 11, 12, 13, 14, 15, 16, 17, 18, 19, 20, 21, 22, 23, 24, 25, 26,\n",
              "       27, 28, 29, 30, 31, 32, 33, 34, 35, 36, 37, 38, 39, 40, 41, 42, 43,\n",
              "       44, 45, 46, 47, 48, 49, 50, 51, 52, 53, 54, 55, 56, 57, 58, 59, 60,\n",
              "       61, 62, 63, 64, 65, 66, 67, 68, 69, 70, 71, 72, 73, 74, 75, 76, 77,\n",
              "       78, 79, 80, 81, 82, 83, 84, 85, 86, 87, 88, 89, 90, 91, 92, 93, 94,\n",
              "       95, 96, 97, 98, 99])"
            ]
          },
          "metadata": {},
          "execution_count": 12
        }
      ],
      "source": [
        "# 10부터 99까지 숫자를 자동으로 생성한 array\n",
        "np.arange(10,100)"
      ]
    },
    {
      "cell_type": "code",
      "source": [
        "arr.shape #(5, ) != (5, 1)\n",
        "arr2.shape #(3,2)"
      ],
      "metadata": {
        "id": "b7yyKXgFe6dc",
        "outputId": "258a50df-001f-4b03-a1cc-0f21f4ae9d0b",
        "colab": {
          "base_uri": "https://localhost:8080/"
        }
      },
      "execution_count": 18,
      "outputs": [
        {
          "output_type": "execute_result",
          "data": {
            "text/plain": [
              "(3, 2)"
            ]
          },
          "metadata": {},
          "execution_count": 18
        }
      ]
    },
    {
      "cell_type": "markdown",
      "metadata": {
        "id": "UFFwSitw1Pao"
      },
      "source": [
        "### 1.2. Reshaping array"
      ]
    },
    {
      "cell_type": "code",
      "execution_count": 19,
      "metadata": {
        "id": "-vcHHFl81Pao",
        "outputId": "351359d3-9a35-4574-81d8-f19d2df36c80",
        "colab": {
          "base_uri": "https://localhost:8080/"
        }
      },
      "outputs": [
        {
          "output_type": "execute_result",
          "data": {
            "text/plain": [
              "array([[1, 2, 3],\n",
              "       [4, 5, 6],\n",
              "       [7, 8, 9]])"
            ]
          },
          "metadata": {},
          "execution_count": 19
        }
      ],
      "source": [
        "# 3 x 3 행렬을 만들어봅시다.\n",
        "x = np.array([[1,2,3],\n",
        "             [4,5,6],\n",
        "             [7,8,9]])\n",
        "x"
      ]
    },
    {
      "cell_type": "code",
      "execution_count": 21,
      "metadata": {
        "id": "HChX3Sv91Pao",
        "outputId": "33fdc56a-3f5b-43b1-8156-c83cf60a26e3",
        "colab": {
          "base_uri": "https://localhost:8080/"
        }
      },
      "outputs": [
        {
          "output_type": "execute_result",
          "data": {
            "text/plain": [
              "array([[1, 2, 3],\n",
              "       [4, 5, 6],\n",
              "       [7, 8, 9]])"
            ]
          },
          "metadata": {},
          "execution_count": 21
        }
      ],
      "source": [
        "# reshape을 이용하여 만들어봅시다.\n",
        "np.arange(1,10).reshape(3,3) # (9,) -> (3,3)"
      ]
    },
    {
      "cell_type": "code",
      "source": [
        "# row vector를 column vector로\n",
        "np.arange(6).reshape(6,1)"
      ],
      "metadata": {
        "id": "jKHQRaFx5QFT",
        "outputId": "4c3125c8-b6b8-408f-e2d9-185712ddaecb",
        "colab": {
          "base_uri": "https://localhost:8080/"
        }
      },
      "execution_count": 24,
      "outputs": [
        {
          "output_type": "execute_result",
          "data": {
            "text/plain": [
              "array([[0],\n",
              "       [1],\n",
              "       [2],\n",
              "       [3],\n",
              "       [4],\n",
              "       [5]])"
            ]
          },
          "metadata": {},
          "execution_count": 24
        }
      ]
    },
    {
      "cell_type": "code",
      "source": [
        "# 펼치기\n",
        "x.reshape(-1, ) # -1이 나오면 다른 숫자에 맞춰서 shape 바뀐다."
      ],
      "metadata": {
        "id": "Jre4TnZT5YwK",
        "outputId": "8e1968c6-b78d-49fd-9594-f4e71d1e131e",
        "colab": {
          "base_uri": "https://localhost:8080/"
        }
      },
      "execution_count": 26,
      "outputs": [
        {
          "output_type": "execute_result",
          "data": {
            "text/plain": [
              "array([1, 2, 3, 4, 5, 6, 7, 8, 9])"
            ]
          },
          "metadata": {},
          "execution_count": 26
        }
      ]
    },
    {
      "cell_type": "markdown",
      "metadata": {
        "id": "MMrKtZy-1Pao"
      },
      "source": [
        "### 1.3. Concatenation of arrays"
      ]
    },
    {
      "cell_type": "code",
      "execution_count": 36,
      "metadata": {
        "id": "6g1bOHDn1Pao",
        "outputId": "5591e0c2-a0f3-4377-fb58-5745b0f681dd",
        "colab": {
          "base_uri": "https://localhost:8080/"
        }
      },
      "outputs": [
        {
          "output_type": "stream",
          "name": "stdout",
          "text": [
            "[[5 7 9]]\n",
            "[1, 2, 3, 1, 2, 3]\n"
          ]
        },
        {
          "output_type": "execute_result",
          "data": {
            "text/plain": [
              "array([[1, 2, 3],\n",
              "       [4, 5, 6]])"
            ]
          },
          "metadata": {},
          "execution_count": 36
        }
      ],
      "source": [
        "arr1 = np.array([[1, 2, 3]])\n",
        "arr2 = np.array([[4, 5, 6]])\n",
        "# arr1 + arr2 = ?\n",
        "print(arr1 + arr2)\n",
        "L = [1,2,3]\n",
        "L2 = [1,2,3]\n",
        "print(L+L2)\n",
        "# arr1와 arr2를 합칩니다\n",
        "np.concatenate([arr1,arr2], axis=0)"
      ]
    },
    {
      "cell_type": "code",
      "execution_count": 37,
      "metadata": {
        "id": "ePV80Pwx1Pao",
        "outputId": "a6daa238-a0d8-44a3-e3dc-9dce34f48f8c",
        "colab": {
          "base_uri": "https://localhost:8080/"
        }
      },
      "outputs": [
        {
          "output_type": "execute_result",
          "data": {
            "text/plain": [
              "array([[1, 2, 3],\n",
              "       [4, 5, 6]])"
            ]
          },
          "metadata": {},
          "execution_count": 37
        }
      ],
      "source": [
        "# stacking vertically\n",
        "np.vstack([arr1,arr2])"
      ]
    },
    {
      "cell_type": "code",
      "execution_count": 38,
      "metadata": {
        "id": "xcY9pR2M1Pap",
        "outputId": "c23f1a8b-f448-4d66-abb5-bb014843a386",
        "colab": {
          "base_uri": "https://localhost:8080/"
        }
      },
      "outputs": [
        {
          "output_type": "execute_result",
          "data": {
            "text/plain": [
              "array([[1, 2, 3, 4, 5, 6]])"
            ]
          },
          "metadata": {},
          "execution_count": 38
        }
      ],
      "source": [
        "# stacking horizontally\n",
        "np.hstack([arr1,arr2])"
      ]
    },
    {
      "cell_type": "markdown",
      "metadata": {
        "id": "1Pioy4a-1Pap"
      },
      "source": [
        "## 1.4. Array Arithmetic (like vector) --> Universal Function"
      ]
    },
    {
      "cell_type": "code",
      "execution_count": 40,
      "metadata": {
        "id": "sxjF6pdh1Pap"
      },
      "outputs": [],
      "source": [
        "# v1 = (1, 2, 3), v2 = (4, 5, 6) 벡터 2개 생성하기.\n",
        "v1 = np.array([1,2,3])\n",
        "v2 = np.array([4,5,6])"
      ]
    },
    {
      "cell_type": "code",
      "execution_count": 39,
      "metadata": {
        "id": "KFKEKB711Pap",
        "outputId": "e48872de-ce94-4bed-b88a-bb74302bca46",
        "colab": {
          "base_uri": "https://localhost:8080/"
        }
      },
      "outputs": [
        {
          "output_type": "execute_result",
          "data": {
            "text/plain": [
              "[1, 2, 3, 4, 5, 6]"
            ]
          },
          "metadata": {},
          "execution_count": 39
        }
      ],
      "source": [
        "# 리스트로 더하기 연산해보기\n",
        "L = [1,2,3]\n",
        "L2 = [4,5,6]\n",
        "L+L2"
      ]
    },
    {
      "cell_type": "code",
      "execution_count": 41,
      "metadata": {
        "id": "UiDh2wZX1Pap",
        "outputId": "99d62290-217e-4cac-9a4d-990ed539631b",
        "colab": {
          "base_uri": "https://localhost:8080/"
        }
      },
      "outputs": [
        {
          "output_type": "execute_result",
          "data": {
            "text/plain": [
              "array([5, 7, 9])"
            ]
          },
          "metadata": {},
          "execution_count": 41
        }
      ],
      "source": [
        "#  vector addition\n",
        "v1 + v2"
      ]
    },
    {
      "cell_type": "code",
      "execution_count": 42,
      "metadata": {
        "id": "z1uh1zIW1Pap",
        "outputId": "9012a1aa-9ff1-4eb9-b4dc-0e1cb6d71174",
        "colab": {
          "base_uri": "https://localhost:8080/"
        }
      },
      "outputs": [
        {
          "output_type": "execute_result",
          "data": {
            "text/plain": [
              "array([-3, -3, -3])"
            ]
          },
          "metadata": {},
          "execution_count": 42
        }
      ],
      "source": [
        "#  vector subtraction\n",
        "v1 - v2"
      ]
    },
    {
      "cell_type": "code",
      "execution_count": 43,
      "metadata": {
        "id": "Kp3n7JU91Pap",
        "outputId": "e86183cd-bbff-4b73-bd8b-d008d93acdfb",
        "colab": {
          "base_uri": "https://localhost:8080/"
        }
      },
      "outputs": [
        {
          "output_type": "execute_result",
          "data": {
            "text/plain": [
              "array([ 4, 10, 18])"
            ]
          },
          "metadata": {},
          "execution_count": 43
        }
      ],
      "source": [
        "# (not vector operation) elementwise multiplication\n",
        "v1 * v2"
      ]
    },
    {
      "cell_type": "code",
      "execution_count": 44,
      "metadata": {
        "id": "WQDxd6ew1Pap",
        "outputId": "268f2133-eb6b-4698-b5ab-478472753ef8",
        "colab": {
          "base_uri": "https://localhost:8080/"
        }
      },
      "outputs": [
        {
          "output_type": "execute_result",
          "data": {
            "text/plain": [
              "array([0.25, 0.4 , 0.5 ])"
            ]
          },
          "metadata": {},
          "execution_count": 44
        }
      ],
      "source": [
        "# (not vector operation) elementwise division\n",
        "v1/ v2"
      ]
    },
    {
      "cell_type": "code",
      "execution_count": 45,
      "metadata": {
        "id": "Kh9DEujN1Pap",
        "outputId": "577564c0-5879-405e-8210-6d047f80d8d1",
        "colab": {
          "base_uri": "https://localhost:8080/"
        }
      },
      "outputs": [
        {
          "output_type": "execute_result",
          "data": {
            "text/plain": [
              "32"
            ]
          },
          "metadata": {},
          "execution_count": 45
        }
      ],
      "source": [
        "# dot product\n",
        "v1 @ v2 # 1x4 + 2x5 + 3x6"
      ]
    },
    {
      "cell_type": "markdown",
      "metadata": {
        "id": "Dp11IV1l1Pap"
      },
      "source": [
        "### 1.5. Broadcast and Universal Function"
      ]
    },
    {
      "cell_type": "markdown",
      "metadata": {
        "id": "lbGKwuWf1Pap"
      },
      "source": [
        "- 서로 크기가 다른 numpy array를 연산할 때, 자동으로 연산을 전파(broadcast)해주는 기능. 행렬곱 연산을 할 때 편리하다."
      ]
    },
    {
      "cell_type": "code",
      "execution_count": 65,
      "metadata": {
        "id": "g8pG0d-V1Paq"
      },
      "outputs": [],
      "source": [
        "arr1 = np.array([1,2,3])"
      ]
    },
    {
      "cell_type": "code",
      "execution_count": 48,
      "metadata": {
        "id": "CQDgu7vG1Paq",
        "outputId": "d99a0b9d-0a4c-4521-b13c-199116ea9cd5",
        "colab": {
          "base_uri": "https://localhost:8080/"
        }
      },
      "outputs": [
        {
          "output_type": "execute_result",
          "data": {
            "text/plain": [
              "(2, 3)"
            ]
          },
          "metadata": {},
          "execution_count": 48
        }
      ],
      "source": [
        "arr2 = np.array([[-1,-1,-1],\n",
        "                 [1,1,1]])\n",
        "arr2.shape "
      ]
    },
    {
      "cell_type": "code",
      "execution_count": 49,
      "metadata": {
        "id": "-4EWUAZB1Paq",
        "outputId": "6295dc76-bfb1-4d06-e192-43f2a1359bc5",
        "colab": {
          "base_uri": "https://localhost:8080/"
        }
      },
      "outputs": [
        {
          "output_type": "execute_result",
          "data": {
            "text/plain": [
              "array([[0, 1, 2],\n",
              "       [2, 3, 4]])"
            ]
          },
          "metadata": {},
          "execution_count": 49
        }
      ],
      "source": [
        "# 2개의 array를 더해보면?\n",
        "arr1 + arr2 # 2->2->3(v)"
      ]
    },
    {
      "cell_type": "code",
      "execution_count": 50,
      "metadata": {
        "id": "EvOolsHz1Paq",
        "outputId": "35b46e17-0e96-4fa2-9ea6-ba2134065e27",
        "colab": {
          "base_uri": "https://localhost:8080/"
        }
      },
      "outputs": [
        {
          "output_type": "execute_result",
          "data": {
            "text/plain": [
              "array([[-1, -2, -3],\n",
              "       [ 1,  2,  3]])"
            ]
          },
          "metadata": {},
          "execution_count": 50
        }
      ],
      "source": [
        "# 2개의 array를 곱해보면? (**)\n",
        "arr1 * arr2"
      ]
    },
    {
      "cell_type": "markdown",
      "source": [
        "- Universal Function : broadcast 기능을 확장해서, numpy array의 모든 원소에 동일한 함수를 반복문으로 적용한 것과 같은 효과를 내는 기능."
      ],
      "metadata": {
        "id": "Rch_pHQW55S-"
      }
    },
    {
      "cell_type": "code",
      "source": [
        "# lambda : 한줄로 쓰는 함수식\n",
        "# lambda 매개변수 : 표현식\n",
        "# f = lambda x : 1/x\n",
        "\n",
        "f= lambda x : 1/x\n",
        "\n",
        "arr1 = np.array([1.,2.,3.])\n",
        "\n",
        "for i in range(arr1.shape[0]):\n",
        "    arr1[i] = f(arr1[i])\n",
        "print(arr1)\n",
        "\n",
        "arr1 = np.array([1.,2.,3.])\n",
        "print(1 / arr1) # universal func\n",
        "\n",
        "# print( (lambda x : 1/x)(5) )\n",
        "# print( map(lambda x : 1/x, range(1,5)) )\n",
        "# print( list(map(lambda x : 1/x, range(1,5))) )"
      ],
      "metadata": {
        "id": "AeXAfqUI6H0V",
        "outputId": "436f29d1-712d-4f81-bec1-7e21f64c1e17",
        "colab": {
          "base_uri": "https://localhost:8080/"
        }
      },
      "execution_count": 68,
      "outputs": [
        {
          "output_type": "stream",
          "name": "stdout",
          "text": [
            "[1.         0.5        0.33333333]\n",
            "[1.         0.5        0.33333333]\n"
          ]
        }
      ]
    },
    {
      "cell_type": "code",
      "execution_count": 69,
      "metadata": {
        "id": "xt20aKq21Paq",
        "outputId": "d4cfc84e-eeac-413f-94f7-7ccea7114e49",
        "colab": {
          "base_uri": "https://localhost:8080/"
        }
      },
      "outputs": [
        {
          "output_type": "execute_result",
          "data": {
            "text/plain": [
              "array([3., 4., 5.])"
            ]
          },
          "metadata": {},
          "execution_count": 69
        }
      ],
      "source": [
        "# f = lambda x : x + 2\n",
        "arr1 = arr1 +2\n",
        "arr1"
      ]
    },
    {
      "cell_type": "markdown",
      "metadata": {
        "id": "JQ9vQmo-1Paq"
      },
      "source": [
        "### 1.6. Indexing\n",
        "\n",
        "- numpy array의 인덱싱은 python list의 인덱싱과 같다."
      ]
    },
    {
      "cell_type": "code",
      "execution_count": 72,
      "metadata": {
        "id": "C2U2Y3Sz1Paq"
      },
      "outputs": [],
      "source": [
        "arr1 = np.arange(10)"
      ]
    },
    {
      "cell_type": "code",
      "execution_count": 73,
      "metadata": {
        "id": "5WULHYrI1Paq",
        "outputId": "af16a266-95e3-4068-8da1-5199f8602f07",
        "colab": {
          "base_uri": "https://localhost:8080/"
        }
      },
      "outputs": [
        {
          "output_type": "execute_result",
          "data": {
            "text/plain": [
              "0"
            ]
          },
          "metadata": {},
          "execution_count": 73
        }
      ],
      "source": [
        "# 첫번째 원소\n",
        "arr1[0]"
      ]
    },
    {
      "cell_type": "code",
      "execution_count": 74,
      "metadata": {
        "id": "_N-nEw7V1Paq",
        "outputId": "d78f975e-5566-4a4d-d7a9-47fa82ed7abb",
        "colab": {
          "base_uri": "https://localhost:8080/"
        }
      },
      "outputs": [
        {
          "output_type": "execute_result",
          "data": {
            "text/plain": [
              "9"
            ]
          },
          "metadata": {},
          "execution_count": 74
        }
      ],
      "source": [
        "# 마지막 원소\n",
        "arr1[-1]"
      ]
    },
    {
      "cell_type": "code",
      "execution_count": 77,
      "metadata": {
        "id": "wNQa8qoO1Paq",
        "outputId": "b33cb309-32c9-49c2-9cde-09c7017a8305",
        "colab": {
          "base_uri": "https://localhost:8080/"
        }
      },
      "outputs": [
        {
          "output_type": "execute_result",
          "data": {
            "text/plain": [
              "array([0, 1, 2])"
            ]
          },
          "metadata": {},
          "execution_count": 77
        }
      ],
      "source": [
        "# 앞에서부터 원소 3개 slicing\n",
        "arr1[:3]"
      ]
    },
    {
      "cell_type": "code",
      "execution_count": 79,
      "metadata": {
        "id": "29pYfFvL1Paq",
        "outputId": "ba4b55cc-eb82-425e-d2bd-6f035bd5b2f5",
        "colab": {
          "base_uri": "https://localhost:8080/"
        }
      },
      "outputs": [
        {
          "output_type": "execute_result",
          "data": {
            "text/plain": [
              "(3, 4)"
            ]
          },
          "metadata": {},
          "execution_count": 79
        }
      ],
      "source": [
        "arr2 = np.array([[1, 2, 3, 4],\n",
        "               [5, 6, 7, 8],\n",
        "               [9, 10, 11, 12]])\n",
        "arr2.shape"
      ]
    },
    {
      "cell_type": "code",
      "execution_count": 82,
      "metadata": {
        "id": "p8EFXNq91Paq",
        "outputId": "67c8baf9-4eec-4335-e467-11d90122213e",
        "colab": {
          "base_uri": "https://localhost:8080/"
        }
      },
      "outputs": [
        {
          "output_type": "execute_result",
          "data": {
            "text/plain": [
              "7"
            ]
          },
          "metadata": {},
          "execution_count": 82
        }
      ],
      "source": [
        "# arr2의 2row, 3column 원소 = 7\n",
        "arr2[1][2]\n",
        "arr2[1, 2] # numpy array indexing에서 추가된 것"
      ]
    },
    {
      "cell_type": "code",
      "execution_count": 91,
      "metadata": {
        "id": "OVgw4bT11Paq",
        "outputId": "6582c7a2-395b-401c-fa89-9304a4c75aec",
        "colab": {
          "base_uri": "https://localhost:8080/"
        }
      },
      "outputs": [
        {
          "output_type": "execute_result",
          "data": {
            "text/plain": [
              "array([ 3,  7, 11])"
            ]
          },
          "metadata": {},
          "execution_count": 91
        }
      ],
      "source": [
        "# arr2의 세번째 column [3, 7, 11]\n",
        "arr2[0,2]\n",
        "arr2[1,2]\n",
        "arr2[2,2]\n",
        "\n",
        "arr2[0:3,2]\n",
        "arr2[:, 2]"
      ]
    },
    {
      "cell_type": "code",
      "execution_count": 90,
      "metadata": {
        "id": "krLo7Tvg1Paq",
        "outputId": "38b9fa09-e20f-4bbf-b2e3-39131562aee1",
        "colab": {
          "base_uri": "https://localhost:8080/"
        }
      },
      "outputs": [
        {
          "output_type": "execute_result",
          "data": {
            "text/plain": [
              "array([5, 6, 7, 8])"
            ]
          },
          "metadata": {},
          "execution_count": 90
        }
      ],
      "source": [
        "# arr2의 두번째 row\n",
        "arr2[1, :]"
      ]
    },
    {
      "cell_type": "markdown",
      "metadata": {
        "id": "nb3NOpgU1Par"
      },
      "source": [
        "## 2. Numpy Methods\n",
        "\n",
        "- numpy에서 사용되는 여러가지 함수들을 사용해봅시다."
      ]
    },
    {
      "cell_type": "markdown",
      "metadata": {
        "id": "wsDCnH9Q1Par"
      },
      "source": [
        "### 2.1. Math Functions "
      ]
    },
    {
      "cell_type": "code",
      "execution_count": 92,
      "metadata": {
        "id": "Pme3p6FQ1Par",
        "outputId": "32658a05-ac5a-4ae4-e7d5-229187ce2ccb",
        "colab": {
          "base_uri": "https://localhost:8080/"
        }
      },
      "outputs": [
        {
          "output_type": "execute_result",
          "data": {
            "text/plain": [
              "array([[ 1.19763745, -0.4674038 ,  0.42303687],\n",
              "       [-0.31638076, -0.06639783,  0.805422  ],\n",
              "       [-0.59721212,  0.70132368, -0.96758865],\n",
              "       [-2.59381648,  0.18575846, -1.91802523],\n",
              "       [ 2.43868404,  0.71053949,  0.35792387]])"
            ]
          },
          "metadata": {},
          "execution_count": 92
        }
      ],
      "source": [
        "# 표준정규분포에서 random sampling을 한 원소를 가지는 5x3 행렬을 만든다.\n",
        "mat1 = np.random.randn(5, 3)\n",
        "mat1"
      ]
    },
    {
      "cell_type": "code",
      "execution_count": 93,
      "metadata": {
        "id": "YnWulebZ1Par",
        "outputId": "eeffc78f-0000-406f-a360-c13c9152101f",
        "colab": {
          "base_uri": "https://localhost:8080/"
        }
      },
      "outputs": [
        {
          "output_type": "execute_result",
          "data": {
            "text/plain": [
              "array([[1.19763745, 0.4674038 , 0.42303687],\n",
              "       [0.31638076, 0.06639783, 0.805422  ],\n",
              "       [0.59721212, 0.70132368, 0.96758865],\n",
              "       [2.59381648, 0.18575846, 1.91802523],\n",
              "       [2.43868404, 0.71053949, 0.35792387]])"
            ]
          },
          "metadata": {},
          "execution_count": 93
        }
      ],
      "source": [
        "# mat1에 절대값 씌우기\n",
        "np.abs(mat1)"
      ]
    },
    {
      "cell_type": "code",
      "source": [
        "# mat1 제곱하기\n",
        "np.square(mat1)"
      ],
      "metadata": {
        "id": "LEt94K-t6sdK",
        "outputId": "8dc8ca11-9c7b-4a8f-a039-61c1e9d950e3",
        "colab": {
          "base_uri": "https://localhost:8080/"
        }
      },
      "execution_count": 94,
      "outputs": [
        {
          "output_type": "execute_result",
          "data": {
            "text/plain": [
              "array([[1.43433546e+00, 2.18466312e-01, 1.78960189e-01],\n",
              "       [1.00096782e-01, 4.40867229e-03, 6.48704606e-01],\n",
              "       [3.56662317e-01, 4.91854900e-01, 9.36227798e-01],\n",
              "       [6.72788395e+00, 3.45062061e-02, 3.67882079e+00],\n",
              "       [5.94717987e+00, 5.04866374e-01, 1.28109497e-01]])"
            ]
          },
          "metadata": {},
          "execution_count": 94
        }
      ]
    },
    {
      "cell_type": "code",
      "source": [
        "# mat1의 제곱근 구하기 : 루트\n",
        "np.sqrt(mat1)"
      ],
      "metadata": {
        "id": "mFldaHe_6wHC",
        "outputId": "531d3377-f1d2-4998-c342-9b998d88bc9b",
        "colab": {
          "base_uri": "https://localhost:8080/"
        }
      },
      "execution_count": 95,
      "outputs": [
        {
          "output_type": "stream",
          "name": "stderr",
          "text": [
            "/usr/local/lib/python3.7/dist-packages/ipykernel_launcher.py:2: RuntimeWarning: invalid value encountered in sqrt\n",
            "  \n"
          ]
        },
        {
          "output_type": "execute_result",
          "data": {
            "text/plain": [
              "array([[1.09436623,        nan, 0.65041284],\n",
              "       [       nan,        nan, 0.89745307],\n",
              "       [       nan, 0.8374507 ,        nan],\n",
              "       [       nan, 0.43099706,        nan],\n",
              "       [1.56162865, 0.84293505, 0.59826739]])"
            ]
          },
          "metadata": {},
          "execution_count": 95
        }
      ]
    },
    {
      "cell_type": "code",
      "source": [
        "# linear algebra functions\n",
        "vec = np.array([1,2,2])\n",
        "\n",
        "# 1. norm\n",
        "np.linalg.norm(vec) # vector L2 norm 루트(1^2 + 2^2 + 2^2) \n",
        "\n",
        "# 2. eigenvalue\n",
        "mat = np.array([[1,2],\n",
        "                [3,4]])\n",
        "np.linalg.eig(mat)"
      ],
      "metadata": {
        "id": "khqI2kwA62Ez",
        "outputId": "c32c4369-022d-4e86-d266-1be777fdce1b",
        "colab": {
          "base_uri": "https://localhost:8080/"
        }
      },
      "execution_count": 98,
      "outputs": [
        {
          "output_type": "execute_result",
          "data": {
            "text/plain": [
              "(array([-0.37228132,  5.37228132]), array([[-0.82456484, -0.41597356],\n",
              "        [ 0.56576746, -0.90937671]]))"
            ]
          },
          "metadata": {},
          "execution_count": 98
        }
      ]
    },
    {
      "cell_type": "markdown",
      "metadata": {
        "id": "Tk5S0yOf1Par"
      },
      "source": [
        "### 2.2. Aggregation functions "
      ]
    },
    {
      "cell_type": "code",
      "execution_count": 99,
      "metadata": {
        "id": "b0ei5LJ51Par",
        "outputId": "17352fe7-70bf-4527-bac7-858468fd96ca",
        "colab": {
          "base_uri": "https://localhost:8080/"
        }
      },
      "outputs": [
        {
          "output_type": "execute_result",
          "data": {
            "text/plain": [
              "array([[0.50613784, 0.32135396],\n",
              "       [0.67831896, 0.23950535],\n",
              "       [0.22285105, 0.91112084]])"
            ]
          },
          "metadata": {},
          "execution_count": 99
        }
      ],
      "source": [
        "mat2 = np.random.rand(3, 2)\n",
        "mat2"
      ]
    },
    {
      "cell_type": "code",
      "execution_count": 102,
      "metadata": {
        "id": "hMKOS5O51Par",
        "outputId": "0dbacb7c-a568-435c-e0c7-f96af5ddb055",
        "colab": {
          "base_uri": "https://localhost:8080/"
        }
      },
      "outputs": [
        {
          "output_type": "execute_result",
          "data": {
            "text/plain": [
              "array([1.40730785, 1.47198015])"
            ]
          },
          "metadata": {},
          "execution_count": 102
        }
      ],
      "source": [
        "# Summation\n",
        "np.sum(mat2)\n",
        "np.sum(mat2, axis=1)\n",
        "np.sum(mat2, axis=0)"
      ]
    },
    {
      "cell_type": "code",
      "execution_count": 108,
      "metadata": {
        "id": "OdJZdrx_1Par",
        "outputId": "504b2107-6533-47b1-edb4-ee4f6742b325",
        "colab": {
          "base_uri": "https://localhost:8080/"
        }
      },
      "outputs": [
        {
          "output_type": "execute_result",
          "data": {
            "text/plain": [
              "array([0.46910262, 0.49066005])"
            ]
          },
          "metadata": {},
          "execution_count": 108
        }
      ],
      "source": [
        "# mean\n",
        "np.mean(mat2, axis=1)\n",
        "np.mean(mat2, axis=0)"
      ]
    },
    {
      "cell_type": "code",
      "execution_count": 106,
      "metadata": {
        "id": "78xMuXMY1Par",
        "outputId": "fc5f9075-1a94-4346-e79e-e94e311f4139",
        "colab": {
          "base_uri": "https://localhost:8080/"
        }
      },
      "outputs": [
        {
          "output_type": "execute_result",
          "data": {
            "text/plain": [
              "0.25000350548901995"
            ]
          },
          "metadata": {},
          "execution_count": 106
        }
      ],
      "source": [
        "# std 표준편차\n",
        "np.std(mat2)"
      ]
    },
    {
      "cell_type": "code",
      "execution_count": 107,
      "metadata": {
        "id": "KzfPurFc1Par",
        "outputId": "6c2bbbe5-d71d-4381-fb53-8a6817acc55f",
        "colab": {
          "base_uri": "https://localhost:8080/"
        }
      },
      "outputs": [
        {
          "output_type": "execute_result",
          "data": {
            "text/plain": [
              "array([0.50613784, 0.67831896, 0.91112084])"
            ]
          },
          "metadata": {},
          "execution_count": 107
        }
      ],
      "source": [
        "# min, max\n",
        "np.min(mat2, axis =0)\n",
        "np.max(mat2, axis =1)"
      ]
    },
    {
      "cell_type": "code",
      "execution_count": 111,
      "metadata": {
        "id": "YtRtiSG31Pas",
        "outputId": "4571db4c-00f9-48e0-8002-5b03f74502fd",
        "colab": {
          "base_uri": "https://localhost:8080/"
        }
      },
      "outputs": [
        {
          "output_type": "execute_result",
          "data": {
            "text/plain": [
              "array([1, 1, 0])"
            ]
          },
          "metadata": {},
          "execution_count": 111
        }
      ],
      "source": [
        "# 최소값이 있는 Index\n",
        "np.argmin(mat2, axis=0)\n",
        "np.argmin(mat2, axis=1)"
      ]
    },
    {
      "cell_type": "code",
      "execution_count": 112,
      "metadata": {
        "id": "0cndLCKl1Pas",
        "outputId": "16901aa5-1ec5-4ab9-c8e4-9dc4a5807537",
        "colab": {
          "base_uri": "https://localhost:8080/"
        }
      },
      "outputs": [
        {
          "output_type": "execute_result",
          "data": {
            "text/plain": [
              "array([0, 0, 1])"
            ]
          },
          "metadata": {},
          "execution_count": 112
        }
      ],
      "source": [
        "# 최대값이 있는 Index\n",
        "np.argmax(mat2, axis=1)"
      ]
    },
    {
      "cell_type": "code",
      "source": [
        "mat2"
      ],
      "metadata": {
        "id": "dJChKkw2shW_",
        "outputId": "5d456921-826c-4113-a23c-de22d8089694",
        "colab": {
          "base_uri": "https://localhost:8080/"
        }
      },
      "execution_count": 113,
      "outputs": [
        {
          "output_type": "execute_result",
          "data": {
            "text/plain": [
              "array([[0.50613784, 0.32135396],\n",
              "       [0.67831896, 0.23950535],\n",
              "       [0.22285105, 0.91112084]])"
            ]
          },
          "metadata": {},
          "execution_count": 113
        }
      ]
    },
    {
      "cell_type": "code",
      "execution_count": 118,
      "metadata": {
        "id": "y2LVvF5b1Pas",
        "outputId": "97bbf22c-fa0e-427e-e5f0-5e5b1925ea8f",
        "colab": {
          "base_uri": "https://localhost:8080/"
        }
      },
      "outputs": [
        {
          "output_type": "execute_result",
          "data": {
            "text/plain": [
              "array([[0.22285105, 0.23950535],\n",
              "       [0.50613784, 0.32135396],\n",
              "       [0.67831896, 0.91112084]])"
            ]
          },
          "metadata": {},
          "execution_count": 118
        }
      ],
      "source": [
        "# 그냥 정렬 (오름차순 정렬만 지원합니다)\n",
        "np.sort(mat2, axis=0)\n",
        "\n",
        "# 만약 내림차순 정렬을 하고싶다면\n",
        "# np.sort(mat2, axis=0)[::-1]"
      ]
    },
    {
      "cell_type": "code",
      "execution_count": 117,
      "metadata": {
        "id": "mLeMOv7f1Pas",
        "outputId": "3a8130c7-29a3-4d46-9e86-b8ca10907106",
        "colab": {
          "base_uri": "https://localhost:8080/"
        }
      },
      "outputs": [
        {
          "output_type": "execute_result",
          "data": {
            "text/plain": [
              "array([[2, 1],\n",
              "       [0, 0],\n",
              "       [1, 2]])"
            ]
          },
          "metadata": {},
          "execution_count": 117
        }
      ],
      "source": [
        "# index를 정렬\n",
        "np.argsort(mat2, axis=0)"
      ]
    },
    {
      "cell_type": "markdown",
      "metadata": {
        "id": "2a2AgVdm1Pas"
      },
      "source": [
        "## 3. \bPerformance Check"
      ]
    },
    {
      "cell_type": "markdown",
      "metadata": {
        "id": "ciO_FLLW1Pas"
      },
      "source": [
        "- Universal Function 기능을 통해 반복문을 사용한 것보다 훨씬 빠른 성능을 냅니다.\n",
        "\n",
        "\n",
        "- 직접 실험을 통해 그 차이를 확인해보겠습니다."
      ]
    },
    {
      "cell_type": "code",
      "execution_count": 119,
      "metadata": {
        "id": "oVBZX1U31Pas"
      },
      "outputs": [],
      "source": [
        "np.random.seed(0)\n",
        "\n",
        "def reverse_num(values):\n",
        "    output = np.empty(len(values))\n",
        "    \n",
        "    for i in range(len(values)):\n",
        "        output[i] = 1.0 / values[i]\n",
        "    \n",
        "    return output"
      ]
    },
    {
      "cell_type": "code",
      "execution_count": 120,
      "metadata": {
        "id": "aagBlNXs1Pas",
        "outputId": "94245e9d-b332-4a04-cafa-70f4588902aa",
        "colab": {
          "base_uri": "https://localhost:8080/"
        }
      },
      "outputs": [
        {
          "output_type": "execute_result",
          "data": {
            "text/plain": [
              "array([45, 48, 65, ..., 93, 62, 19])"
            ]
          },
          "metadata": {},
          "execution_count": 120
        }
      ],
      "source": [
        "# 1부터 100까지 범위에서 1000000개를 랜덤으로 뽑아서 array를 만듭니다.\n",
        "big_array = np.random.randint(1, 100, 1000000)\n",
        "big_array"
      ]
    },
    {
      "cell_type": "code",
      "execution_count": 121,
      "metadata": {
        "id": "VMyEUiVM1Pas",
        "outputId": "bb050b92-c458-448a-e665-e34870cb91f6",
        "colab": {
          "base_uri": "https://localhost:8080/"
        }
      },
      "outputs": [
        {
          "output_type": "stream",
          "name": "stdout",
          "text": [
            "1 loop, best of 5: 2.28 s per loop\n"
          ]
        }
      ],
      "source": [
        "%timeit reverse_num(big_array)"
      ]
    },
    {
      "cell_type": "code",
      "execution_count": 122,
      "metadata": {
        "id": "k7PvHI7-1Pas",
        "outputId": "e090ff60-9b21-44fa-9afe-f1049ccfbca2",
        "colab": {
          "base_uri": "https://localhost:8080/"
        }
      },
      "outputs": [
        {
          "output_type": "stream",
          "name": "stdout",
          "text": [
            "100 loops, best of 5: 2.54 ms per loop\n"
          ]
        }
      ],
      "source": [
        "%timeit 1.0 / big_array"
      ]
    },
    {
      "cell_type": "code",
      "execution_count": null,
      "metadata": {
        "id": "_11lEint1Pas"
      },
      "outputs": [],
      "source": [
        ""
      ]
    }
  ],
  "metadata": {
    "kernelspec": {
      "display_name": "Python 3 (ipykernel)",
      "language": "python",
      "name": "python3"
    },
    "language_info": {
      "codemirror_mode": {
        "name": "ipython",
        "version": 3
      },
      "file_extension": ".py",
      "mimetype": "text/x-python",
      "name": "python",
      "nbconvert_exporter": "python",
      "pygments_lexer": "ipython3",
      "version": "3.8.2"
    },
    "colab": {
      "name": "Chapter.02 데이터 분석 라이브러리-03. Numpy method (실습).ipynb",
      "provenance": [],
      "collapsed_sections": []
    }
  },
  "nbformat": 4,
  "nbformat_minor": 0
}