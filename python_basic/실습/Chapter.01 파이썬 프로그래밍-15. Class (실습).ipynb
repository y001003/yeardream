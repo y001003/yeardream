{
  "cells": [
    {
      "cell_type": "markdown",
      "id": "introductory-deployment",
      "metadata": {
        "id": "introductory-deployment"
      },
      "source": [
        "### Python Class\n",
        "\n",
        "- Python은 OOP 패러다임으로 구현된 언어입니다. \n",
        "\n",
        "- Python에서 Class를 직접 구현하면서 개념을 익혀봅시다."
      ]
    },
    {
      "cell_type": "code",
      "execution_count": 5,
      "id": "noticed-vault",
      "metadata": {
        "id": "noticed-vault"
      },
      "outputs": [],
      "source": [
        "# Notebook 이라는 사물을 클래스로 정의합니다.\n",
        "class Notebook():\n",
        "    def __init__(self, manufacturer, model, cpu_type, ram_size, ssd_size):\n",
        "        self.manufacturer = manufacturer\n",
        "        self.model = model\n",
        "        self.cpu_type = cpu_type\n",
        "        self.ram_size = ram_size\n",
        "        self.ssd_size = ssd_size"
      ]
    },
    {
      "cell_type": "code",
      "execution_count": 6,
      "id": "resistant-comment",
      "metadata": {
        "id": "resistant-comment",
        "outputId": "89f103a8-e182-43c0-a46b-a06b2e148845",
        "colab": {
          "base_uri": "https://localhost:8080/",
          "height": 36
        }
      },
      "outputs": [
        {
          "output_type": "execute_result",
          "data": {
            "text/plain": [
              "'M1 Max'"
            ],
            "application/vnd.google.colaboratory.intrinsic+json": {
              "type": "string"
            }
          },
          "metadata": {},
          "execution_count": 6
        }
      ],
      "source": [
        "# 클래스의 생성자(constructor)를 불러와봅니다.\n",
        "notebook = Notebook(\"Apple\",\"M1 Max\",\"M1 Max\",64,2048)\n",
        "notebook.model"
      ]
    },
    {
      "cell_type": "markdown",
      "id": "running-progressive",
      "metadata": {
        "id": "running-progressive"
      },
      "source": [
        "- Notebook이라는 개념을 클래스로 구현하였습니다.\n",
        "\n",
        "- Notebook에서 필요한 여러가지 기능을 함수(class method)로 구현합니다."
      ]
    },
    {
      "cell_type": "code",
      "execution_count": 9,
      "id": "breathing-break",
      "metadata": {
        "id": "breathing-break",
        "outputId": "39010260-fda9-49b9-c6e1-ecee7b8d506b",
        "colab": {
          "base_uri": "https://localhost:8080/"
        }
      },
      "outputs": [
        {
          "output_type": "execute_result",
          "data": {
            "text/plain": [
              "False"
            ]
          },
          "metadata": {},
          "execution_count": 9
        }
      ],
      "source": [
        "# 클래스 내부의 함수를 구현합니다.\n",
        "# 해당 노트북의 운영체제가 UNIX 계열 운영체제인지 아닌지 확인하는 Class Method를 구현합니다.\n",
        "\n",
        "class Notebook():\n",
        "    def __init__(self, manufacturer, model, cpu_type, ram_size, ssd_size, os):\n",
        "        self.manufacturer = manufacturer\n",
        "        self.model = model\n",
        "        self.cpu_type = cpu_type\n",
        "        self.ram_size = ram_size\n",
        "        self.ssd_size = ssd_size\n",
        "        self.os = os\n",
        "    \n",
        "  ## TO-DO ##\n",
        "    def is_UNIX(self):\n",
        "        UNIX = [\"macOS\",\"Ubuntu\",\"iOS\",\"Android\"]\n",
        "        if self.os in UNIX:\n",
        "            return True\n",
        "        else:\n",
        "            return False\n",
        "    \n",
        "\n",
        "nb = Notebook(\"Apple\",\"M1 Max\",\"M1 Max\",64,2048,\"macOS\")\n",
        "nb2 = Notebook(\"LG\",\"Gram 17\",\"Intel 17\",16,2048,\"Windows\")\n",
        "\n",
        "nb.is_UNIX()\n",
        "nb2.is_UNIX()"
      ]
    },
    {
      "cell_type": "code",
      "execution_count": 11,
      "id": "vertical-variable",
      "metadata": {
        "id": "vertical-variable",
        "outputId": "25912503-ca8c-4229-e2aa-b780d3d00e3f",
        "colab": {
          "base_uri": "https://localhost:8080/"
        }
      },
      "outputs": [
        {
          "output_type": "stream",
          "name": "stdout",
          "text": [
            "This Notebook is M1 Max model\n",
            "This Notebook is Gram 17 model\n"
          ]
        }
      ],
      "source": [
        "# 해당 노트북의 모델을 출력해주는 Class Method를 구현합니다.\n",
        "class Notebook():\n",
        "    def __init__(self, manufacturer, model, cpu_type, ram_size, ssd_size, os):\n",
        "        self.manufacturer = manufacturer\n",
        "        self.model = model\n",
        "        self.cpu_type = cpu_type\n",
        "        self.ram_size = ram_size\n",
        "        self.ssd_size = ssd_size\n",
        "        self.os = os\n",
        "    \n",
        "  ## TO-DO ##\n",
        "    def is_UNIX(self):\n",
        "        UNIX = [\"macOS\",\"Ubuntu\",\"iOS\",\"Android\"]\n",
        "        if self.os in UNIX:\n",
        "            return True\n",
        "        else:\n",
        "            return False\n",
        "\n",
        "    def print_model(self):\n",
        "        print(f\"This Notebook is {self.model} model\")\n",
        "nb = Notebook(\"Apple\",\"M1 Max\",\"M1 Max\",64,2048,\"macOS\")\n",
        "nb2 = Notebook(\"LG\",\"Gram 17\",\"Intel 17\",16,2048,\"Windows\")\n",
        "nb.print_model()\n",
        "nb2.print_model()"
      ]
    },
    {
      "cell_type": "markdown",
      "id": "cleared-child",
      "metadata": {
        "id": "cleared-child"
      },
      "source": [
        "#### 클래스 상속 (Class inheritence)\n",
        "\n",
        "- Notebook들은 제조사마다 다른 모델이 있습니다.\n",
        "\n",
        "\n",
        "- 해당 모델들은 Notebook이지만, 모델마다 다른 특징을 가지고 있습니다.\n",
        "\n",
        "\n",
        "- 노트북의 개념을 그대로 이어받아, 모델마다 다른 개념을 Class로 구현해봅시다."
      ]
    },
    {
      "cell_type": "code",
      "execution_count": 15,
      "id": "latter-hygiene",
      "metadata": {
        "id": "latter-hygiene",
        "outputId": "4bb8cc54-0244-4ec8-91ad-77af07ceb96d",
        "colab": {
          "base_uri": "https://localhost:8080/"
        }
      },
      "outputs": [
        {
          "output_type": "stream",
          "name": "stdout",
          "text": [
            "This Notebook is Macbook pro model\n"
          ]
        }
      ],
      "source": [
        "# notebook class를 상속받아서 새로운 MacBook class를 정의\n",
        "class MacBook(Notebook):\n",
        "    def __init__(self, model, release_date, display_size, cpu_type, ram_size, ssd_size, os):\n",
        "        self.model = model\n",
        "        self.release_date = release_date\n",
        "        self.display_size = display_size\n",
        "        self.cpu_type = cpu_type\n",
        "        self.ram_size = ram_size\n",
        "        self.ssd_size = ssd_size\n",
        "        self.os = os\n",
        "\n",
        "macbook = MacBook(\"Macbook pro\",\"2020\",\"13\",\"Intel i5\", 16, 1024, \"macOS\")\n",
        "macbook.print_model() # print_model <- Notebook 부모 클래스에서 상속받은 Class method"
      ]
    },
    {
      "cell_type": "code",
      "execution_count": 17,
      "id": "clinical-intelligence",
      "metadata": {
        "id": "clinical-intelligence",
        "outputId": "d83ecc4f-682b-4ca6-d80e-eacf8db880d5",
        "colab": {
          "base_uri": "https://localhost:8080/"
        }
      },
      "outputs": [
        {
          "output_type": "stream",
          "name": "stdout",
          "text": [
            "This Notebook is XPS model\n"
          ]
        }
      ],
      "source": [
        "# notebook class를 상속받아서 새로운 Dell_Laptop class를 정의\n",
        "class Dell_Laptop(Notebook):\n",
        "    def __init__(self, model, series, display_size, cpu_type, ram_size, ssd_size, os=\"Window 11\"):\n",
        "        self.model = model\n",
        "        self.series = series\n",
        "        self.display_size = display_size\n",
        "        self.cpu_type = cpu_type\n",
        "        self.ram_size = ram_size\n",
        "        self.ssd_size = ssd_size\n",
        "        self.os = os\n",
        "dell = Dell_Laptop(\"XPS\", 9500, 15, \"Intel i7\", 16, 2048)\n",
        "dell.print_model()\n"
      ]
    },
    {
      "cell_type": "markdown",
      "id": "classical-williams",
      "metadata": {
        "id": "classical-williams"
      },
      "source": [
        "#### Method Overriding"
      ]
    },
    {
      "cell_type": "code",
      "execution_count": 23,
      "id": "political-correspondence",
      "metadata": {
        "id": "political-correspondence",
        "outputId": "a3151496-f610-411e-ece3-0a36ba6bf88e",
        "colab": {
          "base_uri": "https://localhost:8080/"
        }
      },
      "outputs": [
        {
          "output_type": "stream",
          "name": "stdout",
          "text": [
            "True\n",
            "This notebook is XPS950015 model.\n",
            "False\n"
          ]
        }
      ],
      "source": [
        "# 각 모델마다 다르게 정보를 출력해주는 is_UNIX 함수를 재정의합니다.\n",
        "class MacBook(Notebook):\n",
        "    def __init__(self, model, release_date, display_size, cpu_type, ram_size, ssd_size, os):\n",
        "        self.model = model\n",
        "        self.release_date = release_date\n",
        "        self.display_size = display_size\n",
        "        self.cpu_type = cpu_type\n",
        "        self.ram_size = ram_size\n",
        "        self.ssd_size = ssd_size\n",
        "        self.os = os\n",
        "\n",
        "    # is_UNIX 함수를 재정의\n",
        "    def is_UNIX(self):\n",
        "        UNIX = [\"Ubuntu\",\"iOS\",\"Android\",\"Mojave\",\"Catelina\",\"Sierra\",\"High Sierra\",\"Montrery\"]\n",
        "        if self.os in UNIX:\n",
        "            return True\n",
        "        else:\n",
        "            return False\n",
        "\n",
        "class Dell_Laptop(Notebook):\n",
        "    def __init__(self, model, series, display_size, cpu_type, ram_size, ssd_size, os=\"Window 11\"):\n",
        "        self.model = model\n",
        "        self.series = series\n",
        "        self.display_size = display_size\n",
        "        self.cpu_type = cpu_type\n",
        "        self.ram_size = ram_size\n",
        "        self.ssd_size = ssd_size\n",
        "        self.os = os\n",
        "\n",
        "    def print_model(self):\n",
        "        print(f\"This notebook is {self.model}{self.series}{self.display_size} model.\")\n",
        "\n",
        "macbook = MacBook(\"Macbook pro\",\"2020\",\"13\",\"Intel i5\", 16, 1024, \"Catelina\")\n",
        "print(macbook.is_UNIX())\n",
        "\n",
        "dell = Dell_Laptop(\"XPS\", 9500, 15, \"Intel i7\", 16, 2048)\n",
        "dell.print_model()\n",
        "print(dell.is_UNIX())"
      ]
    },
    {
      "cell_type": "code",
      "source": [
        ""
      ],
      "metadata": {
        "id": "RQsOIjvfKTRg"
      },
      "id": "RQsOIjvfKTRg",
      "execution_count": null,
      "outputs": []
    }
  ],
  "metadata": {
    "kernelspec": {
      "display_name": "Python 3",
      "language": "python",
      "name": "python3"
    },
    "language_info": {
      "codemirror_mode": {
        "name": "ipython",
        "version": 3
      },
      "file_extension": ".py",
      "mimetype": "text/x-python",
      "name": "python",
      "nbconvert_exporter": "python",
      "pygments_lexer": "ipython3",
      "version": "3.8.2"
    },
    "colab": {
      "name": "Chapter.01 파이썬 프로그래밍-15. Class (실습).ipynb",
      "provenance": [],
      "collapsed_sections": []
    }
  },
  "nbformat": 4,
  "nbformat_minor": 5
}