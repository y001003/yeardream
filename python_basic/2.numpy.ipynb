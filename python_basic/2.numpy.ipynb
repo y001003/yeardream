{
  "cells": [
    {
      "cell_type": "markdown",
      "metadata": {
        "id": "yvw_uDZxxwHW"
      },
      "source": [
        "# Numpy - 2"
      ]
    },
    {
      "cell_type": "markdown",
      "metadata": {
        "id": "adF-wmilxwHY"
      },
      "source": [
        "numpy는 수치 연산과 관련된 모듈로, 숫자형 데이터를 보다 세분화된 형태로 저장합니다.\n",
        "- 크게 정수/실수/복소수/Boolean형으로 구분합니다.\n",
        "- 데이터형 뒤에는 비트수를 표기합니다. \n",
        "\n",
        "https://numpy.org/devdocs/user/basics.types.html"
      ]
    },
    {
      "cell_type": "markdown",
      "metadata": {
        "id": "gRTBU0XQxwHZ"
      },
      "source": [
        "인스턴스 변수 `dtype`에는 데이터 타입이 저장돼 있습니다. `int32`는 정수 (`integer`) 값을 저장할 수 있는 32 bits 자료형이라는 뜻입니다. 숫자가 커질 수록 더욱 큰 수를 저장할 수 있는 반면 더 많은 저장 공간을 필요로 합니다. "
      ]
    },
    {
      "cell_type": "code",
      "execution_count": 1,
      "metadata": {
        "id": "6FhAQKe5xwHZ",
        "outputId": "309a6120-4ca5-455c-a961-32792e28f68d",
        "colab": {
          "base_uri": "https://localhost:8080/"
        }
      },
      "outputs": [
        {
          "output_type": "stream",
          "name": "stdout",
          "text": [
            "int64\n"
          ]
        }
      ],
      "source": [
        "import numpy as np\n",
        "a = np.arange(4)\n",
        "print(a.dtype)"
      ]
    },
    {
      "cell_type": "markdown",
      "metadata": {
        "id": "iRHLRljYxwHa"
      },
      "source": [
        "데이터 타입을 변경할 때는 `astype` 메서드를 사용합니다. `int8`은 `int32` 보다 적은 숫자를 저장할 수 있겠죠?"
      ]
    },
    {
      "cell_type": "code",
      "execution_count": 2,
      "metadata": {
        "id": "ieJVYcXZxwHa",
        "outputId": "ff376398-dc8a-4a86-9243-2a47f2b9662e",
        "colab": {
          "base_uri": "https://localhost:8080/"
        }
      },
      "outputs": [
        {
          "output_type": "stream",
          "name": "stdout",
          "text": [
            "int8\n",
            "[ 127 -128    2    3]\n"
          ]
        }
      ],
      "source": [
        "a = a.astype('int8')\n",
        "print(a.dtype)\n",
        "\n",
        "a[0] = 127\n",
        "a[1] = 128\n",
        "print(a)"
      ]
    },
    {
      "cell_type": "markdown",
      "metadata": {
        "id": "3IW63-oKxwHa"
      },
      "source": [
        "`uint8`은 부호없는 정수를 저장하며 `int8`보다 조금 더(2배) 큰 숫자를 저장할 수 있습니다. "
      ]
    },
    {
      "cell_type": "code",
      "execution_count": null,
      "metadata": {
        "id": "WIe7KsTyxwHb",
        "outputId": "47db1a32-a416-4618-b8f0-15a1cee4e23e"
      },
      "outputs": [
        {
          "name": "stdout",
          "output_type": "stream",
          "text": [
            "uint8\n",
            "[255   0   2   3]\n"
          ]
        }
      ],
      "source": [
        "a = a.astype('uint8')\n",
        "print(a.dtype)\n",
        "\n",
        "a[0] = 255\n",
        "a[1] = 256\n",
        "print(a)"
      ]
    },
    {
      "cell_type": "markdown",
      "metadata": {
        "id": "WDzufOHfxwHb"
      },
      "source": [
        "## 넘파이의 연산\n",
        "넘파이의 사칙연산은 전체 데이터에 적용되는데, 이를 브로드 캐스팅 (broadcasting)이라고 합니다. \n",
        "### 사칙연산\n",
        "곱셈 연산이 `ndarray`에 저장된 모든 데이터에 적용됐음을 알 수 있습니다. "
      ]
    },
    {
      "cell_type": "code",
      "execution_count": 3,
      "metadata": {
        "id": "lhwSn5yvxwHc",
        "outputId": "54a5a5ec-5a5e-409b-95e9-e47772db8c9e",
        "colab": {
          "base_uri": "https://localhost:8080/"
        }
      },
      "outputs": [
        {
          "output_type": "stream",
          "name": "stdout",
          "text": [
            "[0 1 2 3]\n",
            "[0 3 6 9]\n"
          ]
        }
      ],
      "source": [
        "import numpy as np\n",
        "\n",
        "a = np.arange(4)\n",
        "print(a)\n",
        "print( a * 3 )"
      ]
    },
    {
      "cell_type": "markdown",
      "metadata": {
        "id": "fuPbBBqQxwHc"
      },
      "source": [
        "곱셈 뿐만 아니라 덧셈/뺄셈/나눗셈에 대해서도 모두 동작합니다."
      ]
    },
    {
      "cell_type": "code",
      "execution_count": 4,
      "metadata": {
        "id": "0waPz5zixwHc",
        "outputId": "4bfa0c6d-4b29-4a85-9012-8398763382f1",
        "colab": {
          "base_uri": "https://localhost:8080/"
        }
      },
      "outputs": [
        {
          "output_type": "stream",
          "name": "stdout",
          "text": [
            "[10 11 12 13]\n",
            "[-10  -9  -8  -7]\n",
            "[0.         0.33333333 0.66666667 1.        ]\n"
          ]
        }
      ],
      "source": [
        "print( a + 10 )\n",
        "print( a - 10 )\n",
        "print( a / 3 )"
      ]
    },
    {
      "cell_type": "markdown",
      "metadata": {
        "id": "bno6ciXHxwHc"
      },
      "source": [
        "ndarray와의 연산"
      ]
    },
    {
      "cell_type": "code",
      "execution_count": 5,
      "metadata": {
        "id": "S0GEs95SxwHd",
        "outputId": "e5ff6eeb-46d9-490a-90ac-4fb251b43147",
        "colab": {
          "base_uri": "https://localhost:8080/"
        }
      },
      "outputs": [
        {
          "output_type": "stream",
          "name": "stdout",
          "text": [
            "[2 4 6 8]\n"
          ]
        }
      ],
      "source": [
        "a = np.arange(4)\n",
        "b = np.arange(2, 6)\n",
        "print(a+b)"
      ]
    },
    {
      "cell_type": "code",
      "source": [
        "a[0] = 30\n",
        "a"
      ],
      "metadata": {
        "id": "NAwFH5lL1ggR",
        "outputId": "b99c3f00-1540-44a6-8d58-3b1ded77c3e0",
        "colab": {
          "base_uri": "https://localhost:8080/"
        }
      },
      "execution_count": 6,
      "outputs": [
        {
          "output_type": "execute_result",
          "data": {
            "text/plain": [
              "array([30,  1,  2,  3])"
            ]
          },
          "metadata": {},
          "execution_count": 6
        }
      ]
    },
    {
      "cell_type": "code",
      "source": [
        "a[:2] = 20\n",
        "a"
      ],
      "metadata": {
        "id": "cmHOkfS_1nLY",
        "outputId": "c81d5c1e-f912-49b8-d987-c9094267e253",
        "colab": {
          "base_uri": "https://localhost:8080/"
        }
      },
      "execution_count": 8,
      "outputs": [
        {
          "output_type": "execute_result",
          "data": {
            "text/plain": [
              "array([20, 20,  2,  3])"
            ]
          },
          "metadata": {},
          "execution_count": 8
        }
      ]
    },
    {
      "cell_type": "code",
      "source": [
        "a[[0,3]] = 0\n",
        "a"
      ],
      "metadata": {
        "id": "X6CSXsxJ1uR_",
        "outputId": "452d839f-d6b5-4370-db9a-b6058810dbc2",
        "colab": {
          "base_uri": "https://localhost:8080/"
        }
      },
      "execution_count": 9,
      "outputs": [
        {
          "output_type": "execute_result",
          "data": {
            "text/plain": [
              "array([ 0, 20,  2,  0])"
            ]
          },
          "metadata": {},
          "execution_count": 9
        }
      ]
    },
    {
      "cell_type": "markdown",
      "metadata": {
        "id": "C70KHoJixwHd"
      },
      "source": [
        "Q. 중간고사 성적의 분산을 출력하라\n",
        "- v𝑎𝑟(𝑋)=𝐸((𝑋−𝜇)2)"
      ]
    },
    {
      "cell_type": "markdown",
      "metadata": {
        "id": "NkRd9eX_xwHd"
      },
      "source": [
        "<img src=\"https://i.ibb.co/SfVzf0Z/image.png\" width=\"250\" style=\"float:left\" />"
      ]
    },
    {
      "cell_type": "code",
      "execution_count": null,
      "metadata": {
        "id": "GvCkD7UoxwHd"
      },
      "outputs": [],
      "source": [
        "점수 = np.array([            ])"
      ]
    },
    {
      "cell_type": "markdown",
      "metadata": {
        "id": "8Lbj6ABIxwHd"
      },
      "source": [
        "Q. 중간/기말고사 성적의 분산을 출력하라"
      ]
    },
    {
      "cell_type": "code",
      "execution_count": null,
      "metadata": {
        "id": "bbd-3DK8xwHd"
      },
      "outputs": [],
      "source": [
        "점수 = np.array([            ])"
      ]
    },
    {
      "cell_type": "code",
      "execution_count": null,
      "metadata": {
        "id": "JCqg1mrSxwHd"
      },
      "outputs": [],
      "source": [
        ""
      ]
    },
    {
      "cell_type": "markdown",
      "metadata": {
        "id": "uHSWdq70xwHe"
      },
      "source": [
        "### 비교연산\n",
        "넘파이는 크다/작다/같다/다르다 등의 비교 연산을 지원합니다. 연산의 결과는 Boolean형 데이터 타입이며, 사칙연산과 같이 모든 데이터에 비교 연산이 적용됩니다. 연산의 결괏값은 `ndarray` 입니다. "
      ]
    },
    {
      "cell_type": "code",
      "execution_count": 10,
      "metadata": {
        "id": "rK5JGLqbxwHe",
        "outputId": "62d4e76d-f78a-457e-afab-9892fe72424d",
        "colab": {
          "base_uri": "https://localhost:8080/"
        }
      },
      "outputs": [
        {
          "output_type": "stream",
          "name": "stdout",
          "text": [
            "[False False False False  True]\n"
          ]
        }
      ],
      "source": [
        "a = np.arange(5)\n",
        "결과 = a > 3 \n",
        "print(결과)"
      ]
    },
    {
      "cell_type": "markdown",
      "metadata": {
        "id": "OAxY5mGIxwHe"
      },
      "source": [
        "<img src=\"https://i.ibb.co/HTpkqfW/1.png\" width=\"600\" style=\"float:left\" />"
      ]
    },
    {
      "cell_type": "markdown",
      "metadata": {
        "id": "Yor6KZ9rxwHe"
      },
      "source": [
        "불린형 데이터 타입이 저장된 `ndarray`를 사용해서 값을 filtering할 수 있습니다. 조건을 충족하는 4가 출력됩니다. "
      ]
    },
    {
      "cell_type": "code",
      "execution_count": 11,
      "metadata": {
        "id": "C3OwZpluxwHe",
        "outputId": "f58f2f32-cc8a-4594-ba0e-cf0bcea4432a",
        "colab": {
          "base_uri": "https://localhost:8080/"
        }
      },
      "outputs": [
        {
          "output_type": "stream",
          "name": "stdout",
          "text": [
            "[4]\n"
          ]
        }
      ],
      "source": [
        "a = np.arange(5)\n",
        "조건 = a > 3 \n",
        "print(a[조건])"
      ]
    },
    {
      "cell_type": "markdown",
      "metadata": {
        "id": "gUZd2OhmxwHe"
      },
      "source": [
        "위 코드는 간단하기 때문에 조건 비교와 인덱싱을 한 번에 표현할 수 있습니다. "
      ]
    },
    {
      "cell_type": "code",
      "execution_count": 12,
      "metadata": {
        "id": "wzlUzRiaxwHe",
        "outputId": "2019e04a-5273-4c75-f8e9-ad65ee8c63cd",
        "colab": {
          "base_uri": "https://localhost:8080/"
        }
      },
      "outputs": [
        {
          "output_type": "execute_result",
          "data": {
            "text/plain": [
              "array([3, 4])"
            ]
          },
          "metadata": {},
          "execution_count": 12
        }
      ],
      "source": [
        "a[ [False,False,False,True,True] ]"
      ]
    },
    {
      "cell_type": "code",
      "source": [
        "a[ a > 3 ]"
      ],
      "metadata": {
        "id": "_fQy1wXZ27SE",
        "outputId": "ec81b228-c120-44fa-ea6f-5a78f2cdb920",
        "colab": {
          "base_uri": "https://localhost:8080/"
        }
      },
      "execution_count": 14,
      "outputs": [
        {
          "output_type": "execute_result",
          "data": {
            "text/plain": [
              "array([4])"
            ]
          },
          "metadata": {},
          "execution_count": 14
        }
      ]
    },
    {
      "cell_type": "markdown",
      "metadata": {
        "id": "ULwKe3AtxwHe"
      },
      "source": [
        "`np.where` 구문을 사용하면 데이터를 쉽게 변경할 수 있습니다. "
      ]
    },
    {
      "cell_type": "code",
      "execution_count": null,
      "metadata": {
        "id": "W9jARkSOxwHe",
        "outputId": "8ab9d465-444a-4a4d-fa70-f9a9df0f46a7"
      },
      "outputs": [
        {
          "data": {
            "text/plain": [
              "array([ 0,  1, 44,  3, 44])"
            ]
          },
          "execution_count": 36,
          "metadata": {},
          "output_type": "execute_result"
        }
      ],
      "source": [
        ""
      ]
    },
    {
      "cell_type": "markdown",
      "metadata": {
        "id": "-O4_7XRQxwHe"
      },
      "source": [
        "비교할 조건이 다수라면 `&` 기호로 조건을 구분하며, 각각의 조건 역시 괄호 `( )`로 구분해저야 합니다. "
      ]
    },
    {
      "cell_type": "code",
      "execution_count": null,
      "metadata": {
        "id": "e-_5nH3nxwHf"
      },
      "outputs": [],
      "source": [
        ""
      ]
    },
    {
      "cell_type": "markdown",
      "metadata": {
        "id": "Lc-SND6ixwHf"
      },
      "source": [
        "Q. LG전자의 종가 데이터가 ndarray 형태로 저장되어 있다. LG 전자의 주가가 85000원 보다 작을 때의 가격을 출력하라."
      ]
    },
    {
      "cell_type": "code",
      "execution_count": 16,
      "metadata": {
        "id": "Khmo06-yxwHf"
      },
      "outputs": [],
      "source": [
        "lge = np.array([93000, 82400, 99100, 81000, 72300])"
      ]
    },
    {
      "cell_type": "code",
      "execution_count": 17,
      "metadata": {
        "id": "CEVZg0wbxwHf",
        "outputId": "b64daf5c-185b-47b1-ce23-c5bcf56faaac",
        "colab": {
          "base_uri": "https://localhost:8080/"
        }
      },
      "outputs": [
        {
          "output_type": "execute_result",
          "data": {
            "text/plain": [
              "array([82400, 81000, 72300])"
            ]
          },
          "metadata": {},
          "execution_count": 17
        }
      ],
      "source": [
        "lge[ lge<85000]"
      ]
    },
    {
      "cell_type": "markdown",
      "metadata": {
        "id": "_JwUTtOXxwHf"
      },
      "source": [
        "Q. LG 전자의 주가가 85000원 이하로 떨어진 횟수는?"
      ]
    },
    {
      "cell_type": "code",
      "execution_count": 18,
      "metadata": {
        "id": "tnfYxjJYxwHf",
        "outputId": "974480f2-2961-4ade-d785-22222b25d27e",
        "colab": {
          "base_uri": "https://localhost:8080/"
        }
      },
      "outputs": [
        {
          "output_type": "execute_result",
          "data": {
            "text/plain": [
              "3"
            ]
          },
          "metadata": {},
          "execution_count": 18
        }
      ],
      "source": [
        "len(lge[lge<85000])"
      ]
    },
    {
      "cell_type": "markdown",
      "metadata": {
        "id": "vjh7oRINxwHf"
      },
      "source": [
        "Q. 종가가 80000원 이상  90000원 미만인 값을 출력하라"
      ]
    },
    {
      "cell_type": "code",
      "execution_count": 22,
      "metadata": {
        "id": "Ycx3ZnW0xwHf",
        "outputId": "849b6ca8-5d6a-4562-9c46-780b83015c7e",
        "colab": {
          "base_uri": "https://localhost:8080/"
        }
      },
      "outputs": [
        {
          "output_type": "execute_result",
          "data": {
            "text/plain": [
              "array([82400, 81000])"
            ]
          },
          "metadata": {},
          "execution_count": 22
        }
      ],
      "source": [
        "lge[(80000<lge) & (lge<90000)]"
      ]
    }
  ],
  "metadata": {
    "kernelspec": {
      "display_name": "Python 3",
      "language": "python",
      "name": "python3"
    },
    "language_info": {
      "codemirror_mode": {
        "name": "ipython",
        "version": 3
      },
      "file_extension": ".py",
      "mimetype": "text/x-python",
      "name": "python",
      "nbconvert_exporter": "python",
      "pygments_lexer": "ipython3",
      "version": "3.8.8"
    },
    "toc": {
      "base_numbering": 1,
      "nav_menu": {},
      "number_sections": true,
      "sideBar": true,
      "skip_h1_title": false,
      "title_cell": "Table of Contents",
      "title_sidebar": "Contents",
      "toc_cell": false,
      "toc_position": {},
      "toc_section_display": true,
      "toc_window_display": false
    },
    "colab": {
      "name": "2.numpy.ipynb",
      "provenance": []
    }
  },
  "nbformat": 4,
  "nbformat_minor": 0
}