{
  "cells": [
    {
      "cell_type": "markdown",
      "metadata": {
        "id": "view-in-github",
        "colab_type": "text"
      },
      "source": [
        "<a href=\"https://colab.research.google.com/github/y001003/yeardream/blob/main/python_basic/04_%E1%84%87%E1%85%AE%E1%86%AB%E1%84%80%E1%85%B5%E1%84%86%E1%85%AE%E1%86%AB.ipynb\" target=\"_parent\"><img src=\"https://colab.research.google.com/assets/colab-badge.svg\" alt=\"Open In Colab\"/></a>"
      ]
    },
    {
      "cell_type": "markdown",
      "metadata": {
        "id": "63vuHtw2p3Vf"
      },
      "source": [
        "# 분기문 (조건문)"
      ]
    },
    {
      "cell_type": "markdown",
      "metadata": {
        "id": "7bv1oxlJp3Vi"
      },
      "source": [
        "## Boolean 데이터 타입\n",
        "참 (True)과 거짓 (False)을 표현하는 자료형"
      ]
    },
    {
      "cell_type": "code",
      "execution_count": 1,
      "metadata": {
        "id": "HS5rDg-Zp3Vi",
        "colab": {
          "base_uri": "https://localhost:8080/"
        },
        "outputId": "29d6c65e-ebb5-4ffe-9263-198480d276db"
      },
      "outputs": [
        {
          "output_type": "execute_result",
          "data": {
            "text/plain": [
              "True"
            ]
          },
          "metadata": {},
          "execution_count": 1
        }
      ],
      "source": [
        "True"
      ]
    },
    {
      "cell_type": "code",
      "source": [
        "False"
      ],
      "metadata": {
        "colab": {
          "base_uri": "https://localhost:8080/"
        },
        "id": "Dcu8vtZorgkl",
        "outputId": "c634615f-c537-4fdc-e047-c5861dfd6f54"
      },
      "execution_count": 2,
      "outputs": [
        {
          "output_type": "execute_result",
          "data": {
            "text/plain": [
              "False"
            ]
          },
          "metadata": {},
          "execution_count": 2
        }
      ]
    },
    {
      "cell_type": "code",
      "source": [
        "\"a\" in [\"a\",\"b\",\"c\"]"
      ],
      "metadata": {
        "colab": {
          "base_uri": "https://localhost:8080/"
        },
        "id": "OaKp5kn-rk9O",
        "outputId": "5814d659-ff38-4fc7-a064-44bd1243f67d"
      },
      "execution_count": 3,
      "outputs": [
        {
          "output_type": "execute_result",
          "data": {
            "text/plain": [
              "True"
            ]
          },
          "metadata": {},
          "execution_count": 3
        }
      ]
    },
    {
      "cell_type": "markdown",
      "metadata": {
        "id": "INjWQIzap3Vj"
      },
      "source": [
        "Boolean형 데이터 타입은 비교 연산자의 반환 값으로 사용됩니다.  \n",
        "파이썬에서 사용하는 대표적인 비교 연산자는 다음과 같습니다. "
      ]
    },
    {
      "cell_type": "markdown",
      "metadata": {
        "id": "uMq4KPsQp3Vj"
      },
      "source": [
        "<img src=\"https://i.ibb.co/0fgk3Pm/00.png\" style=\"float:left\" />"
      ]
    },
    {
      "cell_type": "code",
      "execution_count": null,
      "metadata": {
        "id": "d1Zpszyzp3Vk",
        "outputId": "aa5744c4-b3d2-4587-c6b4-c8c56fe856b6"
      },
      "outputs": [
        {
          "name": "stdout",
          "output_type": "stream",
          "text": [
            "True\n",
            "False\n",
            "False\n",
            "True\n"
          ]
        }
      ],
      "source": [
        "print( 3 == 3 )\n",
        "print( 3 != 3 )\n",
        "print( 3  < 3 )\n",
        "print( 3 <= 3 )"
      ]
    },
    {
      "cell_type": "code",
      "execution_count": null,
      "metadata": {
        "id": "7u5DQOqKp3Vl",
        "outputId": "050f1c6f-b417-40dc-c3c1-fb1582fd8d59"
      },
      "outputs": [
        {
          "name": "stdout",
          "output_type": "stream",
          "text": [
            "True\n"
          ]
        }
      ],
      "source": [
        "yesterday = 10000\n",
        "cur_price = 13000\n",
        "print(cur_price == yesterday * 1.3)"
      ]
    },
    {
      "cell_type": "markdown",
      "metadata": {
        "id": "8wox4Gt6p3Vl"
      },
      "source": [
        "## 조건문 - 1\n",
        "기본적으로 코드는 위에서 아래로 순차적으로 해석되고 실행됩니다. 하지만 조건문을 만나면 조건에 따라 코드를 선택적으로 수행합니다. 조건문을 사용하는 문법부터 살펴보겠습니다. "
      ]
    },
    {
      "cell_type": "markdown",
      "metadata": {
        "id": "qxv4FRyKp3Vm"
      },
      "source": [
        "<img src=\"https://i.ibb.co/Y3z6WZ4/01.png\" style=\"float:left\" />"
      ]
    },
    {
      "cell_type": "markdown",
      "metadata": {
        "id": "muKbPOYFp3Vm"
      },
      "source": [
        "if 문과 함께 조건을 나열하고, 조건이 참일 경우 실행될 코드를 들여쓰기와 함께 표현합니다. if 문 끝에 콜론 `:`을 잊지마세요. "
      ]
    },
    {
      "cell_type": "markdown",
      "metadata": {
        "id": "b2_vo3ZCp3Vn"
      },
      "source": [
        "<img src=\"https://i.ibb.co/W6t957b/02.png\" style=\"float:left\" />"
      ]
    },
    {
      "cell_type": "markdown",
      "metadata": {
        "id": "fUASLgpkp3Vn"
      },
      "source": [
        "파이썬에서는 들여쓰기가 중요한데, 들여쓰기로 인해 조건에 영향을 받는 코드의 범위를 표현합니다. 코드를 해석하거나 작성할 수 있어야 합니다. "
      ]
    },
    {
      "cell_type": "code",
      "execution_count": 4,
      "metadata": {
        "id": "h4dWvFAZp3Vn",
        "colab": {
          "base_uri": "https://localhost:8080/"
        },
        "outputId": "3a2a2897-4e6e-4738-ce6d-7dd8e78360d2"
      },
      "outputs": [
        {
          "output_type": "stream",
          "name": "stdout",
          "text": [
            "1\n",
            "2\n",
            "3\n",
            "4\n"
          ]
        }
      ],
      "source": [
        "print(1)\n",
        "if True:\n",
        "    print(2)\n",
        "    print(3)\n",
        "print(4)"
      ]
    },
    {
      "cell_type": "code",
      "execution_count": null,
      "metadata": {
        "id": "SoO5RMpup3Vn"
      },
      "outputs": [],
      "source": [
        "print(1)\n",
        "if True:\n",
        "    print(2)\n",
        "    if False:\n",
        "        print(3)\n",
        "        print(4)\n",
        "    print(5)\n",
        "print(6)"
      ]
    },
    {
      "cell_type": "markdown",
      "metadata": {
        "id": "6OHaLN-Jp3Vo"
      },
      "source": [
        "Q. 다음 한국말을 파이썬 코드로 표현하라.  \n",
        "`변수 a가 10보다 크다면 \"크다\" 문자열을 출력하라.`"
      ]
    },
    {
      "cell_type": "code",
      "execution_count": 6,
      "metadata": {
        "id": "4RBPxlVHp3Vo",
        "colab": {
          "base_uri": "https://localhost:8080/"
        },
        "outputId": "09ec0832-7a38-4b8d-fbb1-553ef8182552"
      },
      "outputs": [
        {
          "output_type": "stream",
          "name": "stdout",
          "text": [
            "크지 않다\n"
          ]
        }
      ],
      "source": [
        "a = 10\n",
        "if a >10:\n",
        "    print(\"크다\")\n",
        "else:\n",
        "    print(\"크지 않다\")"
      ]
    },
    {
      "cell_type": "markdown",
      "metadata": {
        "id": "mys1qgL1p3Vo"
      },
      "source": [
        "Q. 다음 한국말을 파이썬 코드로 표현하라. (if문만 사용)  \n",
        "`변수 a가 10보다 작고 5보다 크면 \"정답\" 문자열을 출력하라.`"
      ]
    },
    {
      "cell_type": "code",
      "execution_count": 8,
      "metadata": {
        "id": "kyqeGnS2p3Vo",
        "colab": {
          "base_uri": "https://localhost:8080/"
        },
        "outputId": "3261b33b-ca46-4905-c5de-5a668c583823"
      },
      "outputs": [
        {
          "output_type": "stream",
          "name": "stdout",
          "text": [
            "6\n",
            "정답1\n",
            "정답2\n"
          ]
        }
      ],
      "source": [
        "a = int(input())\n",
        "if 5< a < 10:\n",
        "    print(\"정답1\")\n",
        "\n",
        "if 5 < a :\n",
        "    if a< 10:\n",
        "        print(\"정답2\")"
      ]
    },
    {
      "cell_type": "markdown",
      "metadata": {
        "id": "ID92m8VGp3Vp"
      },
      "source": [
        "## 조건문 - 2\n",
        "두 개의 조건을 비교할 때는 `if - else` 구문을 사용합니다.  \n",
        "조건이 참 일경우 if 문에 영향받는 코드가 실행되며, 그렇지 않을 경우 else 문에 영향을 받는 코드가 실행됩니다. "
      ]
    },
    {
      "cell_type": "code",
      "execution_count": null,
      "metadata": {
        "id": "f-ExONqHp3Vp",
        "outputId": "76c70cd1-3076-441d-9248-42360c221d84"
      },
      "outputs": [
        {
          "name": "stdout",
          "output_type": "stream",
          "text": [
            "참\n"
          ]
        }
      ],
      "source": [
        "조건 = True\n",
        "if 조건 :\n",
        "    print(\"참\")\n",
        "else :\n",
        "    print(\"거짓\")"
      ]
    },
    {
      "cell_type": "markdown",
      "metadata": {
        "id": "wr5yBr8Mp3Vp"
      },
      "source": [
        "복잡한 분기문도 해석할 수 있어야 합니다. `if - else`에서 하나의 조건을 만족하면 해당 범위의 코드를 실행하고 조건 (`if - else`) 비교를 중단합니다. "
      ]
    },
    {
      "cell_type": "code",
      "execution_count": null,
      "metadata": {
        "id": "F1xsIOKEp3Vp"
      },
      "outputs": [],
      "source": [
        "print(1)\n",
        "if False:\n",
        "    print(2)\n",
        "else:\n",
        "    if True:\n",
        "        print(3)\n",
        "    else:\n",
        "        print(4)\n",
        "    print(5)"
      ]
    },
    {
      "cell_type": "markdown",
      "metadata": {
        "id": "lWK3gJa1p3Vp"
      },
      "source": [
        "## 조건문 - 3"
      ]
    },
    {
      "cell_type": "markdown",
      "metadata": {
        "id": "_VDcN_1gp3Vq"
      },
      "source": [
        "조건이 3개 이상이라면 `if - elif - else` 구문을 사용해야 합니다.\n",
        "파이썬 인터프리터는 위에서 아래 방향으로 조건을 차례로 비교합니다.\n",
        "중요한 것은 조건을 충족하는 경우 들여쓰기된 코드를 실행하고 전체 `if - elif - else` 코드의 실행을 종료합니다."
      ]
    },
    {
      "cell_type": "markdown",
      "metadata": {
        "id": "ukQBKTVxp3Vq"
      },
      "source": [
        "```\n",
        "if 조건-1 :   \n",
        "    print(\"state – 1\")  \n",
        "elif 조건-2 :   \n",
        "    print(\"state – 2\")  \n",
        "elif 조건-3 :   \n",
        "    print(\"state – 3\")  \n",
        " . . . . . . .  \n",
        "else :   \n",
        "    print(\"state – N\")  \n",
        "```"
      ]
    },
    {
      "cell_type": "markdown",
      "metadata": {
        "id": "fCbC4x28p3Vq"
      },
      "source": [
        "Q. 성적을 기준으로 학점(A/B/C)을 출력하라.\n",
        "```\n",
        "80점 이상 A\n",
        "60점 이상 B\n",
        "나머지  C\n",
        "```"
      ]
    },
    {
      "cell_type": "code",
      "execution_count": 11,
      "metadata": {
        "id": "xe3eeDwop3Vq",
        "colab": {
          "base_uri": "https://localhost:8080/"
        },
        "outputId": "37ab72f1-cd32-484d-f5e7-1f9ae627c908"
      },
      "outputs": [
        {
          "output_type": "stream",
          "name": "stdout",
          "text": [
            "성적 입력:70\n",
            "B\n"
          ]
        }
      ],
      "source": [
        "성적 = int(input(\"성적 입력:\"))\n",
        "\n",
        "if 성적 >= 80:\n",
        "    print(\"A\")\n",
        "elif 성적 >= 60 :\n",
        "    print(\"B\")\n",
        "else :\n",
        "    print(\"C\")\n",
        "\n"
      ]
    },
    {
      "cell_type": "markdown",
      "metadata": {
        "id": "HY8iSC25p3Vq"
      },
      "source": [
        "### 논리 연산자\n",
        "복잡한 \"조건\"을 비교하기 위해 사용합니다. and/or/not 을 사용해서 여러 조건을 비교합니다."
      ]
    },
    {
      "cell_type": "markdown",
      "metadata": {
        "id": "ssgULkWzp3Vq"
      },
      "source": [
        "<img src=\"https://i.ibb.co/7Jbj7CZ/03.png\" style=\"float:left\" />"
      ]
    },
    {
      "cell_type": "code",
      "execution_count": 12,
      "metadata": {
        "id": "Vcfc2gXop3Vr",
        "colab": {
          "base_uri": "https://localhost:8080/"
        },
        "outputId": "168fd0dc-acb2-4863-eb61-a8b078037994"
      },
      "outputs": [
        {
          "output_type": "stream",
          "name": "stdout",
          "text": [
            "True\n",
            "False\n",
            "True\n",
            "False\n"
          ]
        }
      ],
      "source": [
        "print(True and True)\n",
        "print(True and True and False)\n",
        "print(True or False)\n",
        "print(not True)"
      ]
    },
    {
      "cell_type": "markdown",
      "metadata": {
        "id": "fT95NA5Up3Vr"
      },
      "source": [
        "Q. 다음을 파이썬 코드로 표현하라.  \n",
        "```\n",
        "현재가가 전일 대비 상한가 이고 현재가가 15000원 초과인가?\n",
        "(상한가는 30%이다)\n",
        "```"
      ]
    },
    {
      "cell_type": "code",
      "execution_count": 14,
      "metadata": {
        "id": "EkJqpXL2p3Vr",
        "colab": {
          "base_uri": "https://localhost:8080/"
        },
        "outputId": "1fefa4af-6883-4623-c305-cd17121902b9"
      },
      "outputs": [
        {
          "output_type": "stream",
          "name": "stdout",
          "text": [
            "yes\n"
          ]
        }
      ],
      "source": [
        "cur_price = 13000\n",
        "yesterday = 10000\n",
        "\n",
        "if (yesterday *1.3 == cur_price) and (cur_price > 12000):\n",
        "    print(\"yes\")\n"
      ]
    },
    {
      "cell_type": "markdown",
      "metadata": {
        "id": "mnzTZrHtp3Vr"
      },
      "source": [
        "Q. 다음을 파이썬 코드로 표현하라.  \n",
        "```\n",
        "cur_price가 5,000원 이상 (이고) 10,000원 미만인가?\n",
        "```"
      ]
    },
    {
      "cell_type": "code",
      "execution_count": 16,
      "metadata": {
        "id": "OTHpR_z7p3Vr"
      },
      "outputs": [],
      "source": [
        "if cur_price >= 5000 and cur_price <10000:\n",
        "    print(\"yes\")"
      ]
    },
    {
      "cell_type": "code",
      "source": [
        "result = 10 if a>10 else 5\n",
        "print(result)\n",
        "print(a)"
      ],
      "metadata": {
        "colab": {
          "base_uri": "https://localhost:8080/"
        },
        "id": "1OBC0owk0iRO",
        "outputId": "56b98c5f-8449-4482-c7cc-8485d3551303"
      },
      "execution_count": 19,
      "outputs": [
        {
          "output_type": "stream",
          "name": "stdout",
          "text": [
            "5\n",
            "6\n"
          ]
        }
      ]
    },
    {
      "cell_type": "markdown",
      "metadata": {
        "id": "B3NA2rZtp3Vr"
      },
      "source": [
        "문제 더 풀어보기  \n",
        "https://wikidocs.net/27259  \n",
        "https://wikidocs.net/27627  \n",
        "https://wikidocs.net/27839"
      ]
    }
  ],
  "metadata": {
    "kernelspec": {
      "display_name": "Python 3",
      "language": "python",
      "name": "python3"
    },
    "language_info": {
      "codemirror_mode": {
        "name": "ipython",
        "version": 3
      },
      "file_extension": ".py",
      "mimetype": "text/x-python",
      "name": "python",
      "nbconvert_exporter": "python",
      "pygments_lexer": "ipython3",
      "version": "3.8.8"
    },
    "toc": {
      "base_numbering": 1,
      "nav_menu": {},
      "number_sections": true,
      "sideBar": true,
      "skip_h1_title": false,
      "title_cell": "Table of Contents",
      "title_sidebar": "Contents",
      "toc_cell": false,
      "toc_position": {},
      "toc_section_display": true,
      "toc_window_display": false
    },
    "colab": {
      "name": "04_분기문.ipynb",
      "provenance": [],
      "collapsed_sections": [],
      "include_colab_link": true
    }
  },
  "nbformat": 4,
  "nbformat_minor": 0
}