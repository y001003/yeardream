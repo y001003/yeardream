{
  "cells": [
    {
      "cell_type": "markdown",
      "metadata": {
        "id": "view-in-github",
        "colab_type": "text"
      },
      "source": [
        "<a href=\"https://colab.research.google.com/github/y001003/yeardream/blob/main/python_basic/Series2.ipynb\" target=\"_parent\"><img src=\"https://colab.research.google.com/assets/colab-badge.svg\" alt=\"Open In Colab\"/></a>"
      ]
    },
    {
      "cell_type": "code",
      "source": [
        "!pip install pybithumb"
      ],
      "metadata": {
        "colab": {
          "base_uri": "https://localhost:8080/"
        },
        "id": "6ExS1m3EJDho",
        "outputId": "60065028-d339-45d5-aa4b-6a33c88c722b"
      },
      "execution_count": null,
      "outputs": [
        {
          "output_type": "stream",
          "name": "stdout",
          "text": [
            "Collecting pybithumb\n",
            "  Downloading pybithumb-1.0.21-py3-none-any.whl (9.9 kB)\n",
            "Collecting datetime\n",
            "  Downloading DateTime-4.4-py2.py3-none-any.whl (51 kB)\n",
            "\u001b[K     |████████████████████████████████| 51 kB 284 kB/s \n",
            "\u001b[?25hRequirement already satisfied: bs4 in /usr/local/lib/python3.7/dist-packages (from pybithumb) (0.0.1)\n",
            "Requirement already satisfied: pandas in /usr/local/lib/python3.7/dist-packages (from pybithumb) (1.3.5)\n",
            "Requirement already satisfied: requests in /usr/local/lib/python3.7/dist-packages (from pybithumb) (2.23.0)\n",
            "Requirement already satisfied: html5lib in /usr/local/lib/python3.7/dist-packages (from pybithumb) (1.0.1)\n",
            "Collecting websockets\n",
            "  Downloading websockets-10.3-cp37-cp37m-manylinux_2_5_x86_64.manylinux1_x86_64.manylinux_2_12_x86_64.manylinux2010_x86_64.whl (112 kB)\n",
            "\u001b[K     |████████████████████████████████| 112 kB 10.4 MB/s \n",
            "\u001b[?25hRequirement already satisfied: beautifulsoup4 in /usr/local/lib/python3.7/dist-packages (from bs4->pybithumb) (4.6.3)\n",
            "Requirement already satisfied: pytz in /usr/local/lib/python3.7/dist-packages (from datetime->pybithumb) (2018.9)\n",
            "Collecting zope.interface\n",
            "  Downloading zope.interface-5.4.0-cp37-cp37m-manylinux2010_x86_64.whl (251 kB)\n",
            "\u001b[K     |████████████████████████████████| 251 kB 47.9 MB/s \n",
            "\u001b[?25hRequirement already satisfied: webencodings in /usr/local/lib/python3.7/dist-packages (from html5lib->pybithumb) (0.5.1)\n",
            "Requirement already satisfied: six>=1.9 in /usr/local/lib/python3.7/dist-packages (from html5lib->pybithumb) (1.15.0)\n",
            "Requirement already satisfied: python-dateutil>=2.7.3 in /usr/local/lib/python3.7/dist-packages (from pandas->pybithumb) (2.8.2)\n",
            "Requirement already satisfied: numpy>=1.17.3 in /usr/local/lib/python3.7/dist-packages (from pandas->pybithumb) (1.21.5)\n",
            "Requirement already satisfied: chardet<4,>=3.0.2 in /usr/local/lib/python3.7/dist-packages (from requests->pybithumb) (3.0.4)\n",
            "Requirement already satisfied: urllib3!=1.25.0,!=1.25.1,<1.26,>=1.21.1 in /usr/local/lib/python3.7/dist-packages (from requests->pybithumb) (1.24.3)\n",
            "Requirement already satisfied: certifi>=2017.4.17 in /usr/local/lib/python3.7/dist-packages (from requests->pybithumb) (2021.10.8)\n",
            "Requirement already satisfied: idna<3,>=2.5 in /usr/local/lib/python3.7/dist-packages (from requests->pybithumb) (2.10)\n",
            "Requirement already satisfied: setuptools in /usr/local/lib/python3.7/dist-packages (from zope.interface->datetime->pybithumb) (57.4.0)\n",
            "Installing collected packages: zope.interface, websockets, datetime, pybithumb\n",
            "Successfully installed datetime-4.4 pybithumb-1.0.21 websockets-10.3 zope.interface-5.4.0\n"
          ]
        }
      ]
    },
    {
      "cell_type": "code",
      "source": [
        "import pybithumb\n",
        "btc = pybithumb.get_candlestick(\"BTC\")\n",
        "xrp = pybithumb.get_candlestick(\"XRP\")"
      ],
      "metadata": {
        "id": "DkYUYG9lJPdm"
      },
      "execution_count": null,
      "outputs": []
    },
    {
      "cell_type": "code",
      "source": [
        "btc['close'].values"
      ],
      "metadata": {
        "colab": {
          "base_uri": "https://localhost:8080/"
        },
        "id": "K3F-VShTJ4on",
        "outputId": "783efc4a-fe50-4ea2-d854-6f37f1f58aa0"
      },
      "execution_count": null,
      "outputs": [
        {
          "output_type": "execute_result",
          "data": {
            "text/plain": [
              "array([  755000.,   750000.,   739000., ..., 50321000., 49418000.,\n",
              "       50869000.])"
            ]
          },
          "metadata": {},
          "execution_count": 6
        }
      ]
    },
    {
      "cell_type": "code",
      "source": [
        "import matplotlib.pyplot as plt\n",
        "import numpy as np\n",
        "\n",
        "plt.plot(np.arange(len(btc['close'].values)), btc['close'].values)"
      ],
      "metadata": {
        "colab": {
          "base_uri": "https://localhost:8080/",
          "height": 294
        },
        "id": "XJCb2eOSKG7V",
        "outputId": "9b88f80c-aed8-4ae3-e2b3-d75b3f33807c"
      },
      "execution_count": null,
      "outputs": [
        {
          "output_type": "execute_result",
          "data": {
            "text/plain": [
              "[<matplotlib.lines.Line2D at 0x7f2abce6a450>]"
            ]
          },
          "metadata": {},
          "execution_count": 10
        },
        {
          "output_type": "display_data",
          "data": {
            "text/plain": [
              "<Figure size 432x288 with 1 Axes>"
            ],
            "image/png": "[encoded data removed]"
          },
          "metadata": {
            "needs_background": "light"
          }
        }
      ]
    },
    {
      "cell_type": "code",
      "source": [
        "len(btc['close'][-1000:]), len(xrp['close'][-1000:])"
      ],
      "metadata": {
        "colab": {
          "base_uri": "https://localhost:8080/"
        },
        "id": "27X_invWLEkV",
        "outputId": "082167a0-3e32-4bec-c04f-bd2d09c9445d"
      },
      "execution_count": null,
      "outputs": [
        {
          "output_type": "execute_result",
          "data": {
            "text/plain": [
              "(1000, 1000)"
            ]
          },
          "metadata": {},
          "execution_count": 14
        }
      ]
    },
    {
      "cell_type": "code",
      "source": [
        "plt.scatter(btc['close'][-1000:], xrp['close'][-1000:])"
      ],
      "metadata": {
        "colab": {
          "base_uri": "https://localhost:8080/",
          "height": 296
        },
        "id": "ytRaiOqqKv7x",
        "outputId": "9efe4c41-ce20-48ac-bf15-0e6cd154fd3c"
      },
      "execution_count": null,
      "outputs": [
        {
          "output_type": "execute_result",
          "data": {
            "text/plain": [
              "<matplotlib.collections.PathCollection at 0x7f2abc43d790>"
            ]
          },
          "metadata": {},
          "execution_count": 16
        },
        {
          "output_type": "display_data",
          "data": {
            "text/plain": [
              "<Figure size 432x288 with 1 Axes>"
            ],
            "image/png": "[encoded data removed]"
          },
          "metadata": {
            "needs_background": "light"
          }
        }
      ]
    },
    {
      "cell_type": "code",
      "source": [
        "'''\n",
        "행렬 식 모양을 만들기 위해서 ax + b = y 형태를 만든다.\n",
        "\n",
        "(btc(x) , 1) * (a)  = xrp(y) \n",
        "               (b)\n",
        "\n",
        "'''"
      ],
      "metadata": {
        "id": "XIdW_0abZINI"
      },
      "execution_count": null,
      "outputs": []
    },
    {
      "cell_type": "code",
      "source": [
        "b0 = btc['close'].values[-1000:].reshape(-1 ,1)\n",
        "b0"
      ],
      "metadata": {
        "id": "1qIW7OVLNBQp"
      },
      "execution_count": null,
      "outputs": []
    },
    {
      "cell_type": "code",
      "source": [
        "o = np.ones( (1000, 1), dtype=np.uint32)\n",
        "o.shape"
      ],
      "metadata": {
        "colab": {
          "base_uri": "https://localhost:8080/"
        },
        "id": "xVEPk_EkNWfN",
        "outputId": "eeb9f8b4-ddc7-4d0a-908e-2749e49e31f4"
      },
      "execution_count": null,
      "outputs": [
        {
          "output_type": "execute_result",
          "data": {
            "text/plain": [
              "(1000, 1)"
            ]
          },
          "metadata": {},
          "execution_count": 37
        }
      ]
    },
    {
      "cell_type": "code",
      "source": [
        "a = np.hstack( (b0,o))\n",
        "a"
      ],
      "metadata": {
        "colab": {
          "base_uri": "https://localhost:8080/"
        },
        "id": "c3Bl0kZ8NoLy",
        "outputId": "8677e65e-fef0-4213-b4aa-6c5d763160c6"
      },
      "execution_count": null,
      "outputs": [
        {
          "output_type": "execute_result",
          "data": {
            "text/plain": [
              "array([[1.1582e+07, 1.0000e+00],\n",
              "       [1.1252e+07, 1.0000e+00],\n",
              "       [1.1328e+07, 1.0000e+00],\n",
              "       ...,\n",
              "       [5.0321e+07, 1.0000e+00],\n",
              "       [4.9418e+07, 1.0000e+00],\n",
              "       [5.1017e+07, 1.0000e+00]])"
            ]
          },
          "metadata": {},
          "execution_count": 39
        }
      ]
    },
    {
      "cell_type": "code",
      "source": [
        "x =xrp['close'].values[-1000:].reshape(-1,1)\n",
        "x.shape"
      ],
      "metadata": {
        "colab": {
          "base_uri": "https://localhost:8080/"
        },
        "id": "M32ubkP3Ntrv",
        "outputId": "621d46f5-8bb3-456c-e85a-09b314d8c6a0"
      },
      "execution_count": null,
      "outputs": [
        {
          "output_type": "execute_result",
          "data": {
            "text/plain": [
              "(1000, 1)"
            ]
          },
          "metadata": {},
          "execution_count": 47
        }
      ]
    },
    {
      "cell_type": "code",
      "source": [
        ""
      ],
      "metadata": {
        "id": "eP6kjySZXuYI"
      },
      "execution_count": null,
      "outputs": []
    },
    {
      "cell_type": "code",
      "source": [
        "# v : 해의 값(x,y) np.linalg.pinv : 역행렬\n",
        "v = np.linalg.pinv( a) @ x #  #위의 식 역행렬을 각 각 더해줘서 v(a b) 값을 구한다.\n",
        "a = v[0,0]\n",
        "b = v[1,0]\n",
        "v"
      ],
      "metadata": {
        "colab": {
          "base_uri": "https://localhost:8080/"
        },
        "id": "GSi-qbrNN4k1",
        "outputId": "70302866-c803-4496-ee59-b39e1d7d45a0"
      },
      "execution_count": null,
      "outputs": [
        {
          "output_type": "execute_result",
          "data": {
            "text/plain": [
              "array([[1.69858885e-05],\n",
              "       [8.54179808e+01]])"
            ]
          },
          "metadata": {},
          "execution_count": 41
        }
      ]
    },
    {
      "cell_type": "code",
      "source": [
        "plt.scatter(btc['close'].values[-1000:], xrp['close'].values[-1000:])\n",
        "x = btc['close'].values[-1000:]\n",
        "y = a*x +b\n",
        "plt.plot(x,y,color='r')"
      ],
      "metadata": {
        "colab": {
          "base_uri": "https://localhost:8080/",
          "height": 296
        },
        "id": "mJMUlKbEOhkk",
        "outputId": "76b06dc6-b60f-4eb0-a350-e051f270305e"
      },
      "execution_count": null,
      "outputs": [
        {
          "output_type": "execute_result",
          "data": {
            "text/plain": [
              "[<matplotlib.lines.Line2D at 0x7f2abc2bc910>]"
            ]
          },
          "metadata": {},
          "execution_count": 32
        },
        {
          "output_type": "display_data",
          "data": {
            "text/plain": [
              "<Figure size 432x288 with 1 Axes>"
            ],
            "image/png": "[encoded data removed]"
          },
          "metadata": {
            "needs_background": "light"
          }
        }
      ]
    },
    {
      "cell_type": "markdown",
      "metadata": {
        "id": "PDWZ3aXTIfyW"
      },
      "source": [
        "## 판다스 (Pandas) 라이브러리"
      ]
    },
    {
      "cell_type": "markdown",
      "metadata": {
        "id": "9qb-vzlrIfyZ"
      },
      "source": [
        "### 데이터 타입 변환"
      ]
    },
    {
      "cell_type": "markdown",
      "metadata": {
        "id": "DXuL2b0aIfyZ"
      },
      "source": [
        "시리즈에 저장된 데이터가 문자열 타입으로 저장돼 있다고 가정해봅시다. 이러한 경우 덧셈 및 뺄셈 등의 연산을 적용할 수 없기 때문에 데이터 타입을 변경할 수 있어야 합니다. "
      ]
    },
    {
      "cell_type": "code",
      "execution_count": null,
      "metadata": {
        "id": "4RhOzTeAIfya",
        "outputId": "d9cd1075-22d3-45d6-dbb1-ef7b44d18a71"
      },
      "outputs": [
        {
          "name": "stdout",
          "output_type": "stream",
          "text": [
            "object\n"
          ]
        }
      ],
      "source": [
        "s = Series([\"100\", \"200\", \"300\"])\n",
        "print(s.dtype)"
      ]
    },
    {
      "cell_type": "markdown",
      "metadata": {
        "id": "QUN1QRAvIfyc"
      },
      "source": [
        "`astype` 메서드는 데이터의 타입을 변경합니다. "
      ]
    },
    {
      "cell_type": "code",
      "execution_count": null,
      "metadata": {
        "id": "4W41AJ0RIfyc",
        "outputId": "126f7715-6d44-4692-d5fc-24d00675efcf"
      },
      "outputs": [
        {
          "name": "stdout",
          "output_type": "stream",
          "text": [
            "object\n"
          ]
        }
      ],
      "source": [
        "\n",
        "print(s.dtype)"
      ]
    },
    {
      "cell_type": "markdown",
      "metadata": {
        "id": "Mn5QVY6-Ifyc"
      },
      "source": [
        "만약 문자열 데이터에 콤마(`,`)가 파함돼 있다면 `astype` 메서드는 변환에 실패하고 에러 메시지를 출력합니다.   "
      ]
    },
    {
      "cell_type": "code",
      "execution_count": null,
      "metadata": {
        "id": "y7kwmsUeIfyd"
      },
      "outputs": [],
      "source": [
        "s = Series([\"1,000\", \"2,000\", \"3,000\"])\n",
        "\n"
      ]
    },
    {
      "cell_type": "markdown",
      "metadata": {
        "id": "Zp-vaACrIfye"
      },
      "source": [
        "`ValueError: invalid literal for int() with base 10: '1,000'`"
      ]
    },
    {
      "cell_type": "markdown",
      "metadata": {
        "id": "wgVyEkwLIfye"
      },
      "source": [
        "시리즈의 `replace` 메서드를 사용하면 데이터를 한 번에 치환할 수 있습니다. "
      ]
    },
    {
      "cell_type": "code",
      "execution_count": null,
      "metadata": {
        "id": "E3SLknkqIfyf",
        "outputId": "397ebec4-f62f-4ac6-c75d-d18472428d58"
      },
      "outputs": [
        {
          "data": {
            "text/plain": [
              "0    1,000\n",
              "1    2,000\n",
              "2    3,000\n",
              "dtype: object"
            ]
          },
          "execution_count": 9,
          "metadata": {},
          "output_type": "execute_result"
        }
      ],
      "source": [
        "s = Series([\"1,000\", \"2,000\", \"3,000\"])\n",
        "s.replace(\"\", \"\")\n"
      ]
    },
    {
      "cell_type": "code",
      "execution_count": null,
      "metadata": {
        "id": "NcNSR9VBIfyf"
      },
      "outputs": [],
      "source": [
        ""
      ]
    },
    {
      "cell_type": "markdown",
      "metadata": {
        "id": "sFs4jHBgIfyg"
      },
      "source": [
        "`regex` 옵션을 추가하면 패턴을 검색한 후 치환을 시도합니다. (문자열의 replace와 이름은 동일하고 동작은 유사하지만 다른 클래스의 메서드입니다.)"
      ]
    },
    {
      "cell_type": "code",
      "execution_count": null,
      "metadata": {
        "id": "gRlcqGrXIfyg"
      },
      "outputs": [],
      "source": [
        ""
      ]
    },
    {
      "cell_type": "markdown",
      "metadata": {
        "id": "17zGZPTUIfyg"
      },
      "source": [
        "불필요한 데이터를 치환한 다음 타입을 변경합니다. "
      ]
    },
    {
      "cell_type": "code",
      "execution_count": null,
      "metadata": {
        "id": "kCome9BDIfyg"
      },
      "outputs": [],
      "source": [
        ""
      ]
    },
    {
      "cell_type": "markdown",
      "metadata": {
        "id": "DhXzPSjgIfyg"
      },
      "source": [
        "Q. Series에 저장된 값을 다음과 같이 변경하라. \n",
        "\n",
        "| index | values | \n",
        "| ---- | ---- |\n",
        "| 0 | 38000 | \n",
        "| 1 | 28000 | "
      ]
    },
    {
      "cell_type": "code",
      "execution_count": null,
      "metadata": {
        "id": "iG0sFnGLIfyh"
      },
      "outputs": [],
      "source": [
        "s = Series([\"3만 8천\", \" 2만 8천\"])\n",
        "\n"
      ]
    },
    {
      "cell_type": "markdown",
      "metadata": {
        "id": "t-bZww-FIfyh"
      },
      "source": [
        "### 시리즈와 Map\n",
        "시리즈를 사용하다 보면 시리즈가 지원하는 기본 연산 (덧셈, 뺄셈, 곱셈, 나눗셈) 이외에도 복잡한 형태의 사용자 정의 코드를 적용하고 싶은 경우가 있습니다. 예를 들어 시리즈에 저장된 성적을 학점으로 변경하기 위한 파이썬의 기본 함수는 없습니다. 사용자가 작성한 함수를 전체 시리즈에 적용하는 방법이 필요한데, 이를 `map` 함수로 해결합니다. "
      ]
    },
    {
      "cell_type": "code",
      "execution_count": null,
      "metadata": {
        "id": "7FTyfa9cIfyh",
        "outputId": "88166305-c44c-4afb-ba2c-2e016b9f6c47"
      },
      "outputs": [
        {
          "name": "stdout",
          "output_type": "stream",
          "text": [
            "0     3\n",
            "1    13\n",
            "2    23\n",
            "dtype: int64\n"
          ]
        }
      ],
      "source": [
        "s = Series([3, 13, 23])\n",
        "print(s)"
      ]
    },
    {
      "cell_type": "markdown",
      "metadata": {
        "id": "qOV9Uu9CIfyh"
      },
      "source": [
        "시리즈의 점수를 다음 조건의 학점으로 변경해 봅시다. \n",
        "\n",
        "| 점수구간 | 학점 |\n",
        "| ---- | ---- |\n",
        "| 20 - 29 | A |\n",
        "| 10 - 19 | B |\n",
        "| 0 - 9 | C |"
      ]
    },
    {
      "cell_type": "code",
      "execution_count": null,
      "metadata": {
        "id": "F3N7aC0xIfyh"
      },
      "outputs": [],
      "source": [
        ""
      ]
    },
    {
      "cell_type": "markdown",
      "metadata": {
        "id": "9KhFfV8dIfyi"
      },
      "source": [
        "`cut` 함수를 사용하면 더욱 쉽게 수치형 데이터를 범주형 데이터로 변환할 수 있습니다.   \n",
        "- `bins`와 `labels` 옵션을 사용합니다. "
      ]
    },
    {
      "cell_type": "code",
      "execution_count": null,
      "metadata": {
        "id": "EeItQvFyIfyi"
      },
      "outputs": [],
      "source": [
        ""
      ]
    },
    {
      "cell_type": "markdown",
      "metadata": {
        "id": "GeZS-KUtIfyi"
      },
      "source": [
        "Q. `map` 연산을 사용해서 시리즈에 저장된 값으로 학점을 판별하라.\n",
        "- 90점 이상이면 A\n",
        "- 70점 이상이면 B\n",
        "- 나머지 F\n",
        "\n",
        "연산 적용 결과\n",
        "```\n",
        "영수    A\n",
        "철수    B\n",
        "영희    F\n",
        "```"
      ]
    },
    {
      "cell_type": "code",
      "execution_count": null,
      "metadata": {
        "id": "7INRVFftIfyi"
      },
      "outputs": [],
      "source": [
        "s = Series([94, 74, 30], index=['영수', '철수', '영희'])\n"
      ]
    },
    {
      "cell_type": "markdown",
      "metadata": {
        "id": "TI2Fz6wuIfyi"
      },
      "source": [
        "Q. `map` 연산을 사용해서 시리즈에 저장된 값에 다음 연산을 적용하라. \n",
        "- 0 이상 이면 값을 2배 키우고,\n",
        "- 0 보다 작으면 값을 10 뺀다\n",
        "\n",
        "연산 적용 결과\n",
        "```\n",
        "0    20\n",
        "1     6\n",
        "2   -13\n",
        "dtype: int64\n",
        "```"
      ]
    },
    {
      "cell_type": "code",
      "execution_count": null,
      "metadata": {
        "id": "CL8aorJZIfyi"
      },
      "outputs": [],
      "source": [
        "s = Series([10, 3, -3])"
      ]
    },
    {
      "cell_type": "markdown",
      "metadata": {
        "id": "R4nERhUZIfyj"
      },
      "source": [
        "### 시리즈 정렬\n",
        "`sort_values` 메서드를 사용하면 쉽게 데이터를 정렬할 수 있습니다.  \n",
        "- `ascending` 값에 따라 오름차순 혹은 내림차순으로 정렬됩니다. "
      ]
    },
    {
      "cell_type": "code",
      "execution_count": null,
      "metadata": {
        "id": "7U0SZdsNIfyj"
      },
      "outputs": [],
      "source": [
        "from pandas import Series\n",
        "\n",
        "data = [3.1, 2.0, 10.1, 5.1]\n",
        "index = [\"000010\", \"000020\", \"000030\", \"000040\"]\n",
        "s = Series(data=data, index=index)\n",
        "\n"
      ]
    },
    {
      "cell_type": "markdown",
      "metadata": {
        "id": "feQ7I1sAIfyj"
      },
      "source": [
        "`sort_index` 메서드는 인덱스를 기준으로 정렬합니다."
      ]
    },
    {
      "cell_type": "code",
      "execution_count": null,
      "metadata": {
        "id": "nBzIZ2XeIfyj"
      },
      "outputs": [],
      "source": [
        ""
      ]
    },
    {
      "cell_type": "markdown",
      "metadata": {
        "id": "nbqeKyU5Ifyj"
      },
      "source": [
        "### 데이터 순위\n",
        "`rank` 메서드는 순위를 측정합니다."
      ]
    },
    {
      "cell_type": "code",
      "execution_count": null,
      "metadata": {
        "id": "BLuQaNoQIfyj"
      },
      "outputs": [],
      "source": [
        ""
      ]
    },
    {
      "cell_type": "markdown",
      "metadata": {
        "id": "c8VntlQWIfyj"
      },
      "source": [
        "### 데이터 갯수 세기"
      ]
    },
    {
      "cell_type": "markdown",
      "metadata": {
        "id": "KZH4cUmrIfyj"
      },
      "source": [
        "시리즈에 저장된 데이터들의 출현 빈도를 세는 함수 `value_counts`"
      ]
    },
    {
      "cell_type": "code",
      "execution_count": null,
      "metadata": {
        "id": "3AaB95H3Ifyj"
      },
      "outputs": [],
      "source": [
        "import numpy as np\n",
        "\n",
        "s = Series(np.random.randint(10, size=100))\n"
      ]
    }
  ],
  "metadata": {
    "kernelspec": {
      "display_name": "Python 3",
      "language": "python",
      "name": "python3"
    },
    "language_info": {
      "codemirror_mode": {
        "name": "ipython",
        "version": 3
      },
      "file_extension": ".py",
      "mimetype": "text/x-python",
      "name": "python",
      "nbconvert_exporter": "python",
      "pygments_lexer": "ipython3",
      "version": "3.8.8"
    },
    "toc": {
      "base_numbering": 1,
      "nav_menu": {},
      "number_sections": true,
      "sideBar": true,
      "skip_h1_title": false,
      "title_cell": "Table of Contents",
      "title_sidebar": "Contents",
      "toc_cell": false,
      "toc_position": {},
      "toc_section_display": true,
      "toc_window_display": true
    },
    "colab": {
      "name": "Series2.ipynb",
      "provenance": [],
      "include_colab_link": true
    }
  },
  "nbformat": 4,
  "nbformat_minor": 0
}