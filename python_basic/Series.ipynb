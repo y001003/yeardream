{
  "cells": [
    {
      "cell_type": "markdown",
      "metadata": {
        "id": "SIdkpoIIRHBC"
      },
      "source": [
        "## 판다스 (Pandas) 라이브러리"
      ]
    },
    {
      "cell_type": "markdown",
      "metadata": {
        "id": "3UyDUJsxRHBE"
      },
      "source": [
        "Pandas는 데이터 분석을 위한 고수준의 자료구조와 데이터 분석 도구를 제공합니다.  \n",
        "- 여기서 고수준이란 사용자가 쉽게 데이터를 제어하고 시각화 할 수 있는 메서드를 의미합니다.\n",
        "\n",
        "판다스는 데이터 분석분야 에서 필수적으로 사용되는 중요한 모듈입니다. "
      ]
    },
    {
      "cell_type": "markdown",
      "metadata": {
        "id": "i7yqeLnzRHBE"
      },
      "source": [
        "<img src=\"https://i.ibb.co/Hh85f7j/series-0.png\" width=\"600\" height=\"400\" style=\"float:left\" />"
      ]
    },
    {
      "cell_type": "markdown",
      "metadata": {
        "id": "scOou_xoRHBF"
      },
      "source": [
        "그림출처  \n",
        "https://plot.ly/pandas/2D-Histogram/  \n",
        "https://plot.ly/pandas/histograms/"
      ]
    },
    {
      "cell_type": "markdown",
      "metadata": {
        "id": "tZ9LoNIwRHBF"
      },
      "source": [
        "판다스에는 <b>시리즈(Series)</b>와 <b>데이터 프레임 (DataFrame)</b> 두 개의 자료구조를 사용합니다. \n",
        "- 1차원 데이터를 관리하는 `Series`\n",
        "- 2차원 데이터를 관리하는 `DataFrame`"
      ]
    },
    {
      "cell_type": "markdown",
      "metadata": {
        "id": "1_IHHVQxRHBF"
      },
      "source": [
        "파이썬의 기본자료구조(리스트, 튜플, 딕셔너리)의 부족한 부분을 보완해 보다 고수준으로 만든 자료구조로 numpy의 `ndarray`가 있었습니다.  \n",
        "ndarray는 수치 연산에 특화돼 있으며, 브로드캐스팅 기능으로 반복문을 사용하지 않고 `ndarray`의 모든 데이터에 연산 적용이 가능했었습니다.  판다스의 자료구조는 `ndarray`를 기반으로 행과 열에 이름을 붙여 가독성을 높이고 보다 범용적인 목적의 데이터를 관리해줍니다."
      ]
    },
    {
      "cell_type": "markdown",
      "metadata": {
        "id": "PwYAiGdYRHBF"
      },
      "source": [
        "다양한 방식으로 import 할 수 있는데, 다음 세 가지 형태를 빈번하게 사용합니다. "
      ]
    },
    {
      "cell_type": "code",
      "execution_count": 1,
      "metadata": {
        "id": "glozWsJyRHBG"
      },
      "outputs": [],
      "source": [
        "import pandas as pd\n",
        "from pandas import Series\n",
        "from pandas import DataFrame"
      ]
    },
    {
      "cell_type": "markdown",
      "metadata": {
        "id": "EQpY4NMjRHBH"
      },
      "source": [
        "### 시리즈 객체"
      ]
    },
    {
      "cell_type": "markdown",
      "metadata": {
        "id": "Vz3o6BUdRHBH"
      },
      "source": [
        "리스트를 사용해서 시리즈 객체로 업그레이드 할 수 있습니다.  \n",
        "정확히 이야기하면 시리즈 클래스는 생성자로 하나의 리스트를 입력받는 겁니다.  "
      ]
    },
    {
      "cell_type": "code",
      "execution_count": 2,
      "metadata": {
        "id": "cviyFg0IRHBH",
        "outputId": "d4634dff-8cbf-469e-8afe-217fae9f5ed1",
        "colab": {
          "base_uri": "https://localhost:8080/"
        }
      },
      "outputs": [
        {
          "output_type": "stream",
          "name": "stdout",
          "text": [
            "0    가\n",
            "1    나\n",
            "2    다\n",
            "dtype: object\n"
          ]
        }
      ],
      "source": [
        "from pandas import Series\n",
        "\n",
        "data = [\"가\", \"나\", \"다\"]\n",
        "s = Series(data)\n",
        "print(s)"
      ]
    },
    {
      "cell_type": "markdown",
      "metadata": {
        "id": "DLhoJ_P2RHBI"
      },
      "source": [
        "시리즈 객체는 자동으로 0 부터 시작하는  인덱스가 부여되며, 시리즈 객체를 출력해 보면 인덱스와 맵핑된 값이 한 로우에 표시됩니다. 또한 내부적으로 0부터 시작하는 행번호를 아래 그림과 같이 부여합니다. (행 번호의 쓰임새는 뒤에서 설명하겠습니다.) 즉, 시리즈는 입력된 데이터에 대해 행번호와 인덱스를 부여하고 출력하면 인덱스와 데이터만 표시되는 겁니다. "
      ]
    },
    {
      "cell_type": "markdown",
      "metadata": {
        "id": "ojE9vKtcRHBI"
      },
      "source": [
        "<img src=\"https://i.ibb.co/Xy8Ph47/series-1.png\" width=\"500\" style=\"float:left\" />"
      ]
    },
    {
      "cell_type": "markdown",
      "metadata": {
        "id": "IlruYRbJRHBI"
      },
      "source": [
        "시리즈 객체를 생성할 때 인덱스 값을 추가할 수 있습니다.  \n",
        "- index 파라미터에 리스트 형태로 각 값에 대응되는 인덱스를 입력합니다.   \n",
        "- 반드시 입력된 데이터의 개수와 인덱스의 개수가 동일해야 합니다. \n"
      ]
    },
    {
      "cell_type": "code",
      "execution_count": 3,
      "metadata": {
        "id": "ZwaAj6PkRHBI",
        "outputId": "7c7d11d9-7966-471b-e2cd-637423aa6326",
        "colab": {
          "base_uri": "https://localhost:8080/"
        }
      },
      "outputs": [
        {
          "output_type": "stream",
          "name": "stdout",
          "text": [
            "메로나     1000\n",
            "구구콘     2000\n",
            "하겐다즈    3000\n",
            "dtype: int64\n"
          ]
        }
      ],
      "source": [
        "data = [1000, 2000, 3000]\n",
        "index = ['메로나', '구구콘', '하겐다즈']\n",
        "s = Series(data=data, index=index)\n",
        "print(s)"
      ]
    },
    {
      "cell_type": "markdown",
      "metadata": {
        "id": "MgQw7RMGRHBI"
      },
      "source": [
        "시리즈는 0부터 시작하는 행 번호를 부여하고, 인덱스는 사용자가 입력한 문자열을 사용합니다. "
      ]
    },
    {
      "cell_type": "markdown",
      "metadata": {
        "id": "oA8SXDa8RHBJ"
      },
      "source": [
        "<img src=\"https://i.ibb.co/FHfknW8/series-2.png\" width=\"500\" style=\"float:left\" />"
      ]
    },
    {
      "cell_type": "markdown",
      "metadata": {
        "id": "wVD84qHZRHBJ"
      },
      "source": [
        "시리즈 객체에는 다양한 속성 (인스턴스 변수)가 있습니다. "
      ]
    },
    {
      "cell_type": "code",
      "execution_count": 4,
      "metadata": {
        "id": "qqyFSh7jRHBJ",
        "outputId": "fef41132-99b6-4348-f3b1-43d633d2957e",
        "colab": {
          "base_uri": "https://localhost:8080/"
        }
      },
      "outputs": [
        {
          "output_type": "stream",
          "name": "stdout",
          "text": [
            "Index(['메로나', '구구콘', '하겐다즈'], dtype='object')\n",
            "[1000 2000 3000]\n",
            "int64\n"
          ]
        }
      ],
      "source": [
        "print(s.index)\n",
        "print(s.values)\n",
        "print(s.dtype)"
      ]
    },
    {
      "cell_type": "markdown",
      "metadata": {
        "id": "Y7Ygg3hORHBJ"
      },
      "source": [
        "`values`에는 시리즈의 데이터가 `ndarray`로 저장돼 있습니다. "
      ]
    },
    {
      "cell_type": "code",
      "execution_count": null,
      "metadata": {
        "id": "GGl_AUTERHBJ"
      },
      "outputs": [],
      "source": [
        ""
      ]
    },
    {
      "cell_type": "markdown",
      "metadata": {
        "id": "l-77tpP0RHBJ"
      },
      "source": [
        "Q. 시가와 고가를 시리즈로 구성하라. "
      ]
    },
    {
      "cell_type": "markdown",
      "metadata": {
        "id": "MNzHMwwPRHBJ"
      },
      "source": [
        "<img src=\"https://i.ibb.co/DQzv2sc/series-4.png\" width=\"800\" style=\"float:left\" />"
      ]
    },
    {
      "cell_type": "code",
      "execution_count": null,
      "metadata": {
        "id": "ysug09S3RHBJ"
      },
      "outputs": [],
      "source": [
        "시가 = Series(data=[100,200], index=[\"2019.01\",\"2019.2\"])\n"
      ]
    },
    {
      "cell_type": "markdown",
      "metadata": {
        "id": "G7QqfX5LRHBJ"
      },
      "source": [
        "### 시리즈의 인덱싱과 슬라이싱\n",
        "시리즈의 인덱싱 방법은 세 가지 방법을 사용할 수 있습니다. \n",
        "- `iloc`\n",
        "- `loc`\n",
        "- `[ ]`"
      ]
    },
    {
      "cell_type": "markdown",
      "metadata": {
        "id": "VvaCJz4SRHBK"
      },
      "source": [
        "iloc는 \"행 번호\"를 사용해서 하나의 데이터를 선택합니다. "
      ]
    },
    {
      "cell_type": "code",
      "execution_count": null,
      "metadata": {
        "id": "dqomsDbhRHBK"
      },
      "outputs": [],
      "source": [
        "data = [1000, 2000, 3000]\n",
        "index = ['메로나', '구구콘', '하겐다즈']\n",
        "s = Series(data, index=index)\n",
        "\n",
        "# 인덱싱\n",
        "s.iloc[ 0 ]\n"
      ]
    },
    {
      "cell_type": "code",
      "source": [
        "s.iloc[-1]"
      ],
      "metadata": {
        "id": "bVOLtOUXSW0I",
        "outputId": "f8df4667-563d-4de7-875c-5a5e5eccde8b",
        "colab": {
          "base_uri": "https://localhost:8080/"
        }
      },
      "execution_count": 6,
      "outputs": [
        {
          "output_type": "execute_result",
          "data": {
            "text/plain": [
              "3000"
            ]
          },
          "metadata": {},
          "execution_count": 6
        }
      ]
    },
    {
      "cell_type": "markdown",
      "metadata": {
        "id": "mBOcpu3ARHBK"
      },
      "source": [
        "loc는 \"인덱스\"를 사용해서 하나의 데이터를 선택합니다."
      ]
    },
    {
      "cell_type": "code",
      "execution_count": 7,
      "metadata": {
        "id": "k6x_7ZKpRHBK",
        "outputId": "5de26491-748b-4902-dc64-6d367acd3932",
        "colab": {
          "base_uri": "https://localhost:8080/"
        }
      },
      "outputs": [
        {
          "output_type": "execute_result",
          "data": {
            "text/plain": [
              "1000"
            ]
          },
          "metadata": {},
          "execution_count": 7
        }
      ],
      "source": [
        "s.loc['메로나']"
      ]
    },
    {
      "cell_type": "markdown",
      "metadata": {
        "id": "XT4NfDy9RHBK"
      },
      "source": [
        "iloc와 loc를 사용하지 않고 대괄호 `[ ]`를 바로 사용해도, 똑똑한 시리즈 객체는 적절한 값을 반환합니다."
      ]
    },
    {
      "cell_type": "code",
      "execution_count": 8,
      "metadata": {
        "id": "yowYrdavRHBK",
        "outputId": "73d4525a-07b3-464f-9744-bdb054ef22e8",
        "colab": {
          "base_uri": "https://localhost:8080/"
        }
      },
      "outputs": [
        {
          "output_type": "execute_result",
          "data": {
            "text/plain": [
              "1000"
            ]
          },
          "metadata": {},
          "execution_count": 8
        }
      ],
      "source": [
        "s['메로나']"
      ]
    },
    {
      "cell_type": "markdown",
      "metadata": {
        "id": "LXOztzJXRHBK"
      },
      "source": [
        "리스트의 정수 인덱싱과 딕셔너리의 킷값을 사용한 인덱싱을 섞어 논것과 유사합니다. "
      ]
    },
    {
      "cell_type": "markdown",
      "metadata": {
        "id": "TXbEzYh8RHBK"
      },
      "source": [
        "----\n",
        "하나 이상의 데이터를 가져오는 슬라이싱도 사용할 수 있습니다. 이 때에도 `iloc`와 `loc` 기능을 사용합니다. "
      ]
    },
    {
      "cell_type": "code",
      "source": [
        "print(s.iloc[ [0,2]])"
      ],
      "metadata": {
        "id": "PHaCrLkmTHwB",
        "outputId": "5114b40f-79fc-48d7-c660-2b58b0abf618",
        "colab": {
          "base_uri": "https://localhost:8080/"
        }
      },
      "execution_count": 12,
      "outputs": [
        {
          "output_type": "stream",
          "name": "stdout",
          "text": [
            "메로나     1000\n",
            "하겐다즈    3000\n",
            "dtype: int64\n"
          ]
        }
      ]
    },
    {
      "cell_type": "code",
      "execution_count": 11,
      "metadata": {
        "id": "dnuR4NjrRHBK",
        "outputId": "48b0f2da-2a72-4d5e-850f-05a5032cfcc9",
        "colab": {
          "base_uri": "https://localhost:8080/"
        }
      },
      "outputs": [
        {
          "output_type": "execute_result",
          "data": {
            "text/plain": [
              "메로나    1000\n",
              "구구콘    2000\n",
              "dtype: int64"
            ]
          },
          "metadata": {},
          "execution_count": 11
        }
      ],
      "source": [
        "# iloc\n",
        "s.iloc[0:2]"
      ]
    },
    {
      "cell_type": "code",
      "execution_count": 15,
      "metadata": {
        "id": "Fo43roOLRHBK",
        "outputId": "ec5b6bf2-11ba-485e-8c0a-924daece5fa0",
        "colab": {
          "base_uri": "https://localhost:8080/"
        }
      },
      "outputs": [
        {
          "output_type": "execute_result",
          "data": {
            "text/plain": [
              "구구콘    2000\n",
              "메로나    1000\n",
              "dtype: int64"
            ]
          },
          "metadata": {},
          "execution_count": 15
        }
      ],
      "source": [
        "# loc\n",
        "s.loc[\"메로나\":\"구구콘\"]\n",
        "s.loc[ ['구구콘','메로나']]"
      ]
    },
    {
      "cell_type": "markdown",
      "metadata": {
        "id": "bQ80gX2WRHBK"
      },
      "source": [
        "시리즈는 인접하지 않은 불연속적인 데이터를 슬라이싱할 수있습니다. "
      ]
    },
    {
      "cell_type": "code",
      "execution_count": null,
      "metadata": {
        "id": "qjuDizK8RHBK"
      },
      "outputs": [],
      "source": [
        ""
      ]
    },
    {
      "cell_type": "markdown",
      "metadata": {
        "id": "aO4rOAYBRHBK"
      },
      "source": [
        "이러한 코드는 간단하기 때문에 한 줄에 짧게 표현할 수도 있습니다. "
      ]
    },
    {
      "cell_type": "code",
      "execution_count": 16,
      "metadata": {
        "id": "2OR_V-WsRHBK",
        "outputId": "241ba3b4-1c9e-4c86-a19b-417d34cd51f7",
        "colab": {
          "base_uri": "https://localhost:8080/"
        }
      },
      "outputs": [
        {
          "output_type": "execute_result",
          "data": {
            "text/plain": [
              "구구콘    2000\n",
              "메로나    1000\n",
              "dtype: int64"
            ]
          },
          "metadata": {},
          "execution_count": 16
        }
      ],
      "source": [
        "s.loc[ ['구구콘','메로나']]"
      ]
    },
    {
      "cell_type": "markdown",
      "metadata": {
        "id": "e1BtsNxvRHBK"
      },
      "source": [
        "### 시리즈의 수정\n",
        "딕셔너리의 값을 추가(수정)했던 것과 같이 시리즈도 `iloc` 혹은 `loc`로 데이터에 접근해서 값을 대입하면 됩니다. 다음과 같이 기존에 값이 존재하지 않는다면 데이터가 추가됩니다. \n",
        "https://wikidocs.net/book/3488"
      ]
    },
    {
      "cell_type": "code",
      "execution_count": 17,
      "metadata": {
        "id": "mVdNDqX8RHBK",
        "outputId": "fdeab90b-d2a3-4f4f-cc00-456318695e8c",
        "colab": {
          "base_uri": "https://localhost:8080/"
        }
      },
      "outputs": [
        {
          "output_type": "stream",
          "name": "stdout",
          "text": [
            "메로나     1000\n",
            "구구콘     2000\n",
            "하겐다즈    3000\n",
            "dtype: int64\n",
            "메로나     1000\n",
            "구구콘     2000\n",
            "하겐다즈    3000\n",
            "비비빅      500\n",
            "dtype: int64\n"
          ]
        }
      ],
      "source": [
        "data = [1000, 2000, 3000]\n",
        "index = ['메로나', '구구콘', '하겐다즈']\n",
        "s = Series(data, index=index)\n",
        "print(s)\n",
        "# 비비빅 추가 = 500원 추가\n",
        "s.loc['비비빅'] = 500\n",
        "print(s)"
      ]
    },
    {
      "cell_type": "code",
      "source": [
        "# 비비빅 값 수정\n",
        "s.iloc[-1]= 100\n",
        "print(s)"
      ],
      "metadata": {
        "id": "AJDGj-8cUBpR",
        "outputId": "571a74c4-dcab-409b-82b0-5374fe707e4e",
        "colab": {
          "base_uri": "https://localhost:8080/"
        }
      },
      "execution_count": 20,
      "outputs": [
        {
          "output_type": "stream",
          "name": "stdout",
          "text": [
            "메로나     1000\n",
            "구구콘     2000\n",
            "하겐다즈    3000\n",
            "비비빅      100\n",
            "dtype: int64\n"
          ]
        }
      ]
    },
    {
      "cell_type": "markdown",
      "metadata": {
        "id": "RuSH2xU3RHBL"
      },
      "source": [
        "데이터가 존재한다면 값을 업데이트 합니다. "
      ]
    },
    {
      "cell_type": "code",
      "execution_count": null,
      "metadata": {
        "id": "XC4JD22iRHBL",
        "outputId": "41ba58ed-e1e8-46a7-abed-37cc290d01f2"
      },
      "outputs": [
        {
          "name": "stdout",
          "output_type": "stream",
          "text": [
            "메로나     1000\n",
            "구구콘     2000\n",
            "하겐다즈    3000\n",
            "비비빅      400\n",
            "dtype: int64\n"
          ]
        }
      ],
      "source": [
        "s.loc['비비빅'] = 400\n",
        "print(s)"
      ]
    },
    {
      "cell_type": "markdown",
      "metadata": {
        "id": "wdujBfEcRHBL"
      },
      "source": [
        "데이터의 삭제는 `drop` 메서드를 사용합니다. `drop` 메서드는 삭제된 결과를 반환하며, 원본 데이터는 수정하지 않습니다. 이는 실수로 데이터를 삭제할 수 있는 위험을 줄이기 위함입니다. "
      ]
    },
    {
      "cell_type": "code",
      "execution_count": 21,
      "metadata": {
        "id": "YD9WkO8PRHBL",
        "outputId": "5a64f21b-1cf4-4b64-fc65-4d073c8fc9a8",
        "colab": {
          "base_uri": "https://localhost:8080/"
        }
      },
      "outputs": [
        {
          "output_type": "execute_result",
          "data": {
            "text/plain": [
              "메로나     1000\n",
              "구구콘     2000\n",
              "하겐다즈    3000\n",
              "dtype: int64"
            ]
          },
          "metadata": {},
          "execution_count": 21
        }
      ],
      "source": [
        "s.drop('비비빅')"
      ]
    },
    {
      "cell_type": "markdown",
      "metadata": {
        "id": "pAyq4sfrRHBL"
      },
      "source": [
        "시리즈의 슬라이싱을 응용해서 데이터를 제거할 수도 있습니다. "
      ]
    },
    {
      "cell_type": "code",
      "execution_count": 23,
      "metadata": {
        "id": "15_OKyd5RHBL",
        "outputId": "fb0c5106-faba-4ec0-bd76-65c80820e26e",
        "colab": {
          "base_uri": "https://localhost:8080/"
        }
      },
      "outputs": [
        {
          "output_type": "execute_result",
          "data": {
            "text/plain": [
              "메로나     1000\n",
              "구구콘     2000\n",
              "하겐다즈    3000\n",
              "dtype: int64"
            ]
          },
          "metadata": {},
          "execution_count": 23
        }
      ],
      "source": [
        "# 진짜 삭제할것인지 여부 확인 inplace = True\n",
        "s.drop('비비빅',inplace=True)\n",
        "s"
      ]
    },
    {
      "cell_type": "markdown",
      "metadata": {
        "id": "RthvXTGPRHBL"
      },
      "source": [
        "### 시리즈의 연산\n",
        "판다스는 `ndarra`를 기반으로 만들어졌기 때문에 `브로드캐스팅`을 모두 지원합니다. \n",
        "연산이 모든 데이터에 적용되는 겁니다. "
      ]
    },
    {
      "cell_type": "code",
      "execution_count": null,
      "metadata": {
        "id": "dAm8OQ-kRHBL"
      },
      "outputs": [],
      "source": [
        "from pandas import Series\n",
        "\n",
        "s1 = Series([10, 20, 30])\n"
      ]
    },
    {
      "cell_type": "markdown",
      "metadata": {
        "id": "dCS1AuIRRHBL"
      },
      "source": [
        "시리즈는 `ndarray`와 같이 같은 객체간의 연산을 지원합니다.  "
      ]
    },
    {
      "cell_type": "code",
      "execution_count": null,
      "metadata": {
        "id": "RgclQHAwRHBL"
      },
      "outputs": [],
      "source": [
        "s2 = Series([20, 30, 40])\n",
        "\n"
      ]
    },
    {
      "cell_type": "markdown",
      "metadata": {
        "id": "8MJQpsLxRHBL"
      },
      "source": [
        "시리즈 객체 간의 연산을 할 때는 인덱스가 같아야 합니다. "
      ]
    },
    {
      "cell_type": "code",
      "execution_count": 32,
      "metadata": {
        "id": "HnrY6ruARHBL"
      },
      "outputs": [],
      "source": [
        "s1 = Series([10, 20, 30,40], index = [\"가\", \"나\", \"다\",\"라\"])\n",
        "s2 = Series([20, 30, 40], index = [\"다\", \"나\", \"가\"])\n",
        "\n"
      ]
    },
    {
      "cell_type": "code",
      "source": [
        "s1 + s2"
      ],
      "metadata": {
        "id": "GJbezIj7Yk_v",
        "outputId": "0583041b-c467-45eb-d310-954ca0697f97",
        "colab": {
          "base_uri": "https://localhost:8080/"
        }
      },
      "execution_count": 33,
      "outputs": [
        {
          "output_type": "execute_result",
          "data": {
            "text/plain": [
              "가    50.0\n",
              "나    50.0\n",
              "다    50.0\n",
              "라     NaN\n",
              "dtype: float64"
            ]
          },
          "metadata": {},
          "execution_count": 33
        }
      ]
    },
    {
      "cell_type": "markdown",
      "metadata": {
        "id": "jLTLTNpERHBL"
      },
      "source": [
        "Pandas는 결측치를 표현하기 위해 np.nan 값을 사용합니다.   \n",
        "NaN이란 비어있는 (존재하지 않는) 값입니다."
      ]
    },
    {
      "cell_type": "markdown",
      "metadata": {
        "id": "xEozahxkRHBL"
      },
      "source": [
        "### 시리즈의 비교연산\n",
        "모든 데이터에 비교 연산이 적용되고 boolean형 데이터가 저장된 하나의 시리즈가 반환됩니다."
      ]
    },
    {
      "cell_type": "code",
      "execution_count": 34,
      "metadata": {
        "id": "CgRp9HCHRHBN",
        "outputId": "e49ef530-dfa7-46de-d00d-4dce4fb0169a",
        "colab": {
          "base_uri": "https://localhost:8080/"
        }
      },
      "outputs": [
        {
          "output_type": "stream",
          "name": "stdout",
          "text": [
            "가    False\n",
            "나    False\n",
            "다     True\n",
            "dtype: bool\n"
          ]
        }
      ],
      "source": [
        "s1 = Series([10, 20, 30], index = [\"가\", \"나\", \"다\"])\n",
        "print(s1 > 20)"
      ]
    },
    {
      "cell_type": "markdown",
      "metadata": {
        "id": "O_QdRTVRRHBN"
      },
      "source": [
        "참/거짓이 저장된 조건 시리즈를 얻어 왔다면 값을 필터링 할 수 있겠죠?"
      ]
    },
    {
      "cell_type": "code",
      "execution_count": 35,
      "metadata": {
        "id": "hReiRFD1RHBN",
        "outputId": "a00e0681-c2dc-442c-db56-4e8e30dcbabb",
        "colab": {
          "base_uri": "https://localhost:8080/"
        }
      },
      "outputs": [
        {
          "output_type": "execute_result",
          "data": {
            "text/plain": [
              "다    30\n",
              "dtype: int64"
            ]
          },
          "metadata": {},
          "execution_count": 35
        }
      ],
      "source": [
        "# 조건으로 슬라이싱할 때는 loc를 사용한다.\n",
        "cond = s1 >20\n",
        "s1.loc[cond]"
      ]
    },
    {
      "cell_type": "code",
      "source": [
        "s1.loc[\"가\":\"나\"]\n",
        "s1.loc[[\"가\",\"나\"]]\n",
        "s1.loc[s1>20]"
      ],
      "metadata": {
        "id": "PvwsbsjSbAq5",
        "outputId": "edcb1457-cc4d-4029-eca5-e9a0117f19d6",
        "colab": {
          "base_uri": "https://localhost:8080/"
        }
      },
      "execution_count": 40,
      "outputs": [
        {
          "output_type": "execute_result",
          "data": {
            "text/plain": [
              "다    30\n",
              "dtype: int64"
            ]
          },
          "metadata": {},
          "execution_count": 40
        }
      ]
    },
    {
      "cell_type": "markdown",
      "metadata": {
        "id": "gTjAukQ2RHBN"
      },
      "source": [
        "Q. LG전자의 종가 데이터가 시리즈로 저장돼 있다. LG전자의 주가가 85000원 보다 작을 때의 일자를 출력하라."
      ]
    },
    {
      "cell_type": "code",
      "execution_count": 46,
      "metadata": {
        "id": "zqF6dbqLRHBN",
        "outputId": "57693469-b4b2-4172-9ec9-8e87a1eb812e",
        "colab": {
          "base_uri": "https://localhost:8080/"
        }
      },
      "outputs": [
        {
          "output_type": "execute_result",
          "data": {
            "text/plain": [
              "['05/28', '05/30', '05/31']"
            ]
          },
          "metadata": {},
          "execution_count": 46
        }
      ],
      "source": [
        "lge = Series([93000, 82400, 99100, 81000, 72300], index = [\"05/27\", \"05/28\", \"05/29\", \"05/30\", \"05/31\"])\n",
        "lge.loc[ lge < 85000].index.tolist()"
      ]
    },
    {
      "cell_type": "markdown",
      "metadata": {
        "id": "PjEGTWlPRHBN"
      },
      "source": [
        "Q. LG전자의 종가가 85000원 이하로 떨어진 횟수는?"
      ]
    },
    {
      "cell_type": "code",
      "source": [
        "cond = lge < 85000\n",
        "lge.index[cond]"
      ],
      "metadata": {
        "id": "39o5evjYcRsN",
        "outputId": "5688b8b7-dad0-423f-99cd-35de15573519",
        "colab": {
          "base_uri": "https://localhost:8080/"
        }
      },
      "execution_count": 47,
      "outputs": [
        {
          "output_type": "execute_result",
          "data": {
            "text/plain": [
              "Index(['05/28', '05/30', '05/31'], dtype='object')"
            ]
          },
          "metadata": {},
          "execution_count": 47
        }
      ]
    },
    {
      "cell_type": "code",
      "execution_count": 45,
      "metadata": {
        "id": "RfZePHARRHBN",
        "outputId": "de7ab1a5-8eb6-4eeb-f275-80bfd09c9407",
        "colab": {
          "base_uri": "https://localhost:8080/"
        }
      },
      "outputs": [
        {
          "output_type": "execute_result",
          "data": {
            "text/plain": [
              "3"
            ]
          },
          "metadata": {},
          "execution_count": 45
        }
      ],
      "source": [
        "len(lge.loc[ lge < 85000].index)\n"
      ]
    },
    {
      "cell_type": "markdown",
      "source": [
        "ndarray 와 메모리\n",
        "https://wikidocs.net/160595"
      ],
      "metadata": {
        "id": "AlScTxnedE1A"
      }
    }
  ],
  "metadata": {
    "kernelspec": {
      "display_name": "Python 3",
      "language": "python",
      "name": "python3"
    },
    "language_info": {
      "codemirror_mode": {
        "name": "ipython",
        "version": 3
      },
      "file_extension": ".py",
      "mimetype": "text/x-python",
      "name": "python",
      "nbconvert_exporter": "python",
      "pygments_lexer": "ipython3",
      "version": "3.8.8"
    },
    "toc": {
      "base_numbering": 1,
      "nav_menu": {},
      "number_sections": true,
      "sideBar": true,
      "skip_h1_title": false,
      "title_cell": "Table of Contents",
      "title_sidebar": "Contents",
      "toc_cell": false,
      "toc_position": {},
      "toc_section_display": true,
      "toc_window_display": false
    },
    "colab": {
      "name": "Series.ipynb",
      "provenance": []
    }
  },
  "nbformat": 4,
  "nbformat_minor": 0
}