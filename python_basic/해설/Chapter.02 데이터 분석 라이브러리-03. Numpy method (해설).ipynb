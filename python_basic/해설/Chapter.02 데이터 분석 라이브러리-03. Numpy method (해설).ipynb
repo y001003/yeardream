{
  "cells": [
    {
      "cell_type": "markdown",
      "metadata": {
        "id": "kv6gH7G01Pal"
      },
      "source": [
        "## Numpy"
      ]
    },
    {
      "cell_type": "markdown",
      "metadata": {
        "id": "RQWkeQgD1Pam"
      },
      "source": [
        "### 1. Numpy Array and Operation"
      ]
    },
    {
      "cell_type": "markdown",
      "metadata": {
        "id": "igGUA1oE1Pam"
      },
      "source": [
        "- numpy의 기본적인 사용법에 대해서 배워봅니다.\n",
        "\n",
        "\n",
        "- numpy에서 numpy.array를 만드는 여러가지 방법과 지원하는 연산자에 대해서 공부합니다."
      ]
    },
    {
      "cell_type": "markdown",
      "source": [
        "### 1.1. Numpy Array creation"
      ],
      "metadata": {
        "id": "ZzPzxgQ53PcS"
      }
    },
    {
      "cell_type": "code",
      "execution_count": null,
      "metadata": {
        "id": "MoD6QOXY1Pan"
      },
      "outputs": [],
      "source": [
        "# numpy 라이브러리를 불러옵니다.\n",
        "import numpy as np"
      ]
    },
    {
      "cell_type": "code",
      "execution_count": null,
      "metadata": {
        "colab": {
          "base_uri": "https://localhost:8080/"
        },
        "id": "bqVEQaBP1Pan",
        "outputId": "135a3b95-5309-4da9-c332-986b3a811c31"
      },
      "outputs": [
        {
          "output_type": "execute_result",
          "data": {
            "text/plain": [
              "[1, 2, 3, 4, 5]"
            ]
          },
          "metadata": {},
          "execution_count": 2
        }
      ],
      "source": [
        "# 파이썬 리스트 선언\n",
        "data = [1, 2, 3, 4, 5]\n",
        "data"
      ]
    },
    {
      "cell_type": "code",
      "execution_count": null,
      "metadata": {
        "colab": {
          "base_uri": "https://localhost:8080/"
        },
        "id": "jADukVLG1Pan",
        "outputId": "0ebcea43-68f3-4244-d844-c57a1639ff70"
      },
      "outputs": [
        {
          "output_type": "execute_result",
          "data": {
            "text/plain": [
              "[[1, 2], [3, 4]]"
            ]
          },
          "metadata": {},
          "execution_count": 3
        }
      ],
      "source": [
        "# 파이썬 2차원 리스트(행렬) 선언\n",
        "data2 = [[1, 2], [3, 4]]\n",
        "data2"
      ]
    },
    {
      "cell_type": "code",
      "execution_count": null,
      "metadata": {
        "colab": {
          "base_uri": "https://localhost:8080/"
        },
        "id": "jQq60ZfX1Pan",
        "outputId": "1a57c3e7-ab8e-451e-a4a9-823ddfef97fb"
      },
      "outputs": [
        {
          "output_type": "execute_result",
          "data": {
            "text/plain": [
              "array([1, 2, 3, 4, 5])"
            ]
          },
          "metadata": {},
          "execution_count": 5
        }
      ],
      "source": [
        "# 파이썬 list를 numpy array로 변환합니다.\n",
        "arr = np.array(data)\n",
        "# numpy array를 만드는 방식의 대부분은 파이썬 리스트를 np.array로 변환하는 방식입니다.\n",
        "arr = np.array([1, 2, 3, 4, 5])\n",
        "arr"
      ]
    },
    {
      "cell_type": "code",
      "execution_count": null,
      "metadata": {
        "colab": {
          "base_uri": "https://localhost:8080/"
        },
        "id": "eqbxPjfu1Pao",
        "outputId": "21839b72-5650-4ec0-bae8-0d99798153c8"
      },
      "outputs": [
        {
          "output_type": "execute_result",
          "data": {
            "text/plain": [
              "array([[1, 2],\n",
              "       [3, 4]])"
            ]
          },
          "metadata": {},
          "execution_count": 6
        }
      ],
      "source": [
        "# 2차원 리스트를 np.array로 만듭니다.\n",
        "arr2 = np.array(data2) # data2라는 리스트를 numpy array로 만들어라.\n",
        "arr2 # 2차원 numpy array -> 행렬!"
      ]
    },
    {
      "cell_type": "code",
      "execution_count": null,
      "metadata": {
        "colab": {
          "base_uri": "https://localhost:8080/"
        },
        "id": "oMdYjtc21Pao",
        "outputId": "c160c1d6-789b-4c46-ced1-5b21b4927f4f"
      },
      "outputs": [
        {
          "output_type": "execute_result",
          "data": {
            "text/plain": [
              "array([0, 1, 2, 3, 4, 5, 6, 7, 8, 9])"
            ]
          },
          "metadata": {},
          "execution_count": 9
        }
      ],
      "source": [
        "# 0부터 9까지 숫자를 자동으로 생성한 array\n",
        "np.array(list(range(10)))\n",
        "np.arange(10)"
      ]
    },
    {
      "cell_type": "code",
      "execution_count": null,
      "metadata": {
        "colab": {
          "base_uri": "https://localhost:8080/"
        },
        "id": "NwMSPz0Z1Pao",
        "outputId": "81216fdb-f2c2-44bf-a541-7bb864c5d74c"
      },
      "outputs": [
        {
          "output_type": "execute_result",
          "data": {
            "text/plain": [
              "array([10, 11, 12, 13, 14, 15, 16, 17, 18, 19, 20, 21, 22, 23, 24, 25, 26,\n",
              "       27, 28, 29, 30, 31, 32, 33, 34, 35, 36, 37, 38, 39, 40, 41, 42, 43,\n",
              "       44, 45, 46, 47, 48, 49, 50, 51, 52, 53, 54, 55, 56, 57, 58, 59, 60,\n",
              "       61, 62, 63, 64, 65, 66, 67, 68, 69, 70, 71, 72, 73, 74, 75, 76, 77,\n",
              "       78, 79, 80, 81, 82, 83, 84, 85, 86, 87, 88, 89, 90, 91, 92, 93, 94,\n",
              "       95, 96, 97, 98, 99])"
            ]
          },
          "metadata": {},
          "execution_count": 10
        }
      ],
      "source": [
        "# 10부터 99까지 숫자를 자동으로 생성한 array\n",
        "np.arange(10, 100)"
      ]
    },
    {
      "cell_type": "code",
      "source": [
        "arr.shape # (5, ) != (5, 1)\n",
        "arr2.shape # (2, 2)"
      ],
      "metadata": {
        "colab": {
          "base_uri": "https://localhost:8080/"
        },
        "id": "A4vxq_gUGnNE",
        "outputId": "8428441f-7a00-4182-ceb2-621dd7701390"
      },
      "execution_count": null,
      "outputs": [
        {
          "output_type": "execute_result",
          "data": {
            "text/plain": [
              "(2, 2)"
            ]
          },
          "metadata": {},
          "execution_count": 13
        }
      ]
    },
    {
      "cell_type": "markdown",
      "metadata": {
        "id": "UFFwSitw1Pao"
      },
      "source": [
        "### 1.2. Reshaping array"
      ]
    },
    {
      "cell_type": "code",
      "execution_count": null,
      "metadata": {
        "colab": {
          "base_uri": "https://localhost:8080/"
        },
        "id": "-vcHHFl81Pao",
        "outputId": "bc5c71c0-f3b5-433e-8f70-44b3032319e8"
      },
      "outputs": [
        {
          "output_type": "execute_result",
          "data": {
            "text/plain": [
              "array([[1, 2, 3],\n",
              "       [4, 5, 6],\n",
              "       [7, 8, 9]])"
            ]
          },
          "metadata": {},
          "execution_count": 14
        }
      ],
      "source": [
        "# 3 x 3 행렬을 만들어봅시다. \n",
        "# if, 6 x 6 ?\n",
        "x = np.array([[1, 2, 3],\n",
        "              [4, 5, 6],\n",
        "              [7, 8, 9]])\n",
        "x"
      ]
    },
    {
      "cell_type": "code",
      "execution_count": null,
      "metadata": {
        "colab": {
          "base_uri": "https://localhost:8080/"
        },
        "id": "HChX3Sv91Pao",
        "outputId": "953c6ffa-6019-4404-b461-4e66ef615589"
      },
      "outputs": [
        {
          "output_type": "execute_result",
          "data": {
            "text/plain": [
              "array([[1, 2, 3],\n",
              "       [4, 5, 6],\n",
              "       [7, 8, 9]])"
            ]
          },
          "metadata": {},
          "execution_count": 24
        }
      ],
      "source": [
        "# reshape을 이용하여 만들어봅시다.\n",
        "np.arange(1, 10).reshape(3, 3) # (9, ) -> (3, 3)"
      ]
    },
    {
      "cell_type": "code",
      "source": [
        "# row vector를 column vector로\n",
        "np.arange(6).reshape(6, 1)"
      ],
      "metadata": {
        "colab": {
          "base_uri": "https://localhost:8080/"
        },
        "id": "jKHQRaFx5QFT",
        "outputId": "5fccac5c-0023-49ab-deb1-50680dbf50e4"
      },
      "execution_count": null,
      "outputs": [
        {
          "output_type": "execute_result",
          "data": {
            "text/plain": [
              "array([[0],\n",
              "       [1],\n",
              "       [2],\n",
              "       [3],\n",
              "       [4],\n",
              "       [5]])"
            ]
          },
          "metadata": {},
          "execution_count": 18
        }
      ]
    },
    {
      "cell_type": "code",
      "source": [
        "# 펼치기\n",
        "x.reshape(-1, )"
      ],
      "metadata": {
        "colab": {
          "base_uri": "https://localhost:8080/"
        },
        "id": "Jre4TnZT5YwK",
        "outputId": "45d8670d-3bb8-4555-cb34-f29f9b46344b"
      },
      "execution_count": null,
      "outputs": [
        {
          "output_type": "execute_result",
          "data": {
            "text/plain": [
              "array([1, 2, 3, 4, 5, 6, 7, 8, 9])"
            ]
          },
          "metadata": {},
          "execution_count": 22
        }
      ]
    },
    {
      "cell_type": "markdown",
      "metadata": {
        "id": "MMrKtZy-1Pao"
      },
      "source": [
        "### 1.3. Concatenation of arrays"
      ]
    },
    {
      "cell_type": "code",
      "execution_count": null,
      "metadata": {
        "colab": {
          "base_uri": "https://localhost:8080/"
        },
        "id": "6g1bOHDn1Pao",
        "outputId": "15cd3356-3dec-46ae-8dbb-67a2e1eb19c1"
      },
      "outputs": [
        {
          "output_type": "execute_result",
          "data": {
            "text/plain": [
              "array([[1, 2, 3],\n",
              "       [4, 5, 6]])"
            ]
          },
          "metadata": {},
          "execution_count": 35
        }
      ],
      "source": [
        "arr1 = np.array([[1, 2, 3]])\n",
        "arr2 = np.array([[4, 5, 6]])\n",
        "# arr1 + arr2 = ?\n",
        "# L = [1, 2, 3]\n",
        "# L2 = [4, 5, 6]\n",
        "# L + L2\n",
        "# arr1와 arr2를 합칩니다\n",
        "np.concatenate([arr1, arr2], axis=0)"
      ]
    },
    {
      "cell_type": "code",
      "execution_count": null,
      "metadata": {
        "colab": {
          "base_uri": "https://localhost:8080/"
        },
        "id": "ePV80Pwx1Pao",
        "outputId": "7aee0ee7-bbeb-401b-fe6f-bed487b457d0"
      },
      "outputs": [
        {
          "output_type": "execute_result",
          "data": {
            "text/plain": [
              "array([[1, 2, 3],\n",
              "       [4, 5, 6]])"
            ]
          },
          "metadata": {},
          "execution_count": 28
        }
      ],
      "source": [
        "# stacking vertically\n",
        "np.vstack([arr1, arr2])"
      ]
    },
    {
      "cell_type": "code",
      "execution_count": null,
      "metadata": {
        "colab": {
          "base_uri": "https://localhost:8080/"
        },
        "id": "xcY9pR2M1Pap",
        "outputId": "8befe09b-2c0c-4fd4-9874-6e649787016e"
      },
      "outputs": [
        {
          "output_type": "execute_result",
          "data": {
            "text/plain": [
              "array([1, 2, 3, 4, 5, 6])"
            ]
          },
          "metadata": {},
          "execution_count": 29
        }
      ],
      "source": [
        "# stacking horizontally\n",
        "np.hstack([arr1, arr2])"
      ]
    },
    {
      "cell_type": "markdown",
      "metadata": {
        "id": "1Pioy4a-1Pap"
      },
      "source": [
        "## 1.4. Array Arithmetic (like vector) --> Universal Function"
      ]
    },
    {
      "cell_type": "code",
      "execution_count": null,
      "metadata": {
        "id": "sxjF6pdh1Pap"
      },
      "outputs": [],
      "source": [
        "# v1 = (1, 2, 3), v2 = (4, 5, 6) 벡터 2개 생성하기.\n",
        "v1 = np.array([1, 2, 3])\n",
        "v2 = np.array([4, 5, 6])"
      ]
    },
    {
      "cell_type": "code",
      "execution_count": null,
      "metadata": {
        "colab": {
          "base_uri": "https://localhost:8080/"
        },
        "id": "KFKEKB711Pap",
        "outputId": "59d0b816-920d-4472-dc23-e0025df4808c"
      },
      "outputs": [
        {
          "output_type": "execute_result",
          "data": {
            "text/plain": [
              "[1, 2, 3, 4, 5, 6]"
            ]
          },
          "metadata": {},
          "execution_count": 37
        }
      ],
      "source": [
        "# 리스트로 더하기 연산해보기\n",
        "L = [1, 2, 3]\n",
        "L2 = [4, 5, 6]\n",
        "L + L2"
      ]
    },
    {
      "cell_type": "code",
      "execution_count": null,
      "metadata": {
        "colab": {
          "base_uri": "https://localhost:8080/"
        },
        "id": "UiDh2wZX1Pap",
        "outputId": "f3a5194e-0ef9-4603-91ec-2e9c15eede9f"
      },
      "outputs": [
        {
          "output_type": "execute_result",
          "data": {
            "text/plain": [
              "array([5, 7, 9])"
            ]
          },
          "metadata": {},
          "execution_count": 38
        }
      ],
      "source": [
        "#  vector addition\n",
        "v1 + v2"
      ]
    },
    {
      "cell_type": "code",
      "execution_count": null,
      "metadata": {
        "colab": {
          "base_uri": "https://localhost:8080/"
        },
        "id": "z1uh1zIW1Pap",
        "outputId": "8785a501-dd6e-4e2d-913a-833ba9a7a2a8"
      },
      "outputs": [
        {
          "output_type": "execute_result",
          "data": {
            "text/plain": [
              "array([-3, -3, -3])"
            ]
          },
          "metadata": {},
          "execution_count": 39
        }
      ],
      "source": [
        "#  vector subtraction\n",
        "v1 - v2"
      ]
    },
    {
      "cell_type": "code",
      "execution_count": null,
      "metadata": {
        "colab": {
          "base_uri": "https://localhost:8080/"
        },
        "id": "Kp3n7JU91Pap",
        "outputId": "a870a7eb-634a-4a97-aff5-03470274d0a5"
      },
      "outputs": [
        {
          "output_type": "execute_result",
          "data": {
            "text/plain": [
              "array([ 4, 10, 18])"
            ]
          },
          "metadata": {},
          "execution_count": 40
        }
      ],
      "source": [
        "# (not vector operation) elementwise multiplication\n",
        "v1 * v2"
      ]
    },
    {
      "cell_type": "code",
      "execution_count": null,
      "metadata": {
        "colab": {
          "base_uri": "https://localhost:8080/"
        },
        "id": "WQDxd6ew1Pap",
        "outputId": "46912ae4-781d-4013-ccf8-171c8995e4d9"
      },
      "outputs": [
        {
          "output_type": "execute_result",
          "data": {
            "text/plain": [
              "array([0.25, 0.4 , 0.5 ])"
            ]
          },
          "metadata": {},
          "execution_count": 41
        }
      ],
      "source": [
        "# (not vector operation) elementwise division\n",
        "v1 / v2"
      ]
    },
    {
      "cell_type": "code",
      "execution_count": null,
      "metadata": {
        "colab": {
          "base_uri": "https://localhost:8080/"
        },
        "id": "Kh9DEujN1Pap",
        "outputId": "737341bb-46b1-45e4-901d-ce4cdddb7ca0"
      },
      "outputs": [
        {
          "output_type": "execute_result",
          "data": {
            "text/plain": [
              "32"
            ]
          },
          "metadata": {},
          "execution_count": 42
        }
      ],
      "source": [
        "# dot product\n",
        "v1 @ v2 # 1x4 + 2x5 + 3x6"
      ]
    },
    {
      "cell_type": "markdown",
      "metadata": {
        "id": "Dp11IV1l1Pap"
      },
      "source": [
        "### 1.5. Broadcast and Universal Function"
      ]
    },
    {
      "cell_type": "markdown",
      "metadata": {
        "id": "lbGKwuWf1Pap"
      },
      "source": [
        "- 서로 크기가 다른 numpy array를 연산할 때, 자동으로 연산을 전파(broadcast)해주는 기능. 행렬곱 연산을 할 때 편리하다."
      ]
    },
    {
      "cell_type": "code",
      "execution_count": null,
      "metadata": {
        "id": "g8pG0d-V1Paq"
      },
      "outputs": [],
      "source": [
        "arr1 = np.array([1, 2, 3])"
      ]
    },
    {
      "cell_type": "code",
      "execution_count": null,
      "metadata": {
        "colab": {
          "base_uri": "https://localhost:8080/"
        },
        "id": "CQDgu7vG1Paq",
        "outputId": "84eb3a2c-1d25-4032-e488-3f1fc03033d3"
      },
      "outputs": [
        {
          "output_type": "execute_result",
          "data": {
            "text/plain": [
              "(2, 3)"
            ]
          },
          "metadata": {},
          "execution_count": 45
        }
      ],
      "source": [
        "arr2 = np.array([[-1, -1, -1],\n",
        "                 [1, 1, 1]])\n",
        "arr2.shape"
      ]
    },
    {
      "cell_type": "code",
      "execution_count": null,
      "metadata": {
        "colab": {
          "base_uri": "https://localhost:8080/"
        },
        "id": "-4EWUAZB1Paq",
        "outputId": "53c31113-f106-40ac-c6b7-39c0b27bf1ad"
      },
      "outputs": [
        {
          "output_type": "execute_result",
          "data": {
            "text/plain": [
              "array([[0, 1, 2],\n",
              "       [2, 3, 4]])"
            ]
          },
          "metadata": {},
          "execution_count": 46
        }
      ],
      "source": [
        "# 2개의 array를 더해보면?\n",
        "arr1 + arr2"
      ]
    },
    {
      "cell_type": "code",
      "execution_count": null,
      "metadata": {
        "colab": {
          "base_uri": "https://localhost:8080/"
        },
        "id": "EvOolsHz1Paq",
        "outputId": "6a128044-b77b-4a5b-a096-b13019042a13"
      },
      "outputs": [
        {
          "output_type": "execute_result",
          "data": {
            "text/plain": [
              "array([[-1, -2, -3],\n",
              "       [ 1,  2,  3]])"
            ]
          },
          "metadata": {},
          "execution_count": 47
        }
      ],
      "source": [
        "# 2개의 array를 곱해보면? (**)\n",
        "arr1 * arr2"
      ]
    },
    {
      "cell_type": "markdown",
      "source": [
        "- Universal Function : broadcast 기능을 확장해서, numpy array의 모든 원소에 동일한 함수를 반복문으로 적용한 것과 같은 효과를 내는 기능."
      ],
      "metadata": {
        "id": "Rch_pHQW55S-"
      }
    },
    {
      "cell_type": "code",
      "source": [
        "arr1.shape[0]"
      ],
      "metadata": {
        "colab": {
          "base_uri": "https://localhost:8080/"
        },
        "id": "Hjxb_7GsLCCa",
        "outputId": "f50295c0-9931-45b7-e57a-fd7208fa8a4e"
      },
      "execution_count": null,
      "outputs": [
        {
          "output_type": "execute_result",
          "data": {
            "text/plain": [
              "3"
            ]
          },
          "metadata": {},
          "execution_count": 57
        }
      ]
    },
    {
      "cell_type": "code",
      "source": [
        "# f = lambda x : 1/x\n",
        "f = lambda x : 1/x\n",
        "\n",
        "arr1 = np.array([1., 2., 3.])\n",
        "\n",
        "for i in range(arr1.shape[0]):\n",
        "  arr1[i] = f(arr1[i])\n",
        "print(arr1)\n",
        "\n",
        "arr1 = np.array([1., 2., 3.])\n",
        "print(1 / arr1) # universal func"
      ],
      "metadata": {
        "colab": {
          "base_uri": "https://localhost:8080/"
        },
        "id": "AeXAfqUI6H0V",
        "outputId": "072bad41-03d8-4b6f-b63f-612abaae847f"
      },
      "execution_count": null,
      "outputs": [
        {
          "output_type": "stream",
          "name": "stdout",
          "text": [
            "[1.         0.5        0.33333333]\n",
            "[1.         0.5        0.33333333]\n"
          ]
        }
      ]
    },
    {
      "cell_type": "code",
      "execution_count": null,
      "metadata": {
        "colab": {
          "base_uri": "https://localhost:8080/"
        },
        "id": "xt20aKq21Paq",
        "outputId": "f00a76c7-067d-4c92-96e8-a5a91d004a39"
      },
      "outputs": [
        {
          "output_type": "execute_result",
          "data": {
            "text/plain": [
              "array([3., 6., 9.])"
            ]
          },
          "metadata": {},
          "execution_count": 69
        }
      ],
      "source": [
        "# f = lambda x : x + 2\n",
        "#arr1 = arr1 + 2\n",
        "arr1 = arr1 * 3\n",
        "arr1"
      ]
    },
    {
      "cell_type": "markdown",
      "metadata": {
        "id": "JQ9vQmo-1Paq"
      },
      "source": [
        "### 1.6. Indexing\n",
        "\n",
        "- numpy array의 indexing은 python list의 indexing과 같다!"
      ]
    },
    {
      "cell_type": "code",
      "execution_count": null,
      "metadata": {
        "id": "C2U2Y3Sz1Paq"
      },
      "outputs": [],
      "source": [
        "arr1 = np.arange(10)"
      ]
    },
    {
      "cell_type": "code",
      "execution_count": null,
      "metadata": {
        "colab": {
          "base_uri": "https://localhost:8080/"
        },
        "id": "5WULHYrI1Paq",
        "outputId": "2158f7a3-267e-4038-98c0-82a5f9f8072c"
      },
      "outputs": [
        {
          "output_type": "execute_result",
          "data": {
            "text/plain": [
              "0"
            ]
          },
          "metadata": {},
          "execution_count": 71
        }
      ],
      "source": [
        "# 첫번째 원소\n",
        "arr1[0]"
      ]
    },
    {
      "cell_type": "code",
      "execution_count": null,
      "metadata": {
        "colab": {
          "base_uri": "https://localhost:8080/"
        },
        "id": "_N-nEw7V1Paq",
        "outputId": "9e969c17-1de4-408f-ad32-7f28ebe5777c"
      },
      "outputs": [
        {
          "output_type": "execute_result",
          "data": {
            "text/plain": [
              "9"
            ]
          },
          "metadata": {},
          "execution_count": 72
        }
      ],
      "source": [
        "# 마지막 원소\n",
        "arr1[-1]"
      ]
    },
    {
      "cell_type": "code",
      "execution_count": null,
      "metadata": {
        "colab": {
          "base_uri": "https://localhost:8080/"
        },
        "id": "wNQa8qoO1Paq",
        "outputId": "11d8d870-0828-42ca-cc1c-7f817e567947"
      },
      "outputs": [
        {
          "output_type": "execute_result",
          "data": {
            "text/plain": [
              "array([0, 1, 2])"
            ]
          },
          "metadata": {},
          "execution_count": 73
        }
      ],
      "source": [
        "# 앞에서부터 원소 3개 slicing\n",
        "arr1[:3]"
      ]
    },
    {
      "cell_type": "code",
      "execution_count": null,
      "metadata": {
        "colab": {
          "base_uri": "https://localhost:8080/"
        },
        "id": "29pYfFvL1Paq",
        "outputId": "9a359ee8-07cf-43f1-c4f8-2b33a3cce4ba"
      },
      "outputs": [
        {
          "output_type": "execute_result",
          "data": {
            "text/plain": [
              "array([[ 1,  2,  3,  4],\n",
              "       [ 5,  6,  7,  8],\n",
              "       [ 9, 10, 11, 12]])"
            ]
          },
          "metadata": {},
          "execution_count": 78
        }
      ],
      "source": [
        "arr2 = np.array([[1, 2, 3, 4],\n",
        "               [5, 6, 7, 8],\n",
        "               [9, 10, 11, 12]])\n",
        "arr2"
      ]
    },
    {
      "cell_type": "code",
      "execution_count": null,
      "metadata": {
        "colab": {
          "base_uri": "https://localhost:8080/"
        },
        "id": "p8EFXNq91Paq",
        "outputId": "d89107bc-8dfb-49bb-ca64-22a8520f4359"
      },
      "outputs": [
        {
          "output_type": "execute_result",
          "data": {
            "text/plain": [
              "7"
            ]
          },
          "metadata": {},
          "execution_count": 77
        }
      ],
      "source": [
        "# arr2의 2th row, 3th column 원소 = 7\n",
        "arr2[1][2]\n",
        "arr2[1, 2] # numpy array indexing에서 추가된 것!"
      ]
    },
    {
      "cell_type": "code",
      "execution_count": null,
      "metadata": {
        "colab": {
          "base_uri": "https://localhost:8080/"
        },
        "id": "OVgw4bT11Paq",
        "outputId": "072520ef-9339-45fa-cbfa-def91f4678e7"
      },
      "outputs": [
        {
          "output_type": "execute_result",
          "data": {
            "text/plain": [
              "array([ 3,  7, 11])"
            ]
          },
          "metadata": {},
          "execution_count": 79
        }
      ],
      "source": [
        "# arr2의 세번째 column [3, 7, 11]\n",
        "arr2[0, 2]\n",
        "arr2[1, 2]\n",
        "arr2[2, 2]\n",
        "arr2[:, 2]"
      ]
    },
    {
      "cell_type": "code",
      "execution_count": null,
      "metadata": {
        "colab": {
          "base_uri": "https://localhost:8080/"
        },
        "id": "krLo7Tvg1Paq",
        "outputId": "6c4a5ee0-dbaa-45bd-dfa2-1f42772efe35"
      },
      "outputs": [
        {
          "output_type": "execute_result",
          "data": {
            "text/plain": [
              "array([[1, 2],\n",
              "       [5, 6]])"
            ]
          },
          "metadata": {},
          "execution_count": 82
        }
      ],
      "source": [
        "# arr2의 두번째 row\n",
        "arr2[0:2, 0:2] # arr2[1]"
      ]
    },
    {
      "cell_type": "markdown",
      "metadata": {
        "id": "nb3NOpgU1Par"
      },
      "source": [
        "## 2. Numpy Methods\n",
        "\n",
        "- numpy에서 사용되는 여러가지 함수들을 사용해봅시다."
      ]
    },
    {
      "cell_type": "markdown",
      "metadata": {
        "id": "wsDCnH9Q1Par"
      },
      "source": [
        "### 2.1. Math Functions "
      ]
    },
    {
      "cell_type": "code",
      "execution_count": null,
      "metadata": {
        "colab": {
          "base_uri": "https://localhost:8080/"
        },
        "id": "Pme3p6FQ1Par",
        "outputId": "91bc1f07-b5c2-45fe-ec32-3ebc5cbc5e15"
      },
      "outputs": [
        {
          "output_type": "execute_result",
          "data": {
            "text/plain": [
              "array([[ 0.37765459, -0.59941902,  1.24265268],\n",
              "       [ 0.41603669, -1.93383008, -2.16308527],\n",
              "       [ 0.30965658,  0.45795307, -0.19412538],\n",
              "       [ 1.408876  , -1.12170785, -0.24092229],\n",
              "       [-0.96010355,  1.89510812,  0.51684981]])"
            ]
          },
          "metadata": {},
          "execution_count": 86
        }
      ],
      "source": [
        "# 표준정규분포에서 random sampling을 한 원소를 가지는 5x3 행렬을 만든다.\n",
        "mat1 = np.random.randn(5, 3)\n",
        "mat1"
      ]
    },
    {
      "cell_type": "code",
      "execution_count": null,
      "metadata": {
        "colab": {
          "base_uri": "https://localhost:8080/"
        },
        "id": "YnWulebZ1Par",
        "outputId": "1befbe33-f514-4eac-cfda-642fec50c8be"
      },
      "outputs": [
        {
          "output_type": "execute_result",
          "data": {
            "text/plain": [
              "array([[0.37765459, 0.59941902, 1.24265268],\n",
              "       [0.41603669, 1.93383008, 2.16308527],\n",
              "       [0.30965658, 0.45795307, 0.19412538],\n",
              "       [1.408876  , 1.12170785, 0.24092229],\n",
              "       [0.96010355, 1.89510812, 0.51684981]])"
            ]
          },
          "metadata": {},
          "execution_count": 89
        }
      ],
      "source": [
        "# mat1에 절대값 씌우기\n",
        "np.abs(mat1)"
      ]
    },
    {
      "cell_type": "code",
      "source": [
        "# mat1 제곱하기\n",
        "np.square(mat1)"
      ],
      "metadata": {
        "colab": {
          "base_uri": "https://localhost:8080/"
        },
        "id": "LEt94K-t6sdK",
        "outputId": "a89c0aab-8229-45bb-c509-3d893ffcfc04"
      },
      "execution_count": null,
      "outputs": [
        {
          "output_type": "execute_result",
          "data": {
            "text/plain": [
              "array([[0.14262299, 0.35930316, 1.54418567],\n",
              "       [0.17308652, 3.73969878, 4.67893791],\n",
              "       [0.0958872 , 0.20972101, 0.03768466],\n",
              "       [1.98493158, 1.2582285 , 0.05804355],\n",
              "       [0.92179882, 3.59143477, 0.26713372]])"
            ]
          },
          "metadata": {},
          "execution_count": 90
        }
      ]
    },
    {
      "cell_type": "code",
      "source": [
        "# mat1의 제곱근 구하기\n",
        "np.sqrt(mat1) # nan = not a number"
      ],
      "metadata": {
        "colab": {
          "base_uri": "https://localhost:8080/"
        },
        "id": "mFldaHe_6wHC",
        "outputId": "c12eaae9-adc7-4460-edf2-c969e3141995"
      },
      "execution_count": null,
      "outputs": [
        {
          "output_type": "stream",
          "name": "stderr",
          "text": [
            "/usr/local/lib/python3.7/dist-packages/ipykernel_launcher.py:2: RuntimeWarning: invalid value encountered in sqrt\n",
            "  \n"
          ]
        },
        {
          "output_type": "execute_result",
          "data": {
            "text/plain": [
              "array([[0.61453608,        nan, 1.11474332],\n",
              "       [0.64500906,        nan,        nan],\n",
              "       [0.55646795, 0.6767223 ,        nan],\n",
              "       [1.18696082,        nan,        nan],\n",
              "       [       nan, 1.37662926, 0.71892267]])"
            ]
          },
          "metadata": {},
          "execution_count": 91
        }
      ]
    },
    {
      "cell_type": "code",
      "source": [
        "# linear algebra functions\n",
        "vec = np.array([1, 2, 2])\n",
        "\n",
        "# 1. norm\n",
        "np.linalg.norm(vec) # vector L2 norm\n",
        "\n",
        "# 2. eigenvalue\n",
        "mat = np.array([[1, 2],\n",
        "               [3, 4]])\n",
        "np.linalg.eig(mat)"
      ],
      "metadata": {
        "colab": {
          "base_uri": "https://localhost:8080/"
        },
        "id": "khqI2kwA62Ez",
        "outputId": "2be7cf4c-f46c-4b51-a620-60efcef546c4"
      },
      "execution_count": null,
      "outputs": [
        {
          "output_type": "execute_result",
          "data": {
            "text/plain": [
              "(array([-0.37228132,  5.37228132]), array([[-0.82456484, -0.41597356],\n",
              "        [ 0.56576746, -0.90937671]]))"
            ]
          },
          "metadata": {},
          "execution_count": 97
        }
      ]
    },
    {
      "cell_type": "markdown",
      "metadata": {
        "id": "Tk5S0yOf1Par"
      },
      "source": [
        "### 2.2. Aggregation functions "
      ]
    },
    {
      "cell_type": "code",
      "execution_count": null,
      "metadata": {
        "colab": {
          "base_uri": "https://localhost:8080/"
        },
        "id": "b0ei5LJ51Par",
        "outputId": "8279a85b-e55c-4fb4-ff51-abd3abb00b70"
      },
      "outputs": [
        {
          "output_type": "execute_result",
          "data": {
            "text/plain": [
              "array([[0.32924457, 0.33160349],\n",
              "       [0.39390233, 0.46379498],\n",
              "       [0.46548057, 0.21238474]])"
            ]
          },
          "metadata": {},
          "execution_count": 98
        }
      ],
      "source": [
        "mat2 = np.random.rand(3, 2)\n",
        "mat2"
      ]
    },
    {
      "cell_type": "code",
      "execution_count": null,
      "metadata": {
        "colab": {
          "base_uri": "https://localhost:8080/"
        },
        "id": "hMKOS5O51Par",
        "outputId": "986f9ff4-d85e-4e80-f241-e2dd788a25a2"
      },
      "outputs": [
        {
          "output_type": "execute_result",
          "data": {
            "text/plain": [
              "array([1.18862747, 1.00778321])"
            ]
          },
          "metadata": {},
          "execution_count": 102
        }
      ],
      "source": [
        "# Summation\n",
        "np.sum(mat2)\n",
        "np.sum(mat2, axis=1)\n",
        "np.sum(mat2, axis=0)"
      ]
    },
    {
      "cell_type": "code",
      "execution_count": null,
      "metadata": {
        "colab": {
          "base_uri": "https://localhost:8080/"
        },
        "id": "OdJZdrx_1Par",
        "outputId": "b96944eb-b583-4ae3-e88b-6efda1ad8a4d"
      },
      "outputs": [
        {
          "output_type": "execute_result",
          "data": {
            "text/plain": [
              "array([0.33042403, 0.42884866, 0.33893265])"
            ]
          },
          "metadata": {},
          "execution_count": 105
        }
      ],
      "source": [
        "# mean\n",
        "np.mean(mat2)\n",
        "np.mean(mat2, axis=0)\n",
        "np.mean(mat2, axis=1)"
      ]
    },
    {
      "cell_type": "code",
      "execution_count": null,
      "metadata": {
        "colab": {
          "base_uri": "https://localhost:8080/"
        },
        "id": "78xMuXMY1Par",
        "outputId": "4bec0d5d-0d61-42e0-a238-4a854b7d0bae"
      },
      "outputs": [
        {
          "output_type": "execute_result",
          "data": {
            "text/plain": [
              "0.08791139928701974"
            ]
          },
          "metadata": {},
          "execution_count": 106
        }
      ],
      "source": [
        "# std\n",
        "np.std(mat2)"
      ]
    },
    {
      "cell_type": "code",
      "execution_count": null,
      "metadata": {
        "colab": {
          "base_uri": "https://localhost:8080/"
        },
        "id": "KzfPurFc1Par",
        "outputId": "44bee19f-54d5-4e87-b1a4-c64119b9eb1b"
      },
      "outputs": [
        {
          "output_type": "execute_result",
          "data": {
            "text/plain": [
              "array([0.33160349, 0.46379498, 0.46548057])"
            ]
          },
          "metadata": {},
          "execution_count": 112
        }
      ],
      "source": [
        "# min, max\n",
        "#np.min(mat2, axis=0)\n",
        "np.max(mat2, axis=1)"
      ]
    },
    {
      "cell_type": "code",
      "execution_count": null,
      "metadata": {
        "colab": {
          "base_uri": "https://localhost:8080/"
        },
        "id": "YtRtiSG31Pas",
        "outputId": "1fb3e4ea-e3de-4a52-ea12-2cf2551ebbbc"
      },
      "outputs": [
        {
          "output_type": "execute_result",
          "data": {
            "text/plain": [
              "array([1, 1, 0])"
            ]
          },
          "metadata": {},
          "execution_count": 113
        }
      ],
      "source": [
        "# 최소값이 있는 Index\n",
        "np.argmin(mat2, axis=0)\n"
      ]
    },
    {
      "cell_type": "code",
      "execution_count": null,
      "metadata": {
        "colab": {
          "base_uri": "https://localhost:8080/"
        },
        "id": "0cndLCKl1Pas",
        "outputId": "89168f47-1193-4526-e5da-0ae84ba07eda"
      },
      "outputs": [
        {
          "output_type": "execute_result",
          "data": {
            "text/plain": [
              "array([1, 1, 0])"
            ]
          },
          "metadata": {},
          "execution_count": 114
        }
      ],
      "source": [
        "# 최대값이 있는 Index\n",
        "np.argmax(mat2, axis=1)"
      ]
    },
    {
      "cell_type": "code",
      "source": [
        "mat2"
      ],
      "metadata": {
        "colab": {
          "base_uri": "https://localhost:8080/"
        },
        "id": "GnC3N2DuPobK",
        "outputId": "32b0b890-3254-4fb8-f50d-38f00a32ad0d"
      },
      "execution_count": null,
      "outputs": [
        {
          "output_type": "execute_result",
          "data": {
            "text/plain": [
              "array([[0.32924457, 0.33160349],\n",
              "       [0.39390233, 0.46379498],\n",
              "       [0.46548057, 0.21238474]])"
            ]
          },
          "metadata": {},
          "execution_count": 111
        }
      ]
    },
    {
      "cell_type": "code",
      "execution_count": null,
      "metadata": {
        "colab": {
          "base_uri": "https://localhost:8080/"
        },
        "id": "y2LVvF5b1Pas",
        "outputId": "b1e28eb5-96a4-4494-bf0e-21bc0f1bc462"
      },
      "outputs": [
        {
          "output_type": "execute_result",
          "data": {
            "text/plain": [
              "array([[0.32924457, 0.21238474],\n",
              "       [0.39390233, 0.33160349],\n",
              "       [0.46548057, 0.46379498]])"
            ]
          },
          "metadata": {},
          "execution_count": 119
        }
      ],
      "source": [
        "# 그냥 정렬 (오름차순 정렬만 지원합니다)\n",
        "np.sort(mat2, axis=0) # 차이 ?\n",
        "\n",
        "# 만약에 내림차순을 하겠다?\n",
        "#np.sort(mat2, axis=0)[::-1]"
      ]
    },
    {
      "cell_type": "code",
      "execution_count": null,
      "metadata": {
        "colab": {
          "base_uri": "https://localhost:8080/"
        },
        "id": "mLeMOv7f1Pas",
        "outputId": "5a4ad49f-24b5-4f09-8bdd-3b709dd8258c"
      },
      "outputs": [
        {
          "output_type": "execute_result",
          "data": {
            "text/plain": [
              "array([[0, 2],\n",
              "       [1, 0],\n",
              "       [2, 1]])"
            ]
          },
          "metadata": {},
          "execution_count": 118
        }
      ],
      "source": [
        "# index를 정렬\n",
        "np.argsort(mat2, axis=0)"
      ]
    },
    {
      "cell_type": "markdown",
      "metadata": {
        "id": "2a2AgVdm1Pas"
      },
      "source": [
        "## 3. \bPerformance Check"
      ]
    },
    {
      "cell_type": "markdown",
      "metadata": {
        "id": "ciO_FLLW1Pas"
      },
      "source": [
        "- Universal Function 기능을 통해 반복문을 사용한 것보다 훨씬 빠른 성능을 냅니다.\n",
        "\n",
        "\n",
        "- 직접 실험을 통해 그 차이를 확인해보겠습니다."
      ]
    },
    {
      "cell_type": "code",
      "execution_count": null,
      "metadata": {
        "id": "oVBZX1U31Pas"
      },
      "outputs": [],
      "source": [
        "def reverse_num(values):\n",
        "    output = np.empty(len(values))\n",
        "    \n",
        "    for i in range(len(values)):\n",
        "        output[i] = 1.0 / values[i]\n",
        "    \n",
        "    return output"
      ]
    },
    {
      "cell_type": "code",
      "execution_count": null,
      "metadata": {
        "colab": {
          "base_uri": "https://localhost:8080/"
        },
        "id": "aagBlNXs1Pas",
        "outputId": "6742985a-d8cf-4ab6-d223-581908489279"
      },
      "outputs": [
        {
          "output_type": "execute_result",
          "data": {
            "text/plain": [
              "array([70, 36, 44,  3, 13, 79, 11, 71, 95, 28, 65, 96, 63, 69,  9, 40, 82,\n",
              "       41, 91, 72, 55, 98, 88, 34,  5, 53, 28, 69, 64, 55, 91, 18, 72, 43,\n",
              "       38, 18, 65, 62, 62, 41, 18, 24, 78, 14, 18, 80, 47, 79, 42, 74, 76,\n",
              "        8, 92, 18, 36, 56, 83, 60, 18, 12, 79, 41, 68, 39, 85, 98, 64, 20,\n",
              "       57, 93, 91, 41, 42, 96, 84, 83, 63,  9, 32, 52, 18, 85, 66,  3, 50,\n",
              "       90, 86, 10, 45, 80, 93, 48, 28, 33, 32, 44, 71, 78, 42, 35])"
            ]
          },
          "metadata": {},
          "execution_count": 132
        }
      ],
      "source": [
        "# 1부터 100까지 범위에서 1000000개를 랜덤으로 뽑아서 array를 만듭니다.\n",
        "big_array = np.random.randint(1, 100, 1000000)\n",
        "big_array"
      ]
    },
    {
      "cell_type": "code",
      "execution_count": null,
      "metadata": {
        "colab": {
          "base_uri": "https://localhost:8080/"
        },
        "id": "VMyEUiVM1Pas",
        "outputId": "1cb169ea-ab1e-4577-afb1-9c1622ce8f79"
      },
      "outputs": [
        {
          "output_type": "stream",
          "name": "stdout",
          "text": [
            "1000 loops, best of 5: 230 µs per loop\n"
          ]
        }
      ],
      "source": [
        "%timeit reverse_num(big_array)"
      ]
    },
    {
      "cell_type": "code",
      "execution_count": null,
      "metadata": {
        "colab": {
          "base_uri": "https://localhost:8080/"
        },
        "id": "k7PvHI7-1Pas",
        "outputId": "8bd81d8e-e796-4279-ade9-4c5e30af30df"
      },
      "outputs": [
        {
          "output_type": "stream",
          "name": "stdout",
          "text": [
            "The slowest run took 32.45 times longer than the fastest. This could mean that an intermediate result is being cached.\n",
            "1000000 loops, best of 5: 1.39 µs per loop\n"
          ]
        }
      ],
      "source": [
        "%timeit 1.0 / big_array"
      ]
    },
    {
      "cell_type": "code",
      "execution_count": null,
      "metadata": {
        "id": "_11lEint1Pas"
      },
      "outputs": [],
      "source": [
        ""
      ]
    }
  ],
  "metadata": {
    "kernelspec": {
      "display_name": "Python 3 (ipykernel)",
      "language": "python",
      "name": "python3"
    },
    "language_info": {
      "codemirror_mode": {
        "name": "ipython",
        "version": 3
      },
      "file_extension": ".py",
      "mimetype": "text/x-python",
      "name": "python",
      "nbconvert_exporter": "python",
      "pygments_lexer": "ipython3",
      "version": "3.8.2"
    },
    "colab": {
      "name": "Chapter.02 데이터 분석 라이브러리-03. Numpy method (실습).ipynb",
      "provenance": [],
      "collapsed_sections": []
    }
  },
  "nbformat": 4,
  "nbformat_minor": 0
}