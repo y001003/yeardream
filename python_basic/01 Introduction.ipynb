{
  "cells": [
    {
      "cell_type": "markdown",
      "metadata": {
        "id": "view-in-github",
        "colab_type": "text"
      },
      "source": [
        "<a href=\"https://colab.research.google.com/github/y001003/yeardream/blob/main/python_basic/01%20Introduction.ipynb\" target=\"_parent\"><img src=\"https://colab.research.google.com/assets/colab-badge.svg\" alt=\"Open In Colab\"/></a>"
      ]
    },
    {
      "cell_type": "markdown",
      "metadata": {
        "id": "Vfl7haRAgeOT"
      },
      "source": [
        "# 강사 소개 (유종훈)"
      ]
    },
    {
      "cell_type": "markdown",
      "metadata": {
        "id": "Rwxepx5ogeOW"
      },
      "source": [
        "## 10년 경력의 IT 엔지니어\n",
        "+ 영상처리 전공\n",
        "+ 비디오 코덱 개발\n",
        "\n",
        "## 강의 이력\n",
        "+ 미래에셋대우\n",
        "+ 삼성증권\n",
        "+ 한화투자증권\n",
        "+ 한국투자증권\n",
        "+ 현대자동차\n",
        "+ 신한카드\n",
        "+ 하나카드\n",
        "+ 삼천리도시가스\n",
        "  \n",
        "jonghun.yoo@pyquant.co.kr"
      ]
    },
    {
      "cell_type": "markdown",
      "metadata": {
        "id": "tvdKwpwegeOW"
      },
      "source": [
        "#### 책 집필"
      ]
    },
    {
      "cell_type": "markdown",
      "metadata": {
        "id": "NRG4kq5sgeOX"
      },
      "source": [
        "<img src=\"https://i.ibb.co/M7MTgMz/0-4.png\" width=\"250\" height=\"400\" style=\"float:left\" /> \n",
        "<img src=\"https://i.ibb.co/Xp91BgQ/book.png\" width=\"550\" height=\"400\" style=\"float:left\" />"
      ]
    },
    {
      "cell_type": "markdown",
      "metadata": {
        "id": "-Z9Ty27KgeOX"
      },
      "source": [
        "수업 시간에는 파이썬 기초 문법에 대해서만 다룹니다.\n",
        "따라서 다른 책들을 참고해서 파이썬 프로그램을 활용하는 방법을 익혀야 합니다.\n",
        "주식/비트코인 투자를 하라는 것이 아니라, 응용 프로그램을 만들어 보면서 파이썬 실력을 향상시켜 보세요."
      ]
    },
    {
      "cell_type": "markdown",
      "metadata": {
        "id": "WQQgKh8egeOX"
      },
      "source": [
        "#### 수업 보조 자료\n",
        "+ [파이썬 300제](https://wikidocs.net/book/922)\n",
        "+ [금융 데이터 분석을 위한 판다스](https://wikidocs.net/book/3488)\n",
        "+ [파이썬으로 하는 비트코인 자동매매](https://wikidocs.net/book/1665)\n",
        "+ [파이썬으로 배우는 알고리즘 트레이딩](https://wikidocs.net/book/110)"
      ]
    },
    {
      "cell_type": "markdown",
      "metadata": {
        "id": "0yZPlg8ageOY"
      },
      "source": [
        "# 파이썬 시작하기\n",
        "### 코딩(coding)이란?\n",
        "사전적 의미로 코드 (Code)를 작성하는 행위\n",
        "+ 코드는 컴퓨터가 알아들을 수 있는 명령들의 집합"
      ]
    },
    {
      "cell_type": "markdown",
      "metadata": {
        "id": "eloyISErgeOY"
      },
      "source": [
        "<img src=\"https://i.ibb.co/Snk1F9K/0-0.png\"  style=\"float:left\" />"
      ]
    },
    {
      "cell_type": "markdown",
      "metadata": {
        "id": "WLT_XCN5geOZ"
      },
      "source": [
        "한국말을 컴퓨터가 알아들을 수 있는 언어로 통역하는 일\n",
        "- 컴퓨터 언어의 문법에 맞춰 작성해야 함 "
      ]
    },
    {
      "cell_type": "markdown",
      "metadata": {
        "id": "1fFmElaLgeOZ"
      },
      "source": [
        "<img src=\"https://i.ibb.co/m0swDtj/0-1.png\" style=\"float:left\" />"
      ]
    },
    {
      "cell_type": "markdown",
      "metadata": {
        "id": "vUdxS1v-geOZ"
      },
      "source": [
        "컴퓨터와 의사 소통을 하기 위한 수단이며, 사용 목적에 따라 다양한 언어가 있음\n",
        "+ 웹 페이지를 만들기 위한 HTML\n",
        "+ 데이터 관리를 위한 SQL"
      ]
    },
    {
      "cell_type": "markdown",
      "metadata": {
        "id": "03ikMGW_geOa"
      },
      "source": [
        "<img src=\"https://i.ibb.co/FXpWGTK/0-2.png\" style=\"float:left\" />"
      ]
    },
    {
      "cell_type": "markdown",
      "metadata": {
        "id": "2OTOo0ExgeOa"
      },
      "source": [
        "**배우기 쉽고 / 읽기 쉽고 / 구현하기 쉬운 파이썬**"
      ]
    },
    {
      "cell_type": "markdown",
      "metadata": {
        "id": "YP_eVWkBgeOa"
      },
      "source": [
        "### 파이썬 개발 환경"
      ]
    },
    {
      "cell_type": "markdown",
      "metadata": {
        "id": "ZQ2oRloVgeOa"
      },
      "source": [
        "파이썬 공식버전과 아나콘다 배포판의 차이"
      ]
    },
    {
      "cell_type": "markdown",
      "metadata": {
        "id": "12zvOGtngeOb"
      },
      "source": [
        "<img src=\"https://i.ibb.co/7pd15Wm/0-3.png\" style=\"float:left\" />"
      ]
    },
    {
      "cell_type": "markdown",
      "metadata": {
        "id": "OlXdgqExgeOb"
      },
      "source": [
        "파이썬을 설치하면 파이썬 인터프리터가 설치됩니다. 파이썬 인터프리터는 여러분이 작성한 코드를 위에서 아래 방향으로 한 줄 씩 해석하고 실행합니다. 다음 두 줄의 코드를 실행하면 한 번에 결과가 출력되는 것처럼 느껴지지만 정확하게는 하나씩 빠르게 출력되는 겁니다."
      ]
    },
    {
      "cell_type": "code",
      "execution_count": null,
      "metadata": {
        "id": "1RfT-T05geOb",
        "outputId": "66666dd2-8a31-4144-ec0b-686fa32157b0"
      },
      "outputs": [
        {
          "name": "stdout",
          "output_type": "stream",
          "text": [
            "Hi\n",
            "Hello\n"
          ]
        }
      ],
      "source": [
        "print(\"Hi\")\n",
        "print(\"Hello\")"
      ]
    }
  ],
  "metadata": {
    "kernelspec": {
      "display_name": "Python 3",
      "language": "python",
      "name": "python3"
    },
    "language_info": {
      "codemirror_mode": {
        "name": "ipython",
        "version": 3
      },
      "file_extension": ".py",
      "mimetype": "text/x-python",
      "name": "python",
      "nbconvert_exporter": "python",
      "pygments_lexer": "ipython3",
      "version": "3.8.8"
    },
    "toc": {
      "base_numbering": 1,
      "nav_menu": {},
      "number_sections": true,
      "sideBar": true,
      "skip_h1_title": false,
      "title_cell": "Table of Contents",
      "title_sidebar": "Contents",
      "toc_cell": false,
      "toc_position": {},
      "toc_section_display": true,
      "toc_window_display": false
    },
    "colab": {
      "name": "Introduction.ipynb",
      "provenance": [],
      "collapsed_sections": [],
      "include_colab_link": true
    }
  },
  "nbformat": 4,
  "nbformat_minor": 0
}