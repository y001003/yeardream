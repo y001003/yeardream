{
  "cells": [
    {
      "cell_type": "markdown",
      "metadata": {
        "id": "6osFMInNTcpS"
      },
      "source": [
        "# 넘파이 (Numpy)\n",
        "수학 및 과학 연산을 위한 파이썬 패키지입니다. \n",
        "- 기술통계 분석 정도에 사용\n",
        "- matplotlib, Pandas 등 다른 Python 모듈과 함께 사용\n",
        "\n",
        "홈페이지 : https://numpy.org/devdocs/user/quickstart.html"
      ]
    },
    {
      "cell_type": "markdown",
      "metadata": {
        "id": "R5-BPuFkTcpU"
      },
      "source": [
        "참고자료 : https://wikidocs.net/160667"
      ]
    },
    {
      "cell_type": "markdown",
      "metadata": {
        "id": "aIdOvsMaTcpU"
      },
      "source": [
        "파이썬 모듈을 사용하기 위해서는 import를 해야 합니다.  \n",
        "많은 사람들이 import 하는 방식을 사용하는 것이 가독성을 높일 수 있습니다."
      ]
    },
    {
      "cell_type": "code",
      "execution_count": 1,
      "metadata": {
        "id": "PJvBRHUzTcpV"
      },
      "outputs": [],
      "source": [
        "import numpy as np\n",
        "import numpy\n",
        "from numpy import abs"
      ]
    },
    {
      "cell_type": "markdown",
      "metadata": {
        "id": "Vfs7oelMTcpV"
      },
      "source": [
        "## NdArray"
      ]
    },
    {
      "cell_type": "markdown",
      "metadata": {
        "id": "6a4Fum1XTcpW"
      },
      "source": [
        "넘파이에서는 배열을 효과적으로 관리하기 위한 ndarray 객체를 제공합니다. 이는 파이썬 기본 자료구조인 리스트 (튜플)을 <b>업그레이드</b> 해서 보다 향상된 기능을 제공합니다. 리스트를 상속받아 더 많은 기능을 구현해서 사용성을 높이는 것으로 추측해 볼 수 있죠?"
      ]
    },
    {
      "cell_type": "code",
      "execution_count": 2,
      "metadata": {
        "id": "igk1Zx6uTcpW",
        "outputId": "f6423c74-e97d-438b-d0b9-319b3abc391d",
        "colab": {
          "base_uri": "https://localhost:8080/"
        }
      },
      "outputs": [
        {
          "output_type": "stream",
          "name": "stdout",
          "text": [
            "<class 'numpy.ndarray'>\n"
          ]
        }
      ],
      "source": [
        "arr = [1, 2, 3, 4]\n",
        "a = np.array(arr)\n",
        "print( type (a) )"
      ]
    },
    {
      "cell_type": "markdown",
      "metadata": {
        "id": "fOucOQRWTcpX"
      },
      "source": [
        "리스트를 업그레이드 했기 때문에 리스트가 제공하는 모든 기능을 사용할 수 있습니다. 인덱싱, 슬라이싱도 정상동작함을 확인할 수 있습니다."
      ]
    },
    {
      "cell_type": "code",
      "execution_count": 4,
      "metadata": {
        "id": "tdN9fuqGTcpY",
        "outputId": "b169e0bb-b62b-492a-abe1-d7d7f24df36b",
        "colab": {
          "base_uri": "https://localhost:8080/"
        }
      },
      "outputs": [
        {
          "output_type": "stream",
          "name": "stdout",
          "text": [
            "1\n",
            "4\n",
            "[2 3]\n"
          ]
        }
      ],
      "source": [
        "print(a[0])\n",
        "print(a[-1])\n",
        "print(a[1:3])\n"
      ]
    },
    {
      "cell_type": "markdown",
      "metadata": {
        "id": "b9hQ5b1gTcpY"
      },
      "source": [
        "`zeros` 함수를 사용하면 0으로 채워진 `ndarray`를 만들 수 있습니다. "
      ]
    },
    {
      "cell_type": "code",
      "execution_count": 5,
      "metadata": {
        "id": "WdCTJ7jmTcpY",
        "outputId": "a0d5e27e-bd16-4fdc-cf39-68c0e7b079d7",
        "colab": {
          "base_uri": "https://localhost:8080/"
        }
      },
      "outputs": [
        {
          "output_type": "execute_result",
          "data": {
            "text/plain": [
              "array([0, 0, 0])"
            ]
          },
          "metadata": {},
          "execution_count": 5
        }
      ],
      "source": [
        "np.zeros(3, dtype=int)\n",
        "\n"
      ]
    },
    {
      "cell_type": "markdown",
      "metadata": {
        "id": "EUncPxUFTcpZ"
      },
      "source": [
        "`ones` 함수를 사용하면 1로 채워진 `ndarray`를 만들 수 있습니다. "
      ]
    },
    {
      "cell_type": "code",
      "execution_count": 6,
      "metadata": {
        "id": "7zkjIC2wTcpZ",
        "outputId": "c6f42a8a-582f-46e4-ecf3-9ed8825ba7b6",
        "colab": {
          "base_uri": "https://localhost:8080/"
        }
      },
      "outputs": [
        {
          "output_type": "execute_result",
          "data": {
            "text/plain": [
              "array([1, 1, 1])"
            ]
          },
          "metadata": {},
          "execution_count": 6
        }
      ],
      "source": [
        "np.ones(3, dtype=int)\n",
        "\n",
        "\n"
      ]
    },
    {
      "cell_type": "markdown",
      "metadata": {
        "id": "N3S_q1nBTcpZ"
      },
      "source": [
        "튜플로 x, y 크기를 지정하면 2차원 형태로 배열이 생성됩니다. "
      ]
    },
    {
      "cell_type": "code",
      "execution_count": 8,
      "metadata": {
        "id": "l672kf42TcpZ",
        "outputId": "2f9610aa-4003-48cb-b9f0-3e1b7e80e4ea",
        "colab": {
          "base_uri": "https://localhost:8080/"
        }
      },
      "outputs": [
        {
          "output_type": "execute_result",
          "data": {
            "text/plain": [
              "array([[1, 1, 1],\n",
              "       [1, 1, 1],\n",
              "       [1, 1, 1]])"
            ]
          },
          "metadata": {},
          "execution_count": 8
        }
      ],
      "source": [
        "np.ones((3,3), dtype=int)\n",
        "\n",
        "\n"
      ]
    },
    {
      "cell_type": "markdown",
      "metadata": {
        "id": "pa6RipjvTcpa"
      },
      "source": [
        "이차원 데이터가 저장된 리스트도 한 번에 ndarray로 변환할 수 있습니다.   \n",
        "리스트에 저장된 다음 값은 `arr = [[1, 2], [3, 4]]` 아래 그림과 같은 구조를 표현합니다. "
      ]
    },
    {
      "cell_type": "markdown",
      "metadata": {
        "id": "dAlPd0fVTcpa"
      },
      "source": [
        "<img src=\"https://i.ibb.co/6g96V6V/numpy-0.png\" width=\"300\" style=\"float:left\" />"
      ]
    },
    {
      "cell_type": "code",
      "execution_count": 10,
      "metadata": {
        "id": "eA4aND54Tcpa",
        "outputId": "fd40ab73-b79d-4f1b-bddd-1796f00cd189",
        "colab": {
          "base_uri": "https://localhost:8080/"
        }
      },
      "outputs": [
        {
          "output_type": "stream",
          "name": "stdout",
          "text": [
            "[[1 2]\n",
            " [3 4]]\n"
          ]
        }
      ],
      "source": [
        "arr = [[1, 2], [3, 4]]\n",
        "\n",
        "a = np.array(arr)\n",
        "print(a)\n",
        "\n"
      ]
    },
    {
      "cell_type": "markdown",
      "metadata": {
        "id": "_BJMQWGFTcpa"
      },
      "source": [
        "`vstack` 함수는 두 개의 `ndarray`를 `vertical` 방향으로 합칩니다. 이 때 전달하는 `ndarray`는 리스트로 정의해서 파라미터로 전달해야 합니다. "
      ]
    },
    {
      "cell_type": "code",
      "execution_count": 14,
      "metadata": {
        "id": "l7y5iVVETcpa",
        "outputId": "fde9e30e-fd97-477e-e722-04912f8d95e4",
        "colab": {
          "base_uri": "https://localhost:8080/"
        }
      },
      "outputs": [
        {
          "output_type": "stream",
          "name": "stdout",
          "text": [
            "[[1 2]\n",
            " [3 4]]\n"
          ]
        }
      ],
      "source": [
        "a = [1,2]\n",
        "b = [3,4]\n",
        "c = np.vstack((a,b))\n",
        "print(c)\n",
        "\n"
      ]
    },
    {
      "cell_type": "markdown",
      "metadata": {
        "id": "o1xAAWhiTcpb"
      },
      "source": [
        "`hstack` 함수는 두 개의 `ndarray`를 `horizontal` 방향으로 합칩니다."
      ]
    },
    {
      "cell_type": "code",
      "execution_count": null,
      "metadata": {
        "id": "9l4AJabfTcpb",
        "outputId": "4a4379a7-de88-4742-b5ff-95989d4a0b62"
      },
      "outputs": [
        {
          "name": "stdout",
          "output_type": "stream",
          "text": [
            "[1 2 3 4]\n"
          ]
        }
      ],
      "source": [
        "\n",
        "\n",
        "\n",
        "\n",
        "\n"
      ]
    },
    {
      "cell_type": "markdown",
      "metadata": {
        "id": "nL7XALltTcpb"
      },
      "source": [
        "reshape은 차원을 재정의 합니다. "
      ]
    },
    {
      "cell_type": "code",
      "execution_count": 21,
      "metadata": {
        "id": "TxogG1e3Tcpb",
        "outputId": "52a8d5d8-8902-485c-dc6c-4d30a9eaa420",
        "colab": {
          "base_uri": "https://localhost:8080/"
        }
      },
      "outputs": [
        {
          "output_type": "stream",
          "name": "stdout",
          "text": [
            "[1 2 3 4 5 6 7 8]\n",
            "[[[1 2]\n",
            "  [3 4]]\n",
            "\n",
            " [[5 6]\n",
            "  [7 8]]]\n"
          ]
        }
      ],
      "source": [
        "arr = [1, 2, 3, 4,5,6,7,8]\n",
        "a = np.array(arr)\n",
        "print(a)\n",
        "\n",
        "print(a.reshape( (2,2,2) ))\n",
        "\n"
      ]
    },
    {
      "cell_type": "code",
      "source": [
        "b = a.reshape([2,4])\n",
        "b"
      ],
      "metadata": {
        "id": "qjo4AHhydOWL",
        "outputId": "90dd3ded-5149-488b-f9c6-d5e25f2a5fcb",
        "colab": {
          "base_uri": "https://localhost:8080/"
        }
      },
      "execution_count": 23,
      "outputs": [
        {
          "output_type": "execute_result",
          "data": {
            "text/plain": [
              "array([[1, 2, 3, 4],\n",
              "       [5, 6, 7, 8]])"
            ]
          },
          "metadata": {},
          "execution_count": 23
        }
      ]
    },
    {
      "cell_type": "markdown",
      "metadata": {
        "id": "2GHvcWnYTcpc"
      },
      "source": [
        "넘파이의 `arange()` 함수는 `range()` 함수와 유사하게 호출할 수 있으며, 결괏값으로 `ndarray`를 반환합니다. "
      ]
    },
    {
      "cell_type": "code",
      "execution_count": 20,
      "metadata": {
        "id": "4HFilgA-Tcpc",
        "outputId": "929e9629-8019-4221-bcb6-ead1a537686c",
        "colab": {
          "base_uri": "https://localhost:8080/"
        }
      },
      "outputs": [
        {
          "output_type": "stream",
          "name": "stdout",
          "text": [
            "[0 1 2 3]\n"
          ]
        }
      ],
      "source": [
        "a = np.arange(4)\n",
        "print(a)\n",
        "\n"
      ]
    },
    {
      "cell_type": "markdown",
      "metadata": {
        "id": "dzDQVl1vTcpc"
      },
      "source": [
        "시작/끝/증감폭을 지정할 수 있습니다."
      ]
    },
    {
      "cell_type": "code",
      "execution_count": null,
      "metadata": {
        "id": "86bX_zmiTcpc"
      },
      "outputs": [],
      "source": [
        ""
      ]
    },
    {
      "cell_type": "markdown",
      "metadata": {
        "id": "nEUvj1GfTcpc"
      },
      "source": [
        "다음 2차원 `ndarray`에는 총 3개의 데이터가 있습니다. \n",
        "```\n",
        "[  데이터1 \n",
        "   데이터2\n",
        "   데이터3 ]\n",
        "```\n",
        "그리고 각각의 데이터에는 다시 `ndarray`가 들어 있습니다."
      ]
    },
    {
      "cell_type": "code",
      "execution_count": 86,
      "metadata": {
        "id": "CtbHtBuNTcpc"
      },
      "outputs": [],
      "source": [
        "a = np.arange(9).reshape(3,3)\n",
        "\n",
        "\n"
      ]
    },
    {
      "cell_type": "markdown",
      "metadata": {
        "id": "56E4WwOwTcpc"
      },
      "source": [
        "## NdArray의 인덱싱과 슬라이싱"
      ]
    },
    {
      "cell_type": "markdown",
      "metadata": {
        "id": "SbK_VoGhTcpc"
      },
      "source": [
        "0번째 들어있는 데이터를 인덱싱으로 출력하면 `ndarray`가 출력됩니다. "
      ]
    },
    {
      "cell_type": "code",
      "execution_count": null,
      "metadata": {
        "id": "JnZyXXX2Tcpc",
        "outputId": "f451f6bd-fdd8-47fd-8e68-fb36b6f7fe7d"
      },
      "outputs": [
        {
          "name": "stdout",
          "output_type": "stream",
          "text": [
            "[0 1 2]\n"
          ]
        }
      ],
      "source": [
        "print(a[0])"
      ]
    },
    {
      "cell_type": "markdown",
      "metadata": {
        "id": "J4y9XeI1Tcpc"
      },
      "source": [
        "<img src=\"https://i.ibb.co/hcYQ0sn/numpy-1.png\" width=\"300\" style=\"float:left\" />"
      ]
    },
    {
      "cell_type": "markdown",
      "metadata": {
        "id": "nl4Y_o39Tcpc"
      },
      "source": [
        "하나의 값을 출력하려면 또 다시 인덱싱을 사용하면 되겠죠? 첫 번째 행의 두 번째 열에 있는 값 (`1`)을 출력해 봅시다."
      ]
    },
    {
      "cell_type": "code",
      "execution_count": 28,
      "metadata": {
        "id": "RJM--DmjTcpd",
        "outputId": "4caf03da-c519-43a5-d5c1-40adf7d6dbf3",
        "colab": {
          "base_uri": "https://localhost:8080/"
        }
      },
      "outputs": [
        {
          "output_type": "execute_result",
          "data": {
            "text/plain": [
              "1"
            ]
          },
          "metadata": {},
          "execution_count": 28
        }
      ],
      "source": [
        "a = np.arange(9).reshape(3,3)\n",
        "a[0][1]"
      ]
    },
    {
      "cell_type": "markdown",
      "metadata": {
        "id": "qJmHg7tDTcpd"
      },
      "source": [
        "<img src=\"https://i.ibb.co/MNMwS45/numpy-2.png\" width=\"300\" style=\"float:left\" />"
      ]
    },
    {
      "cell_type": "markdown",
      "metadata": {
        "id": "ocD52sPVTcpd"
      },
      "source": [
        "슬라이싱으로 0번, 1번 두 개의 줄을 선택하기 "
      ]
    },
    {
      "cell_type": "code",
      "execution_count": 30,
      "metadata": {
        "id": "43T2JzieTcpd",
        "outputId": "238a2bde-162a-4d97-c48e-788e9f78367c",
        "colab": {
          "base_uri": "https://localhost:8080/"
        }
      },
      "outputs": [
        {
          "output_type": "execute_result",
          "data": {
            "text/plain": [
              "array([[0, 1, 2],\n",
              "       [3, 4, 5]])"
            ]
          },
          "metadata": {},
          "execution_count": 30
        }
      ],
      "source": [
        "a[0:2]"
      ]
    },
    {
      "cell_type": "markdown",
      "metadata": {
        "id": "b7UWT5gKTcpd"
      },
      "source": [
        "<img src=\"https://i.ibb.co/zmKXhbY/numpy-3.png\" width=\"300\" style=\"float:left\" />"
      ]
    },
    {
      "cell_type": "markdown",
      "metadata": {
        "id": "_WGMXnXoTcpd"
      },
      "source": [
        "불연속적인 행 선택하기"
      ]
    },
    {
      "cell_type": "code",
      "execution_count": 38,
      "metadata": {
        "id": "QPKHaGoaTcpd",
        "outputId": "ab7cf2ea-ef0e-4bf4-db7e-d4df86cc5467",
        "colab": {
          "base_uri": "https://localhost:8080/"
        }
      },
      "outputs": [
        {
          "output_type": "execute_result",
          "data": {
            "text/plain": [
              "array([[0, 1, 2],\n",
              "       [6, 7, 8]])"
            ]
          },
          "metadata": {},
          "execution_count": 38
        }
      ],
      "source": [
        "a[::2]"
      ]
    },
    {
      "cell_type": "code",
      "source": [
        "a = np.arange(12).reshape(4,3)\n",
        "a"
      ],
      "metadata": {
        "id": "QsXjKMS8jPUo",
        "outputId": "d0f976e2-a832-4d1c-a1b7-75b89533e6fa",
        "colab": {
          "base_uri": "https://localhost:8080/"
        }
      },
      "execution_count": 42,
      "outputs": [
        {
          "output_type": "execute_result",
          "data": {
            "text/plain": [
              "array([[ 0,  1,  2],\n",
              "       [ 3,  4,  5],\n",
              "       [ 6,  7,  8],\n",
              "       [ 9, 10, 11]])"
            ]
          },
          "metadata": {},
          "execution_count": 42
        }
      ]
    },
    {
      "cell_type": "code",
      "source": [
        "리스트 = [0,2,3]\n",
        "a[리스트]"
      ],
      "metadata": {
        "id": "B4h-YEudjyVb",
        "outputId": "0b4710fd-e421-46bc-8380-90bef1e72214",
        "colab": {
          "base_uri": "https://localhost:8080/"
        }
      },
      "execution_count": 43,
      "outputs": [
        {
          "output_type": "execute_result",
          "data": {
            "text/plain": [
              "array([[ 0,  1,  2],\n",
              "       [ 6,  7,  8],\n",
              "       [ 9, 10, 11]])"
            ]
          },
          "metadata": {},
          "execution_count": 43
        }
      ]
    },
    {
      "cell_type": "code",
      "source": [
        "a[[0,0,3,1]]"
      ],
      "metadata": {
        "id": "qY8FH0g_kDsa",
        "outputId": "f04dcdb8-13d0-4fbb-e22a-0090466ad78f",
        "colab": {
          "base_uri": "https://localhost:8080/"
        }
      },
      "execution_count": 44,
      "outputs": [
        {
          "output_type": "execute_result",
          "data": {
            "text/plain": [
              "array([[ 0,  1,  2],\n",
              "       [ 0,  1,  2],\n",
              "       [ 9, 10, 11],\n",
              "       [ 3,  4,  5]])"
            ]
          },
          "metadata": {},
          "execution_count": 44
        }
      ]
    },
    {
      "cell_type": "markdown",
      "metadata": {
        "id": "2Escq-tjTcpd"
      },
      "source": [
        "0번 1번 행과 0번 1번 열을 선택하기"
      ]
    },
    {
      "cell_type": "code",
      "source": [
        "%timeit a[2][2]"
      ],
      "metadata": {
        "id": "yQgKhXhgki2s",
        "outputId": "85bc67f2-eaed-4c7f-f84e-53ce15e22837",
        "colab": {
          "base_uri": "https://localhost:8080/"
        }
      },
      "execution_count": 87,
      "outputs": [
        {
          "output_type": "stream",
          "name": "stdout",
          "text": [
            "The slowest run took 50.32 times longer than the fastest. This could mean that an intermediate result is being cached.\n",
            "1000000 loops, best of 5: 239 ns per loop\n"
          ]
        }
      ]
    },
    {
      "cell_type": "code",
      "source": [
        "%timeit a[2,2]"
      ],
      "metadata": {
        "id": "6h1RA9oGl23z",
        "outputId": "501507f2-f849-466f-dfa1-be91c33d68d6",
        "colab": {
          "base_uri": "https://localhost:8080/"
        }
      },
      "execution_count": 88,
      "outputs": [
        {
          "output_type": "stream",
          "name": "stdout",
          "text": [
            "The slowest run took 394.17 times longer than the fastest. This could mean that an intermediate result is being cached.\n",
            "10000000 loops, best of 5: 121 ns per loop\n"
          ]
        }
      ]
    },
    {
      "cell_type": "code",
      "execution_count": 32,
      "metadata": {
        "id": "bjbRrg5mTcpd",
        "outputId": "cdfe04c2-45b8-4647-cdee-fe3de49f305a",
        "colab": {
          "base_uri": "https://localhost:8080/"
        }
      },
      "outputs": [
        {
          "output_type": "execute_result",
          "data": {
            "text/plain": [
              "array([[0, 1],\n",
              "       [3, 4]])"
            ]
          },
          "metadata": {},
          "execution_count": 32
        }
      ],
      "source": [
        "a[:2,:2]"
      ]
    },
    {
      "cell_type": "markdown",
      "metadata": {
        "id": "LWb8u79RTcpd"
      },
      "source": [
        "<img src=\"https://i.ibb.co/N7dnqtj/numpy-4.png\" width=\"300\" style=\"float:left\" />"
      ]
    },
    {
      "cell_type": "markdown",
      "metadata": {
        "id": "zWaQNHJ7Tcpd"
      },
      "source": [
        "불연속적인 행출력하기"
      ]
    },
    {
      "cell_type": "code",
      "execution_count": 63,
      "metadata": {
        "id": "yEAWWwtVTcpd",
        "outputId": "e6c7c625-9609-4ba6-f550-dcb4d08b843f",
        "colab": {
          "base_uri": "https://localhost:8080/"
        }
      },
      "outputs": [
        {
          "output_type": "execute_result",
          "data": {
            "text/plain": [
              "array([[ 0,  1],\n",
              "       [ 9, 10]])"
            ]
          },
          "metadata": {},
          "execution_count": 63
        }
      ],
      "source": [
        "a[[0,3],:2]\n",
        "\n"
      ]
    },
    {
      "cell_type": "markdown",
      "metadata": {
        "id": "Lov0n5G3Tcpd"
      },
      "source": [
        "불연속적인 열출력하기"
      ]
    },
    {
      "cell_type": "code",
      "execution_count": 65,
      "metadata": {
        "id": "fmliKjpnTcpd",
        "outputId": "b5228410-69ac-4106-9153-323c20b86de8",
        "colab": {
          "base_uri": "https://localhost:8080/"
        }
      },
      "outputs": [
        {
          "output_type": "execute_result",
          "data": {
            "text/plain": [
              "array([[ 0,  2],\n",
              "       [ 3,  5],\n",
              "       [ 6,  8],\n",
              "       [ 9, 11]])"
            ]
          },
          "metadata": {},
          "execution_count": 65
        }
      ],
      "source": [
        "a[ : ,[0,2]]\n",
        "\n",
        "\n"
      ]
    },
    {
      "cell_type": "markdown",
      "metadata": {
        "id": "WoRkXl63Tcpd"
      },
      "source": [
        "## Numpy의 다양한 속성값"
      ]
    },
    {
      "cell_type": "code",
      "execution_count": 67,
      "metadata": {
        "id": "4ODOpKCfTcpe",
        "outputId": "742b33a5-c9f8-4e21-bfa8-ff5d0c3e28d2",
        "colab": {
          "base_uri": "https://localhost:8080/"
        }
      },
      "outputs": [
        {
          "output_type": "stream",
          "name": "stdout",
          "text": [
            "int64\n"
          ]
        }
      ],
      "source": [
        "a = np.arange(4)\n",
        "print(a.dtype)"
      ]
    },
    {
      "cell_type": "markdown",
      "metadata": {
        "id": "BZyasZUvTcpe"
      },
      "source": [
        "`shape` 속성은 데이터의 크기를 출력합니다. "
      ]
    },
    {
      "cell_type": "code",
      "execution_count": 68,
      "metadata": {
        "id": "GATGbw4aTcpe",
        "outputId": "a3afa4cb-03ac-45df-aedc-f82966aa1992",
        "colab": {
          "base_uri": "https://localhost:8080/"
        }
      },
      "outputs": [
        {
          "output_type": "execute_result",
          "data": {
            "text/plain": [
              "(4,)"
            ]
          },
          "metadata": {},
          "execution_count": 68
        }
      ],
      "source": [
        "a.shape"
      ]
    },
    {
      "cell_type": "markdown",
      "metadata": {
        "id": "8kPlOnLwTcpe"
      },
      "source": [
        "이차원 데이터에서도 정상동작 합니다. "
      ]
    },
    {
      "cell_type": "code",
      "execution_count": 69,
      "metadata": {
        "id": "PnOEpQq-Tcpe",
        "outputId": "0ae6b55e-b77b-4b49-8457-45e8cf521292",
        "colab": {
          "base_uri": "https://localhost:8080/"
        }
      },
      "outputs": [
        {
          "output_type": "stream",
          "name": "stdout",
          "text": [
            "(3, 2)\n"
          ]
        }
      ],
      "source": [
        "a = np.arange(6).reshape(3, 2)\n",
        "print(a.shape)"
      ]
    },
    {
      "cell_type": "code",
      "execution_count": 70,
      "metadata": {
        "id": "aAjgTEwkTcpe",
        "outputId": "b4f8b721-77b0-474d-9229-2a425d54838b",
        "colab": {
          "base_uri": "https://localhost:8080/"
        }
      },
      "outputs": [
        {
          "output_type": "stream",
          "name": "stdout",
          "text": [
            "2\n"
          ]
        }
      ],
      "source": [
        "a = np.arange(6).reshape(3, 2)\n",
        "print(a.ndim)"
      ]
    },
    {
      "cell_type": "code",
      "execution_count": null,
      "metadata": {
        "id": "74CH1EXsTcpe"
      },
      "outputs": [],
      "source": [
        ""
      ]
    },
    {
      "cell_type": "markdown",
      "metadata": {
        "id": "gugcLoFzTcpe"
      },
      "source": [
        "`reshape`으로 다시 1차원으로 변경할 수 있습니다."
      ]
    },
    {
      "cell_type": "code",
      "execution_count": 71,
      "metadata": {
        "id": "t0dErsvrTcpe",
        "outputId": "6c8488e3-4ea0-42df-f875-b815f4274532",
        "colab": {
          "base_uri": "https://localhost:8080/"
        }
      },
      "outputs": [
        {
          "output_type": "execute_result",
          "data": {
            "text/plain": [
              "array([0, 1, 2, 3, 4, 5])"
            ]
          },
          "metadata": {},
          "execution_count": 71
        }
      ],
      "source": [
        "a.reshape(6)"
      ]
    },
    {
      "cell_type": "code",
      "source": [
        "a.reshape(-1)"
      ],
      "metadata": {
        "id": "8rXDxCR4p4O4",
        "outputId": "8cdb5979-8a0c-4e08-bc25-de21345cb9cb",
        "colab": {
          "base_uri": "https://localhost:8080/"
        }
      },
      "execution_count": 73,
      "outputs": [
        {
          "output_type": "execute_result",
          "data": {
            "text/plain": [
              "array([0, 1, 2, 3, 4, 5])"
            ]
          },
          "metadata": {},
          "execution_count": 73
        }
      ]
    },
    {
      "cell_type": "markdown",
      "metadata": {
        "id": "dk-mdttSTcpe"
      },
      "source": [
        "`flat` 속성과 형변환을 통해 1차원으로 변경할 수도 있습니다."
      ]
    },
    {
      "cell_type": "code",
      "execution_count": 72,
      "metadata": {
        "id": "RUn7BsjDTcpe",
        "outputId": "23b688c1-c051-43aa-b0da-77f45d7765d6",
        "colab": {
          "base_uri": "https://localhost:8080/"
        }
      },
      "outputs": [
        {
          "output_type": "execute_result",
          "data": {
            "text/plain": [
              "array([0, 1, 2, 3, 4, 5])"
            ]
          },
          "metadata": {},
          "execution_count": 72
        }
      ],
      "source": [
        "a.flatten()"
      ]
    },
    {
      "cell_type": "markdown",
      "metadata": {
        "id": "SMPI7OVBTcpe"
      },
      "source": [
        "Q. 학생들의 점수를 ndarray로 표현하라.\n",
        "- 문자열을 제외하고 점수만 표현"
      ]
    },
    {
      "cell_type": "markdown",
      "metadata": {
        "id": "4Oif8nR7Tcpe"
      },
      "source": [
        "<img src=\"https://i.ibb.co/Rcsc9d2/numpy-5.png\" width=\"250\" style=\"float:left\" />"
      ]
    },
    {
      "cell_type": "code",
      "execution_count": 74,
      "metadata": {
        "id": "1evCxK-STcpe",
        "outputId": "a750f0b7-4a02-40b4-c2d2-bb591d58b6a6",
        "colab": {
          "base_uri": "https://localhost:8080/"
        }
      },
      "outputs": [
        {
          "output_type": "execute_result",
          "data": {
            "text/plain": [
              "array([[30, 25, 66],\n",
              "       [23, 44, 23]])"
            ]
          },
          "metadata": {},
          "execution_count": 74
        }
      ],
      "source": [
        "arr = [30, 25, 66, 23, 44, 23]\n",
        "a = np.array(arr).reshape(2,3)\n",
        "a"
      ]
    },
    {
      "cell_type": "markdown",
      "metadata": {
        "id": "A3F0_0eHTcpe"
      },
      "source": [
        "Q. 기말고사 점수의 합을 출력하라.\n",
        "- `sum()` 함수 사용"
      ]
    },
    {
      "cell_type": "markdown",
      "metadata": {
        "id": "0kuX5_tzTcpe"
      },
      "source": [
        "<img src=\"https://github.com/y001003/yeardream/blob/main/python_basic/image/6.png?raw=1\" width=\"250\" style=\"float:left\" />"
      ]
    },
    {
      "cell_type": "code",
      "execution_count": 75,
      "metadata": {
        "id": "aJvI0HjgTcpe",
        "outputId": "b6ef7cb5-dedd-4ec3-d343-d89ecb606c47",
        "colab": {
          "base_uri": "https://localhost:8080/"
        }
      },
      "outputs": [
        {
          "output_type": "execute_result",
          "data": {
            "text/plain": [
              "90"
            ]
          },
          "metadata": {},
          "execution_count": 75
        }
      ],
      "source": [
        "np.sum(a[1])"
      ]
    },
    {
      "cell_type": "code",
      "source": [
        "a.sum(axis=0)"
      ],
      "metadata": {
        "id": "iqikVnTxrcgS",
        "outputId": "b2dcb0ac-d785-4b3e-9f24-6600d97ef5f5",
        "colab": {
          "base_uri": "https://localhost:8080/"
        }
      },
      "execution_count": 78,
      "outputs": [
        {
          "output_type": "execute_result",
          "data": {
            "text/plain": [
              "array([53, 69, 89])"
            ]
          },
          "metadata": {},
          "execution_count": 78
        }
      ]
    },
    {
      "cell_type": "code",
      "source": [
        "a.sum(axis=1)"
      ],
      "metadata": {
        "id": "9AmQcrjJrfjY",
        "outputId": "5ad55748-c9de-4320-b725-3565c055884f",
        "colab": {
          "base_uri": "https://localhost:8080/"
        }
      },
      "execution_count": 79,
      "outputs": [
        {
          "output_type": "execute_result",
          "data": {
            "text/plain": [
              "array([121,  90])"
            ]
          },
          "metadata": {},
          "execution_count": 79
        }
      ]
    },
    {
      "cell_type": "markdown",
      "metadata": {
        "id": "oE4L_RGNTcpe"
      },
      "source": [
        "Q. 영어점수의 평균을 출력하라."
      ]
    },
    {
      "cell_type": "markdown",
      "metadata": {
        "id": "DpPlriAZTcpf"
      },
      "source": [
        "<img src=\"https://github.com/y001003/yeardream/blob/main/python_basic/image/7.png?raw=1\" width=\"250\" style=\"float:left\" />"
      ]
    },
    {
      "cell_type": "code",
      "execution_count": 82,
      "metadata": {
        "id": "Jw8YBVLgTcpf",
        "outputId": "9c27c7ee-17f3-4e1c-e43f-11abedeafba1",
        "colab": {
          "base_uri": "https://localhost:8080/"
        }
      },
      "outputs": [
        {
          "output_type": "execute_result",
          "data": {
            "text/plain": [
              "34.5"
            ]
          },
          "metadata": {},
          "execution_count": 82
        }
      ],
      "source": [
        "a[:,1].mean()"
      ]
    },
    {
      "cell_type": "markdown",
      "metadata": {
        "id": "wyP9DgKfTcpf"
      },
      "source": [
        "축 정보 axis "
      ]
    },
    {
      "cell_type": "code",
      "execution_count": 84,
      "metadata": {
        "id": "gc1L2VwLTcpf",
        "outputId": "d3298e04-83fe-4dc9-9687-51d0984a007f",
        "colab": {
          "base_uri": "https://localhost:8080/"
        }
      },
      "outputs": [
        {
          "output_type": "stream",
          "name": "stdout",
          "text": [
            "[26.5 34.5 44.5]\n"
          ]
        }
      ],
      "source": [
        "print(a.mean(axis=0))\n",
        "\n",
        "\n",
        "\n"
      ]
    },
    {
      "cell_type": "markdown",
      "metadata": {
        "id": "2KSiq-nPTcpf"
      },
      "source": [
        "###### 3차원데이터"
      ]
    },
    {
      "cell_type": "code",
      "execution_count": null,
      "metadata": {
        "id": "a9TeCYeLTcpf"
      },
      "outputs": [],
      "source": [
        ""
      ]
    },
    {
      "cell_type": "markdown",
      "metadata": {
        "id": "L5WwGPMITcpf"
      },
      "source": [
        "## reshape 메서드의 이해"
      ]
    },
    {
      "cell_type": "markdown",
      "metadata": {
        "id": "eKcicqXhTcpf"
      },
      "source": [
        "같은 메모리를 공유하며 보여지는 결과만 다른 다른 뷰 (view) 사용합니다. "
      ]
    },
    {
      "cell_type": "code",
      "execution_count": null,
      "metadata": {
        "id": "_FboM-nfTcpf",
        "outputId": "e1d1a593-a63b-45f5-dec0-cf2f22c45a4d"
      },
      "outputs": [
        {
          "data": {
            "text/plain": [
              "1537299995344"
            ]
          },
          "execution_count": 3,
          "metadata": {},
          "output_type": "execute_result"
        }
      ],
      "source": [
        "a = np.arange(9)\n",
        "id(a)"
      ]
    },
    {
      "cell_type": "code",
      "execution_count": null,
      "metadata": {
        "id": "ZPEpjheDTcpf",
        "outputId": "7f4ee984-983e-4539-983a-e82dedd4edeb"
      },
      "outputs": [
        {
          "data": {
            "text/plain": [
              "1537300507504"
            ]
          },
          "execution_count": 4,
          "metadata": {},
          "output_type": "execute_result"
        }
      ],
      "source": [
        "b = a.reshape(3, 3)\n",
        "id(b)"
      ]
    },
    {
      "cell_type": "markdown",
      "metadata": {
        "id": "OTpt3iaPTcpf"
      },
      "source": [
        "`base` 속성에는 원본 데이터의 위치가 기록돼 있습니다. "
      ]
    },
    {
      "cell_type": "code",
      "execution_count": null,
      "metadata": {
        "id": "9dJEB3dfTcpf",
        "outputId": "1742bc29-6255-4ccc-f8d3-041eb11ab13e"
      },
      "outputs": [
        {
          "data": {
            "text/plain": [
              "1537299995344"
            ]
          },
          "execution_count": 5,
          "metadata": {},
          "output_type": "execute_result"
        }
      ],
      "source": [
        ""
      ]
    },
    {
      "cell_type": "markdown",
      "metadata": {
        "id": "IbG_xJ19Tcpf"
      },
      "source": [
        "`a`의 값을 변경한 뒤에 `b`의 값을 확인해 봅시다. "
      ]
    },
    {
      "cell_type": "code",
      "execution_count": null,
      "metadata": {
        "id": "3EQ5doFJTcpf"
      },
      "outputs": [],
      "source": [
        ""
      ]
    },
    {
      "cell_type": "markdown",
      "metadata": {
        "id": "gaPFtcDrTcpf"
      },
      "source": [
        "복사본을 만들고 싶다면 `copy`를 사용합니다."
      ]
    },
    {
      "cell_type": "code",
      "execution_count": null,
      "metadata": {
        "id": "zzafMRYATcpf"
      },
      "outputs": [],
      "source": [
        ""
      ]
    },
    {
      "cell_type": "markdown",
      "metadata": {
        "id": "j3wJz_FXTcpf"
      },
      "source": [
        "얕은 복사 (shallow copy)와 깊은 복사 (deep copy)"
      ]
    },
    {
      "cell_type": "code",
      "execution_count": null,
      "metadata": {
        "id": "97tyW028Tcpf"
      },
      "outputs": [],
      "source": [
        ""
      ]
    },
    {
      "cell_type": "markdown",
      "metadata": {
        "id": "kzijVO7eTcpg"
      },
      "source": [
        "`is`와 `==`"
      ]
    },
    {
      "cell_type": "code",
      "execution_count": null,
      "metadata": {
        "id": "iLjRyrwHTcpg"
      },
      "outputs": [],
      "source": [
        ""
      ]
    },
    {
      "cell_type": "markdown",
      "metadata": {
        "id": "JPRnx-0QTcpg"
      },
      "source": [
        "## numpy와 함수  및 메서드\n",
        "numpy는 수치연산과 관련된 다양한 함수를 제공합니다. "
      ]
    },
    {
      "cell_type": "markdown",
      "metadata": {
        "id": "EzMyXIVKTcpg"
      },
      "source": [
        "`random.randn(숫자)` 메서드는 `0`부터 `숫자 - 1` 범위의 임의의 수를 반환합니다. "
      ]
    },
    {
      "cell_type": "code",
      "execution_count": null,
      "metadata": {
        "id": "mGC71Ja2Tcpg",
        "outputId": "c53b8c1f-8974-406d-9da0-3f34ddca7a60"
      },
      "outputs": [
        {
          "name": "stdout",
          "output_type": "stream",
          "text": [
            "3\n"
          ]
        }
      ],
      "source": [
        "num = np.random.randint(5)\n",
        "print(num)"
      ]
    },
    {
      "cell_type": "markdown",
      "metadata": {
        "id": "tiAvDJUHTcpg"
      },
      "source": [
        "시작값과 끝값을 지정할 수도 있습니다. "
      ]
    },
    {
      "cell_type": "code",
      "execution_count": null,
      "metadata": {
        "id": "VWTBe2OHTcpg",
        "outputId": "8c725482-f64b-469f-d2b9-08da539f924c"
      },
      "outputs": [
        {
          "data": {
            "text/plain": [
              "2"
            ]
          },
          "execution_count": 13,
          "metadata": {},
          "output_type": "execute_result"
        }
      ],
      "source": [
        "\n"
      ]
    },
    {
      "cell_type": "markdown",
      "metadata": {
        "id": "uSYORlS8Tcpg"
      },
      "source": [
        "세 번째 파라미터는 size를 튜플로 지정합니다.  \n",
        "- `size=(행, 열)`"
      ]
    },
    {
      "cell_type": "code",
      "execution_count": null,
      "metadata": {
        "id": "ZCv70bX0Tcpg"
      },
      "outputs": [],
      "source": [
        ""
      ]
    },
    {
      "cell_type": "markdown",
      "metadata": {
        "id": "pDX6c9tyTcpg"
      },
      "source": [
        "`random.shuffle(ndarray)`은 ndarray의 데이터의 순서를 무작위로 변경합니다.  \n",
        "- `shuffle` 메서드는 값을 반환하지 않고 파라미터 자체를 변경합니다. "
      ]
    },
    {
      "cell_type": "code",
      "execution_count": null,
      "metadata": {
        "id": "Wax6LYqjTcpg"
      },
      "outputs": [],
      "source": [
        ""
      ]
    },
    {
      "cell_type": "markdown",
      "metadata": {
        "id": "8aixNhPYTcpg"
      },
      "source": [
        "`chioce` 메서드는 데이터를 sampling 합니다. \n",
        "- `np.random.choice(a, size=None, replace=True, p=None)`\n",
        "- a는 1차원 데이터"
      ]
    },
    {
      "cell_type": "code",
      "execution_count": null,
      "metadata": {
        "id": "twl3daiATcpg"
      },
      "outputs": [],
      "source": [
        ""
      ]
    },
    {
      "cell_type": "markdown",
      "metadata": {
        "id": "V6mSSS15Tcpg"
      },
      "source": [
        "`np.unique` 메서드는 중복된 값을 제거합니다."
      ]
    },
    {
      "cell_type": "code",
      "execution_count": null,
      "metadata": {
        "id": "6pNWb453Tcpg"
      },
      "outputs": [],
      "source": [
        ""
      ]
    },
    {
      "cell_type": "markdown",
      "metadata": {
        "id": "Bp2S0GFkTcpg"
      },
      "source": [
        "`linspace`는 구간을 입력된 개수로 분할합니다.\n",
        "- 0부터 5까지를 50개의 구간으로 분할하는 코드"
      ]
    },
    {
      "cell_type": "code",
      "execution_count": null,
      "metadata": {
        "id": "qi64iB91Tcpg",
        "outputId": "5cf11d0e-2b97-499d-a233-de9bc1820437"
      },
      "outputs": [
        {
          "data": {
            "text/plain": [
              "array([0.        , 0.10204082, 0.20408163, 0.30612245, 0.40816327,\n",
              "       0.51020408, 0.6122449 , 0.71428571, 0.81632653, 0.91836735,\n",
              "       1.02040816, 1.12244898, 1.2244898 , 1.32653061, 1.42857143,\n",
              "       1.53061224, 1.63265306, 1.73469388, 1.83673469, 1.93877551,\n",
              "       2.04081633, 2.14285714, 2.24489796, 2.34693878, 2.44897959,\n",
              "       2.55102041, 2.65306122, 2.75510204, 2.85714286, 2.95918367,\n",
              "       3.06122449, 3.16326531, 3.26530612, 3.36734694, 3.46938776,\n",
              "       3.57142857, 3.67346939, 3.7755102 , 3.87755102, 3.97959184,\n",
              "       4.08163265, 4.18367347, 4.28571429, 4.3877551 , 4.48979592,\n",
              "       4.59183673, 4.69387755, 4.79591837, 4.89795918, 5.        ])"
            ]
          },
          "execution_count": 23,
          "metadata": {},
          "output_type": "execute_result"
        }
      ],
      "source": [
        "np.linspace(0, 5, 50)"
      ]
    },
    {
      "cell_type": "markdown",
      "source": [
        "₩y = x**2₩ 그래프 그리기"
      ],
      "metadata": {
        "id": "du1ZZeHMuRZz"
      }
    },
    {
      "cell_type": "code",
      "source": [
        "x = np.array([0,1,2,3])\n",
        "y= x ** 2"
      ],
      "metadata": {
        "id": "hCkqi8huuXxz"
      },
      "execution_count": 105,
      "outputs": []
    },
    {
      "cell_type": "code",
      "source": [
        "import matplotlib.pyplot as plt\n",
        "\n",
        "plt.plot(x, y)"
      ],
      "metadata": {
        "id": "KjHCPfFZuuSp",
        "outputId": "70a570ed-9e0f-4def-e067-1dd0e3e3cadf",
        "colab": {
          "base_uri": "https://localhost:8080/",
          "height": 283
        }
      },
      "execution_count": 106,
      "outputs": [
        {
          "output_type": "execute_result",
          "data": {
            "text/plain": [
              "[<matplotlib.lines.Line2D at 0x7fafc272d050>]"
            ]
          },
          "metadata": {},
          "execution_count": 106
        },
        {
          "output_type": "display_data",
          "data": {
            "text/plain": [
              "<Figure size 432x288 with 1 Axes>"
            ],
            "image/png": "[encoded data removed]"
          },
          "metadata": {
            "needs_background": "light"
          }
        }
      ]
    },
    {
      "cell_type": "code",
      "source": [
        "x = np.linspace(0,3, 100)\n",
        "y = x **2\n",
        "plt.figure()\n",
        "plt.grid()\n",
        "plt.plot(x, y)"
      ],
      "metadata": {
        "id": "MYaElu4nvAxI",
        "outputId": "a52d20e5-9821-449f-bf88-035d2b1db376",
        "colab": {
          "base_uri": "https://localhost:8080/",
          "height": 283
        }
      },
      "execution_count": 108,
      "outputs": [
        {
          "output_type": "execute_result",
          "data": {
            "text/plain": [
              "[<matplotlib.lines.Line2D at 0x7fafc26475d0>]"
            ]
          },
          "metadata": {},
          "execution_count": 108
        },
        {
          "output_type": "display_data",
          "data": {
            "text/plain": [
              "<Figure size 432x288 with 1 Axes>"
            ],
            "image/png": "[encoded data removed]"
          },
          "metadata": {
            "needs_background": "light"
          }
        }
      ]
    },
    {
      "cell_type": "markdown",
      "metadata": {
        "id": "xOJQgaF2Tcpg"
      },
      "source": [
        "회전 "
      ]
    },
    {
      "cell_type": "markdown",
      "metadata": {
        "id": "tlfPvDNwTcpg"
      },
      "source": [
        "## 다항식 풀기"
      ]
    },
    {
      "cell_type": "markdown",
      "metadata": {
        "id": "eyCXABMyTcpg"
      },
      "source": [
        "사람과 강아지의 수는 총 4입니다. 다리의 개수는 14입니다. 사람과 강아지의 수는?  \n",
        "사람의 수를 x, 강아지의 수를 y로 정의하자.\n",
        "\n",
        "$ x + y = 4 $  \n",
        "$ 2x + 4y = 14 $"
      ]
    },
    {
      "cell_type": "markdown",
      "metadata": {
        "id": "0t513F7tTcph"
      },
      "source": [
        "행렬식으로 표현해 봅시다."
      ]
    },
    {
      "cell_type": "code",
      "execution_count": 90,
      "metadata": {
        "id": "VgHgnZmhTcph"
      },
      "outputs": [],
      "source": [
        "import numpy as np\n",
        "\n",
        "a = np.array( [\n",
        "    [1, 1],\n",
        "    [2, 4]\n",
        "])\n",
        "\n",
        "b = np.array([4, 14])"
      ]
    },
    {
      "cell_type": "markdown",
      "metadata": {
        "id": "cW6AWqeQTcph"
      },
      "source": [
        "`solve` 를 사용한 해결"
      ]
    },
    {
      "cell_type": "code",
      "execution_count": 94,
      "metadata": {
        "id": "l2xLJLx5Tcph",
        "outputId": "1d77ed62-0267-4123-a496-f1ec16f8bafc",
        "colab": {
          "base_uri": "https://localhost:8080/"
        }
      },
      "outputs": [
        {
          "output_type": "execute_result",
          "data": {
            "text/plain": [
              "array([1., 3.])"
            ]
          },
          "metadata": {},
          "execution_count": 94
        }
      ],
      "source": [
        "np.linalg.solve(a,b)"
      ]
    },
    {
      "cell_type": "markdown",
      "metadata": {
        "id": "X3D9XCuSTcph"
      },
      "source": [
        "역행렬을 사용한 해결"
      ]
    },
    {
      "cell_type": "code",
      "execution_count": 91,
      "metadata": {
        "id": "iRo6o8jQTcph"
      },
      "outputs": [],
      "source": [
        "liv_a = np.linalg.inv(a)"
      ]
    },
    {
      "cell_type": "code",
      "source": [
        "liv_a @ b"
      ],
      "metadata": {
        "id": "v61T5i-vtf-h",
        "outputId": "54e00490-e609-4ed3-c60c-4ddcd758dfc1",
        "colab": {
          "base_uri": "https://localhost:8080/"
        }
      },
      "execution_count": 93,
      "outputs": [
        {
          "output_type": "execute_result",
          "data": {
            "text/plain": [
              "array([1., 3.])"
            ]
          },
          "metadata": {},
          "execution_count": 93
        }
      ]
    },
    {
      "cell_type": "code",
      "source": [
        ""
      ],
      "metadata": {
        "id": "9lcf-T1Gtojs"
      },
      "execution_count": null,
      "outputs": []
    }
  ],
  "metadata": {
    "kernelspec": {
      "display_name": "Python 3",
      "language": "python",
      "name": "python3"
    },
    "language_info": {
      "codemirror_mode": {
        "name": "ipython",
        "version": 3
      },
      "file_extension": ".py",
      "mimetype": "text/x-python",
      "name": "python",
      "nbconvert_exporter": "python",
      "pygments_lexer": "ipython3",
      "version": "3.8.8"
    },
    "toc": {
      "base_numbering": 1,
      "nav_menu": {},
      "number_sections": true,
      "sideBar": true,
      "skip_h1_title": false,
      "title_cell": "Table of Contents",
      "title_sidebar": "Contents",
      "toc_cell": false,
      "toc_position": {},
      "toc_section_display": true,
      "toc_window_display": false
    },
    "colab": {
      "name": "1.numpy.ipynb",
      "provenance": []
    }
  },
  "nbformat": 4,
  "nbformat_minor": 0
}