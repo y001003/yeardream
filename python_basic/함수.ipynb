{
  "cells": [
    {
      "cell_type": "markdown",
      "metadata": {
        "id": "zbqGXtrz3Dmm"
      },
      "source": [
        "# 파이썬 함수\n",
        "도서관에 가면 책이 `'한국식 십진 분류표'(KDC)`에 의거하여 분야별로 분류돼 있습니다. 정해진 (표준화된) 방법을 사용하기 때문에 어떤 도서관을 가더라도 (익숙해지면) 빠르게 찾을 수 있습니다. 즉 표준화를 통해 공통된 인터페이스를 사용하면 확장성이 강해집니다.   \n",
        "```\n",
        "000 총류, 100 철학, 200 종교, 300 사회과학, 400 순수과학\n",
        "```"
      ]
    },
    {
      "cell_type": "markdown",
      "metadata": {
        "id": "D2bate1E3Dmp"
      },
      "source": [
        "## 함수 기본형"
      ]
    },
    {
      "cell_type": "markdown",
      "metadata": {
        "id": "t5NwBz7D3Dmq"
      },
      "source": [
        "함수는 코드를 정리하는 방법입니다. 정해진 문법에 맞게 코드를 나열하여 재사용성을 높이기 위해 함수를 사용합니다. `def` 키워드는 함수를 정의한다는 것을 파이썬 인터프리터에게 알리는 역할을 합니다. "
      ]
    },
    {
      "cell_type": "markdown",
      "metadata": {
        "id": "W6jHtNi23Dmq"
      },
      "source": [
        "<img src=\"https://i.ibb.co/1TKRGDB/func-0.png\" width=\"700\" style=\"float:left\" />"
      ]
    },
    {
      "cell_type": "markdown",
      "metadata": {
        "id": "r-ifsK_O3Dmr"
      },
      "source": [
        "다음은 \"인사하기\"라는 이름의 함수로 코드를 정리했습니다. 함수를 정의하는 것만으로는 아무런 결과가 출력되지 않습니다."
      ]
    },
    {
      "cell_type": "code",
      "execution_count": null,
      "metadata": {
        "id": "qqxho6Nh3Dmr",
        "outputId": "e913c99b-d3a4-408a-dc7e-4b4fc968b644"
      },
      "outputs": [
        {
          "name": "stdout",
          "output_type": "stream",
          "text": [
            "안녕하세요\n",
            "반갑습니다\n",
            "내이름은 무지!\n",
            "안녕하세요\n",
            "반갑습니다\n",
            "내이름은 무지!\n",
            "안녕하세요\n",
            "반갑습니다\n",
            "내이름은 무지!\n"
          ]
        }
      ],
      "source": [
        "print(\"안녕하세요\")\n",
        "print(\"반갑습니다\")\n",
        "print(\"내이름은 무지!\")\n",
        "\n",
        "print(\"안녕하세요\")\n",
        "print(\"반갑습니다\")\n",
        "print(\"내이름은 무지!\")\n",
        "\n",
        "print(\"안녕하세요\")\n",
        "print(\"반갑습니다\")\n",
        "print(\"내이름은 무지!\")"
      ]
    },
    {
      "cell_type": "markdown",
      "metadata": {
        "id": "Y1eb2X633Dmt"
      },
      "source": [
        "함수로 정의하기"
      ]
    },
    {
      "cell_type": "code",
      "execution_count": 1,
      "metadata": {
        "id": "7e7-Kk7A3Dmu",
        "outputId": "4fb22bf9-cd3c-4429-bf58-3b1fafc11725",
        "colab": {
          "base_uri": "https://localhost:8080/"
        }
      },
      "outputs": [
        {
          "output_type": "stream",
          "name": "stdout",
          "text": [
            "안녕하세요\n",
            "반갑습니다\n",
            "내이름은 무지!\n"
          ]
        }
      ],
      "source": [
        "def 인사하기():\n",
        "    print(\"안녕하세요\")\n",
        "    print(\"반갑습니다\")\n",
        "    print(\"내이름은 무지!\")\n",
        "인사하기()"
      ]
    },
    {
      "cell_type": "markdown",
      "metadata": {
        "id": "QmPkNKe83Dmu"
      },
      "source": [
        "함수를 <b>호출</b> 해야 들여쓰기된 코드들이 실행됩니다. "
      ]
    },
    {
      "cell_type": "code",
      "execution_count": null,
      "metadata": {
        "id": "pEfCMhQm3Dmu",
        "outputId": "e9d21ab0-2907-4031-af15-9780cc2ae62f"
      },
      "outputs": [
        {
          "name": "stdout",
          "output_type": "stream",
          "text": [
            "안녕하세요\n",
            "반갑습니다\n",
            "내이름은 무지!\n",
            "안녕하세요\n",
            "반갑습니다\n",
            "내이름은 무지!\n",
            "안녕하세요\n",
            "반갑습니다\n",
            "내이름은 무지!\n"
          ]
        }
      ],
      "source": [
        "인사하기(   )\n",
        "인사하기(   )\n",
        "인사하기(   )"
      ]
    },
    {
      "cell_type": "markdown",
      "metadata": {
        "id": "DXqw8vJE3Dmv"
      },
      "source": [
        "함수가 호출되면 함수의 정의부로 이동해서, 들여쓰기된 코드를 실행하고, 다시 호출부로 이동합니다. "
      ]
    },
    {
      "cell_type": "markdown",
      "metadata": {
        "id": "6geEcZBn3Dmw"
      },
      "source": [
        "<img src=\"https://i.ibb.co/LhsTprP/func-1.png\" width=\"400\" style=\"float:left\" />"
      ]
    },
    {
      "cell_type": "markdown",
      "metadata": {
        "id": "zyWyTswY3Dmw"
      },
      "source": [
        "함수 호출하기에 앞서 반드시 먼저 정의돼 있어야 합니다. 파이썬 인터프리터는 코드를 위에서 아래 방향으로 해석한다는 것을 잊지마세요!"
      ]
    },
    {
      "cell_type": "code",
      "execution_count": null,
      "metadata": {
        "id": "zstnnng-3Dmw",
        "outputId": "3686ae93-0db5-4e17-dd43-734380a64b86"
      },
      "outputs": [
        {
          "name": "stdout",
          "output_type": "stream",
          "text": [
            "안녕\n"
          ]
        }
      ],
      "source": [
        "def 인사() :\n",
        "    print(\"안녕\")    \n",
        "\n",
        "인사()"
      ]
    },
    {
      "cell_type": "markdown",
      "metadata": {
        "id": "X8RjlwyG3Dmx"
      },
      "source": [
        "복잡한 구조의 코드를 살펴봅시다. \n",
        "다음 코드들의 실행 결과를 예측해 보세요."
      ]
    },
    {
      "cell_type": "markdown",
      "metadata": {
        "id": "HXXtOPJx3Dmx"
      },
      "source": [
        "```\n",
        "print(3)\n",
        "def test():\n",
        "    print(1)\n",
        "print(2)\n",
        "test()\n",
        "```"
      ]
    },
    {
      "cell_type": "markdown",
      "metadata": {
        "id": "FAuy24WI3Dmx"
      },
      "source": [
        "같은 동작을 하는데 일반 코드와 함수의 정의가 섞여 있으니 코드를 해석하기가 다소 어렵습니다. 이러한 이유로 함수의 정의부와 호출부를 섞어서 코드를 정리하지 않습니다. 코드를 정리하려고 함수를 사용하는데 코드를 읽기가 더 어려워지면 안되겠죠?  "
      ]
    },
    {
      "cell_type": "markdown",
      "metadata": {
        "id": "xTF239tD3Dmx"
      },
      "source": [
        "```\n",
        "def test():\n",
        "    print(1)\n",
        "print(3)\n",
        "print(2)\n",
        "test()\n",
        "```"
      ]
    },
    {
      "cell_type": "markdown",
      "metadata": {
        "id": "BQ4nE5QI3Dmy"
      },
      "source": [
        "다음 코드의 실행 결과는 어떻게 될까요?"
      ]
    },
    {
      "cell_type": "code",
      "execution_count": null,
      "metadata": {
        "id": "SNiiqOlK3Dmy",
        "outputId": "c86cfcd0-c7fc-41f1-d468-3041160720fa"
      },
      "outputs": [
        {
          "name": "stdout",
          "output_type": "stream",
          "text": [
            "b\n",
            "a\n",
            "c\n"
          ]
        }
      ],
      "source": [
        "def A():\n",
        "    print(\"a\")\n",
        "\n",
        "def B():\n",
        "    print(\"b\")\n",
        "    A()\n",
        "    print(\"c\")\n",
        "    \n",
        "B()"
      ]
    },
    {
      "cell_type": "code",
      "execution_count": null,
      "metadata": {
        "id": "lKLgbAww3Dmy"
      },
      "outputs": [],
      "source": [
        "def 함수(   ):\n",
        "    print(\"ddd\")"
      ]
    },
    {
      "cell_type": "markdown",
      "metadata": {
        "id": "nvNFp0lH3Dmy"
      },
      "source": [
        "## 입력이 있는 함수\n",
        "입력이 있는 함수를 사용해 봅시다. 단순히 코드를 정리하는 것이 아니라 재사용성을 더욱 높이기 위해 변수와 함수를 연결합니다.\n",
        "다음 코드에서 `무지`/`어피치`의 이름만 변경되는 것을 알 수 있습니다. "
      ]
    },
    {
      "cell_type": "code",
      "execution_count": 2,
      "metadata": {
        "scrolled": true,
        "id": "pKTvtbrP3Dmy",
        "outputId": "dae3bfef-0029-4207-c254-d5d082e878b6",
        "colab": {
          "base_uri": "https://localhost:8080/"
        }
      },
      "outputs": [
        {
          "output_type": "stream",
          "name": "stdout",
          "text": [
            "안녕하세요\n",
            "반갑습니다\n",
            "내이름은 무지!\n",
            "안녕하세요\n",
            "반갑습니다\n",
            "내이름은 어피치!\n"
          ]
        }
      ],
      "source": [
        "print(\"안녕하세요\")\n",
        "print(\"반갑습니다\")\n",
        "print(\"내이름은 무지!\")\n",
        "\n",
        "print(\"안녕하세요\")\n",
        "print(\"반갑습니다\")\n",
        "print(\"내이름은 어피치!\")"
      ]
    },
    {
      "cell_type": "code",
      "execution_count": 3,
      "metadata": {
        "id": "DQYK-HYh3Dmz"
      },
      "outputs": [],
      "source": [
        "def 무지인사하기():\n",
        "    print(\"안녕하세요\")\n",
        "    print(\"반갑습니다\")\n",
        "    print(\"내이름은 무지!\")\n",
        "    \n",
        "def 어피치인사하기():\n",
        "    print(\"안녕하세요\")\n",
        "    print(\"반갑습니다\")\n",
        "    print(\"내이름은 어피치!\")"
      ]
    },
    {
      "cell_type": "code",
      "execution_count": 4,
      "metadata": {
        "id": "Rp68pRe-3Dmz",
        "outputId": "f94a44fd-bd47-40e8-ac91-e10264e1ca98",
        "colab": {
          "base_uri": "https://localhost:8080/"
        }
      },
      "outputs": [
        {
          "output_type": "stream",
          "name": "stdout",
          "text": [
            "안녕하세요\n",
            "반갑습니다\n",
            "내이름은 무지!\n"
          ]
        }
      ],
      "source": [
        "무지인사하기()"
      ]
    },
    {
      "cell_type": "markdown",
      "metadata": {
        "id": "Yy2IdN-33Dmz"
      },
      "source": [
        "함수를 정의할 때 변수를 하나 선언하면, 함수를 호출할 때에도 하나의 값을 반드시 전달해야 합니다. 함수로 전달하는 값은 정수/문자열/자료구조 등이 될 수 있습니다. "
      ]
    },
    {
      "cell_type": "markdown",
      "metadata": {
        "id": "A26W0wbM3Dmz"
      },
      "source": [
        "<img src=\"https://i.ibb.co/gykwJ0M/func-2.png\" width=\"700\" style=\"float:left\" />"
      ]
    },
    {
      "cell_type": "markdown",
      "metadata": {
        "id": "ucbcEGRT3Dmz"
      },
      "source": [
        "무지와 어피치의 이름을 입력받는 \"인사하기\" 함수를 작성해 보겠습니다."
      ]
    },
    {
      "cell_type": "code",
      "execution_count": 5,
      "metadata": {
        "id": "pNS-oy6I3Dmz",
        "outputId": "ed909773-f2f0-4ed1-cf2e-51526bf63984",
        "colab": {
          "base_uri": "https://localhost:8080/"
        }
      },
      "outputs": [
        {
          "output_type": "stream",
          "name": "stdout",
          "text": [
            "안녕하세요\n",
            "반갑습니다\n",
            "내이름은 영수!\n"
          ]
        }
      ],
      "source": [
        "def 인사하기(이름):\n",
        "    print(\"안녕하세요\")\n",
        "    print(\"반갑습니다\")\n",
        "    print(f\"내이름은 {이름}!\")\n",
        "인사하기(\"영수\")"
      ]
    },
    {
      "cell_type": "markdown",
      "metadata": {
        "id": "L5PEBfSL3Dm0"
      },
      "source": [
        "함수가 호출될 때 입력된 값을 갖고 함수의 정의부로 이동합니다. 함수로 전달하는 값을 `파라미터`라고 부릅니다. "
      ]
    },
    {
      "cell_type": "markdown",
      "metadata": {
        "id": "7Kzo5OiK3Dm0"
      },
      "source": [
        "<img src=\"https://i.ibb.co/ZmH9ZC4/func-3.png\" width=\"350\" style=\"float:left\" />"
      ]
    },
    {
      "cell_type": "code",
      "execution_count": null,
      "metadata": {
        "id": "sTbI1r7b3Dm0",
        "outputId": "b9e0394b-6dce-4fc7-aae9-f9dc01a817eb"
      },
      "outputs": [
        {
          "name": "stdout",
          "output_type": "stream",
          "text": [
            "어피치안녕?\n",
            "무지안녕?\n"
          ]
        }
      ],
      "source": [
        "def 인사하기( x ) : \n",
        "    print(x + \"안녕?\")\n",
        "    \n",
        "인사하기(  \"어피치\"    )\n",
        "인사하기(  \"무지\"    )"
      ]
    },
    {
      "cell_type": "markdown",
      "metadata": {
        "id": "fNdTs5kn3Dm0"
      },
      "source": [
        "두 개의 파라미터를 입력받는 함수를 정의해 봅시다. 다음과 같은 형태의 출력이 반복되어 해당 코드를 정리해 볼겁니다.   \n",
        "`철수 ♡ 영희 결혼을 축하합니다`  \n",
        "`영수 ♡ 순희 결혼을 축하합니다`"
      ]
    },
    {
      "cell_type": "code",
      "execution_count": null,
      "metadata": {
        "id": "WeMlaFJg3Dm0",
        "outputId": "5c6dd21f-47f0-48d0-89d8-04fc8b864a85"
      },
      "outputs": [
        {
          "name": "stdout",
          "output_type": "stream",
          "text": [
            "--------------------\n",
            " 청 첩 장 \n",
            "--------------------\n",
            "철수 ♡ 영희 결혼을 축하합니다\n",
            "--------------------\n",
            " 청 첩 장 \n",
            "--------------------\n",
            "영수 ♡ 순희 결혼을 축하합니다\n"
          ]
        }
      ],
      "source": [
        "print(\"-\"*20)\n",
        "print(\" 청 첩 장 \")\n",
        "print(\"-\"*20)\n",
        "print(\"철수 ♡ 영희 결혼을 축하합니다\")\n",
        "\n",
        "print(\"-\"*20)\n",
        "print(\" 청 첩 장 \")\n",
        "print(\"-\"*20)\n",
        "print(\"영수 ♡ 순희 결혼을 축하합니다\")"
      ]
    },
    {
      "cell_type": "code",
      "execution_count": null,
      "metadata": {
        "id": "Mia4bzQW3Dm0"
      },
      "outputs": [],
      "source": [
        "def 철수영희_청첩장():\n",
        "    print(\"-\"*20)\n",
        "    print(\" 청 첩 장 \")\n",
        "    print(\"-\"*20)\n",
        "    print(\"철수 ♡ 영희 결혼을 축하합니다\")\n",
        "    \n",
        "def 영희순희_청첩장():\n",
        "    print(\" 청 첩 장 \")\n",
        "    print(\"-\"*20)\n",
        "    print(\"영수 ♡ 순희 결혼을 축하합니다\")"
      ]
    },
    {
      "cell_type": "markdown",
      "metadata": {
        "id": "1Kv8amVI3Dm0"
      },
      "source": [
        "파라미터의 이름을 지정할 수 있습니다. "
      ]
    },
    {
      "cell_type": "code",
      "execution_count": 9,
      "metadata": {
        "id": "5DQoDIQH3Dm1",
        "outputId": "9d72b1b2-3b2a-4e79-e439-122650a41398",
        "colab": {
          "base_uri": "https://localhost:8080/"
        }
      },
      "outputs": [
        {
          "output_type": "stream",
          "name": "stdout",
          "text": [
            "--------------------\n",
            " 청 첩 장 \n",
            "--------------------\n",
            "희철 ♡ 영희 결혼을 축하합니다\n",
            "--------------------\n",
            " 청 첩 장 \n",
            "--------------------\n",
            "희철 ♡ 영자 결혼을 축하합니다\n"
          ]
        }
      ],
      "source": [
        "def 청첩장(  신랑, 신부   ):\n",
        "    print(\"-\"*20)\n",
        "    print(\" 청 첩 장 \")\n",
        "    print(\"-\"*20)\n",
        "    print(f\"{신랑} ♡ {신부} 결혼을 축하합니다\")\n",
        "    \n",
        "청첩장( \"희철\", \"영희\"  )\n",
        "청첩장( \"희철\", \"영자\"  )"
      ]
    },
    {
      "cell_type": "code",
      "source": [
        "def 청첩장1(  고객   ):\n",
        "    print(\"-\"*20)\n",
        "    print(\" 청 첩 장 \")\n",
        "    print(\"-\"*20)\n",
        "    print(f\"{고객[0]} ♡ {고객[1]} 결혼을 축하합니다\")\n",
        "    \n",
        "청첩장1( [\"희철\", \"영희\"]  )\n",
        "청첩장1( [\"희철\", \"영자\"]  )"
      ],
      "metadata": {
        "id": "lHqYwSa6_Lac",
        "outputId": "a904ba20-a724-4036-bcfd-1c2b1b730b28",
        "colab": {
          "base_uri": "https://localhost:8080/"
        }
      },
      "execution_count": 8,
      "outputs": [
        {
          "output_type": "stream",
          "name": "stdout",
          "text": [
            "--------------------\n",
            " 청 첩 장 \n",
            "--------------------\n",
            "희철 ♡ 영희 결혼을 축하합니다\n",
            "--------------------\n",
            " 청 첩 장 \n",
            "--------------------\n",
            "희철 ♡ 영자 결혼을 축하합니다\n"
          ]
        }
      ]
    },
    {
      "cell_type": "markdown",
      "metadata": {
        "id": "9cRzMxtg3Dm1"
      },
      "source": [
        "파라미터의 이름을 지정할 수 있습니다. "
      ]
    },
    {
      "cell_type": "code",
      "execution_count": 11,
      "metadata": {
        "id": "RZxnnH_f3Dm1",
        "outputId": "c46f5390-ad10-4b59-dffd-cceb1b30be42",
        "colab": {
          "base_uri": "https://localhost:8080/"
        }
      },
      "outputs": [
        {
          "output_type": "stream",
          "name": "stdout",
          "text": [
            "--------------------\n",
            " 청 첩 장 \n",
            "--------------------\n",
            "희철 ♡ 영희 결혼을 축하합니다\n",
            "--------------------\n",
            " 청 첩 장 \n",
            "--------------------\n",
            "희철 ♡ 영희 결혼을 축하합니다\n"
          ]
        }
      ],
      "source": [
        "청첩장(신랑=\"희철\", 신부=\"영희\")\n",
        "청첩장(신부=\"영희\", 신랑=\"희철\")"
      ]
    },
    {
      "cell_type": "markdown",
      "metadata": {
        "id": "VBdhVzWC3Dm1"
      },
      "source": [
        "입력하지 않은 파라미터의 기본 값을 지정할 수 있습니다. "
      ]
    },
    {
      "cell_type": "code",
      "execution_count": 12,
      "metadata": {
        "id": "fZ-4MvaJ3Dm1",
        "outputId": "b9cf96c5-1a8e-4c12-f5cf-ccc96339498a",
        "colab": {
          "base_uri": "https://localhost:8080/"
        }
      },
      "outputs": [
        {
          "output_type": "stream",
          "name": "stdout",
          "text": [
            "--------------------\n",
            " 청 첩 장 \n",
            "--------------------\n",
            "희철 ♡ 영희 결혼을 축하합니다\n",
            "--------------------\n",
            " 청 첩 장 \n",
            "--------------------\n",
            "희철 ♡ 영자 결혼을 축하합니다\n"
          ]
        }
      ],
      "source": [
        "def 청첩장(  신랑, 신부=\"영희\"   ):\n",
        "    print(\"-\"*20)\n",
        "    print(\" 청 첩 장 \")\n",
        "    print(\"-\"*20)\n",
        "    print(f\"{신랑} ♡ {신부} 결혼을 축하합니다\")\n",
        "    \n",
        "청첩장( \"희철\"  )\n",
        "청첩장( \"희철\", \"영자\"  )"
      ]
    },
    {
      "cell_type": "markdown",
      "metadata": {
        "id": "BYHa6yhE3Dm1"
      },
      "source": [
        "함수로 전달하는 파라미터의 개수는 제약이 없습니다. 정리하고 싶은 (함수로 코드를 정리하는) 사람의 마음에 달려 있습니다. 누군가가 파라미터를 두 개 입력받도록 설계한 함수를 사용할 때는 반드시 값을 두 개 전달해야 올바른 동작을 하는거죠. 예를 들어 다음의 replace라는 함수는 두 개의 파라미터를 입력받도록 설계가 돼 있을 겁니다.  \n",
        "```\n",
        "문자열 = \"abc\"\n",
        "문자열.replace(\"a\", \"b\")\n",
        "```\n",
        "len이라는 함수는 하나의 파라미터를 입력받도록 누군가가 정의를 해놨겠죠?\n",
        "```\n",
        "len(\"abcde\")\n",
        "```"
      ]
    },
    {
      "cell_type": "markdown",
      "metadata": {
        "id": "cyddQ3133Dm1"
      },
      "source": [
        "## 반환값이 있는 함수\n",
        "지금 까지 배운 함수는 함수 내부에서 그 값을 출력했습니다. `len()` 함수는 호출하면 값을 출력하는 것이아니라 다음과 같이 결과를 반환해서 값을 출력할지 혹은 연산에 사용할지를 사용자가 결정할 수 있습니다. \n",
        "```\n",
        "길이 = len(\"abc\")\n",
        "```"
      ]
    },
    {
      "cell_type": "code",
      "execution_count": 13,
      "metadata": {
        "id": "_7sGw6Lg3Dm2"
      },
      "outputs": [],
      "source": [
        "길이 = len(\"abcd\")"
      ]
    },
    {
      "cell_type": "code",
      "execution_count": null,
      "metadata": {
        "id": "xeXEze0P3Dm2",
        "outputId": "a678c664-3dd5-4ca7-aafe-0c08e6a6fa39"
      },
      "outputs": [
        {
          "name": "stdout",
          "output_type": "stream",
          "text": [
            "3\n"
          ]
        }
      ],
      "source": [
        "def myfunc( x ):\n",
        "    print( 3 )\n",
        "    \n",
        "길이 = myfunc(100)"
      ]
    },
    {
      "cell_type": "code",
      "execution_count": null,
      "metadata": {
        "id": "oTGnGFMr3Dm2",
        "outputId": "cd2d4aec-3808-4ba2-fd8a-f472a3e8245c"
      },
      "outputs": [
        {
          "name": "stdout",
          "output_type": "stream",
          "text": [
            "None\n"
          ]
        }
      ],
      "source": [
        "print(길이)"
      ]
    },
    {
      "cell_type": "markdown",
      "metadata": {
        "id": "lENwcmXF3Dm2"
      },
      "source": [
        "함수에서 `return` 키워드는 함수의 수행을 중지하고 뒤에 나열된 값을 반환합니다. "
      ]
    },
    {
      "cell_type": "markdown",
      "metadata": {
        "id": "IZU9N7LY3Dm2"
      },
      "source": [
        "<img src=\"https://i.ibb.co/Fm44F21/func-4.png\" width=\"600\" style=\"float:left\" />"
      ]
    },
    {
      "cell_type": "markdown",
      "metadata": {
        "id": "hBsUsHmP3Dm2"
      },
      "source": [
        "반환값이 있는 함수를 작성해 봅시다. "
      ]
    },
    {
      "cell_type": "code",
      "execution_count": null,
      "metadata": {
        "id": "DtwtyvKf3Dm2",
        "outputId": "e28aca26-c262-4457-99c8-579e3f70708e"
      },
      "outputs": [
        {
          "name": "stdout",
          "output_type": "stream",
          "text": [
            "13.0\n"
          ]
        }
      ],
      "source": [
        "price = 10\n",
        "결과 = price * 1.3\n",
        "print(결과)"
      ]
    },
    {
      "cell_type": "code",
      "execution_count": null,
      "metadata": {
        "id": "OlkT126z3Dm2",
        "outputId": "d4b10e47-a02b-4413-fce2-e82c453e3e56"
      },
      "outputs": [
        {
          "name": "stdout",
          "output_type": "stream",
          "text": [
            "1300.0\n",
            "None\n"
          ]
        }
      ],
      "source": [
        "def 상한가(price):\n",
        "    결과 = price * 1.3\n",
        "    print(결과)\n",
        "    \n",
        "결과 = 상한가(1000)\n",
        "print(결과)"
      ]
    },
    {
      "cell_type": "code",
      "execution_count": null,
      "metadata": {
        "id": "nK95KSHl3Dm2"
      },
      "outputs": [],
      "source": [
        "def 상한가(price) :    \n",
        "    result = price * 1.3\n",
        "    return result    \n",
        "    \n",
        "결과 = 상한가(1000)  "
      ]
    },
    {
      "cell_type": "code",
      "execution_count": null,
      "metadata": {
        "id": "fm5NJLv23Dm3",
        "outputId": "3e667c63-c5b1-4604-a219-51ce60b65309"
      },
      "outputs": [
        {
          "data": {
            "text/plain": [
              "1690.0"
            ]
          },
          "execution_count": 47,
          "metadata": {},
          "output_type": "execute_result"
        }
      ],
      "source": [
        "상한가(결과)"
      ]
    },
    {
      "cell_type": "code",
      "execution_count": null,
      "metadata": {
        "id": "tmIbxlR13Dm3",
        "outputId": "03b71342-e518-4442-b971-a00fef073d49"
      },
      "outputs": [
        {
          "name": "stdout",
          "output_type": "stream",
          "text": [
            "10\n"
          ]
        }
      ],
      "source": [
        "def mylen(x):\n",
        "    return 10\n",
        "\n",
        "\n",
        "결과 = mylen( \"a\" )\n",
        "print(결과)"
      ]
    },
    {
      "cell_type": "markdown",
      "metadata": {
        "id": "MSqpif5w3Dm3"
      },
      "source": [
        "## 함수 주의사항"
      ]
    },
    {
      "cell_type": "markdown",
      "metadata": {
        "id": "Eco5UlnK3Dm3"
      },
      "source": [
        "함수를 사용할 때는 몇 가지 주의사항이 있습니다. \n",
        "- 함수 외부의 변수를 함수 내부에서 사용하지 않는다. \n",
        "- 함수 내부에 사용된 변수를 함수 외부에서 사용하지 않는다."
      ]
    },
    {
      "cell_type": "markdown",
      "metadata": {
        "id": "QGekfcUd3Dm3"
      },
      "source": [
        "함수 외부에 선언한 변수를 함수 내부에서 사용하지 않아야 합니다. "
      ]
    },
    {
      "cell_type": "code",
      "execution_count": null,
      "metadata": {
        "id": "kEZSvH3O3Dm3"
      },
      "outputs": [],
      "source": [
        "def 함수():\n",
        "    print(변수)\n",
        "    \n",
        "변수 = 100\n",
        "함수()"
      ]
    },
    {
      "cell_type": "markdown",
      "metadata": {
        "id": "_-FY_wEU3Dm3"
      },
      "source": [
        "파라미터를 사용해서 함수 내부로 값을 전달해야 합니다."
      ]
    },
    {
      "cell_type": "code",
      "execution_count": null,
      "metadata": {
        "id": "8FwKNdjv3Dm3"
      },
      "outputs": [],
      "source": [
        "def 함수(파라미터):    \n",
        "    print(변수)\n",
        "\n",
        "변수 = 20\n",
        "함수(변수) "
      ]
    },
    {
      "cell_type": "markdown",
      "metadata": {
        "id": "uLdZGEun3Dm3"
      },
      "source": [
        "함수 내부에서 사용한 변수를 함수 외부에서 사용하면 에러가 발생합니다. "
      ]
    },
    {
      "cell_type": "code",
      "execution_count": null,
      "metadata": {
        "id": "v18Lix8P3Dm3",
        "outputId": "bcd75c24-585c-4bbb-b80b-0bcf1d8f372c"
      },
      "outputs": [
        {
          "ename": "NameError",
          "evalue": "name '변수' is not defined",
          "output_type": "error",
          "traceback": [
            "\u001b[1;31m---------------------------------------------------------------------------\u001b[0m",
            "\u001b[1;31mNameError\u001b[0m                                 Traceback (most recent call last)",
            "\u001b[1;32m<ipython-input-2-81950b8f53fa>\u001b[0m in \u001b[0;36m<module>\u001b[1;34m\u001b[0m\n\u001b[0;32m      3\u001b[0m \u001b[1;33m\u001b[0m\u001b[0m\n\u001b[0;32m      4\u001b[0m \u001b[0m함수\u001b[0m\u001b[1;33m(\u001b[0m\u001b[1;33m)\u001b[0m\u001b[1;33m\u001b[0m\u001b[1;33m\u001b[0m\u001b[0m\n\u001b[1;32m----> 5\u001b[1;33m \u001b[0mprint\u001b[0m\u001b[1;33m(\u001b[0m\u001b[0m변수\u001b[0m\u001b[1;33m)\u001b[0m\u001b[1;33m\u001b[0m\u001b[1;33m\u001b[0m\u001b[0m\n\u001b[0m",
            "\u001b[1;31mNameError\u001b[0m: name '변수' is not defined"
          ]
        }
      ],
      "source": [
        "def 함수():\n",
        "    변수 = 100\n",
        "    \n",
        "함수()\n",
        "print(변수)"
      ]
    },
    {
      "cell_type": "markdown",
      "metadata": {
        "id": "l_rB0rZg3Dm4"
      },
      "source": [
        "함수 내부에서 계산된 결과는 `return` 해야 합니다. "
      ]
    },
    {
      "cell_type": "code",
      "execution_count": null,
      "metadata": {
        "id": "pE0bPSO33Dm4"
      },
      "outputs": [],
      "source": [
        "def 함수():\n",
        "    변수 = 100\n",
        "    return 변수\n",
        "\n",
        "결과 = 함수()\n",
        "print(결과)"
      ]
    },
    {
      "cell_type": "markdown",
      "metadata": {
        "id": "uWMLlFGz3Dm4"
      },
      "source": [
        "문제 더 풀어보기  \n",
        "- https://wikidocs.net/23906\n",
        "- https://wikidocs.net/23907\n",
        "- https://wikidocs.net/7039"
      ]
    }
  ],
  "metadata": {
    "kernelspec": {
      "display_name": "Python 3",
      "language": "python",
      "name": "python3"
    },
    "language_info": {
      "codemirror_mode": {
        "name": "ipython",
        "version": 3
      },
      "file_extension": ".py",
      "mimetype": "text/x-python",
      "name": "python",
      "nbconvert_exporter": "python",
      "pygments_lexer": "ipython3",
      "version": "3.8.8"
    },
    "toc": {
      "base_numbering": 1,
      "nav_menu": {},
      "number_sections": true,
      "sideBar": true,
      "skip_h1_title": false,
      "title_cell": "Table of Contents",
      "title_sidebar": "Contents",
      "toc_cell": false,
      "toc_position": {
        "height": "calc(100% - 180px)",
        "left": "10px",
        "top": "150px",
        "width": "165.188px"
      },
      "toc_section_display": true,
      "toc_window_display": true
    },
    "colab": {
      "name": "함수.ipynb",
      "provenance": []
    }
  },
  "nbformat": 4,
  "nbformat_minor": 0
}