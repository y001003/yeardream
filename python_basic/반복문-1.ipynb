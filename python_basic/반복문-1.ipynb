{
  "cells": [
    {
      "cell_type": "markdown",
      "metadata": {
        "id": "-x94-Hxgc7tM"
      },
      "source": [
        "# 반복문\n",
        "반복문은 자료구조의 데이터 수만큼 코드를 반복실행 합니다.  \n",
        "자료구조에 있는 \"데이터를 하나씩 바인딩하고 들여쓰기된 코드를 실행\" 과정을 반복하는 겁니다. \n",
        "  \n",
        "## 반복문 - 기본형\n",
        "`for 변수 in 자료구조 : ` 형태로 코드를 작성합니다. 코드 끝에 콜론 `:` 있음에 주의하세요. 분기문과 같이 콜론 다음에는 들여쓰기와 함께 영향을 받는 코드를 작성합니다. "
      ]
    },
    {
      "cell_type": "markdown",
      "metadata": {
        "id": "QoUYUif3c7tP"
      },
      "source": [
        "<img src=\"https://i.ibb.co/gR952tp/for-0.png\" width=\"300\" style=\"float:left\" />"
      ]
    },
    {
      "cell_type": "markdown",
      "metadata": {
        "id": "TOXfa_wkc7tQ"
      },
      "source": [
        "###### 반복문을 사용하지 않고 한 줄에 하나의 값 출력하기"
      ]
    },
    {
      "cell_type": "code",
      "execution_count": 3,
      "metadata": {
        "id": "M09aSlJ5c7tQ",
        "outputId": "2e89d9bd-dbd8-4efa-be22-9c1e613581d0",
        "colab": {
          "base_uri": "https://localhost:8080/"
        }
      },
      "outputs": [
        {
          "output_type": "stream",
          "name": "stdout",
          "text": [
            "가\n",
            "나\n",
            "다\n",
            "라\n"
          ]
        }
      ],
      "source": [
        "리스트 = [\"가\",\"나\",\"다\",\"라\",1,2,3]\n",
        "print(리스트[0])\n",
        "print(리스트[1])\n",
        "print(리스트[2])\n",
        "print(리스트[3])"
      ]
    },
    {
      "cell_type": "markdown",
      "metadata": {
        "id": "JELUsEutc7tR"
      },
      "source": [
        "###### 반복문으로 코드를 정리하기"
      ]
    },
    {
      "cell_type": "code",
      "execution_count": 4,
      "metadata": {
        "id": "rVVdhsFsc7tS",
        "outputId": "c4f758d8-cd1f-41f8-846d-80548ea309d7",
        "colab": {
          "base_uri": "https://localhost:8080/"
        }
      },
      "outputs": [
        {
          "output_type": "stream",
          "name": "stdout",
          "text": [
            "가\n",
            "나\n",
            "다\n",
            "라\n",
            "1\n",
            "2\n",
            "3\n"
          ]
        }
      ],
      "source": [
        "for 변수 in 리스트:\n",
        "    print(변수)"
      ]
    },
    {
      "cell_type": "code",
      "source": [
        "for 변수 in 리스트:\n",
        "    # 리스트 내의 값들은 각각 다른 주소가 할당되어있다.\n",
        "    print(id(변수))"
      ],
      "metadata": {
        "id": "HrVspnJiePuA",
        "outputId": "aa3a5152-d84d-40b6-bf15-6ed64f1079df",
        "colab": {
          "base_uri": "https://localhost:8080/"
        }
      },
      "execution_count": 6,
      "outputs": [
        {
          "output_type": "stream",
          "name": "stdout",
          "text": [
            "140112950499408\n",
            "140112950499808\n",
            "140112950500128\n",
            "140112950499488\n",
            "94922285849088\n",
            "94922285849120\n",
            "94922285849152\n"
          ]
        }
      ]
    },
    {
      "cell_type": "code",
      "source": [
        "a = 'Hellow World'\n",
        "print(id(a))\n",
        "for i in a:\n",
        "    print(id(i))"
      ],
      "metadata": {
        "id": "GrUlT91OfH_D",
        "outputId": "fe30e9ce-5f0f-4a51-d566-c5110000b5d4",
        "colab": {
          "base_uri": "https://localhost:8080/"
        }
      },
      "execution_count": 11,
      "outputs": [
        {
          "output_type": "stream",
          "name": "stdout",
          "text": [
            "140112950732912\n",
            "140113495882224\n",
            "140113496192112\n",
            "140113496269936\n",
            "140113496269936\n",
            "140113496269808\n",
            "140113496580848\n",
            "140113496153648\n",
            "140113496247216\n",
            "140113496269808\n",
            "140113496661104\n",
            "140113496269936\n",
            "140113496269168\n"
          ]
        }
      ]
    },
    {
      "cell_type": "code",
      "source": [
        ""
      ],
      "metadata": {
        "id": "icof4pWEeT0W"
      },
      "execution_count": null,
      "outputs": []
    },
    {
      "cell_type": "markdown",
      "metadata": {
        "id": "44KhANWgc7tS"
      },
      "source": [
        "###### 연습문제 - 1\n",
        "다음 코드의 실행 결과를 예측하라."
      ]
    },
    {
      "cell_type": "markdown",
      "metadata": {
        "id": "WtCMPT3hc7tT"
      },
      "source": [
        "```python\n",
        "리스트 = [\"가\", \"나\", \"다\"]\n",
        "for 변수 in 리스트 :\n",
        "    print(변수)\n",
        "    print(\"-\" * 10)\n",
        "for 변수 in 리스트 :\n",
        "    print(변수)\n",
        "```"
      ]
    },
    {
      "cell_type": "code",
      "execution_count": 12,
      "metadata": {
        "id": "MZehl8pqc7tT",
        "outputId": "b1947ca9-5a3f-4f1c-cacc-da9ebcd7fce4",
        "colab": {
          "base_uri": "https://localhost:8080/"
        }
      },
      "outputs": [
        {
          "output_type": "stream",
          "name": "stdout",
          "text": [
            "가\n",
            "----------\n",
            "나\n",
            "----------\n",
            "다\n",
            "----------\n",
            "가\n",
            "나\n",
            "다\n"
          ]
        }
      ],
      "source": [
        "리스트 = [\"가\", \"나\", \"다\"]\n",
        "for 변수 in 리스트 :\n",
        "    print(변수)\n",
        "    print(\"-\" * 10)\n",
        "for 변수 in 리스트 :\n",
        "    print(변수)"
      ]
    },
    {
      "cell_type": "markdown",
      "metadata": {
        "id": "VC9Vp1C0c7tT"
      },
      "source": [
        "```python\n",
        "리스트 = [\"가\", \"나\", \"다\"]\n",
        "for 변수 in 리스트 :\n",
        "    print(변수)    \n",
        "    for k in 리스트 :\n",
        "        print(k)\n",
        "```"
      ]
    },
    {
      "cell_type": "code",
      "execution_count": 16,
      "metadata": {
        "id": "W0Na2HJ3c7tU",
        "outputId": "e94e837b-b984-4d45-d029-c68b28b4858b",
        "colab": {
          "base_uri": "https://localhost:8080/"
        }
      },
      "outputs": [
        {
          "output_type": "stream",
          "name": "stdout",
          "text": [
            "변수 : 가\n",
            "k : 가\n",
            "k : 나\n",
            "k : 다\n",
            "-----------\n",
            "변수 : 나\n",
            "k : 가\n",
            "k : 나\n",
            "k : 다\n",
            "-----------\n",
            "변수 : 다\n",
            "k : 가\n",
            "k : 나\n",
            "k : 다\n",
            "-----------\n"
          ]
        }
      ],
      "source": [
        "리스트 = [\"가\", \"나\", \"다\"]\n",
        "for 변수 in 리스트 :\n",
        "    print(f\"변수 : {변수}\")    \n",
        "    for k in 리스트 :\n",
        "        print(f\"k : {k}\")\n",
        "    print(\"-----------\")"
      ]
    },
    {
      "cell_type": "markdown",
      "metadata": {
        "id": "69XRru9Uc7tU"
      },
      "source": [
        "###### 연습문제 - 2\n",
        "리스트에서 앞의 두 개의 값을 다음과 같이 출력하라.  \n",
        "```\n",
        "가\n",
        "나\n",
        "```"
      ]
    },
    {
      "cell_type": "code",
      "execution_count": 13,
      "metadata": {
        "id": "E4f8v-kXc7tV"
      },
      "outputs": [],
      "source": [
        "# 슬라이싱 이용해서 문제를 해결하라.\n",
        "리스트 = [\"가\", \"나\", \"다\"]"
      ]
    },
    {
      "cell_type": "code",
      "source": [
        "print(리스트[0])\n",
        "print(리스트[1])\n",
        "for i in 리스트[:2]:\n",
        "    print(i)"
      ],
      "metadata": {
        "id": "lZHHN9Bej7ua",
        "outputId": "d3780ca4-f1d1-4018-d7e6-bef431575440",
        "colab": {
          "base_uri": "https://localhost:8080/"
        }
      },
      "execution_count": 17,
      "outputs": [
        {
          "output_type": "stream",
          "name": "stdout",
          "text": [
            "가\n",
            "나\n",
            "가\n",
            "나\n"
          ]
        }
      ]
    },
    {
      "cell_type": "code",
      "source": [
        "i =0\n",
        "while i < 5:\n",
        "    print(i)\n",
        "    i += 1\n",
        "print(f\"i : {i}\") "
      ],
      "metadata": {
        "id": "JLI20Xi3pLkX",
        "outputId": "b71c24b1-18f7-4050-80c8-50ed73b7b98b",
        "colab": {
          "base_uri": "https://localhost:8080/"
        }
      },
      "execution_count": 20,
      "outputs": [
        {
          "output_type": "stream",
          "name": "stdout",
          "text": [
            "0\n",
            "1\n",
            "2\n",
            "3\n",
            "4\n",
            "i : 5\n"
          ]
        }
      ]
    },
    {
      "cell_type": "code",
      "execution_count": null,
      "metadata": {
        "id": "lB4AiBMEc7tV"
      },
      "outputs": [],
      "source": [
        ""
      ]
    },
    {
      "cell_type": "code",
      "execution_count": 21,
      "metadata": {
        "id": "nthp9dgIc7tV",
        "outputId": "d0fca288-811c-4108-c06c-ff7bb44f06e1",
        "colab": {
          "base_uri": "https://localhost:8080/"
        }
      },
      "outputs": [
        {
          "output_type": "stream",
          "name": "stdout",
          "text": [
            "가\n",
            "나\n"
          ]
        }
      ],
      "source": [
        "# 분기문을 이용해서 문제를 해결하라.\n",
        "리스트 = [\"가\", \"나\", \"다\"]\n",
        "for 변수 in 리스트:\n",
        "    if 변수 != \"다\":\n",
        "        print(변수)"
      ]
    },
    {
      "cell_type": "code",
      "source": [
        "len(리스트)"
      ],
      "metadata": {
        "id": "hStYG8Iyr-9a",
        "outputId": "d1cd1f67-a931-415d-8163-0a73a8fe6bcc",
        "colab": {
          "base_uri": "https://localhost:8080/"
        }
      },
      "execution_count": 24,
      "outputs": [
        {
          "output_type": "execute_result",
          "data": {
            "text/plain": [
              "3"
            ]
          },
          "metadata": {},
          "execution_count": 24
        }
      ]
    },
    {
      "cell_type": "code",
      "source": [
        "for i in range(len(리스트)):\n",
        "    if i < 2:\n",
        "        print(리스트[i])\n"
      ],
      "metadata": {
        "id": "UyrS7p53rnbr",
        "outputId": "71892c55-dd62-4f8f-bafc-d84e9616eb3e",
        "colab": {
          "base_uri": "https://localhost:8080/"
        }
      },
      "execution_count": 23,
      "outputs": [
        {
          "output_type": "stream",
          "name": "stdout",
          "text": [
            "가\n",
            "나\n"
          ]
        }
      ]
    },
    {
      "cell_type": "markdown",
      "metadata": {
        "id": "-EZ0a3ORc7tV"
      },
      "source": [
        "###### 연습문제 - 3\n",
        "20 이상인 값을 출력하라"
      ]
    },
    {
      "cell_type": "code",
      "execution_count": 28,
      "metadata": {
        "id": "-S0bpunrc7tW",
        "outputId": "9760eca2-7a77-4411-e82c-ecd607410dd2",
        "colab": {
          "base_uri": "https://localhost:8080/"
        }
      },
      "outputs": [
        {
          "output_type": "stream",
          "name": "stdout",
          "text": [
            "20\n",
            "30\n"
          ]
        }
      ],
      "source": [
        "리스트 = [20, 10, 30]\n",
        "for 변수 in 리스트:\n",
        "    if 변수 >= 20:\n",
        "        print(변수)"
      ]
    },
    {
      "cell_type": "code",
      "source": [
        "# 20 이상인 값을 리스트에 저장하라\n",
        "r = []\n",
        "for i in 리스트:\n",
        "    if i >= 20:\n",
        "        r.append(i)\n",
        "print(r)"
      ],
      "metadata": {
        "id": "8XjadnFJtRjF",
        "outputId": "952568a9-462b-4d8d-bad2-812e5db02d44",
        "colab": {
          "base_uri": "https://localhost:8080/"
        }
      },
      "execution_count": 29,
      "outputs": [
        {
          "output_type": "stream",
          "name": "stdout",
          "text": [
            "[20, 30]\n"
          ]
        }
      ]
    },
    {
      "cell_type": "markdown",
      "metadata": {
        "id": "75UqIqNPc7tW"
      },
      "source": [
        "###### 연습문제 - 4\n",
        "`xls` 파일만을 출력하라"
      ]
    },
    {
      "cell_type": "code",
      "execution_count": 38,
      "metadata": {
        "id": "Txm9k79Ic7tW",
        "outputId": "8bbe215b-b81c-4921-b818-018c6d8bea96",
        "colab": {
          "base_uri": "https://localhost:8080/"
        }
      },
      "outputs": [
        {
          "output_type": "stream",
          "name": "stdout",
          "text": [
            "ab.xls\n",
            "bbbbb.xls\n",
            ".xls\n"
          ]
        }
      ],
      "source": [
        "리스트 = [\"ab.xls\", \"a.hwp\", \"b.exe\", \"bbbbb.xls\",\"xls.hwp\"]\n",
        "for i in 리스트:\n",
        "    if i[-4:] == \".xls\":\n",
        "        print(i)\n"
      ]
    },
    {
      "cell_type": "code",
      "source": [
        "for i in 리스트:\n",
        "    if i.endswith(\"xls\"):\n",
        "        print(i)"
      ],
      "metadata": {
        "id": "6rCkqBeivgXE",
        "outputId": "a7847e01-b5b3-45b9-edc8-bfb83cae1b27",
        "colab": {
          "base_uri": "https://localhost:8080/"
        }
      },
      "execution_count": 39,
      "outputs": [
        {
          "output_type": "stream",
          "name": "stdout",
          "text": [
            "ab.xls\n",
            "bbbbb.xls\n"
          ]
        }
      ]
    },
    {
      "cell_type": "code",
      "source": [
        "for i in 리스트:\n",
        "    if \".xls\" in i:\n",
        "        print(i)"
      ],
      "metadata": {
        "id": "FhqiZBfUv2fC",
        "outputId": "7339c5ca-6ac3-49f6-d0cd-9b8fc2d68f3c",
        "colab": {
          "base_uri": "https://localhost:8080/"
        }
      },
      "execution_count": 40,
      "outputs": [
        {
          "output_type": "stream",
          "name": "stdout",
          "text": [
            "ab.xls\n",
            "bbbbb.xls\n"
          ]
        }
      ]
    },
    {
      "cell_type": "code",
      "source": [
        "# 리스트에 저장\n",
        "li = []\n",
        "for i in 리스트:\n",
        "    if i.endswith(\"xls\"):\n",
        "        li.append(i)\n",
        "\n",
        "print(li)"
      ],
      "metadata": {
        "id": "Bc3yyrZfwEZ7",
        "outputId": "528815cf-e4c1-4478-cca0-08d5f6fdde9e",
        "colab": {
          "base_uri": "https://localhost:8080/"
        }
      },
      "execution_count": 41,
      "outputs": [
        {
          "output_type": "stream",
          "name": "stdout",
          "text": [
            "['ab.xls', 'bbbbb.xls']\n"
          ]
        }
      ]
    },
    {
      "cell_type": "markdown",
      "metadata": {
        "id": "IrcfJdIfc7tW"
      },
      "source": [
        "###### 연습문제 - 5\n",
        "반복문을 사용해서 변수에 저장된 종목을 화면에 출력하라.  \n",
        "```\n",
        "보유종목:Naver \n",
        "보유종목:Samsung\n",
        "보유종목:SK Hynix\n",
        "```"
      ]
    },
    {
      "cell_type": "code",
      "execution_count": 42,
      "metadata": {
        "id": "IafEf_gJc7tX"
      },
      "outputs": [],
      "source": [
        "interest_stocks = [\"Naver\", \"Samsung\", \"SK Hynix\"]"
      ]
    },
    {
      "cell_type": "code",
      "execution_count": 43,
      "metadata": {
        "id": "KvTrOza_c7tX",
        "outputId": "b4ea463b-e326-43b1-d2a7-b5bc3ef2488d",
        "colab": {
          "base_uri": "https://localhost:8080/"
        }
      },
      "outputs": [
        {
          "output_type": "stream",
          "name": "stdout",
          "text": [
            "보유종목:Naver\n",
            "보유종목:Samsung\n",
            "보유종목:SK Hynix\n"
          ]
        }
      ],
      "source": [
        "for i in interest_stocks:\n",
        "    print(f\"보유종목:{i}\")"
      ]
    },
    {
      "cell_type": "markdown",
      "metadata": {
        "id": "SlrqvD0mc7tX"
      },
      "source": [
        "###### 연습문제 - 6\n",
        "반복문을 사용해서 변수에 저장된 종목을 화면에 출력하라.  \n",
        "```\n",
        "보유종목:Naver \n",
        "--------------\n",
        "보유종목:Samsung\n",
        "--------------\n",
        "보유종목:SK Hynix\n",
        "--------------\n",
        "```"
      ]
    },
    {
      "cell_type": "code",
      "execution_count": null,
      "metadata": {
        "id": "2pU36COUc7tX"
      },
      "outputs": [],
      "source": [
        "interest_stocks = [\"Naver\", \"Samsung\", \"SK Hynix\"]"
      ]
    },
    {
      "cell_type": "markdown",
      "metadata": {
        "id": "IqY3Pid6c7tX"
      },
      "source": [
        "###### 연습문제 - 7\n",
        "반복문을 사용해서 변수에 저장된 종목을 화면에 출력하라.   \n",
        "```\n",
        "1999년 성적: 수 \n",
        "2000년 성적: 양 \n",
        "2001년 성적: 미 \n",
        "2002년 성적: 수 \n",
        "```"
      ]
    },
    {
      "cell_type": "code",
      "execution_count": null,
      "metadata": {
        "id": "Qwk29BFFc7tX",
        "outputId": "cab91c67-9286-4bc3-c8b6-b279dc7923fc"
      },
      "outputs": [
        {
          "name": "stdout",
          "output_type": "stream",
          "text": [
            "1999년 성적: 수\n",
            "2000년 성적: 양\n",
            "2001년 성적: 미\n",
            "2002년 성적: 수\n"
          ]
        }
      ],
      "source": [
        "my_grade = [\"1999-수\", \"2000-양\", \"2001-미\", \"2002-수\"]\n",
        "\n",
        "\n"
      ]
    },
    {
      "cell_type": "code",
      "source": [
        "!pip install pybithumb"
      ],
      "metadata": {
        "id": "Ze7VRaORxpyj",
        "outputId": "95496c03-b48f-42dd-9d7a-0751945bddc8",
        "colab": {
          "base_uri": "https://localhost:8080/"
        }
      },
      "execution_count": 44,
      "outputs": [
        {
          "output_type": "stream",
          "name": "stdout",
          "text": [
            "Collecting pybithumb\n",
            "  Downloading pybithumb-1.0.21-py3-none-any.whl (9.9 kB)\n",
            "Collecting datetime\n",
            "  Downloading DateTime-4.4-py2.py3-none-any.whl (51 kB)\n",
            "\u001b[?25l\r\u001b[K     |██████▍                         | 10 kB 22.8 MB/s eta 0:00:01\r\u001b[K     |████████████▊                   | 20 kB 18.5 MB/s eta 0:00:01\r\u001b[K     |███████████████████             | 30 kB 11.4 MB/s eta 0:00:01\r\u001b[K     |█████████████████████████▍      | 40 kB 9.7 MB/s eta 0:00:01\r\u001b[K     |███████████████████████████████▊| 51 kB 6.9 MB/s eta 0:00:01\r\u001b[K     |████████████████████████████████| 51 kB 494 kB/s \n",
            "\u001b[?25hRequirement already satisfied: html5lib in /usr/local/lib/python3.7/dist-packages (from pybithumb) (1.0.1)\n",
            "Requirement already satisfied: pandas in /usr/local/lib/python3.7/dist-packages (from pybithumb) (1.3.5)\n",
            "Requirement already satisfied: requests in /usr/local/lib/python3.7/dist-packages (from pybithumb) (2.23.0)\n",
            "Collecting websockets\n",
            "  Downloading websockets-10.2-cp37-cp37m-manylinux_2_5_x86_64.manylinux1_x86_64.manylinux_2_12_x86_64.manylinux2010_x86_64.whl (111 kB)\n",
            "\u001b[K     |████████████████████████████████| 111 kB 12.8 MB/s \n",
            "\u001b[?25hRequirement already satisfied: bs4 in /usr/local/lib/python3.7/dist-packages (from pybithumb) (0.0.1)\n",
            "Requirement already satisfied: beautifulsoup4 in /usr/local/lib/python3.7/dist-packages (from bs4->pybithumb) (4.6.3)\n",
            "Collecting zope.interface\n",
            "  Downloading zope.interface-5.4.0-cp37-cp37m-manylinux2010_x86_64.whl (251 kB)\n",
            "\u001b[K     |████████████████████████████████| 251 kB 54.8 MB/s \n",
            "\u001b[?25hRequirement already satisfied: pytz in /usr/local/lib/python3.7/dist-packages (from datetime->pybithumb) (2018.9)\n",
            "Requirement already satisfied: webencodings in /usr/local/lib/python3.7/dist-packages (from html5lib->pybithumb) (0.5.1)\n",
            "Requirement already satisfied: six>=1.9 in /usr/local/lib/python3.7/dist-packages (from html5lib->pybithumb) (1.15.0)\n",
            "Requirement already satisfied: numpy>=1.17.3 in /usr/local/lib/python3.7/dist-packages (from pandas->pybithumb) (1.21.5)\n",
            "Requirement already satisfied: python-dateutil>=2.7.3 in /usr/local/lib/python3.7/dist-packages (from pandas->pybithumb) (2.8.2)\n",
            "Requirement already satisfied: idna<3,>=2.5 in /usr/local/lib/python3.7/dist-packages (from requests->pybithumb) (2.10)\n",
            "Requirement already satisfied: certifi>=2017.4.17 in /usr/local/lib/python3.7/dist-packages (from requests->pybithumb) (2021.10.8)\n",
            "Requirement already satisfied: chardet<4,>=3.0.2 in /usr/local/lib/python3.7/dist-packages (from requests->pybithumb) (3.0.4)\n",
            "Requirement already satisfied: urllib3!=1.25.0,!=1.25.1,<1.26,>=1.21.1 in /usr/local/lib/python3.7/dist-packages (from requests->pybithumb) (1.24.3)\n",
            "Requirement already satisfied: setuptools in /usr/local/lib/python3.7/dist-packages (from zope.interface->datetime->pybithumb) (57.4.0)\n",
            "Installing collected packages: zope.interface, websockets, datetime, pybithumb\n",
            "Successfully installed datetime-4.4 pybithumb-1.0.21 websockets-10.2 zope.interface-5.4.0\n"
          ]
        }
      ]
    },
    {
      "cell_type": "code",
      "source": [
        "import pybithumb\n",
        "import time\n",
        "\n",
        "pybithumb.get_current_price(\"BTC\")"
      ],
      "metadata": {
        "id": "yB65oBPHxtqR",
        "outputId": "047e0a8a-a5d8-4399-e7f2-118cd0135fa9",
        "colab": {
          "base_uri": "https://localhost:8080/"
        }
      },
      "execution_count": 45,
      "outputs": [
        {
          "output_type": "execute_result",
          "data": {
            "text/plain": [
              "51564000.0"
            ]
          },
          "metadata": {},
          "execution_count": 45
        }
      ]
    },
    {
      "cell_type": "code",
      "source": [
        "price = pybithumb.get_current_price(\"BTC\")\n",
        "print(price)\n",
        "time.sleep(1)\n",
        "\n",
        "price = pybithumb.get_current_price(\"XRP\")\n",
        "print(price)\n",
        "time.sleep(1)"
      ],
      "metadata": {
        "id": "erPPTpuZyBOx",
        "outputId": "43dc8966-2b70-452f-e60b-9d9f2d48459f",
        "colab": {
          "base_uri": "https://localhost:8080/"
        }
      },
      "execution_count": 47,
      "outputs": [
        {
          "output_type": "stream",
          "name": "stdout",
          "text": [
            "51576000.0\n",
            "51576000.0\n"
          ]
        }
      ]
    },
    {
      "cell_type": "code",
      "source": [
        "for i in [\"BTC\",\"XRP\"]:\n",
        "    price = pybithumb.get_current_price(i)\n",
        "    print(price)\n",
        "    time.sleep(1)"
      ],
      "metadata": {
        "id": "JWUyf_l6yeZ9",
        "outputId": "49fed678-5177-4326-b6b9-ac8ab9a6863d",
        "colab": {
          "base_uri": "https://localhost:8080/"
        }
      },
      "execution_count": 48,
      "outputs": [
        {
          "output_type": "stream",
          "name": "stdout",
          "text": [
            "51581000.0\n",
            "913.6\n"
          ]
        }
      ]
    },
    {
      "cell_type": "code",
      "source": [
        "tickers = pybithumb.get_tickers()"
      ],
      "metadata": {
        "id": "35rrzaqoyy4G"
      },
      "execution_count": 50,
      "outputs": []
    },
    {
      "cell_type": "code",
      "source": [
        "for i in tickers[:3]:\n",
        "    price = pybithumb.get_current_price(i)\n",
        "    print(f\"{i} : {price}\")\n",
        "    time.sleep(1)"
      ],
      "metadata": {
        "id": "rNsFrsXqyHEg",
        "outputId": "1e3a34fd-3315-470e-abef-e8ea6ddf0a73",
        "colab": {
          "base_uri": "https://localhost:8080/"
        }
      },
      "execution_count": 52,
      "outputs": [
        {
          "output_type": "stream",
          "name": "stdout",
          "text": [
            "BTC : 51582000.0\n",
            "ETH : 3902000.0\n",
            "LTC : 137500.0\n"
          ]
        }
      ]
    },
    {
      "cell_type": "code",
      "source": [
        "result = []\n",
        "for i in tickers[:3]:\n",
        "    price = pybithumb.get_current_price(i)\n",
        "    print(f\"{i} : {price}\")\n",
        "    result.append((i,price))\n",
        "    time.sleep(1)\n",
        "print(result)"
      ],
      "metadata": {
        "id": "HXoGUzFdzeZY",
        "outputId": "7500302b-d0c4-4787-fa66-53c7d11f102d",
        "colab": {
          "base_uri": "https://localhost:8080/"
        }
      },
      "execution_count": 54,
      "outputs": [
        {
          "output_type": "stream",
          "name": "stdout",
          "text": [
            "BTC : 51577000.0\n",
            "ETH : 3902000.0\n",
            "LTC : 137500.0\n",
            "[('BTC', 51577000.0), ('ETH', 3902000.0), ('LTC', 137500.0)]\n"
          ]
        }
      ]
    },
    {
      "cell_type": "markdown",
      "metadata": {
        "id": "bTb1Lu3Xc7tY"
      },
      "source": [
        "문제 더 풀어보기  \n",
        "- https://wikidocs.net/78562\n",
        "- https://wikidocs.net/7020\n",
        "- https://wikidocs.net/78768"
      ]
    },
    {
      "cell_type": "code",
      "execution_count": null,
      "metadata": {
        "id": "y59hAMuxc7tY"
      },
      "outputs": [],
      "source": [
        ""
      ]
    }
  ],
  "metadata": {
    "kernelspec": {
      "display_name": "Python 3",
      "language": "python",
      "name": "python3"
    },
    "language_info": {
      "codemirror_mode": {
        "name": "ipython",
        "version": 3
      },
      "file_extension": ".py",
      "mimetype": "text/x-python",
      "name": "python",
      "nbconvert_exporter": "python",
      "pygments_lexer": "ipython3",
      "version": "3.8.8"
    },
    "toc": {
      "base_numbering": 1,
      "nav_menu": {},
      "number_sections": true,
      "sideBar": true,
      "skip_h1_title": false,
      "title_cell": "Table of Contents",
      "title_sidebar": "Contents",
      "toc_cell": false,
      "toc_position": {},
      "toc_section_display": true,
      "toc_window_display": false
    },
    "colab": {
      "name": "반복문-1.ipynb",
      "provenance": []
    }
  },
  "nbformat": 4,
  "nbformat_minor": 0
}