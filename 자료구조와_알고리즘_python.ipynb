{
  "nbformat": 4,
  "nbformat_minor": 0,
  "metadata": {
    "colab": {
      "name": "자료구조와 알고리즘 python.ipynb",
      "provenance": [],
      "authorship_tag": "ABX9TyPjFUDI+1CJVpH727ocNsOf",
      "include_colab_link": true
    },
    "kernelspec": {
      "name": "python3",
      "display_name": "Python 3"
    },
    "language_info": {
      "name": "python"
    }
  },
  "cells": [
    {
      "cell_type": "markdown",
      "metadata": {
        "id": "view-in-github",
        "colab_type": "text"
      },
      "source": [
        "<a href=\"https://colab.research.google.com/github/y001003/yeardream/blob/main/%EC%9E%90%EB%A3%8C%EA%B5%AC%EC%A1%B0%EC%99%80_%EC%95%8C%EA%B3%A0%EB%A6%AC%EC%A6%98_python.ipynb\" target=\"_parent\"><img src=\"https://colab.research.google.com/assets/colab-badge.svg\" alt=\"Open In Colab\"/></a>"
      ]
    },
    {
      "cell_type": "markdown",
      "source": [
        "#자료구조와 알고리즘"
      ],
      "metadata": {
        "id": "nxt6xdrLzB5F"
      }
    },
    {
      "cell_type": "markdown",
      "source": [
        "##개요"
      ],
      "metadata": {
        "id": "I3o_JuIn2dEP"
      }
    },
    {
      "cell_type": "markdown",
      "source": [
        "자료 구조 : 자료를 어디에 어떻게 담을지, 자료를 담는 틀  \n",
        "-> 컴퓨터의 한정적인 자원을 적합한 형태로 사용  \n",
        "\n",
        "알고리즘 : 어떤 문제가 주어졌을 때, 문제를 풀기 위한 동작들의 절차\n"
      ],
      "metadata": {
        "id": "bjKIvBFmy3QD"
      }
    },
    {
      "cell_type": "markdown",
      "source": [
        "### 점근 표기법\n",
        "- 빅오(Big-O) 표기법 : 상한 점근 \n",
        "- 오메가 표기법\n",
        "- 세타 표기법  \n",
        "\n",
        "알고리즘은 가장 효율적인 방법을 찾게 되니 빅오 표기법을 사용한다."
      ],
      "metadata": {
        "id": "7nhpMNRa2Wot"
      }
    },
    {
      "cell_type": "markdown",
      "source": [
        "### 공간복잡도와 시간복잡도\n",
        "공간복잡도 : 데이터 관리에 필요한 공간  \n",
        "시간복잡도 : 데이터 처리에 소요되는 시간  \n",
        "\n",
        "프로그래머들은 시간복잡도를 더 중요시 여기는 편이다.  \n",
        "\n",
        "-- 이진탐색 Binary search  \n",
        "O(logN)연산 - 한번 연산할때마다 연산 범위가 반씩 줄어드는 탐색방법  \n"
      ],
      "metadata": {
        "id": "mHm0Vs3737Nq"
      }
    },
    {
      "cell_type": "markdown",
      "source": [
        "## 리스트"
      ],
      "metadata": {
        "id": "dWO0rSQ459Xp"
      }
    },
    {
      "cell_type": "markdown",
      "source": [
        "### 기본 리스트 동작"
      ],
      "metadata": {
        "id": "Sre0xFPt6Hs4"
      }
    },
    {
      "cell_type": "code",
      "source": [
        "ex_list = []\n",
        "# 리스트 추가\n",
        "ex_list.append(\"Hello\")\n",
        "ex_list.append(\"World\")\n",
        "\n",
        "print(ex_list)\n",
        "\n",
        "# 리스트 탐색 인덱싱\n",
        "print(ex_list[1])\n",
        "\n",
        "# 리스트 삭제\n",
        "del ex_list[0]\n",
        "\n",
        "print(ex_list)\n",
        "\n",
        "# 리스트 요소 삽입\n",
        "ex_list.insert(0, \"Awful\")\n",
        "\n",
        "print(ex_list)"
      ],
      "metadata": {
        "colab": {
          "base_uri": "https://localhost:8080/"
        },
        "id": "81XVuxI96Rg0",
        "outputId": "88d908d9-be17-46c8-9759-f8eef72a98ea"
      },
      "execution_count": 3,
      "outputs": [
        {
          "output_type": "stream",
          "name": "stdout",
          "text": [
            "['Hello', 'World']\n",
            "World\n",
            "['World']\n",
            "['Awful', 'World']\n"
          ]
        }
      ]
    }
  ]
}