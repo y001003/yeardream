{
  "nbformat": 4,
  "nbformat_minor": 0,
  "metadata": {
    "colab": {
      "name": "자료구조와 알고리즘 python.ipynb",
      "provenance": [],
      "authorship_tag": "ABX9TyNqiWYcIdv4TDpRKw2SGRVL",
      "include_colab_link": true
    },
    "kernelspec": {
      "name": "python3",
      "display_name": "Python 3"
    },
    "language_info": {
      "name": "python"
    }
  },
  "cells": [
    {
      "cell_type": "markdown",
      "metadata": {
        "id": "view-in-github",
        "colab_type": "text"
      },
      "source": [
        "<a href=\"https://colab.research.google.com/github/y001003/yeardream/blob/main/%EC%9E%90%EB%A3%8C%EA%B5%AC%EC%A1%B0%EC%99%80_%EC%95%8C%EA%B3%A0%EB%A6%AC%EC%A6%98_python.ipynb\" target=\"_parent\"><img src=\"https://colab.research.google.com/assets/colab-badge.svg\" alt=\"Open In Colab\"/></a>"
      ]
    },
    {
      "cell_type": "markdown",
      "source": [
        "#자료구조와 알고리즘"
      ],
      "metadata": {
        "id": "nxt6xdrLzB5F"
      }
    },
    {
      "cell_type": "markdown",
      "source": [
        "자료 구조 : 자료를 어디에 어떻게 담을지, 자료를 담는 틀  \n",
        "-> 컴퓨터의 한정적인 자원을 적합한 형태로 사용  \n",
        "\n",
        "알고리즘 : 어떤 문제가 주어졌을 때, 문제를 풀기 위한 동작들의 절차\n"
      ],
      "metadata": {
        "id": "bjKIvBFmy3QD"
      }
    }
  ]
}