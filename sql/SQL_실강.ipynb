{
  "nbformat": 4,
  "nbformat_minor": 0,
  "metadata": {
    "colab": {
      "name": "SQL 실강.ipynb",
      "provenance": [],
      "authorship_tag": "ABX9TyNgikYXcG/WRdVacycIx19i",
      "include_colab_link": true
    },
    "kernelspec": {
      "name": "python3",
      "display_name": "Python 3"
    },
    "language_info": {
      "name": "python"
    }
  },
  "cells": [
    {
      "cell_type": "markdown",
      "metadata": {
        "id": "view-in-github",
        "colab_type": "text"
      },
      "source": [
        "<a href=\"https://colab.research.google.com/github/y001003/yeardream/blob/main/sql/SQL_%EC%8B%A4%EA%B0%95.ipynb\" target=\"_parent\"><img src=\"https://colab.research.google.com/assets/colab-badge.svg\" alt=\"Open In Colab\"/></a>"
      ]
    },
    {
      "cell_type": "markdown",
      "source": [
        "# DDA"
      ],
      "metadata": {
        "id": "VppJ7_BA7MnM"
      }
    },
    {
      "cell_type": "markdown",
      "source": [
        "## Domain Type"
      ],
      "metadata": {
        "id": "MyGOw_yR60t8"
      }
    },
    {
      "cell_type": "markdown",
      "source": [
        "- CHAR(n) : String 고정길이(n)로 내용을 넣고 싶을때\n",
        "- VARCHAR(n) : 일반길이 String 넣고 싶을 때 n = maximum length\n",
        "- INT : Integer 정수보통 32바이트, 시스템이 사용하는 체제에 따라 바이트 크기가 달라질 수 있다.\n",
        "- SMALLINT \n",
        "- NUMERIC(p,d) : 실수, 점찍는 위치를 정해 놓는 방법, 소수를 표현하는 방법, 출력하는 방법을 고정시킨다. (p= 전체 자릿수, d = 소수 자릿수)\n",
        "- FLOAT(n)"
      ],
      "metadata": {
        "id": "az8mQHHKxwiN"
      }
    },
    {
      "cell_type": "markdown",
      "source": [
        "## CREATE\n"
      ],
      "metadata": {
        "id": "crdTlNbI67sx"
      }
    },
    {
      "cell_type": "markdown",
      "source": [
        "Schema에서 entitiy를 보고 테이블을 생성하는 커맨드"
      ],
      "metadata": {
        "id": "KW0WVXlY77gK"
      }
    },
    {
      "cell_type": "code",
      "source": [
        "CREATE TABLE t_name(\n",
        "#attribute DOMAIN TYPE\n",
        "    id CHAR(5),\n",
        "    name VARCHAR(20),\n",
        "    dept_name VARCHAR(20),\n",
        "    salary NUMERIC(8,2)\n",
        ");"
      ],
      "metadata": {
        "id": "ixKsWIGM7nra"
      },
      "execution_count": null,
      "outputs": []
    },
    {
      "cell_type": "markdown",
      "source": [
        "Constraint\n",
        "- PRIMARY KEY (A1,...,An)\n",
        "- FOREIGN KEY (A1,...,An) REFERENCES table\n",
        "- NOT NULL\n"
      ],
      "metadata": {
        "id": "kEUF4M4N8fE7"
      }
    },
    {
      "cell_type": "code",
      "source": [
        "CREATE TABLE instructor(\n",
        "#attribute DOMAIN TYPE\n",
        "    id CHAR(5),\n",
        "    name VARCHAR(20) NOT NULL,\n",
        "    dept_name VARCHAR(20),\n",
        "    salary NUMERIC(8,2)\n",
        "    # attribute 정의 이후에 Constraint 정의\n",
        "    PRIMARY KEY (id),\n",
        "    FOREIGN KEY (dept_name) REFERENCES department\n",
        ");"
      ],
      "metadata": {
        "id": "1wnQziPh89-Z"
      },
      "execution_count": null,
      "outputs": []
    },
    {
      "cell_type": "code",
      "source": [
        "CREATE TABLE takes(\n",
        "#attribute DOMAIN TYPE\n",
        "    id VARCHAR(5),\n",
        "    course_id VARCHAR(8) NOT NULL,\n",
        "    sec_id VARCHAR(8),\n",
        "    semester VARCHAR(8),\n",
        "    year NUMERIC(4,0),\n",
        "    grade VARCHAR(2),\n",
        "    # attribute 정의 이후에 Constraint 정의\n",
        "    PRIMARY KEY (id, course_id, sec_id),\n",
        "    FOREIGN KEY (id) REFERENCES student\n",
        ");"
      ],
      "metadata": {
        "id": "276cBN74-mQL"
      },
      "execution_count": null,
      "outputs": []
    },
    {
      "cell_type": "markdown",
      "source": [
        "- INSERT (row 삽입)\n",
        "    - 추가할 데이터는 tuple 이기에 column 순서가 맞아야 한다.\n",
        "    - String을 넣을 때는 '   ' 를 사용한다.\n",
        "    - INSERT INTO instructor VALUES ('102110','Smith','Biology',66000);\n",
        "- DELETE\n",
        "- DROP TABLE (table 삭제)\n",
        "- ALTER\n",
        "    - ALTER TABLE r ADD a, d\n",
        "    - ALTER TABLE r DROP a"
      ],
      "metadata": {
        "id": "88bpuL8Y_UQJ"
      }
    },
    {
      "cell_type": "markdown",
      "source": [
        "## SELECT 쿼리\n"
      ],
      "metadata": {
        "id": "VK0cNMYAC0UT"
      }
    },
    {
      "cell_type": "markdown",
      "source": [
        "거의 대부분은 select 커맨드를 사용하게 된다. 쿼리문은 대소문자를 구분하지 않는다.   \n",
        "- SELECT name FROM instructor\n",
        "\n",
        "용도 : find 검색하는 용도로 사용한다.\n",
        "- keyowrd\n",
        "    - DISTINCT : 가져온 column의 unique한 row만 불러온다.\n",
        "        - SELECT DISTINCT name FROM instructor\n",
        "    - ALL\n",
        "\n",
        "asterisk(*) 는 모든 속성 컬럼을 가져온다.\n",
        "- SELECT * FROM instructor\n",
        "\n",
        "SELECT 문 안에 연산자 사용도 가능하다.\n",
        "- SELECT salary/12 FROM instructor\n",
        "\n"
      ],
      "metadata": {
        "id": "_11YKW_BC4f5"
      }
    },
    {
      "cell_type": "markdown",
      "source": [
        "## FROM 쿼리\n"
      ],
      "metadata": {
        "id": "Ex0fVDKHJWxX"
      }
    },
    {
      "cell_type": "markdown",
      "source": [
        "SELECT * FROM instructor, teaches 와 같은 형태로 두개 이상의 테이블을 FROM 뒤에 붙여서 가져올 수 있다.\n",
        "\n",
        "그럴 경우 두 테이블로 생성 되는 모든 경우의 수의 row를 만들어서 가져온다.\n"
      ],
      "metadata": {
        "id": "dvdAoNXoJaPJ"
      }
    },
    {
      "cell_type": "markdown",
      "source": [
        "## WHERE 쿼리\n"
      ],
      "metadata": {
        "id": "d7A8f4j7BMuz"
      }
    },
    {
      "cell_type": "markdown",
      "source": [
        "SELECT a1,a2 FROM r1,r2 WHERE P\n",
        "- a1,a2 : 내가 출력하고 싶은 column들\n",
        "- r1,r2 : 데이터가 들어있는 table들\n",
        "- P : 찾을 데이터(row)의 조건\n",
        "\n",
        "$ \\rightarrow $ 결과가 table로 나온다.\n",
        "\n",
        "조건은 연산자 사용이 다 가능하다. 그리고 로직은 and, or, not 을 사용한다."
      ],
      "metadata": {
        "id": "ZeOLdxq0BURh"
      }
    },
    {
      "cell_type": "code",
      "source": [
        "SELECT name\n",
        "FROM instructor\n",
        "WHERE dept_name = 'Comp. Sci' and salary > 8000"
      ],
      "metadata": {
        "id": "1ACTCLS6Ic2P"
      },
      "execution_count": null,
      "outputs": []
    },
    {
      "cell_type": "markdown",
      "source": [
        "### 비교 연산자"
      ],
      "metadata": {
        "id": "ddl40GqlTMtu"
      }
    },
    {
      "cell_type": "markdown",
      "source": [
        "=, !=, >, >=, < , <= 사용 가능하다"
      ],
      "metadata": {
        "id": "uuAWlbebTQS5"
      }
    },
    {
      "cell_type": "markdown",
      "source": [
        "논리 연산자 and, or, not 가능"
      ],
      "metadata": {
        "id": "WwL8I9vBU2qe"
      }
    },
    {
      "cell_type": "markdown",
      "source": [
        "## String Operations\n",
        "\n",
        "percent( % ) : 앞뒤에 '%.com%' .com 을 포함하는 문자를 가져와라\n",
        "underscore ( __ ) : __ 정확히 두글자 문자인 열을 가져와라\n"
      ],
      "metadata": {
        "id": "Or-1v3xsMOSD"
      }
    },
    {
      "cell_type": "markdown",
      "source": [
        "Ordering\n",
        "\n",
        "ORDER BY : 오름차순 (defalt)\n",
        "ORDER BY r DESC : 내림차순"
      ],
      "metadata": {
        "id": "nEyXtQdmPEfh"
      }
    },
    {
      "cell_type": "markdown",
      "source": [
        "## Set Operation 집합연산\n"
      ],
      "metadata": {
        "id": "pbCffpcvgcsn"
      }
    },
    {
      "cell_type": "markdown",
      "source": [
        "쿼리문과 쿼리문으로 뽑아낸 두개 테이블 사이를 연산이 가능하다.\n",
        "\n",
        "- UNION : or\n",
        "- INTERSECT : and\n",
        "- EXCEPT : but not"
      ],
      "metadata": {
        "id": "74ATAlpGghQp"
      }
    },
    {
      "cell_type": "markdown",
      "source": [
        "## Null\n",
        "\n",
        "null은 0 과 다르다.\n",
        "\n",
        "아예 값 그 공간안에 존재 하지 않는 것\n",
        "\n",
        "\bNULL 유무 확인은 =로 불가능하고\n",
        "\n",
        "IS NULL 혹은 IS NOT NULL 이라고만 체크 가능하다."
      ],
      "metadata": {
        "id": "8WSSex8LhhNW"
      }
    },
    {
      "cell_type": "markdown",
      "source": [
        "### Aggregate Functions"
      ],
      "metadata": {
        "id": "WPyn0IwzjZOG"
      }
    },
    {
      "cell_type": "markdown",
      "source": [
        "avg, count, min, max, sum 함수 연산이 가능하다."
      ],
      "metadata": {
        "id": "5cHCTfq8j6t5"
      }
    },
    {
      "cell_type": "code",
      "source": [
        "# avg\n",
        "SELECT avg(salary)\n",
        "FROM instructor\n",
        "WHERE dept_name = 'Comp. Sci';\n",
        "# count\n",
        "SELECT count(DISTINCT id)\n",
        "FROM teaches\n",
        "WHERE semester = 'Spring' and year = 2018;\n",
        "\n"
      ],
      "metadata": {
        "id": "fF8vMONUjc3p"
      },
      "execution_count": null,
      "outputs": []
    },
    {
      "cell_type": "markdown",
      "source": [
        "Group By\n"
      ],
      "metadata": {
        "id": "ox34AZ3Ykq69"
      }
    },
    {
      "cell_type": "code",
      "source": [
        "SELECT dept_name,avg(salary) as avg_salary\n",
        "FROM instructor\n",
        "GROUP BY dept_name;"
      ],
      "metadata": {
        "id": "FpAuumtdk372"
      },
      "execution_count": null,
      "outputs": []
    }
  ]
}