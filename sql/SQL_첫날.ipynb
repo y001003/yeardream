{
  "nbformat": 4,
  "nbformat_minor": 0,
  "metadata": {
    "colab": {
      "name": "\bSQL 입문 기초.ipynb",
      "provenance": [],
      "authorship_tag": "ABX9TyO8GrhHnolbUlVuGq2v9cyX",
      "include_colab_link": true
    },
    "kernelspec": {
      "name": "python3",
      "display_name": "Python 3"
    },
    "language_info": {
      "name": "python"
    }
  },
  "cells": [
    {
      "cell_type": "markdown",
      "metadata": {
        "id": "view-in-github",
        "colab_type": "text"
      },
      "source": [
        "<a href=\"https://colab.research.google.com/github/y001003/yeardream/blob/main/%08sql/SQL_%EC%B2%AB%EB%82%A0.ipynb\" target=\"_parent\"><img src=\"https://colab.research.google.com/assets/colab-badge.svg\" alt=\"Open In Colab\"/></a>"
      ]
    },
    {
      "cell_type": "markdown",
      "source": [
        "CS필수과목 : 자료구조, 알고리즘, 데이터베이스, 운영체제, 네트워크, 컴퓨터구조, 프로그래밍언어론(또는 오토마타)\n",
        "\n",
        "한 권으로 읽는 컴퓨터 구조와 프로그래밍:더 나은 소프트웨어 개발을 위한 하드웨어\n",
        "http://www.yes24.com/Product/Goods/98997716\n",
        "\n",
        "\n"
      ],
      "metadata": {
        "id": "IIQPDb0isApB"
      }
    },
    {
      "cell_type": "markdown",
      "source": [
        ""
      ],
      "metadata": {
        "id": "1R9KakjusdPT"
      }
    }
  ]
}