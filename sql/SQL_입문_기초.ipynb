{
  "nbformat": 4,
  "nbformat_minor": 0,
  "metadata": {
    "colab": {
      "name": "\bSQL 입문 기초.ipynb",
      "provenance": [],
      "authorship_tag": "ABX9TyOJHWmAOKtWEomsy9a1w/L6",
      "include_colab_link": true
    },
    "kernelspec": {
      "name": "python3",
      "display_name": "Python 3"
    },
    "language_info": {
      "name": "python"
    }
  },
  "cells": [
    {
      "cell_type": "markdown",
      "metadata": {
        "id": "view-in-github",
        "colab_type": "text"
      },
      "source": [
        "<a href=\"https://colab.research.google.com/github/y001003/yeardream/blob/main/%08sql/SQL_%EC%9E%85%EB%AC%B8_%EA%B8%B0%EC%B4%88.ipynb\" target=\"_parent\"><img src=\"https://colab.research.google.com/assets/colab-badge.svg\" alt=\"Open In Colab\"/></a>"
      ]
    },
    {
      "cell_type": "markdown",
      "source": [
        "CS필수과목 : 자료구조, 알고리즘, 데이터베이스, 운영체제, 네트워크, 컴퓨터구조, 프로그래밍언어론(또는 오토마타)\n",
        "\n",
        "한 권으로 읽는 컴퓨터 구조와 프로그래밍:더 나은 소프트웨어 개발을 위한 하드웨어\n",
        "http://www.yes24.com/Product/Goods/98997716\n",
        "\n",
        "\n"
      ],
      "metadata": {
        "id": "IIQPDb0isApB"
      }
    },
    {
      "cell_type": "markdown",
      "source": [
        "AI논문을 읽고 reproduce를 할 수 있는 능력을 갖출 수 있어야 한다...  \n",
        "논문을 읽고 코드로 구현한다?"
      ],
      "metadata": {
        "id": "1R9KakjusdPT"
      }
    },
    {
      "cell_type": "markdown",
      "source": [
        "데이터 엔지니어  \n",
        "분산처리시스템 : 하둡 에코시스템 카프카  등  \n",
        "데이터베이스 RDB ERD"
      ],
      "metadata": {
        "id": "d-yQh2UpbAtz"
      }
    },
    {
      "cell_type": "markdown",
      "source": [
        "엔지니어라면 어떤 개발환경 혹은 기술을 사용하는 이유 및 장단점을 명확하게 알고 있어야 한다.\n",
        "ex)DB Mysql을 쓰는 이유"
      ],
      "metadata": {
        "id": "RP8taMFdbEbP"
      }
    },
    {
      "cell_type": "markdown",
      "source": [
        "# 데이터 베이스 1일차"
      ],
      "metadata": {
        "id": "Ifo6GtBcbKps"
      }
    },
    {
      "cell_type": "markdown",
      "source": [
        "## 1. 데이터 베이스란?"
      ],
      "metadata": {
        "id": "TYvJ-7DXbNuC"
      }
    },
    {
      "cell_type": "markdown",
      "source": [
        "데이터를 체계적으로 관리할 수 있는 공간을 Database로 정의한다.  \n",
        "그 데이터를 관리하는 시스템을 DBMS라고 한다. ex) oracle, mariaDB, mySQL 등\n"
      ],
      "metadata": {
        "id": "PXXVqlURbQRC"
      }
    },
    {
      "cell_type": "markdown",
      "source": [
        "## 2. 데이터베이스를 사용하는 이유"
      ],
      "metadata": {
        "id": "UEYez3xjbR0U"
      }
    },
    {
      "cell_type": "markdown",
      "source": [
        "데이터베이스 개념 이전에는 File 단위로 데이터를 관리, ex) 윈도우 탐색기, macOS Finder 등"
      ],
      "metadata": {
        "id": "YQHvbUTcbTkB"
      }
    },
    {
      "cell_type": "markdown",
      "source": [
        "- 문제점\n",
        " - Redundancy, Inconsistency\n",
        " - Isolation, Integrity\n",
        " - Atomicity, Concurrency\n",
        "\n",
        "데이터가 여러 형태로 여기저기 저장되면서 통일성을 잃고  \n",
        "데이터를 처리하기 위해 매번 특정 application이 필요할수 있음  \n",
        "데이터에 즉각적으로 접근하기 힘들다.  \n",
        "파일의 일부가 수정되었을때, 전체적인 데이터가 통일성을 유지하기가 힘들다..\n",
        "\n",
        "--> 관리가 불편하다.\n",
        "\n",
        "데이터베이스 정리를 하면 --> 원하는 것을 빠르게 찾을 수 있다. 즉 관리가 잘된다.\n",
        "\n",
        "규격화된 시스템안에 데이터를 체계적으로 정리를 하는 것  \n",
        "<code> 정형 데이터 (Structural data = panel data = tabular data) </code>\n",
        "\n",
        "DB 엔지니어라면 어떤 DB를 사용해야 데이터베이스를 잘 관리할 수 있을지 고민해 봐야 한다!!\n"
      ],
      "metadata": {
        "id": "Sj98S6vDbVSb"
      }
    }
  ]
}