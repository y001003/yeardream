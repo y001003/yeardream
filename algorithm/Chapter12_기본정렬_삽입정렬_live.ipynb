{
  "cells": [
    {
      "cell_type": "markdown",
      "metadata": {
        "id": "view-in-github",
        "colab_type": "text"
      },
      "source": [
        "<a href=\"https://colab.research.google.com/github/y001003/yeardream/blob/main/algorithm/Chapter12_%E1%84%80%E1%85%B5%E1%84%87%E1%85%A9%E1%86%AB%E1%84%8C%E1%85%A5%E1%86%BC%E1%84%85%E1%85%A7%E1%86%AF_%E1%84%89%E1%85%A1%E1%86%B8%E1%84%8B%E1%85%B5%E1%86%B8%E1%84%8C%E1%85%A5%E1%86%BC%E1%84%85%E1%85%A7%E1%86%AF_live.ipynb\" target=\"_parent\"><img src=\"https://colab.research.google.com/assets/colab-badge.svg\" alt=\"Open In Colab\"/></a>"
      ]
    },
    {
      "cell_type": "markdown",
      "metadata": {
        "id": "mYGxroAkb31_"
      },
      "source": [
        "## 대표적인 정렬2: 삽입 정렬 (insertion sort) "
      ]
    },
    {
      "cell_type": "markdown",
      "metadata": {
        "id": "yKyOM-JDb32B"
      },
      "source": [
        "### 1. 삽입 정렬 (insertion sort) 란?\n",
        "* 삽입 정렬은 두 번째 인덱스부터 시작\n",
        "* 해당 인덱스(key 값) 앞에 있는 데이터(B)부터 비교해서 key 값이 더 작으면, B값을 뒤 인덱스로 복사\n",
        "* 이를 key 값이 더 큰 데이터를 만날때까지 반복, 그리고 큰 데이터를 만난 위치 바로 뒤에 key 값을 이동\n",
        "\n",
        "#### 직접 눈으로 보면 더 이해가 쉽다: https://visualgo.net/en/sorting\n",
        "\n",
        "<img src=\"https://upload.wikimedia.org/wikipedia/commons/9/9c/Insertion-sort-example.gif\" />\n",
        "\n",
        "> 출처: https://commons.wikimedia.org/wiki/File:Insertion-sort-example.gif"
      ]
    },
    {
      "cell_type": "markdown",
      "source": [
        "\n",
        "\n",
        "```\n",
        "# 코드로 형식 지정됨\n",
        "for index in range(데이터길이 -1):\n",
        "    # 턴마다 앞에\n",
        "    for index2 in range(index + 1, 0, -1):\n",
        "        if data[index2] < data[index2 - 1]:\n",
        "            swap(data[index2], data[index2 -1])\n",
        "    \n",
        "    else:\n",
        "        break\n",
        "```\n",
        "\n",
        "\n",
        "\n",
        "\n"
      ],
      "metadata": {
        "id": "XRGTBUDndyEr"
      }
    },
    {
      "cell_type": "code",
      "execution_count": null,
      "metadata": {
        "id": "fIZfGNRzb32C",
        "outputId": "5285f0f6-7db1-4b46-c4c9-36225346c66e"
      },
      "outputs": [
        {
          "name": "stdout",
          "output_type": "stream",
          "text": [
            "10\n",
            "9\n",
            "8\n",
            "7\n",
            "6\n",
            "5\n",
            "4\n",
            "3\n",
            "2\n"
          ]
        }
      ],
      "source": [
        "for index in range(10, 1, -1):\n",
        "    print (index)"
      ]
    },
    {
      "cell_type": "markdown",
      "metadata": {
        "id": "gVyJSSHAb32D"
      },
      "source": [
        "### 2. 어떻게 코드로 만들까? (결국 프로그래밍으로 일반화할 수 있도록 만드는 것)\n",
        "\n",
        "> 알고리즘 연습 방법에 기반해서 단계별로 생각해봅니다."
      ]
    },
    {
      "cell_type": "markdown",
      "metadata": {
        "id": "8kVVNOHab32D"
      },
      "source": [
        "<div class=\"alert alert-block alert-warning\">\n",
        "<strong><font color=\"blue\" size=\"4em\">프로그래밍 연습</font></strong><br>\n",
        "데이터가 두개 일때 동작하는 삽입 정렬 알고리즘을 함수로 만들어보세요<br>\n",
        "프로그래밍 근육을 키우는 방법\n",
        "</div>"
      ]
    },
    {
      "cell_type": "markdown",
      "metadata": {
        "id": "Zaxa2z6Eb32D"
      },
      "source": [
        "<div class=\"alert alert-block alert-warning\">\n",
        "<strong><font color=\"blue\" size=\"4em\">프로그래밍 연습</font></strong><br>\n",
        "데이터가 세개 일때 동작하는 선택 정렬 알고리즘을 함수로 만들어보세요<br>\n",
        "프로그래밍 근육을 키우는 방법\n",
        "</div>"
      ]
    },
    {
      "cell_type": "markdown",
      "metadata": {
        "id": "B6f-cY5db32D"
      },
      "source": [
        "<div class=\"alert alert-block alert-warning\">\n",
        "<strong><font color=\"blue\" size=\"4em\">프로그래밍 연습</font></strong><br>\n",
        "데이터가 네개 일때 동작하는 선택 정렬 알고리즘을 함수로 만들어보세요<br>\n",
        "프로그래밍 근육을 키우는 방법\n",
        "</div>"
      ]
    },
    {
      "cell_type": "markdown",
      "metadata": {
        "id": "86y3MV97b32E"
      },
      "source": [
        "* 데이터가 네 개 일때 (데이터 갯수에 따라 복잡도가 떨어지는 것은 아니므로, 네 개로 바로 로직을 이해해보자.)\n",
        "  - 예: data_list = [9, 3, 2, 5]\n",
        "    - 처음 한번 실행하면, key값은 9, 인덱스(0) - 1 은 0보다 작으므로 끝: [9, 3, 2, 5]\n",
        "    - 두 번째 실행하면, key값은 3, 9보다 3이 작으므로 자리 바꾸고, 끝: [3, 9, 2, 5]\n",
        "    - 세 번째 실행하면, key값은 2, 9보다 2가 작으므로 자리 바꾸고, 다시 3보다 2가 작으므로 끝: [2, 3, 9, 5]\n",
        "    - 네 번째 실행하면, key값은 5, 9보다 5이 작으므로 자리 바꾸고, 3보다는 5가 크므로 끝: [2, 3, 5, 9]        "
      ]
    },
    {
      "cell_type": "markdown",
      "metadata": {
        "id": "fHey1QQUb32E"
      },
      "source": [
        "### 3. 알고리즘 구현\n",
        "1. for stand in range(len(data_list)) 로 반복\n",
        "2. key = data_list[stand]\n",
        "3. for num in range(stand, 0, -1) 반복\n",
        "   - 내부 반복문 안에서 data_list[stand] < data_list[num - 1] 이면, \n",
        "     - data_list[num - 1], data_list[num] = data_list[num], data_list[num - 1]   "
      ]
    },
    {
      "cell_type": "code",
      "source": [
        "def insertion_sort(data):\n",
        "    for index in range(len(data) - 1):\n",
        "        for index2 in range(index + 1, 0, -1):\n",
        "            if data[index2] < data[index2 - 1]:\n",
        "                data[index2], data[index2 - 1] = data[index2 - 1], data[index2]\n",
        "            else:\n",
        "                break\n",
        "    return data"
      ],
      "metadata": {
        "id": "FOTZzXbXjibo"
      },
      "execution_count": 14,
      "outputs": []
    },
    {
      "cell_type": "code",
      "execution_count": 22,
      "metadata": {
        "id": "dF6jgaYVb32E"
      },
      "outputs": [],
      "source": [
        "def insertion_sort(data):\n",
        "    for index in range(len(data)):\n",
        "        key = data[index]\n",
        "        for index2 in range(index, 0, -1):\n",
        "            if key < data[index2 - 1]:\n",
        "                data[index2], data[index2 - 1] = data[index2 - 1], data[index2]\n",
        "            else:\n",
        "                break\n",
        "    return data"
      ]
    },
    {
      "cell_type": "code",
      "source": [
        "data_list = [4,3,5,1]\n",
        "print(insertion_sort(data_list))"
      ],
      "metadata": {
        "colab": {
          "base_uri": "https://localhost:8080/"
        },
        "id": "iPDv9Em9iUIH",
        "outputId": "78427c25-42f5-4d8e-e2af-c14a0b8a8bcc"
      },
      "execution_count": 23,
      "outputs": [
        {
          "output_type": "stream",
          "name": "stdout",
          "text": [
            "[1, 3, 4, 5]\n"
          ]
        }
      ]
    },
    {
      "cell_type": "code",
      "execution_count": 24,
      "metadata": {
        "colab": {
          "base_uri": "https://localhost:8080/"
        },
        "id": "nwgM5ZGfb32F",
        "outputId": "a16ac6f5-511b-490f-e4b9-acdb964e6128"
      },
      "outputs": [
        {
          "output_type": "stream",
          "name": "stdout",
          "text": [
            "[3, 4, 10, 11, 12, 13, 17, 19, 20, 21, 22, 24, 27, 29, 30, 33, 34, 35, 36, 37, 38, 39, 41, 47, 48, 49, 50, 51, 53, 54, 55, 57, 62, 64, 66, 68, 69, 70, 74, 75, 77, 78, 83, 85, 86, 88, 90, 94, 98, 99]\n"
          ]
        }
      ],
      "source": [
        "import random\n",
        "\n",
        "data_list = random.sample(range(100), 50)\n",
        "print (insertion_sort(data_list))"
      ]
    },
    {
      "cell_type": "markdown",
      "metadata": {
        "id": "0n26k3aOb32F"
      },
      "source": [
        "### 4. 알고리즘 분석\n",
        "* 반복문이 두 개 O($n^2$)\n",
        "  - 최악의 경우, <font size=5em>$\\frac { n * (n - 1)}{ 2 }$</font>\n",
        "* 완전 정렬이 되어 있는 상태라면 최선은 O(n)"
      ]
    },
    {
      "cell_type": "markdown",
      "metadata": {
        "solution2": "shown",
        "solution2_first": true,
        "id": "edAwJk1eb32F"
      },
      "source": [
        "<div class=\"alert alert-block alert-info\">\n",
        "<strong><font color=\"blue\" size=\"4em\">프로그래밍 연습</font></strong><br>\n",
        "지금 설명한 삽입 정렬을 지금 다시 스스로 작성해보세요<br>\n",
        "</div>"
      ]
    },
    {
      "cell_type": "markdown",
      "metadata": {
        "solution2": "shown",
        "id": "bA5AUn6jb32F"
      },
      "source": [
        "* 이해가 안가면, 이 코드를 보면서 이해하기: https://goo.gl/XKBXuk"
      ]
    }
  ],
  "metadata": {
    "kernelspec": {
      "display_name": "Python 3",
      "language": "python",
      "name": "python3"
    },
    "language_info": {
      "codemirror_mode": {
        "name": "ipython",
        "version": 3
      },
      "file_extension": ".py",
      "mimetype": "text/x-python",
      "name": "python",
      "nbconvert_exporter": "python",
      "pygments_lexer": "ipython3",
      "version": "3.7.2"
    },
    "nbTranslate": {
      "displayLangs": [
        "*"
      ],
      "hotkey": "alt-t",
      "langInMainMenu": true,
      "sourceLang": "en",
      "targetLang": "fr",
      "useGoogleTranslate": true
    },
    "colab": {
      "name": "Chapter12-기본정렬-삽입정렬-live.ipynb",
      "provenance": [],
      "include_colab_link": true
    }
  },
  "nbformat": 4,
  "nbformat_minor": 0
}