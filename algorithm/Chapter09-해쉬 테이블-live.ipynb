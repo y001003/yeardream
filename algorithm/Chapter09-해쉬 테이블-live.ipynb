{
  "cells": [
    {
      "cell_type": "markdown",
      "metadata": {
        "id": "kO6URORfPZmv"
      },
      "source": [
        "## 대표적인 데이터 구조6: 해쉬 테이블 (Hash Table)\n",
        "\n",
        "### 1. 해쉬 구조\n",
        "* Hash Table: 키(Key)에 데이터(Value)를 저장하는 데이터 구조\n",
        "  - Key를 통해 바로 데이터를 받아올 수 있으므로, 속도가 획기적으로 빨라짐\n",
        "  - 파이썬 딕셔너리(Dictionary) 타입이 해쉬 테이블의 예: Key를 가지고 바로 데이터(Value)를 꺼냄\n",
        "  - 보통 배열로 미리 Hash Table 사이즈만큼 생성 후에 사용 (공간과 탐색 시간을 맞바꾸는 기법)\n",
        "  - <font color='#BF360C'>단, 파이썬에서는 해쉬를 별도 구현할 이유가 없음 - 딕셔너리 타입을 사용하면 됨</font>"
      ]
    },
    {
      "cell_type": "markdown",
      "metadata": {
        "id": "J3F3CRRxPZmy"
      },
      "source": [
        "### 2. 알아둘 용어\n",
        "* 해쉬(Hash): 임의 값을 고정 길이로 변환하는 것\n",
        "* 해쉬 테이블(Hash Table): 키 값의 연산에 의해 직접 접근이 가능한 데이터 구조\n",
        "* 해싱 함수(Hashing Function): Key에 대해 산술 연산을 이용해 데이터 위치를 찾을 수 있는 함수\n",
        "* 해쉬 값(Hash Value) 또는 해쉬 주소(Hash Address): Key를 해싱 함수로 연산해서, 해쉬 값을 알아내고, 이를 기반으로 해쉬 테이블에서 해당 Key에 대한 데이터 위치를 일관성있게 찾을 수 있음\n",
        "* 슬롯(Slot): 한 개의 데이터를 저장할 수 있는 공간\n",
        "* 저장할 데이터에 대해 Key를 추출할 수 있는 별도 함수도 존재할 수 있음\n",
        "<img src=\"https://www.fun-coding.org/00_Images/hash.png\" width=400 />"
      ]
    },
    {
      "cell_type": "markdown",
      "metadata": {
        "id": "S42lbRSaPZmy"
      },
      "source": [
        "### 3. 간단한 해쉬 예"
      ]
    },
    {
      "cell_type": "markdown",
      "metadata": {
        "id": "5HnnuxauPZmz"
      },
      "source": [
        "#### 3.1. hash table 만들기\n",
        "* 참고: 파이썬 list comprehension - https://www.fun-coding.org/PL&OOP5-2.html"
      ]
    },
    {
      "cell_type": "code",
      "execution_count": null,
      "metadata": {
        "id": "i9PiIAAnPZmz",
        "outputId": "feac17d2-8eae-4973-f6ab-5616831e9bb5"
      },
      "outputs": [
        {
          "data": {
            "text/plain": [
              "[0, 0, 0, 0, 0, 0, 0, 0, 0, 0]"
            ]
          },
          "execution_count": 1,
          "metadata": {},
          "output_type": "execute_result"
        }
      ],
      "source": [
        "hash_table = list([i for i in range(10)])\n",
        "hash_table"
      ]
    },
    {
      "cell_type": "markdown",
      "metadata": {
        "id": "wQs0rVrEPZm0"
      },
      "source": [
        "#### 3.2. 이번엔 초간단 해쉬 함수를 만들어봅니다.\n",
        "- 다양한 해쉬 함수 고안 기법이 있으며, 가장 간단한 방식이 Division 법 (나누기를 통한 나머지 값을 사용하는 기법)"
      ]
    },
    {
      "cell_type": "code",
      "execution_count": null,
      "metadata": {
        "id": "7AkfpXupPZm0"
      },
      "outputs": [],
      "source": [
        "def hash_func(key):\n",
        "    return key % 5"
      ]
    },
    {
      "cell_type": "markdown",
      "metadata": {
        "id": "LBrGwKvdPZm1"
      },
      "source": [
        "#### 3.3. 해쉬 테이블에 저장해보겠습니다.\n",
        "- 데이터에 따라 필요시 key 생성 방법 정의가 필요함"
      ]
    },
    {
      "cell_type": "code",
      "execution_count": null,
      "metadata": {
        "id": "2bGooGXUPZm1",
        "outputId": "998d956b-7181-47a9-d9dc-05d7f53a7260"
      },
      "outputs": [
        {
          "name": "stdout",
          "output_type": "stream",
          "text": [
            "65 68 84\n",
            "65 0\n",
            "65 65\n"
          ]
        }
      ],
      "source": [
        "data1 = 'Andy'\n",
        "data2 = 'Dave'\n",
        "data3 = 'Trump'\n",
        "data4 = 'Anthor'\n",
        "## ord(): 문자의 ASCII(아스키)코드 리턴\n",
        "print (ord(data1[0]), ord(data2[0]), ord(data3[0]))\n",
        "print (ord(data1[0]), hash_func(ord(data1[0])))\n",
        "print (ord(data1[0]), ord(data4[0]))"
      ]
    },
    {
      "cell_type": "markdown",
      "metadata": {
        "id": "6b1ZBY0yPZm2"
      },
      "source": [
        "- 3.3.2. 해쉬 테이블에 값 저장 예\n",
        "  - data:value 와 같이 data 와 value를 넣으면, 해당 data에 대한 key를 찾아서, 해당 key에 대응하는 해쉬주소에 value를 저장하는 예"
      ]
    },
    {
      "cell_type": "code",
      "execution_count": null,
      "metadata": {
        "id": "7rH2xprFPZm2"
      },
      "outputs": [],
      "source": [
        "def storage_data(data, value):\n",
        "    key = ord(data[0])\n",
        "    hash_address = hash_func(key)\n",
        "    hash_table[hash_address] = value"
      ]
    },
    {
      "cell_type": "markdown",
      "metadata": {
        "id": "YZmLXHmVPZm2"
      },
      "source": [
        "#### 3.4. 해쉬 테이블에서 특정 주소의 데이터를 가져오는 함수도 만들어봅니다."
      ]
    },
    {
      "cell_type": "code",
      "execution_count": null,
      "metadata": {
        "id": "VfjFYv4CPZm3"
      },
      "outputs": [],
      "source": [
        "storage_data('Andy', '01055553333')\n",
        "storage_data('Dave', '01044443333')\n",
        "storage_data('Trump', '01022223333')"
      ]
    },
    {
      "cell_type": "markdown",
      "metadata": {
        "id": "n0zUq4VePZm3"
      },
      "source": [
        "#### 3.5. 실제 데이터를 저장하고, 읽어보겠습니다."
      ]
    },
    {
      "cell_type": "code",
      "execution_count": null,
      "metadata": {
        "id": "BOoSXr5JPZm3"
      },
      "outputs": [],
      "source": [
        "def get_data(data):\n",
        "    key = ord(data[0])\n",
        "    hash_address = hash_func(key)\n",
        "    return hash_table[hash_address]"
      ]
    },
    {
      "cell_type": "code",
      "execution_count": null,
      "metadata": {
        "id": "iRCsY2ByPZm3",
        "outputId": "c0cd1412-99fa-42d2-91eb-01b85b8a6674"
      },
      "outputs": [
        {
          "data": {
            "text/plain": [
              "'01055553333'"
            ]
          },
          "execution_count": 14,
          "metadata": {},
          "output_type": "execute_result"
        }
      ],
      "source": [
        "get_data('Andy')"
      ]
    },
    {
      "cell_type": "markdown",
      "metadata": {
        "id": "NVxsnGBdPZm4"
      },
      "source": [
        "### 4. 자료 구조 해쉬 테이블의 장단점과 주요 용도\n",
        "- 장점\n",
        "  - 데이터 저장/읽기 속도가 빠르다. (검색 속도가 빠르다.)\n",
        "  - 해쉬는 키에 대한 데이터가 있는지(중복) 확인이 쉬움\n",
        "- 단점 \n",
        "  - 일반적으로 저장공간이 좀더 많이 필요하다.\n",
        "  - **여러 키에 해당하는 주소가 동일할 경우 충돌을 해결하기 위한 별도 자료구조가 필요함**\n",
        "- 주요 용도\n",
        "  - 검색이 많이 필요한 경우\n",
        "  - 저장, 삭제, 읽기가 빈번한 경우\n",
        "  - 캐쉬 구현시 (중복 확인이 쉽기 때문)"
      ]
    },
    {
      "cell_type": "markdown",
      "metadata": {
        "id": "fXue7V91PZm4"
      },
      "source": [
        "### 5. 프로그래밍 연습"
      ]
    },
    {
      "cell_type": "markdown",
      "metadata": {
        "id": "cEEvjFUCPZm4"
      },
      "source": [
        "<div class=\"alert alert-block alert-warning\">\n",
        "<strong><font color=\"blue\" size=\"3em\">연습1: 리스트 변수를 활용해서 해쉬 테이블 구현해보기</font></strong><br>\n",
        "1. 해쉬 함수: key % 8<br>\n",
        "2. 해쉬 키 생성: hash(data)\n",
        "</div>"
      ]
    },
    {
      "cell_type": "code",
      "execution_count": null,
      "metadata": {
        "id": "_j-clAErPZm4"
      },
      "outputs": [],
      "source": [
        "hash_table = list([0 for i in range(8)])# [0,0,0,0,0,0,0,0]\n",
        "\n",
        "def get_key(data):\n",
        "    return hash(data)\n",
        "\n",
        "def hash_function(key):\n",
        "    return key % 8 # 8로 나눈 나머지 0~7 사이 값이 hash_table[i]로 들어간다.\n",
        "\n",
        "def save_data(data, value):\n",
        "    hash_address = hash_function(get_key(data))\n",
        "    hash_table[hash_address] = value\n",
        "    \n",
        "def read_data(data):\n",
        "    hash_address = hash_function(get_key(data))\n",
        "    return hash_table[hash_address]\n"
      ]
    },
    {
      "cell_type": "code",
      "execution_count": null,
      "metadata": {
        "id": "nxXmgFcjPZm4",
        "outputId": "8b5da2b5-c833-444a-d9d0-691d9abfa6fe"
      },
      "outputs": [
        {
          "data": {
            "text/plain": [
              "'0102030200'"
            ]
          },
          "execution_count": 18,
          "metadata": {},
          "output_type": "execute_result"
        }
      ],
      "source": [
        "save_data('Dave', '0102030200')\n",
        "save_data('Andy', '01033232200')\n",
        "read_data('Dave')"
      ]
    },
    {
      "cell_type": "code",
      "execution_count": null,
      "metadata": {
        "id": "w3TxcKiKPZm4",
        "outputId": "8e80b091-ef7a-4091-f6f5-9c49be9e63ef"
      },
      "outputs": [
        {
          "data": {
            "text/plain": [
              "['0102030200', 0, 0, 0, 0, 0, 0, '01033232200']"
            ]
          },
          "execution_count": 19,
          "metadata": {},
          "output_type": "execute_result"
        }
      ],
      "source": [
        "hash_table"
      ]
    },
    {
      "cell_type": "markdown",
      "metadata": {
        "id": "_G19m5HiPZm4"
      },
      "source": [
        "### 6. 충돌(Collision) 해결 알고리즘 (좋은 해쉬 함수 사용하기)\n",
        "> 해쉬 테이블의 가장 큰 문제는 충돌(Collision)의 경우입니다.\n",
        "> 이 문제를 충돌(Collision) 또는 해쉬 충돌(Hash Collision)이라고 부릅니다."
      ]
    },
    {
      "cell_type": "markdown",
      "metadata": {
        "id": "jv0l2znPPZm5"
      },
      "source": [
        "#### 6.1. Chaining 기법\n",
        "- **개방 해슁 또는 Open Hashing 기법** 중 하나: 해쉬 테이블 저장공간 외의 공간을 활용하는 기법\n",
        "- 충돌이 일어나면, 링크드 리스트라는 자료 구조를 사용해서, 링크드 리스트로 데이터를 추가로 뒤에 연결시켜서 저장하는 기법"
      ]
    },
    {
      "cell_type": "markdown",
      "metadata": {
        "id": "v7DlZaXPPZm5"
      },
      "source": [
        "<div class=\"alert alert-block alert-warning\">\n",
        "<strong><font color=\"blue\" size=\"3em\">연습2: 연습1의 해쉬 테이블 코드에 Chaining 기법으로 충돌해결 코드를 추가해보기</font></strong><br>\n",
        "1. 해쉬 함수: key % 8<br>\n",
        "2. 해쉬 키 생성: hash(data)\n",
        "</div>"
      ]
    },
    {
      "cell_type": "code",
      "execution_count": null,
      "metadata": {
        "id": "8us5NvuZPZm5"
      },
      "outputs": [],
      "source": [
        "hash_table = list([0 for i in range(8)])\n",
        "\n",
        "def get_key(data):\n",
        "    return hash(data)\n",
        "\n",
        "def hash_function(key):\n",
        "    return key % 8\n",
        "\n",
        "def save_data(data, value):\n",
        "    index_key = get_key(data)\n",
        "    hash_address = hash_function(index_key)\n",
        "    if hash_table[hash_address] != 0:\n",
        "        for index in range(len(hash_table[hash_address])):\n",
        "            if hash_table[hash_address][index][0] == index_key:\n",
        "                hash_table[hash_address][index][1] = value\n",
        "                return\n",
        "        hash_table[hash_address].append([index_key, value])\n",
        "    else:\n",
        "        hash_table[hash_address] = [[index_key, value]]\n",
        "    \n",
        "def read_data(data):\n",
        "    index_key = get_key(data)\n",
        "    hash_address = hash_function(index_key)\n",
        "\n",
        "    if hash_table[hash_address] != 0:\n",
        "        for index in range(len(hash_table[hash_address])):\n",
        "            if hash_table[hash_address][index][0] == index_key:\n",
        "                return hash_table[hash_address][index][1]\n",
        "        return None\n",
        "    else:\n",
        "        return None\n"
      ]
    },
    {
      "cell_type": "code",
      "execution_count": null,
      "metadata": {
        "id": "b-NN4WDXPZm5",
        "outputId": "9350bf3c-fbf5-48b7-b16e-9d24699a8764"
      },
      "outputs": [
        {
          "name": "stdout",
          "output_type": "stream",
          "text": [
            "0\n",
            "2\n",
            "2\n"
          ]
        }
      ],
      "source": [
        "print (hash('Dave') % 8)\n",
        "print (hash('Dd') % 8)\n",
        "print (hash('Data') % 8)"
      ]
    },
    {
      "cell_type": "code",
      "execution_count": null,
      "metadata": {
        "id": "UoWfwMVUPZm5",
        "outputId": "f09a388c-b8cb-44a8-c52f-8bed812e6775"
      },
      "outputs": [
        {
          "data": {
            "text/plain": [
              "'1201023010'"
            ]
          },
          "execution_count": 45,
          "metadata": {},
          "output_type": "execute_result"
        }
      ],
      "source": [
        "save_data('Dd', '1201023010')\n",
        "save_data('Data', '3301023010')\n",
        "read_data('Dd')"
      ]
    },
    {
      "cell_type": "code",
      "execution_count": null,
      "metadata": {
        "id": "_70-_42IPZm5",
        "outputId": "4bc03113-d853-4052-f8b7-2ffe6ebe453e"
      },
      "outputs": [
        {
          "data": {
            "text/plain": [
              "[0,\n",
              " 0,\n",
              " [[1341610532875195530, '1201023010'], [-9031202661634252870, '3301023010']],\n",
              " 0,\n",
              " 0,\n",
              " 0,\n",
              " 0,\n",
              " 0]"
            ]
          },
          "execution_count": 46,
          "metadata": {},
          "output_type": "execute_result"
        }
      ],
      "source": [
        "hash_table"
      ]
    },
    {
      "cell_type": "markdown",
      "metadata": {
        "id": "xy6jrVQcPZm5"
      },
      "source": [
        "#### 6.2. Linear Probing 기법\n",
        "- **폐쇄 해슁 또는 Close Hashing 기법** 중 하나: 해쉬 테이블 저장공간 안에서 충돌 문제를 해결하는 기법\n",
        "- 충돌이 일어나면, 해당 hash address의 다음 address부터 맨 처음 나오는 빈공간에 저장하는 기법\n",
        "  - 저장공간 활용도를 높이기 위한 기법"
      ]
    },
    {
      "cell_type": "markdown",
      "metadata": {
        "id": "IVpW494BPZm6"
      },
      "source": [
        "<div class=\"alert alert-block alert-warning\">\n",
        "<strong><font color=\"blue\" size=\"3em\">연습3: 연습1의 해쉬 테이블 코드에 Linear Probling 기법으로 충돌해결 코드를 추가해보기</font></strong><br>\n",
        "1. 해쉬 함수: key % 8<br>\n",
        "2. 해쉬 키 생성: hash(data)\n",
        "</div>"
      ]
    },
    {
      "cell_type": "code",
      "execution_count": null,
      "metadata": {
        "id": "0RzcfwZZPZm6"
      },
      "outputs": [],
      "source": [
        "hash_table = list([0 for i in range(8)])\n",
        "\n",
        "def get_key(data):\n",
        "    return hash(data)\n",
        "\n",
        "def hash_function(key):\n",
        "    return key % 8\n",
        "\n",
        "def save_data(data, value):\n",
        "    index_key = get_key(data)\n",
        "    hash_address = hash_function(index_key)\n",
        "    if hash_table[hash_address] != 0:\n",
        "        for index in range(hash_address, len(hash_table)):\n",
        "            if hash_table[index] == 0:\n",
        "                hash_table[index] = [index_key, value]\n",
        "                return\n",
        "            elif hash_table[index][0] == index_key:\n",
        "                hash_table[index][1] = value\n",
        "                return\n",
        "    else:\n",
        "        hash_table[hash_address] = [index_key, value]\n",
        "\n",
        "def read_data(data):\n",
        "    index_key = get_key(data)\n",
        "    hash_address = hash_function(index_key)\n",
        "    \n",
        "    if hash_table[hash_address] != 0:\n",
        "        for index in range(hash_address, len(hash_table)):\n",
        "            if hash_table[index] == 0:\n",
        "                return None\n",
        "            elif hash_table[index][0] == index_key:\n",
        "                return hash_table[index][1]\n",
        "    else:\n",
        "        return None\n"
      ]
    },
    {
      "cell_type": "code",
      "execution_count": null,
      "metadata": {
        "id": "WpfQVVxDPZm6",
        "outputId": "ad669eb7-286f-45ee-a2b9-a8e48bf3fb98"
      },
      "outputs": [
        {
          "name": "stdout",
          "output_type": "stream",
          "text": [
            "4\n",
            "4\n",
            "4\n"
          ]
        }
      ],
      "source": [
        "print (hash('dk') % 8)\n",
        "print (hash('da') % 8)\n",
        "print (hash('dc') % 8)"
      ]
    },
    {
      "cell_type": "code",
      "execution_count": null,
      "metadata": {
        "id": "KVzJ8lTXPZm6"
      },
      "outputs": [],
      "source": [
        "save_data('dk', '01200123123')\n",
        "save_data('da', '3333333333')\n",
        "read_data('dc')"
      ]
    },
    {
      "cell_type": "markdown",
      "metadata": {
        "id": "2-yRK81HPZm6"
      },
      "source": [
        "#### 6.3. 빈번한 충돌을 개선하는 기법\n",
        "- 해쉬 함수을 재정의 및 해쉬 테이블 저장공간을 확대\n",
        "- 예:\n",
        "\n",
        "```python\n",
        "hash_table = list([None for i in range(16)])\n",
        "\n",
        "def hash_function(key):\n",
        "    return key % 16\n",
        "```"
      ]
    },
    {
      "cell_type": "markdown",
      "metadata": {
        "id": "i-uW07bMPZm6"
      },
      "source": [
        "### 참고: 해쉬 함수와 키 생성 함수\n",
        "- 파이썬의 hash() 함수는 실행할 때마다, 값이 달라질 수 있음\n",
        "- 유명한 해쉬 함수들이 있음: SHA(Secure Hash Algorithm, 안전한 해시 알고리즘)\n",
        "  - 어떤 데이터도 유일한 고정된 크기의 고정값을 리턴해주므로, 해쉬 함수로 유용하게 활용 가능"
      ]
    },
    {
      "cell_type": "markdown",
      "metadata": {
        "id": "-tXN4qtyPZm6"
      },
      "source": [
        "#### SHA-1"
      ]
    },
    {
      "cell_type": "code",
      "execution_count": null,
      "metadata": {
        "id": "o0b66kbbPZm6",
        "outputId": "2da20950-299d-41a3-a274-5de9b481f1ce"
      },
      "outputs": [
        {
          "name": "stdout",
          "output_type": "stream",
          "text": [
            "a94a8fe5ccb19ba61c4c0873d391e987982fbbd3\n"
          ]
        }
      ],
      "source": [
        "import hashlib\n",
        "\n",
        "data = 'test'.encode()\n",
        "hash_object = hashlib.sha1()\n",
        "hash_object.update(data)\n",
        "hex_dig = hash_object.hexdigest()\n",
        "print (hex_dig)"
      ]
    },
    {
      "cell_type": "markdown",
      "metadata": {
        "id": "7R1raOMjPZm7"
      },
      "source": [
        "#### SHA-256"
      ]
    },
    {
      "cell_type": "code",
      "execution_count": null,
      "metadata": {
        "id": "Vs25OZdhPZm7",
        "outputId": "5146d5e4-6607-449d-e87d-34ce85e57b0e"
      },
      "outputs": [
        {
          "name": "stdout",
          "output_type": "stream",
          "text": [
            "9f86d081884c7d659a2feaa0c55ad015a3bf4f1b2b0b822cd15d6c15b0f00a08\n"
          ]
        }
      ],
      "source": [
        "import hashlib\n",
        "\n",
        "data = 'test'.encode()\n",
        "hash_object = hashlib.sha256()\n",
        "hash_object.update(data)\n",
        "hex_dig = hash_object.hexdigest()\n",
        "print (hex_dig)"
      ]
    },
    {
      "cell_type": "markdown",
      "metadata": {
        "id": "dJYObk8GPZm7"
      },
      "source": [
        "<div class=\"alert alert-block alert-warning\">\n",
        "<strong><font color=\"blue\" size=\"3em\">연습4: 연습2의 Chaining 기법을 적용한 해쉬 테이블 코드에 키 생성 함수를 sha256 해쉬 알고리즘을 사용하도록 변경해보기</font></strong><br>\n",
        "1. 해쉬 함수: key % 8<br>\n",
        "2. 해쉬 키 생성: hash(data)\n",
        "</div>"
      ]
    },
    {
      "cell_type": "code",
      "execution_count": null,
      "metadata": {
        "id": "AApFtgpvPZm7"
      },
      "outputs": [],
      "source": [
        "import hashlib\n",
        "\n",
        "hash_table = list([0 for i in range(8)])\n",
        "\n",
        "def get_key(data):\n",
        "        hash_object = hashlib.sha256()\n",
        "        hash_object.update(data.encode())\n",
        "        hex_dig = hash_object.hexdigest()\n",
        "        return int(hex_dig, 16)\n",
        "\n",
        "def hash_function(key):\n",
        "    return key % 8\n",
        "\n",
        "def save_data(data, value):\n",
        "    index_key = get_key(data)\n",
        "    hash_address = hash_function(index_key)\n",
        "    if hash_table[hash_address] != 0:\n",
        "        for index in range(hash_address, len(hash_table)):\n",
        "            if hash_table[index] == 0:\n",
        "                hash_table[index] = [index_key, value]\n",
        "                return\n",
        "            elif hash_table[index][0] == index_key:\n",
        "                hash_table[index][1] = value\n",
        "                return\n",
        "    else:\n",
        "        hash_table[hash_address] = [index_key, value]\n",
        "\n",
        "def read_data(data):\n",
        "    index_key = get_key(data)\n",
        "    hash_address = hash_function(index_key)\n",
        "    \n",
        "    if hash_table[hash_address] != 0:\n",
        "        for index in range(hash_address, len(hash_table)):\n",
        "            if hash_table[index] == 0:\n",
        "                return None\n",
        "            elif hash_table[index][0] == index_key:\n",
        "                return hash_table[index][1]\n",
        "    else:\n",
        "        return None\n"
      ]
    },
    {
      "cell_type": "code",
      "execution_count": null,
      "metadata": {
        "id": "622xT94MPZm7",
        "outputId": "a67999f9-e257-43d4-c24c-f433876b417b"
      },
      "outputs": [
        {
          "name": "stdout",
          "output_type": "stream",
          "text": [
            "1\n",
            "2\n",
            "2\n"
          ]
        }
      ],
      "source": [
        "print (get_key('db') % 8)\n",
        "print (get_key('da') % 8)\n",
        "print (get_key('dh') % 8)"
      ]
    },
    {
      "cell_type": "code",
      "execution_count": null,
      "metadata": {
        "id": "2P6SriTcPZm7",
        "outputId": "0b44ef0b-6d52-40be-f13f-0046b5c9d9c1"
      },
      "outputs": [
        {
          "data": {
            "text/plain": [
              "'3333333333'"
            ]
          },
          "execution_count": 47,
          "metadata": {},
          "output_type": "execute_result"
        }
      ],
      "source": [
        "save_data('da', '01200123123')\n",
        "save_data('dh', '3333333333')\n",
        "read_data('dh')"
      ]
    },
    {
      "cell_type": "markdown",
      "metadata": {
        "id": "EH-k6jvrPZm7"
      },
      "source": [
        "### 7. 시간 복잡도\n",
        "- 일반적인 경우(Collision이 없는 경우)는 O(1)\n",
        "- 최악의 경우(Collision이 모두 발생하는 경우)는 O(n)\n",
        "\n",
        "> 해쉬 테이블의 경우, 일반적인 경우를 기대하고 만들기 때문에, 시간 복잡도는 O(1) 이라고 말할 수 있음\n",
        "\n",
        "### 검색에서 해쉬 테이블의 사용 예\n",
        "- 16개의 배열에 데이터를 저장하고, 검색할 때 O(n)\n",
        "- 16개의 데이터 저장공간을 가진 위의 해쉬 테이블에 데이터를 저장하고, 검색할 때 O(1)"
      ]
    }
  ],
  "metadata": {
    "kernelspec": {
      "display_name": "Python 3",
      "language": "python",
      "name": "python3"
    },
    "language_info": {
      "codemirror_mode": {
        "name": "ipython",
        "version": 3
      },
      "file_extension": ".py",
      "mimetype": "text/x-python",
      "name": "python",
      "nbconvert_exporter": "python",
      "pygments_lexer": "ipython3",
      "version": "3.7.2"
    },
    "nbTranslate": {
      "displayLangs": [
        "*"
      ],
      "hotkey": "alt-t",
      "langInMainMenu": true,
      "sourceLang": "en",
      "targetLang": "fr",
      "useGoogleTranslate": true
    },
    "colab": {
      "name": "Chapter09-해쉬 테이블-live.ipynb",
      "provenance": []
    }
  },
  "nbformat": 4,
  "nbformat_minor": 0
}