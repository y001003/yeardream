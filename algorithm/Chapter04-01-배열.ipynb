{
  "cells": [
    {
      "cell_type": "markdown",
      "metadata": {
        "collapsed": true,
        "id": "I7LTVPiEH-F7"
      },
      "source": [
        "## 꼭 알아둬야 할 자료 구조: 배열 (Array)\n",
        "* 데이터를 나열하고, 각 데이터를 인덱스에 대응하도록 구성한 데이터 구조\n",
        "* 파이썬에서는 리스트 타입이 배열 기능을 제공함\n",
        "\n",
        "> 기본부터 철저하게 익히세요 [동기부여 영상](https://youtu.be/whFZCmN__mM)"
      ]
    },
    {
      "cell_type": "markdown",
      "metadata": {
        "id": "IK1UxbZBH-F9"
      },
      "source": [
        "### 1. 배열은 왜 필요할까?\n",
        "- 같은 종류의 데이터를 효율적으로 관리하기 위해 사용\n",
        "- 같은 종류의 데이터를 순차적으로 저장\n",
        "- 장점: \n",
        "  - 빠른 접근 가능\n",
        "    - 첫 데이터의 위치에서 상대적인 위치로 데이터 접근(인덱스 번호로 접근)\n",
        "- 단점: \n",
        "  - 데이터 추가/삭제의 어려움\n",
        "    - 미리 최대 길이를 지정해야 함\n",
        "  \n",
        "> 엑셀로 이해해보기"
      ]
    },
    {
      "cell_type": "markdown",
      "metadata": {
        "id": "Aka5hJbcH-F9"
      },
      "source": [
        "#### C 언어 예: 영어 단어 저장"
      ]
    },
    {
      "cell_type": "raw",
      "metadata": {
        "id": "dAmVdS-xH-F9"
      },
      "source": [
        "#include <stdio.h>\n",
        "\n",
        "int main(int argc, char * argv[])\n",
        "{\n",
        "    char country[3] = \"US\";\n",
        "    printf (\"%c%c\\n\", country[0], country[1]);\n",
        "    printf (\"%s\\n\", country);    \n",
        "    return 0;\n",
        "}"
      ]
    },
    {
      "cell_type": "markdown",
      "metadata": {
        "collapsed": true,
        "id": "A2yCvALdH-F-"
      },
      "source": [
        "#### 파이썬 언어 예: 영어 단어 저장"
      ]
    },
    {
      "cell_type": "code",
      "execution_count": 1,
      "metadata": {
        "id": "1s--pzWDH-F-",
        "outputId": "6d600d49-1565-4258-8efb-e115926c347f",
        "colab": {
          "base_uri": "https://localhost:8080/"
        }
      },
      "outputs": [
        {
          "output_type": "stream",
          "name": "stdout",
          "text": [
            "US\n"
          ]
        }
      ],
      "source": [
        "country = 'US'\n",
        "print (country)"
      ]
    },
    {
      "cell_type": "markdown",
      "metadata": {
        "id": "N971XntaH-F_"
      },
      "source": [
        "### 2. 파이썬과 배열\n",
        "- 파이썬에서는 리스트로 배열 구현 가능"
      ]
    },
    {
      "cell_type": "code",
      "execution_count": 2,
      "metadata": {
        "id": "ssvgUoEdH-F_",
        "outputId": "17930652-a4dc-43fc-95c2-2d79bc4c9e13",
        "colab": {
          "base_uri": "https://localhost:8080/"
        }
      },
      "outputs": [
        {
          "output_type": "execute_result",
          "data": {
            "text/plain": [
              "[1, 2, 3, 4, 5]"
            ]
          },
          "metadata": {},
          "execution_count": 2
        }
      ],
      "source": [
        "# 1차원 배열: 리스트로 구현시\n",
        "data_list = [1, 2, 3, 4, 5]\n",
        "data_list"
      ]
    },
    {
      "cell_type": "code",
      "execution_count": 3,
      "metadata": {
        "id": "fbXoID8VH-GA",
        "outputId": "b75a491c-4f6d-4137-9268-e71f01ca9a42",
        "colab": {
          "base_uri": "https://localhost:8080/"
        }
      },
      "outputs": [
        {
          "output_type": "execute_result",
          "data": {
            "text/plain": [
              "[[1, 2, 3], [4, 5, 6], [7, 8, 9]]"
            ]
          },
          "metadata": {},
          "execution_count": 3
        }
      ],
      "source": [
        "# 2차원 배열: 리스트로 구현시\n",
        "data_list = [[1, 2, 3], [4, 5, 6], [7, 8, 9]]\n",
        "data_list"
      ]
    },
    {
      "cell_type": "code",
      "execution_count": 4,
      "metadata": {
        "scrolled": true,
        "id": "iLSqE_SaH-GA",
        "outputId": "2b508a82-981a-487d-865b-4dc0e4bcd044",
        "colab": {
          "base_uri": "https://localhost:8080/"
        }
      },
      "outputs": [
        {
          "output_type": "stream",
          "name": "stdout",
          "text": [
            "[1, 2, 3]\n",
            "1\n",
            "2\n",
            "3\n",
            "4\n",
            "5\n"
          ]
        }
      ],
      "source": [
        "print (data_list[0])\n",
        "\n",
        "print (data_list[0][0])\n",
        "print (data_list[0][1])\n",
        "print (data_list[0][2])\n",
        "print (data_list[1][0])\n",
        "print (data_list[1][1])"
      ]
    },
    {
      "cell_type": "markdown",
      "metadata": {
        "id": "P6iVK4QsH-GA"
      },
      "source": [
        "### 3. 프로그래밍 연습 "
      ]
    },
    {
      "cell_type": "markdown",
      "metadata": {
        "collapsed": true,
        "id": "dl-vxpxKH-GB"
      },
      "source": [
        "<div class=\"alert alert-block alert-warning\">\n",
        "<strong><font color=\"blue\" size=\"3em\">연습1: 위의 2차원 배열에서 9, 8, 7 을 순서대로 출력해보기</font></strong><br>\n",
        "</div>"
      ]
    },
    {
      "cell_type": "code",
      "source": [
        "print(data_list[2][2],data_list[2][1],data_list[2][0])"
      ],
      "metadata": {
        "id": "_m_vqsE0NC6i",
        "outputId": "1474986e-d1e4-426c-bf9b-952e311d8420",
        "colab": {
          "base_uri": "https://localhost:8080/"
        }
      },
      "execution_count": 8,
      "outputs": [
        {
          "output_type": "stream",
          "name": "stdout",
          "text": [
            "9 8 7\n"
          ]
        }
      ]
    },
    {
      "cell_type": "code",
      "execution_count": 6,
      "metadata": {
        "collapsed": true,
        "id": "APyiUPfzH-GB"
      },
      "outputs": [],
      "source": [
        "dataset = ['Braund, Mr. Owen Harris',\n",
        "'Cumings, Mrs. John Bradley (Florence Briggs Thayer)',\n",
        "'Heikkinen, Miss. Laina',\n",
        "'Futrelle, Mrs. Jacques Heath (Lily May Peel)',\n",
        "'Allen, Mr. William Henry',\n",
        "'Moran, Mr. James',\n",
        "'McCarthy, Mr. Timothy J',\n",
        "'Palsson, Master. Gosta Leonard',\n",
        "'Johnson, Mrs. Oscar W (Elisabeth Vilhelmina Berg)',\n",
        "'Nasser, Mrs. Nicholas (Adele Achem)',\n",
        "'Sandstrom, Miss. Marguerite Rut',\n",
        "'Bonnell, Miss. Elizabeth',\n",
        "'Saundercock, Mr. William Henry',\n",
        "'Andersson, Mr. Anders Johan',\n",
        "'Vestrom, Miss. Hulda Amanda Adolfina',\n",
        "'Hewlett, Mrs. (Mary D Kingcome) ',\n",
        "'Rice, Master. Eugene',\n",
        "'Williams, Mr. Charles Eugene',\n",
        "'Vander Planke, Mrs. Julius (Emelia Maria Vandemoortele)',\n",
        "'Masselmani, Mrs. Fatima',\n",
        "'Fynney, Mr. Joseph J',\n",
        "'Beesley, Mr. Lawrence',\n",
        "'McGowan, Miss. Anna \"Annie\"',\n",
        "'Sloper, Mr. William Thompson',\n",
        "'Palsson, Miss. Torborg Danira',\n",
        "'Asplund, Mrs. Carl Oscar (Selma Augusta Emilia Johansson)',\n",
        "'Emir, Mr. Farred Chehab',\n",
        "'Fortune, Mr. Charles Alexander',\n",
        "'Dwyer, Miss. Ellen \"Nellie\"',\n",
        "'Todoroff, Mr. Lalio']"
      ]
    },
    {
      "cell_type": "code",
      "source": [
        "dataset[0]"
      ],
      "metadata": {
        "id": "AL1sKzi5PDSb",
        "outputId": "30319d6c-a98c-4ff4-c4e6-54670a83f7a9",
        "colab": {
          "base_uri": "https://localhost:8080/",
          "height": 36
        }
      },
      "execution_count": 18,
      "outputs": [
        {
          "output_type": "execute_result",
          "data": {
            "text/plain": [
              "'Braund, Mr. Owen Harris'"
            ],
            "application/vnd.google.colaboratory.intrinsic+json": {
              "type": "string"
            }
          },
          "metadata": {},
          "execution_count": 18
        }
      ]
    },
    {
      "cell_type": "markdown",
      "metadata": {
        "solution2": "hidden",
        "solution2_first": true,
        "id": "KrqXY8K5H-GB"
      },
      "source": [
        "<div class=\"alert alert-block alert-warning\">\n",
        "<strong><font color=\"blue\" size=\"3em\">연습2: 위의 dataset 리스트에서 전체 이름 안에 M 은 몇 번 나왔는지 빈도수 출력하기</font></div>"
      ]
    },
    {
      "cell_type": "code",
      "source": [
        "# 내 코드\n",
        "count = 0\n",
        "for i in range(len(dataset)) : \n",
        "    for text in dataset[i]:\n",
        "        if text == 'M':\n",
        "            count +=1\n",
        "print(count)"
      ],
      "metadata": {
        "id": "AXyqbPKcNZSC",
        "outputId": "0bc0eabf-386a-4396-850d-cd4560d91107",
        "colab": {
          "base_uri": "https://localhost:8080/"
        }
      },
      "execution_count": 19,
      "outputs": [
        {
          "output_type": "stream",
          "name": "stdout",
          "text": [
            "38\n"
          ]
        }
      ]
    },
    {
      "cell_type": "code",
      "execution_count": 7,
      "metadata": {
        "solution2": "hidden",
        "id": "usKth8jLH-GB",
        "outputId": "0864211f-cd76-4745-d247-cb93c89ed243",
        "colab": {
          "base_uri": "https://localhost:8080/"
        }
      },
      "outputs": [
        {
          "output_type": "stream",
          "name": "stdout",
          "text": [
            "38\n"
          ]
        }
      ],
      "source": [
        "# 답 코드\n",
        "m_count = 0\n",
        "for data in dataset:\n",
        "    for index in range(len(data)):\n",
        "        if data[index] == 'M':\n",
        "            m_count += 1\n",
        "print (m_count)"
      ]
    },
    {
      "cell_type": "markdown",
      "metadata": {
        "id": "XANfz0TcH-GB"
      },
      "source": [
        "### 참고\n",
        "* range(stop): range(10)은 0, 1, 2, 3, 4, 5, 6, 7, 8, 9\n",
        "* range(start, stop): range(1, 11)은 1, 2, 3, 4, 5, 6, 7, 8, 9, 10\n",
        "* range(start, stop, step): range(0, 20, 2)은 0, 2, 4, 6, 8, 10, 12, 14, 16, 18\n",
        "  - start, stop, step은 음수로 지정 가능"
      ]
    },
    {
      "cell_type": "markdown",
      "metadata": {
        "id": "k9lUErl5H-GC"
      },
      "source": [
        "### 쉬어가기: [Arrays are everywhere](https://youtu.be/ks-q6gKoQKs)"
      ]
    }
  ],
  "metadata": {
    "celltoolbar": "Raw Cell Format",
    "kernelspec": {
      "display_name": "Python 3",
      "language": "python",
      "name": "python3"
    },
    "language_info": {
      "codemirror_mode": {
        "name": "ipython",
        "version": 3
      },
      "file_extension": ".py",
      "mimetype": "text/x-python",
      "name": "python",
      "nbconvert_exporter": "python",
      "pygments_lexer": "ipython3",
      "version": "3.7.2"
    },
    "nbTranslate": {
      "displayLangs": [
        "*"
      ],
      "hotkey": "alt-t",
      "langInMainMenu": true,
      "sourceLang": "en",
      "targetLang": "fr",
      "useGoogleTranslate": true
    },
    "colab": {
      "name": "Chapter04-01-배열.ipynb",
      "provenance": []
    }
  },
  "nbformat": 4,
  "nbformat_minor": 0
}