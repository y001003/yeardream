{
  "cells": [
    {
      "cell_type": "markdown",
      "metadata": {
        "id": "ihRXnAp3HOql"
      },
      "source": [
        "## 대표적인 데이터 구조: 링크드 리스트 (Linked List)"
      ]
    },
    {
      "cell_type": "markdown",
      "metadata": {
        "id": "gEll7NE6HOqm"
      },
      "source": [
        "### 1. 링크드 리스트 (Linked List) 구조\n",
        "* 연결 리스트라고도 함\n",
        "* 배열은 순차적으로 연결된 공간에 데이터를 나열하는 데이터 구조\n",
        "* 링크드 리스트는 떨어진 곳에 존재하는 데이터를 화살표로 연결해서 관리하는 데이터 구조\n",
        "* <font color='#BF360C'>본래 C언어에서는 주요한 데이터 구조이지만, 파이썬은 리스트 타입이 링크드 리스트의 기능을 모두 지원</font>"
      ]
    },
    {
      "cell_type": "markdown",
      "metadata": {
        "id": "LEI7zQ4DHOqn"
      },
      "source": [
        "* 링크드 리스트 기본 구조와 용어\n",
        "  - 노드(Node): 데이터 저장 단위 (데이터값, 포인터) 로 구성\n",
        "  - 포인터(pointer): 각 노드 안에서, 다음이나 이전의 노드와의 연결 정보를 가지고 있는 공간\n",
        "\n",
        "<br>\n",
        "* 일반적인 링크드 리스트 형태\n",
        "<img src=\"https://www.fun-coding.org/00_Images/linkedlist.png\" />\n",
        "(출처: wikipedia, https://en.wikipedia.org/wiki/Linked_list)"
      ]
    },
    {
      "cell_type": "markdown",
      "metadata": {
        "id": "Krb5T_1nHOqn"
      },
      "source": [
        "### 2. 간단한 링크드 리스트 예"
      ]
    },
    {
      "cell_type": "markdown",
      "metadata": {
        "id": "eCW_BbqRHOqn"
      },
      "source": [
        "#### Node 구현\n",
        "- 보통 파이썬에서 링크드 리스트 구현시, 파이썬 클래스를 활용함\n",
        "  - 파이썬 객체지향 문법 이해 필요\n",
        "  - 참고: https://www.fun-coding.org/PL&OOP1-3.html"
      ]
    },
    {
      "cell_type": "code",
      "execution_count": null,
      "metadata": {
        "id": "WSmuveMwHOqo"
      },
      "outputs": [],
      "source": [
        "class Node:\n",
        "    def __init__(self, data):\n",
        "        self.data = data\n",
        "        self.next = None"
      ]
    },
    {
      "cell_type": "code",
      "execution_count": null,
      "metadata": {
        "id": "fV4j5yZEHOqo"
      },
      "outputs": [],
      "source": [
        "class Node:\n",
        "    def __init__(self, data, next=None):\n",
        "        self.data = data\n",
        "        self.next = next"
      ]
    },
    {
      "cell_type": "markdown",
      "metadata": {
        "id": "yPBKH2XXHOqp"
      },
      "source": [
        "#### Node와 Node 연결하기 (포인터 활용)"
      ]
    },
    {
      "cell_type": "code",
      "source": [
        "node1 = Node(1)\n",
        "node2 = Node(2)\n",
        "node1.next = node2\n",
        "head = node1"
      ],
      "metadata": {
        "id": "GEfK1s4Flryj"
      },
      "execution_count": 4,
      "outputs": []
    },
    {
      "cell_type": "code",
      "source": [
        "class MyStatus:\n",
        "    def __init__(self,age): \n",
        "        self.age = age \n",
        "\n",
        "    def print_age(self): \n",
        "        print(self.age) \n",
        "# 클래스 담을 인스턴스 생성\n",
        "a = MyStatus(34)\n",
        "a.print_age() # 34\n",
        "\n",
        "# b변수에 a 인스턴스 지정\n",
        "b = a\n",
        "b.print_age()# 34\n",
        "\n",
        "# b변수에 담을 나이 값 변경\n",
        "b.age = 100\n",
        "a.print_age(),b.print_age()# 100, 100\n",
        "print(a,b)# <__main__.MyStatus object at 0x7f74f4f692d0> <__main__.MyStatus object at 0x7f74f4f692d0>"
      ],
      "metadata": {
        "id": "pk9wFJqmf09n",
        "outputId": "0305bab2-96d4-401c-b296-4bed0c4d3966",
        "colab": {
          "base_uri": "https://localhost:8080/"
        }
      },
      "execution_count": null,
      "outputs": [
        {
          "output_type": "stream",
          "name": "stdout",
          "text": [
            "34\n",
            "34\n",
            "100\n",
            "100\n",
            "<__main__.MyStatus object at 0x7f74f4f692d0> <__main__.MyStatus object at 0x7f74f4f692d0>\n"
          ]
        }
      ]
    },
    {
      "cell_type": "code",
      "source": [
        "# ab라는 리스트를 새로운 bc라는 새로운 변수에 할당할 경우 \n",
        "# 별짓을 해도 두 리스트는 같은 리스트로 운용된다.\n",
        "ab = [1,2,3]\n",
        "bc = ab\n",
        "ab.append(1)\n",
        "print(bc)\n",
        "print(id(ab),id(bc))\n",
        "for i in range(len(ab)):\n",
        "    ab[i] = ab[i]+1\n",
        "print(id(ab),id(bc))\n",
        "print(bc,ab)\n",
        "bc[0] = 100\n",
        "print(bc,ab)\n",
        "bc.reverse()\n",
        "print(bc,ab)\n",
        "\n",
        "# 두개의 리스트 변수를 각각 따로 운용하고 싶다면 copy() 메서드를 이용한다.\n",
        "cd = bc.copy()\n",
        "print(id(bc),id(cd))\n",
        "cd.append(200)\n",
        "print(bc,cd)"
      ],
      "metadata": {
        "id": "H6Azo1DeqASj",
        "outputId": "8cdc8ebf-30a0-4f37-ed30-a2ad20d0e2bf",
        "colab": {
          "base_uri": "https://localhost:8080/"
        }
      },
      "execution_count": null,
      "outputs": [
        {
          "output_type": "stream",
          "name": "stdout",
          "text": [
            "[1, 2, 3, 1]\n",
            "140086941043920 140086941043920\n",
            "140086941043920 140086941043920\n",
            "[2, 3, 4, 2] [2, 3, 4, 2]\n",
            "[100, 3, 4, 2] [100, 3, 4, 2]\n",
            "[2, 4, 3, 100] [2, 4, 3, 100]\n",
            "140086941043920 140086940960960\n",
            "[2, 4, 3, 100] [2, 4, 3, 100, 200]\n"
          ]
        }
      ]
    },
    {
      "cell_type": "markdown",
      "source": [
        "파이썬은 모든 것이 객체로 이루어져 있다.  \n",
        "메모리 공간을 할당받는 방식은 동적 메모리 할당이다.  \n",
        "메모리는 파이썬 메모리 관리자가 관리해준다.  \n",
        "모든 변수들이 객체의 값이 아닌 **주소값**을 가리키는 방식으로 할당된다.\n",
        "\n",
        "리스트 변수(a)를 담은 변수(b)에서 값을 변경시, b변수에서 가르키는 a변수 주소의 값도 같이 바뀌게 된다. 즉 두 리스트가 실제로는 같다는 것이다. \n",
        "https://pro-jy.tistory.com/38\n",
        "\n",
        "따라서 리스트 변수를 새로운 변수에 할당하는 것이 아니라, 새로운 변수에 기존 리스트를 복사하여 따로 운용하고 싶을 경우 copy() 메서드를 사용한다.\n",
        "https://dojang.io/mod/page/view.php?id=1318"
      ],
      "metadata": {
        "id": "nlnG2QbbriQp"
      }
    },
    {
      "cell_type": "markdown",
      "metadata": {
        "id": "fW76UJE7HOqp"
      },
      "source": [
        "#### 링크드 리스트로 데이터 추가하기"
      ]
    },
    {
      "cell_type": "code",
      "execution_count": 7,
      "metadata": {
        "id": "erT1eOjAHOqp"
      },
      "outputs": [],
      "source": [
        "class Node:\n",
        "    def __init__(self, data, next=None):\n",
        "        self.data = data\n",
        "        self.next = next\n",
        "\n",
        "def add(data):\n",
        "    node = head\n",
        "    \n",
        "    while node.next:\n",
        "        node = node.next\n",
        "        # print(node)\n",
        "    # node.next == None 즉 마지막 node가 되었을 때 실행된다.\n",
        "    node.next = Node(data)\n",
        "\n",
        "node1 = Node(1)\n",
        "head = node1\n",
        "for index in range(2,10):\n",
        "    add(index)"
      ]
    },
    {
      "cell_type": "code",
      "source": [
        "node1 = Node(1)\n",
        "# head에는 항상 맨앞에 있는 노드를 넣는다.\n",
        "head = node1\n",
        "\n",
        "for index in range(2,10):\n",
        "    add(index)"
      ],
      "metadata": {
        "id": "EIQgoZnWUzlt"
      },
      "execution_count": null,
      "outputs": []
    },
    {
      "cell_type": "markdown",
      "metadata": {
        "id": "Kg4VQjKoHOqq"
      },
      "source": [
        "#### 링크드 리스트 데이터 출력하기(검색하기)"
      ]
    },
    {
      "cell_type": "code",
      "execution_count": 9,
      "metadata": {
        "id": "hG5p3XyaHOqq",
        "outputId": "81775d61-c34e-4653-e497-0e78912903d4",
        "colab": {
          "base_uri": "https://localhost:8080/"
        }
      },
      "outputs": [
        {
          "output_type": "stream",
          "name": "stdout",
          "text": [
            "1\n",
            "2\n",
            "3\n",
            "4\n",
            "5\n",
            "6\n",
            "7\n",
            "8\n"
          ]
        }
      ],
      "source": [
        "node = head\n",
        "while node.next:\n",
        "    print(node.data)\n",
        "    node = node.next\n"
      ]
    },
    {
      "cell_type": "markdown",
      "metadata": {
        "id": "f0bC9ch0HOqq"
      },
      "source": [
        "### 3. 링크드 리스트의 장단점 (전통적인 C언어에서의 배열과 링크드 리스트)\n",
        "* 장점\n",
        "  - 미리 데이터 공간을 미리 할당하지 않아도 됨\n",
        "    - 배열은 **미리 데이터 공간을 할당** 해야 함\n",
        "* 단점\n",
        "  - 연결을 위한 별도 데이터 공간이 필요하므로, 저장공간 효율이 높지 않음\n",
        "  - 연결 정보를 찾는 시간이 필요하므로 접근 속도가 느림\n",
        "  - 중간 데이터 삭제시, 앞뒤 데이터의 연결을 재구성해야 하는 부가적인 작업 필요"
      ]
    },
    {
      "cell_type": "markdown",
      "metadata": {
        "id": "w-fMfOxJHOqr"
      },
      "source": [
        "### 4. 링크드 리스트의 복잡한 기능1 (링크드 리스트 데이터 사이에 데이터를 추가)\n",
        "- 링크드 리스트는 유지 관리에 부가적인 구현이 필요함\n",
        "\n",
        "<img src=\"https://www.fun-coding.org/00_Images/linkedlistadd.png\" />\n",
        "(출처: wikipedia, https://en.wikipedia.org/wiki/Linked_list)"
      ]
    },
    {
      "cell_type": "code",
      "execution_count": 10,
      "metadata": {
        "id": "Aed7z6ATHOqr",
        "outputId": "42f0adce-4c26-4d47-ae50-99c2d2743e7d",
        "colab": {
          "base_uri": "https://localhost:8080/"
        }
      },
      "outputs": [
        {
          "output_type": "stream",
          "name": "stdout",
          "text": [
            "1\n",
            "2\n",
            "3\n",
            "4\n",
            "5\n",
            "6\n",
            "7\n",
            "8\n",
            "9\n"
          ]
        }
      ],
      "source": [
        "node = head\n",
        "while node.next:\n",
        "    print(node.data)\n",
        "    node = node.next\n",
        "print (node.data)"
      ]
    },
    {
      "cell_type": "code",
      "execution_count": 11,
      "metadata": {
        "id": "sH6aDYPmHOqr"
      },
      "outputs": [],
      "source": [
        "node3 = Node(1.5)"
      ]
    },
    {
      "cell_type": "code",
      "execution_count": 12,
      "metadata": {
        "id": "69wc-t0ZHOqr"
      },
      "outputs": [],
      "source": [
        "node = head\n",
        "search = True\n",
        "while search:\n",
        "    if node.data == 1:\n",
        "        search = False\n",
        "    else:\n",
        "        node = node.next\n",
        "\n",
        "node_next = node.next\n",
        "node.next = node3\n",
        "node3.next = node_next"
      ]
    },
    {
      "cell_type": "code",
      "execution_count": 13,
      "metadata": {
        "id": "H3wjICirHOqs",
        "outputId": "2e33b297-2af2-40ca-8197-7cd6811b47cf",
        "colab": {
          "base_uri": "https://localhost:8080/"
        }
      },
      "outputs": [
        {
          "output_type": "stream",
          "name": "stdout",
          "text": [
            "1\n",
            "1.5\n",
            "2\n",
            "3\n",
            "4\n",
            "5\n",
            "6\n",
            "7\n",
            "8\n",
            "9\n"
          ]
        }
      ],
      "source": [
        "node = head\n",
        "while node.next:\n",
        "    print(node.data)\n",
        "    node = node.next\n",
        "print (node.data)"
      ]
    },
    {
      "cell_type": "markdown",
      "metadata": {
        "id": "IZ6QXwauHOqs"
      },
      "source": [
        "### 5. 파이썬 객체지향 프로그래밍으로 링크드 리스트 구현하기"
      ]
    },
    {
      "cell_type": "code",
      "execution_count": 33,
      "metadata": {
        "id": "_g7OVLuxHOqs"
      },
      "outputs": [],
      "source": [
        "class Node:\n",
        "    def __init__(self, data, next=None):\n",
        "        self.data = data\n",
        "        self.next = next\n",
        "    \n",
        "class NodeMgmt:\n",
        "    def __init__(self, data):\n",
        "        self.head = Node(data)\n",
        "        \n",
        "    def add(self, data):\n",
        "        if self.head == '':\n",
        "            self.head = Node(data)\n",
        "        else:\n",
        "            node = self.head\n",
        "            i=0\n",
        "            while node.next:\n",
        "                i +=1\n",
        "                \n",
        "                node = node.next\n",
        "                print(f\"{i}번째 연결\",node.data)\n",
        "            \n",
        "            node.next = Node(data)\n",
        "        \n",
        "    def desc(self):\n",
        "        node = self.head\n",
        "        while node:\n",
        "            print (node.data)\n",
        "            node = node.next"
      ]
    },
    {
      "cell_type": "code",
      "execution_count": 37,
      "metadata": {
        "id": "Pg3YwgoWHOqs",
        "outputId": "01eab365-58c3-489a-f358-4a56f2e756c7",
        "colab": {
          "base_uri": "https://localhost:8080/"
        }
      },
      "outputs": [
        {
          "output_type": "stream",
          "name": "stdout",
          "text": [
            "0\n"
          ]
        }
      ],
      "source": [
        "linkedlist1 = NodeMgmt(0)\n",
        "linkedlist1.desc()"
      ]
    },
    {
      "cell_type": "code",
      "execution_count": 38,
      "metadata": {
        "id": "q9_PPP8jHOqs",
        "outputId": "00dc5c2b-9387-4bc1-f7b4-c4f7d95daada",
        "colab": {
          "base_uri": "https://localhost:8080/"
        }
      },
      "outputs": [
        {
          "output_type": "stream",
          "name": "stdout",
          "text": [
            "1번째 연결 1\n",
            "1번째 연결 1\n",
            "2번째 연결 2\n",
            "1번째 연결 1\n",
            "2번째 연결 2\n",
            "3번째 연결 3\n",
            "----------------\n",
            "0\n",
            "1\n",
            "2\n",
            "3\n",
            "4\n"
          ]
        }
      ],
      "source": [
        "for data in range(1, 5):\n",
        "    linkedlist1.add(data)\n",
        "# linkedlist1.add(1)\n",
        "# linkedlist1.add(3)\n",
        "# linkedlist1.add(5)\n",
        "# linkedlist1.add(6)\n",
        "\n",
        "print(\"----------------\")\n",
        "linkedlist1.desc()"
      ]
    },
    {
      "cell_type": "markdown",
      "metadata": {
        "id": "XPHF-79hHOqs"
      },
      "source": [
        "### 6. 링크드 리스트의 복잡한 기능2 (특정 노드를 삭제)\n",
        "* 다음 코드는 위의 코드에서 delete 메서드만 추가한 것이므로 해당 메서드만 확인하면 됨"
      ]
    },
    {
      "cell_type": "code",
      "execution_count": 39,
      "metadata": {
        "id": "PyK4FJegHOqs"
      },
      "outputs": [],
      "source": [
        "class Node:\n",
        "    def __init__(self, data, next=None):\n",
        "        self.data = data\n",
        "        self.next = next\n",
        "    \n",
        "class NodeMgmt:\n",
        "    def __init__(self, data):\n",
        "        self.head = Node(data)\n",
        "        \n",
        "    def add(self, data):\n",
        "        if self.head == '':\n",
        "            self.head = Node(data)\n",
        "        else:\n",
        "            node = self.head\n",
        "            while node.next:\n",
        "                node = node.next\n",
        "            node.next = Node(data)\n",
        "        \n",
        "    def desc(self):\n",
        "        node = self.head\n",
        "        while node:\n",
        "            print (node.data)\n",
        "            node = node.next\n",
        "    \n",
        "    def delete(self, data):\n",
        "        if self.head == '':\n",
        "            print (\"해당 값을 가진 노드가 없습니다.\")\n",
        "            return\n",
        "        # head 노드 삭제 경우\n",
        "        if self.head.data == data:\n",
        "            temp = self.head\n",
        "            self.head = self.head.next\n",
        "            del temp\n",
        "        else: # head 외의 노드 삭제 경우\n",
        "            # 노드 A B C 중 B 삭제 예시\n",
        "            #        A\n",
        "            node = self.head\n",
        "            while node.next:\n",
        "                #        B.data. == B.data\n",
        "                if node.next.data == data:\n",
        "                    #       A -> B\n",
        "                    temp = node.next\n",
        "                    #  A ->B 를 A -> C로 경로 바꿔버림\n",
        "                    node.next = node.next.next\n",
        "                    del temp\n",
        "                    return\n",
        "                else:\n",
        "                    node = node.next"
      ]
    },
    {
      "cell_type": "markdown",
      "metadata": {
        "id": "LaNJ9AfAHOqt"
      },
      "source": [
        "#### 테스트를 위해 1개 노드를 만들어 봄"
      ]
    },
    {
      "cell_type": "code",
      "execution_count": 40,
      "metadata": {
        "id": "y7MzgkeIHOqt",
        "outputId": "ff7712d6-eaf6-4dd8-b43a-d236b7fbfc2c",
        "colab": {
          "base_uri": "https://localhost:8080/"
        }
      },
      "outputs": [
        {
          "output_type": "stream",
          "name": "stdout",
          "text": [
            "0\n"
          ]
        }
      ],
      "source": [
        "linkedlist1 = NodeMgmt(0)\n",
        "linkedlist1.desc()"
      ]
    },
    {
      "cell_type": "markdown",
      "metadata": {
        "id": "rkhAtFKrHOqt"
      },
      "source": [
        "#### head 가 살아있음을 확인"
      ]
    },
    {
      "cell_type": "code",
      "execution_count": 41,
      "metadata": {
        "id": "UmG4bfShHOqt",
        "outputId": "bbc4891a-5a05-4b93-eaf6-f05c44d020e6",
        "colab": {
          "base_uri": "https://localhost:8080/"
        }
      },
      "outputs": [
        {
          "output_type": "execute_result",
          "data": {
            "text/plain": [
              "<__main__.Node at 0x7f4d4b687d50>"
            ]
          },
          "metadata": {},
          "execution_count": 41
        }
      ],
      "source": [
        "linkedlist1.head"
      ]
    },
    {
      "cell_type": "markdown",
      "metadata": {
        "id": "R3CpGkd5HOqt"
      },
      "source": [
        "#### head 를 지워봄(위에서 언급한 경우의 수1)"
      ]
    },
    {
      "cell_type": "code",
      "execution_count": 42,
      "metadata": {
        "id": "FB-ukNwlHOqt"
      },
      "outputs": [],
      "source": [
        "linkedlist1.delete(0)"
      ]
    },
    {
      "cell_type": "markdown",
      "metadata": {
        "id": "ejX1B7WrHOqt"
      },
      "source": [
        "#### 다음 코드 실행시 아무것도 안나온다는 것은 linkedlist1.head 가 정상적으로 삭제되었음을 의미"
      ]
    },
    {
      "cell_type": "code",
      "execution_count": 43,
      "metadata": {
        "id": "uBRBPd_lHOqt"
      },
      "outputs": [],
      "source": [
        "linkedlist1.head"
      ]
    },
    {
      "cell_type": "markdown",
      "metadata": {
        "id": "3mNKDLgUHOqt"
      },
      "source": [
        "#### 다시 하나의 노드를 만들어봄"
      ]
    },
    {
      "cell_type": "code",
      "execution_count": 44,
      "metadata": {
        "id": "SI4Lm-LOHOqt",
        "outputId": "b4b04c26-c823-41e8-807d-c2b5135407c5",
        "colab": {
          "base_uri": "https://localhost:8080/"
        }
      },
      "outputs": [
        {
          "output_type": "stream",
          "name": "stdout",
          "text": [
            "0\n"
          ]
        }
      ],
      "source": [
        "linkedlist1 = NodeMgmt(0)\n",
        "linkedlist1.desc()"
      ]
    },
    {
      "cell_type": "markdown",
      "metadata": {
        "id": "s81CBedQHOqt"
      },
      "source": [
        "#### 이번엔 여러 노드를 더 추가해봄"
      ]
    },
    {
      "cell_type": "code",
      "execution_count": 45,
      "metadata": {
        "id": "k8XAR9oxHOqt",
        "outputId": "c8edab7a-0099-488e-cc00-54f54c49bdb7",
        "colab": {
          "base_uri": "https://localhost:8080/"
        }
      },
      "outputs": [
        {
          "output_type": "stream",
          "name": "stdout",
          "text": [
            "0\n",
            "1\n",
            "2\n",
            "3\n",
            "4\n",
            "5\n",
            "6\n",
            "7\n",
            "8\n",
            "9\n"
          ]
        }
      ],
      "source": [
        "for data in range(1, 10):\n",
        "    linkedlist1.add(data)\n",
        "linkedlist1.desc()"
      ]
    },
    {
      "cell_type": "markdown",
      "metadata": {
        "id": "vnZtk5VWHOqt"
      },
      "source": [
        "#### 노드 중에 한개를 삭제함 (위에서 언급한 경우의 수2)"
      ]
    },
    {
      "cell_type": "code",
      "execution_count": 46,
      "metadata": {
        "id": "1aFAucLeHOqt"
      },
      "outputs": [],
      "source": [
        "linkedlist1.delete(4)"
      ]
    },
    {
      "cell_type": "markdown",
      "metadata": {
        "id": "Pp3HshUmHOqt"
      },
      "source": [
        "#### 특정 노드가 삭제되었음을 알 수 있음"
      ]
    },
    {
      "cell_type": "code",
      "execution_count": 47,
      "metadata": {
        "id": "MNNcfAd_HOqt",
        "outputId": "822990ef-2211-4c92-ae1e-7343bc69d130",
        "colab": {
          "base_uri": "https://localhost:8080/"
        }
      },
      "outputs": [
        {
          "output_type": "stream",
          "name": "stdout",
          "text": [
            "0\n",
            "1\n",
            "2\n",
            "3\n",
            "5\n",
            "6\n",
            "7\n",
            "8\n",
            "9\n"
          ]
        }
      ],
      "source": [
        "linkedlist1.desc()"
      ]
    },
    {
      "cell_type": "code",
      "execution_count": 48,
      "metadata": {
        "id": "2Yre2vG7HOqu"
      },
      "outputs": [],
      "source": [
        "linkedlist1.delete(9)"
      ]
    },
    {
      "cell_type": "code",
      "execution_count": 49,
      "metadata": {
        "id": "LODSdF2uHOqu",
        "outputId": "71c972c4-9a56-4c40-c0c7-c352539abf02",
        "colab": {
          "base_uri": "https://localhost:8080/"
        }
      },
      "outputs": [
        {
          "output_type": "stream",
          "name": "stdout",
          "text": [
            "0\n",
            "1\n",
            "2\n",
            "3\n",
            "5\n",
            "6\n",
            "7\n",
            "8\n"
          ]
        }
      ],
      "source": [
        "linkedlist1.desc()"
      ]
    },
    {
      "cell_type": "markdown",
      "metadata": {
        "id": "S5SmdCxLHOqu"
      },
      "source": [
        "### <div class=\"alert alert-block alert-warning\">\n",
        "<strong><font color=\"blue\" size=\"3em\">연습1: 위 코드에서 노드 데이터가 2인 노드 삭제해보기</font></strong>\n",
        "</div>"
      ]
    },
    {
      "cell_type": "code",
      "execution_count": null,
      "metadata": {
        "id": "HHacUT9fHOqu"
      },
      "outputs": [],
      "source": [
        "node_mgmt.delete(2)\n",
        "node_mgmt.desc()"
      ]
    },
    {
      "cell_type": "markdown",
      "metadata": {
        "id": "RukhFw9xHOqu"
      },
      "source": [
        "### <div class=\"alert alert-block alert-warning\">\n",
        "<strong><font color=\"blue\" size=\"3em\">연습2: 위 코드에서 노드 데이터가 특정 숫자인 노드를 찾는 함수를 만들고, 테스트해보기</font></strong><br>\n",
        "테스트: 임의로 1 ~ 9까지 데이터를 링크드 리스트에 넣어보고, 데이터 값이 4인 노드의 데이터 값 출력해보기\n",
        "</div>"
      ]
    },
    {
      "cell_type": "code",
      "execution_count": null,
      "metadata": {
        "id": "KXu7VVi0HOqu"
      },
      "outputs": [],
      "source": [
        "class Node:\n",
        "    def __init__(self, data):\n",
        "        self.data = data\n",
        "        self.next = None\n",
        "\n",
        "class NodeMgmt:\n",
        "    def __init__(self, data):\n",
        "        self.head = Node(data)\n",
        "    \n",
        "    def add(self, data):\n",
        "        if self.head == '':\n",
        "            self.head = Node(data)\n",
        "        else:\n",
        "            node = self.head\n",
        "            while node.next:\n",
        "                node = node.next\n",
        "            node.next = Node(data)\n",
        "\n",
        "    def desc(self):\n",
        "        node = self.head\n",
        "        while node:\n",
        "            print (node.data)\n",
        "            node = node.next\n",
        "\n",
        "    def delete(self, data):\n",
        "        if self.head == '':\n",
        "            print ('해당 값을 가진 노드가 없습니다.')\n",
        "            return\n",
        "        if self.head.data == data: # 경우의 수1: self.head를 삭제해야할 경우 - self.head를 바꿔줘야 함\n",
        "            temp = self.head # self.head 객체를 삭제하기 위해, 임시로 temp에 담아서 객체를 삭제했음\n",
        "            self.head = self.head.next # 만약 self.head 객체를 삭제하면, 이 코드가 실행이 안되기 때문!\n",
        "            del temp\n",
        "        else:\n",
        "            node = self.head\n",
        "            while node.next: # 경우의 수2: self.head가 아닌 노드를 삭제해야할 경우\n",
        "                if node.next.data == data:\n",
        "                    temp = node.next\n",
        "                    node.next = node.next.next       \n",
        "                    del temp                         \n",
        "                    pass                             \n",
        "                else:\n",
        "                    node = node.next\n",
        "                    \n",
        "    def search_node(self, data):\n",
        "        node = self.head\n",
        "        while node:\n",
        "            if node.data == data:\n",
        "                return node\n",
        "            else:\n",
        "                node = node.next"
      ]
    },
    {
      "cell_type": "code",
      "execution_count": null,
      "metadata": {
        "id": "rc9otY0vHOqu"
      },
      "outputs": [],
      "source": [
        "# 테스트\n",
        "node_mgmt = NodeMgmt(0)\n",
        "for data in range(1, 10):\n",
        "    node_mgmt.add(data)\n",
        "\n",
        "node = node_mgmt.search_node(4)\n",
        "print (node.data)"
      ]
    },
    {
      "cell_type": "markdown",
      "metadata": {
        "id": "J0r_z1ZWHOqu"
      },
      "source": [
        "### 7. 다양한 링크드 리스트 구조 \n",
        "* 더블 링크드 리스트(Doubly linked list) 기본 구조 \n",
        "  - 이중 연결 리스트라고도 함\n",
        "  - 장점: 양방향으로 연결되어 있어서 노드 탐색이 양쪽으로 모두 가능\n",
        "  <br>\n",
        "<img src=\"https://www.fun-coding.org/00_Images/doublelinkedlist.png\" />\n",
        "(출처: wikipedia, https://en.wikipedia.org/wiki/Linked_list)"
      ]
    },
    {
      "cell_type": "code",
      "execution_count": null,
      "metadata": {
        "id": "Q2AblECFHOqu"
      },
      "outputs": [],
      "source": [
        "class Node:\n",
        "    def __init__(self, data, prev=None, next=None):\n",
        "        self.prev = prev\n",
        "        self.data = data\n",
        "        self.next = next\n",
        "\n",
        "class NodeMgmt:\n",
        "    def __init__(self, data):\n",
        "        self.head = Node(data)\n",
        "        self.tail = self.head\n",
        "\n",
        "    def insert(self, data):\n",
        "        if self.head == None:\n",
        "            self.head = Node(data)\n",
        "            self.tail = self.head\n",
        "        else:\n",
        "            node = self.head\n",
        "            while node.next:\n",
        "                node = node.next\n",
        "            new = Node(data)\n",
        "            node.next = new\n",
        "            new.prev = node\n",
        "            self.tail = new\n",
        "\n",
        "    def desc(self):\n",
        "        node = self.head\n",
        "        while node:\n",
        "            print (node.data)\n",
        "            node = node.next"
      ]
    },
    {
      "cell_type": "code",
      "execution_count": null,
      "metadata": {
        "id": "Mo0XDnuaHOqu",
        "outputId": "0425b76a-7caa-415a-b20f-288a4c5a239b"
      },
      "outputs": [
        {
          "name": "stdout",
          "output_type": "stream",
          "text": [
            "0\n",
            "1\n",
            "2\n",
            "3\n",
            "4\n",
            "5\n",
            "6\n",
            "7\n",
            "8\n",
            "9\n"
          ]
        }
      ],
      "source": [
        "double_linked_list = NodeMgmt(0)\n",
        "for data in range(1, 10):\n",
        "    double_linked_list.insert(data)\n",
        "double_linked_list.desc()"
      ]
    },
    {
      "cell_type": "markdown",
      "metadata": {
        "id": "u2TFX1WgHOqu"
      },
      "source": [
        "<div class=\"alert alert-block alert-warning\">\n",
        "<strong><font color=\"blue\" size=\"3em\">연습3: 위 코드에서 노드 데이터가 특정 숫자인 노드 앞에 데이터를 추가하는 함수를 만들고, 테스트해보기</font></strong><br>\n",
        "- 더블 링크드 리스트의 tail 에서부터 뒤로 이동하며, 특정 숫자인 노드를 찾는 방식으로 함수를 구현하기<br>\n",
        "- 테스트: 임의로 0 ~ 9까지 데이터를 링크드 리스트에 넣어보고, 데이터 값이 2인 노드 앞에 1.5 데이터 값을 가진 노드를 추가해보기\n",
        "</div>"
      ]
    },
    {
      "cell_type": "code",
      "execution_count": null,
      "metadata": {
        "id": "-EtEb45wHOqv"
      },
      "outputs": [],
      "source": [
        "class Node:\n",
        "    def __init__(self, data, prev=None, next=None):\n",
        "        self.prev = prev\n",
        "        self.data = data\n",
        "        self.next = next\n",
        "\n",
        "class NodeMgmt:\n",
        "    def __init__(self, data):\n",
        "        self.head = Node(data)\n",
        "        self.tail = self.head\n",
        "\n",
        "    def insert(self, data):\n",
        "        if self.head == None:\n",
        "            self.head = Node(data)\n",
        "            self.tail = self.head\n",
        "        else:\n",
        "            node = self.head\n",
        "            while node.next:\n",
        "                node = node.next\n",
        "            new = Node(data)\n",
        "            node.next = new\n",
        "            new.prev = node\n",
        "            self.tail = new\n",
        "\n",
        "    def desc(self):\n",
        "        node = self.head\n",
        "        while node:\n",
        "            print (node.data)\n",
        "            node = node.next\n",
        "    \n",
        "    def search_from_head(self, data):\n",
        "        if self.head == None:\n",
        "            return False\n",
        "    \n",
        "        node = self.head\n",
        "        while node:\n",
        "            if node.data == data:\n",
        "                return node\n",
        "            else:\n",
        "                node = node.next\n",
        "        return False\n",
        "    \n",
        "    def search_from_tail(self, data):\n",
        "        if self.head == None:\n",
        "            return False\n",
        "    \n",
        "        node = self.tail\n",
        "        while node:\n",
        "            if node.data == data:\n",
        "                return node\n",
        "            else:\n",
        "                node = node.prev\n",
        "        return False\n",
        "    \n",
        "    def insert_before(self, data, before_data):\n",
        "        if self.head == None:\n",
        "            self.head = Node(data)\n",
        "            return True\n",
        "        else:\n",
        "            node = self.tail\n",
        "            while node.data != before_data:\n",
        "                node = node.prev\n",
        "                if node == None:\n",
        "                    return False\n",
        "            new = Node(data)\n",
        "            before_new = node.prev\n",
        "            before_new.next = new\n",
        "            new.prev = before_new\n",
        "            new.next = node\n",
        "            node.prev = new\n",
        "            return True"
      ]
    },
    {
      "cell_type": "code",
      "execution_count": null,
      "metadata": {
        "id": "d6PyKOKGHOqv",
        "outputId": "0edd11c8-ccb1-4b43-b675-ef2410912294"
      },
      "outputs": [
        {
          "name": "stdout",
          "output_type": "stream",
          "text": [
            "0\n",
            "1\n",
            "2\n",
            "3\n",
            "4\n",
            "5\n",
            "6\n",
            "7\n",
            "8\n",
            "9\n"
          ]
        }
      ],
      "source": [
        "double_linked_list = NodeMgmt(0)\n",
        "for data in range(1, 10):\n",
        "    double_linked_list.insert(data)\n",
        "double_linked_list.desc()"
      ]
    },
    {
      "cell_type": "code",
      "execution_count": null,
      "metadata": {
        "id": "Ld42uw8CHOqv",
        "outputId": "86153ded-75ba-4537-827f-241f2d81f436"
      },
      "outputs": [
        {
          "data": {
            "text/plain": [
              "3"
            ]
          },
          "execution_count": 15,
          "metadata": {},
          "output_type": "execute_result"
        }
      ],
      "source": [
        "node_3 = double_linked_list.search_from_tail(3)\n",
        "node_3.data"
      ]
    },
    {
      "cell_type": "code",
      "execution_count": null,
      "metadata": {
        "id": "T4CgzfdTHOqv",
        "outputId": "827aed54-db84-4d66-db03-849408faf4b4"
      },
      "outputs": [
        {
          "name": "stdout",
          "output_type": "stream",
          "text": [
            "0\n",
            "1\n",
            "1.5\n",
            "2\n",
            "3\n",
            "4\n",
            "5\n",
            "6\n",
            "7\n",
            "8\n",
            "9\n"
          ]
        }
      ],
      "source": [
        "double_linked_list.insert_before(1.5, 2)\n",
        "double_linked_list.desc()"
      ]
    },
    {
      "cell_type": "code",
      "execution_count": null,
      "metadata": {
        "id": "fBYiEJ7mHOqv",
        "outputId": "1916b72d-572a-443e-dc69-1c0564555329"
      },
      "outputs": [
        {
          "data": {
            "text/plain": [
              "1.5"
            ]
          },
          "execution_count": 19,
          "metadata": {},
          "output_type": "execute_result"
        }
      ],
      "source": [
        "node_3 = double_linked_list.search_from_tail(1.5)\n",
        "node_3.data"
      ]
    },
    {
      "cell_type": "markdown",
      "metadata": {
        "id": "jZWzYjQ5HOqv"
      },
      "source": [
        "<div class=\"alert alert-block alert-warning\">\n",
        "<strong><font color=\"blue\" size=\"3em\">연습4: 위 코드에서 노드 데이터가 특정 숫자인 노드 뒤에 데이터를 추가하는 함수를 만들고, 테스트해보기</font></strong><br>\n",
        "- 더블 링크드 리스트의 head 에서부터 다음으로 이동하며, 특정 숫자인 노드를 찾는 방식으로 함수를 구현하기<br>\n",
        "- 테스트: 임의로 0 ~ 9까지 데이터를 링크드 리스트에 넣어보고, 데이터 값이 1인 노드 다음에 1.7 데이터 값을 가진 노드를 추가해보기\n",
        "</div>"
      ]
    },
    {
      "cell_type": "code",
      "execution_count": null,
      "metadata": {
        "id": "JGkxYjjqHOqv"
      },
      "outputs": [],
      "source": [
        "class Node:\n",
        "    def __init__(self, data, prev=None, next=None):\n",
        "        self.prev = prev\n",
        "        self.data = data\n",
        "        self.next = next\n",
        "\n",
        "class NodeMgmt:\n",
        "    def __init__(self, data):\n",
        "        self.head = Node(data)\n",
        "        self.tail = self.head\n",
        "    \n",
        "    def insert_before(self, data, before_data):\n",
        "        if self.head == None:\n",
        "            self.head = Node(data)\n",
        "            return True            \n",
        "        else:\n",
        "            node = self.tail\n",
        "            while node.data != before_data:\n",
        "                node = node.prev\n",
        "                if node == None:\n",
        "                    return False\n",
        "            new = Node(data)\n",
        "            before_new = node.prev\n",
        "            before_new.next = new\n",
        "            new.next = node\n",
        "            return True\n",
        "\n",
        "    def insert_after(self, data, after_data):\n",
        "        if self.head == None:\n",
        "            self.head = Node(data)\n",
        "            return True            \n",
        "        else:\n",
        "            node = self.head\n",
        "            while node.data != after_data:\n",
        "                node = node.next\n",
        "                if node == None:\n",
        "                    return False\n",
        "            new = Node(data)\n",
        "            after_new = node.next\n",
        "            new.next = after_new\n",
        "            new.prev = node\n",
        "            node.next = new\n",
        "            if new.next == None:\n",
        "                self.tail = new\n",
        "            return True\n",
        "\n",
        "    def insert(self, data):\n",
        "        if self.head == None:\n",
        "            self.head = Node(data)\n",
        "        else:\n",
        "            node = self.head\n",
        "            while node.next:\n",
        "                node = node.next\n",
        "            new = Node(data)\n",
        "            node.next = new\n",
        "            new.prev = node\n",
        "            self.tail = new\n",
        "\n",
        "    def desc(self):\n",
        "        node = self.head\n",
        "        while node:\n",
        "            print (node.data)\n",
        "            node = node.next"
      ]
    },
    {
      "cell_type": "code",
      "execution_count": null,
      "metadata": {
        "id": "NqHp_dhgHOqv"
      },
      "outputs": [],
      "source": [
        "node_mgmt = NodeMgmt(0)\n",
        "for data in range(1, 10):\n",
        "    node_mgmt.insert(data)\n",
        "\n",
        "node_mgmt.desc()\n",
        "\n",
        "node_mgmt.insert_after(1.5, 1)\n",
        "node_mgmt.desc()"
      ]
    }
  ],
  "metadata": {
    "kernelspec": {
      "display_name": "Python 3",
      "language": "python",
      "name": "python3"
    },
    "language_info": {
      "codemirror_mode": {
        "name": "ipython",
        "version": 3
      },
      "file_extension": ".py",
      "mimetype": "text/x-python",
      "name": "python",
      "nbconvert_exporter": "python",
      "pygments_lexer": "ipython3",
      "version": "3.7.2"
    },
    "nbTranslate": {
      "displayLangs": [
        "*"
      ],
      "hotkey": "alt-t",
      "langInMainMenu": true,
      "sourceLang": "en",
      "targetLang": "fr",
      "useGoogleTranslate": true
    },
    "colab": {
      "name": "Chapter07-링크드 리스트-live.ipynb",
      "provenance": []
    }
  },
  "nbformat": 4,
  "nbformat_minor": 0
}