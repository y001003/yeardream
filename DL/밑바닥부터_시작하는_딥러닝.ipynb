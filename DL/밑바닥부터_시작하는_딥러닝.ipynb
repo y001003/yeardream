{
  "nbformat": 4,
  "nbformat_minor": 0,
  "metadata": {
    "colab": {
      "name": "밑바닥부터 시작하는 딥러닝.ipynb",
      "provenance": [],
      "authorship_tag": "ABX9TyMm5uJY9rkD5Vwn3brIcpMF",
      "include_colab_link": true
    },
    "kernelspec": {
      "name": "python3",
      "display_name": "Python 3"
    },
    "language_info": {
      "name": "python"
    }
  },
  "cells": [
    {
      "cell_type": "markdown",
      "metadata": {
        "id": "view-in-github",
        "colab_type": "text"
      },
      "source": [
        "<a href=\"https://colab.research.google.com/github/y001003/yeardream/blob/main/DL/%EB%B0%91%EB%B0%94%EB%8B%A5%EB%B6%80%ED%84%B0_%EC%8B%9C%EC%9E%91%ED%95%98%EB%8A%94_%EB%94%A5%EB%9F%AC%EB%8B%9D.ipynb\" target=\"_parent\"><img src=\"https://colab.research.google.com/assets/colab-badge.svg\" alt=\"Open In Colab\"/></a>"
      ]
    },
    {
      "cell_type": "markdown",
      "source": [
        "# 밑바닥부터 시작하는 딥러닝\n",
        "https://compmath.korea.ac.kr/appmath2021/Perceptron.html\n",
        "\n",
        "밑바닥부터 시작하는 딥러닝\n"
      ],
      "metadata": {
        "id": "K2KtlfWofEVL"
      }
    },
    {
      "cell_type": "markdown",
      "source": [
        "## 2장 퍼셉트론(단순 퍼셉트론)"
      ],
      "metadata": {
        "id": "str_AzQEfWKS"
      }
    },
    {
      "cell_type": "markdown",
      "source": [
        "### 2.1 퍼셉트론이란"
      ],
      "metadata": {
        "id": "OAgLunFwli9_"
      }
    },
    {
      "cell_type": "markdown",
      "source": [
        "**퍼셉트론**이란 다수의 신호를 입력으로 받아 하나의 신호를 출력하는 구조이다.  \n",
        "신호는 흐른다(1), 안 흐른다(0) 두가지 값을 가지게 된다.\n"
      ],
      "metadata": {
        "id": "PAp2pxHZflsy"
      }
    },
    {
      "cell_type": "markdown",
      "source": [
        "![image.png](data:image/png;base64,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)"
      ],
      "metadata": {
        "id": "ffcQQYxwg2Fz"
      }
    },
    {
      "cell_type": "markdown",
      "source": [
        "입력층 : $ x_1, x_2$\n",
        "\n",
        "출력층 : $ y$\n",
        "\n",
        "가중치 : $ w_1, w_2$\n",
        "\n",
        "원을 뉴런 또는 노드라고 부른다. **입력층**에서 받은 신호를 노드에 보낼때 각각 **가중치**(w)를 곱해져서 보내진다. **출력층**에서는 받은 신호들의 총합이 정해진 **한계**를 넘어설 때만 1을 출력한다.\n",
        "\n",
        "이 한계를 **임계값**이라 부르며, 𝛳 세타(theta)라고 부른다.\n",
        "$$\n",
        "f(n)=\n",
        "\\begin{cases}\n",
        "0 & \\mbox{if }(w_1x_1 + w_2x_2) \\leq 𝛳 \\\\\n",
        "1 & \\mbox{if }(w_1x_1 + w_2x_2) > 𝛳\n",
        "\\end{cases}\n",
        "$$\n",
        "가중치가 클수록 해당 신호가 그만큼 더 중요하다는 의미가 된다."
      ],
      "metadata": {
        "id": "vuKvnLu1g3E6"
      }
    },
    {
      "cell_type": "markdown",
      "source": [
        "### 2.2 단순한 논리 회로"
      ],
      "metadata": {
        "id": "pCEizZ34lQUM"
      }
    },
    {
      "cell_type": "markdown",
      "source": [
        "진리표 : 입력신호와 출력신호의 대응 표\n",
        "\n",
        "AND, NAND, OR, XOR 게이트 모두 퍼셉트론의 구조는 동일한채로 매개변수인 **가중치($w$)와 임계치(𝛳)를 적절히 조정**함으로써 구현할 수 있다."
      ],
      "metadata": {
        "id": "0bV9Tk8wmUTr"
      }
    },
    {
      "cell_type": "markdown",
      "source": [
        "#### 2.2.1 AND 게이트"
      ],
      "metadata": {
        "id": "XF8mmtyhlhHa"
      }
    },
    {
      "cell_type": "markdown",
      "source": [
        "|$x_1$|$x_2$|$y$|\n",
        "|------|------|------|\n",
        "|0|0|0|\n",
        "|1|0|0|\n",
        "|0|1|0|\n",
        "|1|1|1|"
      ],
      "metadata": {
        "id": "Wn83rMV5mqYA"
      }
    },
    {
      "cell_type": "code",
      "source": [
        "def AND(x1, x2):\n",
        "    pass"
      ],
      "metadata": {
        "id": "LZP77dDhnKyx"
      },
      "execution_count": null,
      "outputs": []
    },
    {
      "cell_type": "markdown",
      "source": [
        "#### 2.2.2 NAND 게이트와 OR 게이트"
      ],
      "metadata": {
        "id": "YasjhaIHlyAJ"
      }
    },
    {
      "cell_type": "markdown",
      "source": [
        "#### 2.2.4 XOR 게이트"
      ],
      "metadata": {
        "id": "GEJRSvbcl2Kv"
      }
    }
  ]
}