{
 "cells": [
  {
   "cell_type": "markdown",
   "metadata": {},
   "source": [
    "#### 참고 : tensorflow.keras 공식 문서 (Official API Docs) @ https://www.tensorflow.org/api_docs/python/tf/keras"
   ]
  },
  {
   "cell_type": "markdown",
   "metadata": {},
   "source": [
    "<br>\n",
    "\n",
    "## 1. Data loading & preprocessing"
   ]
  },
  {
   "cell_type": "code",
   "execution_count": 3,
   "metadata": {},
   "outputs": [],
   "source": [
    "import pandas as pd\n",
    "import numpy as np\n",
    "import matplotlib.pyplot as plt\n",
    "from ? import datasets, preprocessing # Scikit-learn (sklearn)"
   ]
  },
  {
   "cell_type": "code",
   "execution_count": null,
   "metadata": {},
   "outputs": [],
   "source": [
    "# datasets.load # tab"
   ]
  },
  {
   "cell_type": "code",
   "execution_count": 6,
   "metadata": {},
   "outputs": [
    {
     "data": {
      "text/plain": [
       "dict_keys(['data', 'target', 'feature_names', 'DESCR', 'filename'])"
      ]
     },
     "execution_count": 6,
     "metadata": {},
     "output_type": "execute_result"
    }
   ],
   "source": [
    "datasets.load_boston() #.keys()"
   ]
  },
  {
   "cell_type": "code",
   "execution_count": 5,
   "metadata": {},
   "outputs": [],
   "source": [
    "# print(datasets.load_boston()['DESCR'])"
   ]
  },
  {
   "cell_type": "code",
   "execution_count": 7,
   "metadata": {},
   "outputs": [],
   "source": [
    "# datasets.load_boston().data"
   ]
  },
  {
   "cell_type": "code",
   "execution_count": 9,
   "metadata": {},
   "outputs": [
    {
     "data": {
      "text/html": [
       "<div>\n",
       "<style scoped>\n",
       "    .dataframe tbody tr th:only-of-type {\n",
       "        vertical-align: middle;\n",
       "    }\n",
       "\n",
       "    .dataframe tbody tr th {\n",
       "        vertical-align: top;\n",
       "    }\n",
       "\n",
       "    .dataframe thead th {\n",
       "        text-align: right;\n",
       "    }\n",
       "</style>\n",
       "<table border=\"1\" class=\"dataframe\">\n",
       "  <thead>\n",
       "    <tr style=\"text-align: right;\">\n",
       "      <th></th>\n",
       "      <th>0</th>\n",
       "      <th>1</th>\n",
       "      <th>2</th>\n",
       "      <th>3</th>\n",
       "      <th>4</th>\n",
       "      <th>5</th>\n",
       "      <th>6</th>\n",
       "      <th>7</th>\n",
       "      <th>8</th>\n",
       "      <th>9</th>\n",
       "      <th>10</th>\n",
       "      <th>11</th>\n",
       "      <th>12</th>\n",
       "    </tr>\n",
       "  </thead>\n",
       "  <tbody>\n",
       "    <tr>\n",
       "      <th>0</th>\n",
       "      <td>0.00632</td>\n",
       "      <td>18.0</td>\n",
       "      <td>2.31</td>\n",
       "      <td>0.0</td>\n",
       "      <td>0.538</td>\n",
       "      <td>6.575</td>\n",
       "      <td>65.2</td>\n",
       "      <td>4.0900</td>\n",
       "      <td>1.0</td>\n",
       "      <td>296.0</td>\n",
       "      <td>15.3</td>\n",
       "      <td>396.90</td>\n",
       "      <td>4.98</td>\n",
       "    </tr>\n",
       "    <tr>\n",
       "      <th>1</th>\n",
       "      <td>0.02731</td>\n",
       "      <td>0.0</td>\n",
       "      <td>7.07</td>\n",
       "      <td>0.0</td>\n",
       "      <td>0.469</td>\n",
       "      <td>6.421</td>\n",
       "      <td>78.9</td>\n",
       "      <td>4.9671</td>\n",
       "      <td>2.0</td>\n",
       "      <td>242.0</td>\n",
       "      <td>17.8</td>\n",
       "      <td>396.90</td>\n",
       "      <td>9.14</td>\n",
       "    </tr>\n",
       "    <tr>\n",
       "      <th>2</th>\n",
       "      <td>0.02729</td>\n",
       "      <td>0.0</td>\n",
       "      <td>7.07</td>\n",
       "      <td>0.0</td>\n",
       "      <td>0.469</td>\n",
       "      <td>7.185</td>\n",
       "      <td>61.1</td>\n",
       "      <td>4.9671</td>\n",
       "      <td>2.0</td>\n",
       "      <td>242.0</td>\n",
       "      <td>17.8</td>\n",
       "      <td>392.83</td>\n",
       "      <td>4.03</td>\n",
       "    </tr>\n",
       "    <tr>\n",
       "      <th>3</th>\n",
       "      <td>0.03237</td>\n",
       "      <td>0.0</td>\n",
       "      <td>2.18</td>\n",
       "      <td>0.0</td>\n",
       "      <td>0.458</td>\n",
       "      <td>6.998</td>\n",
       "      <td>45.8</td>\n",
       "      <td>6.0622</td>\n",
       "      <td>3.0</td>\n",
       "      <td>222.0</td>\n",
       "      <td>18.7</td>\n",
       "      <td>394.63</td>\n",
       "      <td>2.94</td>\n",
       "    </tr>\n",
       "    <tr>\n",
       "      <th>4</th>\n",
       "      <td>0.06905</td>\n",
       "      <td>0.0</td>\n",
       "      <td>2.18</td>\n",
       "      <td>0.0</td>\n",
       "      <td>0.458</td>\n",
       "      <td>7.147</td>\n",
       "      <td>54.2</td>\n",
       "      <td>6.0622</td>\n",
       "      <td>3.0</td>\n",
       "      <td>222.0</td>\n",
       "      <td>18.7</td>\n",
       "      <td>396.90</td>\n",
       "      <td>5.33</td>\n",
       "    </tr>\n",
       "  </tbody>\n",
       "</table>\n",
       "</div>"
      ],
      "text/plain": [
       "        0     1     2    3      4      5     6       7    8      9     10  \\\n",
       "0  0.00632  18.0  2.31  0.0  0.538  6.575  65.2  4.0900  1.0  296.0  15.3   \n",
       "1  0.02731   0.0  7.07  0.0  0.469  6.421  78.9  4.9671  2.0  242.0  17.8   \n",
       "2  0.02729   0.0  7.07  0.0  0.469  7.185  61.1  4.9671  2.0  242.0  17.8   \n",
       "3  0.03237   0.0  2.18  0.0  0.458  6.998  45.8  6.0622  3.0  222.0  18.7   \n",
       "4  0.06905   0.0  2.18  0.0  0.458  7.147  54.2  6.0622  3.0  222.0  18.7   \n",
       "\n",
       "       11    12  \n",
       "0  396.90  4.98  \n",
       "1  396.90  9.14  \n",
       "2  392.83  4.03  \n",
       "3  394.63  2.94  \n",
       "4  396.90  5.33  "
      ]
     },
     "execution_count": 9,
     "metadata": {},
     "output_type": "execute_result"
    }
   ],
   "source": [
    "df = pd.?(datasets.load_boston().data) # make a pandas DataFrame from numpy array\n",
    "df.?() # 머리를 영어로?"
   ]
  },
  {
   "cell_type": "code",
   "execution_count": null,
   "metadata": {},
   "outputs": [],
   "source": [
    "x_data = datasets.load_boston().data \n",
    "y_data = datasets.load_boston().target # 집의 가격 (in $1,000s)"
   ]
  },
  {
   "cell_type": "code",
   "execution_count": 10,
   "metadata": {},
   "outputs": [
    {
     "name": "stdout",
     "output_type": "stream",
     "text": [
      "(506, 13)\n",
      "(506,)\n"
     ]
    }
   ],
   "source": [
    "sc = preprocessing.?() # Apply standard scaling on x_data (Standardization)\n",
    "x_data = sc.fit_transform(x_data)\n",
    "\n",
    "print(x_data.?) # 모양을 영어로?\n",
    "print(y_data.?) # 모양을 영어로?"
   ]
  },
  {
   "cell_type": "markdown",
   "metadata": {},
   "source": [
    "<br>\n",
    "\n",
    "## 2. Devide dataframe into X & Y -> Train X / Test X / Train Y / Test Y"
   ]
  },
  {
   "cell_type": "code",
   "execution_count": 7,
   "metadata": {},
   "outputs": [],
   "source": [
    "from sklearn import model_selection"
   ]
  },
  {
   "cell_type": "code",
   "execution_count": 11,
   "metadata": {},
   "outputs": [
    {
     "name": "stdout",
     "output_type": "stream",
     "text": [
      "(354, 13)\n",
      "(152, 13)\n",
      "(354,)\n",
      "(152,)\n"
     ]
    }
   ],
   "source": [
    "train_data, test_data, train_label, test_label = model_selection.?(x_data, y_data,\n",
    "                                                                                 test_size=0.3,\n",
    "                                                                                 random_state=0)\n",
    "print(train_data.shape)\n",
    "print(test_data.shape)\n",
    "print(train_label.shape)\n",
    "print(test_label.shape)"
   ]
  },
  {
   "cell_type": "markdown",
   "metadata": {},
   "source": [
    "<br>\n",
    "\n",
    "## 3. Build & Train the model "
   ]
  },
  {
   "cell_type": "code",
   "execution_count": 8,
   "metadata": {},
   "outputs": [],
   "source": [
    "import tensorflow as tf\n",
    "\n",
    "# tf.keras 에 필요한 함수들이 모여있습니다.\n",
    "from tensorflow.? import datasets, utils\n",
    "from tensorflow.? import models, layers, activations, initializers, losses, optimizers, metrics"
   ]
  },
  {
   "cell_type": "code",
   "execution_count": null,
   "metadata": {},
   "outputs": [],
   "source": [
    "import os\n",
    "os.environ['TF_CPP_MIN_LOG_LEVEL'] = '2' # https://stackoverflow.com/questions/35911252/disable-tensorflow-debugging-information"
   ]
  },
  {
   "cell_type": "code",
   "execution_count": 13,
   "metadata": {},
   "outputs": [],
   "source": [
    "model = models.?() # Build up the \"Sequence\" of layers (Linear stack of layers)\n",
    "\n",
    "# Dense-layer (with he-initialization)\n",
    "model.add(layers.?(input_dim=?, units=64, activation=None, kernel_initializer=initializers.?())) # he-uniform initialization\n",
    "# model.add(layers.BatchNormalization()) # Use this line as if needed\n",
    "model.add(layers.Activation('?')) # elu or relu (or layers.ELU / layers.LeakyReLU)\n",
    "\n",
    "model.add(layers.?(units=64, activation=None, kernel_initializer=initializers.?())) \n",
    "model.add(layers.Activation('?'))\n",
    "\n",
    "model.add(layers.?(units=32, activation=None, kernel_initializer=initializers.?())) \n",
    "model.add(layers.Activation('?'))\n",
    "model.add(layers.?(rate=0.4)) # Dropout-layer\n",
    "\n",
    "model.add(layers.Dense(units=?, activation=None)) "
   ]
  },
  {
   "cell_type": "code",
   "execution_count": 14,
   "metadata": {},
   "outputs": [],
   "source": [
    "# \"Compile\" the model description (Configures the model for training)\n",
    "\n",
    "model.?(optimizer=optimizers.?(), # Please try the Adam-optimizer\n",
    "              loss=losses.?, # MSE \n",
    "              metrics=[metrics.?]) # MSE"
   ]
  },
  {
   "cell_type": "code",
   "execution_count": 15,
   "metadata": {},
   "outputs": [],
   "source": [
    "# \"Fit\" the model on training data\n",
    "\n",
    "history = model.?(train_data, train_label, batch_size=100, epochs=1000, validation_split=0.3, verbose=0) "
   ]
  },
  {
   "cell_type": "code",
   "execution_count": 16,
   "metadata": {},
   "outputs": [
    {
     "name": "stdout",
     "output_type": "stream",
     "text": [
      "152/152 [==============================] - 0s 66us/sample - loss: 16.3706 - mean_squared_error: 16.3706\n",
      "loss (mean_squared_error) : 16.370605845200387\n"
     ]
    }
   ],
   "source": [
    "# \"Evaluate\" the model on test data\n",
    "\n",
    "result = model.?(test_data, test_label)\n",
    "\n",
    "print('loss (mean_squared_error) :', result[0])"
   ]
  },
  {
   "cell_type": "code",
   "execution_count": 17,
   "metadata": {},
   "outputs": [
    {
     "data": {
      "text/plain": [
       "dict_keys(['loss', 'mean_squared_error', 'val_loss', 'val_mean_squared_error'])"
      ]
     },
     "execution_count": 17,
     "metadata": {},
     "output_type": "execute_result"
    }
   ],
   "source": [
    "history.history.keys()"
   ]
  },
  {
   "cell_type": "code",
   "execution_count": 18,
   "metadata": {},
   "outputs": [
    {
     "data": {
      "image/png": "[encoded data removed]",
      "text/plain": [
       "<Figure size 432x288 with 1 Axes>"
      ]
     },
     "metadata": {
      "needs_background": "light"
     },
     "output_type": "display_data"
    }
   ],
   "source": [
    "loss = history.history['mean_squared_error']\n",
    "val_loss = history.history['val_mean_squared_error']\n",
    "\n",
    "x_len = np.arange(len(loss))\n",
    "\n",
    "plt.plot(x_len, loss, marker='.', c='blue', label=\"Train-set loss.\")\n",
    "plt.plot(x_len, val_loss, marker='.', c='red', label=\"Validation-set loss.\")\n",
    "\n",
    "plt.legend(loc='upper right')\n",
    "plt.grid()\n",
    "plt.xlabel('epoch')\n",
    "plt.ylabel('Loss(MSE)')\n",
    "plt.show()"
   ]
  },
  {
   "cell_type": "code",
   "execution_count": 19,
   "metadata": {},
   "outputs": [
    {
     "data": {
      "image/png": "[encoded data removed]",
      "text/plain": [
       "<Figure size 432x288 with 1 Axes>"
      ]
     },
     "metadata": {
      "needs_background": "light"
     },
     "output_type": "display_data"
    }
   ],
   "source": [
    "loss = history.history['mean_squared_error']\n",
    "val_loss = history.history['val_mean_squared_error']\n",
    "\n",
    "x_len = np.arange(len(loss))\n",
    "\n",
    "# epoch 200 ~ epoch 1000\n",
    "plt.plot(x_len[?:], loss[?:], marker='.', c='blue', label=\"Train-set loss.\")\n",
    "plt.plot(x_len[?:], val_loss[?:], marker='.', c='red', label=\"Validation-set loss.\")\n",
    "\n",
    "plt.legend(loc='upper right')\n",
    "plt.grid()\n",
    "plt.xlabel('epoch')\n",
    "plt.ylabel('Loss(MSE)')\n",
    "plt.show()"
   ]
  },
  {
   "cell_type": "code",
   "execution_count": 20,
   "metadata": {},
   "outputs": [
    {
     "data": {
      "text/plain": [
       "array([[23.081247 ],\n",
       "       [26.898668 ],\n",
       "       [23.845587 ],\n",
       "       [ 8.346418 ],\n",
       "       [19.237059 ],\n",
       "       [19.273458 ],\n",
       "       [23.279764 ],\n",
       "       [21.453012 ],\n",
       "       [21.35739  ],\n",
       "       [12.234278 ],\n",
       "       [11.805803 ],\n",
       "       [ 9.758585 ],\n",
       "       [16.785378 ],\n",
       "       [ 8.877489 ],\n",
       "       [37.691593 ],\n",
       "       [34.58548  ],\n",
       "       [22.913696 ],\n",
       "       [36.81197  ],\n",
       "       [29.703747 ],\n",
       "       [22.754206 ],\n",
       "       [23.582047 ],\n",
       "       [19.547117 ],\n",
       "       [20.318872 ],\n",
       "       [26.50196  ],\n",
       "       [21.576494 ],\n",
       "       [22.227907 ],\n",
       "       [16.575083 ],\n",
       "       [17.745165 ],\n",
       "       [41.016666 ],\n",
       "       [16.77359  ],\n",
       "       [16.09251  ],\n",
       "       [17.35671  ],\n",
       "       [21.35761  ],\n",
       "       [18.97355  ],\n",
       "       [27.144953 ],\n",
       "       [21.577827 ],\n",
       "       [ 3.2716923],\n",
       "       [37.58576  ],\n",
       "       [12.1131315],\n",
       "       [17.218077 ],\n",
       "       [22.84907  ],\n",
       "       [22.307314 ],\n",
       "       [20.198465 ],\n",
       "       [18.965082 ],\n",
       "       [20.981482 ],\n",
       "       [24.536684 ],\n",
       "       [19.82762  ],\n",
       "       [15.014047 ],\n",
       "       [13.978716 ],\n",
       "       [22.38601  ],\n",
       "       [14.103652 ],\n",
       "       [21.477367 ],\n",
       "       [22.396116 ],\n",
       "       [43.737225 ],\n",
       "       [15.184482 ],\n",
       "       [18.536818 ],\n",
       "       [17.562626 ],\n",
       "       [18.978643 ],\n",
       "       [23.679346 ],\n",
       "       [19.80504  ],\n",
       "       [19.551125 ],\n",
       "       [20.082666 ],\n",
       "       [32.506767 ],\n",
       "       [29.175022 ],\n",
       "       [20.972275 ],\n",
       "       [28.513483 ],\n",
       "       [17.947428 ],\n",
       "       [17.896288 ],\n",
       "       [11.75868  ],\n",
       "       [22.560244 ],\n",
       "       [19.448603 ],\n",
       "       [21.655474 ],\n",
       "       [27.292171 ],\n",
       "       [29.139894 ],\n",
       "       [24.609797 ],\n",
       "       [ 7.45348  ],\n",
       "       [41.5656   ],\n",
       "       [22.216452 ],\n",
       "       [27.55667  ],\n",
       "       [17.675425 ],\n",
       "       [25.402554 ],\n",
       "       [19.286509 ],\n",
       "       [21.793013 ],\n",
       "       [41.117702 ],\n",
       "       [43.337223 ],\n",
       "       [22.817053 ],\n",
       "       [25.764746 ],\n",
       "       [12.372956 ],\n",
       "       [28.315273 ],\n",
       "       [16.555517 ],\n",
       "       [17.333471 ],\n",
       "       [11.56196  ],\n",
       "       [22.551552 ],\n",
       "       [29.176931 ],\n",
       "       [20.63529  ],\n",
       "       [21.071352 ],\n",
       "       [15.000385 ],\n",
       "       [24.327251 ],\n",
       "       [14.342378 ],\n",
       "       [16.602041 ],\n",
       "       [23.989174 ],\n",
       "       [19.700369 ],\n",
       "       [28.526287 ],\n",
       "       [22.495802 ],\n",
       "       [27.888885 ],\n",
       "       [19.384134 ],\n",
       "       [10.062681 ],\n",
       "       [17.889576 ],\n",
       "       [21.01354  ],\n",
       "       [25.213968 ],\n",
       "       [38.05411  ],\n",
       "       [16.858725 ],\n",
       "       [17.926867 ],\n",
       "       [17.340706 ],\n",
       "       [12.972492 ],\n",
       "       [19.861145 ],\n",
       "       [ 8.844358 ],\n",
       "       [20.11945  ],\n",
       "       [10.699183 ],\n",
       "       [46.314716 ],\n",
       "       [28.077768 ],\n",
       "       [12.191455 ],\n",
       "       [19.07667  ],\n",
       "       [20.082413 ],\n",
       "       [19.482765 ],\n",
       "       [19.489834 ],\n",
       "       [35.812504 ],\n",
       "       [14.629181 ],\n",
       "       [19.549158 ],\n",
       "       [31.249302 ],\n",
       "       [16.07536  ],\n",
       "       [10.50524  ],\n",
       "       [21.7133   ],\n",
       "       [18.981546 ],\n",
       "       [ 9.755349 ],\n",
       "       [35.703182 ],\n",
       "       [23.313486 ],\n",
       "       [12.691377 ],\n",
       "       [26.528376 ],\n",
       "       [10.361576 ],\n",
       "       [ 6.565313 ],\n",
       "       [22.195463 ],\n",
       "       [36.074947 ],\n",
       "       [25.33572  ],\n",
       "       [23.936224 ],\n",
       "       [15.131281 ],\n",
       "       [34.47812  ],\n",
       "       [33.35953  ],\n",
       "       [12.387226 ],\n",
       "       [ 8.324411 ],\n",
       "       [24.908024 ],\n",
       "       [26.353354 ]], dtype=float32)"
      ]
     },
     "execution_count": 20,
     "metadata": {},
     "output_type": "execute_result"
    }
   ],
   "source": [
    "# \"Predict\" on test data\n",
    "\n",
    "model.?(test_data)"
   ]
  },
  {
   "cell_type": "code",
   "execution_count": 26,
   "metadata": {},
   "outputs": [],
   "source": [
    "sample_data = np.array([[0.02731, 0.0, 7.07, 0.0, 0.469, 6.421, 78.9, 4.9671, 2.0, 242.0, 17.8, 396.90, 9.14]])"
   ]
  },
  {
   "cell_type": "code",
   "execution_count": 27,
   "metadata": {},
   "outputs": [
    {
     "data": {
      "text/plain": [
       "array([[9.746259]], dtype=float32)"
      ]
     },
     "execution_count": 27,
     "metadata": {},
     "output_type": "execute_result"
    }
   ],
   "source": [
    "sample_data = sc.?(sample_data) # \"transform\" the sample data with fitted scaler (no \"fit\", just \"transform\")\n",
    "model.predict(sample_data)"
   ]
  },
  {
   "cell_type": "code",
   "execution_count": null,
   "metadata": {},
   "outputs": [],
   "source": []
  }
 ],
 "metadata": {
  "kernel_info": {
   "name": "python3"
  },
  "kernelspec": {
   "display_name": "Python 3",
   "language": "python",
   "name": "python3"
  },
  "language_info": {
   "codemirror_mode": {
    "name": "ipython",
    "version": 3
   },
   "file_extension": ".py",
   "mimetype": "text/x-python",
   "name": "python",
   "nbconvert_exporter": "python",
   "pygments_lexer": "ipython3",
   "version": "3.8.8"
  },
  "nteract": {
   "version": "0.15.0"
  }
 },
 "nbformat": 4,
 "nbformat_minor": 2
}
