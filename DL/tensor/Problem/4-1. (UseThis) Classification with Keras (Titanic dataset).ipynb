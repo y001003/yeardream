{
 "cells": [
  {
   "cell_type": "markdown",
   "metadata": {},
   "source": [
    "#### 참고 : tensorflow.keras 공식 문서 (Official API Docs) @ https://www.tensorflow.org/api_docs/python/tf/keras"
   ]
  },
  {
   "cell_type": "markdown",
   "metadata": {},
   "source": [
    "<br>\n",
    "\n",
    "## 1. Data loading & preprocessing"
   ]
  },
  {
   "cell_type": "code",
   "execution_count": 7,
   "metadata": {},
   "outputs": [],
   "source": [
    "import pandas as pd\n",
    "import numpy as np\n",
    "import matplotlib.pyplot as plt"
   ]
  },
  {
   "cell_type": "code",
   "execution_count": 8,
   "metadata": {},
   "outputs": [
    {
     "data": {
      "text/html": [
       "<div>\n",
       "<style scoped>\n",
       "    .dataframe tbody tr th:only-of-type {\n",
       "        vertical-align: middle;\n",
       "    }\n",
       "\n",
       "    .dataframe tbody tr th {\n",
       "        vertical-align: top;\n",
       "    }\n",
       "\n",
       "    .dataframe thead th {\n",
       "        text-align: right;\n",
       "    }\n",
       "</style>\n",
       "<table border=\"1\" class=\"dataframe\">\n",
       "  <thead>\n",
       "    <tr style=\"text-align: right;\">\n",
       "      <th></th>\n",
       "      <th>PassengerId</th>\n",
       "      <th>Survived</th>\n",
       "      <th>Pclass</th>\n",
       "      <th>Name</th>\n",
       "      <th>Sex</th>\n",
       "      <th>Age</th>\n",
       "      <th>SibSp</th>\n",
       "      <th>Parch</th>\n",
       "      <th>Ticket</th>\n",
       "      <th>Fare</th>\n",
       "      <th>Cabin</th>\n",
       "      <th>Embarked</th>\n",
       "    </tr>\n",
       "  </thead>\n",
       "  <tbody>\n",
       "    <tr>\n",
       "      <th>0</th>\n",
       "      <td>1</td>\n",
       "      <td>0</td>\n",
       "      <td>3</td>\n",
       "      <td>Braund, Mr. Owen Harris</td>\n",
       "      <td>male</td>\n",
       "      <td>22.0</td>\n",
       "      <td>1</td>\n",
       "      <td>0</td>\n",
       "      <td>A/5 21171</td>\n",
       "      <td>7.2500</td>\n",
       "      <td>NaN</td>\n",
       "      <td>S</td>\n",
       "    </tr>\n",
       "    <tr>\n",
       "      <th>1</th>\n",
       "      <td>2</td>\n",
       "      <td>1</td>\n",
       "      <td>1</td>\n",
       "      <td>Cumings, Mrs. John Bradley (Florence Briggs Th...</td>\n",
       "      <td>female</td>\n",
       "      <td>38.0</td>\n",
       "      <td>1</td>\n",
       "      <td>0</td>\n",
       "      <td>PC 17599</td>\n",
       "      <td>71.2833</td>\n",
       "      <td>C85</td>\n",
       "      <td>C</td>\n",
       "    </tr>\n",
       "    <tr>\n",
       "      <th>2</th>\n",
       "      <td>3</td>\n",
       "      <td>1</td>\n",
       "      <td>3</td>\n",
       "      <td>Heikkinen, Miss. Laina</td>\n",
       "      <td>female</td>\n",
       "      <td>26.0</td>\n",
       "      <td>0</td>\n",
       "      <td>0</td>\n",
       "      <td>STON/O2. 3101282</td>\n",
       "      <td>7.9250</td>\n",
       "      <td>NaN</td>\n",
       "      <td>S</td>\n",
       "    </tr>\n",
       "  </tbody>\n",
       "</table>\n",
       "</div>"
      ],
      "text/plain": [
       "   PassengerId  Survived  Pclass  \\\n",
       "0            1         0       3   \n",
       "1            2         1       1   \n",
       "2            3         1       3   \n",
       "\n",
       "                                                Name     Sex   Age  SibSp  \\\n",
       "0                            Braund, Mr. Owen Harris    male  22.0      1   \n",
       "1  Cumings, Mrs. John Bradley (Florence Briggs Th...  female  38.0      1   \n",
       "2                             Heikkinen, Miss. Laina  female  26.0      0   \n",
       "\n",
       "   Parch            Ticket     Fare Cabin Embarked  \n",
       "0      0         A/5 21171   7.2500   NaN        S  \n",
       "1      0          PC 17599  71.2833   C85        C  \n",
       "2      0  STON/O2. 3101282   7.9250   NaN        S  "
      ]
     },
     "execution_count": 8,
     "metadata": {},
     "output_type": "execute_result"
    }
   ],
   "source": [
    "titanic_df = pd.read_csv(\"titanic.csv\")\n",
    "titanic_df.head(3)"
   ]
  },
  {
   "cell_type": "code",
   "execution_count": 9,
   "metadata": {},
   "outputs": [
    {
     "data": {
      "text/html": [
       "<div>\n",
       "<style scoped>\n",
       "    .dataframe tbody tr th:only-of-type {\n",
       "        vertical-align: middle;\n",
       "    }\n",
       "\n",
       "    .dataframe tbody tr th {\n",
       "        vertical-align: top;\n",
       "    }\n",
       "\n",
       "    .dataframe thead th {\n",
       "        text-align: right;\n",
       "    }\n",
       "</style>\n",
       "<table border=\"1\" class=\"dataframe\">\n",
       "  <thead>\n",
       "    <tr style=\"text-align: right;\">\n",
       "      <th></th>\n",
       "      <th>Survived</th>\n",
       "      <th>Pclass</th>\n",
       "      <th>Sex</th>\n",
       "      <th>Age</th>\n",
       "      <th>Fare</th>\n",
       "      <th>Embarked</th>\n",
       "      <th>Title</th>\n",
       "      <th>FamilySize</th>\n",
       "      <th>isAlone</th>\n",
       "    </tr>\n",
       "  </thead>\n",
       "  <tbody>\n",
       "    <tr>\n",
       "      <th>0</th>\n",
       "      <td>0</td>\n",
       "      <td>3</td>\n",
       "      <td>0</td>\n",
       "      <td>1.0</td>\n",
       "      <td>0.0</td>\n",
       "      <td>0</td>\n",
       "      <td>3</td>\n",
       "      <td>0.4</td>\n",
       "      <td>0</td>\n",
       "    </tr>\n",
       "    <tr>\n",
       "      <th>1</th>\n",
       "      <td>1</td>\n",
       "      <td>1</td>\n",
       "      <td>1</td>\n",
       "      <td>2.0</td>\n",
       "      <td>0.0</td>\n",
       "      <td>2</td>\n",
       "      <td>4</td>\n",
       "      <td>0.4</td>\n",
       "      <td>0</td>\n",
       "    </tr>\n",
       "    <tr>\n",
       "      <th>2</th>\n",
       "      <td>1</td>\n",
       "      <td>3</td>\n",
       "      <td>1</td>\n",
       "      <td>1.0</td>\n",
       "      <td>0.0</td>\n",
       "      <td>0</td>\n",
       "      <td>2</td>\n",
       "      <td>0.0</td>\n",
       "      <td>1</td>\n",
       "    </tr>\n",
       "  </tbody>\n",
       "</table>\n",
       "</div>"
      ],
      "text/plain": [
       "   Survived  Pclass  Sex  Age  Fare  Embarked  Title  FamilySize  isAlone\n",
       "0         0       3    0  1.0   0.0         0      3         0.4        0\n",
       "1         1       1    1  2.0   0.0         2      4         0.4        0\n",
       "2         1       3    1  1.0   0.0         0      2         0.0        1"
      ]
     },
     "execution_count": 9,
     "metadata": {},
     "output_type": "execute_result"
    }
   ],
   "source": [
    "del titanic_df['Cabin'] # 너무 많은 결측치가 존재\n",
    "del titanic_df['PassengerId'] # Passenger 번호는 큰 의미를 갖고있지 않은 일련번호\n",
    "del titanic_df['Ticket'] # ticket 번호에서 패턴이 확인되지 않음\n",
    "\n",
    "\n",
    "titanic_df['Title'] = titanic_df['Name'].str.extract('([A-Za-z]+)\\.', expand=False)\n",
    "del titanic_df['Name'] # 호칭만 남김\n",
    "\n",
    "rare_title = []\n",
    "for title in set(titanic_df['Title']):\n",
    "    if list(titanic_df['Title']).count(title) < 10:\n",
    "        rare_title.append(title)\n",
    "\n",
    "titanic_df['Title'] = titanic_df['Title'].replace('Mlle', 'Miss') # Mademoiselle\n",
    "titanic_df['Title'] = titanic_df['Title'].replace('Ms', 'Miss') \n",
    "titanic_df['Title'] = titanic_df['Title'].replace('Mme', 'Mrs') # Madame\n",
    "titanic_df['Title'] = titanic_df['Title'].replace(rare_title, 'Rare')\n",
    "\n",
    "title_mapping = {\"Master\":1, \"Miss\":2, \"Mr\":3, \"Mrs\":4, \"Rare\":5 }\n",
    "titanic_df['Title'] = titanic_df['Title'].map(title_mapping)\n",
    "titanic_df['Title'] = titanic_df['Title'].fillna(0)\n",
    "titanic_df['Title'].astype(int)\n",
    "\n",
    "\n",
    "sex_mapping = {\"male\": 0 , \"female\":1} \n",
    "titanic_df['Sex'] = titanic_df['Sex'].map(sex_mapping)\n",
    "\n",
    "\n",
    "titanic_df['Embarked'] = titanic_df['Embarked'].fillna('S')\n",
    "mapping_data ={\"S\":0, \"Q\":1, \"C\":2}\n",
    "titanic_df[\"Embarked\"] = titanic_df[\"Embarked\"].map(mapping_data)\n",
    "\n",
    "\n",
    "titanic_df.loc[ titanic_df['Fare'] <= 102, 'Fare'] = 0\n",
    "titanic_df.loc[(titanic_df['Fare'] > 102) & (titanic_df['Fare'] <= 204), 'Fare'] = 1\n",
    "titanic_df.loc[(titanic_df['Fare'] > 204) & (titanic_df['Fare'] <= 307), 'Fare'] = 2\n",
    "titanic_df.loc[ titanic_df['Fare'] > 307, 'Fare'] = 4\n",
    "\n",
    "\n",
    "titanic_df[\"FamilySize\"] = titanic_df[\"SibSp\"] + titanic_df[\"Parch\"] +1\n",
    "del titanic_df['SibSp']\n",
    "del titanic_df['Parch']\n",
    "\n",
    "titanic_df['isAlone'] = 0\n",
    "titanic_df.loc[titanic_df['FamilySize'] == 1, 'isAlone'] = 1\n",
    "\n",
    "family_mapping = {1: 0, 2: 0.4, 3: 0.8, 4: 1.2, 5: 1.6, 6: 2, 7: 2.4, 8: 2.8, 9: 3.2, 10: 3.6, 11: 4}\n",
    "titanic_df['FamilySize'] = titanic_df['FamilySize'].map(family_mapping)\n",
    "\n",
    "\n",
    "titanic_df[\"Age\"].fillna(titanic_df.groupby(\"Title\")[\"Age\"].transform(\"median\"), inplace=True)\n",
    "\n",
    "titanic_df.loc[ titanic_df['Age'] <= 16, 'Age'] = 0\n",
    "titanic_df.loc[(titanic_df['Age'] > 16) & (titanic_df['Age'] <= 32), 'Age'] = 1\n",
    "titanic_df.loc[(titanic_df['Age'] > 32) & (titanic_df['Age'] <= 48), 'Age'] = 2\n",
    "titanic_df.loc[(titanic_df['Age'] > 48) & (titanic_df['Age'] <= 64), 'Age'] = 3\n",
    "titanic_df.loc[ titanic_df['Age'] > 64, 'Age'] = 4\n",
    "\n",
    "titanic_df.head(3)"
   ]
  },
  {
   "cell_type": "markdown",
   "metadata": {},
   "source": [
    "<br>\n",
    "\n",
    "## 2. Devide dataframe into X & Y -> Train X / Test X / Train Y / Test Y"
   ]
  },
  {
   "cell_type": "code",
   "execution_count": 10,
   "metadata": {},
   "outputs": [],
   "source": [
    "titanic_target = titanic_df[['Survived']].copy()\n",
    "titanic_data = titanic_df.copy()\n",
    "\n",
    "del titanic_data['Survived']"
   ]
  },
  {
   "cell_type": "code",
   "execution_count": 11,
   "metadata": {},
   "outputs": [],
   "source": [
    "from sklearn import model_selection"
   ]
  },
  {
   "cell_type": "code",
   "execution_count": 12,
   "metadata": {},
   "outputs": [
    {
     "name": "stdout",
     "output_type": "stream",
     "text": [
      "(623, 8)\n",
      "(268, 8)\n",
      "(623, 1)\n",
      "(268, 1)\n"
     ]
    }
   ],
   "source": [
    "train_data, test_data, train_label, test_label = model_selection.train_test_split(titanic_data, titanic_target,\n",
    "                                                                                 test_size=0.3,\n",
    "                                                                                 random_state=0)\n",
    "print(train_data.shape)\n",
    "print(test_data.shape)\n",
    "print(train_label.shape)\n",
    "print(test_label.shape)"
   ]
  },
  {
   "cell_type": "markdown",
   "metadata": {},
   "source": [
    "<br>\n",
    "\n",
    "## 3. Change normal labels to one-hot labels"
   ]
  },
  {
   "cell_type": "code",
   "execution_count": 13,
   "metadata": {},
   "outputs": [
    {
     "data": {
      "text/html": [
       "<div>\n",
       "<style scoped>\n",
       "    .dataframe tbody tr th:only-of-type {\n",
       "        vertical-align: middle;\n",
       "    }\n",
       "\n",
       "    .dataframe tbody tr th {\n",
       "        vertical-align: top;\n",
       "    }\n",
       "\n",
       "    .dataframe thead th {\n",
       "        text-align: right;\n",
       "    }\n",
       "</style>\n",
       "<table border=\"1\" class=\"dataframe\">\n",
       "  <thead>\n",
       "    <tr style=\"text-align: right;\">\n",
       "      <th></th>\n",
       "      <th>Survived</th>\n",
       "    </tr>\n",
       "  </thead>\n",
       "  <tbody>\n",
       "    <tr>\n",
       "      <th>857</th>\n",
       "      <td>1</td>\n",
       "    </tr>\n",
       "    <tr>\n",
       "      <th>52</th>\n",
       "      <td>1</td>\n",
       "    </tr>\n",
       "    <tr>\n",
       "      <th>386</th>\n",
       "      <td>0</td>\n",
       "    </tr>\n",
       "    <tr>\n",
       "      <th>124</th>\n",
       "      <td>0</td>\n",
       "    </tr>\n",
       "    <tr>\n",
       "      <th>578</th>\n",
       "      <td>0</td>\n",
       "    </tr>\n",
       "  </tbody>\n",
       "</table>\n",
       "</div>"
      ],
      "text/plain": [
       "     Survived\n",
       "857         1\n",
       "52          1\n",
       "386         0\n",
       "124         0\n",
       "578         0"
      ]
     },
     "execution_count": 13,
     "metadata": {},
     "output_type": "execute_result"
    }
   ],
   "source": [
    "train_label[:5]"
   ]
  },
  {
   "cell_type": "code",
   "execution_count": 14,
   "metadata": {},
   "outputs": [
    {
     "name": "stdout",
     "output_type": "stream",
     "text": [
      "(623, 2)\n",
      "(268, 2)\n"
     ]
    }
   ],
   "source": [
    "from tensorflow.keras import utils\n",
    "\n",
    "train_label = utils.to_categorical(train_label) # 0 or 1 -> one-hot vector\n",
    "test_label = utils.to_categorical(test_label) # 0 or 1 -> one-hot vector\n",
    "\n",
    "print(train_label.shape) # 모양을 영어로?\n",
    "print(test_label.shape) # 모양을 영어로?\n",
    "\n",
    "# from sklearn import preprocessing\n",
    "# enc = preprocessing.OneHotEncoder(categories='auto') # Apply 'One-hot encoding' on labels (Single integer to One-hot vector)\n",
    "# train_label = enc.fit_transform(train_label).toarray()\n",
    "# test_label = enc.fit_transform(test_label).toarray()"
   ]
  },
  {
   "cell_type": "code",
   "execution_count": 15,
   "metadata": {},
   "outputs": [
    {
     "data": {
      "text/plain": [
       "array([[0., 1.],\n",
       "       [0., 1.],\n",
       "       [1., 0.],\n",
       "       ...,\n",
       "       [1., 0.],\n",
       "       [0., 1.],\n",
       "       [1., 0.]], dtype=float32)"
      ]
     },
     "execution_count": 15,
     "metadata": {},
     "output_type": "execute_result"
    }
   ],
   "source": [
    "train_label"
   ]
  },
  {
   "cell_type": "markdown",
   "metadata": {},
   "source": [
    "<br>\n",
    "\n",
    "## 4. Build & Train the model "
   ]
  },
  {
   "cell_type": "code",
   "execution_count": 17,
   "metadata": {},
   "outputs": [],
   "source": [
    "import tensorflow as tf\n",
    "\n",
    "# tf.keras 에 필요한 함수들이 모여있습니다.\n",
    "from tensorflow.keras import datasets, utils\n",
    "from tensorflow.keras import models, layers, activations, initializers, losses, optimizers, metrics"
   ]
  },
  {
   "cell_type": "code",
   "execution_count": 18,
   "metadata": {},
   "outputs": [],
   "source": [
    "import os\n",
    "os.environ['TF_CPP_MIN_LOG_LEVEL'] = '2' # https://stackoverflow.com/questions/35911252/disable-tensorflow-debugging-information"
   ]
  },
  {
   "cell_type": "code",
   "execution_count": 19,
   "metadata": {},
   "outputs": [
    {
     "name": "stdout",
     "output_type": "stream",
     "text": [
      "Metal device set to: Apple M1\n"
     ]
    }
   ],
   "source": [
    "model = models.Sequential() # Build up the \"Sequence\" of layers (Linear stack of layers)\n",
    "\n",
    "# Dense-layer (with he-initialization)\n",
    "model.add(layers.Dense(input_dim=8, units=256, activation=None, kernel_initializer=initializers.he_uniform())) # he-uniform initialization\n",
    "# model.add(layers.BatchNormalization()) # Use this line as if needed\n",
    "model.add(layers.Activation('elu')) # elu or relu (or layers.ELU / layers.LeakyReLU)\n",
    "\n",
    "model.add(layers.Dense(units=512, activation=None, kernel_initializer=initializers.he_uniform()))\n",
    "model.add(layers.Activation('elu'))\n",
    "\n",
    "model.add(layers.Dense(units=512, activation=None, kernel_initializer=initializers.he_uniform()))\n",
    "model.add(layers.Activation('elu'))\n",
    "\n",
    "model.add(layers.Dense(units=256, activation=None, kernel_initializer=initializers.he_uniform()))\n",
    "model.add(layers.Activation('elu'))\n",
    "model.add(layers.Dropout(rate=0.5)) # Dropout-layer\n",
    "\n",
    "model.add(layers.Dense(units=2, activation='softmax')) # Apply softmax function on model's output"
   ]
  },
  {
   "cell_type": "code",
   "execution_count": 20,
   "metadata": {},
   "outputs": [],
   "source": [
    "# \"Compile\" the model description (Configures the model for training)\n",
    "\n",
    "model.compile(optimizer=optimizers.Adam(), # Please try the Adam-optimizer\n",
    "              loss=losses.categorical_crossentropy, \n",
    "              metrics=[metrics.categorical_accuracy]) # Precision / Recall / F1-Score 적용하기 @ https://j.mp/3cf3lbi"
   ]
  },
  {
   "cell_type": "code",
   "execution_count": 21,
   "metadata": {},
   "outputs": [
    {
     "name": "stdout",
     "output_type": "stream",
     "text": [
      "Epoch 1/20\n",
      "5/5 [==============================] - 1s 91ms/step - loss: 4.5674 - categorical_accuracy: 0.5688 - val_loss: 2.6041 - val_categorical_accuracy: 0.5936\n",
      "Epoch 2/20\n",
      "5/5 [==============================] - 0s 26ms/step - loss: 2.1483 - categorical_accuracy: 0.5367 - val_loss: 0.9852 - val_categorical_accuracy: 0.6524\n",
      "Epoch 3/20\n",
      "5/5 [==============================] - 0s 24ms/step - loss: 1.2765 - categorical_accuracy: 0.7179 - val_loss: 0.4250 - val_categorical_accuracy: 0.8289\n",
      "Epoch 4/20\n",
      "5/5 [==============================] - 0s 25ms/step - loss: 0.8177 - categorical_accuracy: 0.6491 - val_loss: 0.5368 - val_categorical_accuracy: 0.7326\n",
      "Epoch 5/20\n",
      "5/5 [==============================] - 0s 22ms/step - loss: 0.6494 - categorical_accuracy: 0.7592 - val_loss: 0.4275 - val_categorical_accuracy: 0.8021\n",
      "Epoch 6/20\n",
      "5/5 [==============================] - 0s 22ms/step - loss: 0.5548 - categorical_accuracy: 0.7775 - val_loss: 0.5824 - val_categorical_accuracy: 0.7540\n",
      "Epoch 7/20\n",
      "5/5 [==============================] - 0s 21ms/step - loss: 0.4956 - categorical_accuracy: 0.8050 - val_loss: 0.4632 - val_categorical_accuracy: 0.7968\n",
      "Epoch 8/20\n",
      "5/5 [==============================] - 0s 21ms/step - loss: 0.4931 - categorical_accuracy: 0.7821 - val_loss: 0.5056 - val_categorical_accuracy: 0.7968\n",
      "Epoch 9/20\n",
      "5/5 [==============================] - 0s 23ms/step - loss: 0.5149 - categorical_accuracy: 0.8028 - val_loss: 0.4404 - val_categorical_accuracy: 0.8235\n",
      "Epoch 10/20\n",
      "5/5 [==============================] - 0s 24ms/step - loss: 0.5090 - categorical_accuracy: 0.7706 - val_loss: 0.7068 - val_categorical_accuracy: 0.7273\n",
      "Epoch 11/20\n",
      "5/5 [==============================] - 0s 22ms/step - loss: 0.5415 - categorical_accuracy: 0.8073 - val_loss: 0.4799 - val_categorical_accuracy: 0.7968\n",
      "Epoch 12/20\n",
      "5/5 [==============================] - 0s 27ms/step - loss: 0.5535 - categorical_accuracy: 0.7638 - val_loss: 0.6634 - val_categorical_accuracy: 0.7807\n",
      "Epoch 13/20\n",
      "5/5 [==============================] - 0s 27ms/step - loss: 0.5715 - categorical_accuracy: 0.7729 - val_loss: 0.4694 - val_categorical_accuracy: 0.8021\n",
      "Epoch 14/20\n",
      "5/5 [==============================] - 0s 24ms/step - loss: 0.4621 - categorical_accuracy: 0.8234 - val_loss: 0.5246 - val_categorical_accuracy: 0.8021\n",
      "Epoch 15/20\n",
      "5/5 [==============================] - 0s 24ms/step - loss: 0.4689 - categorical_accuracy: 0.8005 - val_loss: 0.5138 - val_categorical_accuracy: 0.7807\n",
      "Epoch 16/20\n",
      "5/5 [==============================] - 0s 23ms/step - loss: 0.4527 - categorical_accuracy: 0.8257 - val_loss: 0.4755 - val_categorical_accuracy: 0.8021\n",
      "Epoch 17/20\n",
      "5/5 [==============================] - 0s 23ms/step - loss: 0.4276 - categorical_accuracy: 0.8005 - val_loss: 0.5257 - val_categorical_accuracy: 0.7968\n",
      "Epoch 18/20\n",
      "5/5 [==============================] - 0s 24ms/step - loss: 0.4702 - categorical_accuracy: 0.8280 - val_loss: 0.4612 - val_categorical_accuracy: 0.8342\n",
      "Epoch 19/20\n",
      "5/5 [==============================] - 0s 23ms/step - loss: 0.4643 - categorical_accuracy: 0.8050 - val_loss: 0.5910 - val_categorical_accuracy: 0.7914\n",
      "Epoch 20/20\n",
      "5/5 [==============================] - 0s 22ms/step - loss: 0.4144 - categorical_accuracy: 0.8257 - val_loss: 0.4651 - val_categorical_accuracy: 0.8342\n"
     ]
    }
   ],
   "source": [
    "# \"Fit\" the model on training data\n",
    "\n",
    "history = model.fit(train_data, train_label, batch_size=100, epochs=20, validation_split=0.3) "
   ]
  },
  {
   "cell_type": "code",
   "execution_count": 22,
   "metadata": {
    "scrolled": true
   },
   "outputs": [
    {
     "name": "stdout",
     "output_type": "stream",
     "text": [
      "9/9 [==============================] - 0s 28ms/step - loss: 0.4484 - categorical_accuracy: 0.8284\n",
      "loss (cross-entropy) : 0.4483937919139862\n",
      "test accuracy : 0.8283581733703613\n"
     ]
    }
   ],
   "source": [
    "# \"Evaluate\" the model on test data\n",
    "\n",
    "result = model.evaluate(test_data, test_label)\n",
    "\n",
    "print('loss (cross-entropy) :', result[0])\n",
    "print('test accuracy :', result[1])"
   ]
  },
  {
   "cell_type": "code",
   "execution_count": 39,
   "metadata": {},
   "outputs": [
    {
     "data": {
      "text/plain": [
       "dict_keys(['loss', 'categorical_accuracy', 'val_loss', 'val_categorical_accuracy'])"
      ]
     },
     "execution_count": 39,
     "metadata": {},
     "output_type": "execute_result"
    }
   ],
   "source": [
    "history.history.keys()"
   ]
  },
  {
   "cell_type": "code",
   "execution_count": 25,
   "metadata": {},
   "outputs": [
    {
     "name": "stdout",
     "output_type": "stream",
     "text": [
      "[0.5688073635101318, 0.536697268486023, 0.7178899645805359, 0.649082601070404, 0.7591743469238281, 0.7775229811668396, 0.8050459027290344, 0.7821101546287537, 0.8027523159980774, 0.7706422209739685, 0.8073394894599915, 0.7637615203857422, 0.7729358077049255, 0.8233945369720459, 0.8004587888717651, 0.8256881237030029, 0.8004587888717651, 0.82798171043396, 0.8050459027290344, 0.8256881237030029]\n"
     ]
    }
   ],
   "source": [
    "len(history.history['categorical_accuracy'])\n",
    "print(history.history['categorical_accuracy'])"
   ]
  },
  {
   "cell_type": "code",
   "execution_count": 23,
   "metadata": {
    "scrolled": true
   },
   "outputs": [
    {
     "data": {
      "image/png": "[encoded data removed]",
      "text/plain": [
       "<Figure size 432x288 with 1 Axes>"
      ]
     },
     "metadata": {
      "needs_background": "light"
     },
     "output_type": "display_data"
    }
   ],
   "source": [
    "acc = history.history['categorical_accuracy']\n",
    "val_acc = history.history['val_categorical_accuracy']\n",
    "\n",
    "x_len = np.arange(len(acc))\n",
    "\n",
    "plt.plot(x_len, acc, marker='.', c='blue', label=\"Train-set Acc.\")\n",
    "plt.plot(x_len, val_acc, marker='.', c='red', label=\"Validation-set Acc.\")\n",
    "\n",
    "plt.legend(loc='upper right')\n",
    "plt.grid()\n",
    "plt.xlabel('epoch')\n",
    "plt.ylabel('Accuracy')\n",
    "plt.show()"
   ]
  },
  {
   "cell_type": "code",
   "execution_count": 26,
   "metadata": {},
   "outputs": [
    {
     "data": {
      "text/plain": [
       "dict_keys(['loss', 'categorical_accuracy', 'val_loss', 'val_categorical_accuracy'])"
      ]
     },
     "execution_count": 26,
     "metadata": {},
     "output_type": "execute_result"
    }
   ],
   "source": [
    "history.history.keys()"
   ]
  },
  {
   "cell_type": "code",
   "execution_count": 30,
   "metadata": {},
   "outputs": [
    {
     "data": {
      "image/png": "[encoded data removed]",
      "text/plain": [
       "<Figure size 432x288 with 1 Axes>"
      ]
     },
     "metadata": {
      "needs_background": "light"
     },
     "output_type": "display_data"
    }
   ],
   "source": [
    "loss = history.history['loss']\n",
    "val_loss = history.history['val_loss']\n",
    "\n",
    "x_len = np.arange(len(acc))\n",
    "\n",
    "plt.plot(x_len, loss, marker='.', c='blue', label=\"Train-set loss.\")\n",
    "plt.plot(x_len, val_loss, marker='.', c='red', label=\"Validation-set loss.\")\n",
    "\n",
    "plt.legend(loc='upper right')\n",
    "plt.grid()\n",
    "plt.xlabel('epoch')\n",
    "plt.ylabel('Cross-entropy')\n",
    "plt.show()"
   ]
  },
  {
   "cell_type": "code",
   "execution_count": 31,
   "metadata": {},
   "outputs": [
    {
     "name": "stdout",
     "output_type": "stream",
     "text": [
      "9/9 [==============================] - 0s 6ms/step\n"
     ]
    },
    {
     "data": {
      "text/plain": [
       "array([[7.63767242e-01, 2.36232758e-01],\n",
       "       [8.38482797e-01, 1.61517203e-01],\n",
       "       [8.62923503e-01, 1.37076452e-01],\n",
       "       [2.19137128e-02, 9.78086293e-01],\n",
       "       [2.29250848e-01, 7.70749152e-01],\n",
       "       [8.53359520e-01, 1.46640465e-01],\n",
       "       [1.49983936e-03, 9.98500228e-01],\n",
       "       [7.26880366e-03, 9.92731154e-01],\n",
       "       [7.73312211e-01, 2.26687819e-01],\n",
       "       [2.95403659e-01, 7.04596400e-01],\n",
       "       [9.18617904e-01, 8.13821629e-02],\n",
       "       [1.34322658e-01, 8.65677357e-01],\n",
       "       [7.98833787e-01, 2.01166198e-01],\n",
       "       [4.04527821e-02, 9.59547162e-01],\n",
       "       [1.03728252e-03, 9.98962760e-01],\n",
       "       [1.11567080e-01, 8.88432860e-01],\n",
       "       [8.38482797e-01, 1.61517203e-01],\n",
       "       [9.53331053e-01, 4.66689356e-02],\n",
       "       [9.09127235e-01, 9.08727050e-02],\n",
       "       [5.26135415e-03, 9.94738638e-01],\n",
       "       [8.67005110e-01, 1.32994950e-01],\n",
       "       [3.93416826e-03, 9.96065795e-01],\n",
       "       [7.98833787e-01, 2.01166198e-01],\n",
       "       [8.53359520e-01, 1.46640465e-01],\n",
       "       [3.68039727e-01, 6.31960273e-01],\n",
       "       [2.99040545e-02, 9.70095992e-01],\n",
       "       [8.38482797e-01, 1.61517203e-01],\n",
       "       [3.68039727e-01, 6.31960273e-01],\n",
       "       [3.71116735e-02, 9.62888360e-01],\n",
       "       [8.41850817e-01, 1.58149227e-01],\n",
       "       [8.49767327e-01, 1.50232732e-01],\n",
       "       [2.50023901e-01, 7.49976099e-01],\n",
       "       [8.38482797e-01, 1.61517203e-01],\n",
       "       [8.53359520e-01, 1.46640465e-01],\n",
       "       [9.18617904e-01, 8.13821629e-02],\n",
       "       [9.79990482e-01, 2.00094581e-02],\n",
       "       [9.09127235e-01, 9.08727050e-02],\n",
       "       [8.67005110e-01, 1.32994950e-01],\n",
       "       [8.67005110e-01, 1.32994950e-01],\n",
       "       [8.74539196e-01, 1.25460818e-01],\n",
       "       [8.48298490e-01, 1.51701555e-01],\n",
       "       [7.63767242e-01, 2.36232758e-01],\n",
       "       [8.38482797e-01, 1.61517203e-01],\n",
       "       [9.92698371e-01, 7.30166258e-03],\n",
       "       [1.60349556e-03, 9.98396456e-01],\n",
       "       [8.38482797e-01, 1.61517203e-01],\n",
       "       [8.38482797e-01, 1.61517203e-01],\n",
       "       [2.51534348e-03, 9.97484744e-01],\n",
       "       [8.63864064e-01, 1.36135921e-01],\n",
       "       [9.02750909e-01, 9.72491205e-02],\n",
       "       [8.53359520e-01, 1.46640465e-01],\n",
       "       [7.73312211e-01, 2.26687819e-01],\n",
       "       [4.04527821e-02, 9.59547162e-01],\n",
       "       [8.38482797e-01, 1.61517203e-01],\n",
       "       [8.50433409e-01, 1.49566606e-01],\n",
       "       [9.53331053e-01, 4.66689356e-02],\n",
       "       [6.92673028e-01, 3.07327032e-01],\n",
       "       [9.21073556e-01, 7.89264888e-02],\n",
       "       [9.17926431e-01, 8.20735693e-02],\n",
       "       [9.29027259e-01, 7.09727034e-02],\n",
       "       [7.63767242e-01, 2.36232758e-01],\n",
       "       [6.15122378e-01, 3.84877682e-01],\n",
       "       [3.11159645e-03, 9.96888459e-01],\n",
       "       [8.66260529e-01, 1.33739457e-01],\n",
       "       [3.84651929e-01, 6.15348041e-01],\n",
       "       [7.98833787e-01, 2.01166198e-01],\n",
       "       [4.42283787e-03, 9.95577216e-01],\n",
       "       [9.56669033e-01, 4.33309041e-02],\n",
       "       [4.04527821e-02, 9.59547162e-01],\n",
       "       [1.58124662e-03, 9.98418808e-01],\n",
       "       [3.71116735e-02, 9.62888360e-01],\n",
       "       [8.04548144e-01, 1.95451856e-01],\n",
       "       [7.73312211e-01, 2.26687819e-01],\n",
       "       [8.38482797e-01, 1.61517203e-01],\n",
       "       [8.38482797e-01, 1.61517203e-01],\n",
       "       [7.35480189e-02, 9.26452041e-01],\n",
       "       [9.97668028e-01, 2.33202241e-03],\n",
       "       [9.40543771e-01, 5.94562963e-02],\n",
       "       [9.09127235e-01, 9.08727050e-02],\n",
       "       [7.88919449e-01, 2.11080536e-01],\n",
       "       [8.74014556e-01, 1.25985444e-01],\n",
       "       [4.11351910e-03, 9.95886505e-01],\n",
       "       [4.84410152e-02, 9.51558948e-01],\n",
       "       [7.02196717e-01, 2.97803283e-01],\n",
       "       [8.63864064e-01, 1.36135921e-01],\n",
       "       [1.58124662e-03, 9.98418808e-01],\n",
       "       [4.95871995e-04, 9.99504089e-01],\n",
       "       [5.95103562e-01, 4.04896408e-01],\n",
       "       [5.58888465e-02, 9.44111168e-01],\n",
       "       [9.66884315e-01, 3.31156552e-02],\n",
       "       [8.53359520e-01, 1.46640465e-01],\n",
       "       [8.38482797e-01, 1.61517203e-01],\n",
       "       [1.93155073e-02, 9.80684459e-01],\n",
       "       [2.82631046e-03, 9.97173727e-01],\n",
       "       [8.41850817e-01, 1.58149227e-01],\n",
       "       [7.63767242e-01, 2.36232758e-01],\n",
       "       [4.84410152e-02, 9.51558948e-01],\n",
       "       [9.92698371e-01, 7.30166258e-03],\n",
       "       [6.93206131e-01, 3.06793898e-01],\n",
       "       [8.50433409e-01, 1.49566606e-01],\n",
       "       [9.98905182e-01, 1.09475316e-03],\n",
       "       [9.27177310e-01, 7.28227198e-02],\n",
       "       [8.38482797e-01, 1.61517203e-01],\n",
       "       [9.61871803e-01, 3.81281599e-02],\n",
       "       [3.84651929e-01, 6.15348041e-01],\n",
       "       [5.63222051e-01, 4.36777920e-01],\n",
       "       [5.47879636e-02, 9.45212007e-01],\n",
       "       [8.75105083e-01, 1.24894843e-01],\n",
       "       [9.13054645e-01, 8.69453549e-02],\n",
       "       [2.69421667e-01, 7.30578303e-01],\n",
       "       [9.09127235e-01, 9.08727050e-02],\n",
       "       [5.44331735e-04, 9.99455631e-01],\n",
       "       [8.38482797e-01, 1.61517203e-01],\n",
       "       [3.68039727e-01, 6.31960273e-01],\n",
       "       [9.75590527e-01, 2.44094562e-02],\n",
       "       [5.22863269e-02, 9.47713673e-01],\n",
       "       [3.24556321e-01, 6.75443709e-01],\n",
       "       [4.35450643e-01, 5.64549387e-01],\n",
       "       [9.09127235e-01, 9.08727050e-02],\n",
       "       [5.14376611e-02, 9.48562324e-01],\n",
       "       [8.38482797e-01, 1.61517203e-01],\n",
       "       [7.98833787e-01, 2.01166198e-01],\n",
       "       [8.38482797e-01, 1.61517203e-01],\n",
       "       [8.43501925e-01, 1.56498104e-01],\n",
       "       [9.09127235e-01, 9.08727050e-02],\n",
       "       [8.09591651e-01, 1.90408409e-01],\n",
       "       [7.63767242e-01, 2.36232758e-01],\n",
       "       [9.18617904e-01, 8.13821629e-02],\n",
       "       [8.67005110e-01, 1.32994950e-01],\n",
       "       [8.74539196e-01, 1.25460818e-01],\n",
       "       [1.70075431e-01, 8.29924583e-01],\n",
       "       [8.38482797e-01, 1.61517203e-01],\n",
       "       [8.38482797e-01, 1.61517203e-01],\n",
       "       [6.13486767e-01, 3.86513233e-01],\n",
       "       [6.92673028e-01, 3.07327032e-01],\n",
       "       [8.38482797e-01, 1.61517203e-01],\n",
       "       [8.74014556e-01, 1.25985444e-01],\n",
       "       [4.64335144e-01, 5.35664916e-01],\n",
       "       [9.45198894e-01, 5.48011698e-02],\n",
       "       [8.67005110e-01, 1.32994950e-01],\n",
       "       [8.67005110e-01, 1.32994950e-01],\n",
       "       [6.18874503e-04, 9.99381125e-01],\n",
       "       [8.38482797e-01, 1.61517203e-01],\n",
       "       [1.70075431e-01, 8.29924583e-01],\n",
       "       [5.22863269e-02, 9.47713673e-01],\n",
       "       [3.68039727e-01, 6.31960273e-01],\n",
       "       [8.67005110e-01, 1.32994950e-01],\n",
       "       [3.84866036e-02, 9.61513340e-01],\n",
       "       [1.58205964e-02, 9.84179437e-01],\n",
       "       [8.38482797e-01, 1.61517203e-01],\n",
       "       [8.04548144e-01, 1.95451856e-01],\n",
       "       [3.68039727e-01, 6.31960273e-01],\n",
       "       [6.54891789e-01, 3.45108241e-01],\n",
       "       [8.38482797e-01, 1.61517203e-01],\n",
       "       [2.35701147e-02, 9.76429939e-01],\n",
       "       [8.67005110e-01, 1.32994950e-01],\n",
       "       [2.99025834e-01, 7.00974226e-01],\n",
       "       [9.13823962e-01, 8.61760080e-02],\n",
       "       [1.70075431e-01, 8.29924583e-01],\n",
       "       [6.51879236e-02, 9.34812069e-01],\n",
       "       [8.38482797e-01, 1.61517203e-01],\n",
       "       [7.63767242e-01, 2.36232758e-01],\n",
       "       [2.72402936e-03, 9.97276008e-01],\n",
       "       [6.79638147e-01, 3.20361853e-01],\n",
       "       [7.60967135e-01, 2.39032835e-01],\n",
       "       [8.38482797e-01, 1.61517203e-01],\n",
       "       [9.54351783e-01, 4.56482358e-02],\n",
       "       [8.38482797e-01, 1.61517203e-01],\n",
       "       [8.38482797e-01, 1.61517203e-01],\n",
       "       [8.38482797e-01, 1.61517203e-01],\n",
       "       [9.54351783e-01, 4.56482358e-02],\n",
       "       [2.82631046e-03, 9.97173727e-01],\n",
       "       [8.38482797e-01, 1.61517203e-01],\n",
       "       [8.38482797e-01, 1.61517203e-01],\n",
       "       [4.25768234e-02, 9.57423210e-01],\n",
       "       [8.38482797e-01, 1.61517203e-01],\n",
       "       [1.18576596e-03, 9.98814225e-01],\n",
       "       [8.38482797e-01, 1.61517203e-01],\n",
       "       [8.38482797e-01, 1.61517203e-01],\n",
       "       [3.59182000e-01, 6.40818059e-01],\n",
       "       [8.67005110e-01, 1.32994950e-01],\n",
       "       [8.31732690e-01, 1.68267369e-01],\n",
       "       [7.63767242e-01, 2.36232758e-01],\n",
       "       [8.38482797e-01, 1.61517203e-01],\n",
       "       [6.80583537e-01, 3.19416463e-01],\n",
       "       [8.38482797e-01, 1.61517203e-01],\n",
       "       [1.70075431e-01, 8.29924583e-01],\n",
       "       [8.67005110e-01, 1.32994950e-01],\n",
       "       [8.38482797e-01, 1.61517203e-01],\n",
       "       [1.13416888e-01, 8.86583090e-01],\n",
       "       [6.13486767e-01, 3.86513233e-01],\n",
       "       [8.81155849e-01, 1.18844151e-01],\n",
       "       [4.25768234e-02, 9.57423210e-01],\n",
       "       [1.70075431e-01, 8.29924583e-01],\n",
       "       [7.98833787e-01, 2.01166198e-01],\n",
       "       [9.17802095e-01, 8.21979642e-02],\n",
       "       [8.38482797e-01, 1.61517203e-01],\n",
       "       [3.08704942e-01, 6.91295087e-01],\n",
       "       [6.80583537e-01, 3.19416463e-01],\n",
       "       [9.54351783e-01, 4.56482358e-02],\n",
       "       [8.38482797e-01, 1.61517203e-01],\n",
       "       [1.41158462e-01, 8.58841598e-01],\n",
       "       [9.44667339e-01, 5.53327128e-02],\n",
       "       [3.83001976e-02, 9.61699784e-01],\n",
       "       [8.38482797e-01, 1.61517203e-01],\n",
       "       [7.77463973e-01, 2.22536057e-01],\n",
       "       [3.24556321e-01, 6.75443709e-01],\n",
       "       [8.38482797e-01, 1.61517203e-01],\n",
       "       [5.91484942e-02, 9.40851569e-01],\n",
       "       [9.54351783e-01, 4.56482358e-02],\n",
       "       [8.38482797e-01, 1.61517203e-01],\n",
       "       [8.66260529e-01, 1.33739457e-01],\n",
       "       [9.17926431e-01, 8.20735693e-02],\n",
       "       [4.91747484e-02, 9.50825214e-01],\n",
       "       [8.63864064e-01, 1.36135921e-01],\n",
       "       [8.38482797e-01, 1.61517203e-01],\n",
       "       [8.41248333e-01, 1.58751652e-01],\n",
       "       [3.28076482e-02, 9.67192352e-01],\n",
       "       [8.75105083e-01, 1.24894843e-01],\n",
       "       [2.44495878e-03, 9.97555077e-01],\n",
       "       [8.38482797e-01, 1.61517203e-01],\n",
       "       [2.51534348e-03, 9.97484744e-01],\n",
       "       [3.08704942e-01, 6.91295087e-01],\n",
       "       [8.38482797e-01, 1.61517203e-01],\n",
       "       [9.83158469e-01, 1.68415029e-02],\n",
       "       [9.18617904e-01, 8.13821629e-02],\n",
       "       [8.38482797e-01, 1.61517203e-01],\n",
       "       [5.58888465e-02, 9.44111168e-01],\n",
       "       [8.38482797e-01, 1.61517203e-01],\n",
       "       [9.61871803e-01, 3.81281599e-02],\n",
       "       [9.09127235e-01, 9.08727050e-02],\n",
       "       [1.93461329e-01, 8.06538701e-01],\n",
       "       [3.68039727e-01, 6.31960273e-01],\n",
       "       [3.68039727e-01, 6.31960273e-01],\n",
       "       [6.92673028e-01, 3.07327032e-01],\n",
       "       [9.18617904e-01, 8.13821629e-02],\n",
       "       [2.37659333e-05, 9.99976277e-01],\n",
       "       [2.59891786e-02, 9.74010885e-01],\n",
       "       [3.84866036e-02, 9.61513340e-01],\n",
       "       [8.38482797e-01, 1.61517203e-01],\n",
       "       [7.63767242e-01, 2.36232758e-01],\n",
       "       [2.57564150e-03, 9.97424364e-01],\n",
       "       [8.38482797e-01, 1.61517203e-01],\n",
       "       [8.63864064e-01, 1.36135921e-01],\n",
       "       [9.53178329e-04, 9.99046862e-01],\n",
       "       [1.22696571e-02, 9.87730324e-01],\n",
       "       [1.70075431e-01, 8.29924583e-01],\n",
       "       [8.38482797e-01, 1.61517203e-01],\n",
       "       [8.38482797e-01, 1.61517203e-01],\n",
       "       [3.24556321e-01, 6.75443709e-01],\n",
       "       [8.38482797e-01, 1.61517203e-01],\n",
       "       [8.85296583e-01, 1.14703424e-01],\n",
       "       [8.53907824e-01, 1.46092087e-01],\n",
       "       [8.67005110e-01, 1.32994950e-01],\n",
       "       [9.67354059e-01, 3.26460004e-02],\n",
       "       [3.24556321e-01, 6.75443709e-01],\n",
       "       [1.70075312e-01, 8.29924703e-01],\n",
       "       [9.09127235e-01, 9.08727497e-02],\n",
       "       [9.95443225e-01, 4.55672340e-03],\n",
       "       [9.72278655e-01, 2.77214125e-02],\n",
       "       [8.38482797e-01, 1.61517233e-01],\n",
       "       [8.78844321e-01, 1.21155590e-01],\n",
       "       [8.49767327e-01, 1.50232732e-01],\n",
       "       [6.80583596e-01, 3.19416434e-01],\n",
       "       [7.98833907e-01, 2.01166138e-01],\n",
       "       [8.15470576e-01, 1.84529454e-01],\n",
       "       [3.68039817e-01, 6.31960213e-01],\n",
       "       [8.50433350e-01, 1.49566695e-01]], dtype=float32)"
      ]
     },
     "execution_count": 31,
     "metadata": {},
     "output_type": "execute_result"
    }
   ],
   "source": [
    "# 'Predict' on test data\n",
    "\n",
    "model.predict(test_data)"
   ]
  },
  {
   "cell_type": "code",
   "execution_count": 32,
   "metadata": {},
   "outputs": [
    {
     "name": "stdout",
     "output_type": "stream",
     "text": [
      "9/9 [==============================] - 0s 5ms/step\n"
     ]
    },
    {
     "data": {
      "text/plain": [
       "array([0, 0, 0, 1, 1, 0, 1, 1, 0, 1, 0, 1, 0, 1, 1, 1, 0, 0, 0, 1, 0, 1,\n",
       "       0, 0, 1, 1, 0, 1, 1, 0, 0, 1, 0, 0, 0, 0, 0, 0, 0, 0, 0, 0, 0, 0,\n",
       "       1, 0, 0, 1, 0, 0, 0, 0, 1, 0, 0, 0, 0, 0, 0, 0, 0, 0, 1, 0, 1, 0,\n",
       "       1, 0, 1, 1, 1, 0, 0, 0, 0, 1, 0, 0, 0, 0, 0, 1, 1, 0, 0, 1, 1, 0,\n",
       "       1, 0, 0, 0, 1, 1, 0, 0, 1, 0, 0, 0, 0, 0, 0, 0, 1, 0, 1, 0, 0, 1,\n",
       "       0, 1, 0, 1, 0, 1, 1, 1, 0, 1, 0, 0, 0, 0, 0, 0, 0, 0, 0, 0, 1, 0,\n",
       "       0, 0, 0, 0, 0, 1, 0, 0, 0, 1, 0, 1, 1, 1, 0, 1, 1, 0, 0, 1, 0, 0,\n",
       "       1, 0, 1, 0, 1, 1, 0, 0, 1, 0, 0, 0, 0, 0, 0, 0, 0, 1, 0, 0, 1, 0,\n",
       "       1, 0, 0, 1, 0, 0, 0, 0, 0, 0, 1, 0, 0, 1, 0, 0, 1, 1, 0, 0, 0, 1,\n",
       "       0, 0, 0, 1, 0, 1, 0, 0, 1, 0, 1, 0, 0, 0, 0, 1, 0, 0, 0, 1, 0, 1,\n",
       "       0, 1, 1, 0, 0, 0, 0, 1, 0, 0, 0, 1, 1, 1, 0, 0, 1, 1, 1, 0, 0, 1,\n",
       "       0, 0, 1, 1, 1, 0, 0, 1, 0, 0, 0, 0, 0, 1, 1, 0, 0, 0, 0, 0, 0, 0,\n",
       "       0, 0, 1, 0])"
      ]
     },
     "execution_count": 32,
     "metadata": {},
     "output_type": "execute_result"
    }
   ],
   "source": [
    "np.argmax(model.predict(test_data), axis=1)"
   ]
  },
  {
   "cell_type": "code",
   "execution_count": 33,
   "metadata": {},
   "outputs": [],
   "source": [
    "sample_data = np.array([[3, 0, 0.0, 0.0, 1, 1, 2.0, 0]])"
   ]
  },
  {
   "cell_type": "code",
   "execution_count": 34,
   "metadata": {},
   "outputs": [
    {
     "name": "stdout",
     "output_type": "stream",
     "text": [
      "1/1 [==============================] - 0s 50ms/step\n"
     ]
    },
    {
     "data": {
      "text/plain": [
       "array([[0.8629235, 0.1370765]], dtype=float32)"
      ]
     },
     "execution_count": 34,
     "metadata": {},
     "output_type": "execute_result"
    }
   ],
   "source": [
    "model.predict(sample_data)"
   ]
  },
  {
   "cell_type": "code",
   "execution_count": 47,
   "metadata": {},
   "outputs": [
    {
     "data": {
      "text/plain": [
       "array([0], dtype=int64)"
      ]
     },
     "execution_count": 47,
     "metadata": {},
     "output_type": "execute_result"
    }
   ],
   "source": [
    "np.argmax(model.predict(sample_data), axis=1)"
   ]
  }
 ],
 "metadata": {
  "kernel_info": {
   "name": "python3"
  },
  "kernelspec": {
   "display_name": "Python 3 (ipykernel)",
   "language": "python",
   "name": "python3"
  },
  "language_info": {
   "codemirror_mode": {
    "name": "ipython",
    "version": 3
   },
   "file_extension": ".py",
   "mimetype": "text/x-python",
   "name": "python",
   "nbconvert_exporter": "python",
   "pygments_lexer": "ipython3",
   "version": "3.8.13"
  },
  "nteract": {
   "version": "0.15.0"
  }
 },
 "nbformat": 4,
 "nbformat_minor": 2
}
