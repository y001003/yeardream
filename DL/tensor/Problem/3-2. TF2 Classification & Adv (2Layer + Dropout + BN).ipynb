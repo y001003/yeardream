{
 "cells": [
  {
   "cell_type": "markdown",
   "metadata": {},
   "source": [
    "#### 참고 : tensorflow.keras 공식 문서 (Official API Docs) @ https://www.tensorflow.org/api_docs/python/tf/keras"
   ]
  },
  {
   "cell_type": "code",
   "execution_count": 1,
   "metadata": {},
   "outputs": [],
   "source": [
    "import tensorflow as tf\n",
    "from tensorflow.keras import datasets, utils\n",
    "from tensorflow.keras import models, layers, activations, initializers, losses, optimizers, metrics\n",
    "\n",
    "import os\n",
    "os.environ['TF_CPP_MIN_LOG_LEVEL'] = '2' # https://stackoverflow.com/questions/35911252/disable-tensorflow-debugging-information"
   ]
  },
  {
   "cell_type": "markdown",
   "metadata": {},
   "source": [
    "<br> \n",
    "\n",
    "#### 1. Prepare train & test data (MNIST)"
   ]
  },
  {
   "cell_type": "markdown",
   "metadata": {},
   "source": [
    "#### Train & Test split"
   ]
  },
  {
   "cell_type": "code",
   "execution_count": 2,
   "metadata": {},
   "outputs": [],
   "source": [
    "(train_data, train_label), (test_data, test_label) = datasets.mnist.load_data()"
   ]
  },
  {
   "cell_type": "markdown",
   "metadata": {},
   "source": [
    "#### Normalization"
   ]
  },
  {
   "cell_type": "code",
   "execution_count": 3,
   "metadata": {},
   "outputs": [],
   "source": [
    "train_data = train_data.reshape(60000, 784) / 255.0\n",
    "test_data = test_data.reshape(10000, 784) / 255.0"
   ]
  },
  {
   "cell_type": "markdown",
   "metadata": {},
   "source": [
    "#### One-hot encoding"
   ]
  },
  {
   "cell_type": "code",
   "execution_count": 4,
   "metadata": {},
   "outputs": [],
   "source": [
    "train_label = utils.to_categorical(train_label) # 0~9 -> one-hot vector\n",
    "test_label = utils.to_categorical(test_label) # 0~9 -> one-hot vector"
   ]
  },
  {
   "cell_type": "markdown",
   "metadata": {},
   "source": [
    "<br> \n",
    "\n",
    "#### 2. Build the model & Set the criterion"
   ]
  },
  {
   "cell_type": "code",
   "execution_count": 7,
   "metadata": {},
   "outputs": [],
   "source": [
    "model = models.Sequential() \n",
    "\n",
    "model.add(layers.Dense(input_dim=28*28, units=256, activation=None, kernel_initializer=initializers.he_uniform())) \n",
    "model.add(layers.BatchNormalization())\n",
    "model.add(layers.Activation('relu')) # layers.ELU or layers.LeakyReLU\n",
    "model.add(layers.Dropout(rate=0.2))\n",
    "\n",
    "model.add(layers.Dense(units=256, activation=None, kernel_initializer=initializers.he_uniform())) \n",
    "model.add(layers.BatchNormalization())\n",
    "model.add(layers.Activation('relu')) # layers.ELU or layers.LeakyReLU\n",
    "model.add(layers.Dropout(rate=0.2))\n",
    "\n",
    "model.add(layers.Dense(units=10, activation='softmax')) # 0~9 "
   ]
  },
  {
   "cell_type": "code",
   "execution_count": 10,
   "metadata": {},
   "outputs": [],
   "source": [
    "model.compile(optimizer=optimizers.Adam(0.001), \n",
    "              loss=losses.categorical_crossentropy, \n",
    "              metrics=[metrics.categorical_accuracy]) # Precision / Recall / F1-Score 적용하기 @ https://j.mp/3cf3lbi\n",
    "\n",
    "# model.compile(optimizer='adam', \n",
    "#               loss=losses.categorical_crossentropy, \n",
    "#               metrics=['accuracy'])"
   ]
  },
  {
   "cell_type": "markdown",
   "metadata": {},
   "source": [
    "<br> \n",
    "\n",
    "#### 3. Train the model"
   ]
  },
  {
   "cell_type": "code",
   "execution_count": 11,
   "metadata": {},
   "outputs": [
    {
     "name": "stdout",
     "output_type": "stream",
     "text": [
      "Epoch 1/15\n",
      "480/480 [==============================] - 7s 10ms/step - loss: 0.2948 - categorical_accuracy: 0.9120 - val_loss: 0.1282 - val_categorical_accuracy: 0.9601\n",
      "Epoch 2/15\n",
      "480/480 [==============================] - 5s 9ms/step - loss: 0.1259 - categorical_accuracy: 0.9617 - val_loss: 0.0945 - val_categorical_accuracy: 0.9707\n",
      "Epoch 3/15\n",
      "480/480 [==============================] - 5s 9ms/step - loss: 0.0906 - categorical_accuracy: 0.9715 - val_loss: 0.0852 - val_categorical_accuracy: 0.9729\n",
      "Epoch 4/15\n",
      "480/480 [==============================] - 5s 9ms/step - loss: 0.0734 - categorical_accuracy: 0.9766 - val_loss: 0.0824 - val_categorical_accuracy: 0.9749\n",
      "Epoch 5/15\n",
      "480/480 [==============================] - 5s 9ms/step - loss: 0.0580 - categorical_accuracy: 0.9818 - val_loss: 0.0902 - val_categorical_accuracy: 0.9724\n",
      "Epoch 6/15\n",
      "480/480 [==============================] - 5s 9ms/step - loss: 0.0516 - categorical_accuracy: 0.9828 - val_loss: 0.0894 - val_categorical_accuracy: 0.9752\n",
      "Epoch 7/15\n",
      "480/480 [==============================] - 5s 10ms/step - loss: 0.0474 - categorical_accuracy: 0.9845 - val_loss: 0.0754 - val_categorical_accuracy: 0.9790\n",
      "Epoch 8/15\n",
      "480/480 [==============================] - 5s 9ms/step - loss: 0.0398 - categorical_accuracy: 0.9870 - val_loss: 0.0796 - val_categorical_accuracy: 0.9775\n",
      "Epoch 9/15\n",
      "480/480 [==============================] - 5s 10ms/step - loss: 0.0360 - categorical_accuracy: 0.9883 - val_loss: 0.0846 - val_categorical_accuracy: 0.9763\n",
      "Epoch 10/15\n",
      "480/480 [==============================] - 5s 9ms/step - loss: 0.0329 - categorical_accuracy: 0.9890 - val_loss: 0.0794 - val_categorical_accuracy: 0.9783\n",
      "Epoch 11/15\n",
      "480/480 [==============================] - 4s 9ms/step - loss: 0.0285 - categorical_accuracy: 0.9908 - val_loss: 0.0849 - val_categorical_accuracy: 0.9780\n",
      "Epoch 12/15\n",
      "480/480 [==============================] - 5s 10ms/step - loss: 0.0279 - categorical_accuracy: 0.9901 - val_loss: 0.0808 - val_categorical_accuracy: 0.9788\n",
      "Epoch 13/15\n",
      "480/480 [==============================] - 5s 10ms/step - loss: 0.0251 - categorical_accuracy: 0.9919 - val_loss: 0.0748 - val_categorical_accuracy: 0.9799\n",
      "Epoch 14/15\n",
      "480/480 [==============================] - 5s 9ms/step - loss: 0.0242 - categorical_accuracy: 0.9917 - val_loss: 0.0832 - val_categorical_accuracy: 0.9798\n",
      "Epoch 15/15\n",
      "480/480 [==============================] - 4s 9ms/step - loss: 0.0235 - categorical_accuracy: 0.9921 - val_loss: 0.0805 - val_categorical_accuracy: 0.9797\n"
     ]
    }
   ],
   "source": [
    "# Training 과정에서 epoch마다 활용할 validation set을 나눠줄 수 있습니다.\n",
    "\n",
    "history = model.fit(train_data, train_label, batch_size=100, epochs=15, validation_split=0.2) "
   ]
  },
  {
   "cell_type": "code",
   "execution_count": null,
   "metadata": {},
   "outputs": [],
   "source": []
  },
  {
   "cell_type": "markdown",
   "metadata": {},
   "source": [
    "<br> \n",
    "\n",
    "#### 4. Test the model"
   ]
  },
  {
   "cell_type": "code",
   "execution_count": 12,
   "metadata": {
    "scrolled": true
   },
   "outputs": [
    {
     "name": "stdout",
     "output_type": "stream",
     "text": [
      "100/100 [==============================] - 1s 6ms/step - loss: 0.0742 - categorical_accuracy: 0.9786\n",
      "loss (cross-entropy) : 0.07416006177663803\n",
      "test accuracy : 0.978600025177002\n"
     ]
    }
   ],
   "source": [
    "result = model.evaluate(test_data, test_label, batch_size=100)\n",
    "\n",
    "print('loss (cross-entropy) :', result[0])\n",
    "print('test accuracy :', result[1])"
   ]
  },
  {
   "cell_type": "markdown",
   "metadata": {},
   "source": [
    "<br> \n",
    "\n",
    "#### 5. Visualize the result"
   ]
  },
  {
   "cell_type": "code",
   "execution_count": 14,
   "metadata": {},
   "outputs": [
    {
     "data": {
      "text/plain": [
       "{'loss': [0.294761598110199,\n",
       "  0.12587575614452362,\n",
       "  0.090582937002182,\n",
       "  0.07341267168521881,\n",
       "  0.057991430163383484,\n",
       "  0.05164529010653496,\n",
       "  0.04739324375987053,\n",
       "  0.03983412683010101,\n",
       "  0.03603261709213257,\n",
       "  0.032870855182409286,\n",
       "  0.02849264070391655,\n",
       "  0.027931606397032738,\n",
       "  0.025091873481869698,\n",
       "  0.024195263162255287,\n",
       "  0.02354385331273079],\n",
       " 'categorical_accuracy': [0.9120000004768372,\n",
       "  0.9617291688919067,\n",
       "  0.9714999794960022,\n",
       "  0.976604163646698,\n",
       "  0.9818124771118164,\n",
       "  0.9828333258628845,\n",
       "  0.984458327293396,\n",
       "  0.9869999885559082,\n",
       "  0.9882916808128357,\n",
       "  0.9889999628067017,\n",
       "  0.9908333420753479,\n",
       "  0.9900624752044678,\n",
       "  0.9918541312217712,\n",
       "  0.9916666746139526,\n",
       "  0.9920833110809326],\n",
       " 'val_loss': [0.12815499305725098,\n",
       "  0.09447205811738968,\n",
       "  0.08515597134828568,\n",
       "  0.08236753940582275,\n",
       "  0.09018659591674805,\n",
       "  0.08938217908143997,\n",
       "  0.07538972795009613,\n",
       "  0.07961098849773407,\n",
       "  0.0845784842967987,\n",
       "  0.07943682372570038,\n",
       "  0.08493349701166153,\n",
       "  0.08083532005548477,\n",
       "  0.07479682564735413,\n",
       "  0.08317353576421738,\n",
       "  0.0804809182882309],\n",
       " 'val_categorical_accuracy': [0.9600833058357239,\n",
       "  0.9707499742507935,\n",
       "  0.9729166626930237,\n",
       "  0.9749166369438171,\n",
       "  0.9724166393280029,\n",
       "  0.9751666784286499,\n",
       "  0.9789999723434448,\n",
       "  0.9774999618530273,\n",
       "  0.9763333201408386,\n",
       "  0.9783332943916321,\n",
       "  0.9779999852180481,\n",
       "  0.9788333177566528,\n",
       "  0.9799166321754456,\n",
       "  0.9798333048820496,\n",
       "  0.9797499775886536]}"
      ]
     },
     "execution_count": 14,
     "metadata": {},
     "output_type": "execute_result"
    }
   ],
   "source": [
    "history.history"
   ]
  },
  {
   "cell_type": "code",
   "execution_count": 16,
   "metadata": {},
   "outputs": [
    {
     "data": {
      "text/plain": [
       "[0.294761598110199,\n",
       " 0.12587575614452362,\n",
       " 0.090582937002182,\n",
       " 0.07341267168521881,\n",
       " 0.057991430163383484,\n",
       " 0.05164529010653496,\n",
       " 0.04739324375987053,\n",
       " 0.03983412683010101,\n",
       " 0.03603261709213257,\n",
       " 0.032870855182409286,\n",
       " 0.02849264070391655,\n",
       " 0.027931606397032738,\n",
       " 0.025091873481869698,\n",
       " 0.024195263162255287,\n",
       " 0.02354385331273079]"
      ]
     },
     "execution_count": 16,
     "metadata": {},
     "output_type": "execute_result"
    }
   ],
   "source": [
    "history.history['loss'] # dic 자료구조"
   ]
  },
  {
   "cell_type": "code",
   "execution_count": 17,
   "metadata": {},
   "outputs": [
    {
     "data": {
      "image/png": "[encoded data removed]",
      "text/plain": [
       "<Figure size 432x288 with 1 Axes>"
      ]
     },
     "metadata": {
      "needs_background": "light"
     },
     "output_type": "display_data"
    }
   ],
   "source": [
    "val_acc = history.history['val_categorical_accuracy']\n",
    "acc = history.history['categorical_accuracy']\n",
    "\n",
    "import numpy as np\n",
    "import matplotlib.pyplot as plt\n",
    "\n",
    "x_len = np.arange(len(acc))\n",
    "plt.plot(x_len, acc, marker='.', c='blue', label=\"Train-set Acc.\")\n",
    "plt.plot(x_len, val_acc, marker='.', c='red', label=\"Validation-set Acc.\")\n",
    "\n",
    "plt.legend(loc='upper right')\n",
    "plt.grid()\n",
    "plt.xlabel('epoch')\n",
    "plt.ylabel('Accuracy')\n",
    "plt.show()"
   ]
  }
 ],
 "metadata": {
  "kernel_info": {
   "name": "python3"
  },
  "kernelspec": {
   "display_name": "Python 3 (ipykernel)",
   "language": "python",
   "name": "python3"
  },
  "language_info": {
   "codemirror_mode": {
    "name": "ipython",
    "version": 3
   },
   "file_extension": ".py",
   "mimetype": "text/x-python",
   "name": "python",
   "nbconvert_exporter": "python",
   "pygments_lexer": "ipython3",
   "version": "3.8.13"
  },
  "nteract": {
   "version": "0.15.0"
  }
 },
 "nbformat": 4,
 "nbformat_minor": 2
}
