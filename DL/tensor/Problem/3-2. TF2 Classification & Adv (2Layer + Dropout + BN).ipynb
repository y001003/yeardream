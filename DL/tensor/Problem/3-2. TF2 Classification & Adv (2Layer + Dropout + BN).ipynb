{
 "cells": [
  {
   "cell_type": "markdown",
   "metadata": {},
   "source": [
    "#### 참고 : tensorflow.keras 공식 문서 (Official API Docs) @ https://www.tensorflow.org/api_docs/python/tf/keras"
   ]
  },
  {
   "cell_type": "code",
   "execution_count": 2,
   "metadata": {},
   "outputs": [],
   "source": [
    "import tensorflow as tf\n",
    "from tensorflow.keras import datasets, utils\n",
    "from tensorflow.keras import models, layers, activations, initializers, losses, optimizers, metrics\n",
    "\n",
    "import os\n",
    "os.environ['TF_CPP_MIN_LOG_LEVEL'] = '2' # https://stackoverflow.com/questions/35911252/disable-tensorflow-debugging-information"
   ]
  },
  {
   "cell_type": "markdown",
   "metadata": {},
   "source": [
    "<br> \n",
    "\n",
    "#### 1. Prepare train & test data (MNIST)"
   ]
  },
  {
   "cell_type": "markdown",
   "metadata": {},
   "source": [
    "#### Train & Test split"
   ]
  },
  {
   "cell_type": "code",
   "execution_count": 3,
   "metadata": {},
   "outputs": [],
   "source": [
    "(train_data, train_label), (test_data, test_label) = datasets.mnist.load_data()"
   ]
  },
  {
   "cell_type": "markdown",
   "metadata": {},
   "source": [
    "#### Normalization"
   ]
  },
  {
   "cell_type": "code",
   "execution_count": 4,
   "metadata": {},
   "outputs": [],
   "source": [
    "train_data = train_data.reshape(60000, 784) / 255.0\n",
    "test_data = test_data.reshape(10000, 784) / 255.0"
   ]
  },
  {
   "cell_type": "markdown",
   "metadata": {},
   "source": [
    "#### One-hot encoding"
   ]
  },
  {
   "cell_type": "code",
   "execution_count": 5,
   "metadata": {},
   "outputs": [],
   "source": [
    "train_label = utils.to_categorical(train_label) # 0~9 -> one-hot vector\n",
    "test_label = utils.to_categorical(test_label) # 0~9 -> one-hot vector"
   ]
  },
  {
   "cell_type": "markdown",
   "metadata": {},
   "source": [
    "<br> \n",
    "\n",
    "#### 2. Build the model & Set the criterion"
   ]
  },
  {
   "cell_type": "code",
   "execution_count": 6,
   "metadata": {},
   "outputs": [],
   "source": [
    "model = models.Sequential() \n",
    "\n",
    "model.add(layers.Dense(input_dim=28*28, units=256, activation=None, kernel_initializer=initializers.he_uniform())) \n",
    "model.add(layers.BatchNormalization())\n",
    "model.add(layers.Activation('relu')) # layers.ELU or layers.LeakyReLU\n",
    "model.add(layers.Dropout(rate=0.2))\n",
    "\n",
    "model.add(layers.Dense(units=256, activation=None, kernel_initializer=initializers.he_uniform())) \n",
    "model.add(layers.BatchNormalization())\n",
    "model.add(layers.Activation('relu')) # layers.ELU or layers.LeakyReLU\n",
    "model.add(layers.Dropout(rate=0.2))\n",
    "\n",
    "model.add(layers.Dense(units=10, activation='softmax')) # 0~9 "
   ]
  },
  {
   "cell_type": "code",
   "execution_count": 7,
   "metadata": {},
   "outputs": [],
   "source": [
    "model.compile(optimizer=optimizers.Adam(), \n",
    "              loss=losses.categorical_crossentropy, \n",
    "              metrics=[metrics.categorical_accuracy]) # Precision / Recall / F1-Score 적용하기 @ https://j.mp/3cf3lbi\n",
    "\n",
    "# model.compile(optimizer='adam', \n",
    "#               loss=losses.categorical_crossentropy, \n",
    "#               metrics=['accuracy'])"
   ]
  },
  {
   "cell_type": "markdown",
   "metadata": {},
   "source": [
    "<br> \n",
    "\n",
    "#### 3. Train the model"
   ]
  },
  {
   "cell_type": "code",
   "execution_count": 8,
   "metadata": {},
   "outputs": [
    {
     "name": "stdout",
     "output_type": "stream",
     "text": [
      "Epoch 1/15\n",
      "480/480 [==============================] - 4s 7ms/step - loss: 0.3023 - categorical_accuracy: 0.9090 - val_loss: 0.1282 - val_categorical_accuracy: 0.9603\n",
      "Epoch 2/15\n",
      "480/480 [==============================] - 3s 7ms/step - loss: 0.1379 - categorical_accuracy: 0.9577 - val_loss: 0.0948 - val_categorical_accuracy: 0.9720\n",
      "Epoch 3/15\n",
      "480/480 [==============================] - 3s 6ms/step - loss: 0.1025 - categorical_accuracy: 0.9677 - val_loss: 0.0905 - val_categorical_accuracy: 0.9723\n",
      "Epoch 4/15\n",
      "480/480 [==============================] - 3s 6ms/step - loss: 0.0862 - categorical_accuracy: 0.9729 - val_loss: 0.0796 - val_categorical_accuracy: 0.9761\n",
      "Epoch 5/15\n",
      "480/480 [==============================] - 3s 6ms/step - loss: 0.0681 - categorical_accuracy: 0.9783 - val_loss: 0.0831 - val_categorical_accuracy: 0.9742\n",
      "Epoch 6/15\n",
      "480/480 [==============================] - 3s 6ms/step - loss: 0.0606 - categorical_accuracy: 0.9804 - val_loss: 0.0720 - val_categorical_accuracy: 0.9785\n",
      "Epoch 7/15\n",
      "480/480 [==============================] - 3s 5ms/step - loss: 0.0527 - categorical_accuracy: 0.9829 - val_loss: 0.0751 - val_categorical_accuracy: 0.9796\n",
      "Epoch 8/15\n",
      "480/480 [==============================] - 3s 5ms/step - loss: 0.0505 - categorical_accuracy: 0.9834 - val_loss: 0.0732 - val_categorical_accuracy: 0.9779\n",
      "Epoch 9/15\n",
      "480/480 [==============================] - 3s 5ms/step - loss: 0.0435 - categorical_accuracy: 0.9855 - val_loss: 0.0788 - val_categorical_accuracy: 0.9789\n",
      "Epoch 10/15\n",
      "480/480 [==============================] - 3s 5ms/step - loss: 0.0391 - categorical_accuracy: 0.9875 - val_loss: 0.0734 - val_categorical_accuracy: 0.9794\n",
      "Epoch 11/15\n",
      "480/480 [==============================] - 3s 5ms/step - loss: 0.0365 - categorical_accuracy: 0.9875 - val_loss: 0.0718 - val_categorical_accuracy: 0.9803\n",
      "Epoch 12/15\n",
      "480/480 [==============================] - 3s 5ms/step - loss: 0.0349 - categorical_accuracy: 0.9884 - val_loss: 0.0742 - val_categorical_accuracy: 0.9794\n",
      "Epoch 13/15\n",
      "480/480 [==============================] - 3s 6ms/step - loss: 0.0314 - categorical_accuracy: 0.9893 - val_loss: 0.0801 - val_categorical_accuracy: 0.9790\n",
      "Epoch 14/15\n",
      "480/480 [==============================] - 3s 5ms/step - loss: 0.0287 - categorical_accuracy: 0.9902 - val_loss: 0.0731 - val_categorical_accuracy: 0.9804\n",
      "Epoch 15/15\n",
      "480/480 [==============================] - 3s 6ms/step - loss: 0.0300 - categorical_accuracy: 0.9896 - val_loss: 0.0768 - val_categorical_accuracy: 0.9807\n"
     ]
    }
   ],
   "source": [
    "# Training 과정에서 epoch마다 활용할 validation set을 나눠줄 수 있습니다.\n",
    "\n",
    "history = model.fit(train_data, train_label, batch_size=100, epochs=15, validation_split=0.2) "
   ]
  },
  {
   "cell_type": "markdown",
   "metadata": {},
   "source": [
    "<br> \n",
    "\n",
    "#### 4. Test the model"
   ]
  },
  {
   "cell_type": "code",
   "execution_count": 9,
   "metadata": {
    "scrolled": true
   },
   "outputs": [
    {
     "name": "stdout",
     "output_type": "stream",
     "text": [
      "100/100 [==============================] - 0s 2ms/step - loss: 0.0667 - categorical_accuracy: 0.9826\n",
      "loss (cross-entropy) : 0.06666373461484909\n",
      "test accuracy : 0.9825999736785889\n"
     ]
    }
   ],
   "source": [
    "result = model.evaluate(test_data, test_label, batch_size=100)\n",
    "\n",
    "print('loss (cross-entropy) :', result[0])\n",
    "print('test accuracy :', result[1])"
   ]
  },
  {
   "cell_type": "markdown",
   "metadata": {},
   "source": [
    "<br> \n",
    "\n",
    "#### 5. Visualize the result"
   ]
  },
  {
   "cell_type": "code",
   "execution_count": 10,
   "metadata": {},
   "outputs": [
    {
     "data": {
      "text/plain": [
       "dict_keys(['loss', 'categorical_accuracy', 'val_loss', 'val_categorical_accuracy'])"
      ]
     },
     "execution_count": 10,
     "metadata": {},
     "output_type": "execute_result"
    }
   ],
   "source": [
    "history.history.keys()"
   ]
  },
  {
   "cell_type": "code",
   "execution_count": 11,
   "metadata": {},
   "outputs": [
    {
     "data": {
      "image/png": "[encoded data removed]",
      "text/plain": [
       "<Figure size 432x288 with 1 Axes>"
      ]
     },
     "metadata": {
      "needs_background": "light"
     },
     "output_type": "display_data"
    }
   ],
   "source": [
    "val_acc = history.history['val_categorical_accuracy']\n",
    "acc = history.history['categorical_accuracy']\n",
    "\n",
    "import numpy as np\n",
    "import matplotlib.pyplot as plt\n",
    "\n",
    "x_len = np.arange(len(acc))\n",
    "plt.plot(x_len, acc, marker='.', c='blue', label=\"Train-set Acc.\")\n",
    "plt.plot(x_len, val_acc, marker='.', c='red', label=\"Validation-set Acc.\")\n",
    "\n",
    "plt.legend(loc='upper right')\n",
    "plt.grid()\n",
    "plt.xlabel('epoch')\n",
    "plt.ylabel('Accuracy')\n",
    "plt.show()"
   ]
  }
 ],
 "metadata": {
  "kernel_info": {
   "name": "python3"
  },
  "kernelspec": {
   "display_name": "Python 3",
   "language": "python",
   "name": "python3"
  },
  "language_info": {
   "codemirror_mode": {
    "name": "ipython",
    "version": 3
   },
   "file_extension": ".py",
   "mimetype": "text/x-python",
   "name": "python",
   "nbconvert_exporter": "python",
   "pygments_lexer": "ipython3",
   "version": "3.8.8"
  },
  "nteract": {
   "version": "0.15.0"
  }
 },
 "nbformat": 4,
 "nbformat_minor": 2
}
