{
 "cells": [
  {
   "cell_type": "code",
   "execution_count": 2,
   "id": "5a60f6f3",
   "metadata": {},
   "outputs": [
    {
     "name": "stdout",
     "output_type": "stream",
     "text": [
      "WARNING:tensorflow:From c:\\users\\y0010\\anaconda3\\envs\\selenium\\lib\\site-packages\\tensorflow\\python\\compat\\v2_compat.py:107: disable_resource_variables (from tensorflow.python.ops.variable_scope) is deprecated and will be removed in a future version.\n",
      "Instructions for updating:\n",
      "non-resource variables are not supported in the long term\n"
     ]
    }
   ],
   "source": [
    "import tensorflow.compat.v1 as tf\n",
    "tf.disable_v2_behavior()"
   ]
  },
  {
   "cell_type": "code",
   "execution_count": 52,
   "id": "3bcb5afc",
   "metadata": {},
   "outputs": [],
   "source": [
    "import pandas as pd\n",
    "import numpy as np\n",
    "import matplotlib.pyplot as plt\n",
    "import seaborn as sns\n",
    "from sklearn import datasets"
   ]
  },
  {
   "cell_type": "code",
   "execution_count": 53,
   "id": "1bd92ecb",
   "metadata": {},
   "outputs": [
    {
     "data": {
      "text/html": [
       "<div>\n",
       "<style scoped>\n",
       "    .dataframe tbody tr th:only-of-type {\n",
       "        vertical-align: middle;\n",
       "    }\n",
       "\n",
       "    .dataframe tbody tr th {\n",
       "        vertical-align: top;\n",
       "    }\n",
       "\n",
       "    .dataframe thead th {\n",
       "        text-align: right;\n",
       "    }\n",
       "</style>\n",
       "<table border=\"1\" class=\"dataframe\">\n",
       "  <thead>\n",
       "    <tr style=\"text-align: right;\">\n",
       "      <th></th>\n",
       "      <th>0</th>\n",
       "      <th>1</th>\n",
       "      <th>2</th>\n",
       "      <th>3</th>\n",
       "      <th>4</th>\n",
       "      <th>5</th>\n",
       "      <th>6</th>\n",
       "      <th>7</th>\n",
       "      <th>8</th>\n",
       "      <th>9</th>\n",
       "      <th>10</th>\n",
       "      <th>11</th>\n",
       "      <th>12</th>\n",
       "    </tr>\n",
       "  </thead>\n",
       "  <tbody>\n",
       "    <tr>\n",
       "      <th>0</th>\n",
       "      <td>0.00632</td>\n",
       "      <td>18.0</td>\n",
       "      <td>2.31</td>\n",
       "      <td>0.0</td>\n",
       "      <td>0.538</td>\n",
       "      <td>6.575</td>\n",
       "      <td>65.2</td>\n",
       "      <td>4.0900</td>\n",
       "      <td>1.0</td>\n",
       "      <td>296.0</td>\n",
       "      <td>15.3</td>\n",
       "      <td>396.90</td>\n",
       "      <td>4.98</td>\n",
       "    </tr>\n",
       "    <tr>\n",
       "      <th>1</th>\n",
       "      <td>0.02731</td>\n",
       "      <td>0.0</td>\n",
       "      <td>7.07</td>\n",
       "      <td>0.0</td>\n",
       "      <td>0.469</td>\n",
       "      <td>6.421</td>\n",
       "      <td>78.9</td>\n",
       "      <td>4.9671</td>\n",
       "      <td>2.0</td>\n",
       "      <td>242.0</td>\n",
       "      <td>17.8</td>\n",
       "      <td>396.90</td>\n",
       "      <td>9.14</td>\n",
       "    </tr>\n",
       "    <tr>\n",
       "      <th>2</th>\n",
       "      <td>0.02729</td>\n",
       "      <td>0.0</td>\n",
       "      <td>7.07</td>\n",
       "      <td>0.0</td>\n",
       "      <td>0.469</td>\n",
       "      <td>7.185</td>\n",
       "      <td>61.1</td>\n",
       "      <td>4.9671</td>\n",
       "      <td>2.0</td>\n",
       "      <td>242.0</td>\n",
       "      <td>17.8</td>\n",
       "      <td>392.83</td>\n",
       "      <td>4.03</td>\n",
       "    </tr>\n",
       "    <tr>\n",
       "      <th>3</th>\n",
       "      <td>0.03237</td>\n",
       "      <td>0.0</td>\n",
       "      <td>2.18</td>\n",
       "      <td>0.0</td>\n",
       "      <td>0.458</td>\n",
       "      <td>6.998</td>\n",
       "      <td>45.8</td>\n",
       "      <td>6.0622</td>\n",
       "      <td>3.0</td>\n",
       "      <td>222.0</td>\n",
       "      <td>18.7</td>\n",
       "      <td>394.63</td>\n",
       "      <td>2.94</td>\n",
       "    </tr>\n",
       "    <tr>\n",
       "      <th>4</th>\n",
       "      <td>0.06905</td>\n",
       "      <td>0.0</td>\n",
       "      <td>2.18</td>\n",
       "      <td>0.0</td>\n",
       "      <td>0.458</td>\n",
       "      <td>7.147</td>\n",
       "      <td>54.2</td>\n",
       "      <td>6.0622</td>\n",
       "      <td>3.0</td>\n",
       "      <td>222.0</td>\n",
       "      <td>18.7</td>\n",
       "      <td>396.90</td>\n",
       "      <td>5.33</td>\n",
       "    </tr>\n",
       "    <tr>\n",
       "      <th>...</th>\n",
       "      <td>...</td>\n",
       "      <td>...</td>\n",
       "      <td>...</td>\n",
       "      <td>...</td>\n",
       "      <td>...</td>\n",
       "      <td>...</td>\n",
       "      <td>...</td>\n",
       "      <td>...</td>\n",
       "      <td>...</td>\n",
       "      <td>...</td>\n",
       "      <td>...</td>\n",
       "      <td>...</td>\n",
       "      <td>...</td>\n",
       "    </tr>\n",
       "    <tr>\n",
       "      <th>501</th>\n",
       "      <td>0.06263</td>\n",
       "      <td>0.0</td>\n",
       "      <td>11.93</td>\n",
       "      <td>0.0</td>\n",
       "      <td>0.573</td>\n",
       "      <td>6.593</td>\n",
       "      <td>69.1</td>\n",
       "      <td>2.4786</td>\n",
       "      <td>1.0</td>\n",
       "      <td>273.0</td>\n",
       "      <td>21.0</td>\n",
       "      <td>391.99</td>\n",
       "      <td>9.67</td>\n",
       "    </tr>\n",
       "    <tr>\n",
       "      <th>502</th>\n",
       "      <td>0.04527</td>\n",
       "      <td>0.0</td>\n",
       "      <td>11.93</td>\n",
       "      <td>0.0</td>\n",
       "      <td>0.573</td>\n",
       "      <td>6.120</td>\n",
       "      <td>76.7</td>\n",
       "      <td>2.2875</td>\n",
       "      <td>1.0</td>\n",
       "      <td>273.0</td>\n",
       "      <td>21.0</td>\n",
       "      <td>396.90</td>\n",
       "      <td>9.08</td>\n",
       "    </tr>\n",
       "    <tr>\n",
       "      <th>503</th>\n",
       "      <td>0.06076</td>\n",
       "      <td>0.0</td>\n",
       "      <td>11.93</td>\n",
       "      <td>0.0</td>\n",
       "      <td>0.573</td>\n",
       "      <td>6.976</td>\n",
       "      <td>91.0</td>\n",
       "      <td>2.1675</td>\n",
       "      <td>1.0</td>\n",
       "      <td>273.0</td>\n",
       "      <td>21.0</td>\n",
       "      <td>396.90</td>\n",
       "      <td>5.64</td>\n",
       "    </tr>\n",
       "    <tr>\n",
       "      <th>504</th>\n",
       "      <td>0.10959</td>\n",
       "      <td>0.0</td>\n",
       "      <td>11.93</td>\n",
       "      <td>0.0</td>\n",
       "      <td>0.573</td>\n",
       "      <td>6.794</td>\n",
       "      <td>89.3</td>\n",
       "      <td>2.3889</td>\n",
       "      <td>1.0</td>\n",
       "      <td>273.0</td>\n",
       "      <td>21.0</td>\n",
       "      <td>393.45</td>\n",
       "      <td>6.48</td>\n",
       "    </tr>\n",
       "    <tr>\n",
       "      <th>505</th>\n",
       "      <td>0.04741</td>\n",
       "      <td>0.0</td>\n",
       "      <td>11.93</td>\n",
       "      <td>0.0</td>\n",
       "      <td>0.573</td>\n",
       "      <td>6.030</td>\n",
       "      <td>80.8</td>\n",
       "      <td>2.5050</td>\n",
       "      <td>1.0</td>\n",
       "      <td>273.0</td>\n",
       "      <td>21.0</td>\n",
       "      <td>396.90</td>\n",
       "      <td>7.88</td>\n",
       "    </tr>\n",
       "  </tbody>\n",
       "</table>\n",
       "<p>506 rows × 13 columns</p>\n",
       "</div>"
      ],
      "text/plain": [
       "          0     1      2    3      4      5     6       7    8      9     10  \\\n",
       "0    0.00632  18.0   2.31  0.0  0.538  6.575  65.2  4.0900  1.0  296.0  15.3   \n",
       "1    0.02731   0.0   7.07  0.0  0.469  6.421  78.9  4.9671  2.0  242.0  17.8   \n",
       "2    0.02729   0.0   7.07  0.0  0.469  7.185  61.1  4.9671  2.0  242.0  17.8   \n",
       "3    0.03237   0.0   2.18  0.0  0.458  6.998  45.8  6.0622  3.0  222.0  18.7   \n",
       "4    0.06905   0.0   2.18  0.0  0.458  7.147  54.2  6.0622  3.0  222.0  18.7   \n",
       "..       ...   ...    ...  ...    ...    ...   ...     ...  ...    ...   ...   \n",
       "501  0.06263   0.0  11.93  0.0  0.573  6.593  69.1  2.4786  1.0  273.0  21.0   \n",
       "502  0.04527   0.0  11.93  0.0  0.573  6.120  76.7  2.2875  1.0  273.0  21.0   \n",
       "503  0.06076   0.0  11.93  0.0  0.573  6.976  91.0  2.1675  1.0  273.0  21.0   \n",
       "504  0.10959   0.0  11.93  0.0  0.573  6.794  89.3  2.3889  1.0  273.0  21.0   \n",
       "505  0.04741   0.0  11.93  0.0  0.573  6.030  80.8  2.5050  1.0  273.0  21.0   \n",
       "\n",
       "         11    12  \n",
       "0    396.90  4.98  \n",
       "1    396.90  9.14  \n",
       "2    392.83  4.03  \n",
       "3    394.63  2.94  \n",
       "4    396.90  5.33  \n",
       "..      ...   ...  \n",
       "501  391.99  9.67  \n",
       "502  396.90  9.08  \n",
       "503  396.90  5.64  \n",
       "504  393.45  6.48  \n",
       "505  396.90  7.88  \n",
       "\n",
       "[506 rows x 13 columns]"
      ]
     },
     "execution_count": 53,
     "metadata": {},
     "output_type": "execute_result"
    }
   ],
   "source": [
    "x_data_t = datasets.load_boston().data\n",
    "x_data_t\n",
    "df_t = pd.DataFrame(x_data_t)\n",
    "df_t"
   ]
  },
  {
   "cell_type": "code",
   "execution_count": 54,
   "id": "1f30641f",
   "metadata": {},
   "outputs": [
    {
     "data": {
      "text/html": [
       "<div>\n",
       "<style scoped>\n",
       "    .dataframe tbody tr th:only-of-type {\n",
       "        vertical-align: middle;\n",
       "    }\n",
       "\n",
       "    .dataframe tbody tr th {\n",
       "        vertical-align: top;\n",
       "    }\n",
       "\n",
       "    .dataframe thead th {\n",
       "        text-align: right;\n",
       "    }\n",
       "</style>\n",
       "<table border=\"1\" class=\"dataframe\">\n",
       "  <thead>\n",
       "    <tr style=\"text-align: right;\">\n",
       "      <th></th>\n",
       "      <th>0</th>\n",
       "      <th>1</th>\n",
       "    </tr>\n",
       "  </thead>\n",
       "  <tbody>\n",
       "    <tr>\n",
       "      <th>0</th>\n",
       "      <td>4.98</td>\n",
       "      <td>24.0</td>\n",
       "    </tr>\n",
       "    <tr>\n",
       "      <th>1</th>\n",
       "      <td>9.14</td>\n",
       "      <td>21.6</td>\n",
       "    </tr>\n",
       "    <tr>\n",
       "      <th>2</th>\n",
       "      <td>4.03</td>\n",
       "      <td>34.7</td>\n",
       "    </tr>\n",
       "    <tr>\n",
       "      <th>3</th>\n",
       "      <td>2.94</td>\n",
       "      <td>33.4</td>\n",
       "    </tr>\n",
       "    <tr>\n",
       "      <th>4</th>\n",
       "      <td>5.33</td>\n",
       "      <td>36.2</td>\n",
       "    </tr>\n",
       "  </tbody>\n",
       "</table>\n",
       "</div>"
      ],
      "text/plain": [
       "      0     1\n",
       "0  4.98  24.0\n",
       "1  9.14  21.6\n",
       "2  4.03  34.7\n",
       "3  2.94  33.4\n",
       "4  5.33  36.2"
      ]
     },
     "execution_count": 54,
     "metadata": {},
     "output_type": "execute_result"
    }
   ],
   "source": [
    "x_data = datasets.load_boston().data[:,12] # 주변 이웃 중 하위 계층 비율\n",
    "y_data = datasets.load_boston().target # 집의 가격\n",
    "df = pd.DataFrame([x_data, y_data]).transpose()\n",
    "df.head()\n"
   ]
  },
  {
   "cell_type": "code",
   "execution_count": 55,
   "id": "407491bb",
   "metadata": {},
   "outputs": [],
   "source": [
    "# 2. 모델 만들기"
   ]
  },
  {
   "cell_type": "code",
   "execution_count": 56,
   "id": "9076b799",
   "metadata": {},
   "outputs": [],
   "source": [
    "w = tf.Variable(tf.random_normal([1])) # 세타(가중치) 초기화, 정규분포에서 랜덤하게 1개 가져와라\n",
    "b = tf.Variable(tf.random_normal([1])) # tf.random_normal([2,3]) 일 경우 2행 3열\n",
    "\n",
    "\n",
    "y_predicted = w * x_data + b # model"
   ]
  },
  {
   "cell_type": "code",
   "execution_count": 11,
   "id": "8b8c97c1",
   "metadata": {},
   "outputs": [],
   "source": [
    "# 3. Cost function & Gradient Descent method"
   ]
  },
  {
   "cell_type": "code",
   "execution_count": 12,
   "id": "8956e3a5",
   "metadata": {},
   "outputs": [],
   "source": [
    "loss = tf.reduce_mean(tf.square(y_predicted - y_data)) # MSE 평균(오차의 제곱)\n",
    "optimizer = tf.train.GradientDescentOptimizer(0.001) # Gradient Descent, Learning late 0.001\n",
    "train = optimizer.minimize(loss)"
   ]
  },
  {
   "cell_type": "code",
   "execution_count": 13,
   "id": "3fe0ce7d",
   "metadata": {},
   "outputs": [],
   "source": [
    "# 4. Train the model"
   ]
  },
  {
   "cell_type": "code",
   "execution_count": 18,
   "id": "9c682c45",
   "metadata": {},
   "outputs": [
    {
     "name": "stdout",
     "output_type": "stream",
     "text": [
      "step 0: w[-0.11381119] b [1.2077253]\n",
      "loss 592.324462890625\n",
      "\n",
      "step 1000: w[0.2851735] b [13.979556]\n",
      "loss 140.58811950683594\n",
      "\n",
      "step 2000: w[-0.18632911] b [21.833061]\n",
      "loss 77.5154037475586\n",
      "\n",
      "step 3000: w[-0.47785378] b [26.688793]\n",
      "loss 53.40406799316406\n",
      "\n",
      "step 4000: w[-0.6580978] b [29.690998]\n",
      "loss 44.186954498291016\n",
      "\n",
      "step 5000: w[-0.76954025] b [31.54722]\n",
      "loss 40.66345977783203\n",
      "\n",
      "step 6000: w[-0.8384436] b [32.694897]\n",
      "loss 39.3165168762207\n",
      "\n",
      "step 7000: w[-0.8810447] b [33.404476]\n",
      "loss 38.80161666870117\n",
      "\n",
      "step 8000: w[-0.9073843] b [33.8432]\n",
      "loss 38.60478210449219\n",
      "\n",
      "step 9000: w[-0.9236701] b [34.114456]\n",
      "loss 38.529537200927734\n",
      "\n"
     ]
    }
   ],
   "source": [
    "with tf.Session() as sess:\n",
    "    sess.run(tf.global_variables_initializer()) # tf.Variables 초기화\n",
    "    \n",
    "    for step in range(10000):\n",
    "        # 실제 Gradient Descent(train)가 실행되는 코드 \n",
    "        sess.run(train) \n",
    "                        #배치가 하나밖에 없기 때문에 Epoch = Iteration 상태 \n",
    "        # run 되는 과정 보는 코드\n",
    "        if step % 1000 == 0:\n",
    "            print('step {}: w{} b {}'.format(step, sess.run(w),sess.run(b)))\n",
    "            print('loss {}'.format(sess.run(loss)))\n",
    "            print()\n",
    "            \n",
    "    w_out, b_out = sess.run([w, b])\n",
    "            "
   ]
  },
  {
   "cell_type": "code",
   "execution_count": null,
   "id": "563acdbf",
   "metadata": {},
   "outputs": [],
   "source": [
    "# 5. Visualize"
   ]
  },
  {
   "cell_type": "code",
   "execution_count": 19,
   "id": "78eaca52",
   "metadata": {},
   "outputs": [
    {
     "data": {
      "image/png": "[encoded data removed]",
      "text/plain": [
       "<Figure size 720x720 with 1 Axes>"
      ]
     },
     "metadata": {
      "needs_background": "light"
     },
     "output_type": "display_data"
    }
   ],
   "source": [
    "plt.figure(figsize=(10,10))\n",
    "plt.plot(x_data,y_data,'bo',label='Real data')\n",
    "plt.plot(x_data,x_data * w_out + b_out, 'ro', label='Prediction')\n",
    "plt.legend()\n",
    "plt.show()"
   ]
  },
  {
   "cell_type": "code",
   "execution_count": null,
   "id": "a81ad9d8",
   "metadata": {},
   "outputs": [],
   "source": [
    "# 2. 신경망 차원 생성"
   ]
  },
  {
   "cell_type": "code",
   "execution_count": 22,
   "id": "d761d43d",
   "metadata": {},
   "outputs": [
    {
     "data": {
      "text/plain": [
       "(506,)"
      ]
     },
     "execution_count": 22,
     "metadata": {},
     "output_type": "execute_result"
    }
   ],
   "source": [
    "x_data.shape"
   ]
  },
  {
   "cell_type": "code",
   "execution_count": 57,
   "id": "09e3a3f0",
   "metadata": {},
   "outputs": [
    {
     "data": {
      "text/plain": [
       "<tf.Tensor 'Reshape_4:0' shape=(506, 1) dtype=float64>"
      ]
     },
     "execution_count": 57,
     "metadata": {},
     "output_type": "execute_result"
    }
   ],
   "source": [
    "# Input layer (506 X 1)\n",
    "# 원본데이터 (506,1) 1차원 데이터로 지정\n",
    "_x_data = tf.reshape(x_data, [len(x_data), 1])\n",
    "_y_data = tf.reshape(y_data, [len(x_data), 1])\n",
    "_x_data"
   ]
  },
  {
   "cell_type": "code",
   "execution_count": 32,
   "id": "f69f4e4c",
   "metadata": {},
   "outputs": [],
   "source": [
    "\n",
    "# input - hidden 사이의 가중치 W (1X5)\n",
    "W =tf.Variable(tf.random_normal([1, 5], dtype=tf.float64)) # 1행 5열\n",
    "\n",
    "# hidden layer 5개의 퍼셉트론\n",
    "# hidden layer 행렬곱 결과 (506 X 5)\n",
    "hidden = tf.nn.sigmoid(tf.matmul(_x_data, W)) # (506 X 5) 데이터\n",
    "\n",
    "# hidden - output 사이의 가중치 (5X1)\n",
    "W_out = tf.Variable(tf.random_normal([5, 1], dtype = tf.float64))\n",
    "\n",
    "# Output layer 1개의 퍼셉트론\n",
    "# output layer 행렬곱 결과 (506 X 1)\n",
    "output = tf.matmul(hidden,W_out) # "
   ]
  },
  {
   "cell_type": "code",
   "execution_count": 33,
   "id": "c441ad90",
   "metadata": {},
   "outputs": [],
   "source": [
    "loss = tf.reduce_mean(tf.square(output - y_data)) # MSE 평균(오차의 제곱)\n",
    "optimizer = tf.train.GradientDescentOptimizer(0.001) # Gradient Descent, Learning late 0.001\n",
    "train = optimizer.minimize(loss)"
   ]
  },
  {
   "cell_type": "code",
   "execution_count": 38,
   "id": "5b3af4ce",
   "metadata": {},
   "outputs": [
    {
     "name": "stdout",
     "output_type": "stream",
     "text": [
      "Step 0: w [-0.11206711] b [-0.7582929]\n",
      "\n",
      "Step 5000: w [-0.11206711] b [-0.7582929]\n",
      "\n",
      "Step 10000: w [-0.11206711] b [-0.7582929]\n",
      "\n",
      "Step 15000: w [-0.11206711] b [-0.7582929]\n",
      "\n",
      "Step 20000: w [-0.11206711] b [-0.7582929]\n",
      "\n",
      "Step 25000: w [-0.11206711] b [-0.7582929]\n",
      "\n",
      "Step 30000: w [-0.11206711] b [-0.7582929]\n",
      "\n",
      "Step 35000: w [-0.11206711] b [-0.7582929]\n",
      "\n",
      "Step 40000: w [-0.11206711] b [-0.7582929]\n",
      "\n",
      "Step 45000: w [-0.11206711] b [-0.7582929]\n",
      "\n"
     ]
    }
   ],
   "source": [
    "with tf.Session() as sess:\n",
    "    sess.run(tf.global_variables_initializer()) # tf.Variables 초기화\n",
    "    \n",
    "    for step in range(50000):\n",
    "        # 실제 Gradient Descent(train)가 실행되는 코드 \n",
    "        sess.run(train) \n",
    "                        #배치가 하나밖에 없기 때문에 Epoch = Iteration 상태 \n",
    "        # run 되는 과정 보는 코드\n",
    "        if step % 5000 == 0:\n",
    "            print('Step {}: w {} b {}'.format(step, sess.run(w), sess.run(b)))\n",
    "            \n",
    "            print()\n",
    "            \n",
    "    output = sess.run(output)"
   ]
  },
  {
   "cell_type": "code",
   "execution_count": 39,
   "id": "644e20d1",
   "metadata": {},
   "outputs": [
    {
     "data": {
      "image/png": "[encoded data removed]",
      "text/plain": [
       "<Figure size 720x720 with 1 Axes>"
      ]
     },
     "metadata": {
      "needs_background": "light"
     },
     "output_type": "display_data"
    }
   ],
   "source": [
    "plt.figure(figsize=(10,10))\n",
    "plt.plot(x_data,y_data,'bo',label='Real data')\n",
    "plt.plot(x_data,output, 'ro', label='Prediction')\n",
    "plt.legend()\n",
    "plt.show()"
   ]
  },
  {
   "cell_type": "code",
   "execution_count": 62,
   "id": "727cd85c",
   "metadata": {},
   "outputs": [],
   "source": [
    "\n",
    "# input - hidden 사이의 가중치 W (1X5)\n",
    "W1 =tf.Variable(tf.random_normal([1, 5], dtype=tf.float64)) # 1행 5열\n",
    "\n",
    "# hidden layer 5개의 퍼셉트론\n",
    "# hidden layer 행렬곱 결과 (506 X 5)\n",
    "hidden1 = tf.nn.elu(tf.matmul(_x_data, W1)) # (506 X 5) 데이터\n",
    "\n",
    "# hidden - hidden 사이의 가중치 W (5X10)\n",
    "W2 =tf.Variable(tf.random_normal([5, 10], dtype=tf.float64)) # 1행 5열\n",
    "\n",
    "# hidden layer 10개의 퍼셉트론\n",
    "# hidden layer 행렬곱 결과 (506 X 10)\n",
    "hidden2 = tf.nn.elu(tf.matmul(hidden1, W2)) # (506 X 10) 데이터\n",
    "\n",
    "\n",
    "# hidden - output 사이의 가중치 (10X1)\n",
    "W_out = tf.Variable(tf.random_normal([10, 1], dtype = tf.float64))\n",
    "\n",
    "# Output layer 1개의 퍼셉트론\n",
    "# output layer 행렬곱 결과 (506 X 1)\n",
    "output = tf.matmul(hidden2,W_out) # "
   ]
  },
  {
   "cell_type": "code",
   "execution_count": 63,
   "id": "90336bf1",
   "metadata": {},
   "outputs": [],
   "source": [
    "loss = tf.losses.mean_squared_error(output,_y_data) # MSE 평균(오차의 제곱)\n",
    "optimizer = tf.train.AdamOptimizer(0.001) # Gradient Descent, Learning late 0.001\n",
    "train = optimizer.minimize(loss)"
   ]
  },
  {
   "cell_type": "code",
   "execution_count": 64,
   "id": "e2a3121a",
   "metadata": {},
   "outputs": [
    {
     "name": "stdout",
     "output_type": "stream",
     "text": [
      "Step 0: w [0.67317945] b [1.1897676]\n",
      "\n",
      "Step 5000: w [0.67317945] b [1.1897676]\n",
      "\n",
      "Step 10000: w [0.67317945] b [1.1897676]\n",
      "\n",
      "Step 15000: w [0.67317945] b [1.1897676]\n",
      "\n",
      "Step 20000: w [0.67317945] b [1.1897676]\n",
      "\n",
      "Step 25000: w [0.67317945] b [1.1897676]\n",
      "\n",
      "Step 30000: w [0.67317945] b [1.1897676]\n",
      "\n",
      "Step 35000: w [0.67317945] b [1.1897676]\n",
      "\n",
      "Step 40000: w [0.67317945] b [1.1897676]\n",
      "\n",
      "Step 45000: w [0.67317945] b [1.1897676]\n",
      "\n"
     ]
    }
   ],
   "source": [
    "with tf.Session() as sess:\n",
    "    sess.run(tf.global_variables_initializer()) # tf.Variables 초기화\n",
    "    \n",
    "    for step in range(50000):\n",
    "        # 실제 Gradient Descent(train)가 실행되는 코드 \n",
    "        sess.run(train) \n",
    "                        #배치가 하나밖에 없기 때문에 Epoch = Iteration 상태 \n",
    "        # run 되는 과정 보는 코드\n",
    "        if step % 5000 == 0:\n",
    "            print('Step {}: w {} b {}'.format(step, sess.run(w), sess.run(b)))\n",
    "            \n",
    "            print()\n",
    "            \n",
    "    output = sess.run(output)"
   ]
  },
  {
   "cell_type": "code",
   "execution_count": 65,
   "id": "5a998c88",
   "metadata": {},
   "outputs": [
    {
     "data": {
      "image/png": "[encoded data removed]",
      "text/plain": [
       "<Figure size 720x720 with 1 Axes>"
      ]
     },
     "metadata": {
      "needs_background": "light"
     },
     "output_type": "display_data"
    }
   ],
   "source": [
    "plt.figure(figsize=(10,10))\n",
    "plt.plot(x_data,y_data,'bo',label='Real data')\n",
    "plt.plot(x_data,output, 'ro', label='Prediction')\n",
    "plt.legend()\n",
    "plt.show()"
   ]
  }
 ],
 "metadata": {
  "kernelspec": {
   "display_name": "Python 3 (ipykernel)",
   "language": "python",
   "name": "python3"
  },
  "language_info": {
   "codemirror_mode": {
    "name": "ipython",
    "version": 3
   },
   "file_extension": ".py",
   "mimetype": "text/x-python",
   "name": "python",
   "nbconvert_exporter": "python",
   "pygments_lexer": "ipython3",
   "version": "3.8.11"
  }
 },
 "nbformat": 4,
 "nbformat_minor": 5
}
