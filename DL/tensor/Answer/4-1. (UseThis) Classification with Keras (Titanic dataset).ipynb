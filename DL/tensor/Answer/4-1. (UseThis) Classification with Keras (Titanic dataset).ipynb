{
 "cells": [
  {
   "cell_type": "markdown",
   "metadata": {},
   "source": [
    "#### 참고 : tensorflow.keras 공식 문서 (Official API Docs) @ https://www.tensorflow.org/api_docs/python/tf/keras"
   ]
  },
  {
   "cell_type": "markdown",
   "metadata": {},
   "source": [
    "<br>\n",
    "\n",
    "## 1. Data loading & preprocessing"
   ]
  },
  {
   "cell_type": "code",
   "execution_count": 1,
   "metadata": {},
   "outputs": [],
   "source": [
    "import pandas as pd\n",
    "import numpy as np\n",
    "import matplotlib.pyplot as plt"
   ]
  },
  {
   "cell_type": "code",
   "execution_count": 2,
   "metadata": {},
   "outputs": [
    {
     "data": {
      "text/html": [
       "<div>\n",
       "<style scoped>\n",
       "    .dataframe tbody tr th:only-of-type {\n",
       "        vertical-align: middle;\n",
       "    }\n",
       "\n",
       "    .dataframe tbody tr th {\n",
       "        vertical-align: top;\n",
       "    }\n",
       "\n",
       "    .dataframe thead th {\n",
       "        text-align: right;\n",
       "    }\n",
       "</style>\n",
       "<table border=\"1\" class=\"dataframe\">\n",
       "  <thead>\n",
       "    <tr style=\"text-align: right;\">\n",
       "      <th></th>\n",
       "      <th>PassengerId</th>\n",
       "      <th>Survived</th>\n",
       "      <th>Pclass</th>\n",
       "      <th>Name</th>\n",
       "      <th>Sex</th>\n",
       "      <th>Age</th>\n",
       "      <th>SibSp</th>\n",
       "      <th>Parch</th>\n",
       "      <th>Ticket</th>\n",
       "      <th>Fare</th>\n",
       "      <th>Cabin</th>\n",
       "      <th>Embarked</th>\n",
       "    </tr>\n",
       "  </thead>\n",
       "  <tbody>\n",
       "    <tr>\n",
       "      <th>0</th>\n",
       "      <td>1</td>\n",
       "      <td>0</td>\n",
       "      <td>3</td>\n",
       "      <td>Braund, Mr. Owen Harris</td>\n",
       "      <td>male</td>\n",
       "      <td>22.0</td>\n",
       "      <td>1</td>\n",
       "      <td>0</td>\n",
       "      <td>A/5 21171</td>\n",
       "      <td>7.2500</td>\n",
       "      <td>NaN</td>\n",
       "      <td>S</td>\n",
       "    </tr>\n",
       "    <tr>\n",
       "      <th>1</th>\n",
       "      <td>2</td>\n",
       "      <td>1</td>\n",
       "      <td>1</td>\n",
       "      <td>Cumings, Mrs. John Bradley (Florence Briggs Th...</td>\n",
       "      <td>female</td>\n",
       "      <td>38.0</td>\n",
       "      <td>1</td>\n",
       "      <td>0</td>\n",
       "      <td>PC 17599</td>\n",
       "      <td>71.2833</td>\n",
       "      <td>C85</td>\n",
       "      <td>C</td>\n",
       "    </tr>\n",
       "    <tr>\n",
       "      <th>2</th>\n",
       "      <td>3</td>\n",
       "      <td>1</td>\n",
       "      <td>3</td>\n",
       "      <td>Heikkinen, Miss. Laina</td>\n",
       "      <td>female</td>\n",
       "      <td>26.0</td>\n",
       "      <td>0</td>\n",
       "      <td>0</td>\n",
       "      <td>STON/O2. 3101282</td>\n",
       "      <td>7.9250</td>\n",
       "      <td>NaN</td>\n",
       "      <td>S</td>\n",
       "    </tr>\n",
       "  </tbody>\n",
       "</table>\n",
       "</div>"
      ],
      "text/plain": [
       "   PassengerId  Survived  Pclass  \\\n",
       "0            1         0       3   \n",
       "1            2         1       1   \n",
       "2            3         1       3   \n",
       "\n",
       "                                                Name     Sex   Age  SibSp  \\\n",
       "0                            Braund, Mr. Owen Harris    male  22.0      1   \n",
       "1  Cumings, Mrs. John Bradley (Florence Briggs Th...  female  38.0      1   \n",
       "2                             Heikkinen, Miss. Laina  female  26.0      0   \n",
       "\n",
       "   Parch            Ticket     Fare Cabin Embarked  \n",
       "0      0         A/5 21171   7.2500   NaN        S  \n",
       "1      0          PC 17599  71.2833   C85        C  \n",
       "2      0  STON/O2. 3101282   7.9250   NaN        S  "
      ]
     },
     "execution_count": 2,
     "metadata": {},
     "output_type": "execute_result"
    }
   ],
   "source": [
    "titanic_df = pd.read_csv(\"titanic.csv\")\n",
    "titanic_df.head(3)"
   ]
  },
  {
   "cell_type": "code",
   "execution_count": 3,
   "metadata": {},
   "outputs": [
    {
     "data": {
      "text/html": [
       "<div>\n",
       "<style scoped>\n",
       "    .dataframe tbody tr th:only-of-type {\n",
       "        vertical-align: middle;\n",
       "    }\n",
       "\n",
       "    .dataframe tbody tr th {\n",
       "        vertical-align: top;\n",
       "    }\n",
       "\n",
       "    .dataframe thead th {\n",
       "        text-align: right;\n",
       "    }\n",
       "</style>\n",
       "<table border=\"1\" class=\"dataframe\">\n",
       "  <thead>\n",
       "    <tr style=\"text-align: right;\">\n",
       "      <th></th>\n",
       "      <th>Survived</th>\n",
       "      <th>Pclass</th>\n",
       "      <th>Sex</th>\n",
       "      <th>Age</th>\n",
       "      <th>Fare</th>\n",
       "      <th>Embarked</th>\n",
       "      <th>Title</th>\n",
       "      <th>FamilySize</th>\n",
       "      <th>isAlone</th>\n",
       "    </tr>\n",
       "  </thead>\n",
       "  <tbody>\n",
       "    <tr>\n",
       "      <th>0</th>\n",
       "      <td>0</td>\n",
       "      <td>3</td>\n",
       "      <td>0</td>\n",
       "      <td>1.0</td>\n",
       "      <td>0.0</td>\n",
       "      <td>0</td>\n",
       "      <td>3</td>\n",
       "      <td>0.4</td>\n",
       "      <td>0</td>\n",
       "    </tr>\n",
       "    <tr>\n",
       "      <th>1</th>\n",
       "      <td>1</td>\n",
       "      <td>1</td>\n",
       "      <td>1</td>\n",
       "      <td>2.0</td>\n",
       "      <td>0.0</td>\n",
       "      <td>2</td>\n",
       "      <td>4</td>\n",
       "      <td>0.4</td>\n",
       "      <td>0</td>\n",
       "    </tr>\n",
       "    <tr>\n",
       "      <th>2</th>\n",
       "      <td>1</td>\n",
       "      <td>3</td>\n",
       "      <td>1</td>\n",
       "      <td>1.0</td>\n",
       "      <td>0.0</td>\n",
       "      <td>0</td>\n",
       "      <td>2</td>\n",
       "      <td>0.0</td>\n",
       "      <td>1</td>\n",
       "    </tr>\n",
       "  </tbody>\n",
       "</table>\n",
       "</div>"
      ],
      "text/plain": [
       "   Survived  Pclass  Sex  Age  Fare  Embarked  Title  FamilySize  isAlone\n",
       "0         0       3    0  1.0   0.0         0      3         0.4        0\n",
       "1         1       1    1  2.0   0.0         2      4         0.4        0\n",
       "2         1       3    1  1.0   0.0         0      2         0.0        1"
      ]
     },
     "execution_count": 3,
     "metadata": {},
     "output_type": "execute_result"
    }
   ],
   "source": [
    "del titanic_df['Cabin'] # 너무 많은 결측치가 존재\n",
    "del titanic_df['PassengerId'] # Passenger 번호는 큰 의미를 갖고있지 않은 일련번호\n",
    "del titanic_df['Ticket'] # ticket 번호에서 패턴이 확인되지 않음\n",
    "\n",
    "\n",
    "titanic_df['Title'] = titanic_df['Name'].str.extract('([A-Za-z]+)\\.', expand=False)\n",
    "del titanic_df['Name'] # 호칭만 남김\n",
    "\n",
    "rare_title = []\n",
    "for title in set(titanic_df['Title']):\n",
    "    if list(titanic_df['Title']).count(title) < 10:\n",
    "        rare_title.append(title)\n",
    "\n",
    "titanic_df['Title'] = titanic_df['Title'].replace('Mlle', 'Miss') # Mademoiselle\n",
    "titanic_df['Title'] = titanic_df['Title'].replace('Ms', 'Miss') \n",
    "titanic_df['Title'] = titanic_df['Title'].replace('Mme', 'Mrs') # Madame\n",
    "titanic_df['Title'] = titanic_df['Title'].replace(rare_title, 'Rare')\n",
    "\n",
    "title_mapping = {\"Master\":1, \"Miss\":2, \"Mr\":3, \"Mrs\":4, \"Rare\":5 }\n",
    "titanic_df['Title'] = titanic_df['Title'].map(title_mapping)\n",
    "titanic_df['Title'] = titanic_df['Title'].fillna(0)\n",
    "titanic_df['Title'].astype(int)\n",
    "\n",
    "\n",
    "sex_mapping = {\"male\": 0 , \"female\":1} \n",
    "titanic_df['Sex'] = titanic_df['Sex'].map(sex_mapping)\n",
    "\n",
    "\n",
    "titanic_df['Embarked'] = titanic_df['Embarked'].fillna('S')\n",
    "mapping_data ={\"S\":0, \"Q\":1, \"C\":2}\n",
    "titanic_df[\"Embarked\"] = titanic_df[\"Embarked\"].map(mapping_data)\n",
    "\n",
    "\n",
    "titanic_df.loc[ titanic_df['Fare'] <= 102, 'Fare'] = 0\n",
    "titanic_df.loc[(titanic_df['Fare'] > 102) & (titanic_df['Fare'] <= 204), 'Fare'] = 1\n",
    "titanic_df.loc[(titanic_df['Fare'] > 204) & (titanic_df['Fare'] <= 307), 'Fare'] = 2\n",
    "titanic_df.loc[ titanic_df['Fare'] > 307, 'Fare'] = 4\n",
    "\n",
    "\n",
    "titanic_df[\"FamilySize\"] = titanic_df[\"SibSp\"] + titanic_df[\"Parch\"] +1\n",
    "del titanic_df['SibSp']\n",
    "del titanic_df['Parch']\n",
    "\n",
    "titanic_df['isAlone'] = 0\n",
    "titanic_df.loc[titanic_df['FamilySize'] == 1, 'isAlone'] = 1\n",
    "\n",
    "family_mapping = {1: 0, 2: 0.4, 3: 0.8, 4: 1.2, 5: 1.6, 6: 2, 7: 2.4, 8: 2.8, 9: 3.2, 10: 3.6, 11: 4}\n",
    "titanic_df['FamilySize'] = titanic_df['FamilySize'].map(family_mapping)\n",
    "\n",
    "\n",
    "titanic_df[\"Age\"].fillna(titanic_df.groupby(\"Title\")[\"Age\"].transform(\"median\"), inplace=True)\n",
    "\n",
    "titanic_df.loc[ titanic_df['Age'] <= 16, 'Age'] = 0\n",
    "titanic_df.loc[(titanic_df['Age'] > 16) & (titanic_df['Age'] <= 32), 'Age'] = 1\n",
    "titanic_df.loc[(titanic_df['Age'] > 32) & (titanic_df['Age'] <= 48), 'Age'] = 2\n",
    "titanic_df.loc[(titanic_df['Age'] > 48) & (titanic_df['Age'] <= 64), 'Age'] = 3\n",
    "titanic_df.loc[ titanic_df['Age'] > 64, 'Age'] = 4\n",
    "\n",
    "titanic_df.head(3)"
   ]
  },
  {
   "cell_type": "markdown",
   "metadata": {},
   "source": [
    "<br>\n",
    "\n",
    "## 2. Devide dataframe into X & Y -> Train X / Test X / Train Y / Test Y"
   ]
  },
  {
   "cell_type": "code",
   "execution_count": 4,
   "metadata": {},
   "outputs": [],
   "source": [
    "titanic_target = titanic_df[['Survived']].copy()\n",
    "titanic_data = titanic_df.copy()\n",
    "\n",
    "del titanic_data['Survived']"
   ]
  },
  {
   "cell_type": "code",
   "execution_count": 5,
   "metadata": {},
   "outputs": [
    {
     "name": "stdout",
     "output_type": "stream",
     "text": [
      "(623, 8)\n",
      "(268, 8)\n",
      "(623, 1)\n",
      "(268, 1)\n"
     ]
    }
   ],
   "source": [
    "from sklearn import model_selection\n",
    "\n",
    "train_data, test_data, train_label, test_label = model_selection.train_test_split(titanic_data, titanic_target,\n",
    "                                                                                 test_size=0.3,\n",
    "                                                                                 random_state=0)\n",
    "print(train_data.shape)\n",
    "print(test_data.shape)\n",
    "print(train_label.shape)\n",
    "print(test_label.shape)"
   ]
  },
  {
   "cell_type": "markdown",
   "metadata": {},
   "source": [
    "<br>\n",
    "\n",
    "## 3. Change normal labels to one-hot labels"
   ]
  },
  {
   "cell_type": "code",
   "execution_count": 6,
   "metadata": {},
   "outputs": [
    {
     "data": {
      "text/html": [
       "<div>\n",
       "<style scoped>\n",
       "    .dataframe tbody tr th:only-of-type {\n",
       "        vertical-align: middle;\n",
       "    }\n",
       "\n",
       "    .dataframe tbody tr th {\n",
       "        vertical-align: top;\n",
       "    }\n",
       "\n",
       "    .dataframe thead th {\n",
       "        text-align: right;\n",
       "    }\n",
       "</style>\n",
       "<table border=\"1\" class=\"dataframe\">\n",
       "  <thead>\n",
       "    <tr style=\"text-align: right;\">\n",
       "      <th></th>\n",
       "      <th>Survived</th>\n",
       "    </tr>\n",
       "  </thead>\n",
       "  <tbody>\n",
       "    <tr>\n",
       "      <th>857</th>\n",
       "      <td>1</td>\n",
       "    </tr>\n",
       "    <tr>\n",
       "      <th>52</th>\n",
       "      <td>1</td>\n",
       "    </tr>\n",
       "    <tr>\n",
       "      <th>386</th>\n",
       "      <td>0</td>\n",
       "    </tr>\n",
       "    <tr>\n",
       "      <th>124</th>\n",
       "      <td>0</td>\n",
       "    </tr>\n",
       "    <tr>\n",
       "      <th>578</th>\n",
       "      <td>0</td>\n",
       "    </tr>\n",
       "  </tbody>\n",
       "</table>\n",
       "</div>"
      ],
      "text/plain": [
       "     Survived\n",
       "857         1\n",
       "52          1\n",
       "386         0\n",
       "124         0\n",
       "578         0"
      ]
     },
     "execution_count": 6,
     "metadata": {},
     "output_type": "execute_result"
    }
   ],
   "source": [
    "train_label[:5]"
   ]
  },
  {
   "cell_type": "code",
   "execution_count": 7,
   "metadata": {},
   "outputs": [
    {
     "name": "stdout",
     "output_type": "stream",
     "text": [
      "(623, 2)\n",
      "(268, 2)\n"
     ]
    }
   ],
   "source": [
    "from tensorflow.keras import utils\n",
    "\n",
    "train_label = utils.to_categorical(train_label) # 0 or 1 -> one-hot vector\n",
    "test_label = utils.to_categorical(test_label) # 0 or 1 -> one-hot vector\n",
    "\n",
    "print(train_label.shape)\n",
    "print(test_label.shape)\n",
    "\n",
    "# from sklearn import preprocessing\n",
    "# enc = preprocessing.OneHotEncoder(categories='auto') \n",
    "# train_label = enc.fit_transform(train_label).toarray()\n",
    "# test_label = enc.fit_transform(test_label).toarray()"
   ]
  },
  {
   "cell_type": "code",
   "execution_count": 8,
   "metadata": {},
   "outputs": [
    {
     "data": {
      "text/plain": [
       "array([[0., 1.],\n",
       "       [0., 1.],\n",
       "       [1., 0.],\n",
       "       ...,\n",
       "       [1., 0.],\n",
       "       [0., 1.],\n",
       "       [1., 0.]], dtype=float32)"
      ]
     },
     "execution_count": 8,
     "metadata": {},
     "output_type": "execute_result"
    }
   ],
   "source": [
    "train_label"
   ]
  },
  {
   "cell_type": "markdown",
   "metadata": {},
   "source": [
    "<br>\n",
    "\n",
    "## 4. Build & Train the model "
   ]
  },
  {
   "cell_type": "code",
   "execution_count": 9,
   "metadata": {},
   "outputs": [],
   "source": [
    "import tensorflow as tf\n",
    "from tensorflow.keras import datasets, utils\n",
    "from tensorflow.keras import models, layers, activations, initializers, losses, optimizers, metrics"
   ]
  },
  {
   "cell_type": "code",
   "execution_count": 11,
   "metadata": {},
   "outputs": [],
   "source": [
    "import os\n",
    "os.environ['TF_CPP_MIN_LOG_LEVEL'] = '2' # https://stackoverflow.com/questions/35911252/disable-tensorflow-debugging-information"
   ]
  },
  {
   "cell_type": "code",
   "execution_count": 12,
   "metadata": {},
   "outputs": [],
   "source": [
    "model = models.Sequential() \n",
    "\n",
    "model.add(layers.Dense(input_dim=8, units=256, activation=None, kernel_initializer=initializers.he_uniform())) \n",
    "# model.add(layers.BatchNormalization()) # Use this line as if needed\n",
    "model.add(layers.Activation('elu')) # elu or relu (or layers.ELU / layers.LeakyReLU)\n",
    "\n",
    "model.add(layers.Dense(units=512, activation=None, kernel_initializer=initializers.he_uniform())) \n",
    "model.add(layers.Activation('elu')) \n",
    "\n",
    "model.add(layers.Dense(units=512, activation=None, kernel_initializer=initializers.he_uniform())) \n",
    "model.add(layers.Activation('elu'))\n",
    "\n",
    "model.add(layers.Dense(units=256, activation=None, kernel_initializer=initializers.he_uniform())) \n",
    "model.add(layers.Activation('elu')) \n",
    "model.add(layers.Dropout(rate=0.5))\n",
    "\n",
    "model.add(layers.Dense(units=2, activation='softmax')) # One-hot vector for 0 & 1"
   ]
  },
  {
   "cell_type": "code",
   "execution_count": 13,
   "metadata": {},
   "outputs": [],
   "source": [
    "model.compile(optimizer=optimizers.Adam(), \n",
    "              loss=losses.categorical_crossentropy, \n",
    "              metrics=[metrics.categorical_accuracy]) "
   ]
  },
  {
   "cell_type": "code",
   "execution_count": 14,
   "metadata": {},
   "outputs": [
    {
     "name": "stdout",
     "output_type": "stream",
     "text": [
      "Epoch 1/20\n",
      "5/5 [==============================] - 1s 45ms/step - loss: 3.8387 - categorical_accuracy: 0.5917 - val_loss: 0.8095 - val_categorical_accuracy: 0.7647\n",
      "Epoch 2/20\n",
      "5/5 [==============================] - 0s 15ms/step - loss: 1.4733 - categorical_accuracy: 0.7317 - val_loss: 0.5058 - val_categorical_accuracy: 0.8342\n",
      "Epoch 3/20\n",
      "5/5 [==============================] - 0s 13ms/step - loss: 0.8486 - categorical_accuracy: 0.7064 - val_loss: 0.7933 - val_categorical_accuracy: 0.6952\n",
      "Epoch 4/20\n",
      "5/5 [==============================] - 0s 14ms/step - loss: 0.8005 - categorical_accuracy: 0.7592 - val_loss: 0.4248 - val_categorical_accuracy: 0.8235\n",
      "Epoch 5/20\n",
      "5/5 [==============================] - 0s 14ms/step - loss: 0.6095 - categorical_accuracy: 0.7683 - val_loss: 0.6744 - val_categorical_accuracy: 0.7273\n",
      "Epoch 6/20\n",
      "5/5 [==============================] - 0s 13ms/step - loss: 0.6444 - categorical_accuracy: 0.7798 - val_loss: 0.4875 - val_categorical_accuracy: 0.8235\n",
      "Epoch 7/20\n",
      "5/5 [==============================] - 0s 14ms/step - loss: 0.6413 - categorical_accuracy: 0.7546 - val_loss: 0.6414 - val_categorical_accuracy: 0.7754\n",
      "Epoch 8/20\n",
      "5/5 [==============================] - 0s 14ms/step - loss: 0.5309 - categorical_accuracy: 0.8142 - val_loss: 0.4584 - val_categorical_accuracy: 0.8021\n",
      "Epoch 9/20\n",
      "5/5 [==============================] - 0s 15ms/step - loss: 0.5541 - categorical_accuracy: 0.7913 - val_loss: 0.5516 - val_categorical_accuracy: 0.7701\n",
      "Epoch 10/20\n",
      "5/5 [==============================] - 0s 14ms/step - loss: 0.5553 - categorical_accuracy: 0.7959 - val_loss: 0.4812 - val_categorical_accuracy: 0.8289\n",
      "Epoch 11/20\n",
      "5/5 [==============================] - 0s 15ms/step - loss: 0.5520 - categorical_accuracy: 0.8005 - val_loss: 0.4461 - val_categorical_accuracy: 0.8235\n",
      "Epoch 12/20\n",
      "5/5 [==============================] - 0s 13ms/step - loss: 0.5225 - categorical_accuracy: 0.7821 - val_loss: 0.6065 - val_categorical_accuracy: 0.7487\n",
      "Epoch 13/20\n",
      "5/5 [==============================] - 0s 15ms/step - loss: 0.5013 - categorical_accuracy: 0.7913 - val_loss: 0.4257 - val_categorical_accuracy: 0.8289\n",
      "Epoch 14/20\n",
      "5/5 [==============================] - 0s 15ms/step - loss: 0.5784 - categorical_accuracy: 0.7844 - val_loss: 0.5191 - val_categorical_accuracy: 0.8021\n",
      "Epoch 15/20\n",
      "5/5 [==============================] - 0s 15ms/step - loss: 0.4847 - categorical_accuracy: 0.8142 - val_loss: 0.4632 - val_categorical_accuracy: 0.8235\n",
      "Epoch 16/20\n",
      "5/5 [==============================] - 0s 16ms/step - loss: 0.5150 - categorical_accuracy: 0.8005 - val_loss: 0.6175 - val_categorical_accuracy: 0.7326\n",
      "Epoch 17/20\n",
      "5/5 [==============================] - 0s 16ms/step - loss: 0.5270 - categorical_accuracy: 0.8073 - val_loss: 0.4688 - val_categorical_accuracy: 0.8182\n",
      "Epoch 18/20\n",
      "5/5 [==============================] - 0s 14ms/step - loss: 0.5240 - categorical_accuracy: 0.7867 - val_loss: 0.4900 - val_categorical_accuracy: 0.8235\n",
      "Epoch 19/20\n",
      "5/5 [==============================] - 0s 14ms/step - loss: 0.5265 - categorical_accuracy: 0.8096 - val_loss: 0.5540 - val_categorical_accuracy: 0.7487\n",
      "Epoch 20/20\n",
      "5/5 [==============================] - 0s 15ms/step - loss: 0.4909 - categorical_accuracy: 0.8257 - val_loss: 0.4980 - val_categorical_accuracy: 0.8075\n"
     ]
    }
   ],
   "source": [
    "history = model.fit(train_data, train_label, batch_size=100, epochs=20, validation_split=0.3) "
   ]
  },
  {
   "cell_type": "code",
   "execution_count": 15,
   "metadata": {
    "scrolled": true
   },
   "outputs": [
    {
     "name": "stdout",
     "output_type": "stream",
     "text": [
      "9/9 [==============================] - 0s 2ms/step - loss: 0.4770 - categorical_accuracy: 0.8209\n",
      "loss (cross-entropy) : 0.4769827425479889\n",
      "test accuracy : 0.8208954930305481\n"
     ]
    }
   ],
   "source": [
    "result = model.evaluate(test_data, test_label)\n",
    "\n",
    "print('loss (cross-entropy) :', result[0])\n",
    "print('test accuracy :', result[1])"
   ]
  },
  {
   "cell_type": "code",
   "execution_count": 16,
   "metadata": {},
   "outputs": [
    {
     "data": {
      "text/plain": [
       "dict_keys(['loss', 'categorical_accuracy', 'val_loss', 'val_categorical_accuracy'])"
      ]
     },
     "execution_count": 16,
     "metadata": {},
     "output_type": "execute_result"
    }
   ],
   "source": [
    "history.history.keys()"
   ]
  },
  {
   "cell_type": "code",
   "execution_count": 17,
   "metadata": {},
   "outputs": [
    {
     "data": {
      "image/png": "[encoded data removed]",
      "text/plain": [
       "<Figure size 432x288 with 1 Axes>"
      ]
     },
     "metadata": {
      "needs_background": "light"
     },
     "output_type": "display_data"
    }
   ],
   "source": [
    "acc = history.history['categorical_accuracy']\n",
    "val_acc = history.history['val_categorical_accuracy']\n",
    "\n",
    "x_len = np.arange(len(acc))\n",
    "\n",
    "plt.plot(x_len, acc, marker='.', c='blue', label=\"Train-set Acc.\")\n",
    "plt.plot(x_len, val_acc, marker='.', c='red', label=\"Validation-set Acc.\")\n",
    "\n",
    "plt.legend(loc='upper right')\n",
    "plt.grid()\n",
    "plt.xlabel('epoch')\n",
    "plt.ylabel('Accuracy')\n",
    "plt.show()"
   ]
  },
  {
   "cell_type": "code",
   "execution_count": 18,
   "metadata": {},
   "outputs": [
    {
     "data": {
      "image/png": "[encoded data removed]",
      "text/plain": [
       "<Figure size 432x288 with 1 Axes>"
      ]
     },
     "metadata": {
      "needs_background": "light"
     },
     "output_type": "display_data"
    }
   ],
   "source": [
    "loss = history.history['loss']\n",
    "val_loss = history.history['val_loss']\n",
    "\n",
    "x_len = np.arange(len(acc))\n",
    "\n",
    "plt.plot(x_len, loss, marker='.', c='blue', label=\"Train-set loss.\")\n",
    "plt.plot(x_len, val_loss, marker='.', c='red', label=\"Validation-set loss.\")\n",
    "\n",
    "plt.legend(loc='upper right')\n",
    "plt.grid()\n",
    "plt.xlabel('epoch')\n",
    "plt.ylabel('Cross-entropy')\n",
    "plt.show()"
   ]
  },
  {
   "cell_type": "code",
   "execution_count": 19,
   "metadata": {},
   "outputs": [
    {
     "data": {
      "text/plain": [
       "array([[7.68648386e-01, 2.31351614e-01],\n",
       "       [8.86494279e-01, 1.13505699e-01],\n",
       "       [9.66024935e-01, 3.39750908e-02],\n",
       "       [4.24151681e-03, 9.95758474e-01],\n",
       "       [1.96882352e-01, 8.03117633e-01],\n",
       "       [9.50700641e-01, 4.92993742e-02],\n",
       "       [4.97014355e-03, 9.95029867e-01],\n",
       "       [6.23104116e-03, 9.93768990e-01],\n",
       "       [7.42683649e-01, 2.57316381e-01],\n",
       "       [2.42811382e-01, 7.57188618e-01],\n",
       "       [9.43037510e-01, 5.69624901e-02],\n",
       "       [5.11798620e-01, 4.88201350e-01],\n",
       "       [8.20237696e-01, 1.79762289e-01],\n",
       "       [4.53120507e-02, 9.54687953e-01],\n",
       "       [8.16223794e-04, 9.99183714e-01],\n",
       "       [8.02236721e-02, 9.19776380e-01],\n",
       "       [8.86494279e-01, 1.13505699e-01],\n",
       "       [9.22686696e-01, 7.73132592e-02],\n",
       "       [9.85917509e-01, 1.40824560e-02],\n",
       "       [2.08211895e-02, 9.79178786e-01],\n",
       "       [9.11350310e-01, 8.86496305e-02],\n",
       "       [3.57139157e-03, 9.96428668e-01],\n",
       "       [8.20237696e-01, 1.79762289e-01],\n",
       "       [9.50700641e-01, 4.92993742e-02],\n",
       "       [6.34667218e-01, 3.65332782e-01],\n",
       "       [6.01126673e-03, 9.93988752e-01],\n",
       "       [8.86494279e-01, 1.13505699e-01],\n",
       "       [6.34667218e-01, 3.65332782e-01],\n",
       "       [2.83971056e-02, 9.71602917e-01],\n",
       "       [8.30109775e-01, 1.69890180e-01],\n",
       "       [9.13659632e-01, 8.63403603e-02],\n",
       "       [7.39325941e-01, 2.60674059e-01],\n",
       "       [8.86494279e-01, 1.13505699e-01],\n",
       "       [9.50700641e-01, 4.92993742e-02],\n",
       "       [9.43037510e-01, 5.69624901e-02],\n",
       "       [9.93817866e-01, 6.18214114e-03],\n",
       "       [9.85917509e-01, 1.40824560e-02],\n",
       "       [9.11350310e-01, 8.86496305e-02],\n",
       "       [9.11350310e-01, 8.86496305e-02],\n",
       "       [9.42632675e-01, 5.73673286e-02],\n",
       "       [6.89566970e-01, 3.10433000e-01],\n",
       "       [7.68648386e-01, 2.31351614e-01],\n",
       "       [8.86494279e-01, 1.13505699e-01],\n",
       "       [9.76272762e-01, 2.37272978e-02],\n",
       "       [1.64277980e-03, 9.98357236e-01],\n",
       "       [8.86494279e-01, 1.13505699e-01],\n",
       "       [8.86494279e-01, 1.13505699e-01],\n",
       "       [1.15553360e-03, 9.98844385e-01],\n",
       "       [9.56720352e-01, 4.32796516e-02],\n",
       "       [9.72777963e-01, 2.72220261e-02],\n",
       "       [9.50700641e-01, 4.92993742e-02],\n",
       "       [7.42683649e-01, 2.57316381e-01],\n",
       "       [4.53120507e-02, 9.54687953e-01],\n",
       "       [8.86494279e-01, 1.13505699e-01],\n",
       "       [8.73425961e-01, 1.26574084e-01],\n",
       "       [9.22686696e-01, 7.73132592e-02],\n",
       "       [9.37441289e-01, 6.25587106e-02],\n",
       "       [9.22668934e-01, 7.73310810e-02],\n",
       "       [9.74176347e-01, 2.58236527e-02],\n",
       "       [9.42384899e-01, 5.76151013e-02],\n",
       "       [7.68648386e-01, 2.31351614e-01],\n",
       "       [5.93071461e-01, 4.06928569e-01],\n",
       "       [5.35998307e-03, 9.94640052e-01],\n",
       "       [6.47078991e-01, 3.52920949e-01],\n",
       "       [3.47085148e-01, 6.52914822e-01],\n",
       "       [8.20237696e-01, 1.79762289e-01],\n",
       "       [5.88493608e-03, 9.94114995e-01],\n",
       "       [9.74630177e-01, 2.53698379e-02],\n",
       "       [4.53120507e-02, 9.54687953e-01],\n",
       "       [1.49239658e-03, 9.98507559e-01],\n",
       "       [2.83971056e-02, 9.71602917e-01],\n",
       "       [8.71638715e-01, 1.28361359e-01],\n",
       "       [7.42683649e-01, 2.57316381e-01],\n",
       "       [8.86494279e-01, 1.13505699e-01],\n",
       "       [8.86494279e-01, 1.13505699e-01],\n",
       "       [5.35071045e-02, 9.46492970e-01],\n",
       "       [9.97812986e-01, 2.18697940e-03],\n",
       "       [9.31063473e-01, 6.89365119e-02],\n",
       "       [9.85917509e-01, 1.40824560e-02],\n",
       "       [7.68171132e-01, 2.31828853e-01],\n",
       "       [9.05599415e-01, 9.44005847e-02],\n",
       "       [2.45999973e-02, 9.75400031e-01],\n",
       "       [3.71692255e-02, 9.62830722e-01],\n",
       "       [6.96981847e-01, 3.03018123e-01],\n",
       "       [9.56720352e-01, 4.32796516e-02],\n",
       "       [1.49239658e-03, 9.98507559e-01],\n",
       "       [2.63913480e-05, 9.99973655e-01],\n",
       "       [9.30366337e-01, 6.96336851e-02],\n",
       "       [8.34614113e-02, 9.16538537e-01],\n",
       "       [9.78570640e-01, 2.14293618e-02],\n",
       "       [9.50700641e-01, 4.92993742e-02],\n",
       "       [8.86494279e-01, 1.13505699e-01],\n",
       "       [4.97321077e-02, 9.50267911e-01],\n",
       "       [8.74824007e-04, 9.99125183e-01],\n",
       "       [8.30109715e-01, 1.69890299e-01],\n",
       "       [7.68648326e-01, 2.31351689e-01],\n",
       "       [3.71692255e-02, 9.62830722e-01],\n",
       "       [9.76272762e-01, 2.37272978e-02],\n",
       "       [7.33360589e-01, 2.66639441e-01],\n",
       "       [8.73425961e-01, 1.26574084e-01],\n",
       "       [9.96354461e-01, 3.64550878e-03],\n",
       "       [9.49676752e-01, 5.03232740e-02],\n",
       "       [8.86494279e-01, 1.13505699e-01],\n",
       "       [9.67550635e-01, 3.24493609e-02],\n",
       "       [3.47085148e-01, 6.52914822e-01],\n",
       "       [6.73261464e-01, 3.26738566e-01],\n",
       "       [9.38840583e-02, 9.06116009e-01],\n",
       "       [9.20329452e-01, 7.96704963e-02],\n",
       "       [9.02175307e-01, 9.78247523e-02],\n",
       "       [5.26331007e-01, 4.73668933e-01],\n",
       "       [9.85917509e-01, 1.40824560e-02],\n",
       "       [7.68839032e-04, 9.99231219e-01],\n",
       "       [8.86494279e-01, 1.13505699e-01],\n",
       "       [6.34667218e-01, 3.65332782e-01],\n",
       "       [9.82499719e-01, 1.75003242e-02],\n",
       "       [1.30131930e-01, 8.69868040e-01],\n",
       "       [2.62557626e-01, 7.37442434e-01],\n",
       "       [1.42568618e-01, 8.57431412e-01],\n",
       "       [9.85917509e-01, 1.40824560e-02],\n",
       "       [4.41352390e-02, 9.55864787e-01],\n",
       "       [8.86494279e-01, 1.13505699e-01],\n",
       "       [8.20237696e-01, 1.79762289e-01],\n",
       "       [8.86494279e-01, 1.13505699e-01],\n",
       "       [9.34829950e-01, 6.51699826e-02],\n",
       "       [9.85917509e-01, 1.40824560e-02],\n",
       "       [6.48505628e-01, 3.51494461e-01],\n",
       "       [7.68648326e-01, 2.31351689e-01],\n",
       "       [9.43037570e-01, 5.69624379e-02],\n",
       "       [9.11350310e-01, 8.86496305e-02],\n",
       "       [9.42632675e-01, 5.73673286e-02],\n",
       "       [3.15847427e-01, 6.84152544e-01],\n",
       "       [8.86494279e-01, 1.13505699e-01],\n",
       "       [8.86494279e-01, 1.13505699e-01],\n",
       "       [7.89229333e-01, 2.10770652e-01],\n",
       "       [9.37441289e-01, 6.25587106e-02],\n",
       "       [8.86494279e-01, 1.13505699e-01],\n",
       "       [9.05599415e-01, 9.44005847e-02],\n",
       "       [5.79802513e-01, 4.20197546e-01],\n",
       "       [9.79057968e-01, 2.09419858e-02],\n",
       "       [9.11350310e-01, 8.86496305e-02],\n",
       "       [9.11350310e-01, 8.86496305e-02],\n",
       "       [1.31597789e-03, 9.98683989e-01],\n",
       "       [8.86494279e-01, 1.13505699e-01],\n",
       "       [3.15847427e-01, 6.84152544e-01],\n",
       "       [1.30131930e-01, 8.69868040e-01],\n",
       "       [6.34667218e-01, 3.65332782e-01],\n",
       "       [9.11350310e-01, 8.86496305e-02],\n",
       "       [3.62611301e-02, 9.63738918e-01],\n",
       "       [3.74580687e-03, 9.96254206e-01],\n",
       "       [8.86494279e-01, 1.13505699e-01],\n",
       "       [8.71638715e-01, 1.28361359e-01],\n",
       "       [6.34667218e-01, 3.65332782e-01],\n",
       "       [9.58056569e-01, 4.19434272e-02],\n",
       "       [8.86494279e-01, 1.13505699e-01],\n",
       "       [2.35999767e-02, 9.76400018e-01],\n",
       "       [9.11350310e-01, 8.86496305e-02],\n",
       "       [1.94020689e-01, 8.05979252e-01],\n",
       "       [9.91216302e-01, 8.78369529e-03],\n",
       "       [3.15847278e-01, 6.84152722e-01],\n",
       "       [1.72528267e-01, 8.27471733e-01],\n",
       "       [8.86494279e-01, 1.13505699e-01],\n",
       "       [7.68648386e-01, 2.31351614e-01],\n",
       "       [9.68730717e-04, 9.99031305e-01],\n",
       "       [7.75859416e-01, 2.24140599e-01],\n",
       "       [7.22769558e-01, 2.77230501e-01],\n",
       "       [8.86494279e-01, 1.13505699e-01],\n",
       "       [9.97744083e-01, 2.25588772e-03],\n",
       "       [8.86494279e-01, 1.13505699e-01],\n",
       "       [8.86494279e-01, 1.13505699e-01],\n",
       "       [8.86494279e-01, 1.13505699e-01],\n",
       "       [9.97744083e-01, 2.25588772e-03],\n",
       "       [8.74824007e-04, 9.99125183e-01],\n",
       "       [8.86494279e-01, 1.13505699e-01],\n",
       "       [8.86494279e-01, 1.13505699e-01],\n",
       "       [2.31669452e-02, 9.76833105e-01],\n",
       "       [8.86494279e-01, 1.13505699e-01],\n",
       "       [5.13005012e-04, 9.99486923e-01],\n",
       "       [8.86494279e-01, 1.13505699e-01],\n",
       "       [8.86494279e-01, 1.13505699e-01],\n",
       "       [2.69533008e-01, 7.30467021e-01],\n",
       "       [9.11350310e-01, 8.86496305e-02],\n",
       "       [7.78460383e-01, 2.21539661e-01],\n",
       "       [7.68648386e-01, 2.31351614e-01],\n",
       "       [8.86494279e-01, 1.13505699e-01],\n",
       "       [8.14021289e-01, 1.85978696e-01],\n",
       "       [8.86494279e-01, 1.13505699e-01],\n",
       "       [3.15847427e-01, 6.84152544e-01],\n",
       "       [9.11350310e-01, 8.86496305e-02],\n",
       "       [8.86494279e-01, 1.13505699e-01],\n",
       "       [1.87920198e-01, 8.12079787e-01],\n",
       "       [7.89229572e-01, 2.10770488e-01],\n",
       "       [9.17991281e-01, 8.20087492e-02],\n",
       "       [2.31669452e-02, 9.76833105e-01],\n",
       "       [3.15847427e-01, 6.84152544e-01],\n",
       "       [8.20237696e-01, 1.79762289e-01],\n",
       "       [9.27718222e-01, 7.22817779e-02],\n",
       "       [8.86494279e-01, 1.13505699e-01],\n",
       "       [3.30804259e-01, 6.69195712e-01],\n",
       "       [8.14021289e-01, 1.85978696e-01],\n",
       "       [9.97744083e-01, 2.25588772e-03],\n",
       "       [8.86494279e-01, 1.13505699e-01],\n",
       "       [2.98467577e-01, 7.01532483e-01],\n",
       "       [9.96898770e-01, 3.10121942e-03],\n",
       "       [6.51709363e-02, 9.34829056e-01],\n",
       "       [8.86494279e-01, 1.13505699e-01],\n",
       "       [7.44586349e-01, 2.55413651e-01],\n",
       "       [2.62557626e-01, 7.37442434e-01],\n",
       "       [8.86494279e-01, 1.13505699e-01],\n",
       "       [3.25209163e-02, 9.67479110e-01],\n",
       "       [9.97744083e-01, 2.25588772e-03],\n",
       "       [8.86494279e-01, 1.13505699e-01],\n",
       "       [6.47079408e-01, 3.52920592e-01],\n",
       "       [9.74176347e-01, 2.58236527e-02],\n",
       "       [1.01525642e-01, 8.98474395e-01],\n",
       "       [9.56720352e-01, 4.32796516e-02],\n",
       "       [8.86494279e-01, 1.13505699e-01],\n",
       "       [7.84127891e-01, 2.15872139e-01],\n",
       "       [2.22279057e-01, 7.77720988e-01],\n",
       "       [9.20329452e-01, 7.96704963e-02],\n",
       "       [7.04016071e-04, 9.99295950e-01],\n",
       "       [8.86494279e-01, 1.13505699e-01],\n",
       "       [1.15553360e-03, 9.98844385e-01],\n",
       "       [3.30804229e-01, 6.69195771e-01],\n",
       "       [8.86494339e-01, 1.13505676e-01],\n",
       "       [9.93290186e-01, 6.70984481e-03],\n",
       "       [9.43037510e-01, 5.69624901e-02],\n",
       "       [8.86494279e-01, 1.13505699e-01],\n",
       "       [8.34614113e-02, 9.16538537e-01],\n",
       "       [8.86494279e-01, 1.13505699e-01],\n",
       "       [9.67550635e-01, 3.24493609e-02],\n",
       "       [9.85917509e-01, 1.40824560e-02],\n",
       "       [3.36152405e-01, 6.63847625e-01],\n",
       "       [6.34667218e-01, 3.65332782e-01],\n",
       "       [6.34667218e-01, 3.65332782e-01],\n",
       "       [9.37441289e-01, 6.25587106e-02],\n",
       "       [9.43037510e-01, 5.69624901e-02],\n",
       "       [3.71664051e-08, 1.00000000e+00],\n",
       "       [2.50662137e-02, 9.74933743e-01],\n",
       "       [3.62611301e-02, 9.63738918e-01],\n",
       "       [8.86494279e-01, 1.13505699e-01],\n",
       "       [7.68648386e-01, 2.31351614e-01],\n",
       "       [4.47192369e-03, 9.95528042e-01],\n",
       "       [8.86494279e-01, 1.13505699e-01],\n",
       "       [9.56720352e-01, 4.32796516e-02],\n",
       "       [1.48317439e-03, 9.98516858e-01],\n",
       "       [6.84017912e-02, 9.31598246e-01],\n",
       "       [3.15847427e-01, 6.84152544e-01],\n",
       "       [8.86494279e-01, 1.13505699e-01],\n",
       "       [8.86494279e-01, 1.13505699e-01],\n",
       "       [2.62557626e-01, 7.37442434e-01],\n",
       "       [8.86494279e-01, 1.13505699e-01],\n",
       "       [8.07297349e-01, 1.92702696e-01],\n",
       "       [7.91854262e-01, 2.08145767e-01],\n",
       "       [9.11350310e-01, 8.86496305e-02],\n",
       "       [9.68951225e-01, 3.10487952e-02],\n",
       "       [2.62557358e-01, 7.37442672e-01],\n",
       "       [3.15847456e-01, 6.84152484e-01],\n",
       "       [9.85917509e-01, 1.40824560e-02],\n",
       "       [9.96429026e-01, 3.57100973e-03],\n",
       "       [9.98713136e-01, 1.28686673e-03],\n",
       "       [8.86494339e-01, 1.13505654e-01],\n",
       "       [8.94426405e-01, 1.05573624e-01],\n",
       "       [9.13659632e-01, 8.63403231e-02],\n",
       "       [8.14021289e-01, 1.85978696e-01],\n",
       "       [8.20237696e-01, 1.79762319e-01],\n",
       "       [8.47366929e-01, 1.52633071e-01],\n",
       "       [6.34667337e-01, 3.65332693e-01],\n",
       "       [8.73426020e-01, 1.26574010e-01]], dtype=float32)"
      ]
     },
     "execution_count": 19,
     "metadata": {},
     "output_type": "execute_result"
    }
   ],
   "source": [
    "# 'Predict' on test data\n",
    "\n",
    "model.predict(test_data)"
   ]
  },
  {
   "cell_type": "code",
   "execution_count": 20,
   "metadata": {},
   "outputs": [
    {
     "data": {
      "text/plain": [
       "array([0, 0, 0, 1, 1, 0, 1, 1, 0, 1, 0, 0, 0, 1, 1, 1, 0, 0, 0, 1, 0, 1,\n",
       "       0, 0, 0, 1, 0, 0, 1, 0, 0, 0, 0, 0, 0, 0, 0, 0, 0, 0, 0, 0, 0, 0,\n",
       "       1, 0, 0, 1, 0, 0, 0, 0, 1, 0, 0, 0, 0, 0, 0, 0, 0, 0, 1, 0, 1, 0,\n",
       "       1, 0, 1, 1, 1, 0, 0, 0, 0, 1, 0, 0, 0, 0, 0, 1, 1, 0, 0, 1, 1, 0,\n",
       "       1, 0, 0, 0, 1, 1, 0, 0, 1, 0, 0, 0, 0, 0, 0, 0, 1, 0, 1, 0, 0, 0,\n",
       "       0, 1, 0, 0, 0, 1, 1, 1, 0, 1, 0, 0, 0, 0, 0, 0, 0, 0, 0, 0, 1, 0,\n",
       "       0, 0, 0, 0, 0, 0, 0, 0, 0, 1, 0, 1, 1, 0, 0, 1, 1, 0, 0, 0, 0, 0,\n",
       "       1, 0, 1, 0, 1, 1, 0, 0, 1, 0, 0, 0, 0, 0, 0, 0, 0, 1, 0, 0, 1, 0,\n",
       "       1, 0, 0, 1, 0, 0, 0, 0, 0, 0, 1, 0, 0, 1, 0, 0, 1, 1, 0, 0, 0, 1,\n",
       "       0, 0, 0, 1, 0, 1, 0, 0, 1, 0, 1, 0, 0, 0, 0, 1, 0, 0, 0, 1, 0, 1,\n",
       "       0, 1, 1, 0, 0, 0, 0, 1, 0, 0, 0, 1, 0, 0, 0, 0, 1, 1, 1, 0, 0, 1,\n",
       "       0, 0, 1, 1, 1, 0, 0, 1, 0, 0, 0, 0, 0, 1, 1, 0, 0, 0, 0, 0, 0, 0,\n",
       "       0, 0, 0, 0], dtype=int64)"
      ]
     },
     "execution_count": 20,
     "metadata": {},
     "output_type": "execute_result"
    }
   ],
   "source": [
    "np.argmax(model.predict(test_data), axis=1)"
   ]
  },
  {
   "cell_type": "code",
   "execution_count": 21,
   "metadata": {},
   "outputs": [],
   "source": [
    "sample_data = np.array([[3, 0, 0.0, 0.0, 1, 1, 2.0, 0]])"
   ]
  },
  {
   "cell_type": "code",
   "execution_count": 22,
   "metadata": {},
   "outputs": [
    {
     "data": {
      "text/plain": [
       "array([[0.9660248 , 0.03397512]], dtype=float32)"
      ]
     },
     "execution_count": 22,
     "metadata": {},
     "output_type": "execute_result"
    }
   ],
   "source": [
    "model.predict(sample_data)"
   ]
  },
  {
   "cell_type": "code",
   "execution_count": 23,
   "metadata": {},
   "outputs": [
    {
     "data": {
      "text/plain": [
       "array([0], dtype=int64)"
      ]
     },
     "execution_count": 23,
     "metadata": {},
     "output_type": "execute_result"
    }
   ],
   "source": [
    "np.argmax(model.predict(sample_data), axis=1)"
   ]
  }
 ],
 "metadata": {
  "kernel_info": {
   "name": "python3"
  },
  "kernelspec": {
   "display_name": "Python 3",
   "language": "python",
   "name": "python3"
  },
  "language_info": {
   "codemirror_mode": {
    "name": "ipython",
    "version": 3
   },
   "file_extension": ".py",
   "mimetype": "text/x-python",
   "name": "python",
   "nbconvert_exporter": "python",
   "pygments_lexer": "ipython3",
   "version": "3.8.8"
  },
  "nteract": {
   "version": "0.15.0"
  }
 },
 "nbformat": 4,
 "nbformat_minor": 2
}
