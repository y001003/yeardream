{
  "nbformat": 4,
  "nbformat_minor": 0,
  "metadata": {
    "colab": {
      "provenance": [],
      "collapsed_sections": [],
      "include_colab_link": true
    },
    "kernelspec": {
      "name": "python3",
      "display_name": "Python 3"
    },
    "language_info": {
      "name": "python"
    },
    "accelerator": "GPU",
    "gpuClass": "standard"
  },
  "cells": [
    {
      "cell_type": "markdown",
      "metadata": {
        "id": "view-in-github",
        "colab_type": "text"
      },
      "source": [
        "<a href=\"https://colab.research.google.com/github/y001003/yeardream/blob/main/DL/torch/%EC%98%81%EC%88%98%EB%8B%98%EC%9D%98_%ED%98%B8%ED%9D%A1_01_Regression.ipynb\" target=\"_parent\"><img src=\"https://colab.research.google.com/assets/colab-badge.svg\" alt=\"Open In Colab\"/></a>"
      ]
    },
    {
      "cell_type": "markdown",
      "source": [
        "## Regression - fetch_california_housing"
      ],
      "metadata": {
        "id": "xsDNYdOdLipD"
      }
    },
    {
      "cell_type": "code",
      "execution_count": null,
      "metadata": {
        "id": "khW_iNlOLhMV"
      },
      "outputs": [],
      "source": [
        "## import \n",
        "import numpy as np\n",
        "import pandas as pd\n",
        "\n",
        "import matplotlib.pyplot as plt\n",
        "# import seaborn as sns\n",
        "\n",
        "from sklearn.datasets import fetch_california_housing\n",
        "\n",
        "import torch\n",
        "import torch.nn as nn ## Class Model(nn.Module):\n",
        "from torch.utils.data import Dataset, DataLoader\n",
        "\n",
        "# Dataset, DataLoader\n",
        "# df --> Dataset : X, y --> DataLoader: Batch Size "
      ]
    },
    {
      "cell_type": "code",
      "source": [
        "ch = fetch_california_housing()\n",
        "\n",
        "df = pd.DataFrame(ch.data, columns = ch.feature_names)\n",
        "df['target'] = ch.target\n",
        "print(df.shape)\n",
        "df.head()"
      ],
      "metadata": {
        "colab": {
          "base_uri": "https://localhost:8080/",
          "height": 224
        },
        "id": "y4Z_0e1dMfz1",
        "outputId": "dea6e925-312b-49c7-e19c-edef16d9431f"
      },
      "execution_count": null,
      "outputs": [
        {
          "output_type": "stream",
          "name": "stdout",
          "text": [
            "(20640, 9)\n"
          ]
        },
        {
          "output_type": "execute_result",
          "data": {
            "text/plain": [
              "   MedInc  HouseAge  AveRooms  AveBedrms  Population  AveOccup  Latitude  \\\n",
              "0  8.3252      41.0  6.984127   1.023810       322.0  2.555556     37.88   \n",
              "1  8.3014      21.0  6.238137   0.971880      2401.0  2.109842     37.86   \n",
              "2  7.2574      52.0  8.288136   1.073446       496.0  2.802260     37.85   \n",
              "3  5.6431      52.0  5.817352   1.073059       558.0  2.547945     37.85   \n",
              "4  3.8462      52.0  6.281853   1.081081       565.0  2.181467     37.85   \n",
              "\n",
              "   Longitude  target  \n",
              "0    -122.23   4.526  \n",
              "1    -122.22   3.585  \n",
              "2    -122.24   3.521  \n",
              "3    -122.25   3.413  \n",
              "4    -122.25   3.422  "
            ],
            "text/html": [
              "\n",
              "  <div id=\"df-6beeb288-99cc-42d1-9704-06115fae7f3f\">\n",
              "    <div class=\"colab-df-container\">\n",
              "      <div>\n",
              "<style scoped>\n",
              "    .dataframe tbody tr th:only-of-type {\n",
              "        vertical-align: middle;\n",
              "    }\n",
              "\n",
              "    .dataframe tbody tr th {\n",
              "        vertical-align: top;\n",
              "    }\n",
              "\n",
              "    .dataframe thead th {\n",
              "        text-align: right;\n",
              "    }\n",
              "</style>\n",
              "<table border=\"1\" class=\"dataframe\">\n",
              "  <thead>\n",
              "    <tr style=\"text-align: right;\">\n",
              "      <th></th>\n",
              "      <th>MedInc</th>\n",
              "      <th>HouseAge</th>\n",
              "      <th>AveRooms</th>\n",
              "      <th>AveBedrms</th>\n",
              "      <th>Population</th>\n",
              "      <th>AveOccup</th>\n",
              "      <th>Latitude</th>\n",
              "      <th>Longitude</th>\n",
              "      <th>target</th>\n",
              "    </tr>\n",
              "  </thead>\n",
              "  <tbody>\n",
              "    <tr>\n",
              "      <th>0</th>\n",
              "      <td>8.3252</td>\n",
              "      <td>41.0</td>\n",
              "      <td>6.984127</td>\n",
              "      <td>1.023810</td>\n",
              "      <td>322.0</td>\n",
              "      <td>2.555556</td>\n",
              "      <td>37.88</td>\n",
              "      <td>-122.23</td>\n",
              "      <td>4.526</td>\n",
              "    </tr>\n",
              "    <tr>\n",
              "      <th>1</th>\n",
              "      <td>8.3014</td>\n",
              "      <td>21.0</td>\n",
              "      <td>6.238137</td>\n",
              "      <td>0.971880</td>\n",
              "      <td>2401.0</td>\n",
              "      <td>2.109842</td>\n",
              "      <td>37.86</td>\n",
              "      <td>-122.22</td>\n",
              "      <td>3.585</td>\n",
              "    </tr>\n",
              "    <tr>\n",
              "      <th>2</th>\n",
              "      <td>7.2574</td>\n",
              "      <td>52.0</td>\n",
              "      <td>8.288136</td>\n",
              "      <td>1.073446</td>\n",
              "      <td>496.0</td>\n",
              "      <td>2.802260</td>\n",
              "      <td>37.85</td>\n",
              "      <td>-122.24</td>\n",
              "      <td>3.521</td>\n",
              "    </tr>\n",
              "    <tr>\n",
              "      <th>3</th>\n",
              "      <td>5.6431</td>\n",
              "      <td>52.0</td>\n",
              "      <td>5.817352</td>\n",
              "      <td>1.073059</td>\n",
              "      <td>558.0</td>\n",
              "      <td>2.547945</td>\n",
              "      <td>37.85</td>\n",
              "      <td>-122.25</td>\n",
              "      <td>3.413</td>\n",
              "    </tr>\n",
              "    <tr>\n",
              "      <th>4</th>\n",
              "      <td>3.8462</td>\n",
              "      <td>52.0</td>\n",
              "      <td>6.281853</td>\n",
              "      <td>1.081081</td>\n",
              "      <td>565.0</td>\n",
              "      <td>2.181467</td>\n",
              "      <td>37.85</td>\n",
              "      <td>-122.25</td>\n",
              "      <td>3.422</td>\n",
              "    </tr>\n",
              "  </tbody>\n",
              "</table>\n",
              "</div>\n",
              "      <button class=\"colab-df-convert\" onclick=\"convertToInteractive('df-6beeb288-99cc-42d1-9704-06115fae7f3f')\"\n",
              "              title=\"Convert this dataframe to an interactive table.\"\n",
              "              style=\"display:none;\">\n",
              "        \n",
              "  <svg xmlns=\"http://www.w3.org/2000/svg\" height=\"24px\"viewBox=\"0 0 24 24\"\n",
              "       width=\"24px\">\n",
              "    <path d=\"M0 0h24v24H0V0z\" fill=\"none\"/>\n",
              "    <path d=\"M18.56 5.44l.94 2.06.94-2.06 2.06-.94-2.06-.94-.94-2.06-.94 2.06-2.06.94zm-11 1L8.5 8.5l.94-2.06 2.06-.94-2.06-.94L8.5 2.5l-.94 2.06-2.06.94zm10 10l.94 2.06.94-2.06 2.06-.94-2.06-.94-.94-2.06-.94 2.06-2.06.94z\"/><path d=\"M17.41 7.96l-1.37-1.37c-.4-.4-.92-.59-1.43-.59-.52 0-1.04.2-1.43.59L10.3 9.45l-7.72 7.72c-.78.78-.78 2.05 0 2.83L4 21.41c.39.39.9.59 1.41.59.51 0 1.02-.2 1.41-.59l7.78-7.78 2.81-2.81c.8-.78.8-2.07 0-2.86zM5.41 20L4 18.59l7.72-7.72 1.47 1.35L5.41 20z\"/>\n",
              "  </svg>\n",
              "      </button>\n",
              "      \n",
              "  <style>\n",
              "    .colab-df-container {\n",
              "      display:flex;\n",
              "      flex-wrap:wrap;\n",
              "      gap: 12px;\n",
              "    }\n",
              "\n",
              "    .colab-df-convert {\n",
              "      background-color: #E8F0FE;\n",
              "      border: none;\n",
              "      border-radius: 50%;\n",
              "      cursor: pointer;\n",
              "      display: none;\n",
              "      fill: #1967D2;\n",
              "      height: 32px;\n",
              "      padding: 0 0 0 0;\n",
              "      width: 32px;\n",
              "    }\n",
              "\n",
              "    .colab-df-convert:hover {\n",
              "      background-color: #E2EBFA;\n",
              "      box-shadow: 0px 1px 2px rgba(60, 64, 67, 0.3), 0px 1px 3px 1px rgba(60, 64, 67, 0.15);\n",
              "      fill: #174EA6;\n",
              "    }\n",
              "\n",
              "    [theme=dark] .colab-df-convert {\n",
              "      background-color: #3B4455;\n",
              "      fill: #D2E3FC;\n",
              "    }\n",
              "\n",
              "    [theme=dark] .colab-df-convert:hover {\n",
              "      background-color: #434B5C;\n",
              "      box-shadow: 0px 1px 3px 1px rgba(0, 0, 0, 0.15);\n",
              "      filter: drop-shadow(0px 1px 2px rgba(0, 0, 0, 0.3));\n",
              "      fill: #FFFFFF;\n",
              "    }\n",
              "  </style>\n",
              "\n",
              "      <script>\n",
              "        const buttonEl =\n",
              "          document.querySelector('#df-6beeb288-99cc-42d1-9704-06115fae7f3f button.colab-df-convert');\n",
              "        buttonEl.style.display =\n",
              "          google.colab.kernel.accessAllowed ? 'block' : 'none';\n",
              "\n",
              "        async function convertToInteractive(key) {\n",
              "          const element = document.querySelector('#df-6beeb288-99cc-42d1-9704-06115fae7f3f');\n",
              "          const dataTable =\n",
              "            await google.colab.kernel.invokeFunction('convertToInteractive',\n",
              "                                                     [key], {});\n",
              "          if (!dataTable) return;\n",
              "\n",
              "          const docLinkHtml = 'Like what you see? Visit the ' +\n",
              "            '<a target=\"_blank\" href=https://colab.research.google.com/notebooks/data_table.ipynb>data table notebook</a>'\n",
              "            + ' to learn more about interactive tables.';\n",
              "          element.innerHTML = '';\n",
              "          dataTable['output_type'] = 'display_data';\n",
              "          await google.colab.output.renderOutput(dataTable, element);\n",
              "          const docLink = document.createElement('div');\n",
              "          docLink.innerHTML = docLinkHtml;\n",
              "          element.appendChild(docLink);\n",
              "        }\n",
              "      </script>\n",
              "    </div>\n",
              "  </div>\n",
              "  "
            ]
          },
          "metadata": {},
          "execution_count": 2
        }
      ]
    },
    {
      "cell_type": "code",
      "source": [],
      "metadata": {
        "id": "_LfJQvGcO3k7"
      },
      "execution_count": null,
      "outputs": []
    },
    {
      "cell_type": "code",
      "source": [
        "class MyDataset(Dataset):\n",
        "    def __init__(self, df = df):\n",
        "        self.df = df # df -> Pandas DataFrame\n",
        "        self.x = self.df.iloc[:, :-1].values # df.values -> numpy (np.array)\n",
        "        self.y = self.df.iloc[:, -1:].values \n",
        "\n",
        "    ## Dataset 상속 -> Override 01: 전체 길이를 반환\n",
        "    def __len__(self):\n",
        "        return len(self.df) \n",
        "\n",
        "    ## Dataset 상속 -> Override 02: index\n",
        "    def __getitem__(self, index):\n",
        "        ## Reason: DataLoader - (20640 -->) 500, 500, 500, ..., 140 (index)\n",
        "        # 1 ~ 20640 -> 500 Random --> a=[5, 2000, 3000, 9393, ...]: index -> Row \n",
        "        # Batch = df[a]\n",
        "\n",
        "        x = self.x[index]\n",
        "        y = self.y[index]\n",
        "        # [1, 5, 200, 3, 4992, 33, 32]\n",
        "\n",
        "        # numpy\n",
        "        # return x, y\n",
        "\n",
        "        # torch tensor로 리턴\n",
        "        return torch.tensor(x, dtype = torch.float), torch.tensor(y, dtype = torch.float)"
      ],
      "metadata": {
        "id": "9hswAke6Mfww"
      },
      "execution_count": null,
      "outputs": []
    },
    {
      "cell_type": "code",
      "source": [
        "import os\n",
        "num = os.cpu_count()"
      ],
      "metadata": {
        "id": "YKFkJZSbRlHG"
      },
      "execution_count": null,
      "outputs": []
    },
    {
      "cell_type": "code",
      "source": [
        "def prepare_loaders(df = df, \n",
        "                    index = 16640,\n",
        "                    batch_size = 128):\n",
        "    \n",
        "    ## df -> Train, Valid\n",
        "    train = df.iloc[:index, :].reset_index(drop = True)\n",
        "    valid = df.iloc[index:, :].reset_index(drop = True) # reset_index --> DataLoader 에러\n",
        "\n",
        "    ## Train, Valid --(MyDataset(Dataset))--> train_ds, valid_ds\n",
        "    ## Column split\n",
        "    train_ds = MyDataset(df =train)\n",
        "    valid_ds = MyDataset(df =valid)\n",
        "\n",
        "    ## train_ds, valid_ds --(DataLoader)--> train_loader, valid_loader\n",
        "    ## Column split + Row SPlit -> (bs,8), (bs,1)\n",
        "    train_loader = DataLoader(train_ds, \n",
        "                              batch_size = batch_size, # Batch_Size\n",
        "                              num_workers = num, # n_jobs = -1\n",
        "                              shuffle = True, # 섞기\n",
        "                              drop_last = True, # 20,640 --> 1000개의 배치 ---> 640 나머지 버릴래 말래?\n",
        "                              pin_memory = True) # 썰 -> 병목현상 역효과\n",
        "    \n",
        "    valid_loader = DataLoader(valid_ds, \n",
        "                              batch_size = batch_size, # Batch_Size\n",
        "                              num_workers = num, # n_jobs = -1\n",
        "                              shuffle = False, # 섞기\n",
        "                              drop_last = False, # 20,640 --> 1000개의 배치 ---> 640 나머지 버릴래 말래?\n",
        "                            #   pin_memory = True\n",
        "                              ) # 썰 -> 병목현상 역효과\n",
        "    print(\"DataLoader 만듦\")\n",
        "    return train_loader, valid_loader\n",
        "\n",
        "train_loader, valid_loader = prepare_loaders(df = df, \n",
        "                                            index = 16640,\n",
        "                                            batch_size = 128)"
      ],
      "metadata": {
        "colab": {
          "base_uri": "https://localhost:8080/"
        },
        "id": "vsIjPQDvMftn",
        "outputId": "9d82d6c6-3bc2-4ca6-e8c8-70f155816b29"
      },
      "execution_count": null,
      "outputs": [
        {
          "output_type": "stream",
          "name": "stdout",
          "text": [
            "DataLoader 만듦\n"
          ]
        }
      ]
    },
    {
      "cell_type": "code",
      "source": [
        "class Model(nn.Module):\n",
        "    def __init__(self, input_dim = 8, output_dim = 1):\n",
        "        super().__init__()\n",
        "        self.input_dim = input_dim\n",
        "        self.output_dim = output_dim\n",
        "        \n",
        "        self.fc1 = nn.Linear(input_dim, 16) # Shape: |(bs,  8)| -> |(bs, 16)|\n",
        "        self.relu = nn.ReLU()               # Shape: |(bs, 16)| -> |(bs, 16)|\n",
        "        self.fc2 = nn.Linear(16, 4)         # Shape: |(bs, 16)| -> |(bs, 4)|\n",
        "        self.relu2 = nn.ReLU()              # Shape: |(bs, 4)| -> |(bs, 4)|\n",
        "        self.fc3 = nn.Linear(4, output_dim) # Shape: |(bs, 4)| -> |(bs, 1)|\n",
        "\n",
        "    ## nn.Module 상속시 반드시 하는 거\n",
        "    def forward(self, x):\n",
        "        # X: input_data -> |(bs, 8)| \n",
        "        output = self.fc3(self.relu2(self.fc2(self.relu(self.fc1(x)))))\n",
        "        return output"
      ],
      "metadata": {
        "id": "gugJm5H7Mfqe"
      },
      "execution_count": null,
      "outputs": []
    },
    {
      "cell_type": "code",
      "source": [
        "# 외우세여\n",
        "device = torch.device('cuda:0') if torch.cuda.is_available() else torch.device(\"cpu\")\n",
        "\n",
        "## Colab -> GPU\n",
        "model = Model(input_dim = 8, output_dim = 1).to(device)\n",
        "model"
      ],
      "metadata": {
        "colab": {
          "base_uri": "https://localhost:8080/"
        },
        "id": "wc5NzStAMfnp",
        "outputId": "6ec5a71b-5c65-4628-f580-9c669fdc3706"
      },
      "execution_count": null,
      "outputs": [
        {
          "output_type": "execute_result",
          "data": {
            "text/plain": [
              "Model(\n",
              "  (fc1): Linear(in_features=8, out_features=16, bias=True)\n",
              "  (relu): ReLU()\n",
              "  (fc2): Linear(in_features=16, out_features=4, bias=True)\n",
              "  (relu2): ReLU()\n",
              "  (fc3): Linear(in_features=4, out_features=1, bias=True)\n",
              ")"
            ]
          },
          "metadata": {},
          "execution_count": 7
        }
      ]
    },
    {
      "cell_type": "code",
      "source": [
        "a = torch.randn(2, 3)\n",
        "a"
      ],
      "metadata": {
        "colab": {
          "base_uri": "https://localhost:8080/"
        },
        "id": "48yyFlRfMflQ",
        "outputId": "4eab30ca-fdf6-4b77-ae98-2bd334e38996"
      },
      "execution_count": null,
      "outputs": [
        {
          "output_type": "execute_result",
          "data": {
            "text/plain": [
              "tensor([[-0.6926,  1.3996,  0.4593],\n",
              "        [-0.1313,  0.3579,  1.4502]])"
            ]
          },
          "metadata": {},
          "execution_count": 8
        }
      ]
    },
    {
      "cell_type": "code",
      "source": [
        "b = a.to(device)\n",
        "b"
      ],
      "metadata": {
        "colab": {
          "base_uri": "https://localhost:8080/"
        },
        "id": "1Fpt-LrjMfi6",
        "outputId": "9aab35c8-0f10-4e7f-b5cf-4af32dd46b2a"
      },
      "execution_count": null,
      "outputs": [
        {
          "output_type": "execute_result",
          "data": {
            "text/plain": [
              "tensor([[-0.6926,  1.3996,  0.4593],\n",
              "        [-0.1313,  0.3579,  1.4502]], device='cuda:0')"
            ]
          },
          "metadata": {},
          "execution_count": 9
        }
      ]
    },
    {
      "cell_type": "code",
      "source": [
        "## Loss Function, Optimizer\n",
        "loss_fn = nn.MSELoss().to(device)\n",
        "optimizer = torch.optim.Adam(model.parameters(),\n",
        "                            #  lr = 1e-2 # Adam lr을 알아서 찾아가기 때문에 안 해줘도 상관은 없습니다.\n",
        "                             )\n",
        "## NLP AdamW -> lr = 1e-5, 5e-5"
      ],
      "metadata": {
        "id": "0ld4MViUMfgk"
      },
      "execution_count": null,
      "outputs": []
    },
    {
      "cell_type": "code",
      "source": [
        "# ## 개념도\n",
        "\n",
        "# # 3. run_train\n",
        "# for epoch in range(n_epochs):\n",
        "#     # 1 epoch: 전체 데이터를 한 번 훑었을 때\n",
        "#     # iteration: 전체 데이터 / Batch Size (예시: 2000 / 100 == 10) --> Model Update 횟수\n",
        "\n",
        "#     # 1. train_one_epoch\n",
        "#     train_loader -> train_loss -> Model 학습 O -> N번 만큼 모델이 업데이트\n",
        "\n",
        "#     # 2. valid_one_epoch\n",
        "#     valid_loader -> valid_loss -> Model 학습 X -> Only 성능 검증\n",
        "\n",
        "#     # print_iter --> 주기적인 모니터링 \n",
        "\n",
        "#     # Lowest Loss 갱신\n",
        "\n",
        "#     # early_stop\n",
        "\n"
      ],
      "metadata": {
        "id": "kUnrpUvxMfdu"
      },
      "execution_count": null,
      "outputs": []
    },
    {
      "cell_type": "code",
      "source": [
        "# 1. train_one_epoch\n",
        "def train_one_epoch(model = model,\n",
        "                    dataloader = train_loader,\n",
        "                    loss_fn = loss_fn,\n",
        "                    optimizer = optimizer,\n",
        "                    scheduler = None):\n",
        "    \n",
        "    ## Model 학습\n",
        "    model.train()\n",
        "\n",
        "    ## Train Loss \n",
        "    train_loss = 0\n",
        "    max_norm = 5\n",
        "\n",
        "    ## Train Loader\n",
        "    for data in dataloader:\n",
        "        ## data[0], data[1] \n",
        "        x_i = data[0].to(device) # |(bs, 8)| \n",
        "        y_true = data[1].to(device)\n",
        "        y_pred = model(x_i)      #|(bs, 8)| ->|(bs, 1)|\n",
        "\n",
        "        loss = loss_fn(y_pred, y_true)\n",
        "\n",
        "        optimizer.zero_grad()\n",
        "        loss.backward()\n",
        "        \n",
        "        torch.nn.utils.clip_grad_norm_(model.parameters(), max_norm)\n",
        "        \n",
        "        optimizer.step()\n",
        "        if scheduler is not None:\n",
        "            scheduler.step()\n",
        "\n",
        "        train_loss += float(loss) # loss.item()\n",
        "    train_loss /= len(dataloader)\n",
        "\n",
        "    ## Accuracy\n",
        "\n",
        "\n",
        "    return train_loss"
      ],
      "metadata": {
        "id": "h4fou_wBMfbF"
      },
      "execution_count": null,
      "outputs": []
    },
    {
      "cell_type": "code",
      "source": [
        "## data[0], data[1] \n",
        "## df-> Dataset -> DataLoader -> train_loader\n",
        "data = next(iter(train_loader))\n",
        "print(data[0].shape, data[1].shape )"
      ],
      "metadata": {
        "colab": {
          "base_uri": "https://localhost:8080/"
        },
        "id": "-f8B4wO1MfYN",
        "outputId": "6f30453f-67b7-468e-e36c-ea2212870018"
      },
      "execution_count": null,
      "outputs": [
        {
          "output_type": "stream",
          "name": "stdout",
          "text": [
            "torch.Size([128, 8]) torch.Size([128, 1])\n"
          ]
        }
      ]
    },
    {
      "cell_type": "code",
      "source": [
        "data, label = next(iter(valid_loader))\n",
        "print(data.shape, label.shape )"
      ],
      "metadata": {
        "colab": {
          "base_uri": "https://localhost:8080/"
        },
        "id": "-EASdtCReipW",
        "outputId": "33da1dcd-48ee-44b1-e7dd-9ce17707546c"
      },
      "execution_count": null,
      "outputs": [
        {
          "output_type": "stream",
          "name": "stdout",
          "text": [
            "torch.Size([128, 8]) torch.Size([128, 1])\n"
          ]
        }
      ]
    },
    {
      "cell_type": "code",
      "source": [
        "# 2. valid_one_epoch\n",
        "\n",
        "# Model 학습 X (3)\n",
        "@torch.no_grad()\n",
        "def valid_one_epoch(model = model,\n",
        "                    dataloader = valid_loader,\n",
        "                    loss_fn = loss_fn):\n",
        "    \n",
        "    ## Model 학습 X (1)\n",
        "    model.eval()\n",
        "\n",
        "    ## valid Loss \n",
        "    valid_loss = 0\n",
        "\n",
        "    ## valid Loader\n",
        "\n",
        "    ## Model 학습 X (2)\n",
        "    with torch.no_grad():\n",
        "        for data in dataloader:\n",
        "            ## data[0], data[1] \n",
        "            x_i = data[0].to(device) #|(bs, 8)| \n",
        "            y_true = data[1].to(device)\n",
        "            y_pred = model(x_i) #|(bs, 8)| ->|(bs, 1)|\n",
        "\n",
        "            loss = loss_fn(y_pred, y_true)\n",
        "\n",
        "            valid_loss += float(loss) # loss.item()\n",
        "    valid_loss /= len(dataloader)\n",
        "\n",
        "    return valid_loss"
      ],
      "metadata": {
        "id": "e4Ge2eR-YgOo"
      },
      "execution_count": null,
      "outputs": []
    },
    {
      "cell_type": "code",
      "source": [
        "import copy"
      ],
      "metadata": {
        "id": "1LCBsRJsc0w6"
      },
      "execution_count": null,
      "outputs": []
    },
    {
      "cell_type": "code",
      "source": [
        "# 3. run_train\n",
        "def run_train(model = model, \n",
        "              train_loader = train_loader,\n",
        "              valid_loader = valid_loader,\n",
        "              loss_fn = loss_fn,\n",
        "              optimizer = optimizer,\n",
        "              scheduler = None,\n",
        "              n_epochs = 200,\n",
        "              print_iter= 20,\n",
        "              early_stop = 30,\n",
        "              best_model = None):\n",
        "    \n",
        "    ## Train Loss, Valid Loss -> 줍줍 -> 트랙킹\n",
        "    train_history, valid_history = [], []\n",
        "\n",
        "    ## Lowest Loss, Lowest Loss\n",
        "    lowest_loss = np.inf\n",
        "    lowest_epoch = np.inf\n",
        "\n",
        "\n",
        "    for epoch in range(n_epochs):\n",
        "        # 1번 함수\n",
        "        train_loss = train_one_epoch(model = model,\n",
        "                                     dataloader = train_loader,\n",
        "                                     loss_fn = loss_fn,\n",
        "                                     optimizer = optimizer,\n",
        "                                     scheduler = None)\n",
        "        # 2번 함수\n",
        "        valid_loss = valid_one_epoch(model = model,\n",
        "                                     dataloader = valid_loader,\n",
        "                                     loss_fn = loss_fn,)\n",
        "        \n",
        "        ## loss 줍줍\n",
        "        train_history += [train_loss]\n",
        "        valid_history.append(valid_loss)\n",
        "\n",
        "        ## Print iter Monitoring\n",
        "        if (epoch + 1) % print_iter == 0:\n",
        "            print(\"Epoch[%d]| TL=%.3e | VL=%.3e | LL=%.3e\" % (epoch +1, train_loss, valid_loss, lowest_loss))\n",
        "\n",
        "        ## Lowest Loss 갱신 (+ Model 저장)\n",
        "        ## Epoch = 100 -> Lowest Loss\n",
        "        if valid_loss < lowest_loss:\n",
        "            lowest_loss = valid_loss\n",
        "            lowest_epoch = epoch\n",
        "            # model 저장\n",
        "            best_model = copy.deepcopy(model.state_dict())\n",
        "            torch.save(model.state_dict(), './model.bin')\n",
        "        else:\n",
        "            ## Epoch 120 -> 갱신 X -> Epoch 121, 122, ....\n",
        "            ## Epoch 130 -> 갱신 X -> break (early_stop = 30, lowest epoch = 100)\n",
        "            if early_stop > 0 and early_stop + lowest_epoch < epoch + 1:\n",
        "                print(\"넌 삽질 중\")\n",
        "                break\n",
        "\n",
        "    print(\"The Best Validation Loss=%.3e at %d Epoch\" % (lowest_loss, lowest_epoch))\n",
        "\n",
        "    # model load\n",
        "    model.load_state_dict(best_model)\n",
        "\n",
        "    return model, train_history, valid_history"
      ],
      "metadata": {
        "id": "ZCHazFLMbZtn"
      },
      "execution_count": null,
      "outputs": []
    },
    {
      "cell_type": "code",
      "source": [
        "model, train_history, valid_history = run_train(model = model, \n",
        "                                                train_loader = train_loader,\n",
        "                                                valid_loader = valid_loader,\n",
        "                                                loss_fn = loss_fn,\n",
        "                                                optimizer = optimizer,\n",
        "                                                scheduler = None,\n",
        "                                                n_epochs = 200,\n",
        "                                                print_iter= 20,\n",
        "                                                early_stop = 30,\n",
        "                                                best_model = None)"
      ],
      "metadata": {
        "colab": {
          "base_uri": "https://localhost:8080/"
        },
        "id": "kno4jl-IeWGQ",
        "outputId": "6104df9a-f825-4a0f-9de5-85851d436d88"
      },
      "execution_count": null,
      "outputs": [
        {
          "output_type": "stream",
          "name": "stdout",
          "text": [
            "Epoch[20]| TL=5.982e-01 | VL=7.847e-01 | LL=6.427e-01\n",
            "넌 삽질 중\n",
            "The Best Validation Loss=6.427e-01 at 7 Epoch\n"
          ]
        }
      ]
    },
    {
      "cell_type": "code",
      "source": [
        "# train_loss, validation loss 추이 시각화\n",
        "plot_from = 0\n",
        "plt.figure(figsize = (20, 10))\n",
        "plt.title(\"Train/Valid Loss History\", fontsize = 20)\n",
        "\n",
        "plt.plot(range(0, len(train_history[plot_from:])), train_history[plot_from:], label =\"Train Loss\")\n",
        "plt.plot(range(0, len(valid_history[plot_from:])), valid_history[plot_from:], label =\"Valid Loss\")\n",
        "\n",
        "plt.legend()\n",
        "plt.yscale('log')\n",
        "plt.grid(True)\n",
        "plt.show()"
      ],
      "metadata": {
        "colab": {
          "base_uri": "https://localhost:8080/",
          "height": 612
        },
        "id": "ziN2J3WgeatE",
        "outputId": "3dbce85c-4692-4416-9298-5d9dcdec45c9"
      },
      "execution_count": null,
      "outputs": [
        {
          "output_type": "display_data",
          "data": {
            "text/plain": [
              "<Figure size 1440x720 with 1 Axes>"
            ],
            "image/png": "[encoded data removed]"
          },
          "metadata": {
            "needs_background": "light"
          }
        }
      ]
    },
    {
      "cell_type": "code",
      "source": [],
      "metadata": {
        "id": "2_jc-mXcfrFh"
      },
      "execution_count": null,
      "outputs": []
    }
  ]
}