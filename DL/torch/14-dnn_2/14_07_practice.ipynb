{
  "cells": [
    {
      "cell_type": "markdown",
      "metadata": {
        "id": "view-in-github",
        "colab_type": "text"
      },
      "source": [
        "<a href=\"https://colab.research.google.com/github/y001003/yeardream/blob/main/DL/torch/14-dnn_2/14_07_practice.ipynb\" target=\"_parent\"><img src=\"https://colab.research.google.com/assets/colab-badge.svg\" alt=\"Open In Colab\"/></a>"
      ]
    },
    {
      "cell_type": "markdown",
      "metadata": {
        "id": "Qp0uK4Ldydtp"
      },
      "source": [
        "# Classification with Deep Neural Networks"
      ]
    },
    {
      "cell_type": "markdown",
      "metadata": {
        "id": "ekQK6gltydts"
      },
      "source": [
        "## 1 Load MNIST Dataset"
      ]
    },
    {
      "cell_type": "code",
      "execution_count": 5,
      "metadata": {
        "id": "eFJUKYKaydtt"
      },
      "outputs": [],
      "source": [
        "import numpy as np\n",
        "import matplotlib.pyplot as plt\n",
        "\n",
        "import torch\n",
        "import torch.nn as nn\n",
        "import torch.nn.functional as F\n",
        "import torch.optim as optim"
      ]
    },
    {
      "cell_type": "code",
      "execution_count": 6,
      "metadata": {
        "id": "N27klz1Sydtu"
      },
      "outputs": [],
      "source": [
        "from torchvision import datasets, transforms"
      ]
    },
    {
      "cell_type": "code",
      "execution_count": 7,
      "metadata": {
        "id": "dzTaA-6xydtu"
      },
      "outputs": [],
      "source": [
        "# torchvision에서 MNIST 데이터셋을 불러온다\n",
        "train = datasets.MNIST(\n",
        "    '../data', train=True, download=True,\n",
        "    transform=transforms.Compose([\n",
        "        transforms.ToTensor(),\n",
        "    ]),\n",
        ")\n",
        "test = datasets.MNIST(\n",
        "    '../data', train=False,\n",
        "    transform=transforms.Compose([\n",
        "        transforms.ToTensor(),\n",
        "    ]),\n",
        ")"
      ]
    },
    {
      "cell_type": "code",
      "execution_count": 8,
      "metadata": {
        "id": "2ylYynOCydtw"
      },
      "outputs": [],
      "source": [
        "def plot(x):\n",
        "    img = (np.array(x.detach().cpu(), dtype='float')).reshape(28,28)\n",
        "\n",
        "    plt.imshow(img, cmap='gray')\n",
        "    plt.show()"
      ]
    },
    {
      "cell_type": "code",
      "execution_count": 9,
      "metadata": {
        "id": "IUD-YLacydtw",
        "outputId": "6a6ac981-5075-4935-83f0-2a1237e2af62",
        "colab": {
          "base_uri": "https://localhost:8080/",
          "height": 265
        }
      },
      "outputs": [
        {
          "output_type": "display_data",
          "data": {
            "text/plain": [
              "<Figure size 432x288 with 1 Axes>"
            ],
            "image/png": "[encoded data removed]"
          },
          "metadata": {
            "needs_background": "light"
          }
        }
      ],
      "source": [
        "plot(train.data[0])"
      ]
    },
    {
      "cell_type": "markdown",
      "metadata": {
        "id": "RQYk0DUfydtx"
      },
      "source": [
        "MINST 데이터셋\n",
        "\n",
        "세로 28, 가로 28 픽셀 train 60,000개 test 10,000개의 이미지 데이터  \n",
        "검정 = 0, 흰색 = 255 인 grayscale 데이터이다.  \n",
        "label :5 라고 주어질 것\n",
        "\n",
        "28x28 을 행마다 짤라서 하나의 백터로 이어붙여 합친다. -> 1 x 784차원의 벡터\n"
      ]
    },
    {
      "cell_type": "code",
      "execution_count": 19,
      "metadata": {
        "id": "okZbyM3nydty",
        "outputId": "22f82bec-ff05-40bd-c556-36b51f34a3c8",
        "colab": {
          "base_uri": "https://localhost:8080/"
        }
      },
      "outputs": [
        {
          "output_type": "stream",
          "name": "stdout",
          "text": [
            "torch.Size([60000, 784]) torch.Size([60000])\n",
            "input_size: 784, output_size: 10\n"
          ]
        }
      ],
      "source": [
        "x = train.data.float() / 255. # \btrain 데이터를 255로 나누어 준다 -> min_max scaling\n",
        "y = train.targets # target 데이터를 y에 지정\n",
        "\n",
        "#              60000, 784\n",
        "x = x.view(x.size(0), -1) # x 데이터 차원수 784차원 변경\n",
        "print(x.shape, y.shape) \n",
        "\n",
        "input_size = x.size(-1)\n",
        "output_size = int(max(y)) + 1 # 10개\n",
        "\n",
        "print('input_size: %d, output_size: %d' % (input_size, output_size))"
      ]
    },
    {
      "cell_type": "markdown",
      "source": [
        "## 1.2 Train_validation split"
      ],
      "metadata": {
        "id": "qB6KsO3yES28"
      }
    },
    {
      "cell_type": "code",
      "execution_count": 20,
      "metadata": {
        "id": "xrxVzLvmydty",
        "outputId": "3d072336-20f4-4412-9e58-5a5591222ae3",
        "colab": {
          "base_uri": "https://localhost:8080/"
        }
      },
      "outputs": [
        {
          "output_type": "stream",
          "name": "stdout",
          "text": [
            "Train 48000 / Valid 12000 / Test 10000 samples.\n",
            "indices index : tensor([48748,  3630, 46491,  ..., 53315, 45013, 28708])\n"
          ]
        }
      ],
      "source": [
        "# Train / Valid ratio\n",
        "ratios = [.8, .2] # train test 분리할 비율\n",
        "\n",
        "train_cnt = int(x.size(0) * ratios[0])\n",
        "valid_cnt = int(x.size(0) * ratios[1])\n",
        "test_cnt = len(test.data)\n",
        "cnts = [train_cnt, valid_cnt]\n",
        "\n",
        "print(\"Train %d / Valid %d / Test %d samples.\" % (train_cnt, valid_cnt, test_cnt))\n",
        "\n",
        "# random 하게 먼저 인덱스를 랜덤하게 뽑아낸다.\n",
        "indices = torch.randperm(x.size(0)) \n",
        "print('indices index :',indices)\n",
        "x = torch.index_select(x, dim=0, index=indices)\n",
        "y = torch.index_select(y, dim=0, index=indices)"
      ]
    },
    {
      "cell_type": "code",
      "source": [
        "# x와 y를 split한다.\n",
        "# cnts == [x.size(0) * 0.8, x.size(0) * 0.2] \n",
        "x = list(x.split(cnts, dim=0))\n",
        "y = list(y.split(cnts, dim=0))\n",
        "print(x)\n",
        "\n",
        "# 테스트셋도 x 리스트에 추가한다.\n",
        "x += [(test.data.float() / 255.).view(test_cnt, -1)]\n",
        "y += [test.targets]\n",
        "print(x)\n",
        "for x_i, y_i in zip(x, y):\n",
        "    print(x_i.size(), y_i.size())"
      ],
      "metadata": {
        "colab": {
          "base_uri": "https://localhost:8080/"
        },
        "id": "d9JqA2ZlM06x",
        "outputId": "20cc808a-f553-4e14-d530-b8c900f1142a"
      },
      "execution_count": 21,
      "outputs": [
        {
          "output_type": "stream",
          "name": "stdout",
          "text": [
            "[tensor([[0., 0., 0.,  ..., 0., 0., 0.],\n",
            "        [0., 0., 0.,  ..., 0., 0., 0.],\n",
            "        [0., 0., 0.,  ..., 0., 0., 0.],\n",
            "        ...,\n",
            "        [0., 0., 0.,  ..., 0., 0., 0.],\n",
            "        [0., 0., 0.,  ..., 0., 0., 0.],\n",
            "        [0., 0., 0.,  ..., 0., 0., 0.]]), tensor([[0., 0., 0.,  ..., 0., 0., 0.],\n",
            "        [0., 0., 0.,  ..., 0., 0., 0.],\n",
            "        [0., 0., 0.,  ..., 0., 0., 0.],\n",
            "        ...,\n",
            "        [0., 0., 0.,  ..., 0., 0., 0.],\n",
            "        [0., 0., 0.,  ..., 0., 0., 0.],\n",
            "        [0., 0., 0.,  ..., 0., 0., 0.]])]\n",
            "[tensor([[0., 0., 0.,  ..., 0., 0., 0.],\n",
            "        [0., 0., 0.,  ..., 0., 0., 0.],\n",
            "        [0., 0., 0.,  ..., 0., 0., 0.],\n",
            "        ...,\n",
            "        [0., 0., 0.,  ..., 0., 0., 0.],\n",
            "        [0., 0., 0.,  ..., 0., 0., 0.],\n",
            "        [0., 0., 0.,  ..., 0., 0., 0.]]), tensor([[0., 0., 0.,  ..., 0., 0., 0.],\n",
            "        [0., 0., 0.,  ..., 0., 0., 0.],\n",
            "        [0., 0., 0.,  ..., 0., 0., 0.],\n",
            "        ...,\n",
            "        [0., 0., 0.,  ..., 0., 0., 0.],\n",
            "        [0., 0., 0.,  ..., 0., 0., 0.],\n",
            "        [0., 0., 0.,  ..., 0., 0., 0.]]), tensor([[0., 0., 0.,  ..., 0., 0., 0.],\n",
            "        [0., 0., 0.,  ..., 0., 0., 0.],\n",
            "        [0., 0., 0.,  ..., 0., 0., 0.],\n",
            "        ...,\n",
            "        [0., 0., 0.,  ..., 0., 0., 0.],\n",
            "        [0., 0., 0.,  ..., 0., 0., 0.],\n",
            "        [0., 0., 0.,  ..., 0., 0., 0.]])]\n",
            "torch.Size([48000, 784]) torch.Size([48000])\n",
            "torch.Size([12000, 784]) torch.Size([12000])\n",
            "torch.Size([10000, 784]) torch.Size([10000])\n"
          ]
        }
      ]
    },
    {
      "cell_type": "markdown",
      "metadata": {
        "id": "OSXMqghQydtz"
      },
      "source": [
        "## 2 Build Model & Optimizer"
      ]
    },
    {
      "cell_type": "code",
      "execution_count": 22,
      "metadata": {
        "id": "fxtIzXUpydt0",
        "outputId": "ce0f6cc1-083f-444b-9fb9-f8ad967b1677",
        "colab": {
          "base_uri": "https://localhost:8080/"
        }
      },
      "outputs": [
        {
          "output_type": "execute_result",
          "data": {
            "text/plain": [
              "Sequential(\n",
              "  (0): Linear(in_features=784, out_features=500, bias=True)\n",
              "  (1): LeakyReLU(negative_slope=0.01)\n",
              "  (2): Linear(in_features=500, out_features=400, bias=True)\n",
              "  (3): LeakyReLU(negative_slope=0.01)\n",
              "  (4): Linear(in_features=400, out_features=300, bias=True)\n",
              "  (5): LeakyReLU(negative_slope=0.01)\n",
              "  (6): Linear(in_features=300, out_features=200, bias=True)\n",
              "  (7): LeakyReLU(negative_slope=0.01)\n",
              "  (8): Linear(in_features=200, out_features=100, bias=True)\n",
              "  (9): LeakyReLU(negative_slope=0.01)\n",
              "  (10): Linear(in_features=100, out_features=50, bias=True)\n",
              "  (11): LeakyReLU(negative_slope=0.01)\n",
              "  (12): Linear(in_features=50, out_features=10, bias=True)\n",
              "  (13): LogSoftmax(dim=-1)\n",
              ")"
            ]
          },
          "metadata": {},
          "execution_count": 22
        }
      ],
      "source": [
        "model = nn.Sequential(\n",
        "    # hidden layer\n",
        "    nn.Linear(input_size, 500), \n",
        "    nn.LeakyReLU(),\n",
        "\n",
        "    nn.Linear(500, 400),\n",
        "    nn.LeakyReLU(),\n",
        "\n",
        "    nn.Linear(400, 300),\n",
        "    nn.LeakyReLU(),\n",
        "\n",
        "    nn.Linear(300, 200),\n",
        "    nn.LeakyReLU(),\n",
        "\n",
        "    nn.Linear(200, 100),\n",
        "    nn.LeakyReLU(),\n",
        "\n",
        "    nn.Linear(100, 50),\n",
        "    nn.LeakyReLU(),\n",
        "\n",
        "    # ouput layer\n",
        "    nn.Linear(50, output_size),\n",
        "    nn.LogSoftmax(dim=-1), # 각 클래스별 로그 확률을 리턴\n",
        ")\n",
        "\n",
        "model"
      ]
    },
    {
      "cell_type": "code",
      "execution_count": 23,
      "metadata": {
        "id": "jP9v5BI9ydt0"
      },
      "outputs": [],
      "source": [
        "# 사용할 손실함수 NLL Loss\n",
        "crit = nn.NLLLoss()"
      ]
    },
    {
      "cell_type": "code",
      "execution_count": 24,
      "metadata": {
        "id": "YT5owp3Cydt0"
      },
      "outputs": [],
      "source": [
        "# 옵티마이저 Adam\n",
        "optimizer = optim.Adam(model.parameters())"
      ]
    },
    {
      "cell_type": "markdown",
      "metadata": {
        "id": "0jmtDchSydt1"
      },
      "source": [
        "## Move to GPU if it is available"
      ]
    },
    {
      "cell_type": "code",
      "execution_count": 25,
      "metadata": {
        "id": "Yj_eKUbsydt1"
      },
      "outputs": [],
      "source": [
        "device = torch.device('cpu')\n",
        "if torch.cuda.is_available():\n",
        "    device = torch.device('cuda')"
      ]
    },
    {
      "cell_type": "code",
      "execution_count": 27,
      "metadata": {
        "id": "5TYLT4quydt1",
        "colab": {
          "base_uri": "https://localhost:8080/"
        },
        "outputId": "2ba562db-135e-4e15-afe7-a4318baa4176"
      },
      "outputs": [
        {
          "output_type": "execute_result",
          "data": {
            "text/plain": [
              "Sequential(\n",
              "  (0): Linear(in_features=784, out_features=500, bias=True)\n",
              "  (1): LeakyReLU(negative_slope=0.01)\n",
              "  (2): Linear(in_features=500, out_features=400, bias=True)\n",
              "  (3): LeakyReLU(negative_slope=0.01)\n",
              "  (4): Linear(in_features=400, out_features=300, bias=True)\n",
              "  (5): LeakyReLU(negative_slope=0.01)\n",
              "  (6): Linear(in_features=300, out_features=200, bias=True)\n",
              "  (7): LeakyReLU(negative_slope=0.01)\n",
              "  (8): Linear(in_features=200, out_features=100, bias=True)\n",
              "  (9): LeakyReLU(negative_slope=0.01)\n",
              "  (10): Linear(in_features=100, out_features=50, bias=True)\n",
              "  (11): LeakyReLU(negative_slope=0.01)\n",
              "  (12): Linear(in_features=50, out_features=10, bias=True)\n",
              "  (13): LogSoftmax(dim=-1)\n",
              ")"
            ]
          },
          "metadata": {},
          "execution_count": 27
        }
      ],
      "source": [
        "# 모델 cuda(GPU) 가능하면 사용하도록 지정\n",
        "model = model.to(device)\n",
        "# 데이터에 cuda(GPU) 가능하면 사용하도록 지정\n",
        "x = [x_i.to(device) for x_i in x]\n",
        "y = [y_i.to(device) for y_i in y]\n",
        "model"
      ]
    },
    {
      "cell_type": "markdown",
      "metadata": {
        "id": "drhpcTouydt1"
      },
      "source": [
        "## Train"
      ]
    },
    {
      "cell_type": "code",
      "execution_count": 28,
      "metadata": {
        "id": "1by6TrnGydt2"
      },
      "outputs": [],
      "source": [
        "n_epochs = 1000\n",
        "batch_size = 256\n",
        "print_interval = 10"
      ]
    },
    {
      "cell_type": "code",
      "execution_count": 29,
      "metadata": {
        "id": "_XxUdTE7ydt2"
      },
      "outputs": [],
      "source": [
        "from copy import deepcopy\n",
        "\n",
        "lowest_loss = np.inf\n",
        "best_model = None\n",
        "\n",
        "early_stop = 50\n",
        "lowest_epoch = np.inf"
      ]
    },
    {
      "cell_type": "code",
      "source": [
        "len(x) # train, validation, test 3개 포함"
      ],
      "metadata": {
        "colab": {
          "base_uri": "https://localhost:8080/"
        },
        "id": "5-G0-Qq1ovMN",
        "outputId": "7ef1124c-5011-4b24-f12c-358150970863"
      },
      "execution_count": 32,
      "outputs": [
        {
          "output_type": "execute_result",
          "data": {
            "text/plain": [
              "3"
            ]
          },
          "metadata": {},
          "execution_count": 32
        }
      ]
    },
    {
      "cell_type": "code",
      "execution_count": 30,
      "metadata": {
        "scrolled": false,
        "id": "3X-V_wnAydt2",
        "outputId": "0bab9b9f-093a-4bc3-f707-6841ea42c2a6",
        "colab": {
          "base_uri": "https://localhost:8080/"
        }
      },
      "outputs": [
        {
          "output_type": "stream",
          "name": "stdout",
          "text": [
            "Epoch 10: train loss=2.7169e-02  valid_loss=1.0001e-01  lowest_loss=9.2335e-02\n",
            "Epoch 20: train loss=1.0127e-02  valid_loss=1.1232e-01  lowest_loss=9.2335e-02\n",
            "Epoch 30: train loss=1.1123e-02  valid_loss=1.1521e-01  lowest_loss=9.1036e-02\n",
            "Epoch 40: train loss=6.1901e-03  valid_loss=1.2622e-01  lowest_loss=9.1036e-02\n",
            "Epoch 50: train loss=5.0787e-03  valid_loss=1.2250e-01  lowest_loss=9.1036e-02\n",
            "Epoch 60: train loss=1.5424e-03  valid_loss=1.4225e-01  lowest_loss=9.1036e-02\n",
            "Epoch 70: train loss=3.3120e-04  valid_loss=1.5276e-01  lowest_loss=9.1036e-02\n",
            "There is no improvement during last 50 epochs.\n",
            "The best validation loss from epoch 24: 9.1036e-02\n"
          ]
        },
        {
          "output_type": "execute_result",
          "data": {
            "text/plain": [
              "<All keys matched successfully>"
            ]
          },
          "metadata": {},
          "execution_count": 30
        }
      ],
      "source": [
        "train_history, valid_history = [], []\n",
        "\n",
        "for i in range(n_epochs):\n",
        "\n",
        "    # 미니배치 나누기 256개씩 학습\n",
        "    indices = torch.randperm(x[0].size(0)).to(device)\n",
        "    x_ = torch.index_select(x[0], dim=0, index=indices)\n",
        "    y_ = torch.index_select(y[0], dim=0, index=indices)\n",
        "    \n",
        "    x_ = x_.split(batch_size, dim=0)\n",
        "    y_ = y_.split(batch_size, dim=0)\n",
        "    \n",
        "    train_loss, valid_loss = 0, 0\n",
        "    y_hat = []\n",
        "    \n",
        "    # iteration 돌리기\n",
        "    for x_i, y_i in zip(x_, y_):\n",
        "        y_hat_i = model(x_i) # 모델에 x_i 넣기 미니배치 하나당 256개 데이터 -> (256 * 784)\n",
        "        loss = crit(y_hat_i, y_i.squeeze()) # 손실함수NLL에 (y예상값(256,10), y_label(256,) 넣는다)\n",
        "\n",
        "        optimizer.zero_grad()\n",
        "        loss.backward()\n",
        "\n",
        "        optimizer.step()        \n",
        "        train_loss += float(loss) # This is very important to prevent memory leak. tensor->float\n",
        "    # 미니배치의 평균 loss\n",
        "    train_loss = train_loss / len(x_)\n",
        "    \n",
        "    # validation\n",
        "    with torch.no_grad(): # validation 에서는 gradient를 계산하지않는다.\n",
        "        x_ = x[1].split(batch_size, dim=0)\n",
        "        y_ = y[1].split(batch_size, dim=0)\n",
        "        \n",
        "        valid_loss = 0\n",
        "        \n",
        "        for x_i, y_i in zip(x_, y_):\n",
        "            y_hat_i = model(x_i)\n",
        "            loss = crit(y_hat_i, y_i.squeeze())# 손실함수NLL\n",
        "            \n",
        "            valid_loss += float(loss)\n",
        "            \n",
        "            y_hat += [y_hat_i]\n",
        "    # 미니배치의 평균 validation loss        \n",
        "    valid_loss = valid_loss / len(x_)\n",
        "    \n",
        "    train_history += [train_loss]\n",
        "    valid_history += [valid_loss]\n",
        "        \n",
        "    if (i + 1) % print_interval == 0:\n",
        "        print('Epoch %d: train loss=%.4e  valid_loss=%.4e  lowest_loss=%.4e' % (\n",
        "            i + 1,\n",
        "            train_loss,\n",
        "            valid_loss,\n",
        "            lowest_loss,\n",
        "        ))\n",
        "        \n",
        "    if valid_loss <= lowest_loss:\n",
        "        lowest_loss = valid_loss\n",
        "        lowest_epoch = i\n",
        "        \n",
        "        best_model = deepcopy(model.state_dict())\n",
        "    else:\n",
        "        if early_stop > 0 and lowest_epoch + early_stop < i + 1:\n",
        "            print(\"There is no improvement during last %d epochs.\" % early_stop)\n",
        "            break\n",
        "\n",
        "print(\"The best validation loss from epoch %d: %.4e\" % (lowest_epoch + 1, lowest_loss))\n",
        "model.load_state_dict(best_model)"
      ]
    },
    {
      "cell_type": "markdown",
      "metadata": {
        "id": "HCaUngkIydt3"
      },
      "source": [
        "## Loss History"
      ]
    },
    {
      "cell_type": "code",
      "execution_count": 33,
      "metadata": {
        "id": "kcJuiBu9ydt3",
        "outputId": "8f623ef6-ab53-459c-d5d2-32edb5198c29",
        "colab": {
          "base_uri": "https://localhost:8080/",
          "height": 585
        }
      },
      "outputs": [
        {
          "output_type": "display_data",
          "data": {
            "text/plain": [
              "<Figure size 1440x720 with 1 Axes>"
            ],
            "image/png": "[encoded data removed]"
          },
          "metadata": {
            "needs_background": "light"
          }
        }
      ],
      "source": [
        "plot_from = 0\n",
        "\n",
        "plt.figure(figsize=(20, 10))\n",
        "plt.grid(True)\n",
        "plt.title(\"Train / Valid Loss History\")\n",
        "plt.plot(\n",
        "    range(plot_from, len(train_history)), train_history[plot_from:],\n",
        "    range(plot_from, len(valid_history)), valid_history[plot_from:],\n",
        ")\n",
        "plt.yscale('log')\n",
        "plt.show()"
      ]
    },
    {
      "cell_type": "markdown",
      "metadata": {
        "id": "zuDb_zXVydt4"
      },
      "source": [
        "## Let's see the result!"
      ]
    },
    {
      "cell_type": "code",
      "execution_count": 34,
      "metadata": {
        "id": "eiH386Gwydt4",
        "outputId": "c4101836-f7ac-44fd-a8ff-57e0dcbe7a11",
        "colab": {
          "base_uri": "https://localhost:8080/"
        }
      },
      "outputs": [
        {
          "output_type": "stream",
          "name": "stdout",
          "text": [
            "Validation loss: 8.9984e-02\n"
          ]
        }
      ],
      "source": [
        "test_loss = 0\n",
        "y_hat = []\n",
        "\n",
        "with torch.no_grad():\n",
        "    x_ = x[-1].split(batch_size, dim=0)\n",
        "    y_ = y[-1].split(batch_size, dim=0)\n",
        "\n",
        "    for x_i, y_i in zip(x_, y_):\n",
        "        y_hat_i = model(x_i)\n",
        "        loss = crit(y_hat_i, y_i.squeeze())\n",
        "\n",
        "        test_loss += loss # Gradient is already detached.\n",
        "\n",
        "        y_hat += [y_hat_i]\n",
        "\n",
        "test_loss = test_loss / len(x_)\n",
        "y_hat = torch.cat(y_hat, dim=0)\n",
        "\n",
        "print(\"Validation loss: %.4e\" % test_loss)"
      ]
    },
    {
      "cell_type": "code",
      "execution_count": 35,
      "metadata": {
        "id": "H5Ao2vNnydt4",
        "outputId": "2a87cc67-89b4-454c-9444-ccaeb79af552",
        "colab": {
          "base_uri": "https://localhost:8080/"
        }
      },
      "outputs": [
        {
          "output_type": "stream",
          "name": "stdout",
          "text": [
            "Accuracy: 0.9815\n"
          ]
        }
      ],
      "source": [
        "correct_cnt = (y[-1].squeeze() == torch.argmax(y_hat, dim=-1)).sum() # y와 y^ 맞춘 것의 갯수 cnt\n",
        "total_cnt = float(y[-1].size(0)) # y\n",
        "\n",
        "print('Accuracy: %.4f' % (correct_cnt / total_cnt))"
      ]
    },
    {
      "cell_type": "code",
      "execution_count": 36,
      "metadata": {
        "id": "OV6zq39uydt5"
      },
      "outputs": [],
      "source": [
        "import pandas as pd\n",
        "from sklearn.metrics import confusion_matrix"
      ]
    },
    {
      "cell_type": "code",
      "execution_count": 37,
      "metadata": {
        "id": "9P_Hgqtvydt5",
        "outputId": "7d81a145-034f-4d76-da11-0d2c3146c950",
        "colab": {
          "base_uri": "https://localhost:8080/",
          "height": 363
        }
      },
      "outputs": [
        {
          "output_type": "execute_result",
          "data": {
            "text/plain": [
              "        pred_0  pred_1  pred_2  pred_3  pred_4  pred_5  pred_6  pred_7  \\\n",
              "true_0     971       2       0       0       1       0       2       0   \n",
              "true_1       0    1127       1       2       0       0       1       1   \n",
              "true_2       8       5     991       8       1       0       1       5   \n",
              "true_3       0       0       1     999       0       2       0       2   \n",
              "true_4       1       0       1       0     966       0       5       3   \n",
              "true_5       2       0       0       8       1     873       3       0   \n",
              "true_6       2       4       2       1       2       3     943       0   \n",
              "true_7       1       2       8       4       2       0       0    1002   \n",
              "true_8       2       1       2       5       3       2       1       2   \n",
              "true_9       2       3       0       1       7       1       0       4   \n",
              "\n",
              "        pred_8  pred_9  \n",
              "true_0       2       2  \n",
              "true_1       3       0  \n",
              "true_2      13       0  \n",
              "true_3       3       3  \n",
              "true_4       1       5  \n",
              "true_5       4       1  \n",
              "true_6       1       0  \n",
              "true_7       1       8  \n",
              "true_8     952       4  \n",
              "true_9       0     991  "
            ],
            "text/html": [
              "\n",
              "  <div id=\"df-d8f9fc5f-a51e-4178-9b91-884bd66c797a\">\n",
              "    <div class=\"colab-df-container\">\n",
              "      <div>\n",
              "<style scoped>\n",
              "    .dataframe tbody tr th:only-of-type {\n",
              "        vertical-align: middle;\n",
              "    }\n",
              "\n",
              "    .dataframe tbody tr th {\n",
              "        vertical-align: top;\n",
              "    }\n",
              "\n",
              "    .dataframe thead th {\n",
              "        text-align: right;\n",
              "    }\n",
              "</style>\n",
              "<table border=\"1\" class=\"dataframe\">\n",
              "  <thead>\n",
              "    <tr style=\"text-align: right;\">\n",
              "      <th></th>\n",
              "      <th>pred_0</th>\n",
              "      <th>pred_1</th>\n",
              "      <th>pred_2</th>\n",
              "      <th>pred_3</th>\n",
              "      <th>pred_4</th>\n",
              "      <th>pred_5</th>\n",
              "      <th>pred_6</th>\n",
              "      <th>pred_7</th>\n",
              "      <th>pred_8</th>\n",
              "      <th>pred_9</th>\n",
              "    </tr>\n",
              "  </thead>\n",
              "  <tbody>\n",
              "    <tr>\n",
              "      <th>true_0</th>\n",
              "      <td>971</td>\n",
              "      <td>2</td>\n",
              "      <td>0</td>\n",
              "      <td>0</td>\n",
              "      <td>1</td>\n",
              "      <td>0</td>\n",
              "      <td>2</td>\n",
              "      <td>0</td>\n",
              "      <td>2</td>\n",
              "      <td>2</td>\n",
              "    </tr>\n",
              "    <tr>\n",
              "      <th>true_1</th>\n",
              "      <td>0</td>\n",
              "      <td>1127</td>\n",
              "      <td>1</td>\n",
              "      <td>2</td>\n",
              "      <td>0</td>\n",
              "      <td>0</td>\n",
              "      <td>1</td>\n",
              "      <td>1</td>\n",
              "      <td>3</td>\n",
              "      <td>0</td>\n",
              "    </tr>\n",
              "    <tr>\n",
              "      <th>true_2</th>\n",
              "      <td>8</td>\n",
              "      <td>5</td>\n",
              "      <td>991</td>\n",
              "      <td>8</td>\n",
              "      <td>1</td>\n",
              "      <td>0</td>\n",
              "      <td>1</td>\n",
              "      <td>5</td>\n",
              "      <td>13</td>\n",
              "      <td>0</td>\n",
              "    </tr>\n",
              "    <tr>\n",
              "      <th>true_3</th>\n",
              "      <td>0</td>\n",
              "      <td>0</td>\n",
              "      <td>1</td>\n",
              "      <td>999</td>\n",
              "      <td>0</td>\n",
              "      <td>2</td>\n",
              "      <td>0</td>\n",
              "      <td>2</td>\n",
              "      <td>3</td>\n",
              "      <td>3</td>\n",
              "    </tr>\n",
              "    <tr>\n",
              "      <th>true_4</th>\n",
              "      <td>1</td>\n",
              "      <td>0</td>\n",
              "      <td>1</td>\n",
              "      <td>0</td>\n",
              "      <td>966</td>\n",
              "      <td>0</td>\n",
              "      <td>5</td>\n",
              "      <td>3</td>\n",
              "      <td>1</td>\n",
              "      <td>5</td>\n",
              "    </tr>\n",
              "    <tr>\n",
              "      <th>true_5</th>\n",
              "      <td>2</td>\n",
              "      <td>0</td>\n",
              "      <td>0</td>\n",
              "      <td>8</td>\n",
              "      <td>1</td>\n",
              "      <td>873</td>\n",
              "      <td>3</td>\n",
              "      <td>0</td>\n",
              "      <td>4</td>\n",
              "      <td>1</td>\n",
              "    </tr>\n",
              "    <tr>\n",
              "      <th>true_6</th>\n",
              "      <td>2</td>\n",
              "      <td>4</td>\n",
              "      <td>2</td>\n",
              "      <td>1</td>\n",
              "      <td>2</td>\n",
              "      <td>3</td>\n",
              "      <td>943</td>\n",
              "      <td>0</td>\n",
              "      <td>1</td>\n",
              "      <td>0</td>\n",
              "    </tr>\n",
              "    <tr>\n",
              "      <th>true_7</th>\n",
              "      <td>1</td>\n",
              "      <td>2</td>\n",
              "      <td>8</td>\n",
              "      <td>4</td>\n",
              "      <td>2</td>\n",
              "      <td>0</td>\n",
              "      <td>0</td>\n",
              "      <td>1002</td>\n",
              "      <td>1</td>\n",
              "      <td>8</td>\n",
              "    </tr>\n",
              "    <tr>\n",
              "      <th>true_8</th>\n",
              "      <td>2</td>\n",
              "      <td>1</td>\n",
              "      <td>2</td>\n",
              "      <td>5</td>\n",
              "      <td>3</td>\n",
              "      <td>2</td>\n",
              "      <td>1</td>\n",
              "      <td>2</td>\n",
              "      <td>952</td>\n",
              "      <td>4</td>\n",
              "    </tr>\n",
              "    <tr>\n",
              "      <th>true_9</th>\n",
              "      <td>2</td>\n",
              "      <td>3</td>\n",
              "      <td>0</td>\n",
              "      <td>1</td>\n",
              "      <td>7</td>\n",
              "      <td>1</td>\n",
              "      <td>0</td>\n",
              "      <td>4</td>\n",
              "      <td>0</td>\n",
              "      <td>991</td>\n",
              "    </tr>\n",
              "  </tbody>\n",
              "</table>\n",
              "</div>\n",
              "      <button class=\"colab-df-convert\" onclick=\"convertToInteractive('df-d8f9fc5f-a51e-4178-9b91-884bd66c797a')\"\n",
              "              title=\"Convert this dataframe to an interactive table.\"\n",
              "              style=\"display:none;\">\n",
              "        \n",
              "  <svg xmlns=\"http://www.w3.org/2000/svg\" height=\"24px\"viewBox=\"0 0 24 24\"\n",
              "       width=\"24px\">\n",
              "    <path d=\"M0 0h24v24H0V0z\" fill=\"none\"/>\n",
              "    <path d=\"M18.56 5.44l.94 2.06.94-2.06 2.06-.94-2.06-.94-.94-2.06-.94 2.06-2.06.94zm-11 1L8.5 8.5l.94-2.06 2.06-.94-2.06-.94L8.5 2.5l-.94 2.06-2.06.94zm10 10l.94 2.06.94-2.06 2.06-.94-2.06-.94-.94-2.06-.94 2.06-2.06.94z\"/><path d=\"M17.41 7.96l-1.37-1.37c-.4-.4-.92-.59-1.43-.59-.52 0-1.04.2-1.43.59L10.3 9.45l-7.72 7.72c-.78.78-.78 2.05 0 2.83L4 21.41c.39.39.9.59 1.41.59.51 0 1.02-.2 1.41-.59l7.78-7.78 2.81-2.81c.8-.78.8-2.07 0-2.86zM5.41 20L4 18.59l7.72-7.72 1.47 1.35L5.41 20z\"/>\n",
              "  </svg>\n",
              "      </button>\n",
              "      \n",
              "  <style>\n",
              "    .colab-df-container {\n",
              "      display:flex;\n",
              "      flex-wrap:wrap;\n",
              "      gap: 12px;\n",
              "    }\n",
              "\n",
              "    .colab-df-convert {\n",
              "      background-color: #E8F0FE;\n",
              "      border: none;\n",
              "      border-radius: 50%;\n",
              "      cursor: pointer;\n",
              "      display: none;\n",
              "      fill: #1967D2;\n",
              "      height: 32px;\n",
              "      padding: 0 0 0 0;\n",
              "      width: 32px;\n",
              "    }\n",
              "\n",
              "    .colab-df-convert:hover {\n",
              "      background-color: #E2EBFA;\n",
              "      box-shadow: 0px 1px 2px rgba(60, 64, 67, 0.3), 0px 1px 3px 1px rgba(60, 64, 67, 0.15);\n",
              "      fill: #174EA6;\n",
              "    }\n",
              "\n",
              "    [theme=dark] .colab-df-convert {\n",
              "      background-color: #3B4455;\n",
              "      fill: #D2E3FC;\n",
              "    }\n",
              "\n",
              "    [theme=dark] .colab-df-convert:hover {\n",
              "      background-color: #434B5C;\n",
              "      box-shadow: 0px 1px 3px 1px rgba(0, 0, 0, 0.15);\n",
              "      filter: drop-shadow(0px 1px 2px rgba(0, 0, 0, 0.3));\n",
              "      fill: #FFFFFF;\n",
              "    }\n",
              "  </style>\n",
              "\n",
              "      <script>\n",
              "        const buttonEl =\n",
              "          document.querySelector('#df-d8f9fc5f-a51e-4178-9b91-884bd66c797a button.colab-df-convert');\n",
              "        buttonEl.style.display =\n",
              "          google.colab.kernel.accessAllowed ? 'block' : 'none';\n",
              "\n",
              "        async function convertToInteractive(key) {\n",
              "          const element = document.querySelector('#df-d8f9fc5f-a51e-4178-9b91-884bd66c797a');\n",
              "          const dataTable =\n",
              "            await google.colab.kernel.invokeFunction('convertToInteractive',\n",
              "                                                     [key], {});\n",
              "          if (!dataTable) return;\n",
              "\n",
              "          const docLinkHtml = 'Like what you see? Visit the ' +\n",
              "            '<a target=\"_blank\" href=https://colab.research.google.com/notebooks/data_table.ipynb>data table notebook</a>'\n",
              "            + ' to learn more about interactive tables.';\n",
              "          element.innerHTML = '';\n",
              "          dataTable['output_type'] = 'display_data';\n",
              "          await google.colab.output.renderOutput(dataTable, element);\n",
              "          const docLink = document.createElement('div');\n",
              "          docLink.innerHTML = docLinkHtml;\n",
              "          element.appendChild(docLink);\n",
              "        }\n",
              "      </script>\n",
              "    </div>\n",
              "  </div>\n",
              "  "
            ]
          },
          "metadata": {},
          "execution_count": 37
        }
      ],
      "source": [
        "pd.DataFrame(confusion_matrix(y[-1], torch.argmax(y_hat, dim=-1)),\n",
        "             index=['true_%d' % i for i in range(10)],\n",
        "             columns=['pred_%d' % i for i in range(10)])"
      ]
    },
    {
      "cell_type": "code",
      "execution_count": null,
      "metadata": {
        "id": "RCRRGh-Mydt5"
      },
      "outputs": [],
      "source": [
        ""
      ]
    }
  ],
  "metadata": {
    "kernelspec": {
      "display_name": "Python 3 (ipykernel)",
      "language": "python",
      "name": "python3"
    },
    "language_info": {
      "codemirror_mode": {
        "name": "ipython",
        "version": 3
      },
      "file_extension": ".py",
      "mimetype": "text/x-python",
      "name": "python",
      "nbconvert_exporter": "python",
      "pygments_lexer": "ipython3",
      "version": "3.8.11"
    },
    "colab": {
      "name": "14-07-practice.ipynb",
      "provenance": [],
      "collapsed_sections": [],
      "include_colab_link": true
    }
  },
  "nbformat": 4,
  "nbformat_minor": 0
}