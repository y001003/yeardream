{
 "cells": [
  {
   "cell_type": "markdown",
   "metadata": {},
   "source": [
    "# Activation Functions"
   ]
  },
  {
   "cell_type": "code",
   "execution_count": null,
   "metadata": {},
   "outputs": [],
   "source": [
    "!pip install matplotlib"
   ]
  },
  {
   "cell_type": "code",
   "execution_count": 1,
   "metadata": {},
   "outputs": [],
   "source": [
    "import torch\n",
    "import torch.nn as nn\n",
    "\n",
    "from matplotlib import pyplot as plt"
   ]
  },
  {
   "cell_type": "code",
   "execution_count": 2,
   "metadata": {},
   "outputs": [
    {
     "data": {
      "text/plain": [
       "tensor([-25.9783, -25.1077, -24.9875, -24.7166, -23.9313, -21.7830, -18.3596,\n",
       "        -17.1677, -17.0733, -16.2519, -15.4048, -14.7829, -14.6896, -14.2659,\n",
       "        -13.5382, -13.3321, -13.0518, -13.0134, -12.5208, -12.4786, -12.2735,\n",
       "         -9.7818,  -9.6093,  -9.5243,  -9.4204,  -9.1163,  -8.9861,  -8.8767,\n",
       "         -8.8176,  -8.6733,  -8.6132,  -7.9963,  -7.7647,  -7.6451,  -7.2264,\n",
       "         -6.9829,  -6.9285,  -6.9104,  -6.2910,  -5.9887,  -5.4309,  -5.2356,\n",
       "         -4.4755,  -4.3851,  -4.0020,  -3.9175,  -3.7696,  -3.3918,  -3.2084,\n",
       "         -2.2587,  -2.0891,  -2.0716,  -1.6355,  -1.6081,  -1.5950,  -1.0023,\n",
       "         -0.9913,  -0.9820,  -0.5260,  -0.3729,   0.5238,   0.7423,   1.0751,\n",
       "          1.4650,   2.4227,   2.4406,   2.5266,   3.8684,   4.5233,   4.6456,\n",
       "          4.9375,   5.4343,   5.4530,   6.1347,   7.0310,   7.0451,   7.0554,\n",
       "          7.1117,   7.5656,   8.2499,   8.4043,   8.7265,   8.7813,   8.8300,\n",
       "          9.0007,   9.1674,  10.2907,  10.7493,  10.7841,  12.4725,  12.6361,\n",
       "         12.6848,  12.6968,  12.7577,  13.3917,  13.8044,  17.8852,  19.4129,\n",
       "         19.7028,  20.5817])"
      ]
     },
     "execution_count": 2,
     "metadata": {},
     "output_type": "execute_result"
    }
   ],
   "source": [
    "x = torch.sort(torch.randn(100) * 10)[0]\n",
    "\n",
    "x"
   ]
  },
  {
   "cell_type": "markdown",
   "metadata": {},
   "source": [
    "## Sigmoid\n",
    "\n",
    "$$\n",
    "\\sigma(x)=\\frac{1}{1+e^{-x}}\n",
    "$$"
   ]
  },
  {
   "cell_type": "code",
   "execution_count": 3,
   "metadata": {},
   "outputs": [
    {
     "name": "stdout",
     "output_type": "stream",
     "text": [
      "tensor([5.2210e-12, 1.2470e-11, 1.4063e-11, 1.8438e-11, 4.0436e-11, 3.4655e-10,\n",
      "        1.0630e-08, 3.5007e-08, 3.8473e-08, 8.7474e-08, 2.0407e-07, 3.8007e-07,\n",
      "        4.1726e-07, 6.3740e-07, 1.3195e-06, 1.6217e-06, 2.1461e-06, 2.2302e-06,\n",
      "        3.6500e-06, 3.8073e-06, 4.6738e-06, 5.6466e-05, 6.7094e-05, 7.3051e-05,\n",
      "        8.1043e-05, 1.0985e-04, 1.2512e-04, 1.3958e-04, 1.4808e-04, 1.7106e-04,\n",
      "        1.8166e-04, 3.3659e-04, 4.2428e-04, 4.7817e-04, 7.2661e-04, 9.2671e-04,\n",
      "        9.7852e-04, 9.9638e-04, 1.8496e-03, 2.5006e-03, 4.3599e-03, 5.2952e-03,\n",
      "        1.1256e-02, 1.2309e-02, 1.7951e-02, 1.9504e-02, 2.2543e-02, 3.2554e-02,\n",
      "        3.8850e-02, 9.4603e-02, 1.1016e-01, 1.1189e-01, 1.6307e-01, 1.6685e-01,\n",
      "        1.6869e-01, 2.6849e-01, 2.7065e-01, 2.7250e-01, 3.7145e-01, 4.0785e-01,\n",
      "        6.2803e-01, 6.7749e-01, 7.4556e-01, 8.1229e-01, 9.1854e-01, 9.1987e-01,\n",
      "        9.2599e-01, 9.7953e-01, 9.8926e-01, 9.9049e-01, 9.9288e-01, 9.9565e-01,\n",
      "        9.9573e-01, 9.9784e-01, 9.9912e-01, 9.9913e-01, 9.9914e-01, 9.9919e-01,\n",
      "        9.9948e-01, 9.9974e-01, 9.9978e-01, 9.9984e-01, 9.9985e-01, 9.9985e-01,\n",
      "        9.9988e-01, 9.9990e-01, 9.9997e-01, 9.9998e-01, 9.9998e-01, 1.0000e+00,\n",
      "        1.0000e+00, 1.0000e+00, 1.0000e+00, 1.0000e+00, 1.0000e+00, 1.0000e+00,\n",
      "        1.0000e+00, 1.0000e+00, 1.0000e+00, 1.0000e+00])\n"
     ]
    }
   ],
   "source": [
    "act = nn.Sigmoid()\n",
    "print(act(x))"
   ]
  },
  {
   "cell_type": "code",
   "execution_count": 4,
   "metadata": {
    "scrolled": true
   },
   "outputs": [
    {
     "name": "stdout",
     "output_type": "stream",
     "text": [
      "tensor([5.2210e-12, 1.2470e-11, 1.4063e-11, 1.8438e-11, 4.0436e-11, 3.4655e-10,\n",
      "        1.0630e-08, 3.5007e-08, 3.8473e-08, 8.7474e-08, 2.0407e-07, 3.8007e-07,\n",
      "        4.1726e-07, 6.3740e-07, 1.3195e-06, 1.6217e-06, 2.1461e-06, 2.2302e-06,\n",
      "        3.6500e-06, 3.8073e-06, 4.6738e-06, 5.6466e-05, 6.7094e-05, 7.3051e-05,\n",
      "        8.1043e-05, 1.0985e-04, 1.2512e-04, 1.3958e-04, 1.4808e-04, 1.7106e-04,\n",
      "        1.8166e-04, 3.3659e-04, 4.2428e-04, 4.7817e-04, 7.2661e-04, 9.2671e-04,\n",
      "        9.7852e-04, 9.9638e-04, 1.8496e-03, 2.5006e-03, 4.3599e-03, 5.2952e-03,\n",
      "        1.1256e-02, 1.2309e-02, 1.7951e-02, 1.9504e-02, 2.2543e-02, 3.2554e-02,\n",
      "        3.8850e-02, 9.4603e-02, 1.1016e-01, 1.1189e-01, 1.6307e-01, 1.6685e-01,\n",
      "        1.6869e-01, 2.6849e-01, 2.7065e-01, 2.7250e-01, 3.7145e-01, 4.0785e-01,\n",
      "        6.2803e-01, 6.7749e-01, 7.4556e-01, 8.1229e-01, 9.1854e-01, 9.1987e-01,\n",
      "        9.2599e-01, 9.7953e-01, 9.8926e-01, 9.9049e-01, 9.9288e-01, 9.9565e-01,\n",
      "        9.9573e-01, 9.9784e-01, 9.9912e-01, 9.9913e-01, 9.9914e-01, 9.9919e-01,\n",
      "        9.9948e-01, 9.9974e-01, 9.9978e-01, 9.9984e-01, 9.9985e-01, 9.9985e-01,\n",
      "        9.9988e-01, 9.9990e-01, 9.9997e-01, 9.9998e-01, 9.9998e-01, 1.0000e+00,\n",
      "        1.0000e+00, 1.0000e+00, 1.0000e+00, 1.0000e+00, 1.0000e+00, 1.0000e+00,\n",
      "        1.0000e+00, 1.0000e+00, 1.0000e+00, 1.0000e+00])\n"
     ]
    }
   ],
   "source": [
    "print(torch.sigmoid(x))"
   ]
  },
  {
   "cell_type": "code",
   "execution_count": 5,
   "metadata": {},
   "outputs": [
    {
     "data": {
      "image/png": "[encoded data removed]",
      "text/plain": [
       "<Figure size 432x288 with 1 Axes>"
      ]
     },
     "metadata": {
      "needs_background": "light"
     },
     "output_type": "display_data"
    }
   ],
   "source": [
    "plt.plot(x.numpy(), torch.sigmoid(x).numpy())\n",
    "plt.show()"
   ]
  },
  {
   "cell_type": "markdown",
   "metadata": {},
   "source": [
    "## Hypoerbolic Tangent (TanH)\n",
    "\n",
    "$$\n",
    "\\text{tanh}(x)=\\frac{e^x-e^{-x}}{e^x+e^{-x}}\n",
    "$$"
   ]
  },
  {
   "cell_type": "code",
   "execution_count": 6,
   "metadata": {},
   "outputs": [
    {
     "name": "stdout",
     "output_type": "stream",
     "text": [
      "tensor([-1.0000, -1.0000, -1.0000, -1.0000, -1.0000, -1.0000, -1.0000, -1.0000,\n",
      "        -1.0000, -1.0000, -1.0000, -1.0000, -1.0000, -1.0000, -1.0000, -1.0000,\n",
      "        -1.0000, -1.0000, -1.0000, -1.0000, -1.0000, -1.0000, -1.0000, -1.0000,\n",
      "        -1.0000, -1.0000, -1.0000, -1.0000, -1.0000, -1.0000, -1.0000, -1.0000,\n",
      "        -1.0000, -1.0000, -1.0000, -1.0000, -1.0000, -1.0000, -1.0000, -1.0000,\n",
      "        -1.0000, -0.9999, -0.9997, -0.9997, -0.9993, -0.9992, -0.9989, -0.9977,\n",
      "        -0.9967, -0.9784, -0.9698, -0.9688, -0.9268, -0.9229, -0.9209, -0.7626,\n",
      "        -0.7579, -0.7539, -0.4823, -0.3565,  0.4806,  0.6305,  0.7914,  0.8986,\n",
      "         0.9844,  0.9849,  0.9873,  0.9991,  0.9998,  0.9998,  0.9999,  1.0000,\n",
      "         1.0000,  1.0000,  1.0000,  1.0000,  1.0000,  1.0000,  1.0000,  1.0000,\n",
      "         1.0000,  1.0000,  1.0000,  1.0000,  1.0000,  1.0000,  1.0000,  1.0000,\n",
      "         1.0000,  1.0000,  1.0000,  1.0000,  1.0000,  1.0000,  1.0000,  1.0000,\n",
      "         1.0000,  1.0000,  1.0000,  1.0000])\n"
     ]
    }
   ],
   "source": [
    "act = nn.Tanh()\n",
    "print(act(x))"
   ]
  },
  {
   "cell_type": "code",
   "execution_count": 7,
   "metadata": {},
   "outputs": [
    {
     "name": "stdout",
     "output_type": "stream",
     "text": [
      "tensor([-1.0000, -1.0000, -1.0000, -1.0000, -1.0000, -1.0000, -1.0000, -1.0000,\n",
      "        -1.0000, -1.0000, -1.0000, -1.0000, -1.0000, -1.0000, -1.0000, -1.0000,\n",
      "        -1.0000, -1.0000, -1.0000, -1.0000, -1.0000, -1.0000, -1.0000, -1.0000,\n",
      "        -1.0000, -1.0000, -1.0000, -1.0000, -1.0000, -1.0000, -1.0000, -1.0000,\n",
      "        -1.0000, -1.0000, -1.0000, -1.0000, -1.0000, -1.0000, -1.0000, -1.0000,\n",
      "        -1.0000, -0.9999, -0.9997, -0.9997, -0.9993, -0.9992, -0.9989, -0.9977,\n",
      "        -0.9967, -0.9784, -0.9698, -0.9688, -0.9268, -0.9229, -0.9209, -0.7626,\n",
      "        -0.7579, -0.7539, -0.4823, -0.3565,  0.4806,  0.6305,  0.7914,  0.8986,\n",
      "         0.9844,  0.9849,  0.9873,  0.9991,  0.9998,  0.9998,  0.9999,  1.0000,\n",
      "         1.0000,  1.0000,  1.0000,  1.0000,  1.0000,  1.0000,  1.0000,  1.0000,\n",
      "         1.0000,  1.0000,  1.0000,  1.0000,  1.0000,  1.0000,  1.0000,  1.0000,\n",
      "         1.0000,  1.0000,  1.0000,  1.0000,  1.0000,  1.0000,  1.0000,  1.0000,\n",
      "         1.0000,  1.0000,  1.0000,  1.0000])\n"
     ]
    }
   ],
   "source": [
    "print(torch.tanh(x))"
   ]
  },
  {
   "cell_type": "code",
   "execution_count": 8,
   "metadata": {},
   "outputs": [
    {
     "data": {
      "image/png": "[encoded data removed]",
      "text/plain": [
       "<Figure size 432x288 with 1 Axes>"
      ]
     },
     "metadata": {
      "needs_background": "light"
     },
     "output_type": "display_data"
    }
   ],
   "source": [
    "plt.plot(x.numpy(), torch.tanh(x).numpy())\n",
    "plt.show()"
   ]
  }
 ],
 "metadata": {
  "kernelspec": {
   "display_name": "Python 3",
   "language": "python",
   "name": "python3"
  },
  "language_info": {
   "codemirror_mode": {
    "name": "ipython",
    "version": 3
   },
   "file_extension": ".py",
   "mimetype": "text/x-python",
   "name": "python",
   "nbconvert_exporter": "python",
   "pygments_lexer": "ipython3",
   "version": "3.7.6"
  }
 },
 "nbformat": 4,
 "nbformat_minor": 2
}
