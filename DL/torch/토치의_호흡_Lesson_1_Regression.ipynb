{
  "nbformat": 4,
  "nbformat_minor": 0,
  "metadata": {
    "colab": {
      "provenance": [],
      "authorship_tag": "ABX9TyMGxJTbrCS7SRpnJ65RMKt5",
      "include_colab_link": true
    },
    "kernelspec": {
      "name": "python3",
      "display_name": "Python 3"
    },
    "language_info": {
      "name": "python"
    }
  },
  "cells": [
    {
      "cell_type": "markdown",
      "metadata": {
        "id": "view-in-github",
        "colab_type": "text"
      },
      "source": [
        "<a href=\"https://colab.research.google.com/github/y001003/yeardream/blob/main/DL/torch/%ED%86%A0%EC%B9%98%EC%9D%98_%ED%98%B8%ED%9D%A1_Lesson_1_Regression.ipynb\" target=\"_parent\"><img src=\"https://colab.research.google.com/assets/colab-badge.svg\" alt=\"Open In Colab\"/></a>"
      ]
    },
    {
      "cell_type": "markdown",
      "source": [
        "# Regression Model"
      ],
      "metadata": {
        "id": "Mh-60eDUMzXe"
      }
    },
    {
      "cell_type": "markdown",
      "source": [
        "## 1. Load Data"
      ],
      "metadata": {
        "id": "haoaitVu0yWx"
      }
    },
    {
      "cell_type": "code",
      "source": [
        "import numpy as np\n",
        "import pandas as pd\n",
        "\n",
        "import matplotlib.pyplot as plt\n",
        "import seaborn as sns\n",
        "\n",
        "from sklearn.datasets import fetch_california_housing\n",
        "\n",
        "import torch\n",
        "import torch.nn as nn # class Model(nn.Module)\n",
        "from torch.utils.data import Dataset, DataLoader\n",
        "# Dataset, DataLoader\n",
        "# df --> Dataset (X, y) --> DataLoader: Batch Size\n"
      ],
      "metadata": {
        "id": "kUOXhFgGNBVh"
      },
      "execution_count": 2,
      "outputs": []
    },
    {
      "cell_type": "code",
      "source": [
        "ch = fetch_california_housing()\n",
        "\n",
        "df = pd.DataFrame(ch.data, columns = ch.feature_names)\n",
        "df['target'] = ch.target\n",
        "df.head()"
      ],
      "metadata": {
        "colab": {
          "base_uri": "https://localhost:8080/",
          "height": 206
        },
        "id": "A0ugDwmhNtrw",
        "outputId": "eb964b79-552e-4ea1-ee14-24504e641685"
      },
      "execution_count": 3,
      "outputs": [
        {
          "output_type": "execute_result",
          "data": {
            "text/plain": [
              "   MedInc  HouseAge  AveRooms  AveBedrms  Population  AveOccup  Latitude  \\\n",
              "0  8.3252      41.0  6.984127   1.023810       322.0  2.555556     37.88   \n",
              "1  8.3014      21.0  6.238137   0.971880      2401.0  2.109842     37.86   \n",
              "2  7.2574      52.0  8.288136   1.073446       496.0  2.802260     37.85   \n",
              "3  5.6431      52.0  5.817352   1.073059       558.0  2.547945     37.85   \n",
              "4  3.8462      52.0  6.281853   1.081081       565.0  2.181467     37.85   \n",
              "\n",
              "   Longitude  target  \n",
              "0    -122.23   4.526  \n",
              "1    -122.22   3.585  \n",
              "2    -122.24   3.521  \n",
              "3    -122.25   3.413  \n",
              "4    -122.25   3.422  "
            ],
            "text/html": [
              "\n",
              "  <div id=\"df-864862cf-a8c9-4a7a-bce9-9847427a1ea1\">\n",
              "    <div class=\"colab-df-container\">\n",
              "      <div>\n",
              "<style scoped>\n",
              "    .dataframe tbody tr th:only-of-type {\n",
              "        vertical-align: middle;\n",
              "    }\n",
              "\n",
              "    .dataframe tbody tr th {\n",
              "        vertical-align: top;\n",
              "    }\n",
              "\n",
              "    .dataframe thead th {\n",
              "        text-align: right;\n",
              "    }\n",
              "</style>\n",
              "<table border=\"1\" class=\"dataframe\">\n",
              "  <thead>\n",
              "    <tr style=\"text-align: right;\">\n",
              "      <th></th>\n",
              "      <th>MedInc</th>\n",
              "      <th>HouseAge</th>\n",
              "      <th>AveRooms</th>\n",
              "      <th>AveBedrms</th>\n",
              "      <th>Population</th>\n",
              "      <th>AveOccup</th>\n",
              "      <th>Latitude</th>\n",
              "      <th>Longitude</th>\n",
              "      <th>target</th>\n",
              "    </tr>\n",
              "  </thead>\n",
              "  <tbody>\n",
              "    <tr>\n",
              "      <th>0</th>\n",
              "      <td>8.3252</td>\n",
              "      <td>41.0</td>\n",
              "      <td>6.984127</td>\n",
              "      <td>1.023810</td>\n",
              "      <td>322.0</td>\n",
              "      <td>2.555556</td>\n",
              "      <td>37.88</td>\n",
              "      <td>-122.23</td>\n",
              "      <td>4.526</td>\n",
              "    </tr>\n",
              "    <tr>\n",
              "      <th>1</th>\n",
              "      <td>8.3014</td>\n",
              "      <td>21.0</td>\n",
              "      <td>6.238137</td>\n",
              "      <td>0.971880</td>\n",
              "      <td>2401.0</td>\n",
              "      <td>2.109842</td>\n",
              "      <td>37.86</td>\n",
              "      <td>-122.22</td>\n",
              "      <td>3.585</td>\n",
              "    </tr>\n",
              "    <tr>\n",
              "      <th>2</th>\n",
              "      <td>7.2574</td>\n",
              "      <td>52.0</td>\n",
              "      <td>8.288136</td>\n",
              "      <td>1.073446</td>\n",
              "      <td>496.0</td>\n",
              "      <td>2.802260</td>\n",
              "      <td>37.85</td>\n",
              "      <td>-122.24</td>\n",
              "      <td>3.521</td>\n",
              "    </tr>\n",
              "    <tr>\n",
              "      <th>3</th>\n",
              "      <td>5.6431</td>\n",
              "      <td>52.0</td>\n",
              "      <td>5.817352</td>\n",
              "      <td>1.073059</td>\n",
              "      <td>558.0</td>\n",
              "      <td>2.547945</td>\n",
              "      <td>37.85</td>\n",
              "      <td>-122.25</td>\n",
              "      <td>3.413</td>\n",
              "    </tr>\n",
              "    <tr>\n",
              "      <th>4</th>\n",
              "      <td>3.8462</td>\n",
              "      <td>52.0</td>\n",
              "      <td>6.281853</td>\n",
              "      <td>1.081081</td>\n",
              "      <td>565.0</td>\n",
              "      <td>2.181467</td>\n",
              "      <td>37.85</td>\n",
              "      <td>-122.25</td>\n",
              "      <td>3.422</td>\n",
              "    </tr>\n",
              "  </tbody>\n",
              "</table>\n",
              "</div>\n",
              "      <button class=\"colab-df-convert\" onclick=\"convertToInteractive('df-864862cf-a8c9-4a7a-bce9-9847427a1ea1')\"\n",
              "              title=\"Convert this dataframe to an interactive table.\"\n",
              "              style=\"display:none;\">\n",
              "        \n",
              "  <svg xmlns=\"http://www.w3.org/2000/svg\" height=\"24px\"viewBox=\"0 0 24 24\"\n",
              "       width=\"24px\">\n",
              "    <path d=\"M0 0h24v24H0V0z\" fill=\"none\"/>\n",
              "    <path d=\"M18.56 5.44l.94 2.06.94-2.06 2.06-.94-2.06-.94-.94-2.06-.94 2.06-2.06.94zm-11 1L8.5 8.5l.94-2.06 2.06-.94-2.06-.94L8.5 2.5l-.94 2.06-2.06.94zm10 10l.94 2.06.94-2.06 2.06-.94-2.06-.94-.94-2.06-.94 2.06-2.06.94z\"/><path d=\"M17.41 7.96l-1.37-1.37c-.4-.4-.92-.59-1.43-.59-.52 0-1.04.2-1.43.59L10.3 9.45l-7.72 7.72c-.78.78-.78 2.05 0 2.83L4 21.41c.39.39.9.59 1.41.59.51 0 1.02-.2 1.41-.59l7.78-7.78 2.81-2.81c.8-.78.8-2.07 0-2.86zM5.41 20L4 18.59l7.72-7.72 1.47 1.35L5.41 20z\"/>\n",
              "  </svg>\n",
              "      </button>\n",
              "      \n",
              "  <style>\n",
              "    .colab-df-container {\n",
              "      display:flex;\n",
              "      flex-wrap:wrap;\n",
              "      gap: 12px;\n",
              "    }\n",
              "\n",
              "    .colab-df-convert {\n",
              "      background-color: #E8F0FE;\n",
              "      border: none;\n",
              "      border-radius: 50%;\n",
              "      cursor: pointer;\n",
              "      display: none;\n",
              "      fill: #1967D2;\n",
              "      height: 32px;\n",
              "      padding: 0 0 0 0;\n",
              "      width: 32px;\n",
              "    }\n",
              "\n",
              "    .colab-df-convert:hover {\n",
              "      background-color: #E2EBFA;\n",
              "      box-shadow: 0px 1px 2px rgba(60, 64, 67, 0.3), 0px 1px 3px 1px rgba(60, 64, 67, 0.15);\n",
              "      fill: #174EA6;\n",
              "    }\n",
              "\n",
              "    [theme=dark] .colab-df-convert {\n",
              "      background-color: #3B4455;\n",
              "      fill: #D2E3FC;\n",
              "    }\n",
              "\n",
              "    [theme=dark] .colab-df-convert:hover {\n",
              "      background-color: #434B5C;\n",
              "      box-shadow: 0px 1px 3px 1px rgba(0, 0, 0, 0.15);\n",
              "      filter: drop-shadow(0px 1px 2px rgba(0, 0, 0, 0.3));\n",
              "      fill: #FFFFFF;\n",
              "    }\n",
              "  </style>\n",
              "\n",
              "      <script>\n",
              "        const buttonEl =\n",
              "          document.querySelector('#df-864862cf-a8c9-4a7a-bce9-9847427a1ea1 button.colab-df-convert');\n",
              "        buttonEl.style.display =\n",
              "          google.colab.kernel.accessAllowed ? 'block' : 'none';\n",
              "\n",
              "        async function convertToInteractive(key) {\n",
              "          const element = document.querySelector('#df-864862cf-a8c9-4a7a-bce9-9847427a1ea1');\n",
              "          const dataTable =\n",
              "            await google.colab.kernel.invokeFunction('convertToInteractive',\n",
              "                                                     [key], {});\n",
              "          if (!dataTable) return;\n",
              "\n",
              "          const docLinkHtml = 'Like what you see? Visit the ' +\n",
              "            '<a target=\"_blank\" href=https://colab.research.google.com/notebooks/data_table.ipynb>data table notebook</a>'\n",
              "            + ' to learn more about interactive tables.';\n",
              "          element.innerHTML = '';\n",
              "          dataTable['output_type'] = 'display_data';\n",
              "          await google.colab.output.renderOutput(dataTable, element);\n",
              "          const docLink = document.createElement('div');\n",
              "          docLink.innerHTML = docLinkHtml;\n",
              "          element.appendChild(docLink);\n",
              "        }\n",
              "      </script>\n",
              "    </div>\n",
              "  </div>\n",
              "  "
            ]
          },
          "metadata": {},
          "execution_count": 3
        }
      ]
    },
    {
      "cell_type": "markdown",
      "source": [
        "## 2. Dataset\n",
        "\n",
        "학습할 컬럼과 타겟 컬럼을 잘라내고, 텐서로 반환한다."
      ],
      "metadata": {
        "id": "sX5uUWLv1aB_"
      }
    },
    {
      "cell_type": "code",
      "source": [
        "class MyDataset(Dataset):\n",
        "    def __init__(self, df = df):\n",
        "        self.df = df\n",
        "        self.x = self.df.iloc[:,:-1].values\n",
        "        self.y = self.df.iloc[:,-1:].values\n",
        "\n",
        "    def __len__(self):\n",
        "        return len(self.df)\n",
        "    \n",
        "    def __getitem__(self, index):\n",
        "        x = self.x[index]\n",
        "        y = self.y[index]\n",
        "\n",
        "        return torch.tensor(x, dtype = torch.float), torch.tensor(y, dtype = torch.float)"
      ],
      "metadata": {
        "id": "_22wv7De1oeQ"
      },
      "execution_count": 4,
      "outputs": []
    },
    {
      "cell_type": "markdown",
      "source": [
        "## 3. DataLoader\n",
        "\n",
        "학습과 검증, 테스트 세트로 나눈다."
      ],
      "metadata": {
        "id": "P5XNQiTd2A4B"
      }
    },
    {
      "cell_type": "code",
      "source": [
        "import os\n",
        "num = os.cpu_count()"
      ],
      "metadata": {
        "id": "A80egCHt4wFl"
      },
      "execution_count": 1,
      "outputs": []
    },
    {
      "cell_type": "code",
      "source": [
        "def MyLoaders(df = df,\n",
        "              index = 20640,\n",
        "              batch_size = 128):\n",
        "    \n",
        "    ratio = [0.6, 0.2, 0.2]\n",
        "    train_cnt = int(index * ratio[0])\n",
        "    valid_cnt = int(index * ratio[1])\n",
        "    test_cnt = int(index * ratio[2])\n",
        "\n",
        "    train = df.iloc[:train_cnt,:].reset_index(drop = True)\n",
        "    valid = df.iloc[train_cnt:valid_cnt,:].reset_index(drop=True)\n",
        "    test = df.iloc[test_cnt:,:].reset_index(drop=True)\n",
        "\n",
        "    train_ds = MyDataset(df = train) # return (x, y) tenser\n",
        "    valid_ds = MyDataset(df = valid)\n",
        "    test_ds = MyDataset(df = test)\n",
        "\n",
        "    train_loader = DataLoader(train_ds,\n",
        "                              batch_size = batch_size,\n",
        "                              num_workers= num,\n",
        "                              shuffle=True,\n",
        "                              drop_last=True,\n",
        "                              pin_memory = True)\n",
        "    valid_loader = DataLoader(valid_ds,\n",
        "                              batch_size = batch_size,\n",
        "                              num_workers= num,\n",
        "                              shuffle=False,\n",
        "                              drop_last=False)\n",
        "    test_loader = DataLoader(test_ds,\n",
        "                              batch_size = batch_size,\n",
        "                              num_workers= num,\n",
        "                              shuffle=False,\n",
        "                              drop_last=False)\n",
        "    print(\"DataLoader train_valid_test split x,y\")\n",
        "\n",
        "    return train_loader, valid_loader, test_loader\n",
        "\n",
        "train_loader, valid_loader, test_loader = MyLoaders(df = df,\n",
        "                                                    index = 20640,\n",
        "                                                    batch_size = 128)"
      ],
      "metadata": {
        "id": "fTzw9srT40Be",
        "outputId": "a90a1ed3-d157-4b89-ad82-bfa0547b87c8",
        "colab": {
          "base_uri": "https://localhost:8080/"
        }
      },
      "execution_count": 6,
      "outputs": [
        {
          "output_type": "stream",
          "name": "stdout",
          "text": [
            "DataLoader train_valid_test split x,y\n"
          ]
        }
      ]
    },
    {
      "cell_type": "markdown",
      "source": [
        "## 4. 모델 생성"
      ],
      "metadata": {
        "id": "i06lJiVC234i"
      }
    },
    {
      "cell_type": "markdown",
      "source": [
        "### 4_1 Sequential 없이"
      ],
      "metadata": {
        "id": "8K7k29AS-aZy"
      }
    },
    {
      "cell_type": "code",
      "source": [
        "class Model(nn.Module):\n",
        "    def __init__(self, input_dim = 8, output_dim = 1):\n",
        "        super().__init__()\n",
        "        self.input_dim = input_dim\n",
        "        self.output_dim = output_dim\n",
        "\n",
        "        self.fc1 = nn.Linear(input_dim, 4)\n",
        "        self.relu = nn.ReLU()\n",
        "        self.fc2 = nn.Linear(4,2)\n",
        "        self.relu2 = nn.ReLU()\n",
        "        self.fc3 = nn.Linear(2, output_dim)\n",
        "    \n",
        "    def forward(self, x):\n",
        "        output = self.fc3(self.relu2(self.fc2(self.relu(self.fc1(x)))))\n",
        "        return output"
      ],
      "metadata": {
        "id": "Gy1TZV6b8SwI"
      },
      "execution_count": 9,
      "outputs": []
    },
    {
      "cell_type": "code",
      "source": [
        "# 외우세여\n",
        "device = torch.device('cuda:0') if torch.cuda.is_available() else torch.device(\"cpu\")\n",
        "\n",
        "## Colab -> GPU\n",
        "model = Model(input_dim = 8, output_dim = 1).to(device)\n",
        "model"
      ],
      "metadata": {
        "id": "Xo9KRTU9-Hk2",
        "outputId": "0427bd82-4887-4c7d-d7e0-810a3e9c83ae",
        "colab": {
          "base_uri": "https://localhost:8080/"
        }
      },
      "execution_count": 10,
      "outputs": [
        {
          "output_type": "execute_result",
          "data": {
            "text/plain": [
              "Model(\n",
              "  (fc1): Linear(in_features=8, out_features=4, bias=True)\n",
              "  (relu): ReLU()\n",
              "  (fc2): Linear(in_features=4, out_features=2, bias=True)\n",
              "  (relu2): ReLU()\n",
              "  (fc3): Linear(in_features=2, out_features=1, bias=True)\n",
              ")"
            ]
          },
          "metadata": {},
          "execution_count": 10
        }
      ]
    },
    {
      "cell_type": "markdown",
      "source": [
        "### 4_2 Sequential 사용"
      ],
      "metadata": {
        "id": "MfyVDuEC-kSG"
      }
    },
    {
      "cell_type": "code",
      "source": [
        "class Block(nn.Module):\n",
        "    ## 이 동네(이 셀과 아래 셀)는 아직 안 배워서 모르실 수 있지만, 쉽게 말하면, 은닉층을 쌓는 과정 중 하나입니다. \n",
        "    def __init__(self, input_dim, output_dim, use_batchnorm = True, dropout_p=.3):\n",
        "        super().__init__()\n",
        "        self.input_dim = input_dim\n",
        "        self.output_dim = output_dim\n",
        "        self.use_batchnorm = use_batchnorm\n",
        "        self.dropout_p =dropout_p\n",
        "\n",
        "        # Normalization - 학습 방해요소를 넣어서 학습을 robust 하게 학습하도록 합니다.\n",
        "        def get_regularizer(size, use_batchnorm):\n",
        "            return nn.BatchNorm1d(size) if use_batchnorm else nn.Dropout(dropout_p)\n",
        "\n",
        "        self.seq = nn.Sequential(\n",
        "            nn.Linear(input_dim, output_dim), # 은닉층 구성\n",
        "             nn.LeakyReLU(), # activation function\n",
        "             get_regularizer(output_dim, use_batchnorm) # 위 함수 \n",
        "        )\n",
        "\n",
        "    def forward(self, x):\n",
        "        return self.seq(x)"
      ],
      "metadata": {
        "id": "2hujKXab_H_5"
      },
      "execution_count": 11,
      "outputs": []
    },
    {
      "cell_type": "code",
      "source": [
        "class Model(nn.Module):\n",
        "    # 위 클래스를 확인하면서 보세요 : )\n",
        "    def __init__(self, input_dim, output_dim, use_batchnorm = True, dropout_p =.3):\n",
        "        super().__init__()\n",
        "        self.input_dim = input_dim\n",
        "        self.output_dim = output_dim\n",
        "        self.use_batchnorm = use_batchnorm\n",
        "        self.dropout_p = dropout_p\n",
        "\n",
        "        self.seq = nn.Sequential(\n",
        "            # 은닉층의 노드, 활성화 함수, normalization 요소를 배치하면서 쌓는 과정입니다. \n",
        "            Block(input_dim = input_dim, output_dim = 7, use_batchnorm = True, ), \n",
        "            Block(input_dim = 7, output_dim = 5, use_batchnorm = True, ),##\n",
        "            Block(input_dim = 5, output_dim = 3, use_batchnorm = True, ),\n",
        "            Block(input_dim = 3, output_dim = 2, use_batchnorm = True, ),\n",
        "            nn.Linear(2, output_dim)\n",
        "        )\n",
        "\n",
        "    def forward(self, x):\n",
        "        return self.seq(x)"
      ],
      "metadata": {
        "id": "GaNwBWNp-rHK"
      },
      "execution_count": 12,
      "outputs": []
    },
    {
      "cell_type": "markdown",
      "source": [
        "## 5. Run_train"
      ],
      "metadata": {
        "id": "5QgMdaKt2-kG"
      }
    }
  ]
}