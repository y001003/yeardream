{
  "nbformat": 4,
  "nbformat_minor": 0,
  "metadata": {
    "colab": {
      "name": "확률및통계2_1차원데이터분석.ipynb",
      "provenance": [],
      "collapsed_sections": [],
      "include_colab_link": true
    },
    "kernelspec": {
      "name": "python3",
      "display_name": "Python 3"
    },
    "language_info": {
      "name": "python"
    }
  },
  "cells": [
    {
      "cell_type": "markdown",
      "metadata": {
        "id": "view-in-github",
        "colab_type": "text"
      },
      "source": [
        "<a href=\"https://colab.research.google.com/github/y001003/yeardream/blob/main/ML/math/%E1%84%92%E1%85%AA%E1%86%A8%E1%84%85%E1%85%B2%E1%86%AF%E1%84%86%E1%85%B5%E1%86%BE%E1%84%90%E1%85%A9%E1%86%BC%E1%84%80%E1%85%A82_1%E1%84%8E%E1%85%A1%E1%84%8B%E1%85%AF%E1%86%AB%E1%84%83%E1%85%A6%E1%84%8B%E1%85%B5%E1%84%90%E1%85%A5%E1%84%87%E1%85%AE%E1%86%AB%E1%84%89%E1%85%A5%E1%86%A8.ipynb\" target=\"_parent\"><img src=\"https://colab.research.google.com/assets/colab-badge.svg\" alt=\"Open In Colab\"/></a>"
      ]
    },
    {
      "cell_type": "markdown",
      "source": [
        "## 변수의 분류 기준"
      ],
      "metadata": {
        "id": "FmG1bpyrXfXy"
      }
    },
    {
      "cell_type": "markdown",
      "source": [
        "    - 질적 변수\n",
        "        - 변수의 값이 특정 변주에 포함되도록 표현 가능한 변수\n",
        "        - 성별, 색상, 종교\n",
        "    - 양적 변수\n",
        "        - 변수의 값을 숫자로 나타나래 수 있는 변수\n",
        "        - 소득, 몸무게"
      ],
      "metadata": {
        "id": "9z-Bf-QuYPB4"
      }
    },
    {
      "cell_type": "markdown",
      "source": [
        "    - 이산 변수Discrete variable\n",
        "        - 셀수 있는 변수\n",
        "        - 직원의 수, 물건 갯수\n",
        "    - 연속 변수continuous variable\n",
        "        - 셀 수 없는 변수\n",
        "        - 사람의 키, 몸무게, 나이, 가구의 소득 등"
      ],
      "metadata": {
        "id": "PEeEH3vbYlkj"
      }
    },
    {
      "cell_type": "markdown",
      "source": [
        "    - 간격 변수\n",
        "        - 대소 관계 그 차이에도 의미가 있는 변수\n",
        "        - 연도, 온도\n",
        "    - 비율 변수\n",
        "        - 대소 관계, 차이, 비 모두 의미가 있는 변수\n",
        "        - 길이, 무게"
      ],
      "metadata": {
        "id": "nykVDBa5ZQZ0"
      }
    },
    {
      "cell_type": "markdown",
      "source": [
        "    - 명목 변수\n",
        "        - 단순 분류 위한 변수\n",
        "        - 전화번호, 학생번호\n",
        "    - 순위 변수\n",
        "        - 순서 및 대소관계에 의미를 둔 변수\n",
        "        - 성적 순위, 설문 만족도 조사"
      ],
      "metadata": {
        "id": "zbOuEwhgZg04"
      }
    },
    {
      "cell_type": "markdown",
      "source": [
        "# 데이터 분석\n",
        "\n",
        "평균 혹은 분산 등의 수치 지표에 따라 데이터를 요약\n",
        "\n",
        "그림을 그려 시각적으로 데이터를 살펴보는 방법"
      ],
      "metadata": {
        "id": "O9qrPYFSais1"
      }
    },
    {
      "cell_type": "markdown",
      "source": [
        "# 1차원 분석"
      ],
      "metadata": {
        "id": "sTCHxHsNY3uS"
      }
    },
    {
      "cell_type": "markdown",
      "source": [
        "각 데이터 컬럼 하나만 가지고 와서 분석하는 것"
      ],
      "metadata": {
        "id": "fQc7M0xKZ1-g"
      }
    },
    {
      "cell_type": "code",
      "metadata": {
        "id": "79UUumVJ3JOM"
      },
      "source": [
        "from sklearn.datasets import load_boston\n",
        "import pandas as pd"
      ],
      "execution_count": 1,
      "outputs": []
    },
    {
      "cell_type": "code",
      "metadata": {
        "id": "oHhR7p40GO10"
      },
      "source": [
        "# 수치 표현 규칙\n",
        "# Colab의 출력을 소수점 이하 3자리로 제한\n",
        "%precision 3\n",
        "# Pandas DataFrame의 출력을 소수점 이하 3자리로 제한\n",
        "pd.set_option('precision', 3)"
      ],
      "execution_count": 7,
      "outputs": []
    },
    {
      "cell_type": "markdown",
      "source": [
        "## 대표값 평균값 중앙값 최빈값"
      ],
      "metadata": {
        "id": "dbMBP2dTj9ga"
      }
    },
    {
      "cell_type": "markdown",
      "source": [
        "### 대표값\n",
        "    주저진 데이터를 대표하는 특정 값\n",
        "    데이터를 하나의의 값으로 요약한 지표\n",
        "    예) 평귱값, 중앙값, 최빈값 등"
      ],
      "metadata": {
        "id": "4-3H_X6PbHUh"
      }
    },
    {
      "cell_type": "code",
      "metadata": {
        "id": "0QTQXXJWs6Y-"
      },
      "source": [
        "boston_houseprice_data = load_boston()"
      ],
      "execution_count": null,
      "outputs": []
    },
    {
      "cell_type": "code",
      "metadata": {
        "id": "qhRmBgqHtS_8"
      },
      "source": [
        "df = pd.DataFrame(\n",
        "    data = boston_houseprice_data.data, \n",
        "    columns = boston_houseprice_data.feature_names\n",
        ")"
      ],
      "execution_count": 4,
      "outputs": []
    },
    {
      "cell_type": "code",
      "metadata": {
        "colab": {
          "base_uri": "https://localhost:8080/",
          "height": 206
        },
        "id": "tpzKyjysuoOC",
        "outputId": "17b5df89-111b-477a-d2dc-756d47a38c9a"
      },
      "source": [
        "df.head()"
      ],
      "execution_count": 5,
      "outputs": [
        {
          "output_type": "execute_result",
          "data": {
            "text/plain": [
              "    CRIM    ZN  INDUS  CHAS    NOX     RM   AGE    DIS  RAD    TAX  PTRATIO  \\\n",
              "0  0.006  18.0   2.31   0.0  0.538  6.575  65.2  4.090  1.0  296.0     15.3   \n",
              "1  0.027   0.0   7.07   0.0  0.469  6.421  78.9  4.967  2.0  242.0     17.8   \n",
              "2  0.027   0.0   7.07   0.0  0.469  7.185  61.1  4.967  2.0  242.0     17.8   \n",
              "3  0.032   0.0   2.18   0.0  0.458  6.998  45.8  6.062  3.0  222.0     18.7   \n",
              "4  0.069   0.0   2.18   0.0  0.458  7.147  54.2  6.062  3.0  222.0     18.7   \n",
              "\n",
              "        B  LSTAT  \n",
              "0  396.90   4.98  \n",
              "1  396.90   9.14  \n",
              "2  392.83   4.03  \n",
              "3  394.63   2.94  \n",
              "4  396.90   5.33  "
            ],
            "text/html": [
              "\n",
              "  <div id=\"df-899b5101-a7ad-4931-bea9-314bb73fa92c\">\n",
              "    <div class=\"colab-df-container\">\n",
              "      <div>\n",
              "<style scoped>\n",
              "    .dataframe tbody tr th:only-of-type {\n",
              "        vertical-align: middle;\n",
              "    }\n",
              "\n",
              "    .dataframe tbody tr th {\n",
              "        vertical-align: top;\n",
              "    }\n",
              "\n",
              "    .dataframe thead th {\n",
              "        text-align: right;\n",
              "    }\n",
              "</style>\n",
              "<table border=\"1\" class=\"dataframe\">\n",
              "  <thead>\n",
              "    <tr style=\"text-align: right;\">\n",
              "      <th></th>\n",
              "      <th>CRIM</th>\n",
              "      <th>ZN</th>\n",
              "      <th>INDUS</th>\n",
              "      <th>CHAS</th>\n",
              "      <th>NOX</th>\n",
              "      <th>RM</th>\n",
              "      <th>AGE</th>\n",
              "      <th>DIS</th>\n",
              "      <th>RAD</th>\n",
              "      <th>TAX</th>\n",
              "      <th>PTRATIO</th>\n",
              "      <th>B</th>\n",
              "      <th>LSTAT</th>\n",
              "    </tr>\n",
              "  </thead>\n",
              "  <tbody>\n",
              "    <tr>\n",
              "      <th>0</th>\n",
              "      <td>0.006</td>\n",
              "      <td>18.0</td>\n",
              "      <td>2.31</td>\n",
              "      <td>0.0</td>\n",
              "      <td>0.538</td>\n",
              "      <td>6.575</td>\n",
              "      <td>65.2</td>\n",
              "      <td>4.090</td>\n",
              "      <td>1.0</td>\n",
              "      <td>296.0</td>\n",
              "      <td>15.3</td>\n",
              "      <td>396.90</td>\n",
              "      <td>4.98</td>\n",
              "    </tr>\n",
              "    <tr>\n",
              "      <th>1</th>\n",
              "      <td>0.027</td>\n",
              "      <td>0.0</td>\n",
              "      <td>7.07</td>\n",
              "      <td>0.0</td>\n",
              "      <td>0.469</td>\n",
              "      <td>6.421</td>\n",
              "      <td>78.9</td>\n",
              "      <td>4.967</td>\n",
              "      <td>2.0</td>\n",
              "      <td>242.0</td>\n",
              "      <td>17.8</td>\n",
              "      <td>396.90</td>\n",
              "      <td>9.14</td>\n",
              "    </tr>\n",
              "    <tr>\n",
              "      <th>2</th>\n",
              "      <td>0.027</td>\n",
              "      <td>0.0</td>\n",
              "      <td>7.07</td>\n",
              "      <td>0.0</td>\n",
              "      <td>0.469</td>\n",
              "      <td>7.185</td>\n",
              "      <td>61.1</td>\n",
              "      <td>4.967</td>\n",
              "      <td>2.0</td>\n",
              "      <td>242.0</td>\n",
              "      <td>17.8</td>\n",
              "      <td>392.83</td>\n",
              "      <td>4.03</td>\n",
              "    </tr>\n",
              "    <tr>\n",
              "      <th>3</th>\n",
              "      <td>0.032</td>\n",
              "      <td>0.0</td>\n",
              "      <td>2.18</td>\n",
              "      <td>0.0</td>\n",
              "      <td>0.458</td>\n",
              "      <td>6.998</td>\n",
              "      <td>45.8</td>\n",
              "      <td>6.062</td>\n",
              "      <td>3.0</td>\n",
              "      <td>222.0</td>\n",
              "      <td>18.7</td>\n",
              "      <td>394.63</td>\n",
              "      <td>2.94</td>\n",
              "    </tr>\n",
              "    <tr>\n",
              "      <th>4</th>\n",
              "      <td>0.069</td>\n",
              "      <td>0.0</td>\n",
              "      <td>2.18</td>\n",
              "      <td>0.0</td>\n",
              "      <td>0.458</td>\n",
              "      <td>7.147</td>\n",
              "      <td>54.2</td>\n",
              "      <td>6.062</td>\n",
              "      <td>3.0</td>\n",
              "      <td>222.0</td>\n",
              "      <td>18.7</td>\n",
              "      <td>396.90</td>\n",
              "      <td>5.33</td>\n",
              "    </tr>\n",
              "  </tbody>\n",
              "</table>\n",
              "</div>\n",
              "      <button class=\"colab-df-convert\" onclick=\"convertToInteractive('df-899b5101-a7ad-4931-bea9-314bb73fa92c')\"\n",
              "              title=\"Convert this dataframe to an interactive table.\"\n",
              "              style=\"display:none;\">\n",
              "        \n",
              "  <svg xmlns=\"http://www.w3.org/2000/svg\" height=\"24px\"viewBox=\"0 0 24 24\"\n",
              "       width=\"24px\">\n",
              "    <path d=\"M0 0h24v24H0V0z\" fill=\"none\"/>\n",
              "    <path d=\"M18.56 5.44l.94 2.06.94-2.06 2.06-.94-2.06-.94-.94-2.06-.94 2.06-2.06.94zm-11 1L8.5 8.5l.94-2.06 2.06-.94-2.06-.94L8.5 2.5l-.94 2.06-2.06.94zm10 10l.94 2.06.94-2.06 2.06-.94-2.06-.94-.94-2.06-.94 2.06-2.06.94z\"/><path d=\"M17.41 7.96l-1.37-1.37c-.4-.4-.92-.59-1.43-.59-.52 0-1.04.2-1.43.59L10.3 9.45l-7.72 7.72c-.78.78-.78 2.05 0 2.83L4 21.41c.39.39.9.59 1.41.59.51 0 1.02-.2 1.41-.59l7.78-7.78 2.81-2.81c.8-.78.8-2.07 0-2.86zM5.41 20L4 18.59l7.72-7.72 1.47 1.35L5.41 20z\"/>\n",
              "  </svg>\n",
              "      </button>\n",
              "      \n",
              "  <style>\n",
              "    .colab-df-container {\n",
              "      display:flex;\n",
              "      flex-wrap:wrap;\n",
              "      gap: 12px;\n",
              "    }\n",
              "\n",
              "    .colab-df-convert {\n",
              "      background-color: #E8F0FE;\n",
              "      border: none;\n",
              "      border-radius: 50%;\n",
              "      cursor: pointer;\n",
              "      display: none;\n",
              "      fill: #1967D2;\n",
              "      height: 32px;\n",
              "      padding: 0 0 0 0;\n",
              "      width: 32px;\n",
              "    }\n",
              "\n",
              "    .colab-df-convert:hover {\n",
              "      background-color: #E2EBFA;\n",
              "      box-shadow: 0px 1px 2px rgba(60, 64, 67, 0.3), 0px 1px 3px 1px rgba(60, 64, 67, 0.15);\n",
              "      fill: #174EA6;\n",
              "    }\n",
              "\n",
              "    [theme=dark] .colab-df-convert {\n",
              "      background-color: #3B4455;\n",
              "      fill: #D2E3FC;\n",
              "    }\n",
              "\n",
              "    [theme=dark] .colab-df-convert:hover {\n",
              "      background-color: #434B5C;\n",
              "      box-shadow: 0px 1px 3px 1px rgba(0, 0, 0, 0.15);\n",
              "      filter: drop-shadow(0px 1px 2px rgba(0, 0, 0, 0.3));\n",
              "      fill: #FFFFFF;\n",
              "    }\n",
              "  </style>\n",
              "\n",
              "      <script>\n",
              "        const buttonEl =\n",
              "          document.querySelector('#df-899b5101-a7ad-4931-bea9-314bb73fa92c button.colab-df-convert');\n",
              "        buttonEl.style.display =\n",
              "          google.colab.kernel.accessAllowed ? 'block' : 'none';\n",
              "\n",
              "        async function convertToInteractive(key) {\n",
              "          const element = document.querySelector('#df-899b5101-a7ad-4931-bea9-314bb73fa92c');\n",
              "          const dataTable =\n",
              "            await google.colab.kernel.invokeFunction('convertToInteractive',\n",
              "                                                     [key], {});\n",
              "          if (!dataTable) return;\n",
              "\n",
              "          const docLinkHtml = 'Like what you see? Visit the ' +\n",
              "            '<a target=\"_blank\" href=https://colab.research.google.com/notebooks/data_table.ipynb>data table notebook</a>'\n",
              "            + ' to learn more about interactive tables.';\n",
              "          element.innerHTML = '';\n",
              "          dataTable['output_type'] = 'display_data';\n",
              "          await google.colab.output.renderOutput(dataTable, element);\n",
              "          const docLink = document.createElement('div');\n",
              "          docLink.innerHTML = docLinkHtml;\n",
              "          element.appendChild(docLink);\n",
              "        }\n",
              "      </script>\n",
              "    </div>\n",
              "  </div>\n",
              "  "
            ]
          },
          "metadata": {},
          "execution_count": 5
        }
      ]
    },
    {
      "cell_type": "code",
      "metadata": {
        "colab": {
          "base_uri": "https://localhost:8080/"
        },
        "id": "By7noxUUs9HU",
        "outputId": "c63f6216-bfe7-41a9-d45d-26fb057fbcd0"
      },
      "source": [
        "df['AGE']"
      ],
      "execution_count": 6,
      "outputs": [
        {
          "output_type": "execute_result",
          "data": {
            "text/plain": [
              "0      65.2\n",
              "1      78.9\n",
              "2      61.1\n",
              "3      45.8\n",
              "4      54.2\n",
              "       ... \n",
              "501    69.1\n",
              "502    76.7\n",
              "503    91.0\n",
              "504    89.3\n",
              "505    80.8\n",
              "Name: AGE, Length: 506, dtype: float64"
            ]
          },
          "metadata": {},
          "execution_count": 6
        }
      ]
    },
    {
      "cell_type": "markdown",
      "source": [
        "### 평균값 ( Mean / Average)\n",
        "    - 가장 잘 알려진 대표값\n",
        "    - 데이터 값을 모두 더한뒤, 데이터 갯수로 나뉘어서 계산"
      ],
      "metadata": {
        "id": "RVCvGnB2blwQ"
      }
    },
    {
      "cell_type": "code",
      "metadata": {
        "colab": {
          "base_uri": "https://localhost:8080/"
        },
        "id": "O1pyi_zitD9z",
        "outputId": "d1c8c85d-35b3-4519-e668-53cc1e792189"
      },
      "source": [
        "sum(df['AGE']) / len(df['AGE'])"
      ],
      "execution_count": 11,
      "outputs": [
        {
          "output_type": "execute_result",
          "data": {
            "text/plain": [
              "68.575"
            ]
          },
          "metadata": {},
          "execution_count": 11
        }
      ]
    },
    {
      "cell_type": "code",
      "metadata": {
        "colab": {
          "base_uri": "https://localhost:8080/"
        },
        "id": "Maf4aajcJpMd",
        "outputId": "ba158c8e-59e3-4150-d94d-05212a4186e4"
      },
      "source": [
        "# Pandas의 계산 방법\n",
        "df['AGE'].mean()"
      ],
      "execution_count": null,
      "outputs": [
        {
          "output_type": "execute_result",
          "data": {
            "text/plain": [
              "68.575"
            ]
          },
          "metadata": {},
          "execution_count": 8
        }
      ]
    },
    {
      "cell_type": "code",
      "metadata": {
        "id": "q_MIHmeyKp5q"
      },
      "source": [
        "import numpy as np"
      ],
      "execution_count": 9,
      "outputs": []
    },
    {
      "cell_type": "code",
      "metadata": {
        "colab": {
          "base_uri": "https://localhost:8080/"
        },
        "id": "aDu8fLjPK1LV",
        "outputId": "2d401956-6b54-4ef4-a7ac-48874f49644c"
      },
      "source": [
        "# Numpy의 평균 계산 방법\n",
        "np.mean(df['AGE'])"
      ],
      "execution_count": 10,
      "outputs": [
        {
          "output_type": "execute_result",
          "data": {
            "text/plain": [
              "68.575"
            ]
          },
          "metadata": {},
          "execution_count": 10
        }
      ]
    },
    {
      "cell_type": "markdown",
      "source": [
        "### 중앙값(Median)\n",
        "    - 데이터를 크기 순서대로 나열했을때, 정확하게 중앙에 위치한 값\n",
        "    - 데이터의 이상값이 존재할때, 그 이상값의 영향을 덜 받는다.\n",
        "    - 데이터의 갯수가 n개(홀수) 라면 (n+1)/2 번째 데이터\n"
      ],
      "metadata": {
        "id": "2se-iHOLhcXl"
      }
    },
    {
      "cell_type": "code",
      "metadata": {
        "colab": {
          "base_uri": "https://localhost:8080/"
        },
        "id": "w6a-ur_8SyX4",
        "outputId": "0658f5b7-78e1-467c-cd44-33e77369c158"
      },
      "source": [
        "# len 계산\n",
        "len(df['AGE'])"
      ],
      "execution_count": null,
      "outputs": [
        {
          "output_type": "execute_result",
          "data": {
            "text/plain": [
              "506"
            ]
          },
          "metadata": {},
          "execution_count": 11
        }
      ]
    },
    {
      "cell_type": "code",
      "metadata": {
        "colab": {
          "base_uri": "https://localhost:8080/"
        },
        "id": "yPtZoUCSSU8j",
        "outputId": "c02f0b96-31cc-469f-ee3b-296fb25622cc"
      },
      "source": [
        "# 253번째, 254번째 값\n",
        "print(\n",
        "    list(df['AGE'].sort_values())[int(len(df['AGE'])/2 -1)], \n",
        "    list(df['AGE'].sort_values())[int(len(df['AGE'])/2)]\n",
        ")\n",
        "# 중앙값 계산 : 253번째 값과 254번째 값의 평균값\n",
        "print(\n",
        "    (\n",
        "        list(df['AGE'].sort_values())[int(len(df['AGE'])/2 -1)] +\n",
        "        list(df['AGE'].sort_values())[int(len(df['AGE'])/2)]\n",
        "    ) / 2\n",
        ")"
      ],
      "execution_count": 13,
      "outputs": [
        {
          "output_type": "stream",
          "name": "stdout",
          "text": [
            "77.3 77.7\n",
            "77.5\n"
          ]
        }
      ]
    },
    {
      "cell_type": "code",
      "metadata": {
        "colab": {
          "base_uri": "https://localhost:8080/"
        },
        "id": "VO3t-iNSK2_Q",
        "outputId": "60d62403-b768-4376-b498-39fe3f009c58"
      },
      "source": [
        "df['AGE'].median()"
      ],
      "execution_count": 14,
      "outputs": [
        {
          "output_type": "execute_result",
          "data": {
            "text/plain": [
              "77.500"
            ]
          },
          "metadata": {},
          "execution_count": 14
        }
      ]
    },
    {
      "cell_type": "code",
      "metadata": {
        "colab": {
          "base_uri": "https://localhost:8080/"
        },
        "id": "iQoBPzoYSSTE",
        "outputId": "954c3d5f-e63b-4363-c583-92d74f16f728"
      },
      "source": [
        "np.median(df['AGE'])"
      ],
      "execution_count": 15,
      "outputs": [
        {
          "output_type": "execute_result",
          "data": {
            "text/plain": [
              "77.500"
            ]
          },
          "metadata": {},
          "execution_count": 15
        }
      ]
    },
    {
      "cell_type": "markdown",
      "source": [
        "### 최빈값(Mode)\n",
        "    - 데이터에서 가장 많이 나타나는 값\n",
        "    - 주로 볌주형 변수(질적 변수)의 대표값을 구할 때 사용됨\n",
        "    - 예) 영화관 사용하는 가장 많은 연령대 - 20대"
      ],
      "metadata": {
        "id": "gUh0CXvyjXFu"
      }
    },
    {
      "cell_type": "code",
      "metadata": {
        "colab": {
          "base_uri": "https://localhost:8080/"
        },
        "id": "YdpF_tuSUSdK",
        "outputId": "a90a0a3e-dd20-4d66-a197-a1831b639ecf"
      },
      "source": [
        "df['AGE'].mode()"
      ],
      "execution_count": 16,
      "outputs": [
        {
          "output_type": "execute_result",
          "data": {
            "text/plain": [
              "0    100.0\n",
              "dtype: float64"
            ]
          },
          "metadata": {},
          "execution_count": 16
        }
      ]
    },
    {
      "cell_type": "code",
      "metadata": {
        "id": "BMsPcT_pXRCu",
        "colab": {
          "base_uri": "https://localhost:8080/",
          "height": 313
        },
        "outputId": "1df1e11b-9aac-4c41-d575-d1d272f87ef2"
      },
      "source": [
        "# Numpy에는 mode 계산 함수가 없다.\n",
        "np.mode(df['AGE'])"
      ],
      "execution_count": 17,
      "outputs": [
        {
          "output_type": "error",
          "ename": "AttributeError",
          "evalue": "ignored",
          "traceback": [
            "\u001b[0;31m---------------------------------------------------------------------------\u001b[0m",
            "\u001b[0;31mAttributeError\u001b[0m                            Traceback (most recent call last)",
            "\u001b[0;32m<ipython-input-17-2c1d092b1a35>\u001b[0m in \u001b[0;36m<module>\u001b[0;34m()\u001b[0m\n\u001b[1;32m      1\u001b[0m \u001b[0;31m# Numpy에는 mode 계산 함수가 없다.\u001b[0m\u001b[0;34m\u001b[0m\u001b[0;34m\u001b[0m\u001b[0;34m\u001b[0m\u001b[0m\n\u001b[0;32m----> 2\u001b[0;31m \u001b[0mnp\u001b[0m\u001b[0;34m.\u001b[0m\u001b[0mmode\u001b[0m\u001b[0;34m(\u001b[0m\u001b[0mdf\u001b[0m\u001b[0;34m[\u001b[0m\u001b[0;34m'AGE'\u001b[0m\u001b[0;34m]\u001b[0m\u001b[0;34m)\u001b[0m\u001b[0;34m\u001b[0m\u001b[0;34m\u001b[0m\u001b[0m\n\u001b[0m",
            "\u001b[0;32m/usr/local/lib/python3.7/dist-packages/numpy/__init__.py\u001b[0m in \u001b[0;36m__getattr__\u001b[0;34m(attr)\u001b[0m\n\u001b[1;32m    312\u001b[0m \u001b[0;34m\u001b[0m\u001b[0m\n\u001b[1;32m    313\u001b[0m             raise AttributeError(\"module {!r} has no attribute \"\n\u001b[0;32m--> 314\u001b[0;31m                                  \"{!r}\".format(__name__, attr))\n\u001b[0m\u001b[1;32m    315\u001b[0m \u001b[0;34m\u001b[0m\u001b[0m\n\u001b[1;32m    316\u001b[0m         \u001b[0;32mdef\u001b[0m \u001b[0m__dir__\u001b[0m\u001b[0;34m(\u001b[0m\u001b[0;34m)\u001b[0m\u001b[0;34m:\u001b[0m\u001b[0;34m\u001b[0m\u001b[0;34m\u001b[0m\u001b[0m\n",
            "\u001b[0;31mAttributeError\u001b[0m: module 'numpy' has no attribute 'mode'"
          ]
        }
      ]
    },
    {
      "cell_type": "markdown",
      "source": [
        "## 산포도 - 분산,표준편차, 사분위"
      ],
      "metadata": {
        "id": "fjftNxL3kJWb"
      }
    },
    {
      "cell_type": "markdown",
      "source": [
        "### 산포도\n",
        "    - 대표값을 중심으로 자료들이 흩어져 있는 정도\n",
        "    - 하나의 수치로서 표현된다.\n",
        "        - 수치가 작을수록 자료값이 대표값에 밀집\n",
        "        - 수치가 클수록 자료값이 대표값 중심에서 멀리 흩어져 있다.\n",
        "    - 분산, 표준편차, 사분위\n",
        "\n",
        "#### 편차 \n",
        "    - 각 데이터가 평균으로부터 어느 정도 떨어져 있는지\n",
        "    - (평균 - 데이터값)\n",
        "    - 편차의 합 = 0 -> 편차의 평균 = 0\n",
        "    - 따라서 분산을 활용해서 떨어진 정도 측정"
      ],
      "metadata": {
        "id": "NIY-X1EZkM-F"
      }
    },
    {
      "cell_type": "code",
      "metadata": {
        "id": "M691Uyi6XTKL"
      },
      "source": [
        "score_a = [42, 69, 56, 41, 57, 48, 65, 49, 65, 58]"
      ],
      "execution_count": 18,
      "outputs": []
    },
    {
      "cell_type": "code",
      "metadata": {
        "id": "AdeWTOCdXXCu"
      },
      "source": [
        "df_score_a = pd.DataFrame(score_a)"
      ],
      "execution_count": 19,
      "outputs": []
    },
    {
      "cell_type": "code",
      "metadata": {
        "id": "8k3a-q5BXneZ"
      },
      "source": [
        "score_b = [50, 60, 58, 54, 51, 56, 57, 53, 52, 59]"
      ],
      "execution_count": 20,
      "outputs": []
    },
    {
      "cell_type": "code",
      "metadata": {
        "id": "VlWx06CWX2vP"
      },
      "source": [
        "df_score_b = pd.DataFrame(score_b)"
      ],
      "execution_count": 21,
      "outputs": []
    },
    {
      "cell_type": "code",
      "metadata": {
        "colab": {
          "base_uri": "https://localhost:8080/",
          "height": 363
        },
        "id": "ii_H2qAvbyGw",
        "outputId": "3c042ebe-68c3-42fc-d809-22637b2e7411"
      },
      "source": [
        "df_score_a"
      ],
      "execution_count": 22,
      "outputs": [
        {
          "output_type": "execute_result",
          "data": {
            "text/plain": [
              "    0\n",
              "0  42\n",
              "1  69\n",
              "2  56\n",
              "3  41\n",
              "4  57\n",
              "5  48\n",
              "6  65\n",
              "7  49\n",
              "8  65\n",
              "9  58"
            ],
            "text/html": [
              "\n",
              "  <div id=\"df-a5f2a685-4dad-4fb1-8b3c-1ce6afc86aef\">\n",
              "    <div class=\"colab-df-container\">\n",
              "      <div>\n",
              "<style scoped>\n",
              "    .dataframe tbody tr th:only-of-type {\n",
              "        vertical-align: middle;\n",
              "    }\n",
              "\n",
              "    .dataframe tbody tr th {\n",
              "        vertical-align: top;\n",
              "    }\n",
              "\n",
              "    .dataframe thead th {\n",
              "        text-align: right;\n",
              "    }\n",
              "</style>\n",
              "<table border=\"1\" class=\"dataframe\">\n",
              "  <thead>\n",
              "    <tr style=\"text-align: right;\">\n",
              "      <th></th>\n",
              "      <th>0</th>\n",
              "    </tr>\n",
              "  </thead>\n",
              "  <tbody>\n",
              "    <tr>\n",
              "      <th>0</th>\n",
              "      <td>42</td>\n",
              "    </tr>\n",
              "    <tr>\n",
              "      <th>1</th>\n",
              "      <td>69</td>\n",
              "    </tr>\n",
              "    <tr>\n",
              "      <th>2</th>\n",
              "      <td>56</td>\n",
              "    </tr>\n",
              "    <tr>\n",
              "      <th>3</th>\n",
              "      <td>41</td>\n",
              "    </tr>\n",
              "    <tr>\n",
              "      <th>4</th>\n",
              "      <td>57</td>\n",
              "    </tr>\n",
              "    <tr>\n",
              "      <th>5</th>\n",
              "      <td>48</td>\n",
              "    </tr>\n",
              "    <tr>\n",
              "      <th>6</th>\n",
              "      <td>65</td>\n",
              "    </tr>\n",
              "    <tr>\n",
              "      <th>7</th>\n",
              "      <td>49</td>\n",
              "    </tr>\n",
              "    <tr>\n",
              "      <th>8</th>\n",
              "      <td>65</td>\n",
              "    </tr>\n",
              "    <tr>\n",
              "      <th>9</th>\n",
              "      <td>58</td>\n",
              "    </tr>\n",
              "  </tbody>\n",
              "</table>\n",
              "</div>\n",
              "      <button class=\"colab-df-convert\" onclick=\"convertToInteractive('df-a5f2a685-4dad-4fb1-8b3c-1ce6afc86aef')\"\n",
              "              title=\"Convert this dataframe to an interactive table.\"\n",
              "              style=\"display:none;\">\n",
              "        \n",
              "  <svg xmlns=\"http://www.w3.org/2000/svg\" height=\"24px\"viewBox=\"0 0 24 24\"\n",
              "       width=\"24px\">\n",
              "    <path d=\"M0 0h24v24H0V0z\" fill=\"none\"/>\n",
              "    <path d=\"M18.56 5.44l.94 2.06.94-2.06 2.06-.94-2.06-.94-.94-2.06-.94 2.06-2.06.94zm-11 1L8.5 8.5l.94-2.06 2.06-.94-2.06-.94L8.5 2.5l-.94 2.06-2.06.94zm10 10l.94 2.06.94-2.06 2.06-.94-2.06-.94-.94-2.06-.94 2.06-2.06.94z\"/><path d=\"M17.41 7.96l-1.37-1.37c-.4-.4-.92-.59-1.43-.59-.52 0-1.04.2-1.43.59L10.3 9.45l-7.72 7.72c-.78.78-.78 2.05 0 2.83L4 21.41c.39.39.9.59 1.41.59.51 0 1.02-.2 1.41-.59l7.78-7.78 2.81-2.81c.8-.78.8-2.07 0-2.86zM5.41 20L4 18.59l7.72-7.72 1.47 1.35L5.41 20z\"/>\n",
              "  </svg>\n",
              "      </button>\n",
              "      \n",
              "  <style>\n",
              "    .colab-df-container {\n",
              "      display:flex;\n",
              "      flex-wrap:wrap;\n",
              "      gap: 12px;\n",
              "    }\n",
              "\n",
              "    .colab-df-convert {\n",
              "      background-color: #E8F0FE;\n",
              "      border: none;\n",
              "      border-radius: 50%;\n",
              "      cursor: pointer;\n",
              "      display: none;\n",
              "      fill: #1967D2;\n",
              "      height: 32px;\n",
              "      padding: 0 0 0 0;\n",
              "      width: 32px;\n",
              "    }\n",
              "\n",
              "    .colab-df-convert:hover {\n",
              "      background-color: #E2EBFA;\n",
              "      box-shadow: 0px 1px 2px rgba(60, 64, 67, 0.3), 0px 1px 3px 1px rgba(60, 64, 67, 0.15);\n",
              "      fill: #174EA6;\n",
              "    }\n",
              "\n",
              "    [theme=dark] .colab-df-convert {\n",
              "      background-color: #3B4455;\n",
              "      fill: #D2E3FC;\n",
              "    }\n",
              "\n",
              "    [theme=dark] .colab-df-convert:hover {\n",
              "      background-color: #434B5C;\n",
              "      box-shadow: 0px 1px 3px 1px rgba(0, 0, 0, 0.15);\n",
              "      filter: drop-shadow(0px 1px 2px rgba(0, 0, 0, 0.3));\n",
              "      fill: #FFFFFF;\n",
              "    }\n",
              "  </style>\n",
              "\n",
              "      <script>\n",
              "        const buttonEl =\n",
              "          document.querySelector('#df-a5f2a685-4dad-4fb1-8b3c-1ce6afc86aef button.colab-df-convert');\n",
              "        buttonEl.style.display =\n",
              "          google.colab.kernel.accessAllowed ? 'block' : 'none';\n",
              "\n",
              "        async function convertToInteractive(key) {\n",
              "          const element = document.querySelector('#df-a5f2a685-4dad-4fb1-8b3c-1ce6afc86aef');\n",
              "          const dataTable =\n",
              "            await google.colab.kernel.invokeFunction('convertToInteractive',\n",
              "                                                     [key], {});\n",
              "          if (!dataTable) return;\n",
              "\n",
              "          const docLinkHtml = 'Like what you see? Visit the ' +\n",
              "            '<a target=\"_blank\" href=https://colab.research.google.com/notebooks/data_table.ipynb>data table notebook</a>'\n",
              "            + ' to learn more about interactive tables.';\n",
              "          element.innerHTML = '';\n",
              "          dataTable['output_type'] = 'display_data';\n",
              "          await google.colab.output.renderOutput(dataTable, element);\n",
              "          const docLink = document.createElement('div');\n",
              "          docLink.innerHTML = docLinkHtml;\n",
              "          element.appendChild(docLink);\n",
              "        }\n",
              "      </script>\n",
              "    </div>\n",
              "  </div>\n",
              "  "
            ]
          },
          "metadata": {},
          "execution_count": 22
        }
      ]
    },
    {
      "cell_type": "code",
      "metadata": {
        "colab": {
          "base_uri": "https://localhost:8080/",
          "height": 363
        },
        "id": "xmcIVo2fcH5Z",
        "outputId": "c81d0f9c-7d05-4617-8585-43880ecf2c78"
      },
      "source": [
        "# a의 편차\n",
        "df_score_a - df_score_a.mean()"
      ],
      "execution_count": 23,
      "outputs": [
        {
          "output_type": "execute_result",
          "data": {
            "text/plain": [
              "      0\n",
              "0 -13.0\n",
              "1  14.0\n",
              "2   1.0\n",
              "3 -14.0\n",
              "4   2.0\n",
              "5  -7.0\n",
              "6  10.0\n",
              "7  -6.0\n",
              "8  10.0\n",
              "9   3.0"
            ],
            "text/html": [
              "\n",
              "  <div id=\"df-c6be9d98-7eb7-46ee-8fdd-58d6c2e9b413\">\n",
              "    <div class=\"colab-df-container\">\n",
              "      <div>\n",
              "<style scoped>\n",
              "    .dataframe tbody tr th:only-of-type {\n",
              "        vertical-align: middle;\n",
              "    }\n",
              "\n",
              "    .dataframe tbody tr th {\n",
              "        vertical-align: top;\n",
              "    }\n",
              "\n",
              "    .dataframe thead th {\n",
              "        text-align: right;\n",
              "    }\n",
              "</style>\n",
              "<table border=\"1\" class=\"dataframe\">\n",
              "  <thead>\n",
              "    <tr style=\"text-align: right;\">\n",
              "      <th></th>\n",
              "      <th>0</th>\n",
              "    </tr>\n",
              "  </thead>\n",
              "  <tbody>\n",
              "    <tr>\n",
              "      <th>0</th>\n",
              "      <td>-13.0</td>\n",
              "    </tr>\n",
              "    <tr>\n",
              "      <th>1</th>\n",
              "      <td>14.0</td>\n",
              "    </tr>\n",
              "    <tr>\n",
              "      <th>2</th>\n",
              "      <td>1.0</td>\n",
              "    </tr>\n",
              "    <tr>\n",
              "      <th>3</th>\n",
              "      <td>-14.0</td>\n",
              "    </tr>\n",
              "    <tr>\n",
              "      <th>4</th>\n",
              "      <td>2.0</td>\n",
              "    </tr>\n",
              "    <tr>\n",
              "      <th>5</th>\n",
              "      <td>-7.0</td>\n",
              "    </tr>\n",
              "    <tr>\n",
              "      <th>6</th>\n",
              "      <td>10.0</td>\n",
              "    </tr>\n",
              "    <tr>\n",
              "      <th>7</th>\n",
              "      <td>-6.0</td>\n",
              "    </tr>\n",
              "    <tr>\n",
              "      <th>8</th>\n",
              "      <td>10.0</td>\n",
              "    </tr>\n",
              "    <tr>\n",
              "      <th>9</th>\n",
              "      <td>3.0</td>\n",
              "    </tr>\n",
              "  </tbody>\n",
              "</table>\n",
              "</div>\n",
              "      <button class=\"colab-df-convert\" onclick=\"convertToInteractive('df-c6be9d98-7eb7-46ee-8fdd-58d6c2e9b413')\"\n",
              "              title=\"Convert this dataframe to an interactive table.\"\n",
              "              style=\"display:none;\">\n",
              "        \n",
              "  <svg xmlns=\"http://www.w3.org/2000/svg\" height=\"24px\"viewBox=\"0 0 24 24\"\n",
              "       width=\"24px\">\n",
              "    <path d=\"M0 0h24v24H0V0z\" fill=\"none\"/>\n",
              "    <path d=\"M18.56 5.44l.94 2.06.94-2.06 2.06-.94-2.06-.94-.94-2.06-.94 2.06-2.06.94zm-11 1L8.5 8.5l.94-2.06 2.06-.94-2.06-.94L8.5 2.5l-.94 2.06-2.06.94zm10 10l.94 2.06.94-2.06 2.06-.94-2.06-.94-.94-2.06-.94 2.06-2.06.94z\"/><path d=\"M17.41 7.96l-1.37-1.37c-.4-.4-.92-.59-1.43-.59-.52 0-1.04.2-1.43.59L10.3 9.45l-7.72 7.72c-.78.78-.78 2.05 0 2.83L4 21.41c.39.39.9.59 1.41.59.51 0 1.02-.2 1.41-.59l7.78-7.78 2.81-2.81c.8-.78.8-2.07 0-2.86zM5.41 20L4 18.59l7.72-7.72 1.47 1.35L5.41 20z\"/>\n",
              "  </svg>\n",
              "      </button>\n",
              "      \n",
              "  <style>\n",
              "    .colab-df-container {\n",
              "      display:flex;\n",
              "      flex-wrap:wrap;\n",
              "      gap: 12px;\n",
              "    }\n",
              "\n",
              "    .colab-df-convert {\n",
              "      background-color: #E8F0FE;\n",
              "      border: none;\n",
              "      border-radius: 50%;\n",
              "      cursor: pointer;\n",
              "      display: none;\n",
              "      fill: #1967D2;\n",
              "      height: 32px;\n",
              "      padding: 0 0 0 0;\n",
              "      width: 32px;\n",
              "    }\n",
              "\n",
              "    .colab-df-convert:hover {\n",
              "      background-color: #E2EBFA;\n",
              "      box-shadow: 0px 1px 2px rgba(60, 64, 67, 0.3), 0px 1px 3px 1px rgba(60, 64, 67, 0.15);\n",
              "      fill: #174EA6;\n",
              "    }\n",
              "\n",
              "    [theme=dark] .colab-df-convert {\n",
              "      background-color: #3B4455;\n",
              "      fill: #D2E3FC;\n",
              "    }\n",
              "\n",
              "    [theme=dark] .colab-df-convert:hover {\n",
              "      background-color: #434B5C;\n",
              "      box-shadow: 0px 1px 3px 1px rgba(0, 0, 0, 0.15);\n",
              "      filter: drop-shadow(0px 1px 2px rgba(0, 0, 0, 0.3));\n",
              "      fill: #FFFFFF;\n",
              "    }\n",
              "  </style>\n",
              "\n",
              "      <script>\n",
              "        const buttonEl =\n",
              "          document.querySelector('#df-c6be9d98-7eb7-46ee-8fdd-58d6c2e9b413 button.colab-df-convert');\n",
              "        buttonEl.style.display =\n",
              "          google.colab.kernel.accessAllowed ? 'block' : 'none';\n",
              "\n",
              "        async function convertToInteractive(key) {\n",
              "          const element = document.querySelector('#df-c6be9d98-7eb7-46ee-8fdd-58d6c2e9b413');\n",
              "          const dataTable =\n",
              "            await google.colab.kernel.invokeFunction('convertToInteractive',\n",
              "                                                     [key], {});\n",
              "          if (!dataTable) return;\n",
              "\n",
              "          const docLinkHtml = 'Like what you see? Visit the ' +\n",
              "            '<a target=\"_blank\" href=https://colab.research.google.com/notebooks/data_table.ipynb>data table notebook</a>'\n",
              "            + ' to learn more about interactive tables.';\n",
              "          element.innerHTML = '';\n",
              "          dataTable['output_type'] = 'display_data';\n",
              "          await google.colab.output.renderOutput(dataTable, element);\n",
              "          const docLink = document.createElement('div');\n",
              "          docLink.innerHTML = docLinkHtml;\n",
              "          element.appendChild(docLink);\n",
              "        }\n",
              "      </script>\n",
              "    </div>\n",
              "  </div>\n",
              "  "
            ]
          },
          "metadata": {},
          "execution_count": 23
        }
      ]
    },
    {
      "cell_type": "code",
      "metadata": {
        "colab": {
          "base_uri": "https://localhost:8080/",
          "height": 283
        },
        "id": "aqvvYpDHX5gU",
        "outputId": "bc8bab6f-4eeb-40cd-c7ea-61cb9cc1ac3c"
      },
      "source": [
        "df_score_a.plot.hist(xlim=[40,70])"
      ],
      "execution_count": 24,
      "outputs": [
        {
          "output_type": "execute_result",
          "data": {
            "text/plain": [
              "<matplotlib.axes._subplots.AxesSubplot at 0x7fc4fc988d90>"
            ]
          },
          "metadata": {},
          "execution_count": 24
        },
        {
          "output_type": "display_data",
          "data": {
            "text/plain": [
              "<Figure size 432x288 with 1 Axes>"
            ],
            "image/png": "[encoded data removed]"
          },
          "metadata": {
            "needs_background": "light"
          }
        }
      ]
    },
    {
      "cell_type": "code",
      "metadata": {
        "colab": {
          "base_uri": "https://localhost:8080/",
          "height": 363
        },
        "id": "HhlF7Q7Zcxb8",
        "outputId": "030a6ba2-6176-4cac-98ad-f97ba1e04ddd"
      },
      "source": [
        "df_score_b"
      ],
      "execution_count": 25,
      "outputs": [
        {
          "output_type": "execute_result",
          "data": {
            "text/plain": [
              "    0\n",
              "0  50\n",
              "1  60\n",
              "2  58\n",
              "3  54\n",
              "4  51\n",
              "5  56\n",
              "6  57\n",
              "7  53\n",
              "8  52\n",
              "9  59"
            ],
            "text/html": [
              "\n",
              "  <div id=\"df-f6f3c717-046b-433d-acc1-9175027c317e\">\n",
              "    <div class=\"colab-df-container\">\n",
              "      <div>\n",
              "<style scoped>\n",
              "    .dataframe tbody tr th:only-of-type {\n",
              "        vertical-align: middle;\n",
              "    }\n",
              "\n",
              "    .dataframe tbody tr th {\n",
              "        vertical-align: top;\n",
              "    }\n",
              "\n",
              "    .dataframe thead th {\n",
              "        text-align: right;\n",
              "    }\n",
              "</style>\n",
              "<table border=\"1\" class=\"dataframe\">\n",
              "  <thead>\n",
              "    <tr style=\"text-align: right;\">\n",
              "      <th></th>\n",
              "      <th>0</th>\n",
              "    </tr>\n",
              "  </thead>\n",
              "  <tbody>\n",
              "    <tr>\n",
              "      <th>0</th>\n",
              "      <td>50</td>\n",
              "    </tr>\n",
              "    <tr>\n",
              "      <th>1</th>\n",
              "      <td>60</td>\n",
              "    </tr>\n",
              "    <tr>\n",
              "      <th>2</th>\n",
              "      <td>58</td>\n",
              "    </tr>\n",
              "    <tr>\n",
              "      <th>3</th>\n",
              "      <td>54</td>\n",
              "    </tr>\n",
              "    <tr>\n",
              "      <th>4</th>\n",
              "      <td>51</td>\n",
              "    </tr>\n",
              "    <tr>\n",
              "      <th>5</th>\n",
              "      <td>56</td>\n",
              "    </tr>\n",
              "    <tr>\n",
              "      <th>6</th>\n",
              "      <td>57</td>\n",
              "    </tr>\n",
              "    <tr>\n",
              "      <th>7</th>\n",
              "      <td>53</td>\n",
              "    </tr>\n",
              "    <tr>\n",
              "      <th>8</th>\n",
              "      <td>52</td>\n",
              "    </tr>\n",
              "    <tr>\n",
              "      <th>9</th>\n",
              "      <td>59</td>\n",
              "    </tr>\n",
              "  </tbody>\n",
              "</table>\n",
              "</div>\n",
              "      <button class=\"colab-df-convert\" onclick=\"convertToInteractive('df-f6f3c717-046b-433d-acc1-9175027c317e')\"\n",
              "              title=\"Convert this dataframe to an interactive table.\"\n",
              "              style=\"display:none;\">\n",
              "        \n",
              "  <svg xmlns=\"http://www.w3.org/2000/svg\" height=\"24px\"viewBox=\"0 0 24 24\"\n",
              "       width=\"24px\">\n",
              "    <path d=\"M0 0h24v24H0V0z\" fill=\"none\"/>\n",
              "    <path d=\"M18.56 5.44l.94 2.06.94-2.06 2.06-.94-2.06-.94-.94-2.06-.94 2.06-2.06.94zm-11 1L8.5 8.5l.94-2.06 2.06-.94-2.06-.94L8.5 2.5l-.94 2.06-2.06.94zm10 10l.94 2.06.94-2.06 2.06-.94-2.06-.94-.94-2.06-.94 2.06-2.06.94z\"/><path d=\"M17.41 7.96l-1.37-1.37c-.4-.4-.92-.59-1.43-.59-.52 0-1.04.2-1.43.59L10.3 9.45l-7.72 7.72c-.78.78-.78 2.05 0 2.83L4 21.41c.39.39.9.59 1.41.59.51 0 1.02-.2 1.41-.59l7.78-7.78 2.81-2.81c.8-.78.8-2.07 0-2.86zM5.41 20L4 18.59l7.72-7.72 1.47 1.35L5.41 20z\"/>\n",
              "  </svg>\n",
              "      </button>\n",
              "      \n",
              "  <style>\n",
              "    .colab-df-container {\n",
              "      display:flex;\n",
              "      flex-wrap:wrap;\n",
              "      gap: 12px;\n",
              "    }\n",
              "\n",
              "    .colab-df-convert {\n",
              "      background-color: #E8F0FE;\n",
              "      border: none;\n",
              "      border-radius: 50%;\n",
              "      cursor: pointer;\n",
              "      display: none;\n",
              "      fill: #1967D2;\n",
              "      height: 32px;\n",
              "      padding: 0 0 0 0;\n",
              "      width: 32px;\n",
              "    }\n",
              "\n",
              "    .colab-df-convert:hover {\n",
              "      background-color: #E2EBFA;\n",
              "      box-shadow: 0px 1px 2px rgba(60, 64, 67, 0.3), 0px 1px 3px 1px rgba(60, 64, 67, 0.15);\n",
              "      fill: #174EA6;\n",
              "    }\n",
              "\n",
              "    [theme=dark] .colab-df-convert {\n",
              "      background-color: #3B4455;\n",
              "      fill: #D2E3FC;\n",
              "    }\n",
              "\n",
              "    [theme=dark] .colab-df-convert:hover {\n",
              "      background-color: #434B5C;\n",
              "      box-shadow: 0px 1px 3px 1px rgba(0, 0, 0, 0.15);\n",
              "      filter: drop-shadow(0px 1px 2px rgba(0, 0, 0, 0.3));\n",
              "      fill: #FFFFFF;\n",
              "    }\n",
              "  </style>\n",
              "\n",
              "      <script>\n",
              "        const buttonEl =\n",
              "          document.querySelector('#df-f6f3c717-046b-433d-acc1-9175027c317e button.colab-df-convert');\n",
              "        buttonEl.style.display =\n",
              "          google.colab.kernel.accessAllowed ? 'block' : 'none';\n",
              "\n",
              "        async function convertToInteractive(key) {\n",
              "          const element = document.querySelector('#df-f6f3c717-046b-433d-acc1-9175027c317e');\n",
              "          const dataTable =\n",
              "            await google.colab.kernel.invokeFunction('convertToInteractive',\n",
              "                                                     [key], {});\n",
              "          if (!dataTable) return;\n",
              "\n",
              "          const docLinkHtml = 'Like what you see? Visit the ' +\n",
              "            '<a target=\"_blank\" href=https://colab.research.google.com/notebooks/data_table.ipynb>data table notebook</a>'\n",
              "            + ' to learn more about interactive tables.';\n",
              "          element.innerHTML = '';\n",
              "          dataTable['output_type'] = 'display_data';\n",
              "          await google.colab.output.renderOutput(dataTable, element);\n",
              "          const docLink = document.createElement('div');\n",
              "          docLink.innerHTML = docLinkHtml;\n",
              "          element.appendChild(docLink);\n",
              "        }\n",
              "      </script>\n",
              "    </div>\n",
              "  </div>\n",
              "  "
            ]
          },
          "metadata": {},
          "execution_count": 25
        }
      ]
    },
    {
      "cell_type": "code",
      "metadata": {
        "colab": {
          "base_uri": "https://localhost:8080/",
          "height": 363
        },
        "id": "SoCWV-pDcw8e",
        "outputId": "87a81276-bb50-4c4b-843d-b34c886d52d2"
      },
      "source": [
        "df_score_b - df_score_b.mean()"
      ],
      "execution_count": 26,
      "outputs": [
        {
          "output_type": "execute_result",
          "data": {
            "text/plain": [
              "     0\n",
              "0 -5.0\n",
              "1  5.0\n",
              "2  3.0\n",
              "3 -1.0\n",
              "4 -4.0\n",
              "5  1.0\n",
              "6  2.0\n",
              "7 -2.0\n",
              "8 -3.0\n",
              "9  4.0"
            ],
            "text/html": [
              "\n",
              "  <div id=\"df-94dd603d-bb23-467d-acf9-42a801c4813d\">\n",
              "    <div class=\"colab-df-container\">\n",
              "      <div>\n",
              "<style scoped>\n",
              "    .dataframe tbody tr th:only-of-type {\n",
              "        vertical-align: middle;\n",
              "    }\n",
              "\n",
              "    .dataframe tbody tr th {\n",
              "        vertical-align: top;\n",
              "    }\n",
              "\n",
              "    .dataframe thead th {\n",
              "        text-align: right;\n",
              "    }\n",
              "</style>\n",
              "<table border=\"1\" class=\"dataframe\">\n",
              "  <thead>\n",
              "    <tr style=\"text-align: right;\">\n",
              "      <th></th>\n",
              "      <th>0</th>\n",
              "    </tr>\n",
              "  </thead>\n",
              "  <tbody>\n",
              "    <tr>\n",
              "      <th>0</th>\n",
              "      <td>-5.0</td>\n",
              "    </tr>\n",
              "    <tr>\n",
              "      <th>1</th>\n",
              "      <td>5.0</td>\n",
              "    </tr>\n",
              "    <tr>\n",
              "      <th>2</th>\n",
              "      <td>3.0</td>\n",
              "    </tr>\n",
              "    <tr>\n",
              "      <th>3</th>\n",
              "      <td>-1.0</td>\n",
              "    </tr>\n",
              "    <tr>\n",
              "      <th>4</th>\n",
              "      <td>-4.0</td>\n",
              "    </tr>\n",
              "    <tr>\n",
              "      <th>5</th>\n",
              "      <td>1.0</td>\n",
              "    </tr>\n",
              "    <tr>\n",
              "      <th>6</th>\n",
              "      <td>2.0</td>\n",
              "    </tr>\n",
              "    <tr>\n",
              "      <th>7</th>\n",
              "      <td>-2.0</td>\n",
              "    </tr>\n",
              "    <tr>\n",
              "      <th>8</th>\n",
              "      <td>-3.0</td>\n",
              "    </tr>\n",
              "    <tr>\n",
              "      <th>9</th>\n",
              "      <td>4.0</td>\n",
              "    </tr>\n",
              "  </tbody>\n",
              "</table>\n",
              "</div>\n",
              "      <button class=\"colab-df-convert\" onclick=\"convertToInteractive('df-94dd603d-bb23-467d-acf9-42a801c4813d')\"\n",
              "              title=\"Convert this dataframe to an interactive table.\"\n",
              "              style=\"display:none;\">\n",
              "        \n",
              "  <svg xmlns=\"http://www.w3.org/2000/svg\" height=\"24px\"viewBox=\"0 0 24 24\"\n",
              "       width=\"24px\">\n",
              "    <path d=\"M0 0h24v24H0V0z\" fill=\"none\"/>\n",
              "    <path d=\"M18.56 5.44l.94 2.06.94-2.06 2.06-.94-2.06-.94-.94-2.06-.94 2.06-2.06.94zm-11 1L8.5 8.5l.94-2.06 2.06-.94-2.06-.94L8.5 2.5l-.94 2.06-2.06.94zm10 10l.94 2.06.94-2.06 2.06-.94-2.06-.94-.94-2.06-.94 2.06-2.06.94z\"/><path d=\"M17.41 7.96l-1.37-1.37c-.4-.4-.92-.59-1.43-.59-.52 0-1.04.2-1.43.59L10.3 9.45l-7.72 7.72c-.78.78-.78 2.05 0 2.83L4 21.41c.39.39.9.59 1.41.59.51 0 1.02-.2 1.41-.59l7.78-7.78 2.81-2.81c.8-.78.8-2.07 0-2.86zM5.41 20L4 18.59l7.72-7.72 1.47 1.35L5.41 20z\"/>\n",
              "  </svg>\n",
              "      </button>\n",
              "      \n",
              "  <style>\n",
              "    .colab-df-container {\n",
              "      display:flex;\n",
              "      flex-wrap:wrap;\n",
              "      gap: 12px;\n",
              "    }\n",
              "\n",
              "    .colab-df-convert {\n",
              "      background-color: #E8F0FE;\n",
              "      border: none;\n",
              "      border-radius: 50%;\n",
              "      cursor: pointer;\n",
              "      display: none;\n",
              "      fill: #1967D2;\n",
              "      height: 32px;\n",
              "      padding: 0 0 0 0;\n",
              "      width: 32px;\n",
              "    }\n",
              "\n",
              "    .colab-df-convert:hover {\n",
              "      background-color: #E2EBFA;\n",
              "      box-shadow: 0px 1px 2px rgba(60, 64, 67, 0.3), 0px 1px 3px 1px rgba(60, 64, 67, 0.15);\n",
              "      fill: #174EA6;\n",
              "    }\n",
              "\n",
              "    [theme=dark] .colab-df-convert {\n",
              "      background-color: #3B4455;\n",
              "      fill: #D2E3FC;\n",
              "    }\n",
              "\n",
              "    [theme=dark] .colab-df-convert:hover {\n",
              "      background-color: #434B5C;\n",
              "      box-shadow: 0px 1px 3px 1px rgba(0, 0, 0, 0.15);\n",
              "      filter: drop-shadow(0px 1px 2px rgba(0, 0, 0, 0.3));\n",
              "      fill: #FFFFFF;\n",
              "    }\n",
              "  </style>\n",
              "\n",
              "      <script>\n",
              "        const buttonEl =\n",
              "          document.querySelector('#df-94dd603d-bb23-467d-acf9-42a801c4813d button.colab-df-convert');\n",
              "        buttonEl.style.display =\n",
              "          google.colab.kernel.accessAllowed ? 'block' : 'none';\n",
              "\n",
              "        async function convertToInteractive(key) {\n",
              "          const element = document.querySelector('#df-94dd603d-bb23-467d-acf9-42a801c4813d');\n",
              "          const dataTable =\n",
              "            await google.colab.kernel.invokeFunction('convertToInteractive',\n",
              "                                                     [key], {});\n",
              "          if (!dataTable) return;\n",
              "\n",
              "          const docLinkHtml = 'Like what you see? Visit the ' +\n",
              "            '<a target=\"_blank\" href=https://colab.research.google.com/notebooks/data_table.ipynb>data table notebook</a>'\n",
              "            + ' to learn more about interactive tables.';\n",
              "          element.innerHTML = '';\n",
              "          dataTable['output_type'] = 'display_data';\n",
              "          await google.colab.output.renderOutput(dataTable, element);\n",
              "          const docLink = document.createElement('div');\n",
              "          docLink.innerHTML = docLinkHtml;\n",
              "          element.appendChild(docLink);\n",
              "        }\n",
              "      </script>\n",
              "    </div>\n",
              "  </div>\n",
              "  "
            ]
          },
          "metadata": {},
          "execution_count": 26
        }
      ]
    },
    {
      "cell_type": "code",
      "metadata": {
        "colab": {
          "base_uri": "https://localhost:8080/",
          "height": 283
        },
        "id": "t91TzSvtX7yV",
        "outputId": "166be709-7c99-4d98-d8b6-4741eece8f30"
      },
      "source": [
        "df_score_b.plot.hist(xlim=[40,70])"
      ],
      "execution_count": 27,
      "outputs": [
        {
          "output_type": "execute_result",
          "data": {
            "text/plain": [
              "<matplotlib.axes._subplots.AxesSubplot at 0x7fc4fc8adc50>"
            ]
          },
          "metadata": {},
          "execution_count": 27
        },
        {
          "output_type": "display_data",
          "data": {
            "text/plain": [
              "<Figure size 432x288 with 1 Axes>"
            ],
            "image/png": "[encoded data removed]"
          },
          "metadata": {
            "needs_background": "light"
          }
        }
      ]
    },
    {
      "cell_type": "code",
      "metadata": {
        "colab": {
          "base_uri": "https://localhost:8080/"
        },
        "id": "9r6PUjQmYeEt",
        "outputId": "e323ee7e-c9d5-40ff-d4dc-4ddec77323a2"
      },
      "source": [
        "# 편차 값들의 평균은 0\n",
        "(\n",
        "    df_score_a - df_score_a.mean()\n",
        ").mean()"
      ],
      "execution_count": 28,
      "outputs": [
        {
          "output_type": "execute_result",
          "data": {
            "text/plain": [
              "0    0.0\n",
              "dtype: float64"
            ]
          },
          "metadata": {},
          "execution_count": 28
        }
      ]
    },
    {
      "cell_type": "code",
      "metadata": {
        "colab": {
          "base_uri": "https://localhost:8080/"
        },
        "id": "Qy6G83lHebfy",
        "outputId": "ee67a7d5-4cd5-44e9-d80e-f3c45d35a795"
      },
      "source": [
        "(\n",
        "    df_score_b - df_score_b.mean()\n",
        ").mean()"
      ],
      "execution_count": 29,
      "outputs": [
        {
          "output_type": "execute_result",
          "data": {
            "text/plain": [
              "0    0.0\n",
              "dtype: float64"
            ]
          },
          "metadata": {},
          "execution_count": 29
        }
      ]
    },
    {
      "cell_type": "markdown",
      "source": [
        "### 분산\n",
        "\n",
        "    - 편차의 제곱을 합산해서 평균을 계산\n",
        "    - 편자의 평균이 항상 0이 되는 문제를 고려하여 나온 계산법"
      ],
      "metadata": {
        "id": "Yjvv4koVmip5"
      }
    },
    {
      "cell_type": "markdown",
      "source": [
        "### 표준편차\n",
        "    - 분산의 단위를 조절하기 위해 분산에 제곱근을 취해주는 것"
      ],
      "metadata": {
        "id": "9IbukUeTpNZD"
      }
    },
    {
      "cell_type": "markdown",
      "source": [
        "![image.png](data:image/png;base64,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)"
      ],
      "metadata": {
        "id": "3D9dyyaem4z2"
      }
    },
    {
      "cell_type": "code",
      "metadata": {
        "colab": {
          "base_uri": "https://localhost:8080/"
        },
        "id": "dQVAku17ed4G",
        "outputId": "07efbf1d-a8d6-4d42-acce-519dad1f3433"
      },
      "source": [
        "df_score_a.var()"
      ],
      "execution_count": 30,
      "outputs": [
        {
          "output_type": "execute_result",
          "data": {
            "text/plain": [
              "0    95.556\n",
              "dtype: float64"
            ]
          },
          "metadata": {},
          "execution_count": 30
        }
      ]
    },
    {
      "cell_type": "code",
      "metadata": {
        "colab": {
          "base_uri": "https://localhost:8080/"
        },
        "id": "oOV6jFxL2nhm",
        "outputId": "ba7c6223-29f3-440b-f642-0657774234a0"
      },
      "source": [
        "df_score_b.var()"
      ],
      "execution_count": 31,
      "outputs": [
        {
          "output_type": "execute_result",
          "data": {
            "text/plain": [
              "0    12.222\n",
              "dtype: float64"
            ]
          },
          "metadata": {},
          "execution_count": 31
        }
      ]
    },
    {
      "cell_type": "code",
      "metadata": {
        "colab": {
          "base_uri": "https://localhost:8080/"
        },
        "id": "xqLdIplV3Z40",
        "outputId": "0a0c637f-f0f7-4bcd-f464-2b35bdba2499"
      },
      "source": [
        "np.var(df_score_a)"
      ],
      "execution_count": 32,
      "outputs": [
        {
          "output_type": "execute_result",
          "data": {
            "text/plain": [
              "0    86.0\n",
              "dtype: float64"
            ]
          },
          "metadata": {},
          "execution_count": 32
        }
      ]
    },
    {
      "cell_type": "code",
      "metadata": {
        "colab": {
          "base_uri": "https://localhost:8080/"
        },
        "id": "TRFtdwFk3fDf",
        "outputId": "84010b4e-2698-490d-ed35-8b40ca830766"
      },
      "source": [
        "np.var(df_score_b)"
      ],
      "execution_count": 33,
      "outputs": [
        {
          "output_type": "execute_result",
          "data": {
            "text/plain": [
              "0    11.0\n",
              "dtype: float64"
            ]
          },
          "metadata": {},
          "execution_count": 33
        }
      ]
    },
    {
      "cell_type": "code",
      "metadata": {
        "colab": {
          "base_uri": "https://localhost:8080/"
        },
        "id": "rMJU30_b3hGH",
        "outputId": "69c79717-e8cc-4fd9-ea94-f1c6808b8dd3"
      },
      "source": [
        "df_score_a.var(ddof=0)"
      ],
      "execution_count": 34,
      "outputs": [
        {
          "output_type": "execute_result",
          "data": {
            "text/plain": [
              "0    86.0\n",
              "dtype: float64"
            ]
          },
          "metadata": {},
          "execution_count": 34
        }
      ]
    },
    {
      "cell_type": "code",
      "metadata": {
        "id": "8hZbu8D95Yef",
        "colab": {
          "base_uri": "https://localhost:8080/"
        },
        "outputId": "1738a050-97fb-4547-8700-76a04489fe41"
      },
      "source": [
        "df_score_b.var(ddof=0)"
      ],
      "execution_count": 35,
      "outputs": [
        {
          "output_type": "execute_result",
          "data": {
            "text/plain": [
              "0    11.0\n",
              "dtype: float64"
            ]
          },
          "metadata": {},
          "execution_count": 35
        }
      ]
    },
    {
      "cell_type": "code",
      "metadata": {
        "id": "z0qDIxaz5aJ7",
        "colab": {
          "base_uri": "https://localhost:8080/"
        },
        "outputId": "90c7b71e-1cae-437f-9a2a-46e23a730875"
      },
      "source": [
        "# 표준편차 계산방법\n",
        "df_score_a.std(ddof=0)"
      ],
      "execution_count": 39,
      "outputs": [
        {
          "output_type": "execute_result",
          "data": {
            "text/plain": [
              "0    9.274\n",
              "dtype: float64"
            ]
          },
          "metadata": {},
          "execution_count": 39
        }
      ]
    },
    {
      "cell_type": "code",
      "metadata": {
        "colab": {
          "base_uri": "https://localhost:8080/"
        },
        "id": "Mqo8Bzg-8DbN",
        "outputId": "77d79ca8-494d-403b-c367-a2c37b556013"
      },
      "source": [
        "df_score_b.std(ddof=0)"
      ],
      "execution_count": 40,
      "outputs": [
        {
          "output_type": "execute_result",
          "data": {
            "text/plain": [
              "0    3.317\n",
              "dtype: float64"
            ]
          },
          "metadata": {},
          "execution_count": 40
        }
      ]
    },
    {
      "cell_type": "code",
      "metadata": {
        "colab": {
          "base_uri": "https://localhost:8080/"
        },
        "id": "nFxx1-IX8DYn",
        "outputId": "dab72c84-e4cf-4aca-d545-0e575710b4a0"
      },
      "source": [
        "# 넘파이 표준편차 계산방법\n",
        "np.sqrt(np.var(df_score_a))"
      ],
      "execution_count": 41,
      "outputs": [
        {
          "output_type": "execute_result",
          "data": {
            "text/plain": [
              "0    9.274\n",
              "dtype: float64"
            ]
          },
          "metadata": {},
          "execution_count": 41
        }
      ]
    },
    {
      "cell_type": "code",
      "metadata": {
        "colab": {
          "base_uri": "https://localhost:8080/"
        },
        "id": "e90eZC1Q8DV_",
        "outputId": "cbc35b7f-218f-4f77-9b44-236fa551e5f8"
      },
      "source": [
        "np.sqrt(np.var(df_score_b))"
      ],
      "execution_count": 42,
      "outputs": [
        {
          "output_type": "execute_result",
          "data": {
            "text/plain": [
              "0    3.317\n",
              "dtype: float64"
            ]
          },
          "metadata": {},
          "execution_count": 42
        }
      ]
    },
    {
      "cell_type": "code",
      "metadata": {
        "colab": {
          "base_uri": "https://localhost:8080/"
        },
        "id": "3EUBO7ac8DTF",
        "outputId": "c5e78a70-83e1-4d17-9727-56f23b476a14"
      },
      "source": [
        "np.std(df_score_a)"
      ],
      "execution_count": 43,
      "outputs": [
        {
          "output_type": "execute_result",
          "data": {
            "text/plain": [
              "0    9.274\n",
              "dtype: float64"
            ]
          },
          "metadata": {},
          "execution_count": 43
        }
      ]
    },
    {
      "cell_type": "code",
      "metadata": {
        "colab": {
          "base_uri": "https://localhost:8080/"
        },
        "id": "bk8yy81V8DP4",
        "outputId": "becd4098-0bcf-4f36-bfb7-e20acd429e9e"
      },
      "source": [
        "np.std(df_score_b)"
      ],
      "execution_count": 44,
      "outputs": [
        {
          "output_type": "execute_result",
          "data": {
            "text/plain": [
              "0    3.317\n",
              "dtype: float64"
            ]
          },
          "metadata": {},
          "execution_count": 44
        }
      ]
    },
    {
      "cell_type": "markdown",
      "source": [
        "## 범위와 사분위 범위"
      ],
      "metadata": {
        "id": "dWj2L7E6pytA"
      }
    },
    {
      "cell_type": "markdown",
      "source": [
        "### 범위 ( Range)\n",
        "    - 데이터의 최대값과 최소값으로 산포도를 표현하는 방법\n",
        "    - 이상치 반영에 있어서 수준이 낮은 지표\n",
        "    - max - min"
      ],
      "metadata": {
        "id": "EB9uGTTDp19X"
      }
    },
    {
      "cell_type": "code",
      "metadata": {
        "colab": {
          "base_uri": "https://localhost:8080/"
        },
        "id": "fQ5LizNo8DLJ",
        "outputId": "2d7774ee-7454-4d9e-a820-9c44ebc373b3"
      },
      "source": [
        "df_score_a.max() - df_score_a.min()"
      ],
      "execution_count": 45,
      "outputs": [
        {
          "output_type": "execute_result",
          "data": {
            "text/plain": [
              "0    28\n",
              "dtype: int64"
            ]
          },
          "metadata": {},
          "execution_count": 45
        }
      ]
    },
    {
      "cell_type": "code",
      "metadata": {
        "colab": {
          "base_uri": "https://localhost:8080/"
        },
        "id": "2oaHGA0a8DE7",
        "outputId": "2f2b924f-7b87-4ff7-f438-64e7c4e19451"
      },
      "source": [
        "np.max(df_score_a) - np.min(df_score_a)"
      ],
      "execution_count": 46,
      "outputs": [
        {
          "output_type": "execute_result",
          "data": {
            "text/plain": [
              "0    28\n",
              "dtype: int64"
            ]
          },
          "metadata": {},
          "execution_count": 46
        }
      ]
    },
    {
      "cell_type": "markdown",
      "source": [
        "### 사분위 범위( interquartile range )\n",
        "\n",
        "    - 데이터의 하위 25% Q1( 제 1사분위수), 50% (제 Q2사분위수), 75% (Q3 제3사분위수)에 위치하는 값으로 표현된 범위\n",
        "    - Q3 - Q1을 사분위 범위 IQR로 정의한다.\n",
        "    - 이상값을 반영한 산포도 표현\n",
        "    - 중앙값에 정의되는 산포도 지표(<-> 분산과 표준편차는 평균값에 대해 정의되는 산포도 지표)"
      ],
      "metadata": {
        "id": "2khE8kqsqHsG"
      }
    },
    {
      "cell_type": "code",
      "metadata": {
        "colab": {
          "base_uri": "https://localhost:8080/"
        },
        "id": "_80oKgvc8C9-",
        "outputId": "568f7f86-76fa-4c8b-c435-7a26ffc1774e"
      },
      "source": [
        "# Q3 - Q1\n",
        "df_score_a.quantile(q=0.75) - df_score_a.quantile(q=0.25)"
      ],
      "execution_count": null,
      "outputs": [
        {
          "output_type": "execute_result",
          "data": {
            "text/plain": [
              "0    15.0\n",
              "dtype: float64"
            ]
          },
          "metadata": {},
          "execution_count": 63
        }
      ]
    },
    {
      "cell_type": "code",
      "metadata": {
        "colab": {
          "base_uri": "https://localhost:8080/"
        },
        "id": "2oIKQ_HP8Cxf",
        "outputId": "225bd418-cf18-4227-ddca-0878313bc16f"
      },
      "source": [
        "# Q3 - Q1\n",
        "np.percentile(df_score_a, 75) - np.percentile(df_score_a, 25)"
      ],
      "execution_count": null,
      "outputs": [
        {
          "output_type": "execute_result",
          "data": {
            "text/plain": [
              "15.000"
            ]
          },
          "metadata": {},
          "execution_count": 64
        }
      ]
    },
    {
      "cell_type": "code",
      "metadata": {
        "colab": {
          "base_uri": "https://localhost:8080/",
          "height": 297
        },
        "id": "plGev-gKDurD",
        "outputId": "f68c1242-cd4b-4020-cf8f-12ccba04d081"
      },
      "source": [
        "df_score_a.describe()"
      ],
      "execution_count": null,
      "outputs": [
        {
          "output_type": "execute_result",
          "data": {
            "text/html": [
              "<div>\n",
              "<style scoped>\n",
              "    .dataframe tbody tr th:only-of-type {\n",
              "        vertical-align: middle;\n",
              "    }\n",
              "\n",
              "    .dataframe tbody tr th {\n",
              "        vertical-align: top;\n",
              "    }\n",
              "\n",
              "    .dataframe thead th {\n",
              "        text-align: right;\n",
              "    }\n",
              "</style>\n",
              "<table border=\"1\" class=\"dataframe\">\n",
              "  <thead>\n",
              "    <tr style=\"text-align: right;\">\n",
              "      <th></th>\n",
              "      <th>0</th>\n",
              "    </tr>\n",
              "  </thead>\n",
              "  <tbody>\n",
              "    <tr>\n",
              "      <th>count</th>\n",
              "      <td>10.000</td>\n",
              "    </tr>\n",
              "    <tr>\n",
              "      <th>mean</th>\n",
              "      <td>55.000</td>\n",
              "    </tr>\n",
              "    <tr>\n",
              "      <th>std</th>\n",
              "      <td>9.775</td>\n",
              "    </tr>\n",
              "    <tr>\n",
              "      <th>min</th>\n",
              "      <td>41.000</td>\n",
              "    </tr>\n",
              "    <tr>\n",
              "      <th>25%</th>\n",
              "      <td>48.250</td>\n",
              "    </tr>\n",
              "    <tr>\n",
              "      <th>50%</th>\n",
              "      <td>56.500</td>\n",
              "    </tr>\n",
              "    <tr>\n",
              "      <th>75%</th>\n",
              "      <td>63.250</td>\n",
              "    </tr>\n",
              "    <tr>\n",
              "      <th>max</th>\n",
              "      <td>69.000</td>\n",
              "    </tr>\n",
              "  </tbody>\n",
              "</table>\n",
              "</div>"
            ],
            "text/plain": [
              "            0\n",
              "count  10.000\n",
              "mean   55.000\n",
              "std     9.775\n",
              "min    41.000\n",
              "25%    48.250\n",
              "50%    56.500\n",
              "75%    63.250\n",
              "max    69.000"
            ]
          },
          "metadata": {},
          "execution_count": 65
        }
      ]
    },
    {
      "cell_type": "markdown",
      "source": [
        "## 정규화, 표준화, 편차값\n"
      ],
      "metadata": {
        "id": "d-wQWK6vrvfN"
      }
    },
    {
      "cell_type": "markdown",
      "source": [
        "### 정규화(Nomalization)\n",
        "\n",
        "평균과 분산이 다른 데이터 분포에서 상대적인 수준 분포를 확인하는 방법\n",
        "\n",
        "    - 데이터를 통일된 지표로 변환하는 것\n",
        "    - 표준화와 편차값이 활용됨\n",
        "\n"
      ],
      "metadata": {
        "id": "GxmZf4eBrzTx"
      }
    },
    {
      "cell_type": "markdown",
      "source": [
        "### 표준화(Standardization)\n",
        "    - 데이터에서 평균을 빼고 표준편차로 나누는 작업\n",
        "    - 표준화 변량, Z 점수(z-score)라고 불림"
      ],
      "metadata": {
        "id": "n__BEmFms89i"
      }
    },
    {
      "cell_type": "code",
      "metadata": {
        "id": "2YuVx76CDuoh"
      },
      "source": [
        "# 표준화 pandas\n",
        "z = (\n",
        "    df_score_a - df_score_a.mean()\n",
        ") / df_score_a.std(ddof=0)"
      ],
      "execution_count": 49,
      "outputs": []
    },
    {
      "cell_type": "code",
      "metadata": {
        "id": "lnIrlJgvDumv"
      },
      "source": [
        "# 표준화 numpy\n",
        "z2 = (\n",
        "    df_score_a - np.mean(df_score_a)\n",
        ") / np.std(df_score_a)"
      ],
      "execution_count": 50,
      "outputs": []
    },
    {
      "cell_type": "code",
      "metadata": {
        "colab": {
          "base_uri": "https://localhost:8080/"
        },
        "id": "TGZLYOiUDuj0",
        "outputId": "2b33a998-5080-4aa6-c123-65681d41e95f"
      },
      "source": [
        "z.mean()"
      ],
      "execution_count": 51,
      "outputs": [
        {
          "output_type": "execute_result",
          "data": {
            "text/plain": [
              "0   -1.665e-17\n",
              "dtype: float64"
            ]
          },
          "metadata": {},
          "execution_count": 51
        }
      ]
    },
    {
      "cell_type": "code",
      "metadata": {
        "colab": {
          "base_uri": "https://localhost:8080/"
        },
        "id": "AerIiUj_Dui8",
        "outputId": "b5c71adb-45e8-4f75-e6bc-923dfc2e6b22"
      },
      "source": [
        "z.std(ddof=0)"
      ],
      "execution_count": 52,
      "outputs": [
        {
          "output_type": "execute_result",
          "data": {
            "text/plain": [
              "0    1.0\n",
              "dtype: float64"
            ]
          },
          "metadata": {},
          "execution_count": 52
        }
      ]
    },
    {
      "cell_type": "code",
      "metadata": {
        "colab": {
          "base_uri": "https://localhost:8080/"
        },
        "id": "BBGbYpeyDugC",
        "outputId": "13eff5c1-70e0-404a-a6a5-4f8f3cec5e6e"
      },
      "source": [
        "np.mean(z)"
      ],
      "execution_count": 53,
      "outputs": [
        {
          "output_type": "execute_result",
          "data": {
            "text/plain": [
              "0   -1.665e-17\n",
              "dtype: float64"
            ]
          },
          "metadata": {},
          "execution_count": 53
        }
      ]
    },
    {
      "cell_type": "code",
      "metadata": {
        "colab": {
          "base_uri": "https://localhost:8080/"
        },
        "id": "TkmHS4j-Dua9",
        "outputId": "51664ad8-d194-4dd5-99fd-5b76089dd481"
      },
      "source": [
        "np.std(z)"
      ],
      "execution_count": 54,
      "outputs": [
        {
          "output_type": "execute_result",
          "data": {
            "text/plain": [
              "0    1.0\n",
              "dtype: float64"
            ]
          },
          "metadata": {},
          "execution_count": 54
        }
      ]
    },
    {
      "cell_type": "markdown",
      "source": [
        "### 편차값\n",
        "    - 평균이 50, 표준편차가 10이 되도록 정규화한 값\n",
        "    - 백분위로 표현한 값\n",
        "\n",
        "$$\n",
        "z_i = 50 + 10 * \\frac{x_i - \\overline{x}}{S}\n",
        "$$"
      ],
      "metadata": {
        "id": "-2w_HOp6tB_b"
      }
    },
    {
      "cell_type": "code",
      "metadata": {
        "colab": {
          "base_uri": "https://localhost:8080/",
          "height": 363
        },
        "id": "VsssLTe0DuWz",
        "outputId": "38590894-c980-4718-b935-0270739b12ee"
      },
      "source": [
        "50 + 10 * (\n",
        "    df_score_a - df_score_a.mean()\n",
        ") / df_score_a.std(ddof=0)"
      ],
      "execution_count": 55,
      "outputs": [
        {
          "output_type": "execute_result",
          "data": {
            "text/plain": [
              "        0\n",
              "0  35.982\n",
              "1  65.097\n",
              "2  51.078\n",
              "3  34.903\n",
              "4  52.157\n",
              "5  42.452\n",
              "6  60.783\n",
              "7  43.530\n",
              "8  60.783\n",
              "9  53.235"
            ],
            "text/html": [
              "\n",
              "  <div id=\"df-4885765c-223a-46fd-a3f7-01d40c9dfd1e\">\n",
              "    <div class=\"colab-df-container\">\n",
              "      <div>\n",
              "<style scoped>\n",
              "    .dataframe tbody tr th:only-of-type {\n",
              "        vertical-align: middle;\n",
              "    }\n",
              "\n",
              "    .dataframe tbody tr th {\n",
              "        vertical-align: top;\n",
              "    }\n",
              "\n",
              "    .dataframe thead th {\n",
              "        text-align: right;\n",
              "    }\n",
              "</style>\n",
              "<table border=\"1\" class=\"dataframe\">\n",
              "  <thead>\n",
              "    <tr style=\"text-align: right;\">\n",
              "      <th></th>\n",
              "      <th>0</th>\n",
              "    </tr>\n",
              "  </thead>\n",
              "  <tbody>\n",
              "    <tr>\n",
              "      <th>0</th>\n",
              "      <td>35.982</td>\n",
              "    </tr>\n",
              "    <tr>\n",
              "      <th>1</th>\n",
              "      <td>65.097</td>\n",
              "    </tr>\n",
              "    <tr>\n",
              "      <th>2</th>\n",
              "      <td>51.078</td>\n",
              "    </tr>\n",
              "    <tr>\n",
              "      <th>3</th>\n",
              "      <td>34.903</td>\n",
              "    </tr>\n",
              "    <tr>\n",
              "      <th>4</th>\n",
              "      <td>52.157</td>\n",
              "    </tr>\n",
              "    <tr>\n",
              "      <th>5</th>\n",
              "      <td>42.452</td>\n",
              "    </tr>\n",
              "    <tr>\n",
              "      <th>6</th>\n",
              "      <td>60.783</td>\n",
              "    </tr>\n",
              "    <tr>\n",
              "      <th>7</th>\n",
              "      <td>43.530</td>\n",
              "    </tr>\n",
              "    <tr>\n",
              "      <th>8</th>\n",
              "      <td>60.783</td>\n",
              "    </tr>\n",
              "    <tr>\n",
              "      <th>9</th>\n",
              "      <td>53.235</td>\n",
              "    </tr>\n",
              "  </tbody>\n",
              "</table>\n",
              "</div>\n",
              "      <button class=\"colab-df-convert\" onclick=\"convertToInteractive('df-4885765c-223a-46fd-a3f7-01d40c9dfd1e')\"\n",
              "              title=\"Convert this dataframe to an interactive table.\"\n",
              "              style=\"display:none;\">\n",
              "        \n",
              "  <svg xmlns=\"http://www.w3.org/2000/svg\" height=\"24px\"viewBox=\"0 0 24 24\"\n",
              "       width=\"24px\">\n",
              "    <path d=\"M0 0h24v24H0V0z\" fill=\"none\"/>\n",
              "    <path d=\"M18.56 5.44l.94 2.06.94-2.06 2.06-.94-2.06-.94-.94-2.06-.94 2.06-2.06.94zm-11 1L8.5 8.5l.94-2.06 2.06-.94-2.06-.94L8.5 2.5l-.94 2.06-2.06.94zm10 10l.94 2.06.94-2.06 2.06-.94-2.06-.94-.94-2.06-.94 2.06-2.06.94z\"/><path d=\"M17.41 7.96l-1.37-1.37c-.4-.4-.92-.59-1.43-.59-.52 0-1.04.2-1.43.59L10.3 9.45l-7.72 7.72c-.78.78-.78 2.05 0 2.83L4 21.41c.39.39.9.59 1.41.59.51 0 1.02-.2 1.41-.59l7.78-7.78 2.81-2.81c.8-.78.8-2.07 0-2.86zM5.41 20L4 18.59l7.72-7.72 1.47 1.35L5.41 20z\"/>\n",
              "  </svg>\n",
              "      </button>\n",
              "      \n",
              "  <style>\n",
              "    .colab-df-container {\n",
              "      display:flex;\n",
              "      flex-wrap:wrap;\n",
              "      gap: 12px;\n",
              "    }\n",
              "\n",
              "    .colab-df-convert {\n",
              "      background-color: #E8F0FE;\n",
              "      border: none;\n",
              "      border-radius: 50%;\n",
              "      cursor: pointer;\n",
              "      display: none;\n",
              "      fill: #1967D2;\n",
              "      height: 32px;\n",
              "      padding: 0 0 0 0;\n",
              "      width: 32px;\n",
              "    }\n",
              "\n",
              "    .colab-df-convert:hover {\n",
              "      background-color: #E2EBFA;\n",
              "      box-shadow: 0px 1px 2px rgba(60, 64, 67, 0.3), 0px 1px 3px 1px rgba(60, 64, 67, 0.15);\n",
              "      fill: #174EA6;\n",
              "    }\n",
              "\n",
              "    [theme=dark] .colab-df-convert {\n",
              "      background-color: #3B4455;\n",
              "      fill: #D2E3FC;\n",
              "    }\n",
              "\n",
              "    [theme=dark] .colab-df-convert:hover {\n",
              "      background-color: #434B5C;\n",
              "      box-shadow: 0px 1px 3px 1px rgba(0, 0, 0, 0.15);\n",
              "      filter: drop-shadow(0px 1px 2px rgba(0, 0, 0, 0.3));\n",
              "      fill: #FFFFFF;\n",
              "    }\n",
              "  </style>\n",
              "\n",
              "      <script>\n",
              "        const buttonEl =\n",
              "          document.querySelector('#df-4885765c-223a-46fd-a3f7-01d40c9dfd1e button.colab-df-convert');\n",
              "        buttonEl.style.display =\n",
              "          google.colab.kernel.accessAllowed ? 'block' : 'none';\n",
              "\n",
              "        async function convertToInteractive(key) {\n",
              "          const element = document.querySelector('#df-4885765c-223a-46fd-a3f7-01d40c9dfd1e');\n",
              "          const dataTable =\n",
              "            await google.colab.kernel.invokeFunction('convertToInteractive',\n",
              "                                                     [key], {});\n",
              "          if (!dataTable) return;\n",
              "\n",
              "          const docLinkHtml = 'Like what you see? Visit the ' +\n",
              "            '<a target=\"_blank\" href=https://colab.research.google.com/notebooks/data_table.ipynb>data table notebook</a>'\n",
              "            + ' to learn more about interactive tables.';\n",
              "          element.innerHTML = '';\n",
              "          dataTable['output_type'] = 'display_data';\n",
              "          await google.colab.output.renderOutput(dataTable, element);\n",
              "          const docLink = document.createElement('div');\n",
              "          docLink.innerHTML = docLinkHtml;\n",
              "          element.appendChild(docLink);\n",
              "        }\n",
              "      </script>\n",
              "    </div>\n",
              "  </div>\n",
              "  "
            ]
          },
          "metadata": {},
          "execution_count": 55
        }
      ]
    },
    {
      "cell_type": "code",
      "metadata": {
        "id": "fKH_tYYjNQT4"
      },
      "source": [
        "z_std = 50 + 10 * (\n",
        "    df_score_a - np.mean(df_score_a)\n",
        ") / np.std(df_score_a)"
      ],
      "execution_count": 56,
      "outputs": []
    },
    {
      "cell_type": "code",
      "metadata": {
        "id": "-r3yIIm4DuNp"
      },
      "source": [
        "z_end = pd.concat([df_score_a, z_std], axis=1)"
      ],
      "execution_count": 57,
      "outputs": []
    },
    {
      "cell_type": "code",
      "metadata": {
        "id": "8ZHR9AHUPeIN"
      },
      "source": [
        "z_end.columns = ['점수', '편차값']"
      ],
      "execution_count": 58,
      "outputs": []
    },
    {
      "cell_type": "code",
      "metadata": {
        "id": "fj7q-09RPh7U",
        "colab": {
          "base_uri": "https://localhost:8080/",
          "height": 363
        },
        "outputId": "f70ecc63-9ba0-4b71-cb2d-0bbef29fd450"
      },
      "source": [
        "z_end"
      ],
      "execution_count": 59,
      "outputs": [
        {
          "output_type": "execute_result",
          "data": {
            "text/plain": [
              "   점수     편차값\n",
              "0  42  35.982\n",
              "1  69  65.097\n",
              "2  56  51.078\n",
              "3  41  34.903\n",
              "4  57  52.157\n",
              "5  48  42.452\n",
              "6  65  60.783\n",
              "7  49  43.530\n",
              "8  65  60.783\n",
              "9  58  53.235"
            ],
            "text/html": [
              "\n",
              "  <div id=\"df-9187157e-a394-4d11-839b-18bc4cdbaccb\">\n",
              "    <div class=\"colab-df-container\">\n",
              "      <div>\n",
              "<style scoped>\n",
              "    .dataframe tbody tr th:only-of-type {\n",
              "        vertical-align: middle;\n",
              "    }\n",
              "\n",
              "    .dataframe tbody tr th {\n",
              "        vertical-align: top;\n",
              "    }\n",
              "\n",
              "    .dataframe thead th {\n",
              "        text-align: right;\n",
              "    }\n",
              "</style>\n",
              "<table border=\"1\" class=\"dataframe\">\n",
              "  <thead>\n",
              "    <tr style=\"text-align: right;\">\n",
              "      <th></th>\n",
              "      <th>점수</th>\n",
              "      <th>편차값</th>\n",
              "    </tr>\n",
              "  </thead>\n",
              "  <tbody>\n",
              "    <tr>\n",
              "      <th>0</th>\n",
              "      <td>42</td>\n",
              "      <td>35.982</td>\n",
              "    </tr>\n",
              "    <tr>\n",
              "      <th>1</th>\n",
              "      <td>69</td>\n",
              "      <td>65.097</td>\n",
              "    </tr>\n",
              "    <tr>\n",
              "      <th>2</th>\n",
              "      <td>56</td>\n",
              "      <td>51.078</td>\n",
              "    </tr>\n",
              "    <tr>\n",
              "      <th>3</th>\n",
              "      <td>41</td>\n",
              "      <td>34.903</td>\n",
              "    </tr>\n",
              "    <tr>\n",
              "      <th>4</th>\n",
              "      <td>57</td>\n",
              "      <td>52.157</td>\n",
              "    </tr>\n",
              "    <tr>\n",
              "      <th>5</th>\n",
              "      <td>48</td>\n",
              "      <td>42.452</td>\n",
              "    </tr>\n",
              "    <tr>\n",
              "      <th>6</th>\n",
              "      <td>65</td>\n",
              "      <td>60.783</td>\n",
              "    </tr>\n",
              "    <tr>\n",
              "      <th>7</th>\n",
              "      <td>49</td>\n",
              "      <td>43.530</td>\n",
              "    </tr>\n",
              "    <tr>\n",
              "      <th>8</th>\n",
              "      <td>65</td>\n",
              "      <td>60.783</td>\n",
              "    </tr>\n",
              "    <tr>\n",
              "      <th>9</th>\n",
              "      <td>58</td>\n",
              "      <td>53.235</td>\n",
              "    </tr>\n",
              "  </tbody>\n",
              "</table>\n",
              "</div>\n",
              "      <button class=\"colab-df-convert\" onclick=\"convertToInteractive('df-9187157e-a394-4d11-839b-18bc4cdbaccb')\"\n",
              "              title=\"Convert this dataframe to an interactive table.\"\n",
              "              style=\"display:none;\">\n",
              "        \n",
              "  <svg xmlns=\"http://www.w3.org/2000/svg\" height=\"24px\"viewBox=\"0 0 24 24\"\n",
              "       width=\"24px\">\n",
              "    <path d=\"M0 0h24v24H0V0z\" fill=\"none\"/>\n",
              "    <path d=\"M18.56 5.44l.94 2.06.94-2.06 2.06-.94-2.06-.94-.94-2.06-.94 2.06-2.06.94zm-11 1L8.5 8.5l.94-2.06 2.06-.94-2.06-.94L8.5 2.5l-.94 2.06-2.06.94zm10 10l.94 2.06.94-2.06 2.06-.94-2.06-.94-.94-2.06-.94 2.06-2.06.94z\"/><path d=\"M17.41 7.96l-1.37-1.37c-.4-.4-.92-.59-1.43-.59-.52 0-1.04.2-1.43.59L10.3 9.45l-7.72 7.72c-.78.78-.78 2.05 0 2.83L4 21.41c.39.39.9.59 1.41.59.51 0 1.02-.2 1.41-.59l7.78-7.78 2.81-2.81c.8-.78.8-2.07 0-2.86zM5.41 20L4 18.59l7.72-7.72 1.47 1.35L5.41 20z\"/>\n",
              "  </svg>\n",
              "      </button>\n",
              "      \n",
              "  <style>\n",
              "    .colab-df-container {\n",
              "      display:flex;\n",
              "      flex-wrap:wrap;\n",
              "      gap: 12px;\n",
              "    }\n",
              "\n",
              "    .colab-df-convert {\n",
              "      background-color: #E8F0FE;\n",
              "      border: none;\n",
              "      border-radius: 50%;\n",
              "      cursor: pointer;\n",
              "      display: none;\n",
              "      fill: #1967D2;\n",
              "      height: 32px;\n",
              "      padding: 0 0 0 0;\n",
              "      width: 32px;\n",
              "    }\n",
              "\n",
              "    .colab-df-convert:hover {\n",
              "      background-color: #E2EBFA;\n",
              "      box-shadow: 0px 1px 2px rgba(60, 64, 67, 0.3), 0px 1px 3px 1px rgba(60, 64, 67, 0.15);\n",
              "      fill: #174EA6;\n",
              "    }\n",
              "\n",
              "    [theme=dark] .colab-df-convert {\n",
              "      background-color: #3B4455;\n",
              "      fill: #D2E3FC;\n",
              "    }\n",
              "\n",
              "    [theme=dark] .colab-df-convert:hover {\n",
              "      background-color: #434B5C;\n",
              "      box-shadow: 0px 1px 3px 1px rgba(0, 0, 0, 0.15);\n",
              "      filter: drop-shadow(0px 1px 2px rgba(0, 0, 0, 0.3));\n",
              "      fill: #FFFFFF;\n",
              "    }\n",
              "  </style>\n",
              "\n",
              "      <script>\n",
              "        const buttonEl =\n",
              "          document.querySelector('#df-9187157e-a394-4d11-839b-18bc4cdbaccb button.colab-df-convert');\n",
              "        buttonEl.style.display =\n",
              "          google.colab.kernel.accessAllowed ? 'block' : 'none';\n",
              "\n",
              "        async function convertToInteractive(key) {\n",
              "          const element = document.querySelector('#df-9187157e-a394-4d11-839b-18bc4cdbaccb');\n",
              "          const dataTable =\n",
              "            await google.colab.kernel.invokeFunction('convertToInteractive',\n",
              "                                                     [key], {});\n",
              "          if (!dataTable) return;\n",
              "\n",
              "          const docLinkHtml = 'Like what you see? Visit the ' +\n",
              "            '<a target=\"_blank\" href=https://colab.research.google.com/notebooks/data_table.ipynb>data table notebook</a>'\n",
              "            + ' to learn more about interactive tables.';\n",
              "          element.innerHTML = '';\n",
              "          dataTable['output_type'] = 'display_data';\n",
              "          await google.colab.output.renderOutput(dataTable, element);\n",
              "          const docLink = document.createElement('div');\n",
              "          docLink.innerHTML = docLinkHtml;\n",
              "          element.appendChild(docLink);\n",
              "        }\n",
              "      </script>\n",
              "    </div>\n",
              "  </div>\n",
              "  "
            ]
          },
          "metadata": {},
          "execution_count": 59
        }
      ]
    },
    {
      "cell_type": "markdown",
      "source": [
        "## 시각화 도수분포도, 히스토그램, 상자그림"
      ],
      "metadata": {
        "id": "_l8oDVK8wCAN"
      }
    },
    {
      "cell_type": "markdown",
      "source": [
        "### 도수분포표(Frequency Distribution)\n",
        "\n",
        "    - 데이터가 가지는 값들을 몇 개읠 구간으로 나누고, 각 구간에 몇 개의 데이터가 포함되는지 세는 방법\n",
        "    - 분할된 구간과 데이터의 개수를 표로 정리\n",
        "        - 계급값 : 구간\n",
        "        - 상대도수 \n",
        "        - 누적 상대도수"
      ],
      "metadata": {
        "id": "m0L0QZDPwNMJ"
      }
    },
    {
      "cell_type": "code",
      "metadata": {
        "id": "BeqA-RO9uyyV"
      },
      "source": [
        "# 도수분포표 계산방법\n",
        "freq, range = np.histogram(df_score_a, bins=10, range=(0,100))"
      ],
      "execution_count": 60,
      "outputs": []
    },
    {
      "cell_type": "code",
      "metadata": {
        "colab": {
          "base_uri": "https://localhost:8080/"
        },
        "id": "yiP_hyyFwW-B",
        "outputId": "93cc5125-08d1-4de8-cca0-7f7c05a415a3"
      },
      "source": [
        "freq"
      ],
      "execution_count": 61,
      "outputs": [
        {
          "output_type": "execute_result",
          "data": {
            "text/plain": [
              "array([0, 0, 0, 0, 4, 3, 3, 0, 0, 0])"
            ]
          },
          "metadata": {},
          "execution_count": 61
        }
      ]
    },
    {
      "cell_type": "code",
      "metadata": {
        "colab": {
          "base_uri": "https://localhost:8080/"
        },
        "id": "uzGFUbnvwYSp",
        "outputId": "655d8802-a298-4d55-cd04-f646d67ff65b"
      },
      "source": [
        "range"
      ],
      "execution_count": 62,
      "outputs": [
        {
          "output_type": "execute_result",
          "data": {
            "text/plain": [
              "array([  0.,  10.,  20.,  30.,  40.,  50.,  60.,  70.,  80.,  90., 100.])"
            ]
          },
          "metadata": {},
          "execution_count": 62
        }
      ]
    },
    {
      "cell_type": "code",
      "metadata": {
        "colab": {
          "base_uri": "https://localhost:8080/"
        },
        "id": "qer_ZLkwxHY_",
        "outputId": "3a48a8ff-5802-4486-e1f6-d74873e95062"
      },
      "source": [
        "# 도수분포표 수작업\n",
        "np.arange(0, 100, 10)"
      ],
      "execution_count": 63,
      "outputs": [
        {
          "output_type": "execute_result",
          "data": {
            "text/plain": [
              "array([ 0, 10, 20, 30, 40, 50, 60, 70, 80, 90])"
            ]
          },
          "metadata": {},
          "execution_count": 63
        }
      ]
    },
    {
      "cell_type": "code",
      "metadata": {
        "id": "Iioxxg11uywv"
      },
      "source": [
        "# 0~10, 10~20, ..., 90~100 범위에 해당하는 리스트를 작성\n",
        "freq_class = [f'{i} - {i+10}' for i in np.arange(0, 100, 10)]"
      ],
      "execution_count": 64,
      "outputs": []
    },
    {
      "cell_type": "code",
      "metadata": {
        "colab": {
          "base_uri": "https://localhost:8080/"
        },
        "id": "oiJ8QnTauyvL",
        "outputId": "c1081524-8c31-41fc-cd83-7306926a7540"
      },
      "source": [
        "freq_class"
      ],
      "execution_count": 65,
      "outputs": [
        {
          "output_type": "execute_result",
          "data": {
            "text/plain": [
              "['0 - 10',\n",
              " '10 - 20',\n",
              " '20 - 30',\n",
              " '30 - 40',\n",
              " '40 - 50',\n",
              " '50 - 60',\n",
              " '60 - 70',\n",
              " '70 - 80',\n",
              " '80 - 90',\n",
              " '90 - 100']"
            ]
          },
          "metadata": {},
          "execution_count": 65
        }
      ]
    },
    {
      "cell_type": "code",
      "metadata": {
        "id": "kv111wJMuytu"
      },
      "source": [
        "# freq_class를 index로 설정하여 DataFrame 작성\n",
        "freq_dist_df = pd.DataFrame(\n",
        "    {'frequency':freq}, \n",
        "    index=pd.Index(\n",
        "        freq_class,\n",
        "        name='class'\n",
        "    )\n",
        ")"
      ],
      "execution_count": 66,
      "outputs": []
    },
    {
      "cell_type": "code",
      "metadata": {
        "colab": {
          "base_uri": "https://localhost:8080/",
          "height": 394
        },
        "id": "ecUF9DRvuyqK",
        "outputId": "40b52c59-1d92-4bc1-932c-8a54d4c55a46"
      },
      "source": [
        "freq_dist_df"
      ],
      "execution_count": 67,
      "outputs": [
        {
          "output_type": "execute_result",
          "data": {
            "text/plain": [
              "          frequency\n",
              "class              \n",
              "0 - 10            0\n",
              "10 - 20           0\n",
              "20 - 30           0\n",
              "30 - 40           0\n",
              "40 - 50           4\n",
              "50 - 60           3\n",
              "60 - 70           3\n",
              "70 - 80           0\n",
              "80 - 90           0\n",
              "90 - 100          0"
            ],
            "text/html": [
              "\n",
              "  <div id=\"df-8cc61152-256d-4f7c-8e03-11e1b8ace2d8\">\n",
              "    <div class=\"colab-df-container\">\n",
              "      <div>\n",
              "<style scoped>\n",
              "    .dataframe tbody tr th:only-of-type {\n",
              "        vertical-align: middle;\n",
              "    }\n",
              "\n",
              "    .dataframe tbody tr th {\n",
              "        vertical-align: top;\n",
              "    }\n",
              "\n",
              "    .dataframe thead th {\n",
              "        text-align: right;\n",
              "    }\n",
              "</style>\n",
              "<table border=\"1\" class=\"dataframe\">\n",
              "  <thead>\n",
              "    <tr style=\"text-align: right;\">\n",
              "      <th></th>\n",
              "      <th>frequency</th>\n",
              "    </tr>\n",
              "    <tr>\n",
              "      <th>class</th>\n",
              "      <th></th>\n",
              "    </tr>\n",
              "  </thead>\n",
              "  <tbody>\n",
              "    <tr>\n",
              "      <th>0 - 10</th>\n",
              "      <td>0</td>\n",
              "    </tr>\n",
              "    <tr>\n",
              "      <th>10 - 20</th>\n",
              "      <td>0</td>\n",
              "    </tr>\n",
              "    <tr>\n",
              "      <th>20 - 30</th>\n",
              "      <td>0</td>\n",
              "    </tr>\n",
              "    <tr>\n",
              "      <th>30 - 40</th>\n",
              "      <td>0</td>\n",
              "    </tr>\n",
              "    <tr>\n",
              "      <th>40 - 50</th>\n",
              "      <td>4</td>\n",
              "    </tr>\n",
              "    <tr>\n",
              "      <th>50 - 60</th>\n",
              "      <td>3</td>\n",
              "    </tr>\n",
              "    <tr>\n",
              "      <th>60 - 70</th>\n",
              "      <td>3</td>\n",
              "    </tr>\n",
              "    <tr>\n",
              "      <th>70 - 80</th>\n",
              "      <td>0</td>\n",
              "    </tr>\n",
              "    <tr>\n",
              "      <th>80 - 90</th>\n",
              "      <td>0</td>\n",
              "    </tr>\n",
              "    <tr>\n",
              "      <th>90 - 100</th>\n",
              "      <td>0</td>\n",
              "    </tr>\n",
              "  </tbody>\n",
              "</table>\n",
              "</div>\n",
              "      <button class=\"colab-df-convert\" onclick=\"convertToInteractive('df-8cc61152-256d-4f7c-8e03-11e1b8ace2d8')\"\n",
              "              title=\"Convert this dataframe to an interactive table.\"\n",
              "              style=\"display:none;\">\n",
              "        \n",
              "  <svg xmlns=\"http://www.w3.org/2000/svg\" height=\"24px\"viewBox=\"0 0 24 24\"\n",
              "       width=\"24px\">\n",
              "    <path d=\"M0 0h24v24H0V0z\" fill=\"none\"/>\n",
              "    <path d=\"M18.56 5.44l.94 2.06.94-2.06 2.06-.94-2.06-.94-.94-2.06-.94 2.06-2.06.94zm-11 1L8.5 8.5l.94-2.06 2.06-.94-2.06-.94L8.5 2.5l-.94 2.06-2.06.94zm10 10l.94 2.06.94-2.06 2.06-.94-2.06-.94-.94-2.06-.94 2.06-2.06.94z\"/><path d=\"M17.41 7.96l-1.37-1.37c-.4-.4-.92-.59-1.43-.59-.52 0-1.04.2-1.43.59L10.3 9.45l-7.72 7.72c-.78.78-.78 2.05 0 2.83L4 21.41c.39.39.9.59 1.41.59.51 0 1.02-.2 1.41-.59l7.78-7.78 2.81-2.81c.8-.78.8-2.07 0-2.86zM5.41 20L4 18.59l7.72-7.72 1.47 1.35L5.41 20z\"/>\n",
              "  </svg>\n",
              "      </button>\n",
              "      \n",
              "  <style>\n",
              "    .colab-df-container {\n",
              "      display:flex;\n",
              "      flex-wrap:wrap;\n",
              "      gap: 12px;\n",
              "    }\n",
              "\n",
              "    .colab-df-convert {\n",
              "      background-color: #E8F0FE;\n",
              "      border: none;\n",
              "      border-radius: 50%;\n",
              "      cursor: pointer;\n",
              "      display: none;\n",
              "      fill: #1967D2;\n",
              "      height: 32px;\n",
              "      padding: 0 0 0 0;\n",
              "      width: 32px;\n",
              "    }\n",
              "\n",
              "    .colab-df-convert:hover {\n",
              "      background-color: #E2EBFA;\n",
              "      box-shadow: 0px 1px 2px rgba(60, 64, 67, 0.3), 0px 1px 3px 1px rgba(60, 64, 67, 0.15);\n",
              "      fill: #174EA6;\n",
              "    }\n",
              "\n",
              "    [theme=dark] .colab-df-convert {\n",
              "      background-color: #3B4455;\n",
              "      fill: #D2E3FC;\n",
              "    }\n",
              "\n",
              "    [theme=dark] .colab-df-convert:hover {\n",
              "      background-color: #434B5C;\n",
              "      box-shadow: 0px 1px 3px 1px rgba(0, 0, 0, 0.15);\n",
              "      filter: drop-shadow(0px 1px 2px rgba(0, 0, 0, 0.3));\n",
              "      fill: #FFFFFF;\n",
              "    }\n",
              "  </style>\n",
              "\n",
              "      <script>\n",
              "        const buttonEl =\n",
              "          document.querySelector('#df-8cc61152-256d-4f7c-8e03-11e1b8ace2d8 button.colab-df-convert');\n",
              "        buttonEl.style.display =\n",
              "          google.colab.kernel.accessAllowed ? 'block' : 'none';\n",
              "\n",
              "        async function convertToInteractive(key) {\n",
              "          const element = document.querySelector('#df-8cc61152-256d-4f7c-8e03-11e1b8ace2d8');\n",
              "          const dataTable =\n",
              "            await google.colab.kernel.invokeFunction('convertToInteractive',\n",
              "                                                     [key], {});\n",
              "          if (!dataTable) return;\n",
              "\n",
              "          const docLinkHtml = 'Like what you see? Visit the ' +\n",
              "            '<a target=\"_blank\" href=https://colab.research.google.com/notebooks/data_table.ipynb>data table notebook</a>'\n",
              "            + ' to learn more about interactive tables.';\n",
              "          element.innerHTML = '';\n",
              "          dataTable['output_type'] = 'display_data';\n",
              "          await google.colab.output.renderOutput(dataTable, element);\n",
              "          const docLink = document.createElement('div');\n",
              "          docLink.innerHTML = docLinkHtml;\n",
              "          element.appendChild(docLink);\n",
              "        }\n",
              "      </script>\n",
              "    </div>\n",
              "  </div>\n",
              "  "
            ]
          },
          "metadata": {},
          "execution_count": 67
        }
      ]
    },
    {
      "cell_type": "code",
      "metadata": {
        "id": "0_VyMFGUuyo_"
      },
      "source": [
        "class_value = [(i+(i+10))//2 for i in np.arange(0, 100, 10)]"
      ],
      "execution_count": 68,
      "outputs": []
    },
    {
      "cell_type": "code",
      "metadata": {
        "colab": {
          "base_uri": "https://localhost:8080/"
        },
        "id": "2KAGGvxHuynZ",
        "outputId": "15682b67-7696-4b9a-ff29-49064915a50d"
      },
      "source": [
        "class_value"
      ],
      "execution_count": 69,
      "outputs": [
        {
          "output_type": "execute_result",
          "data": {
            "text/plain": [
              "[5, 15, 25, 35, 45, 55, 65, 75, 85, 95]"
            ]
          },
          "metadata": {},
          "execution_count": 69
        }
      ]
    },
    {
      "cell_type": "code",
      "metadata": {
        "id": "b9V24piEuymE"
      },
      "source": [
        "freq_dist_df['class_value'] = class_value"
      ],
      "execution_count": 70,
      "outputs": []
    },
    {
      "cell_type": "code",
      "metadata": {
        "colab": {
          "base_uri": "https://localhost:8080/"
        },
        "id": "jgTIJp_Cuyi9",
        "outputId": "77588800-92d0-4ee4-96c8-df57345d9776"
      },
      "source": [
        "freq_dist_df['frequency'] / freq_dist_df['frequency'].sum()"
      ],
      "execution_count": 71,
      "outputs": [
        {
          "output_type": "execute_result",
          "data": {
            "text/plain": [
              "class\n",
              "0 - 10      0.0\n",
              "10 - 20     0.0\n",
              "20 - 30     0.0\n",
              "30 - 40     0.0\n",
              "40 - 50     0.4\n",
              "50 - 60     0.3\n",
              "60 - 70     0.3\n",
              "70 - 80     0.0\n",
              "80 - 90     0.0\n",
              "90 - 100    0.0\n",
              "Name: frequency, dtype: float64"
            ]
          },
          "metadata": {},
          "execution_count": 71
        }
      ]
    },
    {
      "cell_type": "code",
      "metadata": {
        "id": "7NrsfMyo_VBt"
      },
      "source": [
        "freq_dist_df['relative frequency'] = freq_dist_df['frequency'] / freq_dist_df['frequency'].sum()"
      ],
      "execution_count": null,
      "outputs": []
    },
    {
      "cell_type": "code",
      "metadata": {
        "id": "uKxs__U7uye8"
      },
      "source": [
        "freq_dist_df['cumulative relative frequency'] = freq_dist_df['frequency'].cumsum() / freq_dist_df['frequency'].sum()"
      ],
      "execution_count": null,
      "outputs": []
    },
    {
      "cell_type": "code",
      "metadata": {
        "colab": {
          "base_uri": "https://localhost:8080/",
          "height": 390
        },
        "id": "_ACXDz8IuycM",
        "outputId": "fc84fca7-5b0f-49b4-81cc-cfe1094f8b05"
      },
      "source": [
        "freq_dist_df"
      ],
      "execution_count": null,
      "outputs": [
        {
          "output_type": "execute_result",
          "data": {
            "text/html": [
              "<div>\n",
              "<style scoped>\n",
              "    .dataframe tbody tr th:only-of-type {\n",
              "        vertical-align: middle;\n",
              "    }\n",
              "\n",
              "    .dataframe tbody tr th {\n",
              "        vertical-align: top;\n",
              "    }\n",
              "\n",
              "    .dataframe thead th {\n",
              "        text-align: right;\n",
              "    }\n",
              "</style>\n",
              "<table border=\"1\" class=\"dataframe\">\n",
              "  <thead>\n",
              "    <tr style=\"text-align: right;\">\n",
              "      <th></th>\n",
              "      <th>frequency</th>\n",
              "      <th>class_value</th>\n",
              "      <th>relative frequency</th>\n",
              "      <th>cumulative relative frequency</th>\n",
              "    </tr>\n",
              "    <tr>\n",
              "      <th>class</th>\n",
              "      <th></th>\n",
              "      <th></th>\n",
              "      <th></th>\n",
              "      <th></th>\n",
              "    </tr>\n",
              "  </thead>\n",
              "  <tbody>\n",
              "    <tr>\n",
              "      <th>0 - 10</th>\n",
              "      <td>0</td>\n",
              "      <td>5</td>\n",
              "      <td>0.0</td>\n",
              "      <td>0.0</td>\n",
              "    </tr>\n",
              "    <tr>\n",
              "      <th>10 - 20</th>\n",
              "      <td>0</td>\n",
              "      <td>15</td>\n",
              "      <td>0.0</td>\n",
              "      <td>0.0</td>\n",
              "    </tr>\n",
              "    <tr>\n",
              "      <th>20 - 30</th>\n",
              "      <td>0</td>\n",
              "      <td>25</td>\n",
              "      <td>0.0</td>\n",
              "      <td>0.0</td>\n",
              "    </tr>\n",
              "    <tr>\n",
              "      <th>30 - 40</th>\n",
              "      <td>0</td>\n",
              "      <td>35</td>\n",
              "      <td>0.0</td>\n",
              "      <td>0.0</td>\n",
              "    </tr>\n",
              "    <tr>\n",
              "      <th>40 - 50</th>\n",
              "      <td>4</td>\n",
              "      <td>45</td>\n",
              "      <td>0.4</td>\n",
              "      <td>0.4</td>\n",
              "    </tr>\n",
              "    <tr>\n",
              "      <th>50 - 60</th>\n",
              "      <td>3</td>\n",
              "      <td>55</td>\n",
              "      <td>0.3</td>\n",
              "      <td>0.7</td>\n",
              "    </tr>\n",
              "    <tr>\n",
              "      <th>60 - 70</th>\n",
              "      <td>3</td>\n",
              "      <td>65</td>\n",
              "      <td>0.3</td>\n",
              "      <td>1.0</td>\n",
              "    </tr>\n",
              "    <tr>\n",
              "      <th>70 - 80</th>\n",
              "      <td>0</td>\n",
              "      <td>75</td>\n",
              "      <td>0.0</td>\n",
              "      <td>1.0</td>\n",
              "    </tr>\n",
              "    <tr>\n",
              "      <th>80 - 90</th>\n",
              "      <td>0</td>\n",
              "      <td>85</td>\n",
              "      <td>0.0</td>\n",
              "      <td>1.0</td>\n",
              "    </tr>\n",
              "    <tr>\n",
              "      <th>90 - 100</th>\n",
              "      <td>0</td>\n",
              "      <td>95</td>\n",
              "      <td>0.0</td>\n",
              "      <td>1.0</td>\n",
              "    </tr>\n",
              "  </tbody>\n",
              "</table>\n",
              "</div>"
            ],
            "text/plain": [
              "          frequency  ...  cumulative relative frequency\n",
              "class                ...                               \n",
              "0 - 10            0  ...                            0.0\n",
              "10 - 20           0  ...                            0.0\n",
              "20 - 30           0  ...                            0.0\n",
              "30 - 40           0  ...                            0.0\n",
              "40 - 50           4  ...                            0.4\n",
              "50 - 60           3  ...                            0.7\n",
              "60 - 70           3  ...                            1.0\n",
              "70 - 80           0  ...                            1.0\n",
              "80 - 90           0  ...                            1.0\n",
              "90 - 100          0  ...                            1.0\n",
              "\n",
              "[10 rows x 4 columns]"
            ]
          },
          "metadata": {},
          "execution_count": 91
        }
      ]
    },
    {
      "cell_type": "markdown",
      "source": [
        "### 히스토그램(Histogram)\n",
        "    도수분포표를 막대그래프로 나타낸 것"
      ],
      "metadata": {
        "id": "Q1ZlAx8W1U-N"
      }
    },
    {
      "cell_type": "code",
      "metadata": {
        "id": "xAVRjpt_uyX6"
      },
      "source": [
        "# Matplotlib의 pyplot 모듈을 plt로 축약해서 import\n",
        "import matplotlib.pyplot as plt\n",
        "\n",
        "# 그래프가 Colab 위에 표시\n",
        "%matplotlib inline"
      ],
      "execution_count": 72,
      "outputs": []
    },
    {
      "cell_type": "code",
      "metadata": {
        "colab": {
          "base_uri": "https://localhost:8080/",
          "height": 388
        },
        "id": "YSDHns8RDlYx",
        "outputId": "e1c0932d-d9ed-4c3d-e879-f8c0057b3b72"
      },
      "source": [
        "# 캔버스 생성 ( 가로 X 세로 사이즈 포함 )\n",
        "fig = plt.figure(figsize=(10,6))\n",
        "# 캔버스 위에 그릴 영역 지정 (nrows, ncols, index)\n",
        "ax = fig.add_subplot(1, 1, 1)\n",
        "\n",
        "# 계급수 10으로 히스토그램 그림\n",
        "freq, _, _ = ax.hist(df_score_a.values, bins=10, range=(0, 100))\n",
        "# X축, Y축에 Label 설정\n",
        "ax.set_xlabel('score')\n",
        "ax.set_ylabel('person number')\n",
        "# X축을 0, 10, 20, ..., 100 눈금으로 구분\n",
        "# Y축을 0, 1, 2, ... 눈금으로 구분\n",
        "ax.set_xticks(np.linspace(0, 100, 10+1))\n",
        "ax.set_yticks(np.arange(0, freq.max()+1))\n",
        "# 그래프 표시\n",
        "plt.show()"
      ],
      "execution_count": 73,
      "outputs": [
        {
          "output_type": "display_data",
          "data": {
            "text/plain": [
              "<Figure size 720x432 with 1 Axes>"
            ],
            "image/png": "[encoded data removed]"
          },
          "metadata": {
            "needs_background": "light"
          }
        }
      ]
    },
    {
      "cell_type": "code",
      "metadata": {
        "colab": {
          "base_uri": "https://localhost:8080/"
        },
        "id": "3iYEx2y5HW0A",
        "outputId": "7f70a1b0-b61d-42be-bab8-239c9c96ab69"
      },
      "source": [
        "np.linspace(0, 100, 10+1)"
      ],
      "execution_count": 74,
      "outputs": [
        {
          "output_type": "execute_result",
          "data": {
            "text/plain": [
              "array([  0.,  10.,  20.,  30.,  40.,  50.,  60.,  70.,  80.,  90., 100.])"
            ]
          },
          "metadata": {},
          "execution_count": 74
        }
      ]
    },
    {
      "cell_type": "code",
      "metadata": {
        "colab": {
          "base_uri": "https://localhost:8080/",
          "height": 388
        },
        "id": "M2C63jgRHXJB",
        "outputId": "7490728f-1960-4c0c-e1fa-0548acd3cf2d"
      },
      "source": [
        "# 누적 상대도수\n",
        "\n",
        "fig = plt.figure(figsize=(10,6))\n",
        "ax1 = fig.add_subplot(1, 1, 1)\n",
        "# Y축 스케일이 다른 그래프를 동일한 영역에 생성\n",
        "ax2 = ax1.twinx()\n",
        "\n",
        "# 상대도수의 히스토그램 그림\n",
        "weights = np.ones_like(df_score_a) / len(df_score_a)\n",
        "rel_freq, _, _ = ax1.hist(\n",
        "    df_score_a.values, bins=10, range=(0, 100), weights=weights\n",
        ")\n",
        "\n",
        "cum_rel_freq = np.cumsum(rel_freq)\n",
        "class_value = [(i+(i+10))//2 for i in np.arange(0, 100, 10)]\n",
        "# 꺾은선 그래프 그림\n",
        "# ls = '--'는 점선으로 line을 그리는 것\n",
        "# marker = 'o'는 데이터 점을 그리는 것\n",
        "# color = 'gray'는 회색으로 선을 그리는 것\n",
        "ax2.plot(\n",
        "    class_value, cum_rel_freq, \n",
        "    ls='--', marker='o', color='gray'\n",
        ")\n",
        "\n",
        "ax1.set_xlabel('score')\n",
        "ax1.set_ylabel('relative frequency')\n",
        "ax2.set_ylabel('cumulative relative frequency')\n",
        "\n",
        "ax1.set_xticks(np.linspace(0, 100, 10+1))\n",
        "\n",
        "# 그래프 표시\n",
        "plt.show()"
      ],
      "execution_count": 76,
      "outputs": [
        {
          "output_type": "display_data",
          "data": {
            "text/plain": [
              "<Figure size 720x432 with 2 Axes>"
            ],
            "image/png": "[encoded data removed]"
          },
          "metadata": {
            "needs_background": "light"
          }
        }
      ]
    },
    {
      "cell_type": "markdown",
      "source": [
        "### 상자그림(Box plot)\n",
        "    - 데이터 산포도를 표현하는 그림\n",
        "    - Q1,Q2,Q3, IQR을 사용해서 그린다.\n",
        "    - Q1 - 1.5 * IQR, 위 경계는 Q3 + 1.5 * IQR"
      ],
      "metadata": {
        "id": "aFoZEdDO2awG"
      }
    },
    {
      "cell_type": "code",
      "metadata": {
        "colab": {
          "base_uri": "https://localhost:8080/"
        },
        "id": "siFO_gi8IF3q",
        "outputId": "919c3b7e-9b3d-4185-f79b-10fe13a19eac"
      },
      "source": [
        "np.arange(0, 100, 10)"
      ],
      "execution_count": 77,
      "outputs": [
        {
          "output_type": "execute_result",
          "data": {
            "text/plain": [
              "array([ 0, 10, 20, 30, 40, 50, 60, 70, 80, 90])"
            ]
          },
          "metadata": {},
          "execution_count": 77
        }
      ]
    },
    {
      "cell_type": "code",
      "metadata": {
        "colab": {
          "base_uri": "https://localhost:8080/"
        },
        "id": "FF9TPqZBLG29",
        "outputId": "3f542aaf-b83a-4662-e7c1-b29c1c1b0203"
      },
      "source": [
        "i = 0\n",
        "(i+(i+10))//2"
      ],
      "execution_count": 78,
      "outputs": [
        {
          "output_type": "execute_result",
          "data": {
            "text/plain": [
              "5"
            ]
          },
          "metadata": {},
          "execution_count": 78
        }
      ]
    },
    {
      "cell_type": "code",
      "metadata": {
        "colab": {
          "base_uri": "https://localhost:8080/",
          "height": 375
        },
        "id": "i1SS39abLOHy",
        "outputId": "be7790cb-b2b6-482b-9213-9becf949e2f9"
      },
      "source": [
        "fig = plt.figure(figsize=(5, 6))\n",
        "ax = fig.add_subplot(1, 1, 1)\n",
        "ax.boxplot(df_score_a.values, labels=['subject_a'])\n",
        "\n",
        "plt.show()"
      ],
      "execution_count": null,
      "outputs": [
        {
          "output_type": "display_data",
          "data": {
            "image/png": "[encoded data removed]",
            "text/plain": [
              "<Figure size 360x432 with 1 Axes>"
            ]
          },
          "metadata": {
            "needs_background": "light"
          }
        }
      ]
    },
    {
      "cell_type": "code",
      "metadata": {
        "id": "TBDz1SYfMi7w"
      },
      "source": [
        ""
      ],
      "execution_count": null,
      "outputs": []
    }
  ]
}