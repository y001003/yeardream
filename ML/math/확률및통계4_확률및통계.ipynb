{
  "nbformat": 4,
  "nbformat_minor": 0,
  "metadata": {
    "colab": {
      "name": "확률및통계4_확률및통계.ipynb",
      "provenance": [],
      "collapsed_sections": [],
      "include_colab_link": true
    },
    "kernelspec": {
      "name": "python3",
      "display_name": "Python 3"
    },
    "language_info": {
      "name": "python"
    }
  },
  "cells": [
    {
      "cell_type": "markdown",
      "metadata": {
        "id": "view-in-github",
        "colab_type": "text"
      },
      "source": [
        "<a href=\"https://colab.research.google.com/github/y001003/yeardream/blob/main/ML/math/%E1%84%92%E1%85%AA%E1%86%A8%E1%84%85%E1%85%B2%E1%86%AF%E1%84%86%E1%85%B5%E1%86%BE%E1%84%90%E1%85%A9%E1%86%BC%E1%84%80%E1%85%A84_%E1%84%92%E1%85%AA%E1%86%A8%E1%84%85%E1%85%B2%E1%86%AF%E1%84%86%E1%85%B5%E1%86%BE%E1%84%90%E1%85%A9%E1%86%BC%E1%84%80%E1%85%A8.ipynb\" target=\"_parent\"><img src=\"https://colab.research.google.com/assets/colab-badge.svg\" alt=\"Open In Colab\"/></a>"
      ]
    },
    {
      "cell_type": "markdown",
      "source": [
        "# 확률 및 통계"
      ],
      "metadata": {
        "id": "Vh7nBAvf6Sbr"
      }
    },
    {
      "cell_type": "markdown",
      "source": [
        "## 추측통계 vs 기술통계\n",
        "- 추측통계 : 일부 데이터로부터 전체의 통계적 성질을 추측하는 방식\n",
        "- 기술통계 : 전체 데이터의 통계 지표를 계산하는 방식"
      ],
      "metadata": {
        "id": "B4ylYwgO6YeL"
      }
    },
    {
      "cell_type": "markdown",
      "source": [
        "## 모집단과 표본\n",
        "- 모집단 : 모체가 되는 집단\n",
        "    - 추측하고 싶은 관측 대상 전체\n",
        "    - 모수 : 모집단의 평균, 모분산, 상관계수 등\n",
        "- 표본 : 통계에서 조사를 위해 데이터를 추출하는 것\n",
        "    - 표본추출(sampling): 모집단에서 표본을 골라냄\n",
        "    - 포본 크기(sample size): 골라낸 표본의 수\n",
        "    - 표본통계량 : 표본을 바탕으로 계산한 표본평균, 표본분산, 상관계수\n"
      ],
      "metadata": {
        "id": "efp1Cc4766_7"
      }
    },
    {
      "cell_type": "markdown",
      "source": [
        "### 표본추출\n",
        "조사해야하는 데이터 양이 많을 때, 전 데이터 조사하기에 환경적인 어려움이 따를때\n"
      ],
      "metadata": {
        "id": "rjwfP9bK7331"
      }
    },
    {
      "cell_type": "markdown",
      "source": [
        "#### 용어 정리\n",
        "- 추정량(estimator)\n",
        "    - 표본평균으로 모평균을 추측할 때, 모평의 추정량\n",
        "- 추정치(estimate)\n",
        "    - 실제 표본의 데이터 값들을 이용하여 계산한 결과\n"
      ],
      "metadata": {
        "id": "1FyFb0Cx8G1d"
      }
    },
    {
      "cell_type": "markdown",
      "source": [
        "#### 표본 추출 방법\n"
      ],
      "metadata": {
        "id": "KLhKYYVA8oL2"
      }
    },
    {
      "cell_type": "markdown",
      "source": [
        "##### 1. 무작위 추출(Random sampling)\n",
        "- 추출되는 데이터의 편향을 낮추기 위해 **임의로** 표본을 무작위 추출\n",
        "- 임의로 표본을 선택해서 추출 후 결과 확인 어렵고 일관성이 없다.\n",
        "\n"
      ],
      "metadata": {
        "id": "G_E8Llz08uT2"
      }
    },
    {
      "cell_type": "markdown",
      "source": [
        "##### 2. 복원 / 비복원 추출\n",
        "- 복원 추출(Sampling with replacement)\n",
        "    - 동일한 표본을 중복해서 선택하는 추출 방법\n",
        "- 비복원 추출(Sampling without replacement)\n",
        "    - 동일한 표본은 한 번만 선택하는 방법"
      ],
      "metadata": {
        "id": "Pfyad4H89zjb"
      }
    },
    {
      "cell_type": "code",
      "metadata": {
        "id": "17ImyZeVj36v"
      },
      "source": [
        "import numpy as np\n",
        "import pandas as pd\n",
        "import matplotlib.pyplot as plt\n",
        "\n",
        "%precision 3\n",
        "%matplotlib inline\n",
        "pd.set_option('precision', 3)\n",
        "np.set_printoptions(precision=3)"
      ],
      "execution_count": 4,
      "outputs": []
    },
    {
      "cell_type": "code",
      "metadata": {
        "id": "J_MdTh8fB2hS",
        "colab": {
          "base_uri": "https://localhost:8080/"
        },
        "outputId": "feb681b9-bfe1-4aa8-8ab9-6f645ed80f91"
      },
      "source": [
        "from sklearn.datasets import load_boston\n",
        "\n",
        "boston_houseprice_data = load_boston()\n",
        "df = pd.DataFrame(\n",
        "    data = boston_houseprice_data.data, \n",
        "    columns = boston_houseprice_data.feature_names\n",
        ")"
      ],
      "execution_count": 5,
      "outputs": [
        {
          "output_type": "stream",
          "name": "stderr",
          "text": [
            "/usr/local/lib/python3.7/dist-packages/sklearn/utils/deprecation.py:87: FutureWarning: Function load_boston is deprecated; `load_boston` is deprecated in 1.0 and will be removed in 1.2.\n",
            "\n",
            "    The Boston housing prices dataset has an ethical problem. You can refer to\n",
            "    the documentation of this function for further details.\n",
            "\n",
            "    The scikit-learn maintainers therefore strongly discourage the use of this\n",
            "    dataset unless the purpose of the code is to study and educate about\n",
            "    ethical issues in data science and machine learning.\n",
            "\n",
            "    In this special case, you can fetch the dataset from the original\n",
            "    source::\n",
            "\n",
            "        import pandas as pd\n",
            "        import numpy as np\n",
            "\n",
            "\n",
            "        data_url = \"http://lib.stat.cmu.edu/datasets/boston\"\n",
            "        raw_df = pd.read_csv(data_url, sep=\"\\s+\", skiprows=22, header=None)\n",
            "        data = np.hstack([raw_df.values[::2, :], raw_df.values[1::2, :2]])\n",
            "        target = raw_df.values[1::2, 2]\n",
            "\n",
            "    Alternative datasets include the California housing dataset (i.e.\n",
            "    :func:`~sklearn.datasets.fetch_california_housing`) and the Ames housing\n",
            "    dataset. You can load the datasets as follows::\n",
            "\n",
            "        from sklearn.datasets import fetch_california_housing\n",
            "        housing = fetch_california_housing()\n",
            "\n",
            "    for the California housing dataset and::\n",
            "\n",
            "        from sklearn.datasets import fetch_openml\n",
            "        housing = fetch_openml(name=\"house_prices\", as_frame=True)\n",
            "\n",
            "    for the Ames housing dataset.\n",
            "    \n",
            "  warnings.warn(msg, category=FutureWarning)\n"
          ]
        }
      ]
    },
    {
      "cell_type": "code",
      "metadata": {
        "colab": {
          "base_uri": "https://localhost:8080/",
          "height": 206
        },
        "id": "LcP3Vd8YB2Ih",
        "outputId": "c34a5da4-6bd2-4296-c3ba-dba12ffc86dd"
      },
      "source": [
        "df.head()"
      ],
      "execution_count": 6,
      "outputs": [
        {
          "output_type": "execute_result",
          "data": {
            "text/plain": [
              "    CRIM    ZN  INDUS  CHAS    NOX     RM   AGE    DIS  RAD    TAX  PTRATIO  \\\n",
              "0  0.006  18.0   2.31   0.0  0.538  6.575  65.2  4.090  1.0  296.0     15.3   \n",
              "1  0.027   0.0   7.07   0.0  0.469  6.421  78.9  4.967  2.0  242.0     17.8   \n",
              "2  0.027   0.0   7.07   0.0  0.469  7.185  61.1  4.967  2.0  242.0     17.8   \n",
              "3  0.032   0.0   2.18   0.0  0.458  6.998  45.8  6.062  3.0  222.0     18.7   \n",
              "4  0.069   0.0   2.18   0.0  0.458  7.147  54.2  6.062  3.0  222.0     18.7   \n",
              "\n",
              "        B  LSTAT  \n",
              "0  396.90   4.98  \n",
              "1  396.90   9.14  \n",
              "2  392.83   4.03  \n",
              "3  394.63   2.94  \n",
              "4  396.90   5.33  "
            ],
            "text/html": [
              "\n",
              "  <div id=\"df-8f131bd2-4a58-48ec-a941-f960f9a491e8\">\n",
              "    <div class=\"colab-df-container\">\n",
              "      <div>\n",
              "<style scoped>\n",
              "    .dataframe tbody tr th:only-of-type {\n",
              "        vertical-align: middle;\n",
              "    }\n",
              "\n",
              "    .dataframe tbody tr th {\n",
              "        vertical-align: top;\n",
              "    }\n",
              "\n",
              "    .dataframe thead th {\n",
              "        text-align: right;\n",
              "    }\n",
              "</style>\n",
              "<table border=\"1\" class=\"dataframe\">\n",
              "  <thead>\n",
              "    <tr style=\"text-align: right;\">\n",
              "      <th></th>\n",
              "      <th>CRIM</th>\n",
              "      <th>ZN</th>\n",
              "      <th>INDUS</th>\n",
              "      <th>CHAS</th>\n",
              "      <th>NOX</th>\n",
              "      <th>RM</th>\n",
              "      <th>AGE</th>\n",
              "      <th>DIS</th>\n",
              "      <th>RAD</th>\n",
              "      <th>TAX</th>\n",
              "      <th>PTRATIO</th>\n",
              "      <th>B</th>\n",
              "      <th>LSTAT</th>\n",
              "    </tr>\n",
              "  </thead>\n",
              "  <tbody>\n",
              "    <tr>\n",
              "      <th>0</th>\n",
              "      <td>0.006</td>\n",
              "      <td>18.0</td>\n",
              "      <td>2.31</td>\n",
              "      <td>0.0</td>\n",
              "      <td>0.538</td>\n",
              "      <td>6.575</td>\n",
              "      <td>65.2</td>\n",
              "      <td>4.090</td>\n",
              "      <td>1.0</td>\n",
              "      <td>296.0</td>\n",
              "      <td>15.3</td>\n",
              "      <td>396.90</td>\n",
              "      <td>4.98</td>\n",
              "    </tr>\n",
              "    <tr>\n",
              "      <th>1</th>\n",
              "      <td>0.027</td>\n",
              "      <td>0.0</td>\n",
              "      <td>7.07</td>\n",
              "      <td>0.0</td>\n",
              "      <td>0.469</td>\n",
              "      <td>6.421</td>\n",
              "      <td>78.9</td>\n",
              "      <td>4.967</td>\n",
              "      <td>2.0</td>\n",
              "      <td>242.0</td>\n",
              "      <td>17.8</td>\n",
              "      <td>396.90</td>\n",
              "      <td>9.14</td>\n",
              "    </tr>\n",
              "    <tr>\n",
              "      <th>2</th>\n",
              "      <td>0.027</td>\n",
              "      <td>0.0</td>\n",
              "      <td>7.07</td>\n",
              "      <td>0.0</td>\n",
              "      <td>0.469</td>\n",
              "      <td>7.185</td>\n",
              "      <td>61.1</td>\n",
              "      <td>4.967</td>\n",
              "      <td>2.0</td>\n",
              "      <td>242.0</td>\n",
              "      <td>17.8</td>\n",
              "      <td>392.83</td>\n",
              "      <td>4.03</td>\n",
              "    </tr>\n",
              "    <tr>\n",
              "      <th>3</th>\n",
              "      <td>0.032</td>\n",
              "      <td>0.0</td>\n",
              "      <td>2.18</td>\n",
              "      <td>0.0</td>\n",
              "      <td>0.458</td>\n",
              "      <td>6.998</td>\n",
              "      <td>45.8</td>\n",
              "      <td>6.062</td>\n",
              "      <td>3.0</td>\n",
              "      <td>222.0</td>\n",
              "      <td>18.7</td>\n",
              "      <td>394.63</td>\n",
              "      <td>2.94</td>\n",
              "    </tr>\n",
              "    <tr>\n",
              "      <th>4</th>\n",
              "      <td>0.069</td>\n",
              "      <td>0.0</td>\n",
              "      <td>2.18</td>\n",
              "      <td>0.0</td>\n",
              "      <td>0.458</td>\n",
              "      <td>7.147</td>\n",
              "      <td>54.2</td>\n",
              "      <td>6.062</td>\n",
              "      <td>3.0</td>\n",
              "      <td>222.0</td>\n",
              "      <td>18.7</td>\n",
              "      <td>396.90</td>\n",
              "      <td>5.33</td>\n",
              "    </tr>\n",
              "  </tbody>\n",
              "</table>\n",
              "</div>\n",
              "      <button class=\"colab-df-convert\" onclick=\"convertToInteractive('df-8f131bd2-4a58-48ec-a941-f960f9a491e8')\"\n",
              "              title=\"Convert this dataframe to an interactive table.\"\n",
              "              style=\"display:none;\">\n",
              "        \n",
              "  <svg xmlns=\"http://www.w3.org/2000/svg\" height=\"24px\"viewBox=\"0 0 24 24\"\n",
              "       width=\"24px\">\n",
              "    <path d=\"M0 0h24v24H0V0z\" fill=\"none\"/>\n",
              "    <path d=\"M18.56 5.44l.94 2.06.94-2.06 2.06-.94-2.06-.94-.94-2.06-.94 2.06-2.06.94zm-11 1L8.5 8.5l.94-2.06 2.06-.94-2.06-.94L8.5 2.5l-.94 2.06-2.06.94zm10 10l.94 2.06.94-2.06 2.06-.94-2.06-.94-.94-2.06-.94 2.06-2.06.94z\"/><path d=\"M17.41 7.96l-1.37-1.37c-.4-.4-.92-.59-1.43-.59-.52 0-1.04.2-1.43.59L10.3 9.45l-7.72 7.72c-.78.78-.78 2.05 0 2.83L4 21.41c.39.39.9.59 1.41.59.51 0 1.02-.2 1.41-.59l7.78-7.78 2.81-2.81c.8-.78.8-2.07 0-2.86zM5.41 20L4 18.59l7.72-7.72 1.47 1.35L5.41 20z\"/>\n",
              "  </svg>\n",
              "      </button>\n",
              "      \n",
              "  <style>\n",
              "    .colab-df-container {\n",
              "      display:flex;\n",
              "      flex-wrap:wrap;\n",
              "      gap: 12px;\n",
              "    }\n",
              "\n",
              "    .colab-df-convert {\n",
              "      background-color: #E8F0FE;\n",
              "      border: none;\n",
              "      border-radius: 50%;\n",
              "      cursor: pointer;\n",
              "      display: none;\n",
              "      fill: #1967D2;\n",
              "      height: 32px;\n",
              "      padding: 0 0 0 0;\n",
              "      width: 32px;\n",
              "    }\n",
              "\n",
              "    .colab-df-convert:hover {\n",
              "      background-color: #E2EBFA;\n",
              "      box-shadow: 0px 1px 2px rgba(60, 64, 67, 0.3), 0px 1px 3px 1px rgba(60, 64, 67, 0.15);\n",
              "      fill: #174EA6;\n",
              "    }\n",
              "\n",
              "    [theme=dark] .colab-df-convert {\n",
              "      background-color: #3B4455;\n",
              "      fill: #D2E3FC;\n",
              "    }\n",
              "\n",
              "    [theme=dark] .colab-df-convert:hover {\n",
              "      background-color: #434B5C;\n",
              "      box-shadow: 0px 1px 3px 1px rgba(0, 0, 0, 0.15);\n",
              "      filter: drop-shadow(0px 1px 2px rgba(0, 0, 0, 0.3));\n",
              "      fill: #FFFFFF;\n",
              "    }\n",
              "  </style>\n",
              "\n",
              "      <script>\n",
              "        const buttonEl =\n",
              "          document.querySelector('#df-8f131bd2-4a58-48ec-a941-f960f9a491e8 button.colab-df-convert');\n",
              "        buttonEl.style.display =\n",
              "          google.colab.kernel.accessAllowed ? 'block' : 'none';\n",
              "\n",
              "        async function convertToInteractive(key) {\n",
              "          const element = document.querySelector('#df-8f131bd2-4a58-48ec-a941-f960f9a491e8');\n",
              "          const dataTable =\n",
              "            await google.colab.kernel.invokeFunction('convertToInteractive',\n",
              "                                                     [key], {});\n",
              "          if (!dataTable) return;\n",
              "\n",
              "          const docLinkHtml = 'Like what you see? Visit the ' +\n",
              "            '<a target=\"_blank\" href=https://colab.research.google.com/notebooks/data_table.ipynb>data table notebook</a>'\n",
              "            + ' to learn more about interactive tables.';\n",
              "          element.innerHTML = '';\n",
              "          dataTable['output_type'] = 'display_data';\n",
              "          await google.colab.output.renderOutput(dataTable, element);\n",
              "          const docLink = document.createElement('div');\n",
              "          docLink.innerHTML = docLinkHtml;\n",
              "          element.appendChild(docLink);\n",
              "        }\n",
              "      </script>\n",
              "    </div>\n",
              "  </div>\n",
              "  "
            ]
          },
          "metadata": {},
          "execution_count": 6
        }
      ]
    },
    {
      "cell_type": "code",
      "metadata": {
        "colab": {
          "base_uri": "https://localhost:8080/"
        },
        "id": "q7tbCyz0CPo0",
        "outputId": "366d6700-2035-43dd-adcd-2598468a17de"
      },
      "source": [
        "# random 함수 기본적으로 복원추출\n",
        "np.random.choice([1,2,3],3)"
      ],
      "execution_count": 7,
      "outputs": [
        {
          "output_type": "execute_result",
          "data": {
            "text/plain": [
              "array([2, 3, 3])"
            ]
          },
          "metadata": {},
          "execution_count": 7
        }
      ]
    },
    {
      "cell_type": "code",
      "metadata": {
        "colab": {
          "base_uri": "https://localhost:8080/"
        },
        "id": "70V-HIBFTHTC",
        "outputId": "beaf6187-cf60-4d19-91e9-3aa8de3765f7"
      },
      "source": [
        "np.random.choice([1,2,3],3, replace=False)# 비복원 추출"
      ],
      "execution_count": null,
      "outputs": [
        {
          "output_type": "execute_result",
          "data": {
            "text/plain": [
              "array([2, 1, 3])"
            ]
          },
          "metadata": {},
          "execution_count": 7
        }
      ]
    },
    {
      "cell_type": "code",
      "metadata": {
        "colab": {
          "base_uri": "https://localhost:8080/"
        },
        "id": "bzfH0P8XT8nt",
        "outputId": "e0745246-8119-4f88-eb73-94b0c7054960"
      },
      "source": [
        "np.random.seed(0)\n",
        "np.random.choice([1,2,3], 3)"
      ],
      "execution_count": 8,
      "outputs": [
        {
          "output_type": "execute_result",
          "data": {
            "text/plain": [
              "array([1, 2, 1])"
            ]
          },
          "metadata": {},
          "execution_count": 8
        }
      ]
    },
    {
      "cell_type": "code",
      "metadata": {
        "colab": {
          "base_uri": "https://localhost:8080/"
        },
        "id": "BKpujB02UgjV",
        "outputId": "087750dd-9467-4ac1-c6cc-a2657ec186c9"
      },
      "source": [
        "np.random.seed(0)\n",
        "sample = np.random.choice(df['AGE'], 20) # 20개의 데이터만 복원추출\n",
        "sample.mean()"
      ],
      "execution_count": 9,
      "outputs": [
        {
          "output_type": "execute_result",
          "data": {
            "text/plain": [
              "58.785"
            ]
          },
          "metadata": {},
          "execution_count": 9
        }
      ]
    },
    {
      "cell_type": "code",
      "metadata": {
        "colab": {
          "base_uri": "https://localhost:8080/"
        },
        "id": "P2ySjNo6VBsq",
        "outputId": "ce732cf1-44ed-49a3-e1d5-4451443bab50"
      },
      "source": [
        "# 모평균\n",
        "df['AGE'].mean()"
      ],
      "execution_count": 12,
      "outputs": [
        {
          "output_type": "execute_result",
          "data": {
            "text/plain": [
              "68.575"
            ]
          },
          "metadata": {},
          "execution_count": 12
        }
      ]
    },
    {
      "cell_type": "code",
      "metadata": {
        "colab": {
          "base_uri": "https://localhost:8080/"
        },
        "id": "VAbu1aFkWJUr",
        "outputId": "67b83f79-352c-46b3-fc30-a0ff79507146"
      },
      "source": [
        "for i in range(5):\n",
        "    sample = np.random.choice(df['AGE'], 20)\n",
        "    print(f'{i+1}번째 무작위추출로 얻은 표본평균 :', sample.mean())"
      ],
      "execution_count": 13,
      "outputs": [
        {
          "output_type": "stream",
          "name": "stdout",
          "text": [
            "1번째 무작위추출로 얻은 표본평균 : 60.43000000000001\n",
            "2번째 무작위추출로 얻은 표본평균 : 73.33500000000001\n",
            "3번째 무작위추출로 얻은 표본평균 : 75.33500000000001\n",
            "4번째 무작위추출로 얻은 표본평균 : 68.7\n",
            "5번째 무작위추출로 얻은 표본평균 : 77.20000000000002\n"
          ]
        }
      ]
    },
    {
      "cell_type": "markdown",
      "source": [
        "## 확률 및 확률 분포"
      ],
      "metadata": {
        "id": "HnWFNW_P-6lT"
      }
    },
    {
      "cell_type": "markdown",
      "source": [
        "무작위 추출의 불확정성을 수반한 현상을 해석하기 위한 개념"
      ],
      "metadata": {
        "id": "7TZNFa99_LLp"
      }
    },
    {
      "cell_type": "markdown",
      "source": [
        "### 확률의 기본\n",
        "- 확률변수(Random Variable)\n",
        "    - 결과를 예측할 수는 없지만, 취하는 값과 그 값이 나올 확률이 결정되어 있는 것\n",
        "- 기본용어\n",
        "    - 시행(Trial): 실제 경험을 통해 확률변수의 결과 관측\n",
        "    - 실현값(Realization) : 시행에 의해 관측되는 값\n",
        "    - 사건(Event): '눈이 1'혹은 '홀수'와 같이, 시행 결과로 나타날 수 있는 일\n",
        "    - 근원사건(Elementary Event) : ‘눈이 1’처럼 더이상 세부적으로 분해할 수 없는 사건\n",
        "\n",
        "\n",
        "'눈이 1'이 되는 사건의 확률\n",
        "$$\n",
        "P(X=1) = \\frac{1}{6}\n",
        "$$\n",
        "\n",
        "- 상호배반(Mutually Exclusive): 각 사건이 동시에 일어날 수 없다는 개념 \n",
        "    - ex) 눈의 값이 1인 동시에 6일수는 없다.\n"
      ],
      "metadata": {
        "id": "5XQJq5ba_PSr"
      }
    },
    {
      "cell_type": "markdown",
      "source": [
        "### 확률분포(Probability Distribution)\n",
        "- 확률변수가 어떤 값과 확률로 움직이는지를 표현한 것"
      ],
      "metadata": {
        "id": "pONAa7K5CgLL"
      }
    },
    {
      "cell_type": "markdown",
      "source": [
        "![image.png](data:image/png;base64,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)"
      ],
      "metadata": {
        "id": "OaLgAvCdCtBb"
      }
    },
    {
      "cell_type": "code",
      "metadata": {
        "id": "8KUhFpwSYNGH"
      },
      "source": [
        "# 불공정한 주사위\n",
        "dice = [1,2,3,4,5,6]\n",
        "prob = [1/21, 2/21, 3/21, 4/21, 5/21, 6/21]"
      ],
      "execution_count": 14,
      "outputs": []
    },
    {
      "cell_type": "code",
      "metadata": {
        "colab": {
          "base_uri": "https://localhost:8080/"
        },
        "id": "EG0ToePKMqic",
        "outputId": "eefb6b2e-b1cc-4279-ea4b-39d8380fcfca"
      },
      "source": [
        "np.random.choice(dice, p=prob)"
      ],
      "execution_count": 15,
      "outputs": [
        {
          "output_type": "execute_result",
          "data": {
            "text/plain": [
              "2"
            ]
          },
          "metadata": {},
          "execution_count": 15
        }
      ]
    },
    {
      "cell_type": "code",
      "metadata": {
        "colab": {
          "base_uri": "https://localhost:8080/"
        },
        "id": "w_hbw-peMtQy",
        "outputId": "78d24d30-92b1-4097-fcc1-30293340a2ed"
      },
      "source": [
        "num_trial = 100\n",
        "sample = np.random.choice(dice, num_trial, p=prob)\n",
        "sample"
      ],
      "execution_count": 16,
      "outputs": [
        {
          "output_type": "execute_result",
          "data": {
            "text/plain": [
              "array([5, 2, 3, 4, 6, 2, 6, 2, 6, 4, 6, 5, 6, 1, 3, 2, 4, 2, 4, 4, 2, 5,\n",
              "       5, 3, 5, 2, 5, 6, 4, 5, 2, 6, 4, 3, 5, 1, 6, 1, 5, 3, 6, 6, 3, 5,\n",
              "       5, 5, 3, 6, 4, 6, 5, 4, 6, 4, 6, 5, 6, 5, 6, 5, 6, 5, 4, 5, 1, 4,\n",
              "       5, 4, 5, 4, 2, 4, 5, 5, 5, 5, 5, 4, 6, 4, 4, 6, 6, 5, 2, 6, 5, 6,\n",
              "       3, 6, 3, 5, 2, 6, 6, 5, 4, 2, 5, 4])"
            ]
          },
          "metadata": {},
          "execution_count": 16
        }
      ]
    },
    {
      "cell_type": "code",
      "metadata": {
        "colab": {
          "base_uri": "https://localhost:8080/",
          "height": 269
        },
        "id": "SBCRyfwjNV-j",
        "outputId": "3095367c-8f96-4371-c535-af6f378aa64d"
      },
      "source": [
        "# 도수분포표\n",
        "freq, _ = np.histogram(sample, bins=6, range=(1,7))\n",
        "pd.DataFrame(\n",
        "    {\n",
        "        'frequency':freq,\n",
        "        'relative frequency':freq/num_trial\n",
        "    },\n",
        "    index=pd.Index(np.arange(1,7), name='dice')\n",
        ")"
      ],
      "execution_count": 18,
      "outputs": [
        {
          "output_type": "execute_result",
          "data": {
            "text/plain": [
              "      frequency  relative frequency\n",
              "dice                               \n",
              "1             4                0.04\n",
              "2            12                0.12\n",
              "3             9                0.09\n",
              "4            20                0.20\n",
              "5            30                0.30\n",
              "6            25                0.25"
            ],
            "text/html": [
              "\n",
              "  <div id=\"df-e3fc74d4-969b-4a0a-960f-0a97d08b34d9\">\n",
              "    <div class=\"colab-df-container\">\n",
              "      <div>\n",
              "<style scoped>\n",
              "    .dataframe tbody tr th:only-of-type {\n",
              "        vertical-align: middle;\n",
              "    }\n",
              "\n",
              "    .dataframe tbody tr th {\n",
              "        vertical-align: top;\n",
              "    }\n",
              "\n",
              "    .dataframe thead th {\n",
              "        text-align: right;\n",
              "    }\n",
              "</style>\n",
              "<table border=\"1\" class=\"dataframe\">\n",
              "  <thead>\n",
              "    <tr style=\"text-align: right;\">\n",
              "      <th></th>\n",
              "      <th>frequency</th>\n",
              "      <th>relative frequency</th>\n",
              "    </tr>\n",
              "    <tr>\n",
              "      <th>dice</th>\n",
              "      <th></th>\n",
              "      <th></th>\n",
              "    </tr>\n",
              "  </thead>\n",
              "  <tbody>\n",
              "    <tr>\n",
              "      <th>1</th>\n",
              "      <td>4</td>\n",
              "      <td>0.04</td>\n",
              "    </tr>\n",
              "    <tr>\n",
              "      <th>2</th>\n",
              "      <td>12</td>\n",
              "      <td>0.12</td>\n",
              "    </tr>\n",
              "    <tr>\n",
              "      <th>3</th>\n",
              "      <td>9</td>\n",
              "      <td>0.09</td>\n",
              "    </tr>\n",
              "    <tr>\n",
              "      <th>4</th>\n",
              "      <td>20</td>\n",
              "      <td>0.20</td>\n",
              "    </tr>\n",
              "    <tr>\n",
              "      <th>5</th>\n",
              "      <td>30</td>\n",
              "      <td>0.30</td>\n",
              "    </tr>\n",
              "    <tr>\n",
              "      <th>6</th>\n",
              "      <td>25</td>\n",
              "      <td>0.25</td>\n",
              "    </tr>\n",
              "  </tbody>\n",
              "</table>\n",
              "</div>\n",
              "      <button class=\"colab-df-convert\" onclick=\"convertToInteractive('df-e3fc74d4-969b-4a0a-960f-0a97d08b34d9')\"\n",
              "              title=\"Convert this dataframe to an interactive table.\"\n",
              "              style=\"display:none;\">\n",
              "        \n",
              "  <svg xmlns=\"http://www.w3.org/2000/svg\" height=\"24px\"viewBox=\"0 0 24 24\"\n",
              "       width=\"24px\">\n",
              "    <path d=\"M0 0h24v24H0V0z\" fill=\"none\"/>\n",
              "    <path d=\"M18.56 5.44l.94 2.06.94-2.06 2.06-.94-2.06-.94-.94-2.06-.94 2.06-2.06.94zm-11 1L8.5 8.5l.94-2.06 2.06-.94-2.06-.94L8.5 2.5l-.94 2.06-2.06.94zm10 10l.94 2.06.94-2.06 2.06-.94-2.06-.94-.94-2.06-.94 2.06-2.06.94z\"/><path d=\"M17.41 7.96l-1.37-1.37c-.4-.4-.92-.59-1.43-.59-.52 0-1.04.2-1.43.59L10.3 9.45l-7.72 7.72c-.78.78-.78 2.05 0 2.83L4 21.41c.39.39.9.59 1.41.59.51 0 1.02-.2 1.41-.59l7.78-7.78 2.81-2.81c.8-.78.8-2.07 0-2.86zM5.41 20L4 18.59l7.72-7.72 1.47 1.35L5.41 20z\"/>\n",
              "  </svg>\n",
              "      </button>\n",
              "      \n",
              "  <style>\n",
              "    .colab-df-container {\n",
              "      display:flex;\n",
              "      flex-wrap:wrap;\n",
              "      gap: 12px;\n",
              "    }\n",
              "\n",
              "    .colab-df-convert {\n",
              "      background-color: #E8F0FE;\n",
              "      border: none;\n",
              "      border-radius: 50%;\n",
              "      cursor: pointer;\n",
              "      display: none;\n",
              "      fill: #1967D2;\n",
              "      height: 32px;\n",
              "      padding: 0 0 0 0;\n",
              "      width: 32px;\n",
              "    }\n",
              "\n",
              "    .colab-df-convert:hover {\n",
              "      background-color: #E2EBFA;\n",
              "      box-shadow: 0px 1px 2px rgba(60, 64, 67, 0.3), 0px 1px 3px 1px rgba(60, 64, 67, 0.15);\n",
              "      fill: #174EA6;\n",
              "    }\n",
              "\n",
              "    [theme=dark] .colab-df-convert {\n",
              "      background-color: #3B4455;\n",
              "      fill: #D2E3FC;\n",
              "    }\n",
              "\n",
              "    [theme=dark] .colab-df-convert:hover {\n",
              "      background-color: #434B5C;\n",
              "      box-shadow: 0px 1px 3px 1px rgba(0, 0, 0, 0.15);\n",
              "      filter: drop-shadow(0px 1px 2px rgba(0, 0, 0, 0.3));\n",
              "      fill: #FFFFFF;\n",
              "    }\n",
              "  </style>\n",
              "\n",
              "      <script>\n",
              "        const buttonEl =\n",
              "          document.querySelector('#df-e3fc74d4-969b-4a0a-960f-0a97d08b34d9 button.colab-df-convert');\n",
              "        buttonEl.style.display =\n",
              "          google.colab.kernel.accessAllowed ? 'block' : 'none';\n",
              "\n",
              "        async function convertToInteractive(key) {\n",
              "          const element = document.querySelector('#df-e3fc74d4-969b-4a0a-960f-0a97d08b34d9');\n",
              "          const dataTable =\n",
              "            await google.colab.kernel.invokeFunction('convertToInteractive',\n",
              "                                                     [key], {});\n",
              "          if (!dataTable) return;\n",
              "\n",
              "          const docLinkHtml = 'Like what you see? Visit the ' +\n",
              "            '<a target=\"_blank\" href=https://colab.research.google.com/notebooks/data_table.ipynb>data table notebook</a>'\n",
              "            + ' to learn more about interactive tables.';\n",
              "          element.innerHTML = '';\n",
              "          dataTable['output_type'] = 'display_data';\n",
              "          await google.colab.output.renderOutput(dataTable, element);\n",
              "          const docLink = document.createElement('div');\n",
              "          docLink.innerHTML = docLinkHtml;\n",
              "          element.appendChild(docLink);\n",
              "        }\n",
              "      </script>\n",
              "    </div>\n",
              "  </div>\n",
              "  "
            ]
          },
          "metadata": {},
          "execution_count": 18
        }
      ]
    },
    {
      "cell_type": "code",
      "metadata": {
        "colab": {
          "base_uri": "https://localhost:8080/",
          "height": 388
        },
        "id": "oN5sahwmNXZX",
        "outputId": "400aa518-5b8b-40e9-e333-5b2428f1678b"
      },
      "source": [
        "fig = plt.figure(figsize=(10,6))\n",
        "ax = fig.add_subplot(1, 1, 1)\n",
        "ax.hist(sample, bins=6, range=(1,7), density=True, rwidth=0.8)\n",
        "# 실제의 확률분포를 가로선으로 표시\n",
        "ax.hlines(prob, np.arange(1,7), np.arange(2,8), colors='gray')\n",
        "# 막대그래프에 계급값인 [1.5, 2.5, ..., 6.5]에 눈금을 표시\n",
        "ax.set_xticks(np.linspace(1.5, 6.5, 6))\n",
        "# 주사위 눈의 값은 [1, 2, 3, 4, 5, 6]\n",
        "ax.set_xticklabels(np.arange(1,7))\n",
        "ax.set_xlabel('dice')\n",
        "ax.set_ylabel('relative frequency')\n",
        "\n",
        "plt.show()"
      ],
      "execution_count": 19,
      "outputs": [
        {
          "output_type": "display_data",
          "data": {
            "text/plain": [
              "<Figure size 720x432 with 1 Axes>"
            ],
            "image/png": "[encoded data removed]"
          },
          "metadata": {
            "needs_background": "light"
          }
        }
      ]
    },
    {
      "cell_type": "code",
      "metadata": {
        "colab": {
          "base_uri": "https://localhost:8080/",
          "height": 392
        },
        "id": "70X0PQHuNXiB",
        "outputId": "81683e0a-db79-4b07-b5cb-04f35b224b50"
      },
      "source": [
        "num_trial = 10000\n",
        "sample = np.random.choice(dice, num_trial, p=prob)\n",
        "\n",
        "fig = plt.figure(figsize=(10,6))\n",
        "ax = fig.add_subplot(1, 1, 1)\n",
        "ax.hist(sample, bins=6, range=(1,7), density=True, rwidth=0.8)\n",
        "# 실제의 확률분포를 가로선으로 표시\n",
        "ax.hlines(prob, np.arange(1,7), np.arange(2,8), colors='gray')\n",
        "# 막대그래프에 계급값인 [1.5, 2.5, ..., 6.5]에 눈금을 표시\n",
        "ax.set_xticks(np.linspace(1.5, 6.5, 6))\n",
        "# 주사위 눈의 값은 [1, 2, 3, 4, 5, 6]\n",
        "ax.set_xticklabels(np.arange(1,7))\n",
        "ax.set_xlabel('dice')\n",
        "ax.set_ylabel('relative frequency')\n",
        "\n",
        "plt.show()"
      ],
      "execution_count": 20,
      "outputs": [
        {
          "output_type": "display_data",
          "data": {
            "text/plain": [
              "<Figure size 720x432 with 1 Axes>"
            ],
            "image/png": "[encoded data removed]"
          },
          "metadata": {
            "needs_background": "light"
          }
        }
      ]
    },
    {
      "cell_type": "code",
      "metadata": {
        "id": "pk3qvEb0NXl6",
        "colab": {
          "base_uri": "https://localhost:8080/",
          "height": 392
        },
        "outputId": "83f101ed-ce0e-4b36-9081-479a805ff487"
      },
      "source": [
        "fig = plt.figure(figsize=(10,6))\n",
        "ax = fig.add_subplot(1, 1, 1)\n",
        "ax.hist(sample, bins=6, range=(1,7), density=True, rwidth=0.8)\n",
        "# 실제의 확률분포를 가로선으로 표시\n",
        "ax.hlines(prob, np.arange(1,7), np.arange(2,8), colors='gray')\n",
        "# 막대그래프에 계급값인 [1.5, 2.5, ..., 6.5]에 눈금을 표시\n",
        "ax.set_xticks(np.linspace(1.5, 6.5, 6))\n",
        "# 주사위 눈의 값은 [1, 2, 3, 4, 5, 6]\n",
        "ax.set_xticklabels(np.arange(1,7))\n",
        "ax.set_xlabel('dice')\n",
        "ax.set_ylabel('relative frequency')\n",
        "\n",
        "plt.show()"
      ],
      "execution_count": 21,
      "outputs": [
        {
          "output_type": "display_data",
          "data": {
            "text/plain": [
              "<Figure size 720x432 with 1 Axes>"
            ],
            "image/png": "[encoded data removed]"
          },
          "metadata": {
            "needs_background": "light"
          }
        }
      ]
    },
    {
      "cell_type": "markdown",
      "source": [
        "## 추측 통계 \n",
        "- 확률 변수 및 표본 평균의 분포"
      ],
      "metadata": {
        "id": "Cv7qr27DEEBJ"
      }
    },
    {
      "cell_type": "code",
      "metadata": {
        "colab": {
          "base_uri": "https://localhost:8080/",
          "height": 392
        },
        "id": "1_ktBXY7ROfK",
        "outputId": "223012d2-de50-4533-f927-f2726b44c01d"
      },
      "source": [
        "# 모집단의 전체 데이터\n",
        "fig = plt.figure(figsize=(10,6))\n",
        "ax = fig.add_subplot(1, 1, 1)\n",
        "ax.hist(df['AGE'], bins=100, range=(0,100), density=True)\n",
        "ax.set_xlim(0,100)\n",
        "ax.set_ylim(0,0.1)\n",
        "ax.set_xlabel('age')\n",
        "ax.set_ylabel('relative frequency')\n",
        "\n",
        "plt.show()"
      ],
      "execution_count": 23,
      "outputs": [
        {
          "output_type": "display_data",
          "data": {
            "text/plain": [
              "<Figure size 720x432 with 1 Axes>"
            ],
            "image/png": "[encoded data removed]"
          },
          "metadata": {
            "needs_background": "light"
          }
        }
      ]
    },
    {
      "cell_type": "code",
      "metadata": {
        "colab": {
          "base_uri": "https://localhost:8080/",
          "height": 392
        },
        "id": "nG0j5BHQNXo1",
        "outputId": "02d3acbf-a229-4fec-d8c4-458fa54e30e1"
      },
      "source": [
        "# 10000번 복원 추출 후 확률분포\n",
        "sample = np.random.choice(df['AGE'], 10000)\n",
        "\n",
        "fig = plt.figure(figsize=(10,6))\n",
        "ax = fig.add_subplot(1, 1, 1)\n",
        "ax.hist(sample, bins=100, range=(0,100), density=True)\n",
        "ax.set_xlim(0,100)\n",
        "ax.set_ylim(0,0.1)\n",
        "ax.set_xlabel('age')\n",
        "ax.set_ylabel('relative frequency')\n",
        "\n",
        "plt.show()"
      ],
      "execution_count": null,
      "outputs": [
        {
          "output_type": "display_data",
          "data": {
            "image/png": "[encoded data removed]",
            "text/plain": [
              "<Figure size 720x432 with 1 Axes>"
            ]
          },
          "metadata": {
            "needs_background": "light"
          }
        }
      ]
    },
    {
      "cell_type": "markdown",
      "source": [
        "#### 표본평균의 분포\n",
        "- 무작위 추출에 의한 표본평균으로 모평균을 추측할 수 있다.\n"
      ],
      "metadata": {
        "id": "8kdRdNttHyF0"
      }
    },
    {
      "cell_type": "code",
      "metadata": {
        "colab": {
          "base_uri": "https://localhost:8080/"
        },
        "id": "1KYYfi74NXsa",
        "outputId": "d3cb9fe3-6486-4f34-f047-3c3c934c067b"
      },
      "source": [
        "# 모평균\n",
        "df['AGE'].mean()"
      ],
      "execution_count": 27,
      "outputs": [
        {
          "output_type": "execute_result",
          "data": {
            "text/plain": [
              "68.575"
            ]
          },
          "metadata": {},
          "execution_count": 27
        }
      ]
    },
    {
      "cell_type": "code",
      "metadata": {
        "colab": {
          "base_uri": "https://localhost:8080/",
          "height": 392
        },
        "id": "BqwRIM-SVjdY",
        "outputId": "99eb29fc-6bba-4a52-dc1c-4b49cc191940"
      },
      "source": [
        "# 표본 평균의 분포(표본 20개씩 10,000번 추출 시행)\n",
        "sample_means = [\n",
        "    np.random.choice(df['AGE'], 20).mean()\n",
        "    for _ in range(10000)\n",
        "]\n",
        "\n",
        "fig = plt.figure(figsize=(10,6))\n",
        "ax = fig.add_subplot(1, 1, 1)\n",
        "ax.hist(sample_means, bins=100, range=(0,100), density=True)\n",
        "ax.set_xlim(40,100)\n",
        "ax.set_ylim(0,0.1)\n",
        "ax.set_xlabel('age')\n",
        "ax.set_ylabel('relative frequency')\n",
        "\n",
        "plt.show()"
      ],
      "execution_count": 26,
      "outputs": [
        {
          "output_type": "display_data",
          "data": {
            "text/plain": [
              "<Figure size 720x432 with 1 Axes>"
            ],
            "image/png": "[encoded data removed]"
          },
          "metadata": {
            "needs_background": "light"
          }
        }
      ]
    },
    {
      "cell_type": "markdown",
      "source": [
        "## 추정과 검정\n",
        "- 추정 : 모수를 추측하는 것\n",
        "    - 점추정 : 하나의 값으로 추정\n",
        "    - 구간추정 : 구간으로 추정\n",
        "- 검정 : 모집단의 통계적 성질에 대해 가설을 세우고 그 가설이 옳은지 여부 판단 ch 11에서 상세히 다룸"
      ],
      "metadata": {
        "id": "m0ILvQ2DIA96"
      }
    }
  ]
}