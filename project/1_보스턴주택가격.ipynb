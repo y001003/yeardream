{
  "cells": [
    {
      "cell_type": "markdown",
      "metadata": {
        "id": "view-in-github",
        "colab_type": "text"
      },
      "source": [
        "<a href=\"https://colab.research.google.com/github/y001003/yeardream/blob/main/project/1_%EB%B3%B4%EC%8A%A4%ED%84%B4%EC%A3%BC%ED%83%9D%EA%B0%80%EA%B2%A9.ipynb\" target=\"_parent\"><img src=\"https://colab.research.google.com/assets/colab-badge.svg\" alt=\"Open In Colab\"/></a>"
      ]
    },
    {
      "cell_type": "markdown",
      "id": "d6a4fbf5",
      "metadata": {
        "id": "d6a4fbf5"
      },
      "source": [
        "# EDA (Exploratory Data Analysis)\n",
        "다양한 각도에서 데이터를 관찰하고 이해하는 과정입니다. 데이터의 이해도가 높아지면서 숨겨진 의미를 발견하고 잠재적인 문제를 미리 발견할 수 있습니다. 이를 바탕으로 데이터를 보완하거나 기존의 가설을 수정할 수 있습니다. "
      ]
    },
    {
      "cell_type": "markdown",
      "id": "b15202c3",
      "metadata": {
        "id": "b15202c3"
      },
      "source": [
        "<div class=\"alert alert-block alert-success\">\n",
        "    <b>목표</b> : 주택가격과 관련 있는 Factor를 찾는다. \n",
        "</div>"
      ]
    },
    {
      "cell_type": "markdown",
      "id": "3778205d",
      "metadata": {
        "id": "3778205d"
      },
      "source": [
        "데이터를 1) 전처리한 후 분포를 2) 시각화하고 3) 다양한 기준으로 주택 가격을 분석해 보세요.\n",
        "- 데이터를 분류한 근거를 글로 남겨주세요."
      ]
    },
    {
      "cell_type": "code",
      "execution_count": 1,
      "id": "591915dd",
      "metadata": {
        "id": "591915dd"
      },
      "outputs": [],
      "source": [
        "import pandas as pd"
      ]
    },
    {
      "cell_type": "code",
      "source": [
        "from google.colab import drive\n",
        "drive.mount('/content/drive')"
      ],
      "metadata": {
        "colab": {
          "base_uri": "https://localhost:8080/"
        },
        "id": "tLY-nJuXfHjx",
        "outputId": "e944d730-4e66-4e7c-b7b1-315e75678348"
      },
      "id": "tLY-nJuXfHjx",
      "execution_count": 2,
      "outputs": [
        {
          "output_type": "stream",
          "name": "stdout",
          "text": [
            "Drive already mounted at /content/drive; to attempt to forcibly remount, call drive.mount(\"/content/drive\", force_remount=True).\n"
          ]
        }
      ]
    },
    {
      "cell_type": "markdown",
      "id": "7a9d53a2",
      "metadata": {
        "id": "7a9d53a2"
      },
      "source": [
        "데이터 살펴보기"
      ]
    },
    {
      "cell_type": "code",
      "source": [
        "!pip install xlrd==1.2.0"
      ],
      "metadata": {
        "colab": {
          "base_uri": "https://localhost:8080/"
        },
        "id": "7pc2l1zwfwgW",
        "outputId": "716f74f0-ac05-4e9b-9c35-9ffb7ee504ea"
      },
      "id": "7pc2l1zwfwgW",
      "execution_count": 3,
      "outputs": [
        {
          "output_type": "stream",
          "name": "stdout",
          "text": [
            "Requirement already satisfied: xlrd==1.2.0 in /usr/local/lib/python3.7/dist-packages (1.2.0)\n"
          ]
        }
      ]
    },
    {
      "cell_type": "code",
      "execution_count": 4,
      "id": "f51d6094",
      "metadata": {
        "colab": {
          "base_uri": "https://localhost:8080/",
          "height": 206
        },
        "id": "f51d6094",
        "outputId": "052fc276-4883-422a-f6ad-eb3394008be1"
      },
      "outputs": [
        {
          "output_type": "execute_result",
          "data": {
            "text/plain": [
              "      CRIM    ZN  INDUS  CHAS    NOX     RM   AGE     DIS  RAD  TAX  PTRATIO  \\\n",
              "0  0.00632  18.0   2.31     0  0.538  6.575  65.2  4.0900    1  296     15.3   \n",
              "1  0.02731   0.0   7.07     0  0.469  6.421  78.9  4.9671    2  242     17.8   \n",
              "2  0.02729   0.0   7.07     0  0.469  7.185  61.1  4.9671    2  242     17.8   \n",
              "3  0.03237   0.0   2.18     0  0.458  6.998  45.8  6.0622    3  222     18.7   \n",
              "4  0.06905   0.0   2.18     0  0.458  7.147  54.2  6.0622    3  222     18.7   \n",
              "\n",
              "        B  LSTAT  MEDV  CAT. MEDV  \n",
              "0  396.90   4.98  24.0          0  \n",
              "1  396.90   9.14  21.6          0  \n",
              "2  392.83   4.03  34.7          1  \n",
              "3  394.63   2.94  33.4          1  \n",
              "4  396.90   5.33  36.2          1  "
            ],
            "text/html": [
              "\n",
              "  <div id=\"df-4b295527-a239-4dc6-81bb-1fe58f998435\">\n",
              "    <div class=\"colab-df-container\">\n",
              "      <div>\n",
              "<style scoped>\n",
              "    .dataframe tbody tr th:only-of-type {\n",
              "        vertical-align: middle;\n",
              "    }\n",
              "\n",
              "    .dataframe tbody tr th {\n",
              "        vertical-align: top;\n",
              "    }\n",
              "\n",
              "    .dataframe thead th {\n",
              "        text-align: right;\n",
              "    }\n",
              "</style>\n",
              "<table border=\"1\" class=\"dataframe\">\n",
              "  <thead>\n",
              "    <tr style=\"text-align: right;\">\n",
              "      <th></th>\n",
              "      <th>CRIM</th>\n",
              "      <th>ZN</th>\n",
              "      <th>INDUS</th>\n",
              "      <th>CHAS</th>\n",
              "      <th>NOX</th>\n",
              "      <th>RM</th>\n",
              "      <th>AGE</th>\n",
              "      <th>DIS</th>\n",
              "      <th>RAD</th>\n",
              "      <th>TAX</th>\n",
              "      <th>PTRATIO</th>\n",
              "      <th>B</th>\n",
              "      <th>LSTAT</th>\n",
              "      <th>MEDV</th>\n",
              "      <th>CAT. MEDV</th>\n",
              "    </tr>\n",
              "  </thead>\n",
              "  <tbody>\n",
              "    <tr>\n",
              "      <th>0</th>\n",
              "      <td>0.00632</td>\n",
              "      <td>18.0</td>\n",
              "      <td>2.31</td>\n",
              "      <td>0</td>\n",
              "      <td>0.538</td>\n",
              "      <td>6.575</td>\n",
              "      <td>65.2</td>\n",
              "      <td>4.0900</td>\n",
              "      <td>1</td>\n",
              "      <td>296</td>\n",
              "      <td>15.3</td>\n",
              "      <td>396.90</td>\n",
              "      <td>4.98</td>\n",
              "      <td>24.0</td>\n",
              "      <td>0</td>\n",
              "    </tr>\n",
              "    <tr>\n",
              "      <th>1</th>\n",
              "      <td>0.02731</td>\n",
              "      <td>0.0</td>\n",
              "      <td>7.07</td>\n",
              "      <td>0</td>\n",
              "      <td>0.469</td>\n",
              "      <td>6.421</td>\n",
              "      <td>78.9</td>\n",
              "      <td>4.9671</td>\n",
              "      <td>2</td>\n",
              "      <td>242</td>\n",
              "      <td>17.8</td>\n",
              "      <td>396.90</td>\n",
              "      <td>9.14</td>\n",
              "      <td>21.6</td>\n",
              "      <td>0</td>\n",
              "    </tr>\n",
              "    <tr>\n",
              "      <th>2</th>\n",
              "      <td>0.02729</td>\n",
              "      <td>0.0</td>\n",
              "      <td>7.07</td>\n",
              "      <td>0</td>\n",
              "      <td>0.469</td>\n",
              "      <td>7.185</td>\n",
              "      <td>61.1</td>\n",
              "      <td>4.9671</td>\n",
              "      <td>2</td>\n",
              "      <td>242</td>\n",
              "      <td>17.8</td>\n",
              "      <td>392.83</td>\n",
              "      <td>4.03</td>\n",
              "      <td>34.7</td>\n",
              "      <td>1</td>\n",
              "    </tr>\n",
              "    <tr>\n",
              "      <th>3</th>\n",
              "      <td>0.03237</td>\n",
              "      <td>0.0</td>\n",
              "      <td>2.18</td>\n",
              "      <td>0</td>\n",
              "      <td>0.458</td>\n",
              "      <td>6.998</td>\n",
              "      <td>45.8</td>\n",
              "      <td>6.0622</td>\n",
              "      <td>3</td>\n",
              "      <td>222</td>\n",
              "      <td>18.7</td>\n",
              "      <td>394.63</td>\n",
              "      <td>2.94</td>\n",
              "      <td>33.4</td>\n",
              "      <td>1</td>\n",
              "    </tr>\n",
              "    <tr>\n",
              "      <th>4</th>\n",
              "      <td>0.06905</td>\n",
              "      <td>0.0</td>\n",
              "      <td>2.18</td>\n",
              "      <td>0</td>\n",
              "      <td>0.458</td>\n",
              "      <td>7.147</td>\n",
              "      <td>54.2</td>\n",
              "      <td>6.0622</td>\n",
              "      <td>3</td>\n",
              "      <td>222</td>\n",
              "      <td>18.7</td>\n",
              "      <td>396.90</td>\n",
              "      <td>5.33</td>\n",
              "      <td>36.2</td>\n",
              "      <td>1</td>\n",
              "    </tr>\n",
              "  </tbody>\n",
              "</table>\n",
              "</div>\n",
              "      <button class=\"colab-df-convert\" onclick=\"convertToInteractive('df-4b295527-a239-4dc6-81bb-1fe58f998435')\"\n",
              "              title=\"Convert this dataframe to an interactive table.\"\n",
              "              style=\"display:none;\">\n",
              "        \n",
              "  <svg xmlns=\"http://www.w3.org/2000/svg\" height=\"24px\"viewBox=\"0 0 24 24\"\n",
              "       width=\"24px\">\n",
              "    <path d=\"M0 0h24v24H0V0z\" fill=\"none\"/>\n",
              "    <path d=\"M18.56 5.44l.94 2.06.94-2.06 2.06-.94-2.06-.94-.94-2.06-.94 2.06-2.06.94zm-11 1L8.5 8.5l.94-2.06 2.06-.94-2.06-.94L8.5 2.5l-.94 2.06-2.06.94zm10 10l.94 2.06.94-2.06 2.06-.94-2.06-.94-.94-2.06-.94 2.06-2.06.94z\"/><path d=\"M17.41 7.96l-1.37-1.37c-.4-.4-.92-.59-1.43-.59-.52 0-1.04.2-1.43.59L10.3 9.45l-7.72 7.72c-.78.78-.78 2.05 0 2.83L4 21.41c.39.39.9.59 1.41.59.51 0 1.02-.2 1.41-.59l7.78-7.78 2.81-2.81c.8-.78.8-2.07 0-2.86zM5.41 20L4 18.59l7.72-7.72 1.47 1.35L5.41 20z\"/>\n",
              "  </svg>\n",
              "      </button>\n",
              "      \n",
              "  <style>\n",
              "    .colab-df-container {\n",
              "      display:flex;\n",
              "      flex-wrap:wrap;\n",
              "      gap: 12px;\n",
              "    }\n",
              "\n",
              "    .colab-df-convert {\n",
              "      background-color: #E8F0FE;\n",
              "      border: none;\n",
              "      border-radius: 50%;\n",
              "      cursor: pointer;\n",
              "      display: none;\n",
              "      fill: #1967D2;\n",
              "      height: 32px;\n",
              "      padding: 0 0 0 0;\n",
              "      width: 32px;\n",
              "    }\n",
              "\n",
              "    .colab-df-convert:hover {\n",
              "      background-color: #E2EBFA;\n",
              "      box-shadow: 0px 1px 2px rgba(60, 64, 67, 0.3), 0px 1px 3px 1px rgba(60, 64, 67, 0.15);\n",
              "      fill: #174EA6;\n",
              "    }\n",
              "\n",
              "    [theme=dark] .colab-df-convert {\n",
              "      background-color: #3B4455;\n",
              "      fill: #D2E3FC;\n",
              "    }\n",
              "\n",
              "    [theme=dark] .colab-df-convert:hover {\n",
              "      background-color: #434B5C;\n",
              "      box-shadow: 0px 1px 3px 1px rgba(0, 0, 0, 0.15);\n",
              "      filter: drop-shadow(0px 1px 2px rgba(0, 0, 0, 0.3));\n",
              "      fill: #FFFFFF;\n",
              "    }\n",
              "  </style>\n",
              "\n",
              "      <script>\n",
              "        const buttonEl =\n",
              "          document.querySelector('#df-4b295527-a239-4dc6-81bb-1fe58f998435 button.colab-df-convert');\n",
              "        buttonEl.style.display =\n",
              "          google.colab.kernel.accessAllowed ? 'block' : 'none';\n",
              "\n",
              "        async function convertToInteractive(key) {\n",
              "          const element = document.querySelector('#df-4b295527-a239-4dc6-81bb-1fe58f998435');\n",
              "          const dataTable =\n",
              "            await google.colab.kernel.invokeFunction('convertToInteractive',\n",
              "                                                     [key], {});\n",
              "          if (!dataTable) return;\n",
              "\n",
              "          const docLinkHtml = 'Like what you see? Visit the ' +\n",
              "            '<a target=\"_blank\" href=https://colab.research.google.com/notebooks/data_table.ipynb>data table notebook</a>'\n",
              "            + ' to learn more about interactive tables.';\n",
              "          element.innerHTML = '';\n",
              "          dataTable['output_type'] = 'display_data';\n",
              "          await google.colab.output.renderOutput(dataTable, element);\n",
              "          const docLink = document.createElement('div');\n",
              "          docLink.innerHTML = docLinkHtml;\n",
              "          element.appendChild(docLink);\n",
              "        }\n",
              "      </script>\n",
              "    </div>\n",
              "  </div>\n",
              "  "
            ]
          },
          "metadata": {},
          "execution_count": 4
        }
      ],
      "source": [
        "df = pd.read_excel('/content/drive/MyDrive/이어드림/toy_project_boston/BostonHousing.xls')\n",
        "df.head()"
      ]
    },
    {
      "cell_type": "markdown",
      "id": "007bbc40",
      "metadata": {
        "id": "007bbc40"
      },
      "source": [
        "| 변수 | 설명 |\n",
        "| ---- | ---- |\n",
        "| CRIM | 1인당 범죄율 | \n",
        "| ZN | 25,000 평방피트를 초과하는 거주지역의 비율 | \n",
        "| INDUS | 비소매상업지역 면적 비율 |\n",
        "| CHAS | 찰스강의 경계에 위치한 경우 1, 아니면 0 |\n",
        "| NOX | 일산화질소 농도 | \n",
        "| RM | 방의 수 |\n",
        "| AGE | 1940년 이전에 건축된 주택의 비율 |\n",
        "| DIS | 직업센터까지의 접근성 지수 |\n",
        "| RAD | 고속도로까지의 접근성 지수 |\n",
        "| TAX | 재산세율 | \n",
        "| PTRATIO | 학생-교사 비율 |\n",
        "| B | 흑인 비율 |\n",
        "| LSTAT | 하위 계층 비율 | \n",
        "| MEDV | 본인 소유의 주택 가격 (중앙값), 단위 1,000$ |\n",
        "| CAT.MEDV | MEDV가 30,000을 넘으면 1 아니면 0 |"
      ]
    },
    {
      "cell_type": "markdown",
      "id": "f3a595ee",
      "metadata": {
        "id": "f3a595ee"
      },
      "source": [
        "## 데이터 타입과 결측값 확인하기"
      ]
    },
    {
      "cell_type": "markdown",
      "source": [
        "### 데이터 타입 확인"
      ],
      "metadata": {
        "id": "lnVLb435hIZI"
      },
      "id": "lnVLb435hIZI"
    },
    {
      "cell_type": "code",
      "execution_count": 5,
      "id": "9fef4f2e",
      "metadata": {
        "colab": {
          "base_uri": "https://localhost:8080/"
        },
        "id": "9fef4f2e",
        "outputId": "01e698fd-598a-48df-a4d3-75746d6ece2b"
      },
      "outputs": [
        {
          "output_type": "stream",
          "name": "stdout",
          "text": [
            "<class 'pandas.core.frame.DataFrame'>\n",
            "RangeIndex: 506 entries, 0 to 505\n",
            "Data columns (total 15 columns):\n",
            " #   Column     Non-Null Count  Dtype  \n",
            "---  ------     --------------  -----  \n",
            " 0   CRIM       506 non-null    float64\n",
            " 1   ZN         506 non-null    float64\n",
            " 2   INDUS      506 non-null    float64\n",
            " 3   CHAS       506 non-null    int64  \n",
            " 4   NOX        506 non-null    float64\n",
            " 5   RM         506 non-null    float64\n",
            " 6   AGE        506 non-null    float64\n",
            " 7   DIS        506 non-null    float64\n",
            " 8   RAD        506 non-null    int64  \n",
            " 9   TAX        506 non-null    int64  \n",
            " 10  PTRATIO    506 non-null    float64\n",
            " 11  B          506 non-null    float64\n",
            " 12  LSTAT      506 non-null    float64\n",
            " 13  MEDV       506 non-null    float64\n",
            " 14  CAT. MEDV  506 non-null    int64  \n",
            "dtypes: float64(11), int64(4)\n",
            "memory usage: 59.4 KB\n"
          ]
        }
      ],
      "source": [
        "df.info()"
      ]
    },
    {
      "cell_type": "markdown",
      "source": [
        "### 결측값 확인"
      ],
      "metadata": {
        "id": "qoW_MduahYeW"
      },
      "id": "qoW_MduahYeW"
    },
    {
      "cell_type": "code",
      "source": [
        "df.isnull().sum()"
      ],
      "metadata": {
        "colab": {
          "base_uri": "https://localhost:8080/"
        },
        "id": "wo7mAmBhg3oS",
        "outputId": "93e32fcf-6f93-44ff-cba6-6c62d876605f"
      },
      "id": "wo7mAmBhg3oS",
      "execution_count": 6,
      "outputs": [
        {
          "output_type": "execute_result",
          "data": {
            "text/plain": [
              "CRIM         0\n",
              "ZN           0\n",
              "INDUS        0\n",
              "CHAS         0\n",
              "NOX          0\n",
              "RM           0\n",
              "AGE          0\n",
              "DIS          0\n",
              "RAD          0\n",
              "TAX          0\n",
              "PTRATIO      0\n",
              "B            0\n",
              "LSTAT        0\n",
              "MEDV         0\n",
              "CAT. MEDV    0\n",
              "dtype: int64"
            ]
          },
          "metadata": {},
          "execution_count": 6
        }
      ]
    },
    {
      "cell_type": "markdown",
      "id": "14bc6b5a",
      "metadata": {
        "id": "14bc6b5a"
      },
      "source": [
        "## 데이터 분포 확인하기"
      ]
    },
    {
      "cell_type": "code",
      "execution_count": null,
      "id": "b69dfdf8",
      "metadata": {
        "id": "b69dfdf8"
      },
      "outputs": [],
      "source": [
        ""
      ]
    },
    {
      "cell_type": "markdown",
      "id": "e5cc5fdb",
      "metadata": {
        "id": "e5cc5fdb"
      },
      "source": [
        "주택가격 (`MEDV`)과 관련 있는 Factor를 찾아보세요\n",
        "- 대형 평수 vs 소형 평슈\n",
        "- 노후화 정도와 집값의 관계는?\n",
        "- 직주근접?\n",
        "- 찰스강뷰?\n",
        "- 직장이 가까우면서 소형 평수인 부동산의 가격은?"
      ]
    },
    {
      "cell_type": "code",
      "execution_count": null,
      "id": "fb0da196",
      "metadata": {
        "id": "fb0da196"
      },
      "outputs": [],
      "source": [
        ""
      ]
    },
    {
      "cell_type": "markdown",
      "id": "30e17662",
      "metadata": {
        "id": "30e17662"
      },
      "source": [
        "<div class=\"alert alert-block alert-success\">\n",
        "<b>채점기준</b> <br>\n",
        "<ul>\n",
        "    <li>데이터를 3건이 상의 변수를 분석했는가? </li>\n",
        "    <li>데이터를 분류한 기준을 논리적으로 정리했는가</li>       \n",
        "    <li>데이터를 차트로 시각화했는가? </li>\n",
        "    <li>결과를 분석해서 정리했는가? </li>       \n",
        "    <li>심도있게 분석했는가? </li>     \n",
        "</div>"
      ]
    }
  ],
  "metadata": {
    "kernelspec": {
      "display_name": "Python 3",
      "language": "python",
      "name": "python3"
    },
    "language_info": {
      "codemirror_mode": {
        "name": "ipython",
        "version": 3
      },
      "file_extension": ".py",
      "mimetype": "text/x-python",
      "name": "python",
      "nbconvert_exporter": "python",
      "pygments_lexer": "ipython3",
      "version": "3.8.8"
    },
    "toc": {
      "base_numbering": 1,
      "nav_menu": {},
      "number_sections": true,
      "sideBar": true,
      "skip_h1_title": false,
      "title_cell": "Table of Contents",
      "title_sidebar": "Contents",
      "toc_cell": false,
      "toc_position": {},
      "toc_section_display": true,
      "toc_window_display": false
    },
    "colab": {
      "name": "1.보스턴주택가격.ipynb",
      "provenance": [],
      "include_colab_link": true
    }
  },
  "nbformat": 4,
  "nbformat_minor": 5
}