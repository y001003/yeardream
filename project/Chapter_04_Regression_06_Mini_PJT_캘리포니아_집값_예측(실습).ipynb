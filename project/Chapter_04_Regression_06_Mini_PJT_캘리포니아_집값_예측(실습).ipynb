{
  "cells": [
    {
      "cell_type": "markdown",
      "metadata": {
        "id": "view-in-github",
        "colab_type": "text"
      },
      "source": [
        "<a href=\"https://colab.research.google.com/github/y001003/yeardream/blob/main/project/Chapter_04_Regression_06_Mini_PJT_%E1%84%8F%E1%85%A2%E1%86%AF%E1%84%85%E1%85%B5%E1%84%91%E1%85%A9%E1%84%82%E1%85%B5%E1%84%8B%E1%85%A1_%E1%84%8C%E1%85%B5%E1%86%B8%E1%84%80%E1%85%A1%E1%86%B9_%E1%84%8B%E1%85%A8%E1%84%8E%E1%85%B3%E1%86%A8(%E1%84%89%E1%85%B5%E1%86%AF%E1%84%89%E1%85%B3%E1%86%B8).ipynb\" target=\"_parent\"><img src=\"https://colab.research.google.com/assets/colab-badge.svg\" alt=\"Open In Colab\"/></a>"
      ]
    },
    {
      "cell_type": "markdown",
      "metadata": {
        "id": "9vs-4eWA5PQr"
      },
      "source": [
        "\n",
        "## Mini PJT\n",
        "\n",
        "- `California Housing` 데이터셋을 이용하여 선형회귀 문제를 풀어봅니다.\n",
        "\n",
        "(Source : https://scikit-learn.org/stable/datasets/real_world.html#california-housing-dataset)\n",
        "\n",
        "\n",
        "- 단순 선형회귀를 통해 각 Feature들을 이용하여 집값을 예측해봅니다.\n",
        "\n",
        "\n",
        "- 20640개의 row, 8개의 column으로 구성되어 있습니다.\n",
        "\n",
        "\n",
        "- 각 feature별 영향력을 알아보고, 테스트 해봅니다."
      ]
    },
    {
      "cell_type": "markdown",
      "source": [
        "### 1. 데이터 및 라이브러리 불러오기"
      ],
      "metadata": {
        "id": "V9L6E677nwBF"
      }
    },
    {
      "cell_type": "code",
      "execution_count": 1,
      "metadata": {
        "id": "g-mMxRu05PQr"
      },
      "outputs": [],
      "source": [
        "# 라이브러리 불러오기\n",
        "import numpy as np\n",
        "import pandas as pd\n",
        "import matplotlib.pyplot as plt\n",
        "import seaborn as sns"
      ]
    },
    {
      "cell_type": "code",
      "execution_count": 4,
      "metadata": {
        "id": "oXs_Nbkk5PQs",
        "outputId": "90127df7-2c8a-4c96-ad2a-dda2db1dce74",
        "colab": {
          "base_uri": "https://localhost:8080/",
          "height": 424
        }
      },
      "outputs": [
        {
          "output_type": "execute_result",
          "data": {
            "text/plain": [
              "       MedInc  HouseAge  AveRooms  AveBedrms  Population  AveOccup  Latitude  \\\n",
              "0      8.3252      41.0  6.984127   1.023810       322.0  2.555556     37.88   \n",
              "1      8.3014      21.0  6.238137   0.971880      2401.0  2.109842     37.86   \n",
              "2      7.2574      52.0  8.288136   1.073446       496.0  2.802260     37.85   \n",
              "3      5.6431      52.0  5.817352   1.073059       558.0  2.547945     37.85   \n",
              "4      3.8462      52.0  6.281853   1.081081       565.0  2.181467     37.85   \n",
              "...       ...       ...       ...        ...         ...       ...       ...   \n",
              "20635  1.5603      25.0  5.045455   1.133333       845.0  2.560606     39.48   \n",
              "20636  2.5568      18.0  6.114035   1.315789       356.0  3.122807     39.49   \n",
              "20637  1.7000      17.0  5.205543   1.120092      1007.0  2.325635     39.43   \n",
              "20638  1.8672      18.0  5.329513   1.171920       741.0  2.123209     39.43   \n",
              "20639  2.3886      16.0  5.254717   1.162264      1387.0  2.616981     39.37   \n",
              "\n",
              "       Longitude  MedHouseVal  \n",
              "0        -122.23        4.526  \n",
              "1        -122.22        3.585  \n",
              "2        -122.24        3.521  \n",
              "3        -122.25        3.413  \n",
              "4        -122.25        3.422  \n",
              "...          ...          ...  \n",
              "20635    -121.09        0.781  \n",
              "20636    -121.21        0.771  \n",
              "20637    -121.22        0.923  \n",
              "20638    -121.32        0.847  \n",
              "20639    -121.24        0.894  \n",
              "\n",
              "[20640 rows x 9 columns]"
            ],
            "text/html": [
              "\n",
              "  <div id=\"df-e64a693b-bc6c-4fa5-b429-fbca3aa615aa\">\n",
              "    <div class=\"colab-df-container\">\n",
              "      <div>\n",
              "<style scoped>\n",
              "    .dataframe tbody tr th:only-of-type {\n",
              "        vertical-align: middle;\n",
              "    }\n",
              "\n",
              "    .dataframe tbody tr th {\n",
              "        vertical-align: top;\n",
              "    }\n",
              "\n",
              "    .dataframe thead th {\n",
              "        text-align: right;\n",
              "    }\n",
              "</style>\n",
              "<table border=\"1\" class=\"dataframe\">\n",
              "  <thead>\n",
              "    <tr style=\"text-align: right;\">\n",
              "      <th></th>\n",
              "      <th>MedInc</th>\n",
              "      <th>HouseAge</th>\n",
              "      <th>AveRooms</th>\n",
              "      <th>AveBedrms</th>\n",
              "      <th>Population</th>\n",
              "      <th>AveOccup</th>\n",
              "      <th>Latitude</th>\n",
              "      <th>Longitude</th>\n",
              "      <th>MedHouseVal</th>\n",
              "    </tr>\n",
              "  </thead>\n",
              "  <tbody>\n",
              "    <tr>\n",
              "      <th>0</th>\n",
              "      <td>8.3252</td>\n",
              "      <td>41.0</td>\n",
              "      <td>6.984127</td>\n",
              "      <td>1.023810</td>\n",
              "      <td>322.0</td>\n",
              "      <td>2.555556</td>\n",
              "      <td>37.88</td>\n",
              "      <td>-122.23</td>\n",
              "      <td>4.526</td>\n",
              "    </tr>\n",
              "    <tr>\n",
              "      <th>1</th>\n",
              "      <td>8.3014</td>\n",
              "      <td>21.0</td>\n",
              "      <td>6.238137</td>\n",
              "      <td>0.971880</td>\n",
              "      <td>2401.0</td>\n",
              "      <td>2.109842</td>\n",
              "      <td>37.86</td>\n",
              "      <td>-122.22</td>\n",
              "      <td>3.585</td>\n",
              "    </tr>\n",
              "    <tr>\n",
              "      <th>2</th>\n",
              "      <td>7.2574</td>\n",
              "      <td>52.0</td>\n",
              "      <td>8.288136</td>\n",
              "      <td>1.073446</td>\n",
              "      <td>496.0</td>\n",
              "      <td>2.802260</td>\n",
              "      <td>37.85</td>\n",
              "      <td>-122.24</td>\n",
              "      <td>3.521</td>\n",
              "    </tr>\n",
              "    <tr>\n",
              "      <th>3</th>\n",
              "      <td>5.6431</td>\n",
              "      <td>52.0</td>\n",
              "      <td>5.817352</td>\n",
              "      <td>1.073059</td>\n",
              "      <td>558.0</td>\n",
              "      <td>2.547945</td>\n",
              "      <td>37.85</td>\n",
              "      <td>-122.25</td>\n",
              "      <td>3.413</td>\n",
              "    </tr>\n",
              "    <tr>\n",
              "      <th>4</th>\n",
              "      <td>3.8462</td>\n",
              "      <td>52.0</td>\n",
              "      <td>6.281853</td>\n",
              "      <td>1.081081</td>\n",
              "      <td>565.0</td>\n",
              "      <td>2.181467</td>\n",
              "      <td>37.85</td>\n",
              "      <td>-122.25</td>\n",
              "      <td>3.422</td>\n",
              "    </tr>\n",
              "    <tr>\n",
              "      <th>...</th>\n",
              "      <td>...</td>\n",
              "      <td>...</td>\n",
              "      <td>...</td>\n",
              "      <td>...</td>\n",
              "      <td>...</td>\n",
              "      <td>...</td>\n",
              "      <td>...</td>\n",
              "      <td>...</td>\n",
              "      <td>...</td>\n",
              "    </tr>\n",
              "    <tr>\n",
              "      <th>20635</th>\n",
              "      <td>1.5603</td>\n",
              "      <td>25.0</td>\n",
              "      <td>5.045455</td>\n",
              "      <td>1.133333</td>\n",
              "      <td>845.0</td>\n",
              "      <td>2.560606</td>\n",
              "      <td>39.48</td>\n",
              "      <td>-121.09</td>\n",
              "      <td>0.781</td>\n",
              "    </tr>\n",
              "    <tr>\n",
              "      <th>20636</th>\n",
              "      <td>2.5568</td>\n",
              "      <td>18.0</td>\n",
              "      <td>6.114035</td>\n",
              "      <td>1.315789</td>\n",
              "      <td>356.0</td>\n",
              "      <td>3.122807</td>\n",
              "      <td>39.49</td>\n",
              "      <td>-121.21</td>\n",
              "      <td>0.771</td>\n",
              "    </tr>\n",
              "    <tr>\n",
              "      <th>20637</th>\n",
              "      <td>1.7000</td>\n",
              "      <td>17.0</td>\n",
              "      <td>5.205543</td>\n",
              "      <td>1.120092</td>\n",
              "      <td>1007.0</td>\n",
              "      <td>2.325635</td>\n",
              "      <td>39.43</td>\n",
              "      <td>-121.22</td>\n",
              "      <td>0.923</td>\n",
              "    </tr>\n",
              "    <tr>\n",
              "      <th>20638</th>\n",
              "      <td>1.8672</td>\n",
              "      <td>18.0</td>\n",
              "      <td>5.329513</td>\n",
              "      <td>1.171920</td>\n",
              "      <td>741.0</td>\n",
              "      <td>2.123209</td>\n",
              "      <td>39.43</td>\n",
              "      <td>-121.32</td>\n",
              "      <td>0.847</td>\n",
              "    </tr>\n",
              "    <tr>\n",
              "      <th>20639</th>\n",
              "      <td>2.3886</td>\n",
              "      <td>16.0</td>\n",
              "      <td>5.254717</td>\n",
              "      <td>1.162264</td>\n",
              "      <td>1387.0</td>\n",
              "      <td>2.616981</td>\n",
              "      <td>39.37</td>\n",
              "      <td>-121.24</td>\n",
              "      <td>0.894</td>\n",
              "    </tr>\n",
              "  </tbody>\n",
              "</table>\n",
              "<p>20640 rows × 9 columns</p>\n",
              "</div>\n",
              "      <button class=\"colab-df-convert\" onclick=\"convertToInteractive('df-e64a693b-bc6c-4fa5-b429-fbca3aa615aa')\"\n",
              "              title=\"Convert this dataframe to an interactive table.\"\n",
              "              style=\"display:none;\">\n",
              "        \n",
              "  <svg xmlns=\"http://www.w3.org/2000/svg\" height=\"24px\"viewBox=\"0 0 24 24\"\n",
              "       width=\"24px\">\n",
              "    <path d=\"M0 0h24v24H0V0z\" fill=\"none\"/>\n",
              "    <path d=\"M18.56 5.44l.94 2.06.94-2.06 2.06-.94-2.06-.94-.94-2.06-.94 2.06-2.06.94zm-11 1L8.5 8.5l.94-2.06 2.06-.94-2.06-.94L8.5 2.5l-.94 2.06-2.06.94zm10 10l.94 2.06.94-2.06 2.06-.94-2.06-.94-.94-2.06-.94 2.06-2.06.94z\"/><path d=\"M17.41 7.96l-1.37-1.37c-.4-.4-.92-.59-1.43-.59-.52 0-1.04.2-1.43.59L10.3 9.45l-7.72 7.72c-.78.78-.78 2.05 0 2.83L4 21.41c.39.39.9.59 1.41.59.51 0 1.02-.2 1.41-.59l7.78-7.78 2.81-2.81c.8-.78.8-2.07 0-2.86zM5.41 20L4 18.59l7.72-7.72 1.47 1.35L5.41 20z\"/>\n",
              "  </svg>\n",
              "      </button>\n",
              "      \n",
              "  <style>\n",
              "    .colab-df-container {\n",
              "      display:flex;\n",
              "      flex-wrap:wrap;\n",
              "      gap: 12px;\n",
              "    }\n",
              "\n",
              "    .colab-df-convert {\n",
              "      background-color: #E8F0FE;\n",
              "      border: none;\n",
              "      border-radius: 50%;\n",
              "      cursor: pointer;\n",
              "      display: none;\n",
              "      fill: #1967D2;\n",
              "      height: 32px;\n",
              "      padding: 0 0 0 0;\n",
              "      width: 32px;\n",
              "    }\n",
              "\n",
              "    .colab-df-convert:hover {\n",
              "      background-color: #E2EBFA;\n",
              "      box-shadow: 0px 1px 2px rgba(60, 64, 67, 0.3), 0px 1px 3px 1px rgba(60, 64, 67, 0.15);\n",
              "      fill: #174EA6;\n",
              "    }\n",
              "\n",
              "    [theme=dark] .colab-df-convert {\n",
              "      background-color: #3B4455;\n",
              "      fill: #D2E3FC;\n",
              "    }\n",
              "\n",
              "    [theme=dark] .colab-df-convert:hover {\n",
              "      background-color: #434B5C;\n",
              "      box-shadow: 0px 1px 3px 1px rgba(0, 0, 0, 0.15);\n",
              "      filter: drop-shadow(0px 1px 2px rgba(0, 0, 0, 0.3));\n",
              "      fill: #FFFFFF;\n",
              "    }\n",
              "  </style>\n",
              "\n",
              "      <script>\n",
              "        const buttonEl =\n",
              "          document.querySelector('#df-e64a693b-bc6c-4fa5-b429-fbca3aa615aa button.colab-df-convert');\n",
              "        buttonEl.style.display =\n",
              "          google.colab.kernel.accessAllowed ? 'block' : 'none';\n",
              "\n",
              "        async function convertToInteractive(key) {\n",
              "          const element = document.querySelector('#df-e64a693b-bc6c-4fa5-b429-fbca3aa615aa');\n",
              "          const dataTable =\n",
              "            await google.colab.kernel.invokeFunction('convertToInteractive',\n",
              "                                                     [key], {});\n",
              "          if (!dataTable) return;\n",
              "\n",
              "          const docLinkHtml = 'Like what you see? Visit the ' +\n",
              "            '<a target=\"_blank\" href=https://colab.research.google.com/notebooks/data_table.ipynb>data table notebook</a>'\n",
              "            + ' to learn more about interactive tables.';\n",
              "          element.innerHTML = '';\n",
              "          dataTable['output_type'] = 'display_data';\n",
              "          await google.colab.output.renderOutput(dataTable, element);\n",
              "          const docLink = document.createElement('div');\n",
              "          docLink.innerHTML = docLinkHtml;\n",
              "          element.appendChild(docLink);\n",
              "        }\n",
              "      </script>\n",
              "    </div>\n",
              "  </div>\n",
              "  "
            ]
          },
          "metadata": {},
          "execution_count": 4
        }
      ],
      "source": [
        "# California 데이터 불러오기\n",
        "from sklearn.datasets import fetch_california_housing\n",
        "X = fetch_california_housing(as_frame=True)['data']\n",
        "y = fetch_california_housing(as_frame=True)['target']\n",
        "data = pd.concat([X,y], axis=1)\n",
        "data"
      ]
    },
    {
      "cell_type": "markdown",
      "metadata": {
        "id": "Sp-qZnMo1ZmV"
      },
      "source": [
        "### 2. Data Preprocessing\n",
        "\n",
        "1. 결측치 확인\n",
        "\n",
        "2. feature selection"
      ]
    },
    {
      "cell_type": "code",
      "execution_count": 5,
      "metadata": {
        "id": "KSDi04eC1ZmV",
        "outputId": "53f38b48-6217-43b0-ab85-f3a4bf8995bf",
        "colab": {
          "base_uri": "https://localhost:8080/"
        }
      },
      "outputs": [
        {
          "output_type": "stream",
          "name": "stdout",
          "text": [
            "<class 'pandas.core.frame.DataFrame'>\n",
            "RangeIndex: 20640 entries, 0 to 20639\n",
            "Data columns (total 9 columns):\n",
            " #   Column       Non-Null Count  Dtype  \n",
            "---  ------       --------------  -----  \n",
            " 0   MedInc       20640 non-null  float64\n",
            " 1   HouseAge     20640 non-null  float64\n",
            " 2   AveRooms     20640 non-null  float64\n",
            " 3   AveBedrms    20640 non-null  float64\n",
            " 4   Population   20640 non-null  float64\n",
            " 5   AveOccup     20640 non-null  float64\n",
            " 6   Latitude     20640 non-null  float64\n",
            " 7   Longitude    20640 non-null  float64\n",
            " 8   MedHouseVal  20640 non-null  float64\n",
            "dtypes: float64(9)\n",
            "memory usage: 1.4 MB\n"
          ]
        }
      ],
      "source": [
        "# 결측치를 확인합니다. --> 결측치 x\n",
        "data.info()"
      ]
    },
    {
      "cell_type": "code",
      "source": [
        "# 필요없는 column을 제거합니다.\n",
        "# 모든 column 사용"
      ],
      "metadata": {
        "id": "wSKRvV9SpPRo"
      },
      "execution_count": null,
      "outputs": []
    },
    {
      "cell_type": "markdown",
      "metadata": {
        "id": "fY9v7fEC5PQs"
      },
      "source": [
        "### 3. EDA\n",
        "\n",
        "- feature distribution\n",
        "\n",
        "- target distribution\n",
        "\n"
      ]
    },
    {
      "cell_type": "code",
      "source": [
        "data.head()"
      ],
      "metadata": {
        "id": "GrLGLr0Yk7EV",
        "outputId": "a1a76054-3e8d-4d4d-a647-9348cc4d67b9",
        "colab": {
          "base_uri": "https://localhost:8080/",
          "height": 206
        }
      },
      "execution_count": 6,
      "outputs": [
        {
          "output_type": "execute_result",
          "data": {
            "text/plain": [
              "   MedInc  HouseAge  AveRooms  AveBedrms  Population  AveOccup  Latitude  \\\n",
              "0  8.3252      41.0  6.984127   1.023810       322.0  2.555556     37.88   \n",
              "1  8.3014      21.0  6.238137   0.971880      2401.0  2.109842     37.86   \n",
              "2  7.2574      52.0  8.288136   1.073446       496.0  2.802260     37.85   \n",
              "3  5.6431      52.0  5.817352   1.073059       558.0  2.547945     37.85   \n",
              "4  3.8462      52.0  6.281853   1.081081       565.0  2.181467     37.85   \n",
              "\n",
              "   Longitude  MedHouseVal  \n",
              "0    -122.23        4.526  \n",
              "1    -122.22        3.585  \n",
              "2    -122.24        3.521  \n",
              "3    -122.25        3.413  \n",
              "4    -122.25        3.422  "
            ],
            "text/html": [
              "\n",
              "  <div id=\"df-9b35b46c-cef2-49d2-a577-3e01f7631b81\">\n",
              "    <div class=\"colab-df-container\">\n",
              "      <div>\n",
              "<style scoped>\n",
              "    .dataframe tbody tr th:only-of-type {\n",
              "        vertical-align: middle;\n",
              "    }\n",
              "\n",
              "    .dataframe tbody tr th {\n",
              "        vertical-align: top;\n",
              "    }\n",
              "\n",
              "    .dataframe thead th {\n",
              "        text-align: right;\n",
              "    }\n",
              "</style>\n",
              "<table border=\"1\" class=\"dataframe\">\n",
              "  <thead>\n",
              "    <tr style=\"text-align: right;\">\n",
              "      <th></th>\n",
              "      <th>MedInc</th>\n",
              "      <th>HouseAge</th>\n",
              "      <th>AveRooms</th>\n",
              "      <th>AveBedrms</th>\n",
              "      <th>Population</th>\n",
              "      <th>AveOccup</th>\n",
              "      <th>Latitude</th>\n",
              "      <th>Longitude</th>\n",
              "      <th>MedHouseVal</th>\n",
              "    </tr>\n",
              "  </thead>\n",
              "  <tbody>\n",
              "    <tr>\n",
              "      <th>0</th>\n",
              "      <td>8.3252</td>\n",
              "      <td>41.0</td>\n",
              "      <td>6.984127</td>\n",
              "      <td>1.023810</td>\n",
              "      <td>322.0</td>\n",
              "      <td>2.555556</td>\n",
              "      <td>37.88</td>\n",
              "      <td>-122.23</td>\n",
              "      <td>4.526</td>\n",
              "    </tr>\n",
              "    <tr>\n",
              "      <th>1</th>\n",
              "      <td>8.3014</td>\n",
              "      <td>21.0</td>\n",
              "      <td>6.238137</td>\n",
              "      <td>0.971880</td>\n",
              "      <td>2401.0</td>\n",
              "      <td>2.109842</td>\n",
              "      <td>37.86</td>\n",
              "      <td>-122.22</td>\n",
              "      <td>3.585</td>\n",
              "    </tr>\n",
              "    <tr>\n",
              "      <th>2</th>\n",
              "      <td>7.2574</td>\n",
              "      <td>52.0</td>\n",
              "      <td>8.288136</td>\n",
              "      <td>1.073446</td>\n",
              "      <td>496.0</td>\n",
              "      <td>2.802260</td>\n",
              "      <td>37.85</td>\n",
              "      <td>-122.24</td>\n",
              "      <td>3.521</td>\n",
              "    </tr>\n",
              "    <tr>\n",
              "      <th>3</th>\n",
              "      <td>5.6431</td>\n",
              "      <td>52.0</td>\n",
              "      <td>5.817352</td>\n",
              "      <td>1.073059</td>\n",
              "      <td>558.0</td>\n",
              "      <td>2.547945</td>\n",
              "      <td>37.85</td>\n",
              "      <td>-122.25</td>\n",
              "      <td>3.413</td>\n",
              "    </tr>\n",
              "    <tr>\n",
              "      <th>4</th>\n",
              "      <td>3.8462</td>\n",
              "      <td>52.0</td>\n",
              "      <td>6.281853</td>\n",
              "      <td>1.081081</td>\n",
              "      <td>565.0</td>\n",
              "      <td>2.181467</td>\n",
              "      <td>37.85</td>\n",
              "      <td>-122.25</td>\n",
              "      <td>3.422</td>\n",
              "    </tr>\n",
              "  </tbody>\n",
              "</table>\n",
              "</div>\n",
              "      <button class=\"colab-df-convert\" onclick=\"convertToInteractive('df-9b35b46c-cef2-49d2-a577-3e01f7631b81')\"\n",
              "              title=\"Convert this dataframe to an interactive table.\"\n",
              "              style=\"display:none;\">\n",
              "        \n",
              "  <svg xmlns=\"http://www.w3.org/2000/svg\" height=\"24px\"viewBox=\"0 0 24 24\"\n",
              "       width=\"24px\">\n",
              "    <path d=\"M0 0h24v24H0V0z\" fill=\"none\"/>\n",
              "    <path d=\"M18.56 5.44l.94 2.06.94-2.06 2.06-.94-2.06-.94-.94-2.06-.94 2.06-2.06.94zm-11 1L8.5 8.5l.94-2.06 2.06-.94-2.06-.94L8.5 2.5l-.94 2.06-2.06.94zm10 10l.94 2.06.94-2.06 2.06-.94-2.06-.94-.94-2.06-.94 2.06-2.06.94z\"/><path d=\"M17.41 7.96l-1.37-1.37c-.4-.4-.92-.59-1.43-.59-.52 0-1.04.2-1.43.59L10.3 9.45l-7.72 7.72c-.78.78-.78 2.05 0 2.83L4 21.41c.39.39.9.59 1.41.59.51 0 1.02-.2 1.41-.59l7.78-7.78 2.81-2.81c.8-.78.8-2.07 0-2.86zM5.41 20L4 18.59l7.72-7.72 1.47 1.35L5.41 20z\"/>\n",
              "  </svg>\n",
              "      </button>\n",
              "      \n",
              "  <style>\n",
              "    .colab-df-container {\n",
              "      display:flex;\n",
              "      flex-wrap:wrap;\n",
              "      gap: 12px;\n",
              "    }\n",
              "\n",
              "    .colab-df-convert {\n",
              "      background-color: #E8F0FE;\n",
              "      border: none;\n",
              "      border-radius: 50%;\n",
              "      cursor: pointer;\n",
              "      display: none;\n",
              "      fill: #1967D2;\n",
              "      height: 32px;\n",
              "      padding: 0 0 0 0;\n",
              "      width: 32px;\n",
              "    }\n",
              "\n",
              "    .colab-df-convert:hover {\n",
              "      background-color: #E2EBFA;\n",
              "      box-shadow: 0px 1px 2px rgba(60, 64, 67, 0.3), 0px 1px 3px 1px rgba(60, 64, 67, 0.15);\n",
              "      fill: #174EA6;\n",
              "    }\n",
              "\n",
              "    [theme=dark] .colab-df-convert {\n",
              "      background-color: #3B4455;\n",
              "      fill: #D2E3FC;\n",
              "    }\n",
              "\n",
              "    [theme=dark] .colab-df-convert:hover {\n",
              "      background-color: #434B5C;\n",
              "      box-shadow: 0px 1px 3px 1px rgba(0, 0, 0, 0.15);\n",
              "      filter: drop-shadow(0px 1px 2px rgba(0, 0, 0, 0.3));\n",
              "      fill: #FFFFFF;\n",
              "    }\n",
              "  </style>\n",
              "\n",
              "      <script>\n",
              "        const buttonEl =\n",
              "          document.querySelector('#df-9b35b46c-cef2-49d2-a577-3e01f7631b81 button.colab-df-convert');\n",
              "        buttonEl.style.display =\n",
              "          google.colab.kernel.accessAllowed ? 'block' : 'none';\n",
              "\n",
              "        async function convertToInteractive(key) {\n",
              "          const element = document.querySelector('#df-9b35b46c-cef2-49d2-a577-3e01f7631b81');\n",
              "          const dataTable =\n",
              "            await google.colab.kernel.invokeFunction('convertToInteractive',\n",
              "                                                     [key], {});\n",
              "          if (!dataTable) return;\n",
              "\n",
              "          const docLinkHtml = 'Like what you see? Visit the ' +\n",
              "            '<a target=\"_blank\" href=https://colab.research.google.com/notebooks/data_table.ipynb>data table notebook</a>'\n",
              "            + ' to learn more about interactive tables.';\n",
              "          element.innerHTML = '';\n",
              "          dataTable['output_type'] = 'display_data';\n",
              "          await google.colab.output.renderOutput(dataTable, element);\n",
              "          const docLink = document.createElement('div');\n",
              "          docLink.innerHTML = docLinkHtml;\n",
              "          element.appendChild(docLink);\n",
              "        }\n",
              "      </script>\n",
              "    </div>\n",
              "  </div>\n",
              "  "
            ]
          },
          "metadata": {},
          "execution_count": 6
        }
      ]
    },
    {
      "cell_type": "code",
      "source": [
        "# feature distribution\n",
        "sns.histplot(data=data, x=\"MedInc\")"
      ],
      "metadata": {
        "id": "gOcdFN1LptEp",
        "outputId": "bcd7855d-2565-44b5-fd45-2a32ea56c347",
        "colab": {
          "base_uri": "https://localhost:8080/",
          "height": 297
        }
      },
      "execution_count": 7,
      "outputs": [
        {
          "output_type": "execute_result",
          "data": {
            "text/plain": [
              "<matplotlib.axes._subplots.AxesSubplot at 0x7f46140d8dd0>"
            ]
          },
          "metadata": {},
          "execution_count": 7
        },
        {
          "output_type": "display_data",
          "data": {
            "text/plain": [
              "<Figure size 432x288 with 1 Axes>"
            ],
            "image/png": "[encoded data removed]"
          },
          "metadata": {
            "needs_background": "light"
          }
        }
      ]
    },
    {
      "cell_type": "code",
      "source": [
        "sns.histplot(data=data, x=\"HouseAge\")"
      ],
      "metadata": {
        "id": "9Rg0URV0lJEX",
        "outputId": "ce737c34-20d7-45a5-fd3f-987f2041a28e",
        "colab": {
          "base_uri": "https://localhost:8080/",
          "height": 297
        }
      },
      "execution_count": 8,
      "outputs": [
        {
          "output_type": "execute_result",
          "data": {
            "text/plain": [
              "<matplotlib.axes._subplots.AxesSubplot at 0x7f46148924d0>"
            ]
          },
          "metadata": {},
          "execution_count": 8
        },
        {
          "output_type": "display_data",
          "data": {
            "text/plain": [
              "<Figure size 432x288 with 1 Axes>"
            ],
            "image/png": "[encoded data removed]"
          },
          "metadata": {
            "needs_background": "light"
          }
        }
      ]
    },
    {
      "cell_type": "code",
      "source": [
        "sns.histplot(data=data, x=\"AveRooms\")"
      ],
      "metadata": {
        "id": "t5pIlMRPlOYf",
        "outputId": "69bed805-b04f-4b66-904c-73ec0bb1af5e",
        "colab": {
          "base_uri": "https://localhost:8080/",
          "height": 297
        }
      },
      "execution_count": 11,
      "outputs": [
        {
          "output_type": "execute_result",
          "data": {
            "text/plain": [
              "<matplotlib.axes._subplots.AxesSubplot at 0x7f46132b9a10>"
            ]
          },
          "metadata": {},
          "execution_count": 11
        },
        {
          "output_type": "display_data",
          "data": {
            "text/plain": [
              "<Figure size 432x288 with 1 Axes>"
            ],
            "image/png": "[encoded data removed]"
          },
          "metadata": {
            "needs_background": "light"
          }
        }
      ]
    },
    {
      "cell_type": "code",
      "source": [
        "plt.figure(figsize=(10,6))\n",
        "sns.boxplot(data=data.drop('Population',axis=1))"
      ],
      "metadata": {
        "id": "U_aS1AMOlXZn",
        "outputId": "3f254076-b53d-433b-b86b-202c01a40980",
        "colab": {
          "base_uri": "https://localhost:8080/",
          "height": 392
        }
      },
      "execution_count": 17,
      "outputs": [
        {
          "output_type": "execute_result",
          "data": {
            "text/plain": [
              "<matplotlib.axes._subplots.AxesSubplot at 0x7f461402ad50>"
            ]
          },
          "metadata": {},
          "execution_count": 17
        },
        {
          "output_type": "display_data",
          "data": {
            "text/plain": [
              "<Figure size 720x432 with 1 Axes>"
            ],
            "image/png": "[encoded data removed]"
          },
          "metadata": {
            "needs_background": "light"
          }
        }
      ]
    },
    {
      "cell_type": "code",
      "source": [
        "sns.histplot(data=data, x='AveOccup')"
      ],
      "metadata": {
        "id": "jqrK3nZVmRqs",
        "outputId": "c01814d5-f205-481f-c69b-1b2d2405e17f",
        "colab": {
          "base_uri": "https://localhost:8080/",
          "height": 297
        }
      },
      "execution_count": 18,
      "outputs": [
        {
          "output_type": "execute_result",
          "data": {
            "text/plain": [
              "<matplotlib.axes._subplots.AxesSubplot at 0x7f460fec8850>"
            ]
          },
          "metadata": {},
          "execution_count": 18
        },
        {
          "output_type": "display_data",
          "data": {
            "text/plain": [
              "<Figure size 432x288 with 1 Axes>"
            ],
            "image/png": "[encoded data removed]"
          },
          "metadata": {
            "needs_background": "light"
          }
        }
      ]
    },
    {
      "cell_type": "code",
      "source": [
        "plt.figure(figsize=(10,6))\n",
        "sns.heatmap(data.corr(),annot=True)"
      ],
      "metadata": {
        "id": "s4Con7D5llUO",
        "outputId": "9137b6b0-9298-45b5-920c-973e04c2a78d",
        "colab": {
          "base_uri": "https://localhost:8080/",
          "height": 454
        }
      },
      "execution_count": 20,
      "outputs": [
        {
          "output_type": "execute_result",
          "data": {
            "text/plain": [
              "<matplotlib.axes._subplots.AxesSubplot at 0x7f4602773650>"
            ]
          },
          "metadata": {},
          "execution_count": 20
        },
        {
          "output_type": "display_data",
          "data": {
            "text/plain": [
              "<Figure size 720x432 with 2 Axes>"
            ],
            "image/png": "[encoded data removed]"
          },
          "metadata": {
            "needs_background": "light"
          }
        }
      ]
    },
    {
      "cell_type": "code",
      "source": [
        "# 이상치 제거\n",
        "data.loc[data.AveRooms >50,:]\n",
        "data.loc[data.AveOccup > 200,:]\n",
        "# AveBedrms, Longitude 제거\n",
        "data = data.drop(columns=[\"AveBedrms\",\"Longitude\"]) # 다중공선성 처리\n",
        "data"
      ],
      "metadata": {
        "id": "sgiGuU2vnjFu",
        "outputId": "e5a0c36c-dd82-4293-b943-d805b38d7c40",
        "colab": {
          "base_uri": "https://localhost:8080/",
          "height": 424
        }
      },
      "execution_count": 24,
      "outputs": [
        {
          "output_type": "execute_result",
          "data": {
            "text/plain": [
              "       MedInc  HouseAge  AveRooms  Population  AveOccup  Latitude  MedHouseVal\n",
              "0      8.3252      41.0  6.984127       322.0  2.555556     37.88        4.526\n",
              "1      8.3014      21.0  6.238137      2401.0  2.109842     37.86        3.585\n",
              "2      7.2574      52.0  8.288136       496.0  2.802260     37.85        3.521\n",
              "3      5.6431      52.0  5.817352       558.0  2.547945     37.85        3.413\n",
              "4      3.8462      52.0  6.281853       565.0  2.181467     37.85        3.422\n",
              "...       ...       ...       ...         ...       ...       ...          ...\n",
              "20635  1.5603      25.0  5.045455       845.0  2.560606     39.48        0.781\n",
              "20636  2.5568      18.0  6.114035       356.0  3.122807     39.49        0.771\n",
              "20637  1.7000      17.0  5.205543      1007.0  2.325635     39.43        0.923\n",
              "20638  1.8672      18.0  5.329513       741.0  2.123209     39.43        0.847\n",
              "20639  2.3886      16.0  5.254717      1387.0  2.616981     39.37        0.894\n",
              "\n",
              "[20640 rows x 7 columns]"
            ],
            "text/html": [
              "\n",
              "  <div id=\"df-4a94129f-5f63-45be-a5a2-ed8932b68192\">\n",
              "    <div class=\"colab-df-container\">\n",
              "      <div>\n",
              "<style scoped>\n",
              "    .dataframe tbody tr th:only-of-type {\n",
              "        vertical-align: middle;\n",
              "    }\n",
              "\n",
              "    .dataframe tbody tr th {\n",
              "        vertical-align: top;\n",
              "    }\n",
              "\n",
              "    .dataframe thead th {\n",
              "        text-align: right;\n",
              "    }\n",
              "</style>\n",
              "<table border=\"1\" class=\"dataframe\">\n",
              "  <thead>\n",
              "    <tr style=\"text-align: right;\">\n",
              "      <th></th>\n",
              "      <th>MedInc</th>\n",
              "      <th>HouseAge</th>\n",
              "      <th>AveRooms</th>\n",
              "      <th>Population</th>\n",
              "      <th>AveOccup</th>\n",
              "      <th>Latitude</th>\n",
              "      <th>MedHouseVal</th>\n",
              "    </tr>\n",
              "  </thead>\n",
              "  <tbody>\n",
              "    <tr>\n",
              "      <th>0</th>\n",
              "      <td>8.3252</td>\n",
              "      <td>41.0</td>\n",
              "      <td>6.984127</td>\n",
              "      <td>322.0</td>\n",
              "      <td>2.555556</td>\n",
              "      <td>37.88</td>\n",
              "      <td>4.526</td>\n",
              "    </tr>\n",
              "    <tr>\n",
              "      <th>1</th>\n",
              "      <td>8.3014</td>\n",
              "      <td>21.0</td>\n",
              "      <td>6.238137</td>\n",
              "      <td>2401.0</td>\n",
              "      <td>2.109842</td>\n",
              "      <td>37.86</td>\n",
              "      <td>3.585</td>\n",
              "    </tr>\n",
              "    <tr>\n",
              "      <th>2</th>\n",
              "      <td>7.2574</td>\n",
              "      <td>52.0</td>\n",
              "      <td>8.288136</td>\n",
              "      <td>496.0</td>\n",
              "      <td>2.802260</td>\n",
              "      <td>37.85</td>\n",
              "      <td>3.521</td>\n",
              "    </tr>\n",
              "    <tr>\n",
              "      <th>3</th>\n",
              "      <td>5.6431</td>\n",
              "      <td>52.0</td>\n",
              "      <td>5.817352</td>\n",
              "      <td>558.0</td>\n",
              "      <td>2.547945</td>\n",
              "      <td>37.85</td>\n",
              "      <td>3.413</td>\n",
              "    </tr>\n",
              "    <tr>\n",
              "      <th>4</th>\n",
              "      <td>3.8462</td>\n",
              "      <td>52.0</td>\n",
              "      <td>6.281853</td>\n",
              "      <td>565.0</td>\n",
              "      <td>2.181467</td>\n",
              "      <td>37.85</td>\n",
              "      <td>3.422</td>\n",
              "    </tr>\n",
              "    <tr>\n",
              "      <th>...</th>\n",
              "      <td>...</td>\n",
              "      <td>...</td>\n",
              "      <td>...</td>\n",
              "      <td>...</td>\n",
              "      <td>...</td>\n",
              "      <td>...</td>\n",
              "      <td>...</td>\n",
              "    </tr>\n",
              "    <tr>\n",
              "      <th>20635</th>\n",
              "      <td>1.5603</td>\n",
              "      <td>25.0</td>\n",
              "      <td>5.045455</td>\n",
              "      <td>845.0</td>\n",
              "      <td>2.560606</td>\n",
              "      <td>39.48</td>\n",
              "      <td>0.781</td>\n",
              "    </tr>\n",
              "    <tr>\n",
              "      <th>20636</th>\n",
              "      <td>2.5568</td>\n",
              "      <td>18.0</td>\n",
              "      <td>6.114035</td>\n",
              "      <td>356.0</td>\n",
              "      <td>3.122807</td>\n",
              "      <td>39.49</td>\n",
              "      <td>0.771</td>\n",
              "    </tr>\n",
              "    <tr>\n",
              "      <th>20637</th>\n",
              "      <td>1.7000</td>\n",
              "      <td>17.0</td>\n",
              "      <td>5.205543</td>\n",
              "      <td>1007.0</td>\n",
              "      <td>2.325635</td>\n",
              "      <td>39.43</td>\n",
              "      <td>0.923</td>\n",
              "    </tr>\n",
              "    <tr>\n",
              "      <th>20638</th>\n",
              "      <td>1.8672</td>\n",
              "      <td>18.0</td>\n",
              "      <td>5.329513</td>\n",
              "      <td>741.0</td>\n",
              "      <td>2.123209</td>\n",
              "      <td>39.43</td>\n",
              "      <td>0.847</td>\n",
              "    </tr>\n",
              "    <tr>\n",
              "      <th>20639</th>\n",
              "      <td>2.3886</td>\n",
              "      <td>16.0</td>\n",
              "      <td>5.254717</td>\n",
              "      <td>1387.0</td>\n",
              "      <td>2.616981</td>\n",
              "      <td>39.37</td>\n",
              "      <td>0.894</td>\n",
              "    </tr>\n",
              "  </tbody>\n",
              "</table>\n",
              "<p>20640 rows × 7 columns</p>\n",
              "</div>\n",
              "      <button class=\"colab-df-convert\" onclick=\"convertToInteractive('df-4a94129f-5f63-45be-a5a2-ed8932b68192')\"\n",
              "              title=\"Convert this dataframe to an interactive table.\"\n",
              "              style=\"display:none;\">\n",
              "        \n",
              "  <svg xmlns=\"http://www.w3.org/2000/svg\" height=\"24px\"viewBox=\"0 0 24 24\"\n",
              "       width=\"24px\">\n",
              "    <path d=\"M0 0h24v24H0V0z\" fill=\"none\"/>\n",
              "    <path d=\"M18.56 5.44l.94 2.06.94-2.06 2.06-.94-2.06-.94-.94-2.06-.94 2.06-2.06.94zm-11 1L8.5 8.5l.94-2.06 2.06-.94-2.06-.94L8.5 2.5l-.94 2.06-2.06.94zm10 10l.94 2.06.94-2.06 2.06-.94-2.06-.94-.94-2.06-.94 2.06-2.06.94z\"/><path d=\"M17.41 7.96l-1.37-1.37c-.4-.4-.92-.59-1.43-.59-.52 0-1.04.2-1.43.59L10.3 9.45l-7.72 7.72c-.78.78-.78 2.05 0 2.83L4 21.41c.39.39.9.59 1.41.59.51 0 1.02-.2 1.41-.59l7.78-7.78 2.81-2.81c.8-.78.8-2.07 0-2.86zM5.41 20L4 18.59l7.72-7.72 1.47 1.35L5.41 20z\"/>\n",
              "  </svg>\n",
              "      </button>\n",
              "      \n",
              "  <style>\n",
              "    .colab-df-container {\n",
              "      display:flex;\n",
              "      flex-wrap:wrap;\n",
              "      gap: 12px;\n",
              "    }\n",
              "\n",
              "    .colab-df-convert {\n",
              "      background-color: #E8F0FE;\n",
              "      border: none;\n",
              "      border-radius: 50%;\n",
              "      cursor: pointer;\n",
              "      display: none;\n",
              "      fill: #1967D2;\n",
              "      height: 32px;\n",
              "      padding: 0 0 0 0;\n",
              "      width: 32px;\n",
              "    }\n",
              "\n",
              "    .colab-df-convert:hover {\n",
              "      background-color: #E2EBFA;\n",
              "      box-shadow: 0px 1px 2px rgba(60, 64, 67, 0.3), 0px 1px 3px 1px rgba(60, 64, 67, 0.15);\n",
              "      fill: #174EA6;\n",
              "    }\n",
              "\n",
              "    [theme=dark] .colab-df-convert {\n",
              "      background-color: #3B4455;\n",
              "      fill: #D2E3FC;\n",
              "    }\n",
              "\n",
              "    [theme=dark] .colab-df-convert:hover {\n",
              "      background-color: #434B5C;\n",
              "      box-shadow: 0px 1px 3px 1px rgba(0, 0, 0, 0.15);\n",
              "      filter: drop-shadow(0px 1px 2px rgba(0, 0, 0, 0.3));\n",
              "      fill: #FFFFFF;\n",
              "    }\n",
              "  </style>\n",
              "\n",
              "      <script>\n",
              "        const buttonEl =\n",
              "          document.querySelector('#df-4a94129f-5f63-45be-a5a2-ed8932b68192 button.colab-df-convert');\n",
              "        buttonEl.style.display =\n",
              "          google.colab.kernel.accessAllowed ? 'block' : 'none';\n",
              "\n",
              "        async function convertToInteractive(key) {\n",
              "          const element = document.querySelector('#df-4a94129f-5f63-45be-a5a2-ed8932b68192');\n",
              "          const dataTable =\n",
              "            await google.colab.kernel.invokeFunction('convertToInteractive',\n",
              "                                                     [key], {});\n",
              "          if (!dataTable) return;\n",
              "\n",
              "          const docLinkHtml = 'Like what you see? Visit the ' +\n",
              "            '<a target=\"_blank\" href=https://colab.research.google.com/notebooks/data_table.ipynb>data table notebook</a>'\n",
              "            + ' to learn more about interactive tables.';\n",
              "          element.innerHTML = '';\n",
              "          dataTable['output_type'] = 'display_data';\n",
              "          await google.colab.output.renderOutput(dataTable, element);\n",
              "          const docLink = document.createElement('div');\n",
              "          docLink.innerHTML = docLinkHtml;\n",
              "          element.appendChild(docLink);\n",
              "        }\n",
              "      </script>\n",
              "    </div>\n",
              "  </div>\n",
              "  "
            ]
          },
          "metadata": {},
          "execution_count": 24
        }
      ]
    },
    {
      "cell_type": "code",
      "source": [
        "data = data[~(data.AveRooms >50)]\n",
        "data = data[~(data.AveOccup > 200)]"
      ],
      "metadata": {
        "id": "iDk56Y9jorVJ"
      },
      "execution_count": 37,
      "outputs": []
    },
    {
      "cell_type": "code",
      "source": [
        "# target distribution\n",
        "sns.histplot(data=data, x=\"MedHouseVal\")"
      ],
      "metadata": {
        "id": "MDtNmIGLpv8I",
        "outputId": "f2478b4b-8038-49d7-8260-3db48f5a2daa",
        "colab": {
          "base_uri": "https://localhost:8080/",
          "height": 297
        }
      },
      "execution_count": 38,
      "outputs": [
        {
          "output_type": "execute_result",
          "data": {
            "text/plain": [
              "<matplotlib.axes._subplots.AxesSubplot at 0x7f4601bfa2d0>"
            ]
          },
          "metadata": {},
          "execution_count": 38
        },
        {
          "output_type": "display_data",
          "data": {
            "text/plain": [
              "<Figure size 432x288 with 1 Axes>"
            ],
            "image/png": "[encoded data removed]"
          },
          "metadata": {
            "needs_background": "light"
          }
        }
      ]
    },
    {
      "cell_type": "markdown",
      "source": [
        "### 4. Training\n",
        "\n",
        "- train-test split\n",
        "\n",
        "- Standardization\n",
        "\n",
        "- Model training\n",
        "\n",
        "- Hyper-parameter tuning\n",
        "\n",
        "- Evaluation"
      ],
      "metadata": {
        "id": "yNcS1utcpzMY"
      }
    },
    {
      "cell_type": "code",
      "execution_count": 60,
      "metadata": {
        "id": "Z3MsuTkf5PQs",
        "outputId": "cb97f80a-12c3-4236-927a-c21e85ce23e3",
        "colab": {
          "base_uri": "https://localhost:8080/"
        }
      },
      "outputs": [
        {
          "output_type": "execute_result",
          "data": {
            "text/plain": [
              "((13209, 8), (3303, 8), (4128, 8))"
            ]
          },
          "metadata": {},
          "execution_count": 60
        }
      ],
      "source": [
        "# 학습을 위한 training / test dataset 나누기\n",
        "from sklearn.model_selection import train_test_split\n",
        "\n",
        "X_train, X_test, y_train, y_test = train_test_split(X,y,test_size=0.2, random_state=42)\n",
        "X_train, X_val, y_train,y_val = train_test_split(X_train, y_train, test_size = 0.2, random_state=42)\n",
        "\n",
        "X_train.shape,X_val.shape,X_test.shape"
      ]
    },
    {
      "cell_type": "code",
      "execution_count": 61,
      "metadata": {
        "id": "vRbLGZQJ5PQs"
      },
      "outputs": [],
      "source": [
        "# 학습을 위한 라이브러리 세팅\n",
        "from sklearn.linear_model import LinearRegression# 1. Linear Regression\n",
        "from sklearn.linear_model import Lasso# 2. Lasso\n",
        "from sklearn.linear_model import Ridge# 3. Ridge\n",
        "from xgboost.sklearn import XGBRegressor# 4. XGBoost\n",
        "from lightgbm.sklearn import LGBMRegressor# 5. LightGBM\n",
        "\n",
        "from sklearn.metrics import mean_squared_error"
      ]
    },
    {
      "cell_type": "code",
      "execution_count": 62,
      "metadata": {
        "id": "rimXcGKM1ZmZ",
        "outputId": "2dd86144-6b36-4d45-c452-7e976493885a",
        "colab": {
          "base_uri": "https://localhost:8080/"
        }
      },
      "outputs": [
        {
          "output_type": "execute_result",
          "data": {
            "text/plain": [
              "array([[ 0.44340968, -0.12449485,  0.5204714 , ...,  0.05165771,\n",
              "         1.10281811, -0.69155432],\n",
              "       [ 0.00321001, -1.07770852, -0.17083875, ..., -0.05515937,\n",
              "        -0.72493883,  0.8544348 ],\n",
              "       [-0.52181236, -0.20392932, -0.06125032, ..., -0.01697183,\n",
              "        -0.88428174,  0.86440892],\n",
              "       ...,\n",
              "       [ 0.061099  , -0.8394051 ,  0.06108211, ...,  0.0310699 ,\n",
              "        -1.36231048,  1.29329622],\n",
              "       [ 0.33985508, -0.99827405, -0.47481979, ..., -0.13760481,\n",
              "        -0.84678929,  0.8544348 ],\n",
              "       [ 0.17518368,  0.51098093, -0.49473189, ..., -0.00768362,\n",
              "        -0.8139834 ,  0.63001702]])"
            ]
          },
          "metadata": {},
          "execution_count": 62
        }
      ],
      "source": [
        "# feature scaling\n",
        "from sklearn.preprocessing import StandardScaler\n",
        "# 표준정규분포로\n",
        "scaler = StandardScaler()\n",
        "X_train = scaler.fit_transform(X_train)\n",
        "X_val = scaler.transform(X_val)\n",
        "X_test = scaler.transform(X_test)\n",
        "X_train"
      ]
    },
    {
      "cell_type": "code",
      "source": [
        "\n",
        "# training\n",
        "reg = LinearRegression()\n",
        "reg2 = Lasso()\n",
        "reg3 = Ridge()\n",
        "reg4 = XGBRegressor()\n",
        "reg5 = LGBMRegressor()\n",
        "\n",
        "reg.fit(X_train, y_train)\n",
        "reg2.fit(X_train, y_train)\n",
        "reg3.fit(X_train, y_train)\n",
        "reg4.fit(X_train, y_train)\n",
        "reg5.fit(X_train, y_train)\n",
        "\n",
        "pred_train = reg.predict(X_train)\n",
        "pred_train2 = reg2.predict(X_train)\n",
        "pred_train3 = reg3.predict(X_train)\n",
        "pred_train4 = reg4.predict(X_train)\n",
        "pred_train5 = reg5.predict(X_train)\n",
        "\n",
        "pred_val = reg.predict(X_val)\n",
        "pred_val2 = reg2.predict(X_val)\n",
        "pred_val3 = reg3.predict(X_val)\n",
        "pred_val4 = reg4.predict(X_val)\n",
        "pred_val5 = reg5.predict(X_val)\n",
        "\n",
        "mse_train = mean_squared_error(y_train, pred_train)\n",
        "mse_val = mean_squared_error(y_val, pred_val)\n",
        "mse_train2 = mean_squared_error(y_train, pred_train2)\n",
        "mse_val2 = mean_squared_error(y_val, pred_val2)\n",
        "mse_train3 = mean_squared_error(y_train, pred_train3)\n",
        "mse_val3 = mean_squared_error(y_val, pred_val3)\n",
        "mse_train4 = mean_squared_error(y_train, pred_train4)\n",
        "mse_val4 = mean_squared_error(y_val, pred_val4)\n",
        "mse_train5 = mean_squared_error(y_train, pred_train5)\n",
        "mse_val5 = mean_squared_error(y_val, pred_val5)\n",
        "\n",
        "print(\"1. Linear Regression\\t, train/val = %.4f, %.4f\" % (mse_train, mse_val))\n",
        "print(\"2. Lasso Regression\\t, train/val = %.4f, %.4f\" % (mse_train2, mse_val2))\n",
        "print(\"3. Ridge Regression\\t, train/val = %.4f, %.4f\" % (mse_train3, mse_val3))\n",
        "print(\"4. XGBoost\\t\\t, train/val = %.4f, %.4f\" % (mse_train4, mse_val4))\n",
        "print(\"5. LightGBM\\t\\t, train/val = %.4f, %.4f\" % (mse_train5, mse_val5))"
      ],
      "metadata": {
        "id": "lRtFWCGAsECA",
        "outputId": "29a9b9de-9172-40c5-bff1-45381ef7b087",
        "colab": {
          "base_uri": "https://localhost:8080/"
        }
      },
      "execution_count": 65,
      "outputs": [
        {
          "output_type": "stream",
          "name": "stdout",
          "text": [
            "[06:14:21] WARNING: /workspace/src/objective/regression_obj.cu:152: reg:linear is now deprecated in favor of reg:squarederror.\n",
            "1. Linear Regression\t, train/val = 0.5129, 0.5386\n",
            "2. Lasso Regression\t, train/val = 1.3258, 1.3806\n",
            "3. Ridge Regression\t, train/val = 0.5129, 0.5386\n",
            "4. XGBoost\t\t, train/val = 0.2495, 0.2928\n",
            "5. LightGBM\t\t, train/val = 0.1470, 0.2409\n"
          ]
        }
      ]
    },
    {
      "cell_type": "code",
      "source": [
        ""
      ],
      "metadata": {
        "id": "yQ12DUQKrjFW"
      },
      "execution_count": null,
      "outputs": []
    },
    {
      "cell_type": "code",
      "source": [
        "# Hyper-parameter tuning\n",
        "# 1. Human Search\n",
        "# 2. GridSearch : 주어진 hp의 조합을 모두 돌려보는 방식.\n",
        "# 3. optuna Optimization(optuna library) : hyper-parameter를 최적화하는 베이지안 방식을 사용\n",
        "\n",
        "# GridSearchCV\n",
        "from sklearn.model_selection import GridSearchCV\n",
        "\n",
        "param_grid = {\n",
        "    \"max_depth\" : [3,4,-1], # 3\n",
        "    \"learning rate\" : [0.1,0.01], # 2\n",
        "    \"n_estimators\" : [50,100] # 2\n",
        "} # 3x3x2 =12\n",
        "\n",
        "gcv = GridSearchCV(reg5, param_grid, scoring='neg_mean_squared_error', verbose=2)\n",
        "gcv.fit(X_train, y_train)\n",
        "print(gcv.cv_results_)"
      ],
      "metadata": {
        "id": "IxLheBgTq9Dz",
        "outputId": "8efb6493-7509-4e81-d150-e068dbf72b37",
        "colab": {
          "base_uri": "https://localhost:8080/"
        }
      },
      "execution_count": 71,
      "outputs": [
        {
          "output_type": "stream",
          "name": "stdout",
          "text": [
            "Fitting 5 folds for each of 12 candidates, totalling 60 fits\n",
            "[CV] END ....learning rate=0.1, max_depth=3, n_estimators=50; total time=   0.1s\n",
            "[CV] END ....learning rate=0.1, max_depth=3, n_estimators=50; total time=   0.1s\n",
            "[CV] END ....learning rate=0.1, max_depth=3, n_estimators=50; total time=   0.1s\n",
            "[CV] END ....learning rate=0.1, max_depth=3, n_estimators=50; total time=   0.1s\n",
            "[CV] END ....learning rate=0.1, max_depth=3, n_estimators=50; total time=   0.1s\n",
            "[CV] END ...learning rate=0.1, max_depth=3, n_estimators=100; total time=   0.2s\n",
            "[CV] END ...learning rate=0.1, max_depth=3, n_estimators=100; total time=   0.2s\n",
            "[CV] END ...learning rate=0.1, max_depth=3, n_estimators=100; total time=   0.2s\n",
            "[CV] END ...learning rate=0.1, max_depth=3, n_estimators=100; total time=   0.2s\n",
            "[CV] END ...learning rate=0.1, max_depth=3, n_estimators=100; total time=   0.2s\n",
            "[CV] END ....learning rate=0.1, max_depth=4, n_estimators=50; total time=   0.1s\n",
            "[CV] END ....learning rate=0.1, max_depth=4, n_estimators=50; total time=   0.1s\n",
            "[CV] END ....learning rate=0.1, max_depth=4, n_estimators=50; total time=   0.1s\n",
            "[CV] END ....learning rate=0.1, max_depth=4, n_estimators=50; total time=   0.1s\n",
            "[CV] END ....learning rate=0.1, max_depth=4, n_estimators=50; total time=   0.1s\n",
            "[CV] END ...learning rate=0.1, max_depth=4, n_estimators=100; total time=   0.3s\n",
            "[CV] END ...learning rate=0.1, max_depth=4, n_estimators=100; total time=   0.6s\n",
            "[CV] END ...learning rate=0.1, max_depth=4, n_estimators=100; total time=   0.4s\n",
            "[CV] END ...learning rate=0.1, max_depth=4, n_estimators=100; total time=   0.2s\n",
            "[CV] END ...learning rate=0.1, max_depth=4, n_estimators=100; total time=   0.2s\n",
            "[CV] END ...learning rate=0.1, max_depth=-1, n_estimators=50; total time=   0.3s\n",
            "[CV] END ...learning rate=0.1, max_depth=-1, n_estimators=50; total time=   0.3s\n",
            "[CV] END ...learning rate=0.1, max_depth=-1, n_estimators=50; total time=   0.3s\n",
            "[CV] END ...learning rate=0.1, max_depth=-1, n_estimators=50; total time=   0.3s\n",
            "[CV] END ...learning rate=0.1, max_depth=-1, n_estimators=50; total time=   0.2s\n",
            "[CV] END ..learning rate=0.1, max_depth=-1, n_estimators=100; total time=   0.3s\n",
            "[CV] END ..learning rate=0.1, max_depth=-1, n_estimators=100; total time=   0.3s\n",
            "[CV] END ..learning rate=0.1, max_depth=-1, n_estimators=100; total time=   0.3s\n",
            "[CV] END ..learning rate=0.1, max_depth=-1, n_estimators=100; total time=   0.3s\n",
            "[CV] END ..learning rate=0.1, max_depth=-1, n_estimators=100; total time=   0.3s\n",
            "[CV] END ...learning rate=0.01, max_depth=3, n_estimators=50; total time=   0.1s\n",
            "[CV] END ...learning rate=0.01, max_depth=3, n_estimators=50; total time=   0.1s\n",
            "[CV] END ...learning rate=0.01, max_depth=3, n_estimators=50; total time=   0.1s\n",
            "[CV] END ...learning rate=0.01, max_depth=3, n_estimators=50; total time=   0.1s\n",
            "[CV] END ...learning rate=0.01, max_depth=3, n_estimators=50; total time=   0.1s\n",
            "[CV] END ..learning rate=0.01, max_depth=3, n_estimators=100; total time=   0.1s\n",
            "[CV] END ..learning rate=0.01, max_depth=3, n_estimators=100; total time=   0.1s\n",
            "[CV] END ..learning rate=0.01, max_depth=3, n_estimators=100; total time=   0.1s\n",
            "[CV] END ..learning rate=0.01, max_depth=3, n_estimators=100; total time=   0.1s\n",
            "[CV] END ..learning rate=0.01, max_depth=3, n_estimators=100; total time=   0.1s\n",
            "[CV] END ...learning rate=0.01, max_depth=4, n_estimators=50; total time=   0.1s\n",
            "[CV] END ...learning rate=0.01, max_depth=4, n_estimators=50; total time=   0.1s\n",
            "[CV] END ...learning rate=0.01, max_depth=4, n_estimators=50; total time=   0.1s\n",
            "[CV] END ...learning rate=0.01, max_depth=4, n_estimators=50; total time=   0.1s\n",
            "[CV] END ...learning rate=0.01, max_depth=4, n_estimators=50; total time=   0.1s\n",
            "[CV] END ..learning rate=0.01, max_depth=4, n_estimators=100; total time=   0.2s\n",
            "[CV] END ..learning rate=0.01, max_depth=4, n_estimators=100; total time=   0.1s\n",
            "[CV] END ..learning rate=0.01, max_depth=4, n_estimators=100; total time=   0.2s\n",
            "[CV] END ..learning rate=0.01, max_depth=4, n_estimators=100; total time=   0.2s\n",
            "[CV] END ..learning rate=0.01, max_depth=4, n_estimators=100; total time=   0.2s\n",
            "[CV] END ..learning rate=0.01, max_depth=-1, n_estimators=50; total time=   0.2s\n",
            "[CV] END ..learning rate=0.01, max_depth=-1, n_estimators=50; total time=   0.2s\n",
            "[CV] END ..learning rate=0.01, max_depth=-1, n_estimators=50; total time=   0.2s\n",
            "[CV] END ..learning rate=0.01, max_depth=-1, n_estimators=50; total time=   0.2s\n",
            "[CV] END ..learning rate=0.01, max_depth=-1, n_estimators=50; total time=   0.2s\n",
            "[CV] END .learning rate=0.01, max_depth=-1, n_estimators=100; total time=   0.3s\n",
            "[CV] END .learning rate=0.01, max_depth=-1, n_estimators=100; total time=   0.3s\n",
            "[CV] END .learning rate=0.01, max_depth=-1, n_estimators=100; total time=   0.3s\n",
            "[CV] END .learning rate=0.01, max_depth=-1, n_estimators=100; total time=   0.3s\n",
            "[CV] END .learning rate=0.01, max_depth=-1, n_estimators=100; total time=   0.3s\n",
            "{'mean_fit_time': array([0.08838491, 0.1519053 , 0.12817087, 0.32391262, 0.238835  ,\n",
            "       0.2794663 , 0.0617301 , 0.09682736, 0.08272524, 0.13534646,\n",
            "       0.16364098, 0.28051362]), 'std_fit_time': array([0.00232403, 0.00513919, 0.00400422, 0.13336484, 0.03773263,\n",
            "       0.00839739, 0.00309587, 0.00189512, 0.00316191, 0.00236308,\n",
            "       0.00361325, 0.00497281]), 'mean_score_time': array([0.00871253, 0.01580758, 0.01030369, 0.02593284, 0.01396422,\n",
            "       0.02213402, 0.00626316, 0.0119236 , 0.00798926, 0.01534538,\n",
            "       0.01156359, 0.02251115]), 'std_score_time': array([0.00029899, 0.00075311, 0.00058531, 0.01326883, 0.0014804 ,\n",
            "       0.00054078, 0.00012478, 0.00020549, 0.00070941, 0.00069789,\n",
            "       0.00031264, 0.00141332]), 'param_learning rate': masked_array(data=[0.1, 0.1, 0.1, 0.1, 0.1, 0.1, 0.01, 0.01, 0.01, 0.01,\n",
            "                   0.01, 0.01],\n",
            "             mask=[False, False, False, False, False, False, False, False,\n",
            "                   False, False, False, False],\n",
            "       fill_value='?',\n",
            "            dtype=object), 'param_max_depth': masked_array(data=[3, 3, 4, 4, -1, -1, 3, 3, 4, 4, -1, -1],\n",
            "             mask=[False, False, False, False, False, False, False, False,\n",
            "                   False, False, False, False],\n",
            "       fill_value='?',\n",
            "            dtype=object), 'param_n_estimators': masked_array(data=[50, 100, 50, 100, 50, 100, 50, 100, 50, 100, 50, 100],\n",
            "             mask=[False, False, False, False, False, False, False, False,\n",
            "                   False, False, False, False],\n",
            "       fill_value='?',\n",
            "            dtype=object), 'params': [{'learning rate': 0.1, 'max_depth': 3, 'n_estimators': 50}, {'learning rate': 0.1, 'max_depth': 3, 'n_estimators': 100}, {'learning rate': 0.1, 'max_depth': 4, 'n_estimators': 50}, {'learning rate': 0.1, 'max_depth': 4, 'n_estimators': 100}, {'learning rate': 0.1, 'max_depth': -1, 'n_estimators': 50}, {'learning rate': 0.1, 'max_depth': -1, 'n_estimators': 100}, {'learning rate': 0.01, 'max_depth': 3, 'n_estimators': 50}, {'learning rate': 0.01, 'max_depth': 3, 'n_estimators': 100}, {'learning rate': 0.01, 'max_depth': 4, 'n_estimators': 50}, {'learning rate': 0.01, 'max_depth': 4, 'n_estimators': 100}, {'learning rate': 0.01, 'max_depth': -1, 'n_estimators': 50}, {'learning rate': 0.01, 'max_depth': -1, 'n_estimators': 100}], 'split0_test_score': array([-0.32362525, -0.27908913, -0.28637019, -0.24719246, -0.22910587,\n",
            "       -0.21293345, -0.32362525, -0.27908913, -0.28637019, -0.24719246,\n",
            "       -0.22910587, -0.21293345]), 'split1_test_score': array([-0.31593193, -0.27281085, -0.28414263, -0.25196647, -0.24188478,\n",
            "       -0.22484409, -0.31593193, -0.27281085, -0.28414263, -0.25196647,\n",
            "       -0.24188478, -0.22484409]), 'split2_test_score': array([-0.3161137 , -0.2743834 , -0.27686871, -0.24134052, -0.23174408,\n",
            "       -0.21253665, -0.3161137 , -0.2743834 , -0.27686871, -0.24134052,\n",
            "       -0.23174408, -0.21253665]), 'split3_test_score': array([-0.33680389, -0.29009033, -0.29572148, -0.26100012, -0.24265138,\n",
            "       -0.22414144, -0.33680389, -0.29009033, -0.29572148, -0.26100012,\n",
            "       -0.24265138, -0.22414144]), 'split4_test_score': array([-0.32115223, -0.28126721, -0.28963109, -0.25672902, -0.24149386,\n",
            "       -0.22296139, -0.32115223, -0.28126721, -0.28963109, -0.25672902,\n",
            "       -0.24149386, -0.22296139]), 'mean_test_score': array([-0.3227254 , -0.27952818, -0.28654682, -0.25164572, -0.23737599,\n",
            "       -0.2194834 , -0.3227254 , -0.27952818, -0.28654682, -0.25164572,\n",
            "       -0.23737599, -0.2194834 ]), 'std_test_score': array([0.00763354, 0.0061052 , 0.00621553, 0.00692064, 0.00574855,\n",
            "       0.00554418, 0.00763354, 0.0061052 , 0.00621553, 0.00692064,\n",
            "       0.00574855, 0.00554418]), 'rank_test_score': array([11,  7,  9,  5,  3,  1, 11,  7,  9,  5,  3,  1], dtype=int32)}\n"
          ]
        }
      ]
    },
    {
      "cell_type": "code",
      "source": [
        "print(gcv.best_estimator_)\n",
        "print(gcv.best_params_)"
      ],
      "metadata": {
        "id": "hzGeYmzGyVMf",
        "outputId": "93ec46a4-df6d-4ac0-bffc-bfe8b6999ed3",
        "colab": {
          "base_uri": "https://localhost:8080/"
        }
      },
      "execution_count": 72,
      "outputs": [
        {
          "output_type": "stream",
          "name": "stdout",
          "text": [
            "LGBMRegressor(learning rate=0.1)\n",
            "{'learning rate': 0.1, 'max_depth': -1, 'n_estimators': 100}\n"
          ]
        }
      ]
    },
    {
      "cell_type": "markdown",
      "source": [
        "### 5. Test(Prediction)"
      ],
      "metadata": {
        "id": "R1BB6saVh2RH"
      }
    },
    {
      "cell_type": "code",
      "source": [
        "# training set과 같은 전처리!\n",
        "final_model = gcv.best_estimator_"
      ],
      "metadata": {
        "id": "mLmI82GfhO3t"
      },
      "execution_count": 73,
      "outputs": []
    },
    {
      "cell_type": "code",
      "source": [
        "# prediction!\n",
        "\n",
        "result = reg.predict(X_test)\n",
        "result2 = reg2.predict(X_test)\n",
        "result3 = reg3.predict(X_test)\n",
        "result4 = reg4.predict(X_test)\n",
        "result5 = reg5.predict(X_test)\n"
      ],
      "metadata": {
        "id": "SEfjoFmsqpCU"
      },
      "execution_count": 66,
      "outputs": []
    },
    {
      "cell_type": "code",
      "source": [
        "# Summary!\n",
        "print(\"---------- Linear Regression ---------\")\n",
        "print('MSE in training: %.4f' % mean_squared_error(y_test, result))\n",
        "\n",
        "print(\"---------- Lasso ---------\")\n",
        "print('MSE in training: %.4f' % mean_squared_error(y_test, result2))\n",
        "\n",
        "print(\"---------- Ridge ---------\")\n",
        "print('MSE in training: %.4f' % mean_squared_error(y_test, result3))\n",
        "\n",
        "print(\"---------- XGBoost ---------\")\n",
        "print('MSE in training: %.4f' % mean_squared_error(y_test, result4))\n",
        "\n",
        "print(\"---------- LightGBM ---------\")\n",
        "print('MSE in training: %.4f' % mean_squared_error(y_test, result5))"
      ],
      "metadata": {
        "id": "BLd03jWrhdYX",
        "outputId": "3d23a728-4612-4b90-e29c-1845f6d61508",
        "colab": {
          "base_uri": "https://localhost:8080/"
        }
      },
      "execution_count": 68,
      "outputs": [
        {
          "output_type": "stream",
          "name": "stdout",
          "text": [
            "---------- Linear Regression ---------\n",
            "MSE in training: 0.5545\n",
            "---------- Lasso ---------\n",
            "MSE in training: 1.3106\n",
            "---------- Ridge ---------\n",
            "MSE in training: 0.5544\n",
            "---------- XGBoost ---------\n",
            "MSE in training: 0.2895\n",
            "---------- LightGBM ---------\n",
            "MSE in training: 0.2147\n"
          ]
        }
      ]
    },
    {
      "cell_type": "code",
      "source": [
        ""
      ],
      "metadata": {
        "id": "5hmO6ppIjIxQ"
      },
      "execution_count": null,
      "outputs": []
    }
  ],
  "metadata": {
    "colab": {
      "collapsed_sections": [],
      "name": "Chapter.04 Regression-06. Mini PJT. 캘리포니아 집값 예측(실습).ipynb",
      "provenance": [],
      "include_colab_link": true
    },
    "kernelspec": {
      "display_name": "Python 3",
      "language": "python",
      "name": "python3"
    },
    "language_info": {
      "codemirror_mode": {
        "name": "ipython",
        "version": 3
      },
      "file_extension": ".py",
      "mimetype": "text/x-python",
      "name": "python",
      "nbconvert_exporter": "python",
      "pygments_lexer": "ipython3",
      "version": "3.8.2"
    }
  },
  "nbformat": 4,
  "nbformat_minor": 0
}