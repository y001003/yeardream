{
  "cells": [
    {
      "cell_type": "markdown",
      "metadata": {
        "id": "UsZSmAj47LXm"
      },
      "source": [
        "# **데이터 크롤링**"
      ]
    },
    {
      "cell_type": "markdown",
      "metadata": {
        "id": "qGMeSCoV7QTQ"
      },
      "source": [
        "## **크롤링이란?**\n",
        "> 크롤러(crawler)는 자동화된 방법으로 웹을 탐색하는 컴퓨터 프로그램  \n",
        "'웹 크롤링'(web crawling)??  \n",
        "'데이터 크롤링'(data crawling)!!  "
      ]
    },
    {
      "cell_type": "markdown",
      "metadata": {
        "id": "WboqZ6A47Yqe"
      },
      "source": [
        "우리는 매일 크롤러도 사용하고 있습니다.  \n",
        "ex) google, yahoo, naver 등 검색 엔진"
      ]
    },
    {
      "cell_type": "markdown",
      "metadata": {
        "id": "5PfW0HG17td5"
      },
      "source": [
        "## **웹 크롤링**\n",
        "> 웹 서비스 내 정보를 수집하는 일\n",
        "\n",
        ">> 필요한 정보가 있다면?  \n",
        "API 확인 -> 없으면 직접 크롤링  \n",
        "    \n",
        "> 다만 서비스 제공자의 입장에서는??"
      ]
    },
    {
      "cell_type": "markdown",
      "metadata": {
        "id": "e0ITGMAN70Da"
      },
      "source": [
        "### 웹 서핑을 하는 의식의 흐름\n",
        "> - 브라우저 오픈  \n",
        "> - 원하는 인터넷페이지 주소 입력  \n",
        "> - 화면이 열리면 찾고자 하는 정보를 스크롤 하면서 찾기  \n",
        "> - 문자, 그림, 동영상 조회  "
      ]
    },
    {
      "cell_type": "markdown",
      "metadata": {
        "id": "AWcggzcG728P"
      },
      "source": [
        "### 웹 크롤링 하는 의식의 흐름\n",
        "> - 정보를 가져오고자 하는 url 정의\n",
        "> - url 정보로 requests로 정보 요청\n",
        "> - text 정보를 html로 변환\n",
        "> - html에서 우리가 필요한 정보만 선별"
      ]
    },
    {
      "cell_type": "markdown",
      "metadata": {
        "id": "XT464CpR75Uh"
      },
      "source": [
        "### 웹 크롤링을 위해 BeautifulSoup 사용\n",
        "> - requests는 요청을 받기는 하지만 text로만 받음  \n",
        "> - API는 통신을 위해 정형화 된 데이터 형태의 text  \n",
        "> - 우리가 원하는 데이터로 가공하기 위해 편의상 html로 변환  \n",
        "> - text를 html로 변환하는 모듈이 beautifulSoup"
      ]
    },
    {
      "cell_type": "markdown",
      "metadata": {
        "id": "5j1oR5fO78FW"
      },
      "source": [
        "### 간단한 데이터 크롤링으로 기본 개념잡기"
      ]
    },
    {
      "cell_type": "code",
      "execution_count": 1,
      "metadata": {
        "ExecuteTime": {
          "end_time": "2021-09-17T02:05:52.295280Z",
          "start_time": "2021-09-17T02:05:52.126825Z"
        },
        "id": "Uz4Giib7Bplg"
      },
      "outputs": [],
      "source": [
        "# 필요패키지 import\n",
        "import numpy as np\n",
        "import pandas as pd\n",
        "import requests # 크롤링에 사용하는 패키지\n",
        "from bs4 import BeautifulSoup # html 변환에 사용함"
      ]
    },
    {
      "cell_type": "markdown",
      "metadata": {
        "id": "b7m-cBm-Bplg"
      },
      "source": [
        "#### 네이버 메인페이지 크롤링"
      ]
    },
    {
      "cell_type": "code",
      "source": [
        "# !pip install beautifulsoup4\n",
        "# !pip install requests"
      ],
      "metadata": {
        "id": "yXSwGsT9JGUq",
        "outputId": "95b8d1e8-c0ac-4db9-b222-5ce0e1be4f6f",
        "colab": {
          "base_uri": "https://localhost:8080/"
        }
      },
      "execution_count": 2,
      "outputs": [
        {
          "output_type": "stream",
          "name": "stdout",
          "text": [
            "Requirement already satisfied: beautifulsoup4 in /usr/local/lib/python3.7/dist-packages (4.6.3)\n",
            "Requirement already satisfied: requests in /usr/local/lib/python3.7/dist-packages (2.23.0)\n",
            "Requirement already satisfied: certifi>=2017.4.17 in /usr/local/lib/python3.7/dist-packages (from requests) (2021.10.8)\n",
            "Requirement already satisfied: urllib3!=1.25.0,!=1.25.1,<1.26,>=1.21.1 in /usr/local/lib/python3.7/dist-packages (from requests) (1.24.3)\n",
            "Requirement already satisfied: chardet<4,>=3.0.2 in /usr/local/lib/python3.7/dist-packages (from requests) (3.0.4)\n",
            "Requirement already satisfied: idna<3,>=2.5 in /usr/local/lib/python3.7/dist-packages (from requests) (2.10)\n"
          ]
        }
      ]
    },
    {
      "cell_type": "code",
      "execution_count": 13,
      "metadata": {
        "ExecuteTime": {
          "end_time": "2021-09-17T02:05:52.295280Z",
          "start_time": "2021-09-17T02:05:52.126825Z"
        },
        "scrolled": false,
        "id": "djhk8jy_Bplg",
        "outputId": "01afa220-8faf-4595-b937-f032a793fbf5",
        "colab": {
          "base_uri": "https://localhost:8080/"
        }
      },
      "outputs": [
        {
          "output_type": "execute_result",
          "data": {
            "text/plain": [
              "[<img alt=\"\" height=\"49\" src=\"https://static-whale.pstatic.net/main/img_mousegesture_v2@2x.png\" style=\"padding-left: 90px\" width=\"200\"/>,\n",
              " <img alt=\"중앙일보\" class=\"news_logo\" height=\"20\" src=\"https://s.pstatic.net/static/newsstand/up/2021/0824/nsd115034872.png\"/>,\n",
              " <img alt=\"뉴데일리\" class=\"news_logo\" height=\"20\" src=\"https://s.pstatic.net/static/newsstand/2020/logo/light/0604/327.png\"/>,\n",
              " <img alt=\"뉴시스\" class=\"news_logo\" height=\"20\" src=\"https://s.pstatic.net/static/newsstand/2020/logo/light/0604/003.png\"/>,\n",
              " <img alt=\"한국경제\" class=\"news_logo\" height=\"20\" src=\"https://s.pstatic.net/static/newsstand/2020/logo/light/0604/015.png\"/>,\n",
              " <img alt=\"국민일보\" class=\"news_logo\" height=\"20\" src=\"https://s.pstatic.net/static/newsstand/2020/logo/light/0604/005.png\"/>,\n",
              " <img alt=\"파이낸셜뉴스\" class=\"news_logo\" height=\"20\" src=\"https://s.pstatic.net/static/newsstand/2020/logo/light/0604/014.png\"/>,\n",
              " <img alt=\"일간스포츠\" class=\"news_logo\" height=\"20\" src=\"https://s.pstatic.net/static/newsstand/2020/logo/light/0604/241.png\"/>,\n",
              " <img alt=\"디지털타임스\" class=\"news_logo\" height=\"20\" src=\"https://s.pstatic.net/static/newsstand/2020/logo/light/0604/029.png\"/>,\n",
              " <img alt=\"노컷뉴스\" class=\"news_logo\" height=\"20\" src=\"https://s.pstatic.net/static/newsstand/2020/logo/light/0604/079.png\"/>,\n",
              " <img alt=\"한국일보\" class=\"news_logo\" height=\"20\" src=\"https://s.pstatic.net/static/newsstand/2020/logo/light/0604/038.png\"/>,\n",
              " <img alt=\"KBS\" class=\"news_logo\" height=\"20\" src=\"https://s.pstatic.net/static/newsstand/2020/logo/light/0604/056.png\"/>,\n",
              " <img alt=\"SBS\" class=\"news_logo\" height=\"20\" src=\"https://s.pstatic.net/static/newsstand/2020/logo/light/0604/055.png\"/>,\n",
              " <img alt=\"매일경제\" class=\"news_logo\" height=\"20\" src=\"https://s.pstatic.net/static/newsstand/2020/logo/light/0604/009.png\"/>,\n",
              " <img alt=\"한국경제TV\" class=\"news_logo\" height=\"20\" src=\"https://s.pstatic.net/static/newsstand/2020/logo/light/0604/215.png\"/>,\n",
              " <img alt=\"코리아헤럴드\" class=\"news_logo\" height=\"20\" src=\"https://s.pstatic.net/static/newsstand/2020/logo/light/0604/044.png\"/>,\n",
              " <img alt=\"경북매일신문\" class=\"news_logo\" height=\"20\" src=\"https://s.pstatic.net/static/newsstand/2020/logo/light/0604/907.png\"/>,\n",
              " <img alt=\"제민일보\" class=\"news_logo\" height=\"20\" src=\"https://s.pstatic.net/static/newsstand/up/2020/1119/nsd213345745.png\"/>,\n",
              " <img alt=\"국제신문\" class=\"news_logo\" height=\"20\" src=\"https://s.pstatic.net/static/newsstand/2020/logo/light/0604/332.png\"/>,\n",
              " <img alt=\"MONEY\" class=\"news_logo\" height=\"20\" src=\"https://s.pstatic.net/static/newsstand/2020/logo/light/0604/806.png\"/>,\n",
              " <img alt=\"아주경제\" class=\"news_logo\" height=\"20\" src=\"https://s.pstatic.net/static/newsstand/2020/logo/light/0604/921.png\"/>,\n",
              " <img alt=\"맥스무비\" class=\"news_logo\" height=\"20\" src=\"https://s.pstatic.net/static/newsstand/2020/logo/light/0604/075.png\"/>,\n",
              " <img alt=\"식품저널 foodnews\" class=\"news_logo\" height=\"20\" src=\"https://s.pstatic.net/static/newsstand/up/2021/0211/nsd0427277.png\"/>,\n",
              " <img alt=\"스포츠Q\" class=\"news_logo\" height=\"20\" src=\"https://s.pstatic.net/static/newsstand/2020/logo/light/0604/802.png\"/>,\n",
              " <img alt=\"소비자가만드는신문\" class=\"news_logo\" height=\"20\" src=\"https://s.pstatic.net/static/newsstand/2020/logo/light/0604/970.png\"/>,\n",
              " <img alt=\"아이 있는 집, TV 없는 거실\" data-src=\"https://s.pstatic.net/dthumb.phinf/?src=%22https%3A%2F%2Fs.pstatic.net%2Fshop.phinf%2F20220424_90%2F1650789624302zqTop_JPEG%2F750_8.jpg%22&amp;type=nf340_228\" height=\"114\" onerror=\"this.outerHTML='&lt;span class=\\'pm_noimg\\'&gt;&lt;span class=\\'noimg_text\\'&gt;이미지 준비중&lt;/span&gt;&lt;/span&gt;'\" src=\"https://s.pstatic.net/dthumb.phinf/?src=%22https%3A%2F%2Fs.pstatic.net%2Fshop.phinf%2F20220424_90%2F1650789624302zqTop_JPEG%2F750_8.jpg%22&amp;type=nf340_228\" width=\"170\"/>,\n",
              " <img alt=\"대지 면적 27평, 도심 작은 땅 위에 지은 하얀 집 \" data-src=\"https://s.pstatic.net/dthumb.phinf/?src=%22https%3A%2F%2Fs.pstatic.net%2Fshop.phinf%2F20220424_234%2F16507896608224thjS_JPEG%2F336_18.jpg%22&amp;type=nf340_228\" height=\"114\" onerror=\"this.outerHTML='&lt;span class=\\'pm_noimg\\'&gt;&lt;span class=\\'noimg_text\\'&gt;이미지 준비중&lt;/span&gt;&lt;/span&gt;'\" src=\"https://s.pstatic.net/dthumb.phinf/?src=%22https%3A%2F%2Fs.pstatic.net%2Fshop.phinf%2F20220424_234%2F16507896608224thjS_JPEG%2F336_18.jpg%22&amp;type=nf340_228\" width=\"170\"/>,\n",
              " <img alt=\"감성감성한 신혼집 랜선집들이 #구축리모델링 \" data-src=\"https://s.pstatic.net/dthumb.phinf/?src=%22https%3A%2F%2Fs.pstatic.net%2Fshop.phinf%2F20220424_76%2F1650811243056QFNCF_JPEG%2F336_11.jpg%22&amp;type=nf340_228\" height=\"114\" onerror=\"this.outerHTML='&lt;span class=\\'pm_noimg\\'&gt;&lt;span class=\\'noimg_text\\'&gt;이미지 준비중&lt;/span&gt;&lt;/span&gt;'\" src=\"https://s.pstatic.net/dthumb.phinf/?src=%22https%3A%2F%2Fs.pstatic.net%2Fshop.phinf%2F20220424_76%2F1650811243056QFNCF_JPEG%2F336_11.jpg%22&amp;type=nf340_228\" width=\"170\"/>,\n",
              " <img alt=\"내돈내산 욕실 아이템 BEST\" data-src=\"https://s.pstatic.net/dthumb.phinf/?src=%22https%3A%2F%2Fs.pstatic.net%2Fshop.phinf%2F20220424_93%2F1650791403722YvQn1_JPEG%2F750_1.jpg%22&amp;type=nf340_228\" height=\"114\" onerror=\"this.outerHTML='&lt;span class=\\'pm_noimg\\'&gt;&lt;span class=\\'noimg_text\\'&gt;이미지 준비중&lt;/span&gt;&lt;/span&gt;'\" src=\"https://s.pstatic.net/dthumb.phinf/?src=%22https%3A%2F%2Fs.pstatic.net%2Fshop.phinf%2F20220424_93%2F1650791403722YvQn1_JPEG%2F750_1.jpg%22&amp;type=nf340_228\" width=\"170\"/>,\n",
              " <img alt=\"캠핑 감성, 코바늘로 이소가스워머 만들기 #손뜨개 \" data-src=\"https://s.pstatic.net/dthumb.phinf/?src=%22https%3A%2F%2Fs.pstatic.net%2Fshop.phinf%2F20220424_128%2F1650791546289wyhmp_JPEG%2F336_4.jpg%22&amp;type=nf340_228\" height=\"114\" onerror=\"this.outerHTML='&lt;span class=\\'pm_noimg\\'&gt;&lt;span class=\\'noimg_text\\'&gt;이미지 준비중&lt;/span&gt;&lt;/span&gt;'\" src=\"https://s.pstatic.net/dthumb.phinf/?src=%22https%3A%2F%2Fs.pstatic.net%2Fshop.phinf%2F20220424_128%2F1650791546289wyhmp_JPEG%2F336_4.jpg%22&amp;type=nf340_228\" width=\"170\"/>,\n",
              " <img alt=\"자작나무로 만든 주방 \" data-src=\"https://s.pstatic.net/dthumb.phinf/?src=%22https%3A%2F%2Fs.pstatic.net%2Fshop.phinf%2F20220423_249%2F1650713789517JONLt_JPEG%2F750_0.jpg%22&amp;type=nf340_228\" height=\"114\" onerror=\"this.outerHTML='&lt;span class=\\'pm_noimg\\'&gt;&lt;span class=\\'noimg_text\\'&gt;이미지 준비중&lt;/span&gt;&lt;/span&gt;'\" src=\"https://s.pstatic.net/dthumb.phinf/?src=%22https%3A%2F%2Fs.pstatic.net%2Fshop.phinf%2F20220423_249%2F1650713789517JONLt_JPEG%2F750_0.jpg%22&amp;type=nf340_228\" width=\"170\"/>,\n",
              " <img alt=\"아이들의 작은 놀이터, 데크로 바꾼 안방 베란다 \" data-src=\"https://s.pstatic.net/dthumb.phinf/?src=%22https%3A%2F%2Fs.pstatic.net%2Fshop.phinf%2F20220423_207%2F1650719371858gaNPg_JPEG%2F336_3.jpg%22&amp;type=nf340_228\" height=\"114\" onerror=\"this.outerHTML='&lt;span class=\\'pm_noimg\\'&gt;&lt;span class=\\'noimg_text\\'&gt;이미지 준비중&lt;/span&gt;&lt;/span&gt;'\" src=\"https://s.pstatic.net/dthumb.phinf/?src=%22https%3A%2F%2Fs.pstatic.net%2Fshop.phinf%2F20220423_207%2F1650719371858gaNPg_JPEG%2F336_3.jpg%22&amp;type=nf340_228\" width=\"170\"/>,\n",
              " <img alt=\"중문 없는 집, 30평대 구축 아파트 가구 재배치 \" data-src=\"https://s.pstatic.net/dthumb.phinf/?src=%22https%3A%2F%2Fs.pstatic.net%2Fshop.phinf%2F20220423_177%2F1650719365108h7h1h_JPEG%2F336_4.jpg%22&amp;type=nf340_228\" height=\"114\" onerror=\"this.outerHTML='&lt;span class=\\'pm_noimg\\'&gt;&lt;span class=\\'noimg_text\\'&gt;이미지 준비중&lt;/span&gt;&lt;/span&gt;'\" src=\"https://s.pstatic.net/dthumb.phinf/?src=%22https%3A%2F%2Fs.pstatic.net%2Fshop.phinf%2F20220423_177%2F1650719365108h7h1h_JPEG%2F336_4.jpg%22&amp;type=nf340_228\" width=\"170\"/>,\n",
              " <img alt=\"\" height=\"130\" onerror=\"this.outerHTML='&lt;span class=\\'pm_noimg\\'&gt;&lt;span class=\\'noimg_text\\'&gt;이미지 준비중&lt;/span&gt;&lt;/span&gt;'\" src=\"https://happybean-phinf.pstatic.net/20220421_9/1650527182358fgSkR_JPEG/B4EBACECEBB0B1EB.jpg?type=f464_260\" width=\"232\"/>,\n",
              " <img alt=\"\" height=\"130\" onerror=\"this.outerHTML='&lt;span class=\\'pm_noimg\\'&gt;&lt;span class=\\'noimg_text\\'&gt;이미지 준비중&lt;/span&gt;&lt;/span&gt;'\" src=\"https://happybean-phinf.pstatic.net/20220412_20/1649744657646Vopj9_JPEG/%B8%EB%A4%EC33.jpg?type=f464_260\" width=\"232\"/>,\n",
              " <img alt=\"\" height=\"130\" onerror=\"this.outerHTML='&lt;span class=\\'pm_noimg\\'&gt;&lt;span class=\\'noimg_text\\'&gt;이미지 준비중&lt;/span&gt;&lt;/span&gt;'\" src=\"https://happybean-phinf.pstatic.net/20220421_116/16505270915089u5nI_JPEG/EBA1ACED-ABECB4EDB8EB-28229.jpg?type=f464_260\" width=\"232\"/>,\n",
              " <img alt=\"\" height=\"130\" onerror=\"this.outerHTML='&lt;span class=\\'pm_noimg\\'&gt;&lt;span class=\\'noimg_text\\'&gt;이미지 준비중&lt;/span&gt;&lt;/span&gt;'\" src=\"https://happybean-phinf.pstatic.net/20220414_285/16499230243663MP6A_JPEG/%B8%EB%A4%EC11.jpg?type=f464_260\" width=\"232\"/>,\n",
              " <img alt=\"\" height=\"130\" onerror=\"this.outerHTML='&lt;span class=\\'pm_noimg\\'&gt;&lt;span class=\\'noimg_text\\'&gt;이미지 준비중&lt;/span&gt;&lt;/span&gt;'\" src=\"https://happybean-phinf.pstatic.net/20220407_274/1649316549319fLWqn_JPEG/낡은_의자_.jpg?type=f464_260\" width=\"232\"/>,\n",
              " <img alt=\"\" height=\"130\" onerror=\"this.outerHTML='&lt;span class=\\'pm_noimg\\'&gt;&lt;span class=\\'noimg_text\\'&gt;이미지 준비중&lt;/span&gt;&lt;/span&gt;'\" src=\"https://happybean-phinf.pstatic.net/20220120_275/1642646746149BwFpr_JPEG/fcvbsd.JPG?type=f464_260\" width=\"232\"/>,\n",
              " <img alt=\"봄이 가득한 우리 집 핫스팟, 거실 #랜선집들이  \" data-src=\"https://s.pstatic.net/dthumb.phinf/?src=%22https%3A%2F%2Fs.pstatic.net%2Fshop.phinf%2F20220420_12%2F1650451036988l4jML_JPEG%2F336_3.jpg%22&amp;type=nf340_228\" height=\"114\" onerror=\"this.outerHTML='&lt;span class=\\'pm_noimg\\'&gt;&lt;span class=\\'noimg_text\\'&gt;이미지 준비중&lt;/span&gt;&lt;/span&gt;'\" width=\"170\"/>,\n",
              " <img alt=\"오래된 빌라, 서까래와 벽난로가 있는 빈티지하우스 \" data-src=\"https://s.pstatic.net/dthumb.phinf/?src=%22https%3A%2F%2Fs.pstatic.net%2Fshop.phinf%2F20220422_171%2F16506373334760yamn_JPEG%2F336_0.jpg%22&amp;type=nf340_228\" height=\"114\" onerror=\"this.outerHTML='&lt;span class=\\'pm_noimg\\'&gt;&lt;span class=\\'noimg_text\\'&gt;이미지 준비중&lt;/span&gt;&lt;/span&gt;'\" width=\"170\"/>,\n",
              " <img alt=\"빈티지 소품샵처럼, 서재 꾸미기 \" data-src=\"https://s.pstatic.net/dthumb.phinf/?src=%22https%3A%2F%2Fs.pstatic.net%2Fshop.phinf%2F20220418_6%2F1650264702399xQoSd_JPEG%2F750_26.jpg%22&amp;type=nf340_228\" height=\"114\" onerror=\"this.outerHTML='&lt;span class=\\'pm_noimg\\'&gt;&lt;span class=\\'noimg_text\\'&gt;이미지 준비중&lt;/span&gt;&lt;/span&gt;'\" width=\"170\"/>,\n",
              " <img alt=\"30년 된 복도식 아파트, 현실주의 미니멀 인테리어 \" data-src=\"https://s.pstatic.net/dthumb.phinf/?src=%22https%3A%2F%2Fs.pstatic.net%2Fshop.phinf%2F20220421_138%2F1650552273313UfBgj_JPEG%2F336_50.jpg%22&amp;type=nf340_228\" height=\"114\" onerror=\"this.outerHTML='&lt;span class=\\'pm_noimg\\'&gt;&lt;span class=\\'noimg_text\\'&gt;이미지 준비중&lt;/span&gt;&lt;/span&gt;'\" width=\"170\"/>,\n",
              " <img alt=\"32종의 식물들과 함께하는 원룸, 그린하우스 \" data-src=\"https://s.pstatic.net/dthumb.phinf/?src=%22https%3A%2F%2Fs.pstatic.net%2Fshop.phinf%2F20220423_240%2F1650641864176VAvmp_JPEG%2F336_3.jpg%22&amp;type=nf340_228\" height=\"114\" onerror=\"this.outerHTML='&lt;span class=\\'pm_noimg\\'&gt;&lt;span class=\\'noimg_text\\'&gt;이미지 준비중&lt;/span&gt;&lt;/span&gt;'\" width=\"170\"/>,\n",
              " <img alt=\"바닥에서도 배기지 않고 편안해요\" data-src=\"https://s.pstatic.net/dthumb.phinf/?src=%22https%3A%2F%2Fs.pstatic.net%2Fshop.phinf%2F20220420_173%2F1650439525172SQoc9_JPEG%2F1.%25B9%25AB%25B7%25E1%25C3%25BC%25C7%25E8_%25BF%25F9.jpg%22&amp;type=nf340_228\" height=\"114\" onerror=\"this.outerHTML='&lt;span class=\\'pm_noimg\\'&gt;&lt;span class=\\'noimg_text\\'&gt;이미지 준비중&lt;/span&gt;&lt;/span&gt;'\" width=\"170\"/>,\n",
              " <img alt=\"우리 집을 소개하면 공간마다 홈스타일링 지원금을!\" data-src=\"https://s.pstatic.net/dthumb.phinf/?src=%22https%3A%2F%2Fs.pstatic.net%2Fshop.phinf%2F20220401_88%2F1648782621430lCtOh_JPEG%2F336_4.jpg%22&amp;type=nf340_228\" height=\"114\" onerror=\"this.outerHTML='&lt;span class=\\'pm_noimg\\'&gt;&lt;span class=\\'noimg_text\\'&gt;이미지 준비중&lt;/span&gt;&lt;/span&gt;'\" width=\"170\"/>,\n",
              " <img alt=\"자랑하고 싶은 살림잇템, 리빙잇템이 있다면!\" data-src=\"https://s.pstatic.net/dthumb.phinf/?src=%22https%3A%2F%2Fs.pstatic.net%2Fshop.phinf%2F20220401_30%2F1648740125586Bmddh_JPEG%2F336_0.jpg%22&amp;type=nf340_228\" height=\"114\" onerror=\"this.outerHTML='&lt;span class=\\'pm_noimg\\'&gt;&lt;span class=\\'noimg_text\\'&gt;이미지 준비중&lt;/span&gt;&lt;/span&gt;'\" width=\"170\"/>,\n",
              " <img alt=\"압화 투명 액자 만들기\" data-src=\"https://s.pstatic.net/dthumb.phinf/?src=%22https%3A%2F%2Fs.pstatic.net%2Fshop.phinf%2F20220421_238%2F1650525969470fus5T_JPEG%2Fwf.jpg%22&amp;type=nf340_228\" height=\"114\" onerror=\"this.outerHTML='&lt;span class=\\'pm_noimg\\'&gt;&lt;span class=\\'noimg_text\\'&gt;이미지 준비중&lt;/span&gt;&lt;/span&gt;'\" width=\"170\"/>,\n",
              " <img alt=\"형태도 기능도 다양한 멀티탭 취향대로 고르기\" data-src=\"https://s.pstatic.net/dthumb.phinf/?src=%22https%3A%2F%2Fs.pstatic.net%2Fshop.phinf%2F20220421_279%2F16505316164961FI9N_PNG%2F58.PNG%22&amp;type=nf340_228\" height=\"114\" onerror=\"this.outerHTML='&lt;span class=\\'pm_noimg\\'&gt;&lt;span class=\\'noimg_text\\'&gt;이미지 준비중&lt;/span&gt;&lt;/span&gt;'\" width=\"170\"/>,\n",
              " <img alt=\"뻑뻑한 지퍼 수선 방법, 연필과 초를 준비하세요\" data-src=\"https://s.pstatic.net/dthumb.phinf/?src=%22https%3A%2F%2Fs.pstatic.net%2Fshop.phinf%2F20220420_85%2F1650452677262LJv7F_JPEG%2Fkyt.jpg%22&amp;type=nf340_228\" height=\"114\" onerror=\"this.outerHTML='&lt;span class=\\'pm_noimg\\'&gt;&lt;span class=\\'noimg_text\\'&gt;이미지 준비중&lt;/span&gt;&lt;/span&gt;'\" width=\"170\"/>,\n",
              " <img alt=\"5년간 못 본척했던 베란다의 변신\" data-src=\"https://s.pstatic.net/dthumb.phinf/?src=%22https%3A%2F%2Fs.pstatic.net%2Fshop.phinf%2F20220420_119%2F1650452426444SOH6g_JPEG%2F750_8.jpg%22&amp;type=nf340_228\" height=\"114\" onerror=\"this.outerHTML='&lt;span class=\\'pm_noimg\\'&gt;&lt;span class=\\'noimg_text\\'&gt;이미지 준비중&lt;/span&gt;&lt;/span&gt;'\" width=\"170\"/>,\n",
              " <img alt=\"휴양지 감성을 담은 45평 아파트+아빠의 비밀 공간 \" data-src=\"https://s.pstatic.net/dthumb.phinf/?src=%22https%3A%2F%2Fs.pstatic.net%2Fshop.phinf%2F20220423_139%2F1650719317548LojdY_JPEG%2F336_0.jpg%22&amp;type=nf340_228\" height=\"114\" onerror=\"this.outerHTML='&lt;span class=\\'pm_noimg\\'&gt;&lt;span class=\\'noimg_text\\'&gt;이미지 준비중&lt;/span&gt;&lt;/span&gt;'\" width=\"170\"/>,\n",
              " <img alt=\"'신혼집 드레스룸'이라고 쓰고 시작하는 화이트 인테리어 \" data-src=\"https://s.pstatic.net/dthumb.phinf/?src=%22https%3A%2F%2Fs.pstatic.net%2Fshop.phinf%2F20220420_48%2F1650452739025DwksQ_JPEG%2F336_52.jpg%22&amp;type=nf340_228\" height=\"114\" onerror=\"this.outerHTML='&lt;span class=\\'pm_noimg\\'&gt;&lt;span class=\\'noimg_text\\'&gt;이미지 준비중&lt;/span&gt;&lt;/span&gt;'\" width=\"170\"/>,\n",
              " <img alt=\"살림 고수님, 꿀팁 노하우를 알려주세요\" data-src=\"https://s.pstatic.net/dthumb.phinf/?src=%22https%3A%2F%2Fs.pstatic.net%2Fshop.phinf%2F20220401_292%2F1648740092042v9vUj_JPEG%2F336_1.jpg%22&amp;type=nf340_228\" height=\"114\" onerror=\"this.outerHTML='&lt;span class=\\'pm_noimg\\'&gt;&lt;span class=\\'noimg_text\\'&gt;이미지 준비중&lt;/span&gt;&lt;/span&gt;'\" width=\"170\"/>,\n",
              " <img alt=\"험난했던 창틀 선반 만들기\" data-src=\"https://s.pstatic.net/dthumb.phinf/?src=%22https%3A%2F%2Fs.pstatic.net%2Fshop.phinf%2F20220422_27%2F1650639034278eV9r9_JPEG%2F750_14.jpg%22&amp;type=nf340_228\" height=\"114\" onerror=\"this.outerHTML='&lt;span class=\\'pm_noimg\\'&gt;&lt;span class=\\'noimg_text\\'&gt;이미지 준비중&lt;/span&gt;&lt;/span&gt;'\" width=\"170\"/>,\n",
              " <img alt=\"깔끔한 화장대 정리를 위한 내돈내산 #리빙잇템  \" data-src=\"https://s.pstatic.net/dthumb.phinf/?src=%22https%3A%2F%2Fs.pstatic.net%2Fshop.phinf%2F20220420_133%2F1650450714546VJjwV_JPEG%2Fuk.jpg%22&amp;type=nf340_228\" height=\"114\" onerror=\"this.outerHTML='&lt;span class=\\'pm_noimg\\'&gt;&lt;span class=\\'noimg_text\\'&gt;이미지 준비중&lt;/span&gt;&lt;/span&gt;'\" width=\"170\"/>,\n",
              " <img alt=\"남은 치약 활용하는 방법 #생활팁 #환경살리기 \" data-src=\"https://s.pstatic.net/dthumb.phinf/?src=%22https%3A%2F%2Fs.pstatic.net%2Fshop.phinf%2F20220420_162%2F1650450732683rgySP_JPEG%2Ftyj.jpg%22&amp;type=nf340_228\" height=\"114\" onerror=\"this.outerHTML='&lt;span class=\\'pm_noimg\\'&gt;&lt;span class=\\'noimg_text\\'&gt;이미지 준비중&lt;/span&gt;&lt;/span&gt;'\" width=\"170\"/>,\n",
              " <img alt=\"매거진 find의 발견, 꽃무늬 이불을 만드는 '은혜직물'\" data-src=\"https://s.pstatic.net/dthumb.phinf/?src=%22https%3A%2F%2Fs.pstatic.net%2Fshop.phinf%2F20220421_274%2F1650552458857Vg3FX_JPEG%2F336_0.jpg%22&amp;type=nf340_228\" height=\"114\" onerror=\"this.outerHTML='&lt;span class=\\'pm_noimg\\'&gt;&lt;span class=\\'noimg_text\\'&gt;이미지 준비중&lt;/span&gt;&lt;/span&gt;'\" width=\"170\"/>,\n",
              " <img alt=\"아이 있는 집, 거실의 변화\" data-src=\"https://s.pstatic.net/dthumb.phinf/?src=%22https%3A%2F%2Fs.pstatic.net%2Fshop.phinf%2F20220419_230%2F1650377403019ox07M_JPEG%2F750_2.jpg%22&amp;type=nf340_228\" height=\"114\" onerror=\"this.outerHTML='&lt;span class=\\'pm_noimg\\'&gt;&lt;span class=\\'noimg_text\\'&gt;이미지 준비중&lt;/span&gt;&lt;/span&gt;'\" width=\"170\"/>,\n",
              " <img alt=\"집안 곳곳 다양하게 뚫린 창, 온실을 안은 붉은 벽돌집  \" data-src=\"https://s.pstatic.net/dthumb.phinf/?src=%22https%3A%2F%2Fs.pstatic.net%2Fshop.phinf%2F20220419_28%2F1650377445982XX0bl_JPEG%2F336_42.jpg%22&amp;type=nf340_228\" height=\"114\" onerror=\"this.outerHTML='&lt;span class=\\'pm_noimg\\'&gt;&lt;span class=\\'noimg_text\\'&gt;이미지 준비중&lt;/span&gt;&lt;/span&gt;'\" width=\"170\"/>,\n",
              " <img alt=\"독립 7년 차의 랜선집들이, 고양이와 함께하는 침실\" data-src=\"https://s.pstatic.net/dthumb.phinf/?src=%22https%3A%2F%2Fs.pstatic.net%2Fshop.phinf%2F20220327_6%2F1648369676113PB6E8_JPEG%2F336_0.jpg%22&amp;type=nf340_228\" height=\"114\" onerror=\"this.outerHTML='&lt;span class=\\'pm_noimg\\'&gt;&lt;span class=\\'noimg_text\\'&gt;이미지 준비중&lt;/span&gt;&lt;/span&gt;'\" width=\"170\"/>,\n",
              " <img alt=\"매거진 find의 발견, 믿을만한 살림을 소개하는 '카탈로그' \" data-src=\"https://s.pstatic.net/dthumb.phinf/?src=%22https%3A%2F%2Fs.pstatic.net%2Fshop.phinf%2F20220422_86%2F1650565451424AQYzc_JPEG%2F336_8.jpg%22&amp;type=nf340_228\" height=\"114\" onerror=\"this.outerHTML='&lt;span class=\\'pm_noimg\\'&gt;&lt;span class=\\'noimg_text\\'&gt;이미지 준비중&lt;/span&gt;&lt;/span&gt;'\" width=\"170\"/>,\n",
              " <img alt=\"내돈내산, 독특한 러그 브랜드  \" data-src=\"https://s.pstatic.net/dthumb.phinf/?src=%22https%3A%2F%2Fs.pstatic.net%2Fshop.phinf%2F20220420_120%2F1650451072715nd5oE_JPEG%2Fger.jpg%22&amp;type=nf340_228\" height=\"114\" onerror=\"this.outerHTML='&lt;span class=\\'pm_noimg\\'&gt;&lt;span class=\\'noimg_text\\'&gt;이미지 준비중&lt;/span&gt;&lt;/span&gt;'\" width=\"170\"/>,\n",
              " <img alt=\"액세서리 부자재 시장, 쇼핑 후기와 꿀팁 + 비즈팔찌 DIY\" data-src=\"https://s.pstatic.net/dthumb.phinf/?src=%22https%3A%2F%2Fs.pstatic.net%2Fshop.phinf%2F20220420_50%2F1650451062947adbwu_JPEG%2Fk.jpg%22&amp;type=nf340_228\" height=\"114\" onerror=\"this.outerHTML='&lt;span class=\\'pm_noimg\\'&gt;&lt;span class=\\'noimg_text\\'&gt;이미지 준비중&lt;/span&gt;&lt;/span&gt;'\" width=\"170\"/>,\n",
              " <img alt=\"웨일\" height=\"48\" src=\"data:image/png;base64,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\" width=\"48\"/>,\n",
              " <img alt=\"꽃\" height=\"50\" src=\"data:image/png;base64,iVBORw0KGgoAAAANSUhEUgAAAF4AAABkCAMAAAA47XeXAAAAgVBMVEUAAADN5PdGm99Gm99Gm99Gm99Gm95Gm99Gm99Gm99Gm99Gm99Gm99Gm99Gm99Gm99Gm99Gm99Gm99Gm99Gm99Gm99Gm99Gmt9Gm99Gm99Gm99Gm95Gm99Gm99Gm95Gm99Hm99Gm99Gm9/////3+/5cp+LO5PfR5/fO5fdcp+P7/f/zv5GhAAAAInRSTlMA/v7vH9u5qJNgGwb6l8a9uqF9WFUyLxYMCtbVmLCwe4OCj8gzEgAAA0NJREFUaN7NmmFz4iAQhkkwMTHGWrWtWvWuq8mF+/8/8Ey2nb0OhSwQZnw+MHQ7pbjAy2s2gsuiLPJMLpcyy4tyISZltnmHbxw3MzEVr/MUNNL5q5iCt2ccXCN9fhPB7CQYkTsRRlWDlboSAexzGCHfC28OKxhldfDOzBMwePLNTw0sauHFFphshQcLCUwkaQRfXYBPSkrEUBdv3jezcXXhw1ciUhc+fCUidQlH7qzqEk5d2dQlnHxvU5dwVgdXdSGclaiGyamt6hLO1qIu4ZASzcFE092SBprk1jagulvXAAw/qb5N7m176xQYmOPoLymYaK/X65/PNhlagE6LGUhfRM8FjNzuf/73//bHmInzoJEpjMyeWpp9RzGz/PT6+QvMNO2Q+67PPeYZY5h7jDVg5OM+/BGikd13JfDAj/Ad1WLMyEyUwKPT00ypN1GKAljQJtFiFgqRe86eYhbWIvPPPR5d+9pKiIgUwKNJdHXBvW9jyRye1EWLWYfnJcd141Byspizz7gbUyWDuqiW0v15D9g3ZgF86JwyKUgUHJaATUmS5rsEdkkTZLjZS8Alw+skFr8Nl6H6uosShaKOp3Zo+/jgFTDe+wcSfv0yFGfQaLX7tDO0reXOPRuMCG4Q11Y3IiYblWgzS7R+h31qdRtlGB7zikeUckz+AB3a8FuMqD7Cd2nhUHLOEIkLubQIkEuLxIdwEwUy3HyXxsbgPMJcGuGox+TSIugxuTQ+KHIaAS5N92eIIuMT5tJoPfHy5q9yKoXLelLuKRri0mjMQdhwTPw6Sv8pzKXhFyhNilEwkSCXRrnAnaPnJdyl0UrqXircpeHVglnv+62K4NJo3lFcGmWd79KO7OQoXAE8XNO6tIQGxj7fpfHTwk8RubQLWEGvgTNGKzj01fixunCMCCYcvSSlaFwUyKVx86J3bczpUR3zimq1LqdosAUbJF54ar+uk5Gju436mPTk8ZAXFdO93HRYTesUVgf3B+y0XdxLfdVputmfKp/iBtNjyl3c0kzUwtJIWewIPvAL9LOyWLsV9WAps3VRzh6hJBm3oOqsRKfHLGYzS/GP+iLBuBKdqkd+iWPkFZTHf4Em4us/uhI5qss/6zK5u8+AXpwAAAAASUVORK5CYII=\" width=\"47\"/>]"
            ]
          },
          "metadata": {},
          "execution_count": 13
        }
      ],
      "source": [
        "'''\n",
        "정보를 가져오고자 하는 url 정의\n",
        "url 정보로 reguests로 정보 요청\n",
        "text 정보를 html로 변환\n",
        "html에서 우리가 필요한 정보만 요청\n",
        "'''\n",
        "# 네이버 메인페이지\n",
        "# url정의(문자열 형식으로 전달,http:// 포함)\n",
        "url = 'https://www.naver.com'\n",
        "# requsts로 url에 정보요청\n",
        "# requests 파이썬이 컴퓨터간 통신체계에 해당하는 명령어들을 사용하도록 만든 패키지\n",
        "# 해당코드를 실행시키는 순간 서비스제공자에게 정보요청을 함.\n",
        "resp = requests.get(url)\n",
        "\n",
        "# 정보를 html 변환 (보기 쉽게)\n",
        "resp.text\n",
        "html = BeautifulSoup(resp.text, 'html.parser')\n",
        "# html 내에서 우리가 보고 싶은 정보만 선별\n",
        "html.select('img')"
      ]
    },
    {
      "cell_type": "markdown",
      "metadata": {
        "id": "Z4RwFq_VBplh"
      },
      "source": [
        "#### 다음 뉴스페이지 크롤링"
      ]
    },
    {
      "cell_type": "code",
      "execution_count": 23,
      "metadata": {
        "ExecuteTime": {
          "end_time": "2021-09-17T02:14:07.684756Z",
          "start_time": "2021-09-17T02:14:07.466864Z"
        },
        "id": "j62F6ZkOBplh",
        "outputId": "e76aa328-5137-4dd9-84fd-5d1a961c06ab",
        "colab": {
          "base_uri": "https://localhost:8080/",
          "height": 36
        }
      },
      "outputs": [
        {
          "output_type": "execute_result",
          "data": {
            "text/plain": [
              "'美, \\'푸틴 연인\\'에 제재 막판 보류..\"우크라 협상 긴장 우려\"'"
            ],
            "application/vnd.google.colaboratory.intrinsic+json": {
              "type": "string"
            }
          },
          "metadata": {},
          "execution_count": 23
        }
      ],
      "source": [
        "# 다음 뉴스 페이지 크롤링\n",
        "# url정의\n",
        "url = 'https://news.daum.net/'\n",
        "# requsts로 url에 정보요청\n",
        "resp = requests.get(url)\n",
        "# 정보를 html 변환 (보기 쉽게)\n",
        "html = BeautifulSoup(resp.text, 'html.parser')\n",
        "# html 내에서 뉴스헤더 선별\n",
        "html.select('a.link_txt')[0].text.strip()"
      ]
    },
    {
      "cell_type": "code",
      "source": [
        "for news in html.select('a.link_txt')[:-13]:\n",
        "    print(news.text.strip().replace('[','').replace(']',''))"
      ],
      "metadata": {
        "id": "aupQKVkGYfEx",
        "outputId": "eff671c9-0bca-4b6b-dad9-f3ada545bea5",
        "colab": {
          "base_uri": "https://localhost:8080/"
        }
      },
      "execution_count": 28,
      "outputs": [
        {
          "output_type": "stream",
          "name": "stdout",
          "text": [
            "美, '푸틴 연인'에 제재 막판 보류..\"우크라 협상 긴장 우려\"\n",
            "\"마크롱 재선 성공..佛 원전·반도체시장 더 커진다\"-코트라\n",
            "레바논서 이스라엘 향해 로켓포 두 발 발사..긴장 확산 우려\n",
            "이차영 괴산군수 재선 도전 \"행정 연속성 중요\"\n",
            "ICT업계 \"새 정부 '과학기술수석비서관' 설치해 달라\"\n",
            "태안 해상서 코카인 101kg 적발기법 등 3건 인터폴 정보 공유·\n",
            "변동장에 한탕 노린 투기자금..헤지펀드 자금 유입 7년만에 최대\n",
            "달고나·건빵·누룽지..'이게 맛있니?'  옛날과자 250만개 팔렸다\n",
            "이 길로는 못보내..러 보급열차 훼방한 벨라루스 근로자들우크라 침공\n",
            "中 \"왜 미국만 지구를 구해? 우리도 한다!\"과학을읽다\n",
            "인수위 \"코로나 후유증 대책 추진.. 감염병등급 상향 논의 없어 \"\n",
            "공포의 바이오株, 외국인도 수백억 물렸다..급락하는 HLB‧휴마시스‧바이오니아\n",
            "車시트에 앉는 순간 '토털케어' 시작된다\n",
            "인수위, 코로나 100일 프로젝트·종합방역대책 오늘 확정..安 27일 직접 발표\n",
            "검수완박 강타에..'오직 민생' 거리두던 尹당선인도 침묵깨나\n",
            "먹는 코로나약 팍스로비드, 美서도 \"제대로 활용 못한다\"\n",
            "김오수 \"국회의장 중재안 전혀 알지 못했다..중재안의 '중'자도 못들어\"\n",
            "'백신 반대' 日정치인, 여중생 임신·출산시켜 논란\n",
            "권은희 제명안 부결..국힘 이름 달고 '검수완박' 찬성하나\n",
            "인수위 \"코로나 감염병 등급 재상향 검토 안해..27일 새정부 방역대책 발표\"\n",
            "지구촌 돋보기 세계 펭귄의 날\n",
            "中 \"왜 미국만 지구를 구해? 우리도 한다!\"과학을읽다\n",
            "현장영상+ 김오수 \"중재안, 검수완박 시행시기만 잠시 늦춘 것에 불과\"\n",
            "뉴스라이브 이준석 \"검수완박 합의 재검토\"..'뒤집기' 시도?\n",
            "입술 깨물며 안절부절..'푸틴 건강 이상' 의심되는 영상 또 나와\n",
            "인터뷰대검 넘버3 \"검수완박 너무 걱정돼.. 공청회라도 열라\"\n",
            "뉴스킹 '미리 보는' 한덕수 인사청문회..'론스타'부터 '임대왕'까지 6가지 법리적 쟁점\n",
            "유형재의 새록새록 귀향 않고 경포에 머물던 백조의 안타까운 소식\n",
            "주변의 정겨운 풍경들\n",
            "문 대통령, 코로나19 백신 4차 접종\n",
            "문재인 대통령과 김정숙 여사, 코로나19 백신 4차 접종\n",
            "다채로운 색상으로 '최초의 무력' 창건일 경축한 北\n"
          ]
        }
      ]
    },
    {
      "cell_type": "code",
      "execution_count": null,
      "metadata": {
        "ExecuteTime": {
          "end_time": "2021-09-17T02:42:29.390354Z",
          "start_time": "2021-09-17T02:42:29.385004Z"
        },
        "id": "ehzf8wgfBplh",
        "outputId": "b3e15a22-c410-43db-8b53-379e25dd00d4"
      },
      "outputs": [
        {
          "data": {
            "text/plain": [
              "'가덕도 신공항, 개발 착수..\"환경 고려\" 제주2공항 속도 조절'"
            ]
          },
          "execution_count": 13,
          "metadata": {},
          "output_type": "execute_result"
        }
      ],
      "source": [
        ""
      ]
    },
    {
      "cell_type": "markdown",
      "metadata": {
        "id": "leESHsnF8kMy"
      },
      "source": [
        "### 실제 개발자가 작성한 코드로 확인된다\n",
        "> 정제되지 않은 데이터로 가독성이 좋지 않음  \n",
        "우리는 이 중에서 우리가 원하는 정보를 선별해서 가져오는 작업을 진행합니다.  \n",
        "그러기에 html의 기본 구성을 살펴보도록 하겠습니다.  "
      ]
    },
    {
      "cell_type": "markdown",
      "metadata": {
        "id": "ijN26CQi8oSa"
      },
      "source": [
        "#### 웹 페이지의 구성\n",
        "> **HTML(Hyper Text Markup Language)**  \n",
        "www 를 구성하는데 사용하는 국제표준 언어로서 컨텐츠와 레이아웃을 담고 있다\n",
        "\n",
        "> **<태그>** 내용 **</태그>**  \n",
        "<tag이름 class=\"class이름1 class이름2\" id=\"주민번호\" href=\"주소\"></tag이름>\n",
        "\n",
        "> 형태나 속성을 묘사하기 위한 구조적 언어 : HTML, CSS (계층이 있음)  \n",
        "웹의 작동 및 제어를 위한 프로그래밍 언어 :  Js"
      ]
    },
    {
      "cell_type": "markdown",
      "metadata": {
        "id": "7caqQS1q8xE9"
      },
      "source": [
        "#### 셀렉터\n",
        "> 용도 : html에서 내가 원하는 내용을 찾아내기 위해서\n",
        "```\n",
        "tag : span  \n",
        "class(별명, 그룹명) : .news\n",
        "<span class=\"news\" id=\"1234\">비비고 왕교자</span>\n",
        "<span class=\"\bproduct\" id=\"1235\">비비고 볶음밥</span>\n",
        "```\n",
        ">> 단일 셀렉터  \n",
        "html.select('span')  # 태그 이름이 span인 친구들을 다 들고옴  \n",
        "```\n",
        "<span class=\"news\" id=\"1234\">비비고 왕교자</span>\n",
        "<span class=\"\bproduct\" id=\"1235\">비비고 볶음밥</span>\n",
        "```\n",
        "\n",
        "\n",
        ">> 클래스 포함 셀렉터\n",
        "html.select('span.news')\n",
        "```\n",
        "<span class=\"news\" id=\"1234\">비비고 왕교자</span>\n",
        "```\n",
        "\n",
        ">> id 포함 셀렉터\n",
        "id(고유값) : #1235\n",
        "```\n",
        "<span class=\"\bproduct\" id=\"1235\">비비고 볶음밥</span>\n",
        "```\n",
        "html.select('span#1234')"
      ]
    },
    {
      "cell_type": "markdown",
      "metadata": {
        "id": "U-JjMflT80sS"
      },
      "source": [
        "#### 복합 셀렉터\n",
        "    1. 조합 셀렉터\n",
        "    <span>1</span>\n",
        "    <span class=\"txt\">2</span>\n",
        "    <em class=\"txt\">3</em>\n",
        "    <li id=\"name\"></li>\n",
        "    \n",
        "    태그 이름이 span이고 클래스 이름은 txt인 라인을 찾고 싶다. : span.txt \n",
        "    li 태그 중에서 id가 name 인 라인을 찾고\\ 싶다. : li#name\n",
        "\n",
        "    2. 경로 셀렉터\n",
        "    \n",
        "    <ul>\n",
        "        <li><span>이걸 찾으려면?</span></li>\n",
        "    </ul>\n",
        "    <span>이건 아님</span>\n",
        "\n",
        "    ul 태그안 li 태그 안 span 라인을 찾는다\n",
        "    ul > li > span 혹은 ul li span"
      ]
    },
    {
      "cell_type": "code",
      "execution_count": 61,
      "metadata": {
        "ExecuteTime": {
          "end_time": "2021-09-17T04:34:11.910831Z",
          "start_time": "2021-09-17T04:34:11.907953Z"
        },
        "id": "VwVSuBCfBpli"
      },
      "outputs": [],
      "source": [
        "import time"
      ]
    },
    {
      "cell_type": "code",
      "execution_count": 66,
      "metadata": {
        "ExecuteTime": {
          "end_time": "2021-09-17T04:36:56.906592Z",
          "start_time": "2021-09-17T04:36:45.352892Z"
        },
        "id": "7WpRzopoBpli",
        "outputId": "1cca5c32-7ca2-445a-d381-945a075f1320",
        "colab": {
          "base_uri": "https://localhost:8080/"
        }
      },
      "outputs": [
        {
          "output_type": "stream",
          "name": "stdout",
          "text": [
            "도깨비 불멸의 삶을 끝내기 위해 인간 신부가 필요한 도깨비, 그와 기묘한 동거를 시작한 기억상실증 저승사자. 그런 그들 앞에 '도깨비 신부'라 주장하는 '죽었어야 할 운명'의 소녀가 나타나며 벌어지는 신비로운 낭만 설화\n",
            "천국의계단 금지된, 이루어질 수 없는 사랑에 몸부림치는 네 남녀의 영원히 끝나지 않을 사랑 이야기를 그린 드라마\n"
          ]
        }
      ],
      "source": [
        "# 슬의생, 도깨비, 오징어게임\n",
        "# 슬의생 드라마소개 크롤링\n",
        "# url정의\n",
        "li = ['도깨비','천국의계단']\n",
        "for i in li:\n",
        "    time.sleep(2)\n",
        "    url = f'https://search.naver.com/search.naver?sm=tab_hty.top&where=nexearch&query={i}'\n",
        "    # requsts로 url에 정보요청\n",
        "    resp = requests.get(url)\n",
        "    # 정보를 html 변환 (보기 쉽게)\n",
        "    html = BeautifulSoup(resp.text, 'html.parser')\n",
        "    # html 내에서 데이터\n",
        "    print(i, html.select('span.desc._text')[0].text)"
      ]
    },
    {
      "cell_type": "code",
      "execution_count": null,
      "metadata": {
        "ExecuteTime": {
          "end_time": "2021-09-17T05:09:38.607132Z",
          "start_time": "2021-09-17T05:09:38.072909Z"
        },
        "id": "UdEY_eu4Bpli"
      },
      "outputs": [],
      "source": [
        "# 해당 드라마 뉴스 제목 크롤링\n"
      ]
    },
    {
      "cell_type": "markdown",
      "metadata": {
        "id": "iLXV2jWvBpli"
      },
      "source": [
        "## 다음에서 로또번호 가져오기"
      ]
    },
    {
      "cell_type": "code",
      "execution_count": 72,
      "metadata": {
        "ExecuteTime": {
          "end_time": "2021-09-17T05:32:20.587620Z",
          "start_time": "2021-09-17T05:32:20.580519Z"
        },
        "id": "qTsnWm9jBpli",
        "outputId": "bb0038b4-9652-4bd5-cba0-be2a5e62774a",
        "colab": {
          "base_uri": "https://localhost:8080/",
          "height": 36
        }
      },
      "outputs": [
        {
          "output_type": "execute_result",
          "data": {
            "text/plain": [
              "' 5 11 18 20 35 45 보너스 3 '"
            ],
            "application/vnd.google.colaboratory.intrinsic+json": {
              "type": "string"
            }
          },
          "metadata": {},
          "execution_count": 72
        }
      ],
      "source": [
        "# url 설정\n",
        "url = 'https://search.daum.net/search?w=tot&DA=YZR&t__nil_searchbox=btn&sug=&sugo=&sq=&o=&q=%EB%A1%9C%EB%98%90%EB%B2%88%ED%98%B8'\n",
        "# requests로 데이터 요청하기\n",
        "resp = requests.get(url)\n",
        "# html로 변환\n",
        "html = BeautifulSoup(resp.text, 'html.parser')\n",
        "# 데이터 선별\n",
        "html.select('div.lottonum')[0].text"
      ]
    },
    {
      "cell_type": "code",
      "source": [
        "# url 설정\n",
        "url = 'https://search.naver.com/search.naver?where=nexearch&sm=top_hty&fbm=0&ie=utf8&query=%EB%A1%9C%EB%98%90%EB%B2%88%ED%98%B8'\n",
        "# requests로 데이터 요청하기\n",
        "resp = requests.get(url)\n",
        "# html로 변환\n",
        "html = BeautifulSoup(resp.text, 'html.parser')\n",
        "# 데이터 선별\n",
        "for ball_nm in html.select('span.ball'):\n",
        "    print(ball_nm.text)"
      ],
      "metadata": {
        "id": "f0JKM8AXiBV2",
        "outputId": "dc398f4e-72ce-4032-809c-5fb64ad4b741",
        "colab": {
          "base_uri": "https://localhost:8080/"
        }
      },
      "execution_count": 71,
      "outputs": [
        {
          "output_type": "stream",
          "name": "stdout",
          "text": [
            "5\n",
            "11\n",
            "18\n",
            "20\n",
            "35\n",
            "45\n",
            "3\n"
          ]
        }
      ]
    },
    {
      "cell_type": "code",
      "source": [
        ""
      ],
      "metadata": {
        "id": "EIT4QQu9ecoC"
      },
      "execution_count": null,
      "outputs": []
    },
    {
      "cell_type": "markdown",
      "metadata": {
        "id": "CoAgIe6ABpli"
      },
      "source": [
        "## 다음에서 로또번호 가져와 볼께요 몽땅 다 가져옵니다"
      ]
    },
    {
      "cell_type": "code",
      "source": [
        "# 차단막는 코드\n",
        "seed = np.random.randint(100)\n",
        "np.random.seed(seed)\n",
        "a = np.random.randint(5)\n",
        "time.sleep(a)\n"
      ],
      "metadata": {
        "id": "ADvav5lJ5TKc",
        "outputId": "5c5c71c5-b9d2-4416-bdb0-aee5029090bc",
        "colab": {
          "base_uri": "https://localhost:8080/"
        }
      },
      "execution_count": 67,
      "outputs": [
        {
          "output_type": "execute_result",
          "data": {
            "text/plain": [
              "4"
            ]
          },
          "metadata": {},
          "execution_count": 67
        }
      ]
    },
    {
      "cell_type": "code",
      "source": [
        "# url 설정\n",
        "url = 'https://search.naver.com/search.naver?where=nexearch&sm=top_hty&fbm=0&ie=utf8&query=%EB%A1%9C%EB%98%90%EB%B2%88%ED%98%B8'\n",
        "# requests로 데이터 요청하기\n",
        "resp = requests.get(url)\n",
        "# html로 변환\n",
        "html = BeautifulSoup(resp.text, 'html.parser')\n",
        "# 데이터 선별\n",
        "for ball in html.select('span.ball')[:6]:\n",
        "    print(int(ball.text))"
      ],
      "metadata": {
        "id": "azq9Kwfe7hBg",
        "outputId": "014177c4-9530-48c2-b0ba-1c9e0dfc0a53",
        "colab": {
          "base_uri": "https://localhost:8080/"
        }
      },
      "execution_count": 85,
      "outputs": [
        {
          "output_type": "stream",
          "name": "stdout",
          "text": [
            "5\n",
            "11\n",
            "18\n",
            "20\n",
            "35\n",
            "45\n",
            "3\n"
          ]
        }
      ]
    },
    {
      "cell_type": "code",
      "execution_count": 87,
      "metadata": {
        "ExecuteTime": {
          "end_time": "2021-09-17T05:45:45.733830Z",
          "start_time": "2021-09-17T05:45:23.489576Z"
        },
        "id": "b2RRYKhaBplj",
        "outputId": "49e9ecdd-a722-4534-9f1a-1cad8d253dbd",
        "colab": {
          "base_uri": "https://localhost:8080/"
        }
      },
      "outputs": [
        {
          "output_type": "stream",
          "name": "stdout",
          "text": [
            "983회차 13 23 26 31 35 43\n",
            "984회차 3 10 23 35 36 37\n",
            "985회차 17 21 23 30 34 44\n",
            "986회차 7 10 16 28 41 42\n",
            "987회차 2 4 15 23 29 38\n",
            "988회차 2 13 20 30 31 41\n",
            "989회차 17 18 21 27 29 33\n",
            "990회차 2 4 25 26 36 37\n",
            "991회차 13 18 25 31 33 44\n",
            "992회차 12 20 26 33 44 45\n",
            "993회차 6 14 16 18 24 42\n",
            "994회차 1 3 8 24 27 35\n",
            "995회차 1 4 13 29 38 39\n",
            "996회차 6 11 15 24 32 39\n",
            "997회차 4 7 14 16 24 44\n",
            "998회차 13 17 18 20 42 45\n",
            "999회차 1 3 9 14 18 28\n",
            "1000회차 2 8 19 22 32 42\n",
            "1001회차 6 10 12 14 20 42\n",
            "1002회차 17 25 33 35 38 45\n",
            "1003회차 1 4 29 39 43 45\n",
            "1004회차 7 15 30 37 39 44\n",
            "1005회차 8 13 18 24 27 29\n",
            "1006회차 8 11 15 16 17 37\n",
            "1007회차 8 11 16 19 21 25\n",
            "1008회차 9 11 30 31 41 44\n",
            "1009회차 15 23 29 34 40 44\n",
            "1010회차 9 12 15 25 34 36\n",
            "1011회차 1 9 12 26 35 38\n",
            "1012회차 5 11 18 20 35 45\n"
          ]
        }
      ],
      "source": [
        "# url 설정\n",
        "lot_list = []\n",
        "for i in range(1013)[-30:]:\n",
        "    time.sleep(a)\n",
        "    url = f'https://search.naver.com/search.naver?where=nexearch&sm=tab_etc&qvt=0&query={i}%ED%9A%8C%20%EB%A1%9C%EB%98%90%EB%8B%B9%EC%B2%A8%EB%B2%88%ED%98%B8'\n",
        "    # requsts로 url에 정보요청\n",
        "    resp = requests.get(url)\n",
        "    # 정보를 html 변환 (보기 쉽게)\n",
        "    html = BeautifulSoup(resp.text, 'html.parser')\n",
        "    # html 내에서 데이터\n",
        "    print(f\"{i}회차\",html.select('div.winning_number')[0].text.strip())\n",
        "    # lot_list.append(html.select('div.winning_number')[0].text.strip())\n",
        "    for ball in html.select('span.ball')[:6]:\n",
        "        lot_list.append(int(ball.text))\n"
      ]
    },
    {
      "cell_type": "code",
      "source": [
        "lotto = np.array(lot_list).reshape(-1,6)\n"
      ],
      "metadata": {
        "id": "FMve1u5785AU"
      },
      "execution_count": 91,
      "outputs": []
    },
    {
      "cell_type": "code",
      "source": [
        "index = [f'{i}회차' for i in range(1013)[-30:]]\n",
        "index"
      ],
      "metadata": {
        "id": "oYmgoRE7Ajdw",
        "outputId": "64f1df02-68a8-4e5f-d08e-8b9e4df9e873",
        "colab": {
          "base_uri": "https://localhost:8080/"
        }
      },
      "execution_count": 93,
      "outputs": [
        {
          "output_type": "execute_result",
          "data": {
            "text/plain": [
              "['983회차',\n",
              " '984회차',\n",
              " '985회차',\n",
              " '986회차',\n",
              " '987회차',\n",
              " '988회차',\n",
              " '989회차',\n",
              " '990회차',\n",
              " '991회차',\n",
              " '992회차',\n",
              " '993회차',\n",
              " '994회차',\n",
              " '995회차',\n",
              " '996회차',\n",
              " '997회차',\n",
              " '998회차',\n",
              " '999회차',\n",
              " '1000회차',\n",
              " '1001회차',\n",
              " '1002회차',\n",
              " '1003회차',\n",
              " '1004회차',\n",
              " '1005회차',\n",
              " '1006회차',\n",
              " '1007회차',\n",
              " '1008회차',\n",
              " '1009회차',\n",
              " '1010회차',\n",
              " '1011회차',\n",
              " '1012회차']"
            ]
          },
          "metadata": {},
          "execution_count": 93
        }
      ]
    },
    {
      "cell_type": "code",
      "source": [
        "df = pd.DataFrame(lotto,index=index)\n",
        "df"
      ],
      "metadata": {
        "id": "yJyW00I_AdXI",
        "outputId": "f4a5c0d0-8acb-4bf5-fb35-679dbdc27e53",
        "colab": {
          "base_uri": "https://localhost:8080/",
          "height": 990
        }
      },
      "execution_count": 94,
      "outputs": [
        {
          "output_type": "execute_result",
          "data": {
            "text/plain": [
              "         0   1   2   3   4   5\n",
              "983회차   13  23  26  31  35  43\n",
              "984회차    3  10  23  35  36  37\n",
              "985회차   17  21  23  30  34  44\n",
              "986회차    7  10  16  28  41  42\n",
              "987회차    2   4  15  23  29  38\n",
              "988회차    2  13  20  30  31  41\n",
              "989회차   17  18  21  27  29  33\n",
              "990회차    2   4  25  26  36  37\n",
              "991회차   13  18  25  31  33  44\n",
              "992회차   12  20  26  33  44  45\n",
              "993회차    6  14  16  18  24  42\n",
              "994회차    1   3   8  24  27  35\n",
              "995회차    1   4  13  29  38  39\n",
              "996회차    6  11  15  24  32  39\n",
              "997회차    4   7  14  16  24  44\n",
              "998회차   13  17  18  20  42  45\n",
              "999회차    1   3   9  14  18  28\n",
              "1000회차   2   8  19  22  32  42\n",
              "1001회차   6  10  12  14  20  42\n",
              "1002회차  17  25  33  35  38  45\n",
              "1003회차   1   4  29  39  43  45\n",
              "1004회차   7  15  30  37  39  44\n",
              "1005회차   8  13  18  24  27  29\n",
              "1006회차   8  11  15  16  17  37\n",
              "1007회차   8  11  16  19  21  25\n",
              "1008회차   9  11  30  31  41  44\n",
              "1009회차  15  23  29  34  40  44\n",
              "1010회차   9  12  15  25  34  36\n",
              "1011회차   1   9  12  26  35  38\n",
              "1012회차   5  11  18  20  35  45"
            ],
            "text/html": [
              "\n",
              "  <div id=\"df-18a239ca-6a2b-46e9-90ec-9c23eb39457b\">\n",
              "    <div class=\"colab-df-container\">\n",
              "      <div>\n",
              "<style scoped>\n",
              "    .dataframe tbody tr th:only-of-type {\n",
              "        vertical-align: middle;\n",
              "    }\n",
              "\n",
              "    .dataframe tbody tr th {\n",
              "        vertical-align: top;\n",
              "    }\n",
              "\n",
              "    .dataframe thead th {\n",
              "        text-align: right;\n",
              "    }\n",
              "</style>\n",
              "<table border=\"1\" class=\"dataframe\">\n",
              "  <thead>\n",
              "    <tr style=\"text-align: right;\">\n",
              "      <th></th>\n",
              "      <th>0</th>\n",
              "      <th>1</th>\n",
              "      <th>2</th>\n",
              "      <th>3</th>\n",
              "      <th>4</th>\n",
              "      <th>5</th>\n",
              "    </tr>\n",
              "  </thead>\n",
              "  <tbody>\n",
              "    <tr>\n",
              "      <th>983회차</th>\n",
              "      <td>13</td>\n",
              "      <td>23</td>\n",
              "      <td>26</td>\n",
              "      <td>31</td>\n",
              "      <td>35</td>\n",
              "      <td>43</td>\n",
              "    </tr>\n",
              "    <tr>\n",
              "      <th>984회차</th>\n",
              "      <td>3</td>\n",
              "      <td>10</td>\n",
              "      <td>23</td>\n",
              "      <td>35</td>\n",
              "      <td>36</td>\n",
              "      <td>37</td>\n",
              "    </tr>\n",
              "    <tr>\n",
              "      <th>985회차</th>\n",
              "      <td>17</td>\n",
              "      <td>21</td>\n",
              "      <td>23</td>\n",
              "      <td>30</td>\n",
              "      <td>34</td>\n",
              "      <td>44</td>\n",
              "    </tr>\n",
              "    <tr>\n",
              "      <th>986회차</th>\n",
              "      <td>7</td>\n",
              "      <td>10</td>\n",
              "      <td>16</td>\n",
              "      <td>28</td>\n",
              "      <td>41</td>\n",
              "      <td>42</td>\n",
              "    </tr>\n",
              "    <tr>\n",
              "      <th>987회차</th>\n",
              "      <td>2</td>\n",
              "      <td>4</td>\n",
              "      <td>15</td>\n",
              "      <td>23</td>\n",
              "      <td>29</td>\n",
              "      <td>38</td>\n",
              "    </tr>\n",
              "    <tr>\n",
              "      <th>988회차</th>\n",
              "      <td>2</td>\n",
              "      <td>13</td>\n",
              "      <td>20</td>\n",
              "      <td>30</td>\n",
              "      <td>31</td>\n",
              "      <td>41</td>\n",
              "    </tr>\n",
              "    <tr>\n",
              "      <th>989회차</th>\n",
              "      <td>17</td>\n",
              "      <td>18</td>\n",
              "      <td>21</td>\n",
              "      <td>27</td>\n",
              "      <td>29</td>\n",
              "      <td>33</td>\n",
              "    </tr>\n",
              "    <tr>\n",
              "      <th>990회차</th>\n",
              "      <td>2</td>\n",
              "      <td>4</td>\n",
              "      <td>25</td>\n",
              "      <td>26</td>\n",
              "      <td>36</td>\n",
              "      <td>37</td>\n",
              "    </tr>\n",
              "    <tr>\n",
              "      <th>991회차</th>\n",
              "      <td>13</td>\n",
              "      <td>18</td>\n",
              "      <td>25</td>\n",
              "      <td>31</td>\n",
              "      <td>33</td>\n",
              "      <td>44</td>\n",
              "    </tr>\n",
              "    <tr>\n",
              "      <th>992회차</th>\n",
              "      <td>12</td>\n",
              "      <td>20</td>\n",
              "      <td>26</td>\n",
              "      <td>33</td>\n",
              "      <td>44</td>\n",
              "      <td>45</td>\n",
              "    </tr>\n",
              "    <tr>\n",
              "      <th>993회차</th>\n",
              "      <td>6</td>\n",
              "      <td>14</td>\n",
              "      <td>16</td>\n",
              "      <td>18</td>\n",
              "      <td>24</td>\n",
              "      <td>42</td>\n",
              "    </tr>\n",
              "    <tr>\n",
              "      <th>994회차</th>\n",
              "      <td>1</td>\n",
              "      <td>3</td>\n",
              "      <td>8</td>\n",
              "      <td>24</td>\n",
              "      <td>27</td>\n",
              "      <td>35</td>\n",
              "    </tr>\n",
              "    <tr>\n",
              "      <th>995회차</th>\n",
              "      <td>1</td>\n",
              "      <td>4</td>\n",
              "      <td>13</td>\n",
              "      <td>29</td>\n",
              "      <td>38</td>\n",
              "      <td>39</td>\n",
              "    </tr>\n",
              "    <tr>\n",
              "      <th>996회차</th>\n",
              "      <td>6</td>\n",
              "      <td>11</td>\n",
              "      <td>15</td>\n",
              "      <td>24</td>\n",
              "      <td>32</td>\n",
              "      <td>39</td>\n",
              "    </tr>\n",
              "    <tr>\n",
              "      <th>997회차</th>\n",
              "      <td>4</td>\n",
              "      <td>7</td>\n",
              "      <td>14</td>\n",
              "      <td>16</td>\n",
              "      <td>24</td>\n",
              "      <td>44</td>\n",
              "    </tr>\n",
              "    <tr>\n",
              "      <th>998회차</th>\n",
              "      <td>13</td>\n",
              "      <td>17</td>\n",
              "      <td>18</td>\n",
              "      <td>20</td>\n",
              "      <td>42</td>\n",
              "      <td>45</td>\n",
              "    </tr>\n",
              "    <tr>\n",
              "      <th>999회차</th>\n",
              "      <td>1</td>\n",
              "      <td>3</td>\n",
              "      <td>9</td>\n",
              "      <td>14</td>\n",
              "      <td>18</td>\n",
              "      <td>28</td>\n",
              "    </tr>\n",
              "    <tr>\n",
              "      <th>1000회차</th>\n",
              "      <td>2</td>\n",
              "      <td>8</td>\n",
              "      <td>19</td>\n",
              "      <td>22</td>\n",
              "      <td>32</td>\n",
              "      <td>42</td>\n",
              "    </tr>\n",
              "    <tr>\n",
              "      <th>1001회차</th>\n",
              "      <td>6</td>\n",
              "      <td>10</td>\n",
              "      <td>12</td>\n",
              "      <td>14</td>\n",
              "      <td>20</td>\n",
              "      <td>42</td>\n",
              "    </tr>\n",
              "    <tr>\n",
              "      <th>1002회차</th>\n",
              "      <td>17</td>\n",
              "      <td>25</td>\n",
              "      <td>33</td>\n",
              "      <td>35</td>\n",
              "      <td>38</td>\n",
              "      <td>45</td>\n",
              "    </tr>\n",
              "    <tr>\n",
              "      <th>1003회차</th>\n",
              "      <td>1</td>\n",
              "      <td>4</td>\n",
              "      <td>29</td>\n",
              "      <td>39</td>\n",
              "      <td>43</td>\n",
              "      <td>45</td>\n",
              "    </tr>\n",
              "    <tr>\n",
              "      <th>1004회차</th>\n",
              "      <td>7</td>\n",
              "      <td>15</td>\n",
              "      <td>30</td>\n",
              "      <td>37</td>\n",
              "      <td>39</td>\n",
              "      <td>44</td>\n",
              "    </tr>\n",
              "    <tr>\n",
              "      <th>1005회차</th>\n",
              "      <td>8</td>\n",
              "      <td>13</td>\n",
              "      <td>18</td>\n",
              "      <td>24</td>\n",
              "      <td>27</td>\n",
              "      <td>29</td>\n",
              "    </tr>\n",
              "    <tr>\n",
              "      <th>1006회차</th>\n",
              "      <td>8</td>\n",
              "      <td>11</td>\n",
              "      <td>15</td>\n",
              "      <td>16</td>\n",
              "      <td>17</td>\n",
              "      <td>37</td>\n",
              "    </tr>\n",
              "    <tr>\n",
              "      <th>1007회차</th>\n",
              "      <td>8</td>\n",
              "      <td>11</td>\n",
              "      <td>16</td>\n",
              "      <td>19</td>\n",
              "      <td>21</td>\n",
              "      <td>25</td>\n",
              "    </tr>\n",
              "    <tr>\n",
              "      <th>1008회차</th>\n",
              "      <td>9</td>\n",
              "      <td>11</td>\n",
              "      <td>30</td>\n",
              "      <td>31</td>\n",
              "      <td>41</td>\n",
              "      <td>44</td>\n",
              "    </tr>\n",
              "    <tr>\n",
              "      <th>1009회차</th>\n",
              "      <td>15</td>\n",
              "      <td>23</td>\n",
              "      <td>29</td>\n",
              "      <td>34</td>\n",
              "      <td>40</td>\n",
              "      <td>44</td>\n",
              "    </tr>\n",
              "    <tr>\n",
              "      <th>1010회차</th>\n",
              "      <td>9</td>\n",
              "      <td>12</td>\n",
              "      <td>15</td>\n",
              "      <td>25</td>\n",
              "      <td>34</td>\n",
              "      <td>36</td>\n",
              "    </tr>\n",
              "    <tr>\n",
              "      <th>1011회차</th>\n",
              "      <td>1</td>\n",
              "      <td>9</td>\n",
              "      <td>12</td>\n",
              "      <td>26</td>\n",
              "      <td>35</td>\n",
              "      <td>38</td>\n",
              "    </tr>\n",
              "    <tr>\n",
              "      <th>1012회차</th>\n",
              "      <td>5</td>\n",
              "      <td>11</td>\n",
              "      <td>18</td>\n",
              "      <td>20</td>\n",
              "      <td>35</td>\n",
              "      <td>45</td>\n",
              "    </tr>\n",
              "  </tbody>\n",
              "</table>\n",
              "</div>\n",
              "      <button class=\"colab-df-convert\" onclick=\"convertToInteractive('df-18a239ca-6a2b-46e9-90ec-9c23eb39457b')\"\n",
              "              title=\"Convert this dataframe to an interactive table.\"\n",
              "              style=\"display:none;\">\n",
              "        \n",
              "  <svg xmlns=\"http://www.w3.org/2000/svg\" height=\"24px\"viewBox=\"0 0 24 24\"\n",
              "       width=\"24px\">\n",
              "    <path d=\"M0 0h24v24H0V0z\" fill=\"none\"/>\n",
              "    <path d=\"M18.56 5.44l.94 2.06.94-2.06 2.06-.94-2.06-.94-.94-2.06-.94 2.06-2.06.94zm-11 1L8.5 8.5l.94-2.06 2.06-.94-2.06-.94L8.5 2.5l-.94 2.06-2.06.94zm10 10l.94 2.06.94-2.06 2.06-.94-2.06-.94-.94-2.06-.94 2.06-2.06.94z\"/><path d=\"M17.41 7.96l-1.37-1.37c-.4-.4-.92-.59-1.43-.59-.52 0-1.04.2-1.43.59L10.3 9.45l-7.72 7.72c-.78.78-.78 2.05 0 2.83L4 21.41c.39.39.9.59 1.41.59.51 0 1.02-.2 1.41-.59l7.78-7.78 2.81-2.81c.8-.78.8-2.07 0-2.86zM5.41 20L4 18.59l7.72-7.72 1.47 1.35L5.41 20z\"/>\n",
              "  </svg>\n",
              "      </button>\n",
              "      \n",
              "  <style>\n",
              "    .colab-df-container {\n",
              "      display:flex;\n",
              "      flex-wrap:wrap;\n",
              "      gap: 12px;\n",
              "    }\n",
              "\n",
              "    .colab-df-convert {\n",
              "      background-color: #E8F0FE;\n",
              "      border: none;\n",
              "      border-radius: 50%;\n",
              "      cursor: pointer;\n",
              "      display: none;\n",
              "      fill: #1967D2;\n",
              "      height: 32px;\n",
              "      padding: 0 0 0 0;\n",
              "      width: 32px;\n",
              "    }\n",
              "\n",
              "    .colab-df-convert:hover {\n",
              "      background-color: #E2EBFA;\n",
              "      box-shadow: 0px 1px 2px rgba(60, 64, 67, 0.3), 0px 1px 3px 1px rgba(60, 64, 67, 0.15);\n",
              "      fill: #174EA6;\n",
              "    }\n",
              "\n",
              "    [theme=dark] .colab-df-convert {\n",
              "      background-color: #3B4455;\n",
              "      fill: #D2E3FC;\n",
              "    }\n",
              "\n",
              "    [theme=dark] .colab-df-convert:hover {\n",
              "      background-color: #434B5C;\n",
              "      box-shadow: 0px 1px 3px 1px rgba(0, 0, 0, 0.15);\n",
              "      filter: drop-shadow(0px 1px 2px rgba(0, 0, 0, 0.3));\n",
              "      fill: #FFFFFF;\n",
              "    }\n",
              "  </style>\n",
              "\n",
              "      <script>\n",
              "        const buttonEl =\n",
              "          document.querySelector('#df-18a239ca-6a2b-46e9-90ec-9c23eb39457b button.colab-df-convert');\n",
              "        buttonEl.style.display =\n",
              "          google.colab.kernel.accessAllowed ? 'block' : 'none';\n",
              "\n",
              "        async function convertToInteractive(key) {\n",
              "          const element = document.querySelector('#df-18a239ca-6a2b-46e9-90ec-9c23eb39457b');\n",
              "          const dataTable =\n",
              "            await google.colab.kernel.invokeFunction('convertToInteractive',\n",
              "                                                     [key], {});\n",
              "          if (!dataTable) return;\n",
              "\n",
              "          const docLinkHtml = 'Like what you see? Visit the ' +\n",
              "            '<a target=\"_blank\" href=https://colab.research.google.com/notebooks/data_table.ipynb>data table notebook</a>'\n",
              "            + ' to learn more about interactive tables.';\n",
              "          element.innerHTML = '';\n",
              "          dataTable['output_type'] = 'display_data';\n",
              "          await google.colab.output.renderOutput(dataTable, element);\n",
              "          const docLink = document.createElement('div');\n",
              "          docLink.innerHTML = docLinkHtml;\n",
              "          element.appendChild(docLink);\n",
              "        }\n",
              "      </script>\n",
              "    </div>\n",
              "  </div>\n",
              "  "
            ]
          },
          "metadata": {},
          "execution_count": 94
        }
      ]
    },
    {
      "cell_type": "code",
      "source": [
        "import seaborn as sns\n",
        "import matplotlib.pyplot as plt"
      ],
      "metadata": {
        "id": "HVDHLPl5BqIo"
      },
      "execution_count": 98,
      "outputs": []
    },
    {
      "cell_type": "code",
      "source": [
        "# 1~45 까지 몇번 나왔는지\n",
        "plt.figure(figsize=(10,6))\n",
        "sns.countplot(lot_list)"
      ],
      "metadata": {
        "id": "is5UMEtzBuHK",
        "outputId": "dd5615da-8c85-4164-8d03-6bf3137a444d",
        "colab": {
          "base_uri": "https://localhost:8080/",
          "height": 447
        }
      },
      "execution_count": 100,
      "outputs": [
        {
          "output_type": "stream",
          "name": "stderr",
          "text": [
            "/usr/local/lib/python3.7/dist-packages/seaborn/_decorators.py:43: FutureWarning: Pass the following variable as a keyword arg: x. From version 0.12, the only valid positional argument will be `data`, and passing other arguments without an explicit keyword will result in an error or misinterpretation.\n",
            "  FutureWarning\n"
          ]
        },
        {
          "output_type": "execute_result",
          "data": {
            "text/plain": [
              "<matplotlib.axes._subplots.AxesSubplot at 0x7f3e6829e290>"
            ]
          },
          "metadata": {},
          "execution_count": 100
        },
        {
          "output_type": "display_data",
          "data": {
            "text/plain": [
              "<Figure size 720x432 with 1 Axes>"
            ],
            "image/png": "[encoded data removed]"
          },
          "metadata": {
            "needs_background": "light"
          }
        }
      ]
    },
    {
      "cell_type": "code",
      "execution_count": null,
      "metadata": {
        "ExecuteTime": {
          "end_time": "2021-09-17T06:03:34.219100Z",
          "start_time": "2021-09-17T06:03:33.856448Z"
        },
        "id": "5y8TGeH9Bplj",
        "outputId": "557ddbf5-ec97-4261-d6c1-d9fd699deaee"
      },
      "outputs": [
        {
          "data": {
            "text/plain": [
              "<matplotlib.axes._subplots.AxesSubplot at 0x12b8595c0>"
            ]
          },
          "execution_count": 62,
          "metadata": {},
          "output_type": "execute_result"
        },
        {
          "data": {
            "image/png": "[encoded data removed]",
            "text/plain": [
              "<Figure size 432x288 with 1 Axes>"
            ]
          },
          "metadata": {
            "needs_background": "light"
          },
          "output_type": "display_data"
        }
      ],
      "source": [
        "# 데이터 시각화까지\n"
      ]
    },
    {
      "cell_type": "code",
      "execution_count": null,
      "metadata": {
        "ExecuteTime": {
          "end_time": "2021-09-17T06:06:22.488545Z",
          "start_time": "2021-09-17T06:06:22.472281Z"
        },
        "id": "xpvZi92NBplj"
      },
      "outputs": [],
      "source": [
        "# 로또데이터 저장\n"
      ]
    },
    {
      "cell_type": "code",
      "execution_count": null,
      "metadata": {
        "ExecuteTime": {
          "end_time": "2021-02-03T05:41:05.583999Z",
          "start_time": "2021-02-03T05:41:05.579960Z"
        },
        "id": "RS2pA8k_Bplj",
        "outputId": "b1243a8e-772f-4a60-de74-66963507e20b"
      },
      "outputs": [
        {
          "data": {
            "text/plain": [
              "200"
            ]
          },
          "execution_count": 50,
          "metadata": {},
          "output_type": "execute_result"
        }
      ],
      "source": [
        "requests.codes.ok\n",
        "# 100 우리 이런정보 내주는거야\n",
        "# 200 성공\n",
        "# 300 우리 이 사이트 이리루 이사했어 일루가\n",
        "# 400 유저가 요청을 잘못한경우\n",
        "# 500 서버 문제"
      ]
    },
    {
      "cell_type": "code",
      "execution_count": null,
      "metadata": {
        "id": "f0QLXj20Bplj"
      },
      "outputs": [],
      "source": [
        "# 차단막는 코드\n",
        "seed = np.random.randint(100)\n",
        "np.random.seed(seed)\n",
        "a = np.random.randint(5)\n",
        "time.sleep(a)"
      ]
    },
    {
      "cell_type": "markdown",
      "metadata": {
        "id": "L--NnRPK9LAN"
      },
      "source": [
        "## **네이버 키워드로 검색한 결과를 크롤링(속성 접근)**"
      ]
    },
    {
      "cell_type": "code",
      "execution_count": null,
      "metadata": {
        "ExecuteTime": {
          "end_time": "2021-09-17T06:25:03.059504Z",
          "start_time": "2021-09-17T06:24:56.730548Z"
        },
        "id": "-M7INrOKBplj",
        "outputId": "27e26fad-be42-4d5f-a3df-1d3ed11702a9"
      },
      "outputs": [
        {
          "name": "stdout",
          "output_type": "stream",
          "text": [
            "키워드를 입력하세요 :세탁기\n",
            "설치까지 완벽한 위닉스 세탁기건조기 환영해 https://blog.naver.com/dngusghk/222470214924\n",
            "LG 트윈워시 드럼세탁기 분해 청소 비용, 가격 및 후기 https://blog.naver.com/aejiniyam/222473577816\n",
            "드럼세탁기세탁조클리너 아직도 안써봄? https://blog.naver.com/marianne40/222503916107\n",
            "김포세탁기청소 퀴퀴한 냄새 제거하기 https://blog.naver.com/totos1207/222478318008\n",
            "세탁기통세척 이젠 상쾌한 향만~ https://cafe.naver.com/ungsangjang/414104\n",
            "이사하시나요? 세탁기 냉장고등 가전이 필요하신가요? https://adcr.naver.com/adcr?x=+xSggTaUcCgQ0eFc2ofgF////w==knepf8CUnClIzu9/1nfMfX1Cj0F8ax5MpvwF6NX0olR8kW70YnxK+PuMJutWUKherYGsYTgLM0QRH/oYiHyDSQIIUR2dtqqWUXGKhnMiBhcPlzpm6wKLONbolvFw7Zs/dW8Vv/Kg3v7T4ssLONVvWunPUyq8feJTl3IpLizLcL8RATbwyfZFb+W9QgRIiHbp1Nx16Em3ZtCsxl5CO+pMi3HkcarL9Gcc87QLc0z3CGrIZ9OiIx4DaTzGYgGY9hNlP01mKSRUr+i/qnHzCExjXA51IJJPtlriGnjEkTD0oghW1atKcEWfl2lLgHd15A3Pwfr2zHJaZfeJpaw3m+ceAxIaOVJ5N4hqlbcvK+x9PAxhjCtOztg8hewYme/5cQpl1i3ADGUrwFnS4VQwTFg3ATugZsPeqs8mfTLomrG+W8oVgqD9bQnr2+9tcYDQZSyih84rQSugvGv1RtH070Kn0CPS5nHQ3PyCqFrtFR6fDmkGjUzo/j+80vluHQINcY8Eodo3naTeFQ4UwanD8v9mTF0gcFsghGbLloJvHbXL2ToN2fWfxIp2cIFhE38EHYkys\n",
            "세탁기렌탈 사는거보다 훨씬 싸게 장만한 후기! https://adcr.naver.com/adcr?x=zVZE5iC+R+KaPSRZc3U6Of///w==kRJ0v0g3i6gyqEjhlcdDuPjOu0fFuEeKTe8FfKpO0RSSTUI7hDNl/EHv0cFkaQvzL8zpzKVmWTw6sE3mewUMdmUS2M1eDHo/GS5r/b/NdjFarYTJr+BVtx+oRn+DcVxp42NcxODcaPZxVkfqjdJ3V+Xmt7PJt1LZFnzMlOOUqdf4v2qJt+DRVMItZ1GfAEEbvaWj0tdTaEGS9VxIfXJH6oirfB3LQ3qZPALj9m3He2RZEdYGX27ROZ/P96hXsg9ujYlIcZBlKHwkQEN7FqWT/84yr9Gyr8Ez8Wuvt+cA8p3pX0zm6ydkYMu/UrblhcJilvzyBIlxxjNhe97htdbBMwcUnS3HLAU7f4/3nM6swN6rk91PXRt+n9nTHWYBpvOZ7FJAZBtczpk44lpQwecGfvMcqundW69CDwyET2wj25D87OaIFA0lcp19p2VF6Oz1Z7NhPlrCZWTxrn3B4eo+bNXppVETVM4ogA9NGSYGCmigHvVGcq9ddLDzDGUkO8qngilR5sIfPmXyGgKEyVh+0xIsOW7IOtT20YEzXt3OPgS3biREyi9R0yKE+MqNfWBTdK/MnM3JB+UZMn+keyImMbA==\n",
            "세탁기 이물질 세탁기 2년 안됬는데 최근들어 계속 먼지랑 같이 이물질이 나와요 ㅠㅠ 먼지망도 청소 해보고 무세제 통세척도 해봤는데 먼지망에도 쌓이고 흰옷에도 계속 묻어나와요 어떻게해야될까요?? https://kin.naver.com/qna/detail.naver?d1id=8&dirId=80903&docId=398932087&qb=7IS47YOB6riw&enc=utf8§ion=kin.ext&rank=1&search_sort=0&spq=0\n",
            "... 세탁기 내부에 오염물질이 단단하게 굳어있거나 이미 곰팡이가... 이런 경우에는 세탁기 내부를 완전히 분해하여 고압으로 세척하는... 전문 장비 없이 세탁기를 직접 분해할 경우 파손 및 고장의 위험이... 세탁기 클리닝을 통해 1~2년 주기로 관리하는 것이 좋으며, 특히 습한 날씨에는... https://kin.naver.com/qna/detail.naver?d1id=8&dirId=80903&docId=398932087&qb=7IS47YOB6riw&enc=utf8§ion=kin.ext&rank=1&search_sort=0&spq=0\n",
            "세탁기 설치 가능한가요? 온수 없고 냉수만 나오게 되있는 구존데 여기 말고는 세탁기를 설치할 수 있는 곳이 없는데 여기 설치해도 되나요?? 저 벽에 까만게 혹시 배수관..? 오수관..? 그 세탁기 물 배수하도록 뭐 꽂는 그런건가요? 오수관 우수관 구분해야한다는데 그런거 구분할줄 몰라서요... 제발 답좀 해주세요ㅠㅠㅠ https://kin.naver.com/qna/detail.naver?d1id=5&dirId=50104&docId=396225411&qb=7IS47YOB6riw&enc=utf8§ion=kin.ext&rank=2&search_sort=0&spq=0\n",
            "... 그곳이 세탁기를 설치하게끔 만들어진 공간인 것 같습니다. 배관도 우수관이 맞고요. 이전에도 그 공간에서 세탁기를 사용했었지 않을까 싶은데요. 세탁기 배수 호프는 노란색... 결론은 말씀하신 공간에 세탁기 설치하여 사용하셔도 무방하니 잘 사용하시길 바라겠습니다. 답변 참고 바랍니다. https://kin.naver.com/qna/detail.naver?d1id=5&dirId=50104&docId=396225411&qb=7IS47YOB6riw&enc=utf8§ion=kin.ext&rank=2&search_sort=0&spq=0\n",
            "인천세탁기청소? 집에 아기때문에 ( 아토피 알레르기) 세탁기 청소를 할려고 하는데... 성의껏 청소하는 업체 소개시켜주세요? 제가 집에서 세탁세제용으로 했는데... tv이나 지인들에게 들어보니 세탁기 분해청소가 효과적 같다고 해서 글올립니다. https://kin.naver.com/qna/detail.naver?d1id=7&dirId=70111&docId=27417225&qb=7IS47YOB6riw&enc=utf8§ion=kin.ext&rank=3&search_sort=0&spq=0\n",
            "... 인천 세탁기 청소 업체를 찾고 계시네요, 수많은 청소 업체가 있지만 클린앤제이는 소비자의 입장에서 고객 중심으로 운영 되어 정직한... 세탁기 청소 전, 작동 상태를 확인하고 제품의 오염도를 측정합니다. 세탁기 분해 후 오염도를 파악하여 고온 스팀 시공으로 찌든때와 미세 세균... https://kin.naver.com/qna/detail.naver?d1id=7&dirId=70111&docId=27417225&qb=7IS47YOB6riw&enc=utf8§ion=kin.ext&rank=3&search_sort=0&spq=0\n"
          ]
        }
      ],
      "source": [
        ""
      ]
    },
    {
      "cell_type": "markdown",
      "metadata": {
        "id": "P_ssRYoV88a7"
      },
      "source": [
        "    가져온 데이터에 접근을 하는 방식 자체는 판다스 색인처럼 결과값을 확인하며 진행하는 것이 가장 좋습니다."
      ]
    },
    {
      "cell_type": "markdown",
      "metadata": {
        "ExecuteTime": {
          "end_time": "2021-09-27T00:05:01.376165Z",
          "start_time": "2021-09-27T00:05:01.368066Z"
        },
        "id": "T93MKBClBplj"
      },
      "source": [
        "#### 관심있는 개별종목의 시가총액, 외국인 소진률, PER, PBR 가져오기"
      ]
    },
    {
      "cell_type": "code",
      "execution_count": null,
      "metadata": {
        "ExecuteTime": {
          "end_time": "2021-09-27T00:30:39.851651Z",
          "start_time": "2021-09-27T00:30:39.758248Z"
        },
        "id": "HwbcKULJBplj"
      },
      "outputs": [],
      "source": [
        "# url 정의\n",
        "\n",
        "# requests 요청\n",
        "\n",
        "# html 변환\n",
        "\n",
        "# 시가총액, 외국인 소진률, PER, PBR\n"
      ]
    },
    {
      "cell_type": "markdown",
      "metadata": {
        "id": "FGYFRs44Bplj"
      },
      "source": [
        "#### 여러 종목의 시가총액, 외국인 소진률, PER, PBR 한꺼번에 가져오기"
      ]
    },
    {
      "cell_type": "code",
      "execution_count": null,
      "metadata": {
        "ExecuteTime": {
          "end_time": "2021-09-27T00:52:30.940704Z",
          "start_time": "2021-09-27T00:52:27.088491Z"
        },
        "id": "tQEWV-iCBplj",
        "outputId": "7d25e431-4756-4853-fd31-58734606b0b5"
      },
      "outputs": [
        {
          "name": "stdout",
          "output_type": "stream",
          "text": [
            "005930 크롤링 중입니다.\n",
            "002020 크롤링 중입니다.\n",
            "323410 크롤링 중입니다.\n",
            "크롤링 종료\n"
          ]
        }
      ],
      "source": [
        "# 종목리스트 정의\n",
        "\n",
        "# url 정의\n",
        "\n",
        "# requests 요청\n",
        "\n",
        "# html 변환\n",
        "\n",
        "# 데이터 선별\n"
      ]
    },
    {
      "cell_type": "code",
      "execution_count": null,
      "metadata": {
        "ExecuteTime": {
          "end_time": "2021-09-27T00:52:31.106062Z",
          "start_time": "2021-09-27T00:52:31.101316Z"
        },
        "id": "uEGbVPnfBplj",
        "outputId": "e6e47736-b198-4b4e-9532-fa530c5fd7e4"
      },
      "outputs": [
        {
          "data": {
            "text/plain": [
              "[['462조6,581', '51.98%', '16.32', '1.92'],\n",
              " ['5,145', '11.36%', '3.64', '0.67'],\n",
              " ['32조2,118', '5.45%', '219.42', '9.55']]"
            ]
          },
          "execution_count": 31,
          "metadata": {},
          "output_type": "execute_result"
        }
      ],
      "source": [
        ""
      ]
    },
    {
      "cell_type": "code",
      "execution_count": null,
      "metadata": {
        "ExecuteTime": {
          "end_time": "2021-09-27T00:53:55.646061Z",
          "start_time": "2021-09-27T00:53:55.619928Z"
        },
        "id": "6tof4gY3Bplk",
        "outputId": "2ba1d151-5a5a-41f8-dd3b-9697c2bdfd53"
      },
      "outputs": [
        {
          "data": {
            "text/html": [
              "<div>\n",
              "<style scoped>\n",
              "    .dataframe tbody tr th:only-of-type {\n",
              "        vertical-align: middle;\n",
              "    }\n",
              "\n",
              "    .dataframe tbody tr th {\n",
              "        vertical-align: top;\n",
              "    }\n",
              "\n",
              "    .dataframe thead th {\n",
              "        text-align: right;\n",
              "    }\n",
              "</style>\n",
              "<table border=\"1\" class=\"dataframe\">\n",
              "  <thead>\n",
              "    <tr style=\"text-align: right;\">\n",
              "      <th></th>\n",
              "      <th>시가총액</th>\n",
              "      <th>외국인소진률</th>\n",
              "      <th>PER</th>\n",
              "      <th>PBR</th>\n",
              "    </tr>\n",
              "  </thead>\n",
              "  <tbody>\n",
              "    <tr>\n",
              "      <th>삼성전자</th>\n",
              "      <td>462조6,581</td>\n",
              "      <td>51.98%</td>\n",
              "      <td>16.32</td>\n",
              "      <td>1.92</td>\n",
              "    </tr>\n",
              "    <tr>\n",
              "      <th>코오롱</th>\n",
              "      <td>5,145</td>\n",
              "      <td>11.36%</td>\n",
              "      <td>3.64</td>\n",
              "      <td>0.67</td>\n",
              "    </tr>\n",
              "    <tr>\n",
              "      <th>카카오뱅크</th>\n",
              "      <td>32조2,118</td>\n",
              "      <td>5.45%</td>\n",
              "      <td>219.42</td>\n",
              "      <td>9.55</td>\n",
              "    </tr>\n",
              "  </tbody>\n",
              "</table>\n",
              "</div>"
            ],
            "text/plain": [
              "            시가총액  외국인소진률     PER   PBR\n",
              "삼성전자   462조6,581  51.98%   16.32  1.92\n",
              "코오롱        5,145  11.36%    3.64  0.67\n",
              "카카오뱅크   32조2,118   5.45%  219.42  9.55"
            ]
          },
          "execution_count": 32,
          "metadata": {},
          "output_type": "execute_result"
        }
      ],
      "source": [
        "# 데이터프레임 제작\n"
      ]
    },
    {
      "cell_type": "markdown",
      "metadata": {
        "id": "XYhXePUPB7FF"
      },
      "source": [
        "## **동적페이지 크롤링**\n",
        "> 최근에는 Js로 변경이 되며 일반적인 크롤링이 되지 않는 경우가 많음  \n",
        "동적페이지와 숨겨진 url을 가져오는 방법을 알아봅니다"
      ]
    },
    {
      "cell_type": "markdown",
      "metadata": {
        "id": "K9I_AXWWBplk"
      },
      "source": [
        "### 네이버 주식 시세 데이터 크롤링"
      ]
    },
    {
      "cell_type": "code",
      "execution_count": null,
      "metadata": {
        "ExecuteTime": {
          "end_time": "2021-09-27T04:40:51.702675Z",
          "start_time": "2021-09-27T04:40:51.640301Z"
        },
        "id": "w2JTLkhWBplk"
      },
      "outputs": [],
      "source": [
        "# 동적페이지의 숨은 URL\n",
        "# 동적페이지에 요청을 할 때 웹 정책에 필요한 정보를 같이 전달을 해줘야 함.\n",
        "# requests 요청시에 헤더정보 추가\n"
      ]
    },
    {
      "cell_type": "code",
      "execution_count": null,
      "metadata": {
        "ExecuteTime": {
          "end_time": "2021-09-27T02:10:25.851465Z",
          "start_time": "2021-09-27T02:10:25.837996Z"
        },
        "id": "gBPtNbZBBplk",
        "outputId": "d2e93871-8b50-4262-933a-462f803dd9b5"
      },
      "outputs": [
        {
          "data": {
            "text/html": [
              "<div>\n",
              "<style scoped>\n",
              "    .dataframe tbody tr th:only-of-type {\n",
              "        vertical-align: middle;\n",
              "    }\n",
              "\n",
              "    .dataframe tbody tr th {\n",
              "        vertical-align: top;\n",
              "    }\n",
              "\n",
              "    .dataframe thead th {\n",
              "        text-align: right;\n",
              "    }\n",
              "</style>\n",
              "<table border=\"1\" class=\"dataframe\">\n",
              "  <thead>\n",
              "    <tr style=\"text-align: right;\">\n",
              "      <th></th>\n",
              "      <th>종가</th>\n",
              "      <th>전일비</th>\n",
              "      <th>시가</th>\n",
              "      <th>고가</th>\n",
              "      <th>저가</th>\n",
              "      <th>거래량</th>\n",
              "    </tr>\n",
              "  </thead>\n",
              "  <tbody>\n",
              "    <tr>\n",
              "      <th>2021.09.27</th>\n",
              "      <td>41,100</td>\n",
              "      <td>800</td>\n",
              "      <td>40,250</td>\n",
              "      <td>41,450</td>\n",
              "      <td>40,100</td>\n",
              "      <td>79,654</td>\n",
              "    </tr>\n",
              "    <tr>\n",
              "      <th>2021.09.24</th>\n",
              "      <td>40,300</td>\n",
              "      <td>1,650</td>\n",
              "      <td>42,500</td>\n",
              "      <td>42,750</td>\n",
              "      <td>40,100</td>\n",
              "      <td>316,511</td>\n",
              "    </tr>\n",
              "    <tr>\n",
              "      <th>2021.09.23</th>\n",
              "      <td>41,950</td>\n",
              "      <td>2,050</td>\n",
              "      <td>42,700</td>\n",
              "      <td>43,800</td>\n",
              "      <td>41,700</td>\n",
              "      <td>335,625</td>\n",
              "    </tr>\n",
              "    <tr>\n",
              "      <th>2021.09.17</th>\n",
              "      <td>44,000</td>\n",
              "      <td>1,150</td>\n",
              "      <td>42,500</td>\n",
              "      <td>46,350</td>\n",
              "      <td>41,650</td>\n",
              "      <td>1,094,420</td>\n",
              "    </tr>\n",
              "    <tr>\n",
              "      <th>2021.09.16</th>\n",
              "      <td>42,850</td>\n",
              "      <td>3,000</td>\n",
              "      <td>40,200</td>\n",
              "      <td>42,850</td>\n",
              "      <td>39,400</td>\n",
              "      <td>514,556</td>\n",
              "    </tr>\n",
              "    <tr>\n",
              "      <th>2021.09.15</th>\n",
              "      <td>39,850</td>\n",
              "      <td>1,450</td>\n",
              "      <td>41,250</td>\n",
              "      <td>42,550</td>\n",
              "      <td>39,350</td>\n",
              "      <td>491,878</td>\n",
              "    </tr>\n",
              "    <tr>\n",
              "      <th>2021.09.14</th>\n",
              "      <td>41,300</td>\n",
              "      <td>200</td>\n",
              "      <td>41,100</td>\n",
              "      <td>42,250</td>\n",
              "      <td>40,200</td>\n",
              "      <td>546,760</td>\n",
              "    </tr>\n",
              "    <tr>\n",
              "      <th>2021.09.13</th>\n",
              "      <td>41,500</td>\n",
              "      <td>3,750</td>\n",
              "      <td>44,850</td>\n",
              "      <td>45,800</td>\n",
              "      <td>41,200</td>\n",
              "      <td>1,164,685</td>\n",
              "    </tr>\n",
              "    <tr>\n",
              "      <th>2021.09.10</th>\n",
              "      <td>45,250</td>\n",
              "      <td>9,350</td>\n",
              "      <td>36,050</td>\n",
              "      <td>46,650</td>\n",
              "      <td>36,050</td>\n",
              "      <td>3,800,508</td>\n",
              "    </tr>\n",
              "    <tr>\n",
              "      <th>2021.09.09</th>\n",
              "      <td>35,900</td>\n",
              "      <td>1,700</td>\n",
              "      <td>34,700</td>\n",
              "      <td>36,600</td>\n",
              "      <td>34,550</td>\n",
              "      <td>511,021</td>\n",
              "    </tr>\n",
              "  </tbody>\n",
              "</table>\n",
              "</div>"
            ],
            "text/plain": [
              "                종가    전일비      시가      고가      저가        거래량\n",
              "2021.09.27  41,100    800  40,250  41,450  40,100     79,654\n",
              "2021.09.24  40,300  1,650  42,500  42,750  40,100    316,511\n",
              "2021.09.23  41,950  2,050  42,700  43,800  41,700    335,625\n",
              "2021.09.17  44,000  1,150  42,500  46,350  41,650  1,094,420\n",
              "2021.09.16  42,850  3,000  40,200  42,850  39,400    514,556\n",
              "2021.09.15  39,850  1,450  41,250  42,550  39,350    491,878\n",
              "2021.09.14  41,300    200  41,100  42,250  40,200    546,760\n",
              "2021.09.13  41,500  3,750  44,850  45,800  41,200  1,164,685\n",
              "2021.09.10  45,250  9,350  36,050  46,650  36,050  3,800,508\n",
              "2021.09.09  35,900  1,700  34,700  36,600  34,550    511,021"
            ]
          },
          "execution_count": 89,
          "metadata": {},
          "output_type": "execute_result"
        }
      ],
      "source": [
        ""
      ]
    },
    {
      "cell_type": "code",
      "execution_count": null,
      "metadata": {
        "ExecuteTime": {
          "end_time": "2021-09-27T02:10:40.153165Z",
          "start_time": "2021-09-27T02:10:40.149987Z"
        },
        "id": "DfoSGAk8Bplk"
      },
      "outputs": [],
      "source": [
        "# 콤마 제거\n",
        "\n",
        "# 함수 적용\n",
        "\n",
        "# 타입 변환\n",
        "\n",
        "# 종가 그래프\n"
      ]
    },
    {
      "cell_type": "markdown",
      "metadata": {
        "id": "1HszlfF4Bplk"
      },
      "source": [
        "### 20페이지 주가 정보 크롤링 해서 종가 그래프 출력"
      ]
    },
    {
      "cell_type": "code",
      "execution_count": null,
      "metadata": {
        "ExecuteTime": {
          "end_time": "2021-09-27T04:10:31.778681Z",
          "start_time": "2021-09-27T04:09:40.133778Z"
        },
        "id": "_RrtOJq_Bplk",
        "outputId": "5e1ab70c-644b-4b93-bbf6-a01c4a3beeb1"
      },
      "outputs": [
        {
          "name": "stdout",
          "output_type": "stream",
          "text": [
            "1페이지 크롤링 중\n",
            "2페이지 크롤링 중\n",
            "3페이지 크롤링 중\n",
            "4페이지 크롤링 중\n",
            "5페이지 크롤링 중\n",
            "6페이지 크롤링 중\n",
            "7페이지 크롤링 중\n",
            "8페이지 크롤링 중\n",
            "9페이지 크롤링 중\n",
            "10페이지 크롤링 중\n",
            "11페이지 크롤링 중\n",
            "12페이지 크롤링 중\n",
            "13페이지 크롤링 중\n",
            "14페이지 크롤링 중\n",
            "15페이지 크롤링 중\n",
            "16페이지 크롤링 중\n",
            "17페이지 크롤링 중\n",
            "18페이지 크롤링 중\n",
            "19페이지 크롤링 중\n",
            "20페이지 크롤링 중\n"
          ]
        }
      ],
      "source": [
        "# 헤더정보 정의\n",
        "\n",
        "# 인덱스 정의\n",
        "\n",
        "\n",
        "# 전체 가격 데이터\n",
        "\n",
        "# requests 요청시에 헤더정보 추가\n",
        "\n",
        "# html 변환\n",
        "\n",
        "# 날짜 인덱스 살려서 활용하기\n",
        "\n",
        "# 가격정보 추출\n",
        "\n",
        "# 데이터프레임 제작\n"
      ]
    },
    {
      "cell_type": "code",
      "execution_count": null,
      "metadata": {
        "ExecuteTime": {
          "end_time": "2021-09-27T04:10:35.321839Z",
          "start_time": "2021-09-27T04:10:35.085392Z"
        },
        "id": "NUJnkhqKBplk",
        "outputId": "3aa6730e-d615-474f-b593-10a73daa68d1"
      },
      "outputs": [
        {
          "data": {
            "text/plain": [
              "<matplotlib.axes._subplots.AxesSubplot at 0x118451c18>"
            ]
          },
          "execution_count": 101,
          "metadata": {},
          "output_type": "execute_result"
        },
        {
          "data": {
            "image/png": "[encoded data removed]",
            "text/plain": [
              "<Figure size 432x288 with 1 Axes>"
            ]
          },
          "metadata": {
            "needs_background": "light"
          },
          "output_type": "display_data"
        }
      ],
      "source": [
        ""
      ]
    },
    {
      "cell_type": "markdown",
      "metadata": {
        "id": "Jce3f7FfBplk"
      },
      "source": [
        "### 종목도 여러개 순환시키고 각 개별종목 데이터 csv 저장하는 연습"
      ]
    },
    {
      "cell_type": "markdown",
      "metadata": {
        "id": "GIvAIByBCAz1"
      },
      "source": [
        "### 네이버 데이터랩 인기검색어 크롤링"
      ]
    },
    {
      "cell_type": "code",
      "execution_count": null,
      "metadata": {
        "ExecuteTime": {
          "end_time": "2021-09-27T04:19:58.288553Z",
          "start_time": "2021-09-27T04:19:58.285196Z"
        },
        "id": "JIoewHRhBplk"
      },
      "outputs": [],
      "source": [
        "# json 데이터 파싱\n"
      ]
    },
    {
      "cell_type": "code",
      "execution_count": null,
      "metadata": {
        "ExecuteTime": {
          "end_time": "2021-09-27T04:39:58.598313Z",
          "start_time": "2021-09-27T04:39:58.594118Z"
        },
        "id": "ccSuDiY3Bplk",
        "outputId": "dd132916-2e4e-4479-e544-a9106f5a7046"
      },
      "outputs": [
        {
          "data": {
            "text/plain": [
              "'[{\"message\":null,\"statusCode\":200,\"returnCode\":0,\"date\":\"2021/09/15\",\"datetime\":\"2021.09.15.(수)\",\"range\":\"\",\"ranks\":[{\"rank\":1,\"keyword\":\"나이키운동화\",\"linkId\":\"나이키운동화\"},{\"rank\":2,\"keyword\":\"크록스\",\"linkId\":\"크록스\"},{\"rank\":3,\"keyword\":\"운동화\",\"linkId\":\"운동화\"},{\"rank\":4,\"keyword\":\"모자\",\"linkId\":\"모자\"},{\"rank\":5,\"keyword\":\"뉴발란스327\",\"linkId\":\"뉴발란스327\"},{\"rank\":6,\"keyword\":\"나이키데이브레이크\",\"linkId\":\"나이키데이브레이크\"},{\"rank\":7,\"keyword\":\"핸드폰가방\",\"linkId\":\"핸드폰가방\"},{\"rank\":8,\"keyword\":\"나이키에어포스\",\"linkId\":\"나이키에어포스\"},{\"rank\":9,\"keyword\":\"카드지갑\",\"linkId\":\"카드지갑\"},{\"rank\":10,\"keyword\":\"gwf-a1000\",\"linkId\":\"gwf-a1000\"}]},{\"message\":null,\"statusCode\":200,\"returnCode\":0,\"date\":\"2021/09/16\",\"datetime\":\"2021.09.16.(목)\",\"range\":\"\",\"ranks\":[{\"rank\":1,\"keyword\":\"나이키운동화\",\"linkId\":\"나이키운동화\"},{\"rank\":2,\"keyword\":\"크록스\",\"linkId\":\"크록스\"},{\"rank\":3,\"keyword\":\"운동화\",\"linkId\":\"운동화\"},{\"rank\":4,\"keyword\":\"모자\",\"linkId\":\"모자\"},{\"rank\":5,\"keyword\":\"카드지갑\",\"linkId\":\"카드지갑\"},{\"rank\":6,\"keyword\":\"뉴발란스327\",\"linkId\":\"뉴발란스327\"},{\"rank\":7,\"keyword\":\"나이키에어포스\",\"linkId\":\"나이키에어포스\"},{\"rank\":8,\"keyword\":\"나이키데이브레이크\",\"linkId\":\"나이키데이브레이크\"},{\"rank\":9,\"keyword\":\"gwf-a1000\",\"linkId\":\"gwf-a1000\"},{\"rank\":10,\"keyword\":\"핸드폰가방\",\"linkId\":\"핸드폰가방\"}]},{\"message\":null,\"statusCode\":200,\"returnCode\":0,\"date\":\"2021/09/17\",\"datetime\":\"2021.09.17.(금)\",\"range\":\"\",\"ranks\":[{\"rank\":1,\"keyword\":\"나이키운동화\",\"linkId\":\"나이키운동화\"},{\"rank\":2,\"keyword\":\"크록스\",\"linkId\":\"크록스\"},{\"rank\":3,\"keyword\":\"모자\",\"linkId\":\"모자\"},{\"rank\":4,\"keyword\":\"나이키에어포스\",\"linkId\":\"나이키에어포스\"},{\"rank\":5,\"keyword\":\"운동화\",\"linkId\":\"운동화\"},{\"rank\":6,\"keyword\":\"뉴발란스327\",\"linkId\":\"뉴발란스327\"},{\"rank\":7,\"keyword\":\"카드지갑\",\"linkId\":\"카드지갑\"},{\"rank\":8,\"keyword\":\"gwf-a1000\",\"linkId\":\"gwf-a1000\"},{\"rank\":9,\"keyword\":\"루이비통가방\",\"linkId\":\"루이비통가방\"},{\"rank\":10,\"keyword\":\"핸드폰가방\",\"linkId\":\"핸드폰가방\"}]},{\"message\":null,\"statusCode\":200,\"returnCode\":0,\"date\":\"2021/09/18\",\"datetime\":\"2021.09.18.(토)\",\"range\":\"\",\"ranks\":[{\"rank\":1,\"keyword\":\"나이키운동화\",\"linkId\":\"나이키운동화\"},{\"rank\":2,\"keyword\":\"크록스\",\"linkId\":\"크록스\"},{\"rank\":3,\"keyword\":\"운동화\",\"linkId\":\"운동화\"},{\"rank\":4,\"keyword\":\"나이키에어포스\",\"linkId\":\"나이키에어포스\"},{\"rank\":5,\"keyword\":\"뉴발란스327\",\"linkId\":\"뉴발란스327\"},{\"rank\":6,\"keyword\":\"나이키데이브레이크\",\"linkId\":\"나이키데이브레이크\"},{\"rank\":7,\"keyword\":\"모자\",\"linkId\":\"모자\"},{\"rank\":8,\"keyword\":\"카드지갑\",\"linkId\":\"카드지갑\"},{\"rank\":9,\"keyword\":\"핸드폰가방\",\"linkId\":\"핸드폰가방\"},{\"rank\":10,\"keyword\":\"루이비통가방\",\"linkId\":\"루이비통가방\"}]},{\"message\":null,\"statusCode\":200,\"returnCode\":0,\"date\":\"2021/09/19\",\"datetime\":\"2021.09.19.(일)\",\"range\":\"\",\"ranks\":[{\"rank\":1,\"keyword\":\"나이키운동화\",\"linkId\":\"나이키운동화\"},{\"rank\":2,\"keyword\":\"크록스\",\"linkId\":\"크록스\"},{\"rank\":3,\"keyword\":\"나이키에어포스\",\"linkId\":\"나이키에어포스\"},{\"rank\":4,\"keyword\":\"뉴발란스327\",\"linkId\":\"뉴발란스327\"},{\"rank\":5,\"keyword\":\"나이키데이브레이크\",\"linkId\":\"나이키데이브레이크\"},{\"rank\":6,\"keyword\":\"운동화\",\"linkId\":\"운동화\"},{\"rank\":7,\"keyword\":\"모자\",\"linkId\":\"모자\"},{\"rank\":8,\"keyword\":\"루이비통가방\",\"linkId\":\"루이비통가방\"},{\"rank\":9,\"keyword\":\"카드지갑\",\"linkId\":\"카드지갑\"},{\"rank\":10,\"keyword\":\"핸드폰가방\",\"linkId\":\"핸드폰가방\"}]},{\"message\":null,\"statusCode\":200,\"returnCode\":0,\"date\":\"2021/09/20\",\"datetime\":\"2021.09.20.(월)\",\"range\":\"\",\"ranks\":[{\"rank\":1,\"keyword\":\"나이키운동화\",\"linkId\":\"나이키운동화\"},{\"rank\":2,\"keyword\":\"크록스\",\"linkId\":\"크록스\"},{\"rank\":3,\"keyword\":\"나이키에어포스\",\"linkId\":\"나이키에어포스\"},{\"rank\":4,\"keyword\":\"뉴발란스327\",\"linkId\":\"뉴발란스327\"},{\"rank\":5,\"keyword\":\"나이키데이브레이크\",\"linkId\":\"나이키데이브레이크\"},{\"rank\":6,\"keyword\":\"운동화\",\"linkId\":\"운동화\"},{\"rank\":7,\"keyword\":\"카드지갑\",\"linkId\":\"카드지갑\"},{\"rank\":8,\"keyword\":\"셀린느가방\",\"linkId\":\"셀린느가방\"},{\"rank\":9,\"keyword\":\"루이비통가방\",\"linkId\":\"루이비통가방\"},{\"rank\":10,\"keyword\":\"핸드폰가방\",\"linkId\":\"핸드폰가방\"}]},{\"message\":null,\"statusCode\":200,\"returnCode\":0,\"date\":\"2021/09/21\",\"datetime\":\"2021.09.21.(화)\",\"range\":\"\",\"ranks\":[{\"rank\":1,\"keyword\":\"나이키운동화\",\"linkId\":\"나이키운동화\"},{\"rank\":2,\"keyword\":\"크록스\",\"linkId\":\"크록스\"},{\"rank\":3,\"keyword\":\"나이키에어포스\",\"linkId\":\"나이키에어포스\"},{\"rank\":4,\"keyword\":\"뉴발란스327\",\"linkId\":\"뉴발란스327\"},{\"rank\":5,\"keyword\":\"나이키데이브레이크\",\"linkId\":\"나이키데이브레이크\"},{\"rank\":6,\"keyword\":\"운동화\",\"linkId\":\"운동화\"},{\"rank\":7,\"keyword\":\"카드지갑\",\"linkId\":\"카드지갑\"},{\"rank\":8,\"keyword\":\"루이비통가방\",\"linkId\":\"루이비통가방\"},{\"rank\":9,\"keyword\":\"핸드폰가방\",\"linkId\":\"핸드폰가방\"},{\"rank\":10,\"keyword\":\"셀린느가방\",\"linkId\":\"셀린느가방\"}]},{\"message\":null,\"statusCode\":200,\"returnCode\":0,\"date\":\"2021/09/22\",\"datetime\":\"2021.09.22.(수)\",\"range\":\"\",\"ranks\":[{\"rank\":1,\"keyword\":\"나이키운동화\",\"linkId\":\"나이키운동화\"},{\"rank\":2,\"keyword\":\"크록스\",\"linkId\":\"크록스\"},{\"rank\":3,\"keyword\":\"뉴발란스327\",\"linkId\":\"뉴발란스327\"},{\"rank\":4,\"keyword\":\"나이키에어포스\",\"linkId\":\"나이키에어포스\"},{\"rank\":5,\"keyword\":\"나이키데이브레이크\",\"linkId\":\"나이키데이브레이크\"},{\"rank\":6,\"keyword\":\"운동화\",\"linkId\":\"운동화\"},{\"rank\":7,\"keyword\":\"카드지갑\",\"linkId\":\"카드지갑\"},{\"rank\":8,\"keyword\":\"모자\",\"linkId\":\"모자\"},{\"rank\":9,\"keyword\":\"핸드폰가방\",\"linkId\":\"핸드폰가방\"},{\"rank\":10,\"keyword\":\"아디다스운동화\",\"linkId\":\"아디다스운동화\"}]},{\"message\":null,\"statusCode\":200,\"returnCode\":0,\"date\":\"2021/09/23\",\"datetime\":\"2021.09.23.(목)\",\"range\":\"\",\"ranks\":[{\"rank\":1,\"keyword\":\"나이키운동화\",\"linkId\":\"나이키운동화\"},{\"rank\":2,\"keyword\":\"크록스\",\"linkId\":\"크록스\"},{\"rank\":3,\"keyword\":\"운동화\",\"linkId\":\"운동화\"},{\"rank\":4,\"keyword\":\"뉴발란스327\",\"linkId\":\"뉴발란스327\"},{\"rank\":5,\"keyword\":\"나이키에어포스\",\"linkId\":\"나이키에어포스\"},{\"rank\":6,\"keyword\":\"나이키데이브레이크\",\"linkId\":\"나이키데이브레이크\"},{\"rank\":7,\"keyword\":\"카드지갑\",\"linkId\":\"카드지갑\"},{\"rank\":8,\"keyword\":\"아디다스운동화\",\"linkId\":\"아디다스운동화\"},{\"rank\":9,\"keyword\":\"핸드폰가방\",\"linkId\":\"핸드폰가방\"},{\"rank\":10,\"keyword\":\"루이비통가방\",\"linkId\":\"루이비통가방\"}]},{\"message\":null,\"statusCode\":200,\"returnCode\":0,\"date\":\"2021/09/24\",\"datetime\":\"2021.09.24.(금)\",\"range\":\"\",\"ranks\":[{\"rank\":1,\"keyword\":\"나이키운동화\",\"linkId\":\"나이키운동화\"},{\"rank\":2,\"keyword\":\"크록스\",\"linkId\":\"크록스\"},{\"rank\":3,\"keyword\":\"뉴발란스327\",\"linkId\":\"뉴발란스327\"},{\"rank\":4,\"keyword\":\"운동화\",\"linkId\":\"운동화\"},{\"rank\":5,\"keyword\":\"나이키에어포스\",\"linkId\":\"나이키에어포스\"},{\"rank\":6,\"keyword\":\"나이키데이브레이크\",\"linkId\":\"나이키데이브레이크\"},{\"rank\":7,\"keyword\":\"카드지갑\",\"linkId\":\"카드지갑\"},{\"rank\":8,\"keyword\":\"핸드폰가방\",\"linkId\":\"핸드폰가방\"},{\"rank\":9,\"keyword\":\"루이비통가방\",\"linkId\":\"루이비통가방\"},{\"rank\":10,\"keyword\":\"아디다스운동화\",\"linkId\":\"아디다스운동화\"}]},{\"message\":null,\"statusCode\":200,\"returnCode\":0,\"date\":\"2021/09/25\",\"datetime\":\"2021.09.25.(토)\",\"range\":\"\",\"ranks\":[{\"rank\":1,\"keyword\":\"나이키운동화\",\"linkId\":\"나이키운동화\"},{\"rank\":2,\"keyword\":\"크록스\",\"linkId\":\"크록스\"},{\"rank\":3,\"keyword\":\"뉴발란스327\",\"linkId\":\"뉴발란스327\"},{\"rank\":4,\"keyword\":\"운동화\",\"linkId\":\"운동화\"},{\"rank\":5,\"keyword\":\"나이키데이브레이크\",\"linkId\":\"나이키데이브레이크\"},{\"rank\":6,\"keyword\":\"나이키에어포스\",\"linkId\":\"나이키에어포스\"},{\"rank\":7,\"keyword\":\"루이비통가방\",\"linkId\":\"루이비통가방\"},{\"rank\":8,\"keyword\":\"카드지갑\",\"linkId\":\"카드지갑\"},{\"rank\":9,\"keyword\":\"핸드폰가방\",\"linkId\":\"핸드폰가방\"},{\"rank\":10,\"keyword\":\"아디다스운동화\",\"linkId\":\"아디다스운동화\"}]},{\"message\":null,\"statusCode\":200,\"returnCode\":0,\"date\":\"2021/09/26\",\"datetime\":\"2021.09.26.(일)\",\"range\":\"\",\"ranks\":[{\"rank\":1,\"keyword\":\"나이키운동화\",\"linkId\":\"나이키운동화\"},{\"rank\":2,\"keyword\":\"크록스\",\"linkId\":\"크록스\"},{\"rank\":3,\"keyword\":\"운동화\",\"linkId\":\"운동화\"},{\"rank\":4,\"keyword\":\"뉴발란스327\",\"linkId\":\"뉴발란스327\"},{\"rank\":5,\"keyword\":\"나이키데이브레이크\",\"linkId\":\"나이키데이브레이크\"},{\"rank\":6,\"keyword\":\"나이키에어포스\",\"linkId\":\"나이키에어포스\"},{\"rank\":7,\"keyword\":\"카드지갑\",\"linkId\":\"카드지갑\"},{\"rank\":8,\"keyword\":\"루이비통가방\",\"linkId\":\"루이비통가방\"},{\"rank\":9,\"keyword\":\"아디다스운동화\",\"linkId\":\"아디다스운동화\"},{\"rank\":10,\"keyword\":\"핸드폰가방\",\"linkId\":\"핸드폰가방\"}]}]'"
            ]
          },
          "execution_count": 118,
          "metadata": {},
          "output_type": "execute_result"
        }
      ],
      "source": [
        ""
      ]
    },
    {
      "cell_type": "markdown",
      "metadata": {
        "id": "N3NtfdJNMWM6"
      },
      "source": [
        "### 다음 주식 일자별 주가 데이터 크롤링 연습"
      ]
    },
    {
      "cell_type": "code",
      "execution_count": null,
      "metadata": {
        "ExecuteTime": {
          "end_time": "2021-09-27T04:44:39.616007Z",
          "start_time": "2021-09-27T04:44:39.527153Z"
        },
        "id": "9txT7yVwMehO"
      },
      "outputs": [],
      "source": [
        ""
      ]
    },
    {
      "cell_type": "markdown",
      "metadata": {
        "id": "mO-mf_aTBplk"
      },
      "source": [
        "## 파파고 API"
      ]
    },
    {
      "cell_type": "code",
      "execution_count": null,
      "metadata": {
        "ExecuteTime": {
          "end_time": "2021-09-27T06:28:22.848595Z",
          "start_time": "2021-09-27T06:28:22.843144Z"
        },
        "id": "pPUY0ug6Bplk"
      },
      "outputs": [],
      "source": [
        ""
      ]
    },
    {
      "cell_type": "code",
      "execution_count": null,
      "metadata": {
        "ExecuteTime": {
          "end_time": "2021-09-27T06:29:01.713731Z",
          "start_time": "2021-09-27T06:28:35.496861Z"
        },
        "id": "ALRRwXsUBplk",
        "outputId": "630e990b-76d2-4c12-b8f6-6658595cc782"
      },
      "outputs": [
        {
          "name": "stdout",
          "output_type": "stream",
          "text": [
            "번역이 필요한 한국어를 입력하세요 : 강의시작하겠습니다 카메라를 켜주시고 참석바랍니다.\n",
            "Let's begin the lecture. Please turn on the camera and attend.\n"
          ]
        }
      ],
      "source": [
        "papago()"
      ]
    },
    {
      "cell_type": "markdown",
      "metadata": {
        "id": "vJb__83HBpll"
      },
      "source": [
        "## 공공데이터 API"
      ]
    },
    {
      "cell_type": "code",
      "execution_count": null,
      "metadata": {
        "ExecuteTime": {
          "end_time": "2021-09-27T06:36:42.325807Z",
          "start_time": "2021-09-27T06:36:42.185832Z"
        },
        "id": "J9-nNsW9Bpll"
      },
      "outputs": [],
      "source": [
        ""
      ]
    },
    {
      "cell_type": "code",
      "execution_count": null,
      "metadata": {
        "ExecuteTime": {
          "end_time": "2021-09-27T06:37:15.172214Z",
          "start_time": "2021-09-27T06:37:15.168369Z"
        },
        "id": "-uyKln1sBpll"
      },
      "outputs": [],
      "source": [
        ""
      ]
    },
    {
      "cell_type": "code",
      "execution_count": null,
      "metadata": {
        "ExecuteTime": {
          "end_time": "2021-09-27T06:40:57.325082Z",
          "start_time": "2021-09-27T06:40:57.320112Z"
        },
        "id": "kHPWinQlBpll",
        "outputId": "97a56df2-bf8c-420d-fd44-1381a37e87c4"
      },
      "outputs": [
        {
          "name": "stdout",
          "output_type": "stream",
          "text": [
            "서울특별시 중구 퇴계로36길 10(필동2가 80-2)\n",
            "서울특별시 중구 퇴계로34길 28(필동2가 84-1)\n",
            "서울특별시 중구 퇴계로34길 28(필동2가 84-1)\n",
            "서울특별시 중구 소월로 91(남대문로5가 471)\n",
            "서울특별시 중구 장충동2가 산14-21\n",
            "서울특별시 중구 남산공원길 125-72(예장동 산5-6)\n",
            "서울특별시 중구 예장동 8-1\n",
            "서울특별시 중구 예장동 8-1\n",
            "서울특별시 중구 필동로1길 30(장충동2가 192-5)\n",
            "서울특별시 중구 장충단로 72(장충동2가 201-6)\n"
          ]
        }
      ],
      "source": [
        ""
      ]
    }
  ],
  "metadata": {
    "colab": {
      "collapsed_sections": [],
      "name": "08_crawler.ipynb",
      "provenance": []
    },
    "kernelspec": {
      "display_name": "Python 3 (ipykernel)",
      "language": "python",
      "name": "python3"
    },
    "language_info": {
      "codemirror_mode": {
        "name": "ipython",
        "version": 3
      },
      "file_extension": ".py",
      "mimetype": "text/x-python",
      "name": "python",
      "nbconvert_exporter": "python",
      "pygments_lexer": "ipython3",
      "version": "3.8.12"
    },
    "toc": {
      "base_numbering": 1,
      "nav_menu": {},
      "number_sections": true,
      "sideBar": true,
      "skip_h1_title": true,
      "title_cell": "Table of Contents",
      "title_sidebar": "Contents",
      "toc_cell": false,
      "toc_position": {},
      "toc_section_display": true,
      "toc_window_display": false
    },
    "varInspector": {
      "cols": {
        "lenName": 16,
        "lenType": 16,
        "lenVar": 40
      },
      "kernels_config": {
        "python": {
          "delete_cmd_postfix": "",
          "delete_cmd_prefix": "del ",
          "library": "var_list.py",
          "varRefreshCmd": "print(var_dic_list())"
        },
        "r": {
          "delete_cmd_postfix": ") ",
          "delete_cmd_prefix": "rm(",
          "library": "var_list.r",
          "varRefreshCmd": "cat(var_dic_list()) "
        }
      },
      "types_to_exclude": [
        "module",
        "function",
        "builtin_function_or_method",
        "instance",
        "_Feature"
      ],
      "window_display": false
    }
  },
  "nbformat": 4,
  "nbformat_minor": 0
}