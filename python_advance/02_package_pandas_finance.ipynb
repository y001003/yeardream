{
 "cells": [
  {
   "cell_type": "markdown",
   "metadata": {
    "slideshow": {
     "slide_type": "slide"
    }
   },
   "source": [
    "# Pandas\n",
    "> - 데이터 과학자를 위해 **테이블형태**로 데이터를 다룰 수 있게 해주는 패키지(python용 엑셀)\n",
    "> - 기존 데이터처리 라이브러리인 numpy 대신 주로 사용\n",
    "> - 일반인이 데이터분석을 접하기 쉽게 만들어준 결정적인 라이브러리\n",
    "> - pandas만으로도 충분히 데이터 분석이 가능할 정도로 고수준의 함수들을 내장\n",
    "> - 앞으로 진행하는 데이터분석 과정에서 주로 사용하게 될 데이터구조"
   ]
  },
  {
   "cell_type": "markdown",
   "metadata": {
    "slideshow": {
     "slide_type": "slide"
    }
   },
   "source": [
    "## pandas 설치 및 import\n",
    "    \n",
    "> 콘솔창에서 실행 시  \n",
    "**`pip install pandas`**  \n",
    "**`conda install pandas`**\n",
    "    \n",
    "> 주피터 노트북으로 실행 시  \n",
    "**`!pip install pandas`**\n",
    "    \n",
    "아나콘다 환경으로 python 환경설정 시 기본적으로 설치가 되어있음"
   ]
  },
  {
   "cell_type": "code",
   "execution_count": null,
   "metadata": {
    "slideshow": {
     "slide_type": "fragment"
    }
   },
   "outputs": [],
   "source": [
    "# pandas 설치\n",
    "# !pip install pandas"
   ]
  },
  {
   "cell_type": "code",
   "execution_count": null,
   "metadata": {
    "ExecuteTime": {
     "end_time": "2021-09-13T01:16:13.909495Z",
     "start_time": "2021-09-13T01:16:13.906441Z"
    },
    "slideshow": {
     "slide_type": "subslide"
    }
   },
   "outputs": [],
   "source": [
    "# numpy import\n",
    "import numpy as np\n",
    "\n",
    "# pandas import\n",
    "import pandas as pd\n",
    "# pd라는 닉네임은 많은 파이썬 유저들이 사용하고 있는 닉네임, 분석을 위한 필수는 아니지만 되도록이면 위와 같이 사용을 해줍시다.\n",
    "\n",
    "pd.options.display.max_columns = 200\n",
    "# 불러들이는 데이터에 맞춰 모든 컬럼을 확인 가능하도록 옵션값을 주었습니다.\n",
    "pd.options.display.max_info_columns =200\n",
    "# 그냥 실행 시키시고 지금 이해 못하셔도 좋습니다."
   ]
  },
  {
   "cell_type": "markdown",
   "metadata": {
    "slideshow": {
     "slide_type": "slide"
    }
   },
   "source": [
    "## DataFrame\n",
    "> - 엑셀에 익숙한 사용자를 위해 제작 된 **테이블형태의 데이터 구조**  \n",
    "> - 다양한 형태의 데이터를 받아 사용할 수 있으며 다양한 **통계, 시각화 함수를 제공**한다.  \n",
    "\n",
    "실제 데이터를 불러들이고 값을 확인 해 보며 기본적인 pandas 사용법을 익혀보도록 하겠습니다."
   ]
  },
  {
   "cell_type": "markdown",
   "metadata": {
    "slideshow": {
     "slide_type": "slide"
    }
   },
   "source": [
    "### 데이터 불러오기\n",
    "pandas는 다양한 데이터 파일 형태를 지원하며 주로 csv, xlsx, sql, json을 사용합니다.\n",
    "    \n",
    "> **`read_csv()`**  \n",
    "**`read_excel()`**  \n",
    "**`read_sql()`**  \n",
    "**`read_json()`**  \n",
    "**`json_normalize()`**"
   ]
  },
  {
   "cell_type": "code",
   "execution_count": null,
   "metadata": {
    "ExecuteTime": {
     "end_time": "2021-09-13T01:17:46.358972Z",
     "start_time": "2021-09-13T01:17:45.995973Z"
    },
    "slideshow": {
     "slide_type": "subslide"
    }
   },
   "outputs": [],
   "source": [
    "# DataFrame 의 약자로서 형식적으로 df 변수명을 사용한다.\n",
    "# pandas패키지의 read_csv() 함수를 사용하여 loan1.csv 파일을 불러들여 데이터프레임을 만들고 df 이름의 변수로 저장\n"
   ]
  },
  {
   "cell_type": "code",
   "execution_count": null,
   "metadata": {
    "ExecuteTime": {
     "end_time": "2021-09-13T01:20:43.395043Z",
     "start_time": "2021-09-13T01:20:40.257958Z"
    }
   },
   "outputs": [],
   "source": [
    "# 만약 모듈을 찾을 수 없는 오류가 발생한다면 추가 모듈 설치\n",
    "# 필요 모듈 import\n",
    "!pip install xlrd, openpyxl, pyxlsb"
   ]
  },
  {
   "cell_type": "code",
   "execution_count": null,
   "metadata": {
    "ExecuteTime": {
     "end_time": "2021-09-13T01:22:40.757202Z",
     "start_time": "2021-09-13T01:21:11.326101Z"
    },
    "slideshow": {
     "slide_type": "fragment"
    }
   },
   "outputs": [],
   "source": [
    "# 엑셀파일에 시트에 따라 데이터 구분이 지어진 경우 시트별로 데이터프레임 제작 가능\n",
    "# 다른 엑셀파일형식을 가져올 때 engine파라메터 추가해주시면 됩니다.\n",
    "df1 = pd.read_excel('./data/loan1.xlsb', \n",
    "                    sheet_name='구매영수증상세+상품마스터포함', \n",
    "                    engine='pyxlsb',\n",
    "                    encoding='utf-8') # 윈도우의 경우 cp949"
   ]
  },
  {
   "cell_type": "code",
   "execution_count": null,
   "metadata": {
    "ExecuteTime": {
     "end_time": "2021-09-13T01:27:11.185567Z",
     "start_time": "2021-09-13T01:27:10.996903Z"
    },
    "slideshow": {
     "slide_type": "subslide"
    }
   },
   "outputs": [],
   "source": [
    "# 데이터프레임 확인\n"
   ]
  },
  {
   "cell_type": "code",
   "execution_count": null,
   "metadata": {
    "slideshow": {
     "slide_type": "subslide"
    }
   },
   "outputs": [],
   "source": [
    "# 참고! 실습은 하지 않습니다만 쿼리를 사용하여 데이터베이스로부터 데이터프레임을 만드는 것도 가능합니다.\n",
    "# 데이터베이스로 부터 자료 읽기\n",
    "\n",
    "# 필요한 모듈 추가 설치 - 각 데이터베이스 별로 다릅니다.\n",
    "# !pip install pymysql\n",
    "\n",
    "# sql 모듈 로드하기\n",
    "# import pymysql\n",
    "# mysql, mariadb, sqlite, postgresql, ms-sql, oracle, mongodb\n",
    "\n",
    "# 접속하기\n",
    "# 접속방법 또한 DB 종류에 따라 다릅니다.\n",
    "# con = pymysql.connect(host='db서버주소', port=3306, user='id', passwd='pwd', db='dbname')\n",
    "\n",
    "# query 만들기\n",
    "# query = 'select * from samples'\n",
    "\n",
    "# 자료 불러오기\n",
    "# data = pd.read_sql(query, con=con)"
   ]
  },
  {
   "cell_type": "markdown",
   "metadata": {
    "slideshow": {
     "slide_type": "slide"
    }
   },
   "source": [
    "### 데이터 저장하기\n",
    "불러들인 혹은 작업을 마친 데이터프레임을 다양한 파일형태로 저장이 가능합니다.\n",
    "    \n",
    "> **`to_csv()`**  \n",
    "**`to_excel()`**  \n",
    "**`to_sql()`**"
   ]
  },
  {
   "cell_type": "code",
   "execution_count": null,
   "metadata": {
    "ExecuteTime": {
     "end_time": "2021-09-13T01:42:44.220821Z",
     "start_time": "2021-09-13T01:42:35.880153Z"
    },
    "slideshow": {
     "slide_type": "fragment"
    }
   },
   "outputs": [],
   "source": [
    "# index=False 파라메터는 기존 데이터프레임의 인덱스를 무시하고 저장\n"
   ]
  },
  {
   "cell_type": "markdown",
   "metadata": {
    "slideshow": {
     "slide_type": "slide"
    }
   },
   "source": [
    "### 사용 데이터 간략 설명\n",
    "> 미국 핀테크 회사인 lending club의 대출 데이터베이스  \n",
    "클라우드펀딩과 대출을 결합한 핀테크의 시초라고 부를 수 있는 회사  \n",
    "방대한 양의 대출정보를 공개하면서 금융정보분석에도 기여한 공이 큰 데이터  \n",
    "2007 ~ 2015 년 대출정보 및 개인정보를 담고 있음  \n",
    "226만건, 145항목 정보를 담고있음  \n",
    "실습데이터는 이 중 4만건을 추출한 데이터를 사용합니다.  \n",
    "\n",
    "데이터출처: https://www.kaggle.com/wordsforthewise/lending-club"
   ]
  },
  {
   "cell_type": "markdown",
   "metadata": {
    "slideshow": {
     "slide_type": "slide"
    }
   },
   "source": [
    "### 데이터 살펴보기"
   ]
  },
  {
   "cell_type": "code",
   "execution_count": null,
   "metadata": {
    "ExecuteTime": {
     "end_time": "2021-09-13T02:12:20.346120Z",
     "start_time": "2021-09-13T02:12:20.201450Z"
    },
    "slideshow": {
     "slide_type": "fragment"
    }
   },
   "outputs": [],
   "source": [
    "# 데이터를 불러들인 후 가장 처음 하는 작업\n",
    "# 데이터의 구조, 형태 파악하기\n",
    "# 데이터의 첫 5개 데이터 하나(샘플, 인스턴스) 확인하기\n",
    "\n",
    "# 10개를 확인하려면?"
   ]
  },
  {
   "cell_type": "code",
   "execution_count": null,
   "metadata": {
    "ExecuteTime": {
     "end_time": "2021-09-13T02:12:50.912277Z",
     "start_time": "2021-09-13T02:12:50.775195Z"
    },
    "slideshow": {
     "slide_type": "subslide"
    }
   },
   "outputs": [],
   "source": [
    "# 데이터의 마지막 5개 샘플 확인하기\n",
    "# 데이터가 잘 가져왔는지 확인 할 때 보통 씁니다.\n"
   ]
  },
  {
   "cell_type": "code",
   "execution_count": null,
   "metadata": {
    "ExecuteTime": {
     "end_time": "2021-09-13T02:13:37.601366Z",
     "start_time": "2021-09-13T02:13:37.597649Z"
    },
    "slideshow": {
     "slide_type": "fragment"
    }
   },
   "outputs": [],
   "source": [
    "# 데이터의 갯수를 살펴봅니다\n"
   ]
  },
  {
   "cell_type": "code",
   "execution_count": null,
   "metadata": {
    "ExecuteTime": {
     "end_time": "2021-09-13T02:15:04.900322Z",
     "start_time": "2021-09-13T02:15:04.811184Z"
    },
    "slideshow": {
     "slide_type": "subslide"
    }
   },
   "outputs": [],
   "source": [
    "# 데이터의 전반적인 정보를 확인합니다.\n",
    "\n",
    "# dtype 정보에서는 각 컬럼별 데이터 타입을 확인 할 수 있습니다.\n",
    "# object == str 이라고 생각하셔도 무방합니다.\n",
    "# verbose, null_counts"
   ]
  },
  {
   "cell_type": "code",
   "execution_count": null,
   "metadata": {
    "ExecuteTime": {
     "end_time": "2021-09-13T02:18:44.004421Z",
     "start_time": "2021-09-13T02:18:43.506473Z"
    },
    "slideshow": {
     "slide_type": "subslide"
    }
   },
   "outputs": [],
   "source": [
    "# 데이터의 기초통계량을 확인합니다.\n"
   ]
  },
  {
   "cell_type": "code",
   "execution_count": null,
   "metadata": {
    "ExecuteTime": {
     "end_time": "2021-09-13T02:21:28.521842Z",
     "start_time": "2021-09-13T02:21:28.516789Z"
    },
    "slideshow": {
     "slide_type": "subslide"
    }
   },
   "outputs": [],
   "source": [
    "# numpy 함수로 데이터 shape 확인\n"
   ]
  },
  {
   "cell_type": "code",
   "execution_count": null,
   "metadata": {
    "ExecuteTime": {
     "end_time": "2021-09-13T02:21:52.851630Z",
     "start_time": "2021-09-13T02:21:52.844743Z"
    },
    "slideshow": {
     "slide_type": "subslide"
    }
   },
   "outputs": [],
   "source": [
    "# 인덱스\n"
   ]
  },
  {
   "cell_type": "code",
   "execution_count": null,
   "metadata": {
    "ExecuteTime": {
     "end_time": "2021-09-13T02:22:07.265802Z",
     "start_time": "2021-09-13T02:22:07.260145Z"
    },
    "slideshow": {
     "slide_type": "subslide"
    }
   },
   "outputs": [],
   "source": [
    "# 컬럼\n"
   ]
  },
  {
   "cell_type": "markdown",
   "metadata": {
    "slideshow": {
     "slide_type": "slide"
    }
   },
   "source": [
    "데이터셋을 살펴 본 결과 정체를 알 수 없는 많은 컬럼이 있는 걸 확인했고, \n",
    "\n",
    "50000개의 샘플이 불러들여진 것을 확인 할 수 있었습니다.\n",
    "\n",
    "추가로 데이터 중간 중간 비어있는 값도 있는 것을 확인했습니다."
   ]
  },
  {
   "cell_type": "markdown",
   "metadata": {
    "slideshow": {
     "slide_type": "slide"
    }
   },
   "source": [
    "### 데이터접근 (인덱싱, 슬라이싱, 샘플링)"
   ]
  },
  {
   "cell_type": "code",
   "execution_count": null,
   "metadata": {
    "ExecuteTime": {
     "end_time": "2021-09-13T02:28:06.610812Z",
     "start_time": "2021-09-13T02:28:06.603537Z"
    },
    "slideshow": {
     "slide_type": "subslide"
    }
   },
   "outputs": [],
   "source": [
    "# 첫 샘플 혹은 레코드(대출건)에 대한 데이터를 살펴보겠습니다.\n",
    "# 인덱스넘버로 데이터에 접근하는 .iloc[색인]\n",
    "# 각 컬럼이나, 행단위 접근했을 때 출력되는 벡터 데이터를 Serise(시리즈) 라고 하는 자료구조\n",
    "# index, values로 각각의 속성에 접근 가능\n"
   ]
  },
  {
   "cell_type": "code",
   "execution_count": null,
   "metadata": {
    "ExecuteTime": {
     "end_time": "2021-09-13T02:29:56.145074Z",
     "start_time": "2021-09-13T02:29:56.004308Z"
    },
    "slideshow": {
     "slide_type": "subslide"
    }
   },
   "outputs": [],
   "source": [
    "# 10번 인덱스 부터 20번 인덱스 샘플 접근\n",
    "# start, end+1, step\n"
   ]
  },
  {
   "cell_type": "code",
   "execution_count": null,
   "metadata": {
    "ExecuteTime": {
     "end_time": "2021-09-13T02:44:27.316901Z",
     "start_time": "2021-09-13T02:44:27.311206Z"
    },
    "slideshow": {
     "slide_type": "subslide"
    }
   },
   "outputs": [],
   "source": [
    "# 컬럼 단위 샘플 접근\n",
    "\n",
    "# df[텍스트형태의 컬럼명]\n",
    "# 인덱싱이나 슬라이싱으로 데이터에 접근을 할 때 큰 단위를 선택하고 그 결과에서 인덱싱 혹은 슬라이싱을 하면\n",
    "# 조금 더 편하게, 쉽게 데이터 접근이 가능하다."
   ]
  },
  {
   "cell_type": "code",
   "execution_count": null,
   "metadata": {
    "ExecuteTime": {
     "end_time": "2021-09-13T02:45:30.833134Z",
     "start_time": "2021-09-13T02:45:30.820511Z"
    },
    "slideshow": {
     "slide_type": "subslide"
    }
   },
   "outputs": [],
   "source": [
    "# 여러 컬럼 동시 접근\n"
   ]
  },
  {
   "cell_type": "code",
   "execution_count": null,
   "metadata": {
    "ExecuteTime": {
     "end_time": "2021-09-13T02:47:23.775900Z",
     "start_time": "2021-09-13T02:47:23.743505Z"
    },
    "slideshow": {
     "slide_type": "subslide"
    }
   },
   "outputs": [],
   "source": [
    "# row와 columns을 동시에 슬라이싱 하는 속성\n",
    "# df.loc[인덱스, 컬럼명]\n"
   ]
  },
  {
   "cell_type": "code",
   "execution_count": null,
   "metadata": {
    "ExecuteTime": {
     "end_time": "2021-09-13T04:04:05.677277Z",
     "start_time": "2021-09-13T04:04:05.429267Z"
    }
   },
   "outputs": [],
   "source": [
    "# df의 컬럼명을 순환하면서 컬럼단위로 접근하고 각 컬럼의 고유값을 출력해주는 코드\n"
   ]
  },
  {
   "cell_type": "code",
   "execution_count": null,
   "metadata": {
    "ExecuteTime": {
     "end_time": "2021-09-13T04:06:53.016145Z",
     "start_time": "2021-09-13T04:06:52.894597Z"
    }
   },
   "outputs": [],
   "source": [
    "# 고윳값 갯수 출력\n"
   ]
  },
  {
   "cell_type": "markdown",
   "metadata": {
    "slideshow": {
     "slide_type": "slide"
    }
   },
   "source": [
    "### 팬시인덱싱\n",
    "> **`bool`** 형태의 array를 조건을 전달하여 다차원 배열을 인덱싱하는 방법.  \n",
    "조건식을 사용하여 분석에 필요한 데이터샘플을 추출하기 용이합니다."
   ]
  },
  {
   "cell_type": "code",
   "execution_count": null,
   "metadata": {
    "ExecuteTime": {
     "end_time": "2021-09-13T04:16:04.318547Z",
     "start_time": "2021-09-13T04:16:04.306599Z"
    }
   },
   "outputs": [],
   "source": [
    "# 신용등급이 A인 샘플의 emp_title 확인\n"
   ]
  },
  {
   "cell_type": "code",
   "execution_count": null,
   "metadata": {
    "ExecuteTime": {
     "end_time": "2021-09-13T04:18:47.482346Z",
     "start_time": "2021-09-13T04:18:47.476672Z"
    }
   },
   "outputs": [],
   "source": [
    "# 대출금액평균\n"
   ]
  },
  {
   "cell_type": "code",
   "execution_count": null,
   "metadata": {
    "ExecuteTime": {
     "end_time": "2021-09-13T04:19:39.541685Z",
     "start_time": "2021-09-13T04:19:39.428748Z"
    },
    "slideshow": {
     "slide_type": "subslide"
    }
   },
   "outputs": [],
   "source": [
    "# 조건식 샘플링 emp_title 이 ceo인 샘플들\n"
   ]
  },
  {
   "cell_type": "code",
   "execution_count": null,
   "metadata": {
    "ExecuteTime": {
     "end_time": "2021-09-13T04:26:30.584053Z",
     "start_time": "2021-09-13T04:26:30.397875Z"
    },
    "scrolled": true,
    "slideshow": {
     "slide_type": "subslide"
    }
   },
   "outputs": [],
   "source": [
    "# 신용등급 A와 B인 샘플접근\n",
    "\n",
    "# 조건식을 여러개 써야 한다면 조건마다 ()로 감싸주시는 것이 좋습니다."
   ]
  },
  {
   "cell_type": "code",
   "execution_count": null,
   "metadata": {
    "ExecuteTime": {
     "end_time": "2021-09-13T04:27:12.234166Z",
     "start_time": "2021-09-13T04:27:12.220102Z"
    }
   },
   "outputs": [],
   "source": [
    "# df loan_amnt 컬럼값이 10000이상인 채권샘플의 grade\n"
   ]
  },
  {
   "cell_type": "code",
   "execution_count": null,
   "metadata": {
    "ExecuteTime": {
     "end_time": "2021-09-13T04:32:50.953975Z",
     "start_time": "2021-09-13T04:32:50.761347Z"
    }
   },
   "outputs": [],
   "source": [
    "# 신용등급 A와 B인 샘플접근\n"
   ]
  },
  {
   "cell_type": "code",
   "execution_count": null,
   "metadata": {
    "ExecuteTime": {
     "end_time": "2021-09-13T04:44:54.943530Z",
     "start_time": "2021-09-13T04:44:54.922009Z"
    }
   },
   "outputs": [],
   "source": [
    "# df loan_amnt 컬럼값이 10000 이상인 채권샘플의 grade\n"
   ]
  },
  {
   "cell_type": "code",
   "execution_count": null,
   "metadata": {
    "ExecuteTime": {
     "end_time": "2021-09-13T04:49:43.206378Z",
     "start_time": "2021-09-13T04:49:43.189823Z"
    }
   },
   "outputs": [],
   "source": [
    "# df grade C 와 D 인 채권샘플 annual_inc 최대값인 인덱스 빼오기 (idxmax)\n",
    "# 최대값 인덱스 빼와서 샘플까지 출력\n"
   ]
  },
  {
   "cell_type": "code",
   "execution_count": null,
   "metadata": {
    "ExecuteTime": {
     "end_time": "2021-09-13T05:13:56.927962Z",
     "start_time": "2021-09-13T05:13:56.611852Z"
    }
   },
   "outputs": [],
   "source": [
    "# 컬럼 내 문자열 내에 우리가 찾고싶은 문자열이 포함되어 있는지를 기준으로 샘플링\n"
   ]
  },
  {
   "cell_type": "markdown",
   "metadata": {
    "slideshow": {
     "slide_type": "slide"
    }
   },
   "source": [
    "## 데이터프레임 병합\n",
    "> 실제 분석업무를 진행하다보면 데이터가 여기저기 분산되어 있을 경우가 더 많습니다.  \n",
    "조각난 데이터를 분석에 필요한 데이터셋으로 만들기 위해 데이터프레임 병합을 많이 사용합니다.  \n",
    "한개 이상의 데이터프레임을 병합 할 때 주로 사용하는 함수 2가지를 알아보겠습니다.    "
   ]
  },
  {
   "cell_type": "markdown",
   "metadata": {
    "slideshow": {
     "slide_type": "subslide"
    }
   },
   "source": [
    "### 데이터 병합에 사용가능한 key(병합할 기준이 되는 행 or 열)값이 있는경우\n",
    "**`pd.merge`**(베이스데이터프레임, 병합할데이터프레임)  \n",
    "> 사용 가능 한 파라메터\n",
    "- `how` : 'left', 'right', 'inner', 'outer'\n",
    "- `left_on` : key값이 다를 경우 베이스데이터프레임의 key 설정\n",
    "- `right_on` : key값이 다를 경우 병합데이터프레임의 key 설정\n",
    "    \n",
    "### 단순 데이터 연결\n",
    "**`pd.concat`**([베이스데이터프레임, 병합할데이터프레임], axis=0 or 1)\n",
    "> 사용 가능 한 파라메터  \n",
    "- `axis` : 축 방향 설정"
   ]
  },
  {
   "cell_type": "markdown",
   "metadata": {
    "slideshow": {
     "slide_type": "slide"
    }
   },
   "source": [
    "### merge 예시"
   ]
  },
  {
   "cell_type": "code",
   "execution_count": null,
   "metadata": {
    "ExecuteTime": {
     "end_time": "2021-09-13T05:29:08.282025Z",
     "start_time": "2021-09-13T05:29:08.267331Z"
    },
    "slideshow": {
     "slide_type": "fragment"
    }
   },
   "outputs": [],
   "source": [
    "merge_df1 = pd.DataFrame({\n",
    "    '이름': ['원영', '사쿠라', '유리', '예나', '유진', '나코', '은비', '혜원', '히토미', '채원', '민주', '째욘'],\n",
    "    '국어': [100, 70, 70, 70, 60, 90, 90, 70, 70, 80, 100, 100],\n",
    "    '영어': [100, 90, 80, 50, 70, 100, 70, 90, 100, 100, 80, 100]\n",
    "    }, columns=['이름', '국어', '영어']) \n",
    "\n",
    "merge_df2 = pd.DataFrame({\n",
    "    '일어': [80, 100, 100, 90, 70, 50, 100],\n",
    "    '수학': [90, 70, 100, 80, 70, 80, 90],\n",
    "    'name': ['원영', '사쿠라', '나코', '히토미', '예나', '은비', '째욘'],\n",
    "    }, columns=['일어', '수학', 'name'])"
   ]
  },
  {
   "cell_type": "code",
   "execution_count": null,
   "metadata": {
    "ExecuteTime": {
     "end_time": "2021-09-13T05:29:09.205140Z",
     "start_time": "2021-09-13T05:29:09.192714Z"
    }
   },
   "outputs": [],
   "source": [
    "# 데이터프레임 확인\n"
   ]
  },
  {
   "cell_type": "code",
   "execution_count": null,
   "metadata": {
    "ExecuteTime": {
     "end_time": "2021-09-13T05:27:24.563258Z",
     "start_time": "2021-09-13T05:27:24.545238Z"
    },
    "scrolled": true
   },
   "outputs": [],
   "source": [
    "# 병합 테스트\n"
   ]
  },
  {
   "cell_type": "markdown",
   "metadata": {
    "slideshow": {
     "slide_type": "slide"
    }
   },
   "source": [
    "### concat 예시\n",
    "현재 df에 저장되어있는 데이터에 추가로 2만개의 데이터를 이어붙여보겠습니다. df1이라는 변수에 이어붙일 데이터를 불러들여 병합을 진행해보겠습니다."
   ]
  },
  {
   "cell_type": "code",
   "execution_count": null,
   "metadata": {
    "ExecuteTime": {
     "end_time": "2021-09-13T05:35:01.968939Z",
     "start_time": "2021-09-13T05:35:01.598065Z"
    },
    "slideshow": {
     "slide_type": "fragment"
    }
   },
   "outputs": [],
   "source": [
    "# df1 변수에 loan2.csv 파일을 읽어들입니다.\n"
   ]
  },
  {
   "cell_type": "code",
   "execution_count": null,
   "metadata": {
    "ExecuteTime": {
     "end_time": "2021-09-13T05:35:15.634647Z",
     "start_time": "2021-09-13T05:35:15.496151Z"
    }
   },
   "outputs": [],
   "source": [
    "# 데이터프레임 확인\n"
   ]
  },
  {
   "cell_type": "code",
   "execution_count": null,
   "metadata": {
    "ExecuteTime": {
     "end_time": "2021-09-13T05:35:46.106713Z",
     "start_time": "2021-09-13T05:35:46.101117Z"
    },
    "slideshow": {
     "slide_type": "fragment"
    }
   },
   "outputs": [],
   "source": [
    "# df 와 df1 shape 확인\n"
   ]
  },
  {
   "cell_type": "code",
   "execution_count": null,
   "metadata": {
    "ExecuteTime": {
     "end_time": "2021-09-13T05:42:46.364614Z",
     "start_time": "2021-09-13T05:42:46.262743Z"
    },
    "slideshow": {
     "slide_type": "subslide"
    }
   },
   "outputs": [],
   "source": [
    "# 데이터프레임 행단위 병합\n"
   ]
  },
  {
   "cell_type": "code",
   "execution_count": null,
   "metadata": {
    "ExecuteTime": {
     "end_time": "2021-09-13T05:42:47.158823Z",
     "start_time": "2021-09-13T05:42:47.153118Z"
    }
   },
   "outputs": [],
   "source": [
    "# 병합 데이터프레임 shape 확인\n"
   ]
  },
  {
   "cell_type": "code",
   "execution_count": null,
   "metadata": {
    "ExecuteTime": {
     "end_time": "2021-09-13T05:41:10.166248Z",
     "start_time": "2021-09-13T05:41:10.162510Z"
    },
    "slideshow": {
     "slide_type": "fragment"
    }
   },
   "outputs": [],
   "source": [
    "# 병합 데이터프레임 index 확인\n"
   ]
  },
  {
   "cell_type": "markdown",
   "metadata": {
    "slideshow": {
     "slide_type": "slide"
    }
   },
   "source": [
    "## 인덱스 편집\n",
    "방금 전 concat으로 병합한 데이터프레임의 이상한 점을 찾으셨나요?  \n",
    "데이터 자체는 잘 붙였지만 인덱스가 꼬여있습니다. 인덱스 편집은 데이터분석을 위해 필요한 인덱스를 설정하기 위해 필요합니다."
   ]
  },
  {
   "cell_type": "code",
   "execution_count": null,
   "metadata": {
    "ExecuteTime": {
     "end_time": "2021-09-13T05:48:25.388800Z",
     "start_time": "2021-09-13T05:48:25.376011Z"
    }
   },
   "outputs": [],
   "source": [
    "# 인덱스리셋\n"
   ]
  },
  {
   "cell_type": "code",
   "execution_count": null,
   "metadata": {
    "ExecuteTime": {
     "end_time": "2021-09-13T05:49:50.683343Z",
     "start_time": "2021-09-13T05:49:50.391963Z"
    },
    "slideshow": {
     "slide_type": "subslide"
    }
   },
   "outputs": [],
   "source": [
    "# 기존 컬럼값을 취해 index로 사용\n"
   ]
  },
  {
   "cell_type": "markdown",
   "metadata": {
    "slideshow": {
     "slide_type": "slide"
    }
   },
   "source": [
    "## 컬럼편집\n",
    "인덱스편집과 마찬가지로 데이터프레임의 컬럼을 변경해야 할 경우도 있습니다. 데이터프레임은 컬럼단위 샘플링 및 인덱싱, 이름변경이 가능합니다."
   ]
  },
  {
   "cell_type": "markdown",
   "metadata": {
    "slideshow": {
     "slide_type": "subslide"
    }
   },
   "source": [
    "### 컬럼선택"
   ]
  },
  {
   "cell_type": "code",
   "execution_count": null,
   "metadata": {
    "ExecuteTime": {
     "end_time": "2021-09-13T06:08:36.570488Z",
     "start_time": "2021-09-13T06:08:36.543616Z"
    },
    "slideshow": {
     "slide_type": "fragment"
    }
   },
   "outputs": [],
   "source": [
    "# df 컬럼명 접근\n"
   ]
  },
  {
   "cell_type": "code",
   "execution_count": null,
   "metadata": {
    "ExecuteTime": {
     "end_time": "2021-09-13T06:09:40.281053Z",
     "start_time": "2021-09-13T06:09:40.277140Z"
    },
    "slideshow": {
     "slide_type": "fragment"
    }
   },
   "outputs": [],
   "source": [
    "# columns 속성도 인덱싱 및 슬라이싱이 가능합니다.\n"
   ]
  },
  {
   "cell_type": "markdown",
   "metadata": {
    "slideshow": {
     "slide_type": "subslide"
    }
   },
   "source": [
    "저는 개인정보에 관한 부분에 관심이 많습니다. 데이터셋 중 필요한 부분만을 컬럼단위로 추려보겠습니다."
   ]
  },
  {
   "cell_type": "code",
   "execution_count": null,
   "metadata": {
    "ExecuteTime": {
     "end_time": "2021-09-13T06:10:40.620468Z",
     "start_time": "2021-09-13T06:10:40.613473Z"
    },
    "scrolled": true,
    "slideshow": {
     "slide_type": "fragment"
    }
   },
   "outputs": [],
   "source": [
    "# df의 개인정보에 관한 컬럼만을 색인으로 df를 슬라이싱하고 person_df 변수에 할당\n"
   ]
  },
  {
   "cell_type": "markdown",
   "metadata": {
    "slideshow": {
     "slide_type": "slide"
    }
   },
   "source": [
    "### 컬럼삭제\n",
    "현재 데이터셋에는 개인식별정보가 지워져서 데이터가 존재하지 않습니다. 불필요한 데이터 column을 지우도록 하겠습니다."
   ]
  },
  {
   "cell_type": "code",
   "execution_count": null,
   "metadata": {
    "ExecuteTime": {
     "end_time": "2021-09-13T06:13:57.360363Z",
     "start_time": "2021-09-13T06:13:57.350005Z"
    },
    "slideshow": {
     "slide_type": "fragment"
    }
   },
   "outputs": [],
   "source": [
    "# 지울 column의 데이터값이 모두 NaN인지 확인\n"
   ]
  },
  {
   "cell_type": "markdown",
   "metadata": {
    "slideshow": {
     "slide_type": "fragment"
    }
   },
   "source": [
    "삭제할 컬럼 모두 데이터가 없는 것을 확인했습니다."
   ]
  },
  {
   "cell_type": "code",
   "execution_count": null,
   "metadata": {
    "ExecuteTime": {
     "end_time": "2021-09-13T06:16:15.258021Z",
     "start_time": "2021-09-13T06:16:15.249064Z"
    }
   },
   "outputs": [],
   "source": [
    "# 컬럼 삭제 (drop, del, pop)\n",
    "\n",
    "\n"
   ]
  },
  {
   "cell_type": "markdown",
   "metadata": {
    "slideshow": {
     "slide_type": "slide"
    }
   },
   "source": [
    "### 컬럼명 변경\n",
    "    경우에 따라서는 데이터셋 제작 중 컬럼명을 변경해야 할 경우도 있습니다.\n",
    "    국내 수집 데이터 사용 시 컬럼이 한글일 경우 영어로 변경을 많이 합니다."
   ]
  },
  {
   "cell_type": "code",
   "execution_count": null,
   "metadata": {
    "ExecuteTime": {
     "end_time": "2021-09-13T06:21:11.372641Z",
     "start_time": "2021-09-13T06:21:11.367830Z"
    },
    "slideshow": {
     "slide_type": "fragment"
    }
   },
   "outputs": [],
   "source": [
    "# home_ownership을 간략하게 home으로 변경\n",
    "# 한글도 가능합니다만 권장하지는 않습니다.\n"
   ]
  },
  {
   "cell_type": "markdown",
   "metadata": {
    "slideshow": {
     "slide_type": "slide"
    }
   },
   "source": [
    "## 데이터 샘플링 및 분석\n",
    "> 데이터병합, 인덱스편집, 컬럼선택만으로도 불필요한 정보를 삭제하고 새롭게 데이터셋을 만들 수 있는것을 확인했습니다.  \n",
    "위에 학습한 내용도 데이터 샘플링에 속한 내용이지만 지금부터는 데이터셋의 데이터를 살펴보면서 의미있는 데이터를 추려보도록 하겠습니다.  \n",
    "    \n",
    "**데이터프레임의 기본적인 인덱싱, 슬라이싱, 조건부 샘플링을 조합하면 데이터의 샘플을 확인 하는 과정만으로도 데이터분석이 가능해집니다.**"
   ]
  },
  {
   "cell_type": "code",
   "execution_count": null,
   "metadata": {
    "ExecuteTime": {
     "end_time": "2021-09-13T06:22:17.288942Z",
     "start_time": "2021-09-13T06:22:17.283224Z"
    },
    "slideshow": {
     "slide_type": "fragment"
    }
   },
   "outputs": [],
   "source": [
    "# 분석에 필요한 데이터프레임을 만들었으니 원본값을 사용하겠습니다. 기존 df에 person_df 값을 덮어 씌웁니다.\n"
   ]
  },
  {
   "cell_type": "code",
   "execution_count": null,
   "metadata": {
    "ExecuteTime": {
     "end_time": "2021-09-13T06:24:11.174822Z",
     "start_time": "2021-09-13T06:24:10.914627Z"
    }
   },
   "outputs": [],
   "source": [
    "# 분석에 필요한 데이터셋을 생성했다면 파일로도 저장 해둡시다.\n"
   ]
  },
  {
   "cell_type": "markdown",
   "metadata": {
    "slideshow": {
     "slide_type": "subslide"
    }
   },
   "source": [
    "### 저는 채권자의 개인정보에 관심이 많습니다. 고객의 직업을 살펴보겠습니다."
   ]
  },
  {
   "cell_type": "code",
   "execution_count": null,
   "metadata": {
    "ExecuteTime": {
     "end_time": "2021-09-13T06:24:48.181705Z",
     "start_time": "2021-09-13T06:24:48.174593Z"
    },
    "slideshow": {
     "slide_type": "-"
    }
   },
   "outputs": [],
   "source": [
    "# emp_title 접근\n"
   ]
  },
  {
   "cell_type": "code",
   "execution_count": null,
   "metadata": {
    "ExecuteTime": {
     "end_time": "2021-09-13T06:26:49.755077Z",
     "start_time": "2021-09-13T06:26:49.739401Z"
    },
    "slideshow": {
     "slide_type": "-"
    }
   },
   "outputs": [],
   "source": [
    "# 값을 카운트 하는 함수 value_counts()\n"
   ]
  },
  {
   "cell_type": "markdown",
   "metadata": {},
   "source": [
    "### 데이터프레임 형변환"
   ]
  },
  {
   "cell_type": "code",
   "execution_count": null,
   "metadata": {
    "ExecuteTime": {
     "end_time": "2021-09-13T06:29:49.714660Z",
     "start_time": "2021-09-13T06:29:49.708470Z"
    },
    "slideshow": {
     "slide_type": "-"
    }
   },
   "outputs": [],
   "source": [
    "# Owner, owner 같은 직업이지만 대소문자 구분에 따라 다른 값으로 취급되는 문제가 있네요.\n",
    "# 대소문자 구분을 없애기 위해 모두 소문자로 데이터값을 변경하겠습니다.\n",
    "# 소문자 변환 전 혹시모를 int, float 데이터가 있을지 모를 상황에 대비해서 모두 문자열로 변경해주겠습니다.\n",
    "# 형변환 함수 astype(데이터타입)\n"
   ]
  },
  {
   "cell_type": "code",
   "execution_count": null,
   "metadata": {
    "ExecuteTime": {
     "end_time": "2021-09-13T06:36:32.991773Z",
     "start_time": "2021-09-13T06:36:30.023287Z"
    },
    "slideshow": {
     "slide_type": "-"
    }
   },
   "outputs": [],
   "source": [
    "%%time\n",
    "# 반복문을 사용한 데이터 변경도 가능\n",
    "# 하지만 파이썬의 강점을 살리지 못한 코드\n"
   ]
  },
  {
   "cell_type": "markdown",
   "metadata": {
    "slideshow": {
     "slide_type": "slide"
    }
   },
   "source": [
    "### 배운사람들의 코드, 고오급 python 스킬\n",
    "numpy를 학습하면서 브로드캐스팅에 관하여 잠깐 언급했었습니다. 그렇다면 그 파워풀하다던 브로드캐스팅은 어떻게 사용해야할까요?\n",
    "    \n",
    ">기타 언어에서는 지원하지 않는 기능이니만큼 파이썬의 특징을 가장 잘 살리는 코드  \n",
    "**`apply`** 함수를 사용하여 인자로 받는 모든 데이터에 함수를 적용"
   ]
  },
  {
   "cell_type": "markdown",
   "metadata": {
    "slideshow": {
     "slide_type": "subslide"
    }
   },
   "source": [
    "#### apply 함수로 컬럼에 적용시키는 코드 구조\n",
    "    df['컬럼명'] = df['컬럼명'].apply(lambda x: func(x) if 조건문)\n",
    "    df['컬럼명'] = df['컬럼명'].apply(func_nm)"
   ]
  },
  {
   "cell_type": "code",
   "execution_count": null,
   "metadata": {
    "ExecuteTime": {
     "end_time": "2021-09-13T06:43:01.743290Z",
     "start_time": "2021-09-13T06:43:01.739650Z"
    }
   },
   "outputs": [],
   "source": [
    "# 대문자 만드는 함수\n"
   ]
  },
  {
   "cell_type": "code",
   "execution_count": null,
   "metadata": {
    "ExecuteTime": {
     "end_time": "2021-09-13T06:44:49.363053Z",
     "start_time": "2021-09-13T06:44:49.349783Z"
    },
    "slideshow": {
     "slide_type": "fragment"
    }
   },
   "outputs": [],
   "source": [
    "# apply() 함수사용 반복이 가능한 데이터구조의 모든 인자에 적용\n",
    "# lambda 각 인자에 적용할 함수 혹은 연산\n"
   ]
  },
  {
   "cell_type": "code",
   "execution_count": null,
   "metadata": {
    "ExecuteTime": {
     "end_time": "2021-09-13T06:51:10.583796Z",
     "start_time": "2021-09-13T06:51:10.570285Z"
    },
    "slideshow": {
     "slide_type": "subslide"
    }
   },
   "outputs": [],
   "source": [
    "# 대소문자 구분을 처리한 값 확인\n",
    "\n",
    "# 기존 value_count 값과 차이가 있음을 확인 할 수 있습니다.\n",
    "# 제공 된 데이터셋이라도 이와 같은 작은 차이가 있을 수 있습니다.\n",
    "# 데이터를 꼼꼼하게 살펴볼 수록 디테일한 차이를 만들 수 있습니다."
   ]
  },
  {
   "cell_type": "code",
   "execution_count": null,
   "metadata": {
    "ExecuteTime": {
     "end_time": "2021-09-13T07:07:24.530524Z",
     "start_time": "2021-09-13T07:07:24.492702Z"
    },
    "slideshow": {
     "slide_type": "subslide"
    }
   },
   "outputs": [],
   "source": [
    "# owner인 사람들 샘플링\n"
   ]
  },
  {
   "cell_type": "code",
   "execution_count": null,
   "metadata": {
    "ExecuteTime": {
     "end_time": "2021-09-13T07:08:12.071809Z",
     "start_time": "2021-09-13T07:08:12.063773Z"
    },
    "slideshow": {
     "slide_type": "subslide"
    }
   },
   "outputs": [],
   "source": [
    "# 샘플링 된 데이터프레임의 단일 컬럼 접근\n"
   ]
  },
  {
   "cell_type": "code",
   "execution_count": null,
   "metadata": {
    "ExecuteTime": {
     "end_time": "2021-09-13T07:08:23.927946Z",
     "start_time": "2021-09-13T07:08:23.917251Z"
    },
    "slideshow": {
     "slide_type": "subslide"
    }
   },
   "outputs": [],
   "source": [
    "# 컬럼 평균값 계산\n"
   ]
  },
  {
   "cell_type": "code",
   "execution_count": null,
   "metadata": {
    "ExecuteTime": {
     "end_time": "2021-09-13T07:09:12.001838Z",
     "start_time": "2021-09-13T07:09:11.990130Z"
    },
    "slideshow": {
     "slide_type": "subslide"
    }
   },
   "outputs": [],
   "source": [
    "# 코드 하나 변경으로 간단한 분석 가능\n",
    "# owner가 아닌 사람들의 평균\n"
   ]
  },
  {
   "cell_type": "markdown",
   "metadata": {},
   "source": [
    "## 데이터 재구조화"
   ]
  },
  {
   "cell_type": "code",
   "execution_count": null,
   "metadata": {
    "ExecuteTime": {
     "end_time": "2021-09-13T07:16:49.683894Z",
     "start_time": "2021-09-13T07:16:49.659093Z"
    },
    "slideshow": {
     "slide_type": "subslide"
    }
   },
   "outputs": [],
   "source": [
    "# 각 직업별 평균연봉이 궁금하다 groupby\n",
    "# 엑셀의 pivol table 과 비슷한 기능\n"
   ]
  },
  {
   "cell_type": "code",
   "execution_count": null,
   "metadata": {
    "ExecuteTime": {
     "end_time": "2021-09-13T07:27:04.364226Z",
     "start_time": "2021-09-13T07:27:04.335436Z"
    }
   },
   "outputs": [],
   "source": [
    "# pivot_table\n"
   ]
  },
  {
   "cell_type": "markdown",
   "metadata": {
    "slideshow": {
     "slide_type": "slide"
    }
   },
   "source": [
    "## 결측치 처리\n",
    "> 데이터 분석을 위해서는 데이터셋 내에 빈 값이 있는 경우 분석에 방해가 될 수 있는 여지가 많습니다.  \n",
    "모든 결측치를 없애야 하는 것은 아니지만 되도록이면 결측치를 채우는 방법, 혹은 없애는 방법등으로 결측치를 처리합니다.  \n",
    "몇가지 예시를 살펴보면서 결측치 처리에 대해 알아봅시다."
   ]
  },
  {
   "cell_type": "code",
   "execution_count": null,
   "metadata": {
    "ExecuteTime": {
     "end_time": "2021-09-13T07:33:40.719798Z",
     "start_time": "2021-09-13T07:33:40.697112Z"
    },
    "slideshow": {
     "slide_type": "subslide"
    }
   },
   "outputs": [],
   "source": [
    "# info() 함수는 결측치에 대한 정보도 보여줍니다.\n",
    "# 컬럼별 isnull() 함수를 사용해도 무방합니다.\n"
   ]
  },
  {
   "cell_type": "markdown",
   "metadata": {
    "slideshow": {
     "slide_type": "subslide"
    }
   },
   "source": [
    "    확인결과 emp_title, emp_length, dti에 결측치가 존재합니다.\n",
    "    해당 컬럼의 결측치 샘플들을 살펴보고 결측치를 처리해 보겠습니다."
   ]
  },
  {
   "cell_type": "code",
   "execution_count": null,
   "metadata": {
    "ExecuteTime": {
     "end_time": "2021-09-13T07:36:48.370083Z",
     "start_time": "2021-09-13T07:36:48.328848Z"
    },
    "slideshow": {
     "slide_type": "subslide"
    }
   },
   "outputs": [],
   "source": [
    "# 컬럼별 결측치 확인을 위한 isnull()함수 리턴값이 bool 형태로 반환되어 조건부 샘플링이 가능합니다.\n"
   ]
  },
  {
   "cell_type": "code",
   "execution_count": null,
   "metadata": {
    "ExecuteTime": {
     "end_time": "2021-09-13T07:39:34.222454Z",
     "start_time": "2021-09-13T07:39:34.216206Z"
    },
    "slideshow": {
     "slide_type": "subslide"
    }
   },
   "outputs": [],
   "source": [
    "# dti 컬럼에 결측치가 존재하는 샘플 확인\n"
   ]
  },
  {
   "cell_type": "markdown",
   "metadata": {
    "slideshow": {
     "slide_type": "subslide"
    }
   },
   "source": [
    "    직업과 근속연수에 관한 부분은 데이터를 통한 유추나 계산값을 통해 채워넣을 수 있는 항목은 아닌 것 같습니다.\n",
    "    다만 dti의 경우 실수로 채워져 있는 부분이니 수업을 위해 평균값 혹은 근사치를 계산하여 채워보도록 하겠습니다."
   ]
  },
  {
   "cell_type": "markdown",
   "metadata": {
    "slideshow": {
     "slide_type": "slide"
    }
   },
   "source": [
    "### 결측치 채우기"
   ]
  },
  {
   "cell_type": "code",
   "execution_count": null,
   "metadata": {
    "ExecuteTime": {
     "end_time": "2021-09-13T07:41:05.385511Z",
     "start_time": "2021-09-13T07:41:05.379474Z"
    },
    "slideshow": {
     "slide_type": "subslide"
    }
   },
   "outputs": [],
   "source": [
    "# dti 컬럼의 NaN값 index 확인\n"
   ]
  },
  {
   "cell_type": "code",
   "execution_count": null,
   "metadata": {
    "ExecuteTime": {
     "end_time": "2021-09-13T07:47:45.989313Z",
     "start_time": "2021-09-13T07:47:45.979648Z"
    },
    "slideshow": {
     "slide_type": "subslide"
    }
   },
   "outputs": [],
   "source": [
    "# fillna() 함수로 NaN 값을 dti 컬럼의 평균으로 채우기\n",
    "\n",
    "# fillna() 함수의 다양한 채우기 방법 파라메터 확인해보기\n"
   ]
  },
  {
   "cell_type": "markdown",
   "metadata": {
    "slideshow": {
     "slide_type": "slide"
    }
   },
   "source": [
    "### 결측치 제거"
   ]
  },
  {
   "cell_type": "code",
   "execution_count": null,
   "metadata": {
    "ExecuteTime": {
     "end_time": "2021-09-13T07:48:49.557970Z",
     "start_time": "2021-09-13T07:48:49.520584Z"
    },
    "slideshow": {
     "slide_type": "subslide"
    }
   },
   "outputs": [],
   "source": [
    "# emp_title 결측치가 있는 샘플 확인\n"
   ]
  },
  {
   "cell_type": "code",
   "execution_count": null,
   "metadata": {
    "ExecuteTime": {
     "end_time": "2021-09-13T07:50:45.090013Z",
     "start_time": "2021-09-13T07:50:45.071596Z"
    },
    "slideshow": {
     "slide_type": "subslide"
    }
   },
   "outputs": [],
   "source": [
    "# view값으로 dropna 결과값 확인\n"
   ]
  },
  {
   "cell_type": "code",
   "execution_count": null,
   "metadata": {
    "ExecuteTime": {
     "end_time": "2021-09-13T07:50:51.462894Z",
     "start_time": "2021-09-13T07:50:51.442428Z"
    },
    "slideshow": {
     "slide_type": "subslide"
    }
   },
   "outputs": [],
   "source": [
    "# 결측치 제거\n"
   ]
  }
 ],
 "metadata": {
  "kernelspec": {
   "display_name": "Python 3 (ipykernel)",
   "language": "python",
   "name": "python3"
  },
  "language_info": {
   "codemirror_mode": {
    "name": "ipython",
    "version": 3
   },
   "file_extension": ".py",
   "mimetype": "text/x-python",
   "name": "python",
   "nbconvert_exporter": "python",
   "pygments_lexer": "ipython3",
   "version": "3.8.12"
  },
  "toc": {
   "base_numbering": 1,
   "nav_menu": {},
   "number_sections": true,
   "sideBar": true,
   "skip_h1_title": true,
   "title_cell": "Table of Contents",
   "title_sidebar": "Contents",
   "toc_cell": false,
   "toc_position": {
    "height": "calc(100% - 180px)",
    "left": "10px",
    "top": "150px",
    "width": "193.821px"
   },
   "toc_section_display": true,
   "toc_window_display": false
  },
  "varInspector": {
   "cols": {
    "lenName": 16,
    "lenType": 16,
    "lenVar": 40
   },
   "kernels_config": {
    "python": {
     "delete_cmd_postfix": "",
     "delete_cmd_prefix": "del ",
     "library": "var_list.py",
     "varRefreshCmd": "print(var_dic_list())"
    },
    "r": {
     "delete_cmd_postfix": ") ",
     "delete_cmd_prefix": "rm(",
     "library": "var_list.r",
     "varRefreshCmd": "cat(var_dic_list()) "
    }
   },
   "types_to_exclude": [
    "module",
    "function",
    "builtin_function_or_method",
    "instance",
    "_Feature"
   ],
   "window_display": false
  }
 },
 "nbformat": 4,
 "nbformat_minor": 2
}
