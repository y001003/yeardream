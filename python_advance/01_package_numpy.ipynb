{
  "cells": [
    {
      "cell_type": "markdown",
      "metadata": {
        "id": "9yuQxPXRoH07"
      },
      "source": [
        "# Numpy (Numeric python)\n",
        "> - 패키지 이름과 같이 **수리적 파이썬 활용**을 위한 파이썬 패키지\n",
        "> - **선형대수학 구현**과 **과학적 컴퓨팅 연산**을 위한 함수를 제공\n",
        "> - (key) `nparray` 다차원 배열을 사용하여 **벡터의 산술 연산**이 가능\n",
        "\n",
        "> - **브로드캐스팅**을 활용하여 shape(형태 혹은 모양)이 다른 데이터의 연산이 가능\n",
        ">> - 기존 언어에서는 제공 X\n",
        ">> - 굉장히 파워풀한 기능으로서 빅데이터 연산에 굉장히 효율이 좋음     "
      ]
    },
    {
      "cell_type": "markdown",
      "metadata": {
        "id": "zy0-KtA-oH09"
      },
      "source": [
        "## Numpy 설치 와 import\n",
        "> - 선행 학습을 통해 클래스와 함수에서 클래스를 불러들여 사용할 수 있다고 배웠습니다.\n",
        "> - 다만 직접 작성한 클래스가 아닐경우, 그리고 현재 컴퓨터에 사용해야 할 패키지가 없을경우 간단한 명령어로 설치가능.\n",
        "\n",
        ">> - `pip`, `conda` 명령어 : python 라이브러리 관리 프로그램으로 오픈소스라이브러리를 간편하게 설치 할 수 있도록 하는 명령어  \n",
        "\n",
        "> 콘솔창에서 실행 시  \n",
        "**`pip` `install` `[패키지명]`** 혹은  \n",
        "**`conda` `install` `[패키지명]`**\n",
        "\n",
        "> 주피터 노트북으로 실행 시  \n",
        "**`!pip` `install` `[패키지명]`**  \n",
        "\n",
        "아나콘다 환경으로 python 환경설정 시 기본적으로 Numpy 설치가 되어있음"
      ]
    },
    {
      "cell_type": "code",
      "execution_count": 1,
      "metadata": {
        "ExecuteTime": {
          "end_time": "2021-06-19T02:18:19.360356Z",
          "start_time": "2021-06-19T02:18:16.501938Z"
        },
        "id": "PqlTMIV2oH0-",
        "outputId": "3fae3e22-9778-4af9-f97b-3de0956e4b37",
        "colab": {
          "base_uri": "https://localhost:8080/"
        }
      },
      "outputs": [
        {
          "output_type": "stream",
          "name": "stdout",
          "text": [
            "Requirement already satisfied: numpy in /usr/local/lib/python3.7/dist-packages (1.21.6)\n"
          ]
        }
      ],
      "source": [
        "# 주피터 노트북에서 Numpy 설치\n",
        "!pip install numpy"
      ]
    },
    {
      "cell_type": "code",
      "execution_count": 2,
      "metadata": {
        "ExecuteTime": {
          "end_time": "2021-08-03T05:00:26.054538Z",
          "start_time": "2021-08-03T05:00:26.051907Z"
        },
        "id": "FVPTNxtEoH0-"
      },
      "outputs": [],
      "source": [
        "# Numpy 사용을 위해 패키지 불러들이기\n",
        "import numpy as np\n",
        "# 관례적으로 np라는 약자를 많이 사용하게 됩니다.\n",
        "# 파이썬을 사용하는 대부분의 유저들이 사용하고 있는 닉네임이니 이건 꼭 지켜서 사용해주시는 것을 추천드립니다."
      ]
    },
    {
      "cell_type": "markdown",
      "metadata": {
        "id": "lB50Rte2oH0_"
      },
      "source": [
        "## 데이터분석을 위한 잠깐의 선형대수학\n",
        "numpy는 기본적으로 수리적 컴퓨팅을 위한 패키지 입니다. 선형대수학을 약간만 이해한다면 데이터를 훨씬 더 깊이있게 다룰 수 있습니다.  \n",
        "<img src=\"https://drive.google.com/uc?id=1FIVLOIP-X72PeWS7tgChMEoWCUYtyOqa\">\n",
        "\n",
        "출처 : https://art28.github.io/blog/linear-algebra-1/"
      ]
    },
    {
      "cell_type": "markdown",
      "source": [
        "Matrix : 행벡터와 열벡터 이루어진 데이터"
      ],
      "metadata": {
        "id": "Mqg5SBW3p301"
      }
    },
    {
      "cell_type": "markdown",
      "metadata": {
        "id": "k-MOrmUloH0_"
      },
      "source": [
        "## 데이터의 구분에 따른 표현 방법과 예시\n",
        "\n",
        "#### 스칼라\n",
        "    1, 3.14, 실수 혹은 정수  \n",
        "    \n",
        "#### 벡터\n",
        "    [1, 2, 3, 4], 문자열  \n",
        "    \n",
        "#### 3 X 4 매트릭스\n",
        "    [[1, 2, 3, 4],\n",
        "     [5, 6, 7, 8],\n",
        "     [9, 0, 11, 12]]\n",
        "     \n",
        "#### 2 X 3 X 4 텐서\n",
        "    [[[1, 2, 3, 4],\n",
        "     [5, 6, 7, 8],\n",
        "     [9, 0, 11, 12]],\n",
        "     [[1, 2, 3, 4], \n",
        "     [5, 6, 7, 8],\n",
        "     [9, 0, 11, 12]]]"
      ]
    },
    {
      "cell_type": "markdown",
      "metadata": {
        "ExecuteTime": {
          "end_time": "2021-08-03T02:31:58.163370Z",
          "start_time": "2021-08-03T02:31:58.043519Z"
        },
        "id": "lVWCHlZ0oH0_"
      },
      "source": [
        "### 데이터로 표현한 선형대수학\n",
        "<img src=\"https://drive.google.com/uc?id=1JXgwhjipPcV147LPIrC2CgT0TmS4jT1R\">\n",
        "\n",
        "출처 : https://m.blog.naver.com/nabilera1/221978354680"
      ]
    },
    {
      "cell_type": "markdown",
      "metadata": {
        "id": "-eZNbHb7oH1A"
      },
      "source": [
        "### 데이터 형태에 따른 사칙연산\n",
        "\n",
        "> 스칼라 +, -, *, / -> 결과도 스칼라  \n",
        "벡터 +, -, 내적 -> +, - 결과는 벡터, 내적 결과는 스칼라  \n",
        "매트릭스 +, -, *, /  \n",
        "텐서 +, -, *, /  "
      ]
    },
    {
      "cell_type": "markdown",
      "metadata": {
        "id": "OWlY9XD1oH1A"
      },
      "source": [
        "### 데이터분석에 자주 사용하는 특수한 연산\n",
        "벡터와 벡터의 내적\n",
        "    \n",
        "$$\\begin{bmatrix}1 & 2 & 3 & 4 \\end{bmatrix} \\times \\begin{bmatrix}1 \\\\ 2 \\\\ 3 \\\\ 4 \\end{bmatrix} = 1 * 1 + \\\n",
        "2 * 2 + 3 * 3 + 4 * 4 = 30$$\n",
        "# $$ A^TA $$"
      ]
    },
    {
      "cell_type": "markdown",
      "metadata": {
        "id": "pPTAFABXoH1A"
      },
      "source": [
        "#### 벡터와 벡터의 내적이 이루어지려면\n",
        "    \n",
        "    1. 벡터가 마주하는 shape의 갯수(길이)가 같아야 합니다.\n",
        "    2. 연산 앞에 위치한 벡터는 전치(transpose) 되어야 합니다.\n",
        "<img src=\"https://drive.google.com/uc?id=1VdfUo6iFHpTrPd_5RSjJLjlrX_5zWO0v\" height=\"300px\" width=\"300px\">  \n",
        "\n",
        "출처 : https://ko.wikipedia.org/wiki/%EC%A0%84%EC%B9%98%ED%96%89%EB%A0%AC  "
      ]
    },
    {
      "cell_type": "markdown",
      "metadata": {
        "id": "Mt-EFpb7oH1B"
      },
      "source": [
        "#### 벡터 내적으로 방정식 구현\n",
        "\n",
        "$$y = \\begin{bmatrix}1 & 2 & 1 \\end{bmatrix} \\times \\begin{bmatrix}x_1 \\\\ x_2 \\\\ x_3 \\\\ \\end{bmatrix} = 1 * x_1 + \\\n",
        "2 * x_2 + 1 * x_3 = x_1 + 2x_2 + x_3$$"
      ]
    },
    {
      "cell_type": "markdown",
      "metadata": {
        "id": "st9OoA4GoH1B"
      },
      "source": [
        "## 브로드캐스팅\n",
        "> 파이썬 넘파이 연산은 브로드캐스팅을 지원합니다.  \n",
        "벡터연산 시 shape이 큰 벡터의 길이만큼 shape이 작은 벡터가 연장되어 연산됩니다.\n",
        "\n",
        "<img src=\"https://drive.google.com/uc?id=139z17KEUFNIoJR_-lSnnxepmJAJx--cw\" height=\"500px\" width=\"500px\">  \n",
        "\n",
        "출처 : http://www.astroml.org/book_figures/appendix/fig_broadcast_visual.html"
      ]
    },
    {
      "cell_type": "markdown",
      "metadata": {
        "id": "_t2-GRdQoH1B"
      },
      "source": [
        "## Numpy function(유니버셜 함수)\n",
        "> `numpy`는 컴퓨팅연산을 위한 다양한 연산함수를 제공합니다.  \n",
        ">> 연산함수 기본구조  \n",
        "ex) **`np.sum`**(연산대상, axis=연산방향)  \n",
        "**`dtype()`**"
      ]
    },
    {
      "cell_type": "markdown",
      "metadata": {
        "id": "bau91SXxoH1B"
      },
      "source": [
        "### 수리연산\n",
        "- **`prod()`**\n",
        "- **`dot()`**\n",
        "- **`sum()`**\n",
        "- **`cumprod()`**\n",
        "- **`cumsum()`**\n",
        "- **`abs()`**\n",
        "- **`sqaure()`**\n",
        "- **`sqrt()`**\n",
        "- **`exp()`**\n",
        "- **`log()`**"
      ]
    },
    {
      "cell_type": "markdown",
      "metadata": {
        "id": "PRu-hCLGoH1B"
      },
      "source": [
        "### 통계연산\n",
        "- **`mean()`**\n",
        "- **`std()`**\n",
        "- **`var()`**\n",
        "- **`max()`**\n",
        "- **`min()`**\n",
        "- **`argmax()`**\n",
        "- **`argmin()`**"
      ]
    },
    {
      "cell_type": "markdown",
      "metadata": {
        "id": "gAdfybe5oH1B"
      },
      "source": [
        "### 로직연산\n",
        "- **`arange()`**\n",
        "- **`isnan()`**\n",
        "- **`isinf()`**\n",
        "- **`unique()`**"
      ]
    },
    {
      "cell_type": "markdown",
      "metadata": {
        "id": "DkjOTucuoH1B"
      },
      "source": [
        "### 기하\n",
        "- **`shape()`**\n",
        "- **`reshape()`**\n",
        "- **`ndim()`**\n",
        "- **`transpose()`**\n",
        "    \n",
        "각종 연산 함수 참고: https://numpy.org/doc/stable/reference/routines.math.html"
      ]
    },
    {
      "cell_type": "markdown",
      "metadata": {
        "id": "LByiG8W7oH1C"
      },
      "source": [
        "### numpy 함수 실습"
      ]
    },
    {
      "cell_type": "code",
      "execution_count": null,
      "metadata": {
        "ExecuteTime": {
          "end_time": "2021-09-10T05:07:46.258191Z",
          "start_time": "2021-09-10T05:07:46.245554Z"
        },
        "id": "6xA6DxeXoH1C"
      },
      "outputs": [],
      "source": [
        "# 함수 예제를 위한 데이터셋\n",
        "test_list = [1, 2, 3, 4]\n",
        "test_list2 = [[1, 3], [5, 7]]\n",
        "test_flist = [1, 3.14, -4.5]\n",
        "test_list_2nd = [[1, 2, 3],\n",
        "              [4, 5, 6],\n",
        "              [7, 8, 9]]\n",
        "\n",
        "test_list_3rd = [[[1, 2, 3, 4],\n",
        "              [5, 6, 7, 8]],\n",
        "              \n",
        "              [[1, 2, 3, 4],\n",
        "               [5, 6, 7, 8]],\n",
        "\n",
        "              [[1, 2, 3, 4],\n",
        "               [5, 6, 7, 8]]]\n",
        "test_exp = [0, 1, 10]\n",
        "test_nan = [0, np.nan, np.inf]"
      ]
    },
    {
      "cell_type": "code",
      "execution_count": null,
      "metadata": {
        "ExecuteTime": {
          "end_time": "2021-09-10T05:08:56.765908Z",
          "start_time": "2021-09-10T05:08:56.749821Z"
        },
        "id": "nToB0a3loH1C"
      },
      "outputs": [],
      "source": [
        "# 곱연산\n"
      ]
    },
    {
      "cell_type": "code",
      "execution_count": null,
      "metadata": {
        "ExecuteTime": {
          "end_time": "2021-09-10T05:09:46.116420Z",
          "start_time": "2021-09-10T05:09:46.110493Z"
        },
        "id": "rWlKTI-AoH1C"
      },
      "outputs": [],
      "source": [
        "# 합연산\n"
      ]
    },
    {
      "cell_type": "code",
      "execution_count": null,
      "metadata": {
        "ExecuteTime": {
          "end_time": "2021-09-10T05:09:35.827442Z",
          "start_time": "2021-09-10T05:09:35.820458Z"
        },
        "id": "sLEAUPbZoH1D"
      },
      "outputs": [],
      "source": [
        "# 누적곱연산\n"
      ]
    },
    {
      "cell_type": "code",
      "execution_count": null,
      "metadata": {
        "ExecuteTime": {
          "end_time": "2021-09-10T05:10:23.533814Z",
          "start_time": "2021-09-10T05:10:23.526317Z"
        },
        "id": "ToSCP2Y9oH1D"
      },
      "outputs": [],
      "source": [
        "# 누적합연산\n"
      ]
    },
    {
      "cell_type": "code",
      "execution_count": null,
      "metadata": {
        "ExecuteTime": {
          "end_time": "2021-09-10T05:12:23.843403Z",
          "start_time": "2021-09-10T05:12:23.834717Z"
        },
        "id": "Co8gFXOHoH1D"
      },
      "outputs": [],
      "source": [
        "test_flist"
      ]
    },
    {
      "cell_type": "code",
      "execution_count": null,
      "metadata": {
        "ExecuteTime": {
          "end_time": "2021-09-10T05:12:11.972345Z",
          "start_time": "2021-09-10T05:12:11.963131Z"
        },
        "id": "B1bx86YCoH1D"
      },
      "outputs": [],
      "source": [
        "# 절대값\n"
      ]
    },
    {
      "cell_type": "code",
      "execution_count": null,
      "metadata": {
        "ExecuteTime": {
          "end_time": "2021-06-19T04:07:45.726523Z",
          "start_time": "2021-06-19T04:07:45.720686Z"
        },
        "id": "EiIaYt_yoH1D"
      },
      "outputs": [],
      "source": [
        "# 제곱\n"
      ]
    },
    {
      "cell_type": "code",
      "execution_count": null,
      "metadata": {
        "ExecuteTime": {
          "end_time": "2021-06-19T04:11:03.369518Z",
          "start_time": "2021-06-19T04:11:03.358175Z"
        },
        "id": "Vpejl-rBoH1E"
      },
      "outputs": [],
      "source": [
        "# 루트\n"
      ]
    },
    {
      "cell_type": "code",
      "execution_count": null,
      "metadata": {
        "ExecuteTime": {
          "end_time": "2021-06-19T04:11:18.225586Z",
          "start_time": "2021-06-19T04:11:18.219116Z"
        },
        "id": "xxuVA704oH1E"
      },
      "outputs": [],
      "source": [
        "# exp\n"
      ]
    },
    {
      "cell_type": "code",
      "execution_count": null,
      "metadata": {
        "ExecuteTime": {
          "end_time": "2021-08-03T05:01:19.591520Z",
          "start_time": "2021-08-03T05:01:19.585551Z"
        },
        "id": "tEWTY9XwoH1E"
      },
      "outputs": [],
      "source": [
        "# 로그\n"
      ]
    },
    {
      "cell_type": "markdown",
      "metadata": {
        "id": "uUKd0O0roH1E"
      },
      "source": [
        "## 통계값"
      ]
    },
    {
      "cell_type": "code",
      "execution_count": null,
      "metadata": {
        "ExecuteTime": {
          "end_time": "2021-09-10T05:13:37.170636Z",
          "start_time": "2021-09-10T05:13:37.164700Z"
        },
        "id": "Wg9hM04woH1E"
      },
      "outputs": [],
      "source": [
        "test_list"
      ]
    },
    {
      "cell_type": "code",
      "execution_count": null,
      "metadata": {
        "ExecuteTime": {
          "end_time": "2021-09-10T05:13:30.853608Z",
          "start_time": "2021-09-10T05:13:30.844952Z"
        },
        "id": "a3QIEH_poH1E"
      },
      "outputs": [],
      "source": [
        "# 평균\n"
      ]
    },
    {
      "cell_type": "code",
      "execution_count": null,
      "metadata": {
        "ExecuteTime": {
          "end_time": "2021-09-10T05:13:56.366791Z",
          "start_time": "2021-09-10T05:13:56.358622Z"
        },
        "id": "a8p2E-hCoH1E"
      },
      "outputs": [],
      "source": [
        "# 표준편차\n"
      ]
    },
    {
      "cell_type": "code",
      "execution_count": null,
      "metadata": {
        "ExecuteTime": {
          "end_time": "2021-09-10T05:14:06.823565Z",
          "start_time": "2021-09-10T05:14:06.815675Z"
        },
        "id": "bAv3cb-soH1E"
      },
      "outputs": [],
      "source": [
        "# 분산\n"
      ]
    },
    {
      "cell_type": "code",
      "execution_count": null,
      "metadata": {
        "ExecuteTime": {
          "end_time": "2021-06-19T04:12:27.542508Z",
          "start_time": "2021-06-19T04:12:27.534606Z"
        },
        "id": "dZPsrZxHoH1E"
      },
      "outputs": [],
      "source": [
        "# 최대값\n"
      ]
    },
    {
      "cell_type": "code",
      "execution_count": null,
      "metadata": {
        "ExecuteTime": {
          "end_time": "2021-06-19T04:12:33.511575Z",
          "start_time": "2021-06-19T04:12:33.502964Z"
        },
        "id": "JBth-uNhoH1E"
      },
      "outputs": [],
      "source": [
        "# 최소값\n"
      ]
    },
    {
      "cell_type": "code",
      "execution_count": null,
      "metadata": {
        "ExecuteTime": {
          "end_time": "2021-09-10T05:15:23.830359Z",
          "start_time": "2021-09-10T05:15:23.823549Z"
        },
        "id": "uoutEXbVoH1E"
      },
      "outputs": [],
      "source": [
        "test_list_2nd"
      ]
    },
    {
      "cell_type": "code",
      "execution_count": null,
      "metadata": {
        "ExecuteTime": {
          "end_time": "2021-09-10T05:16:00.907914Z",
          "start_time": "2021-09-10T05:16:00.900907Z"
        },
        "id": "U88u-ztNoH1E"
      },
      "outputs": [],
      "source": [
        "# 자주 사용합니다.\n",
        "# 최대값 존재하고 있는 인덱스 넘버를 리턴\n",
        "# 출력값이 인덱스\n"
      ]
    },
    {
      "cell_type": "code",
      "execution_count": null,
      "metadata": {
        "ExecuteTime": {
          "end_time": "2021-09-10T05:17:31.475238Z",
          "start_time": "2021-09-10T05:17:31.468087Z"
        },
        "id": "8wiXsA78oH1E"
      },
      "outputs": [],
      "source": [
        "# 최소값 인덱스\n",
        "# argmax보다는 덜 쓰이지만 자주 보임\n"
      ]
    },
    {
      "cell_type": "code",
      "execution_count": null,
      "metadata": {
        "ExecuteTime": {
          "end_time": "2021-09-10T05:19:08.152130Z",
          "start_time": "2021-09-10T05:19:08.145038Z"
        },
        "id": "hjTlXb1SoH1E"
      },
      "outputs": [],
      "source": [
        "# 범위설정\n",
        "# (시작포인트, 마지막포인트 + 1, 스텝수)\n",
        "# range() 함수와 동일하게 작동함\n",
        "# for i in range(0, 100, 10):\n",
        "#     print(i)\n"
      ]
    },
    {
      "cell_type": "code",
      "execution_count": null,
      "metadata": {
        "ExecuteTime": {
          "end_time": "2021-09-10T05:21:51.287275Z",
          "start_time": "2021-09-10T05:21:51.279257Z"
        },
        "id": "5txrp1vDoH1E"
      },
      "outputs": [],
      "source": [
        "# 범위 데이터 생성\n",
        "# (시작포인트, 마지막포인트 + 1, 데이터갯수)\n"
      ]
    },
    {
      "cell_type": "code",
      "execution_count": null,
      "metadata": {
        "ExecuteTime": {
          "end_time": "2021-09-10T05:22:33.862908Z",
          "start_time": "2021-09-10T05:22:33.857150Z"
        },
        "id": "MVrirbOEoH1F"
      },
      "outputs": [],
      "source": [
        "test_nan"
      ]
    },
    {
      "cell_type": "code",
      "execution_count": null,
      "metadata": {
        "ExecuteTime": {
          "end_time": "2021-09-10T05:23:04.766328Z",
          "start_time": "2021-09-10T05:23:04.759827Z"
        },
        "id": "lNHvkkRKoH1F"
      },
      "outputs": [],
      "source": [
        "# 결측 확인\n"
      ]
    },
    {
      "cell_type": "code",
      "execution_count": null,
      "metadata": {
        "ExecuteTime": {
          "end_time": "2021-09-10T05:23:29.589356Z",
          "start_time": "2021-09-10T05:23:29.582563Z"
        },
        "id": "v9DqzwdToH1F"
      },
      "outputs": [],
      "source": [
        "# 발산 확인\n"
      ]
    },
    {
      "cell_type": "code",
      "execution_count": null,
      "metadata": {
        "ExecuteTime": {
          "end_time": "2021-09-10T05:24:04.892319Z",
          "start_time": "2021-09-10T05:24:04.886284Z"
        },
        "id": "YqQsnGx2oH1F"
      },
      "outputs": [],
      "source": [
        "test_list_3rd"
      ]
    },
    {
      "cell_type": "code",
      "execution_count": null,
      "metadata": {
        "ExecuteTime": {
          "end_time": "2021-09-10T05:25:09.938954Z",
          "start_time": "2021-09-10T05:25:09.929863Z"
        },
        "id": "jSUygTXxoH1F"
      },
      "outputs": [],
      "source": [
        "# 고유값 확인\n"
      ]
    },
    {
      "cell_type": "code",
      "execution_count": null,
      "metadata": {
        "ExecuteTime": {
          "end_time": "2021-09-10T05:25:42.923158Z",
          "start_time": "2021-09-10T05:25:42.911006Z"
        },
        "id": "9rNCzH3goH1F"
      },
      "outputs": [],
      "source": [
        "# 데이터 구조(모양)확인\n"
      ]
    },
    {
      "cell_type": "code",
      "execution_count": null,
      "metadata": {
        "ExecuteTime": {
          "end_time": "2021-09-10T05:28:35.937865Z",
          "start_time": "2021-09-10T05:28:35.931340Z"
        },
        "id": "FjmiSUw6oH1F"
      },
      "outputs": [],
      "source": [
        "# 데이터 shape 변경\n",
        "# 어떤 조건에서 reshape가능한가? 데이터 내부에 존재하는 속성 갯수가 같아야 함.\n"
      ]
    },
    {
      "cell_type": "code",
      "execution_count": null,
      "metadata": {
        "ExecuteTime": {
          "end_time": "2021-09-10T05:30:37.880633Z",
          "start_time": "2021-09-10T05:30:37.875952Z"
        },
        "id": "LXyzRqo4oH1F"
      },
      "outputs": [],
      "source": [
        "np.shape(test_list_3rd)"
      ]
    },
    {
      "cell_type": "code",
      "execution_count": null,
      "metadata": {
        "ExecuteTime": {
          "end_time": "2021-09-10T05:30:11.053839Z",
          "start_time": "2021-09-10T05:30:11.048323Z"
        },
        "id": "cenmXBIeoH1F"
      },
      "outputs": [],
      "source": [
        "# 데이터 차원확인\n",
        "# 데이터가 존재하는 축방향이 늘어나면 차원수도 늘어남\n",
        "# 기하학적 데이터의 차원수를 이야기하고\n",
        "# 데이터분석을 할 때는 열기준으로 차원을 이야기 합니다.\n"
      ]
    },
    {
      "cell_type": "code",
      "execution_count": null,
      "metadata": {
        "ExecuteTime": {
          "end_time": "2021-09-10T05:33:44.542351Z",
          "start_time": "2021-09-10T05:33:44.536058Z"
        },
        "id": "AXuxHIDgoH1F"
      },
      "outputs": [],
      "source": [
        "# 전치행렬\n"
      ]
    },
    {
      "cell_type": "markdown",
      "metadata": {
        "id": "9vSt6vSboH1F"
      },
      "source": [
        "## Numpy array (배열, 행렬)\n",
        "> - numpy 연산의 기본이 되는 데이터 구조입니다.  \n",
        "> - 리스트보다 간편하게 만들 수 있으며 **연산이 빠른** 장점이 있습니다.  \n",
        "> - **브로드캐스팅 연산을 지원**합니다.  \n",
        "> - 단, **같은 type**의 데이터만 저장 가능합니다.  \n",
        "> - array 또한 numpy의 기본 함수로서 생성 가능합니다.  \n",
        "\n",
        ">> array 함수 호출 기본구조  \n",
        "ex) **`np.array(배열변환 대상 데이터)`**  \n",
        "ex) **`np.arange(start, end, step_forward)`**"
      ]
    },
    {
      "cell_type": "markdown",
      "metadata": {
        "id": "UhR4JqrJoH1F"
      },
      "source": [
        "### numpy array 실습"
      ]
    },
    {
      "cell_type": "code",
      "execution_count": null,
      "metadata": {
        "ExecuteTime": {
          "end_time": "2021-09-10T05:38:17.188254Z",
          "start_time": "2021-09-10T05:38:17.183014Z"
        },
        "id": "lwttvdChoH1F"
      },
      "outputs": [],
      "source": [
        "# 기존 데이터 구조를 array로 변환\n",
        "test_array = np.array(test_list)\n",
        "test_array2 = np.array(test_list2)\n",
        "test_farray = np.array(test_flist)\n",
        "test_array_2nd = np.array(test_list_2nd)\n",
        "test_array_3rd = np.array(test_list_3rd)"
      ]
    },
    {
      "cell_type": "code",
      "execution_count": null,
      "metadata": {
        "ExecuteTime": {
          "end_time": "2021-09-10T05:38:47.055844Z",
          "start_time": "2021-09-10T05:38:47.051784Z"
        },
        "id": "bEFJ6ISToH1F"
      },
      "outputs": [],
      "source": [
        "# array 생성 확인\n"
      ]
    },
    {
      "cell_type": "code",
      "execution_count": null,
      "metadata": {
        "ExecuteTime": {
          "end_time": "2021-09-10T05:43:27.080879Z",
          "start_time": "2021-09-10T05:43:27.078172Z"
        },
        "id": "RpiWu_DDoH1F"
      },
      "outputs": [],
      "source": [
        "# 같은 타입의 데이터만 들어가는지 확인\n"
      ]
    },
    {
      "cell_type": "code",
      "execution_count": null,
      "metadata": {
        "ExecuteTime": {
          "end_time": "2021-09-10T05:44:09.302063Z",
          "start_time": "2021-09-10T05:44:09.295076Z"
        },
        "id": "195ALVzgoH1F"
      },
      "outputs": [],
      "source": [
        "# 2차원 배열 확인\n"
      ]
    },
    {
      "cell_type": "code",
      "execution_count": null,
      "metadata": {
        "ExecuteTime": {
          "end_time": "2021-09-10T05:44:55.643344Z",
          "start_time": "2021-09-10T05:44:55.637106Z"
        },
        "id": "JVTRr1qdoH1F"
      },
      "outputs": [],
      "source": [
        "# 3차원 배열 확인\n"
      ]
    },
    {
      "cell_type": "code",
      "execution_count": null,
      "metadata": {
        "ExecuteTime": {
          "end_time": "2021-09-10T05:47:06.371655Z",
          "start_time": "2021-09-10T05:47:06.367168Z"
        },
        "id": "qatgCuLAoH1F"
      },
      "outputs": [],
      "source": [
        "# np.arange 함수로 생성\n"
      ]
    },
    {
      "cell_type": "code",
      "execution_count": null,
      "metadata": {
        "ExecuteTime": {
          "end_time": "2021-09-10T05:57:45.735507Z",
          "start_time": "2021-09-10T05:57:45.730329Z"
        },
        "id": "uy9iEFbXoH1F"
      },
      "outputs": [],
      "source": [
        ""
      ]
    },
    {
      "cell_type": "markdown",
      "metadata": {
        "id": "0IqAUxp1oH1G"
      },
      "source": [
        "### 특수한 형태의 array를 함수로 생성\n",
        "함수 호출의 기본구조\n",
        "> ex) **`np.ones([자료구조 shape])`**  \n",
        "> 자료구조 shape은 정수, **[ ]**리스트, **( )** 튜플 로만 입력가능합니다.\n",
        "\n",
        ">> - ones()  \n",
        ">> - zeros()  \n",
        ">> - empty()  \n",
        ">> - eye()"
      ]
    },
    {
      "cell_type": "code",
      "execution_count": null,
      "metadata": {
        "ExecuteTime": {
          "end_time": "2021-09-10T06:03:35.147322Z",
          "start_time": "2021-09-10T06:03:35.141909Z"
        },
        "id": "swEN_3RpoH1G"
      },
      "outputs": [],
      "source": [
        "# 1로 초기화한 array 생성\n"
      ]
    },
    {
      "cell_type": "code",
      "execution_count": null,
      "metadata": {
        "ExecuteTime": {
          "end_time": "2021-09-10T06:04:05.457164Z",
          "start_time": "2021-09-10T06:04:05.451399Z"
        },
        "id": "zJJm0XrioH1G"
      },
      "outputs": [],
      "source": [
        "# 0으로 초기화\n"
      ]
    },
    {
      "cell_type": "code",
      "execution_count": null,
      "metadata": {
        "ExecuteTime": {
          "end_time": "2021-09-10T06:05:07.127161Z",
          "start_time": "2021-09-10T06:05:07.121604Z"
        },
        "id": "GE92g_IioH1G"
      },
      "outputs": [],
      "source": [
        "# 빈 값으로 초기화\n"
      ]
    },
    {
      "cell_type": "code",
      "execution_count": null,
      "metadata": {
        "ExecuteTime": {
          "end_time": "2021-09-10T06:11:41.461776Z",
          "start_time": "2021-09-10T06:11:41.455598Z"
        },
        "id": "lKW0qc7XoH1G"
      },
      "outputs": [],
      "source": [
        "# 항등행렬 초기화\n",
        "# 항등행렬의 수학적 의미는 항등행렬 X A = A\n",
        "# shape이 안맞는 경우 연산이 가능하도록 할 때\n"
      ]
    },
    {
      "cell_type": "markdown",
      "metadata": {
        "id": "Zugs9clCoH1G"
      },
      "source": [
        "### array 속성 및 내장함수\n",
        "`np.array` 에는 유용한 수리, 통계 연산을 위한 함수가 갖추어져 있습니다. 다차원 기하학적 연산을 위한 함수도 함께 살펴보겠습니다.  \n",
        "    \n",
        "> array 내장 속성 호출 기본구조  \n",
        "ex) **`test_array.ndim`**  \n",
        "자주 사용하는 속성 `shape`, `dtype`, `ndim`\n",
        "    \n",
        "> array 내장함수 호출 기본구조  \n",
        "ex) **`test_array.prod()`**\n",
        "    \n",
        "위에 학습한 np.sum() 과는 달리 array 변수의 인자를 받아 그대로 사용합니다."
      ]
    },
    {
      "cell_type": "markdown",
      "metadata": {
        "id": "nNdhLSOroH1G"
      },
      "source": [
        "#### array 속성"
      ]
    },
    {
      "cell_type": "code",
      "execution_count": null,
      "metadata": {
        "ExecuteTime": {
          "end_time": "2021-09-10T06:18:59.601375Z",
          "start_time": "2021-09-10T06:18:59.597286Z"
        },
        "id": "NEnv4quQoH1G"
      },
      "outputs": [],
      "source": [
        "# 데이터 타입확인\n"
      ]
    },
    {
      "cell_type": "code",
      "execution_count": null,
      "metadata": {
        "ExecuteTime": {
          "end_time": "2021-09-10T06:19:24.178008Z",
          "start_time": "2021-09-10T06:19:24.174611Z"
        },
        "id": "0y8t22HvoH1G"
      },
      "outputs": [],
      "source": [
        "# 데이터구조 확인\n",
        "# np.shape()\n"
      ]
    },
    {
      "cell_type": "code",
      "execution_count": null,
      "metadata": {
        "ExecuteTime": {
          "end_time": "2021-09-10T06:20:10.057116Z",
          "start_time": "2021-09-10T06:20:10.053090Z"
        },
        "id": "JXXX06u1oH1G"
      },
      "outputs": [],
      "source": [
        "# 데이터 차원 확인\n"
      ]
    },
    {
      "cell_type": "code",
      "execution_count": null,
      "metadata": {
        "ExecuteTime": {
          "end_time": "2021-09-10T06:29:16.069671Z",
          "start_time": "2021-09-10T06:29:16.064815Z"
        },
        "id": "q6KAzRodoH1G"
      },
      "outputs": [],
      "source": [
        "# 전치행렬\n"
      ]
    },
    {
      "cell_type": "markdown",
      "metadata": {
        "id": "HhTC6ao3oH1G"
      },
      "source": [
        "#### array 내장함수"
      ]
    },
    {
      "cell_type": "code",
      "execution_count": null,
      "metadata": {
        "ExecuteTime": {
          "end_time": "2021-09-10T06:30:44.690675Z",
          "start_time": "2021-09-10T06:30:44.686617Z"
        },
        "id": "ZSwwskjCoH1G"
      },
      "outputs": [],
      "source": [
        "test_array"
      ]
    },
    {
      "cell_type": "code",
      "execution_count": null,
      "metadata": {
        "ExecuteTime": {
          "end_time": "2021-09-10T06:33:07.374789Z",
          "start_time": "2021-09-10T06:33:07.369909Z"
        },
        "id": "jhjfX0FpoH1G"
      },
      "outputs": [],
      "source": [
        "# 내장함수 호출\n"
      ]
    },
    {
      "cell_type": "code",
      "execution_count": null,
      "metadata": {
        "id": "iQ2wBqScoH1G"
      },
      "outputs": [],
      "source": [
        "# numpy 함수와 키워드가 같습니다.\n"
      ]
    },
    {
      "cell_type": "markdown",
      "metadata": {
        "id": "xS1K6XhQoH1G"
      },
      "source": [
        "### array 연산\n",
        "컴퓨팅 연산을 위한 패키지인 만큼 편리한 배열 연산 기능을 지원합니다. 여러 array 연산을 통해 다른 자료구조와의 연산 차이를 알아봅시다."
      ]
    },
    {
      "cell_type": "code",
      "execution_count": null,
      "metadata": {
        "ExecuteTime": {
          "end_time": "2021-09-10T06:38:24.605844Z",
          "start_time": "2021-09-10T06:38:24.600219Z"
        },
        "id": "_rvzRIoCoH1G"
      },
      "outputs": [],
      "source": [
        "# 리스트연산 test\n"
      ]
    },
    {
      "cell_type": "code",
      "execution_count": null,
      "metadata": {
        "ExecuteTime": {
          "end_time": "2021-09-10T06:40:44.379763Z",
          "start_time": "2021-09-10T06:40:44.374980Z"
        },
        "id": "7cI0-o0ioH1G"
      },
      "outputs": [],
      "source": [
        "# array 덧셈, 뺄셈, 곱셈, 나눗셈\n"
      ]
    },
    {
      "cell_type": "code",
      "execution_count": null,
      "metadata": {
        "ExecuteTime": {
          "end_time": "2021-09-10T06:44:05.940243Z",
          "start_time": "2021-09-10T06:44:05.308490Z"
        },
        "id": "XoY0SLX9oH1G"
      },
      "outputs": [],
      "source": [
        "# 실제 연산속도 차이를 확인하기 위한 큰 데이터 생성\n"
      ]
    },
    {
      "cell_type": "code",
      "execution_count": null,
      "metadata": {
        "ExecuteTime": {
          "end_time": "2021-09-10T06:44:10.244421Z",
          "start_time": "2021-09-10T06:44:09.858402Z"
        },
        "id": "KIiirE9xoH1G"
      },
      "outputs": [],
      "source": [
        "%%time\n",
        "# 리스트연산테스트\n"
      ]
    },
    {
      "cell_type": "code",
      "execution_count": null,
      "metadata": {
        "ExecuteTime": {
          "end_time": "2021-09-10T06:44:12.755657Z",
          "start_time": "2021-09-10T06:44:12.650882Z"
        },
        "id": "xOojBdukoH1G"
      },
      "outputs": [],
      "source": [
        "%%time\n",
        "# array 연산테스트\n"
      ]
    },
    {
      "cell_type": "code",
      "execution_count": null,
      "metadata": {
        "ExecuteTime": {
          "end_time": "2021-09-10T07:02:49.091212Z",
          "start_time": "2021-09-10T07:02:49.088103Z"
        },
        "id": "Krw_6RcAoH1G"
      },
      "outputs": [],
      "source": [
        "# 행렬내적\n"
      ]
    },
    {
      "cell_type": "code",
      "execution_count": null,
      "metadata": {
        "ExecuteTime": {
          "end_time": "2021-09-10T07:03:55.213937Z",
          "start_time": "2021-09-10T07:03:55.206895Z"
        },
        "id": "fNXNBUqDoH1G"
      },
      "outputs": [],
      "source": [
        "# 행렬내적 연산\n"
      ]
    },
    {
      "cell_type": "markdown",
      "metadata": {
        "id": "4GtQ3toJoH1H"
      },
      "source": [
        "### 벡터 가중합\n",
        "벡터의 내적은 가중합을 계산할 때 쓰일 수 있습니다. **가중합(weighted sum)**이란 복수의 데이터를 단순히 합하는 것이 아니라 각각의 수에 어떤 가중치 값을 곱한 후 이 곱셈 결과들을 다시 합한 것을 말합니다.  \n",
        "데이터 벡터가 $x=[x_1, \\cdots, x_N]^T$이고 가중치 벡터가 $w=[w_1, \\cdots, w_N]^T$이면 데이터 벡터의 가중합은 다음과 같습니다.\n",
        "\n",
        "$$ \n",
        "\\begin{align}\n",
        "w_1 x_1 + \\cdots + w_N x_N = \\sum_{i=1}^N w_i x_i \n",
        "\\end{align}\n",
        "$$ \n",
        "\n",
        "이 값을 벡터 $x$와 $w$의 곱으로 나타내면 $w^Tx$ 또는 $x^Tw$ 라는 간단한 수식으로 표시할 수 있습니다.  \n",
        "쇼핑을 할 때 각 물건의 가격은 데이터 벡터, 각 물건의 수량은 가중치로 생각하여 내적을 구하면 총금액을 계산할 수 있습니다."
      ]
    },
    {
      "cell_type": "code",
      "execution_count": null,
      "metadata": {
        "ExecuteTime": {
          "end_time": "2021-09-10T07:15:59.162206Z",
          "start_time": "2021-09-10T07:15:59.157182Z"
        },
        "id": "viQ39c3EoH1H"
      },
      "outputs": [],
      "source": [
        "# 벡터의 가중합 연습문제\n",
        "# 삼성전자, 셀트리온, 카카오로 포트폴리오를 구성하려한다. \n",
        "# 각 종목의 가격은 80,000원, 270,000원, 160,000원이다.\n",
        "# 삼성전자 100주, 셀트리온 30주, 카카오 50주로 구성하기 위한 매수금액을 구하시오\n",
        "# (80000 * 100) + (270000 * 30) + (160000 * 50)\n"
      ]
    },
    {
      "cell_type": "markdown",
      "metadata": {
        "id": "B5QeJ6GqoH1H"
      },
      "source": [
        "## array 인덱싱, 슬라이싱(매우중요)\n",
        "> 기본적으로 자료구조란 데이터의 묶음, 그 묶음을 관리 할 수 있는 바구니를 이야기 합니다.  \n",
        "데이터 분석을 위해 자료구조를 사용하지만 자료구조안 내용에 접근을 해야 할 경우도 있습니다.\n",
        ">> **인덱싱**이란?  \n",
        "데이터 바구니 안에 든 내용 하나에 접근하는 명령, 인덱스는 내용의 순번  \n",
        ">> **슬라이싱**이란?  \n",
        "데이터 바구니 안에 든 내용 여러가지에 접근 하는 명령  \n",
        "\n",
        "기본적으로 인덱싱과 슬라이싱의 색인은 리스트와 동일합니다."
      ]
    },
    {
      "cell_type": "markdown",
      "metadata": {
        "id": "cReE-n4xoH1H"
      },
      "source": [
        "### 인덱싱, 슬라이싱 실습"
      ]
    },
    {
      "cell_type": "code",
      "execution_count": null,
      "metadata": {
        "ExecuteTime": {
          "end_time": "2021-09-10T07:37:56.003486Z",
          "start_time": "2021-09-10T07:37:55.999507Z"
        },
        "id": "p1sIeWhnoH1H"
      },
      "outputs": [],
      "source": [
        "# 10부터 19까지 범위를 가지는 array생성\n"
      ]
    },
    {
      "cell_type": "code",
      "execution_count": null,
      "metadata": {
        "ExecuteTime": {
          "end_time": "2021-09-10T07:41:45.003072Z",
          "start_time": "2021-09-10T07:41:44.999380Z"
        },
        "id": "6lyFxsp6oH1H"
      },
      "outputs": [],
      "source": [
        "# 0부터 3번 인덱스까지\n"
      ]
    },
    {
      "cell_type": "code",
      "execution_count": null,
      "metadata": {
        "ExecuteTime": {
          "end_time": "2021-09-10T07:41:52.010291Z",
          "start_time": "2021-09-10T07:41:52.005957Z"
        },
        "id": "4V20AoekoH1H"
      },
      "outputs": [],
      "source": [
        "# 4번 인덱스부터 마지막 인덱스까지\n"
      ]
    },
    {
      "cell_type": "code",
      "execution_count": null,
      "metadata": {
        "ExecuteTime": {
          "end_time": "2021-09-10T07:42:14.989703Z",
          "start_time": "2021-09-10T07:42:14.984451Z"
        },
        "id": "gG_alSFpoH1H"
      },
      "outputs": [],
      "source": [
        "# 마지막 인덱스부터 뒤에서 3번째 인덱스까지\n"
      ]
    },
    {
      "cell_type": "code",
      "execution_count": null,
      "metadata": {
        "ExecuteTime": {
          "end_time": "2021-09-10T07:42:30.002782Z",
          "start_time": "2021-09-10T07:42:29.997452Z"
        },
        "id": "HxdyJacKoH1H"
      },
      "outputs": [],
      "source": [
        "# 0부터 3씩 증가하는 인덱스\n"
      ]
    },
    {
      "cell_type": "markdown",
      "metadata": {
        "id": "bcreObKEoH1H"
      },
      "source": [
        "### 여러가지 인덱싱 및 슬라이싱 방법을 시도해봅시다"
      ]
    },
    {
      "cell_type": "code",
      "execution_count": null,
      "metadata": {
        "ExecuteTime": {
          "end_time": "2021-09-30T10:07:57.604703Z",
          "start_time": "2021-09-30T10:07:57.595285Z"
        },
        "id": "oREQiN1aoH1H",
        "outputId": "a9d979cf-7d73-44e7-a122-6fd79d34f74e"
      },
      "outputs": [
        {
          "data": {
            "text/plain": [
              "array([[ 0,  1,  2,  3,  4],\n",
              "       [ 5,  6,  7,  8,  9],\n",
              "       [10, 11, 12, 13, 14],\n",
              "       [15, 16, 17, 18, 19],\n",
              "       [20, 21, 22, 23, 24]])"
            ]
          },
          "execution_count": 2,
          "metadata": {},
          "output_type": "execute_result"
        }
      ],
      "source": [
        "# 인덱싱 테스트 array 생성\n",
        "index_test2 = np.array(range(25)).reshape([5, 5])\n",
        "index_test2"
      ]
    },
    {
      "cell_type": "code",
      "execution_count": null,
      "metadata": {
        "id": "8b6IjtKvoH1H"
      },
      "outputs": [],
      "source": [
        "# 아래 슬라이싱 결과와 같게 코드를 입력해보세요"
      ]
    },
    {
      "cell_type": "code",
      "execution_count": null,
      "metadata": {
        "ExecuteTime": {
          "end_time": "2021-09-30T10:07:59.655570Z",
          "start_time": "2021-09-30T10:07:59.651351Z"
        },
        "id": "88QwxJPPoH1H",
        "outputId": "6708d3d9-6bc0-47f9-fbfc-5a644bf61d3a"
      },
      "outputs": [
        {
          "data": {
            "text/plain": [
              "array([[11, 12, 13],\n",
              "       [16, 17, 18],\n",
              "       [21, 22, 23]])"
            ]
          },
          "execution_count": 3,
          "metadata": {},
          "output_type": "execute_result"
        }
      ],
      "source": [
        ""
      ]
    },
    {
      "cell_type": "code",
      "execution_count": null,
      "metadata": {
        "id": "ZNIyT89joH1H"
      },
      "outputs": [],
      "source": [
        "# 아래 슬라이싱 결과와 같게 코드를 입력해보세요"
      ]
    },
    {
      "cell_type": "code",
      "execution_count": null,
      "metadata": {
        "ExecuteTime": {
          "end_time": "2021-09-30T10:08:00.840089Z",
          "start_time": "2021-09-30T10:08:00.835731Z"
        },
        "id": "18N-vTCQoH1H",
        "outputId": "2c48e472-4d8a-4da8-e060-92f8115414fb"
      },
      "outputs": [
        {
          "data": {
            "text/plain": [
              "array([[2, 3, 4],\n",
              "       [7, 8, 9]])"
            ]
          },
          "execution_count": 4,
          "metadata": {},
          "output_type": "execute_result"
        }
      ],
      "source": [
        ""
      ]
    },
    {
      "cell_type": "code",
      "execution_count": null,
      "metadata": {
        "id": "Kw-Ivke8oH1I"
      },
      "outputs": [],
      "source": [
        "# 아래 슬라이싱 결과와 같게 코드를 입력해보세요"
      ]
    },
    {
      "cell_type": "code",
      "execution_count": null,
      "metadata": {
        "ExecuteTime": {
          "end_time": "2021-09-30T10:09:08.554090Z",
          "start_time": "2021-09-30T10:09:08.550075Z"
        },
        "id": "jv81N4TEoH1I",
        "outputId": "6bf2348b-a2ea-44cd-82d6-aea6efed7a63"
      },
      "outputs": [
        {
          "data": {
            "text/plain": [
              "array([ 1,  6, 11, 16, 21])"
            ]
          },
          "execution_count": 6,
          "metadata": {},
          "output_type": "execute_result"
        }
      ],
      "source": [
        ""
      ]
    },
    {
      "cell_type": "code",
      "execution_count": null,
      "metadata": {
        "ExecuteTime": {
          "end_time": "2021-09-30T10:09:24.117254Z",
          "start_time": "2021-09-30T10:09:24.112995Z"
        },
        "id": "DKZkOCY3oH1I",
        "outputId": "0d0558ee-947c-4614-8d8a-fe1a3569f4d5"
      },
      "outputs": [
        {
          "data": {
            "text/plain": [
              "array([[[ 0,  1,  2,  3],\n",
              "        [ 4,  5,  6,  7],\n",
              "        [ 8,  9, 10, 11],\n",
              "        [12, 13, 14, 15],\n",
              "        [16, 17, 18, 19]],\n",
              "\n",
              "       [[20, 21, 22, 23],\n",
              "        [24, 25, 26, 27],\n",
              "        [28, 29, 30, 31],\n",
              "        [32, 33, 34, 35],\n",
              "        [36, 37, 38, 39]]])"
            ]
          },
          "execution_count": 7,
          "metadata": {},
          "output_type": "execute_result"
        }
      ],
      "source": [
        "index_test3 = np.arange(40).reshape(2, 5, 4)\n",
        "index_test3"
      ]
    },
    {
      "cell_type": "code",
      "execution_count": null,
      "metadata": {
        "id": "wZNDShJ8oH1I"
      },
      "outputs": [],
      "source": [
        "# 아래 슬라이싱 결과와 같게 코드를 입력해보세요"
      ]
    },
    {
      "cell_type": "code",
      "execution_count": null,
      "metadata": {
        "ExecuteTime": {
          "end_time": "2021-09-30T10:09:27.573403Z",
          "start_time": "2021-09-30T10:09:27.568936Z"
        },
        "id": "wl4Q_TAboH1I",
        "outputId": "bca3e7e5-e10f-4a5d-a4d8-ae0dfa19ff22"
      },
      "outputs": [
        {
          "data": {
            "text/plain": [
              "array([[13, 14],\n",
              "       [17, 18]])"
            ]
          },
          "execution_count": 8,
          "metadata": {},
          "output_type": "execute_result"
        }
      ],
      "source": [
        ""
      ]
    },
    {
      "cell_type": "code",
      "execution_count": null,
      "metadata": {
        "id": "T494I2p7oH1I"
      },
      "outputs": [],
      "source": [
        "# 아래 슬라이싱 결과와 같게 코드를 입력해보세요"
      ]
    },
    {
      "cell_type": "code",
      "execution_count": null,
      "metadata": {
        "ExecuteTime": {
          "end_time": "2021-09-30T10:12:05.975572Z",
          "start_time": "2021-09-30T10:12:05.971208Z"
        },
        "id": "Kf3IbPb3oH1I",
        "outputId": "526b4827-0ff0-4549-fa14-04c048a4870b"
      },
      "outputs": [
        {
          "data": {
            "text/plain": [
              "array([[[ 8,  9, 10],\n",
              "        [12, 13, 14],\n",
              "        [16, 17, 18]],\n",
              "\n",
              "       [[28, 29, 30],\n",
              "        [32, 33, 34],\n",
              "        [36, 37, 38]]])"
            ]
          },
          "execution_count": 12,
          "metadata": {},
          "output_type": "execute_result"
        }
      ],
      "source": [
        ""
      ]
    },
    {
      "cell_type": "code",
      "execution_count": null,
      "metadata": {
        "id": "Vfi6olJEoH1I"
      },
      "outputs": [],
      "source": [
        "# 아래 슬라이싱 결과와 같게 코드를 입력해보세요"
      ]
    },
    {
      "cell_type": "code",
      "execution_count": null,
      "metadata": {
        "ExecuteTime": {
          "end_time": "2021-09-30T10:09:28.043744Z",
          "start_time": "2021-09-30T10:09:28.039181Z"
        },
        "id": "4affnoMloH1I",
        "outputId": "c4250f54-917b-49dc-b285-c8a9a03a715f"
      },
      "outputs": [
        {
          "data": {
            "text/plain": [
              "array([[ 1,  5,  9, 13, 17],\n",
              "       [21, 25, 29, 33, 37]])"
            ]
          },
          "execution_count": 9,
          "metadata": {},
          "output_type": "execute_result"
        }
      ],
      "source": [
        ""
      ]
    },
    {
      "cell_type": "markdown",
      "metadata": {
        "id": "LIa0yMY8oH1I"
      },
      "source": [
        "## 팬시인덱싱\n",
        "numpy에서 벡터연산을 통해 bool 형태의 벡터를 기준으로 데이터를 선별하는 방법"
      ]
    },
    {
      "cell_type": "code",
      "execution_count": null,
      "metadata": {
        "ExecuteTime": {
          "end_time": "2021-09-30T10:13:41.597329Z",
          "start_time": "2021-09-30T10:13:41.591382Z"
        },
        "id": "ldK_cs1voH1I",
        "outputId": "ecafba4d-c183-4924-9a00-864fb93d4335"
      },
      "outputs": [
        {
          "data": {
            "text/plain": [
              "array([[-0.87655047,  0.55287212, -1.22329249,  0.53230273,  1.06007179],\n",
              "       [-0.21831787, -0.29615533,  0.96977998,  0.37232531, -0.43324773],\n",
              "       [ 0.16334586,  0.44705092,  1.28762124, -0.86595101,  0.0247562 ],\n",
              "       [-1.18436252,  0.49544793,  0.18898468, -2.30499082,  0.1624554 ],\n",
              "       [ 0.80554653, -2.71359896, -0.50455748, -1.17437155, -1.02644625],\n",
              "       [-0.49753891,  0.62784511, -1.62567488,  0.0339107 ,  0.04971904]])"
            ]
          },
          "execution_count": 15,
          "metadata": {},
          "output_type": "execute_result"
        }
      ],
      "source": [
        "# 테스트 array 생성\n",
        "pet = np.array(['개', '고양이', '고양이', '햄스터', '개', '햄스터'])\n",
        "num = np.array([1, 2, 3, 4, 5, 6])\n",
        "indexing_test = np.random.randn(6, 5)\n",
        "indexing_test"
      ]
    },
    {
      "cell_type": "code",
      "execution_count": null,
      "metadata": {
        "ExecuteTime": {
          "end_time": "2021-09-10T08:21:25.026711Z",
          "start_time": "2021-09-10T08:21:25.021570Z"
        },
        "id": "VW49iEcjoH1I"
      },
      "outputs": [],
      "source": [
        "# num array 조건연산\n"
      ]
    },
    {
      "cell_type": "code",
      "execution_count": null,
      "metadata": {
        "id": "WlenjX1boH1I"
      },
      "outputs": [],
      "source": [
        "# pet array 조건연산\n"
      ]
    },
    {
      "cell_type": "code",
      "execution_count": null,
      "metadata": {
        "ExecuteTime": {
          "end_time": "2021-09-10T08:20:36.569910Z",
          "start_time": "2021-09-10T08:20:36.561863Z"
        },
        "id": "yDRgQuP1oH1I"
      },
      "outputs": [],
      "source": [
        "# 팬시인덱스 전달\n"
      ]
    },
    {
      "cell_type": "code",
      "execution_count": null,
      "metadata": {
        "ExecuteTime": {
          "end_time": "2021-09-10T08:22:57.622079Z",
          "start_time": "2021-09-10T08:22:57.617049Z"
        },
        "id": "IWE9fBxXoH1I"
      },
      "outputs": [],
      "source": [
        "# 조건연산 추가 sum, any, all\n",
        "\n",
        "\n"
      ]
    }
  ],
  "metadata": {
    "kernelspec": {
      "display_name": "Python 3 (ipykernel)",
      "language": "python",
      "name": "python3"
    },
    "language_info": {
      "codemirror_mode": {
        "name": "ipython",
        "version": 3
      },
      "file_extension": ".py",
      "mimetype": "text/x-python",
      "name": "python",
      "nbconvert_exporter": "python",
      "pygments_lexer": "ipython3",
      "version": "3.8.12"
    },
    "toc": {
      "base_numbering": 1,
      "nav_menu": {},
      "number_sections": true,
      "sideBar": true,
      "skip_h1_title": true,
      "title_cell": "Table of Contents",
      "title_sidebar": "Contents",
      "toc_cell": false,
      "toc_position": {},
      "toc_section_display": true,
      "toc_window_display": false
    },
    "varInspector": {
      "cols": {
        "lenName": 16,
        "lenType": 16,
        "lenVar": 40
      },
      "kernels_config": {
        "python": {
          "delete_cmd_postfix": "",
          "delete_cmd_prefix": "del ",
          "library": "var_list.py",
          "varRefreshCmd": "print(var_dic_list())"
        },
        "r": {
          "delete_cmd_postfix": ") ",
          "delete_cmd_prefix": "rm(",
          "library": "var_list.r",
          "varRefreshCmd": "cat(var_dic_list()) "
        }
      },
      "types_to_exclude": [
        "module",
        "function",
        "builtin_function_or_method",
        "instance",
        "_Feature"
      ],
      "window_display": false
    },
    "colab": {
      "name": "01_package_numpy.ipynb",
      "provenance": []
    }
  },
  "nbformat": 4,
  "nbformat_minor": 0
}